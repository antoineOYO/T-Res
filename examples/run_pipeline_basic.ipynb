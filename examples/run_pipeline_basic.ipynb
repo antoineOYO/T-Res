{
 "cells": [
  {
   "cell_type": "markdown",
   "metadata": {},
   "source": [
    "# My NER    "
   ]
  },
  {
   "cell_type": "code",
   "execution_count": 1,
   "metadata": {},
   "outputs": [],
   "source": [
    "import spacy\n",
    "from spacy.tokens import DocBin, Doc\n",
    "\n",
    "modelpath = '/home/antoine/Documents/GitHub/ner-spancat-edda/models/fr_spacy_custom_spancat_edda'\n",
    "spacy_model = spacy.load(modelpath)\n",
    "Doc.set_extension(\"metadata\", default={}, force=True)"
   ]
  },
  {
   "cell_type": "code",
   "execution_count": 2,
   "metadata": {},
   "outputs": [],
   "source": [
    "from transformers import PreTrainedModel, PretrainedConfig, Pipeline\n",
    "\n",
    "class CustomModel(PreTrainedModel):\n",
    "    def __init__(self, config: PretrainedConfig):\n",
    "        super().__init__(config)\n",
    "\n",
    "    def forward(self, inputs, **kwargs):\n",
    "        \n",
    "        spacydoc = spacy_model(inputs)\n",
    "        spacydict = dict(spacydoc._.metadata, **spacydoc.to_json())\n",
    "        return spacydict\n",
    "    \n",
    "class MyPipeline(Pipeline):\n",
    "    def _sanitize_parameters(self, **kwargs):\n",
    "        preprocess_kwargs = {}\n",
    "        if \"maybe_arg\" in kwargs:\n",
    "            preprocess_kwargs[\"maybe_arg\"] = kwargs[\"maybe_arg\"]\n",
    "        return preprocess_kwargs, {}, {}\n",
    "\n",
    "    def preprocess(self, inputs, maybe_arg=2):\n",
    "        return inputs\n",
    "\n",
    "    def _forward(self, model_inputs):\n",
    "        model_outputs = self.model.forward(model_inputs)\n",
    "        return model_outputs\n",
    "\n",
    "    def postprocess(self, model_outputs):\n",
    "        \"\"\"\n",
    "        transforms my dict into a list of dict :\n",
    "        [{'entity': 'O',\n",
    "        'score': 0.9999761581420898,\n",
    "        'word': 'A',\n",
    "        'start': 0,\n",
    "        'end': 1},\n",
    "        ... ,\n",
    "        {'entity': 'B-LOC',\n",
    "        'score': 0.9996446371078491,\n",
    "        'word': 'Sheffield',\n",
    "        'start': 74,\n",
    "        'end': 83},\n",
    "        {'entity': 'O',\n",
    "        'score': 0.9999758005142212,\n",
    "        'word': '.',\n",
    "        'start': 83,\n",
    "        'end': 84}]\n",
    "        \"\"\"\n",
    "        output_list = []\n",
    "        for span in model_outputs['spans']['sc']:\n",
    "            token = model_outputs['text'][span['start']:span['end']]\n",
    "            \n",
    "            # remove leading lowercase characters, symbols and spaces\n",
    "            shift = 0\n",
    "            if span['label'] == 'NP-Spatial':\n",
    "                while token[0].islower() or not token[0].isalpha() or token[0] == ' ':\n",
    "                    token = token[1:]\n",
    "                    shift += 1\n",
    "                span_dict = {'entity': 'B-LOC',\n",
    "                            'score': 1,\n",
    "                            'word': token,\n",
    "                            'start': span['start'] + shift,\n",
    "                            'end': span['end']\n",
    "                            }\n",
    "                output_list.append(span_dict)\n",
    "        return output_list"
   ]
  },
  {
   "cell_type": "code",
   "execution_count": 3,
   "metadata": {},
   "outputs": [
    {
     "data": {
      "text/plain": [
       "[{'entity': 'B-LOC', 'score': 1, 'word': 'France', 'start': 25, 'end': 31},\n",
       " {'entity': 'B-LOC', 'score': 1, 'word': 'Albigeois', 'start': 47, 'end': 56},\n",
       " {'entity': 'B-LOC', 'score': 1, 'word': 'Tarn', 'start': 99, 'end': 103},\n",
       " {'entity': 'B-LOC', 'score': 1, 'word': 'Languedoc', 'start': 71, 'end': 80}]"
      ]
     },
     "execution_count": 3,
     "metadata": {},
     "output_type": "execute_result"
    }
   ],
   "source": [
    "my_ner_model = CustomModel(config = PretrainedConfig())  \n",
    "my_ner_pipeline = MyPipeline(model=my_ner_model)  # Using the custom model as a placeholder\n",
    "sentence = \"* ALBI, (Géog.) ville de France, capitale de l'Albigeois, dans le haut Languedoc : elle est sur le Tarn. Long. 19. 49. lat. 43. 55. 44.\"\n",
    "result = my_ner_pipeline(sentence)\n",
    "result\n"
   ]
  },
  {
   "attachments": {},
   "cell_type": "markdown",
   "metadata": {},
   "source": [
    "# Basic T-Res pipeline\n",
    "\n",
    "An example of how to run the basic pipeline (with default values)."
   ]
  },
  {
   "cell_type": "code",
   "execution_count": 73,
   "metadata": {},
   "outputs": [],
   "source": [
    "import os\n",
    "import sys\n",
    "\n",
    "from t_res.geoparser import pipeline"
   ]
  },
  {
   "attachments": {},
   "cell_type": "markdown",
   "metadata": {},
   "source": [
    "Once the `pipeline` script has been imported (in the previous cell), we create a new object of the `Pipeline` class. Since we don't pass any parameters, it will take all the default values: it will detect toponyms using `Livingwithmachines/toponym-19thC-en` NER model, it will find candidates using the perfect match approach, and will disambiguate them using the most popular approach. You can see the default `Pipeline` values [here](https://living-with-machines.github.io/T-Res/reference/geoparser/pipeline.html)."
   ]
  },
  {
   "cell_type": "code",
   "execution_count": 7,
   "metadata": {},
   "outputs": [
    {
     "name": "stdout",
     "output_type": "stream",
     "text": [
      "*** Creating and loading a NER pipeline.\n",
      "*** Loading the ranker resources.\n",
      "*** Load linking resources.\n",
      "  > Loading mentions to wikidata mapping.\n",
      "  > Loading gazetteer.\n",
      "*** Linking resources loaded!\n",
      "\n"
     ]
    }
   ],
   "source": [
    "geoparser = pipeline.Pipeline(resources_path=\"../resources/\")"
   ]
  },
  {
   "cell_type": "markdown",
   "metadata": {},
   "source": [
    "### Using the pipeline: end-to-end"
   ]
  },
  {
   "attachments": {},
   "cell_type": "markdown",
   "metadata": {},
   "source": [
    "The pipeline can take either a sentence (`run_sentence`) or a document (`run_text`). If the latter, the text is split into sentences using the `sentence-splitter` library. See an example of how to run each:"
   ]
  },
  {
   "cell_type": "code",
   "execution_count": 8,
   "metadata": {},
   "outputs": [
    {
     "data": {
      "text/plain": [
       "[{'mention': 'Valence',\n",
       "  'ner_score': 1.0,\n",
       "  'pos': 12,\n",
       "  'sent_idx': 0,\n",
       "  'end_pos': 19,\n",
       "  'tag': 'LOC',\n",
       "  'sentence': 'The city of Valence.',\n",
       "  'prediction': 'Q8848',\n",
       "  'ed_score': 0.876,\n",
       "  'string_match_score': {'Valence': (1.0,\n",
       "    ['Q8818',\n",
       "     'Q2875976',\n",
       "     'Q8848',\n",
       "     'Q2052261',\n",
       "     'Q1467944',\n",
       "     'Q1361868',\n",
       "     'Q3097931',\n",
       "     'Q702697',\n",
       "     'Q495485'])},\n",
       "  'prior_cand_score': {},\n",
       "  'cross_cand_score': {'Q8848': 0.876,\n",
       "   'Q1467944': 0.053,\n",
       "   'Q1361868': 0.046,\n",
       "   'Q702697': 0.007,\n",
       "   'Q2052261': 0.005,\n",
       "   'Q3097931': 0.005,\n",
       "   'Q8818': 0.002},\n",
       "  'latlon': [44.9325, 4.890833],\n",
       "  'wkdt_class': 'Q484170'}]"
      ]
     },
     "execution_count": 8,
     "metadata": {},
     "output_type": "execute_result"
    }
   ],
   "source": [
    "resolved = geoparser.run_text(\" The city of Valence.\")\n",
    "resolved"
   ]
  },
  {
   "cell_type": "code",
   "execution_count": 9,
   "metadata": {},
   "outputs": [
    {
     "data": {
      "text/plain": [
       "[{'mention': 'Sheffield',\n",
       "  'ner_score': 1.0,\n",
       "  'pos': 74,\n",
       "  'sent_idx': 0,\n",
       "  'end_pos': 83,\n",
       "  'tag': 'LOC',\n",
       "  'sentence': 'A remarkable case of rattening has just occurred in the building trade at Sheffield.',\n",
       "  'prediction': 'Q42448',\n",
       "  'ed_score': 0.896,\n",
       "  'string_match_score': {'Sheffield': (1.0,\n",
       "    ['Q6707254',\n",
       "     'Q823917',\n",
       "     'Q5953687',\n",
       "     'Q7492778',\n",
       "     'Q1421317',\n",
       "     'Q7492594',\n",
       "     'Q897533',\n",
       "     'Q42448',\n",
       "     'Q7492565',\n",
       "     'Q1862179',\n",
       "     'Q4834926',\n",
       "     'Q17643392',\n",
       "     'Q7492570',\n",
       "     'Q1950928',\n",
       "     'Q2277715',\n",
       "     'Q79568',\n",
       "     'Q518864',\n",
       "     'Q7492591',\n",
       "     'Q2306176',\n",
       "     'Q7492775',\n",
       "     'Q741640',\n",
       "     'Q7492686',\n",
       "     'Q3577611',\n",
       "     'Q12956644',\n",
       "     'Q547824',\n",
       "     'Q7684835',\n",
       "     'Q3365926',\n",
       "     'Q7492719',\n",
       "     'Q7492566',\n",
       "     'Q7492567',\n",
       "     'Q4523493',\n",
       "     'Q3028626',\n",
       "     'Q7492607',\n",
       "     'Q7492568',\n",
       "     'Q1984238',\n",
       "     'Q1184547',\n",
       "     'Q925542',\n",
       "     'Q4664093',\n",
       "     'Q2892594',\n",
       "     'Q1916592',\n",
       "     'Q371969',\n",
       "     'Q1141915',\n",
       "     'Q6986914',\n",
       "     'Q7114883',\n",
       "     'Q1915446',\n",
       "     'Q5224096',\n",
       "     'Q7492766',\n",
       "     'Q15277074',\n",
       "     'Q4065168',\n",
       "     'Q1548891',\n",
       "     'Q7492772',\n",
       "     'Q977409',\n",
       "     'Q1752117',\n",
       "     'Q7492586',\n",
       "     'Q5035049',\n",
       "     'Q108940076'])},\n",
       "  'prior_cand_score': {},\n",
       "  'cross_cand_score': {'Q42448': 0.896,\n",
       "   'Q1862179': 0.025,\n",
       "   'Q823917': 0.013,\n",
       "   'Q2306176': 0.008,\n",
       "   'Q2277715': 0.006,\n",
       "   'Q79568': 0.005,\n",
       "   'Q7492778': 0.003},\n",
       "  'latlon': [53.380833, -1.470278],\n",
       "  'wkdt_class': 'Q515'}]"
      ]
     },
     "execution_count": 9,
     "metadata": {},
     "output_type": "execute_result"
    }
   ],
   "source": [
    "resolved = geoparser.run_sentence(\"A remarkable case of rattening has just occurred in the building trade at Sheffield.\")\n",
    "resolved"
   ]
  },
  {
   "cell_type": "markdown",
   "metadata": {},
   "source": [
    "### Using the pipeline: step-wise"
   ]
  },
  {
   "cell_type": "markdown",
   "metadata": {},
   "source": [
    "Instead of using the end-to-end pipeline, the pipeline can be used step-wise.\n",
    "\n",
    "Therefore, it can be used to just perform toponym recognition (i.e. NER):"
   ]
  },
  {
   "cell_type": "code",
   "execution_count": 11,
   "metadata": {},
   "outputs": [
    {
     "data": {
      "text/plain": [
       "[{'mention': 'London',\n",
       "  'context': ['', ''],\n",
       "  'candidates': [],\n",
       "  'gold': ['NONE'],\n",
       "  'ner_score': 0.951,\n",
       "  'pos': 27,\n",
       "  'sent_idx': 0,\n",
       "  'end_pos': 33,\n",
       "  'ngram': 'London',\n",
       "  'conf_md': 0.951,\n",
       "  'tag': 'LOC',\n",
       "  'sentence': 'A remarkable case, like in London, of rattening has just occurred in the building trade at Sheffield.',\n",
       "  'place': '',\n",
       "  'place_wqid': ''},\n",
       " {'mention': 'Sheffield',\n",
       "  'context': ['', ''],\n",
       "  'candidates': [],\n",
       "  'gold': ['NONE'],\n",
       "  'ner_score': 1.0,\n",
       "  'pos': 91,\n",
       "  'sent_idx': 0,\n",
       "  'end_pos': 100,\n",
       "  'ngram': 'Sheffield',\n",
       "  'conf_md': 1.0,\n",
       "  'tag': 'LOC',\n",
       "  'sentence': 'A remarkable case, like in London, of rattening has just occurred in the building trade at Sheffield.',\n",
       "  'place': '',\n",
       "  'place_wqid': ''}]"
      ]
     },
     "execution_count": 11,
     "metadata": {},
     "output_type": "execute_result"
    }
   ],
   "source": [
    "mentions = geoparser.run_text_recognition(\"A remarkable case, like in London, of rattening has just occurred in the building trade at Sheffield.\")\n",
    "mentions"
   ]
  },
  {
   "cell_type": "markdown",
   "metadata": {},
   "source": [
    "The pipeline can then be used to just perform candidate selection given the output of NER:"
   ]
  },
  {
   "cell_type": "code",
   "execution_count": 60,
   "metadata": {},
   "outputs": [
    {
     "data": {
      "text/plain": [
       "{'Sheffield': {'Sheffield': {'Score': 1.0,\n",
       "   'Candidates': {'Q6707254': 0.038461538461538464,\n",
       "    'Q823917': 0.04389027431421446,\n",
       "    'Q5953687': 0.25,\n",
       "    'Q7492778': 0.21153846153846156,\n",
       "    'Q1421317': 0.044117647058823525,\n",
       "    'Q7492594': 0.05,\n",
       "    'Q897533': 0.026007802340702213,\n",
       "    'Q42448': 0.9632482747552559,\n",
       "    'Q7492565': 0.7058823529411764,\n",
       "    'Q1862179': 0.6057347670250897,\n",
       "    'Q4834926': 0.043478260869565216,\n",
       "    'Q17643392': 0.047619047619047616,\n",
       "    'Q7492570': 0.7391304347826086,\n",
       "    'Q1950928': 0.6666666666666666,\n",
       "    'Q2277715': 0.7636363636363636,\n",
       "    'Q79568': 0.2857142857142857,\n",
       "    'Q518864': 0.6551724137931034,\n",
       "    'Q7492591': 0.20454545454545456,\n",
       "    'Q2306176': 0.3943661971830986,\n",
       "    'Q7492775': 0.125,\n",
       "    'Q741640': 0.16666666666666666,\n",
       "    'Q7492686': 0.25,\n",
       "    'Q3577611': 0.1,\n",
       "    'Q12956644': 0.22988505747126436,\n",
       "    'Q547824': 0.09090909090909091,\n",
       "    'Q7684835': 0.1,\n",
       "    'Q3365926': 0.47058823529411764,\n",
       "    'Q7492719': 0.125,\n",
       "    'Q7492566': 0.6071428571428571,\n",
       "    'Q7492567': 1.0,\n",
       "    'Q4523493': 0.07692307692307693,\n",
       "    'Q3028626': 0.07792207792207792,\n",
       "    'Q7492607': 0.007142857142857143,\n",
       "    'Q7492568': 1.0,\n",
       "    'Q1984238': 0.4482758620689655,\n",
       "    'Q1184547': 0.6818181818181819,\n",
       "    'Q925542': 0.2,\n",
       "    'Q4664093': 0.09523809523809523,\n",
       "    'Q2892594': 0.015151515151515152,\n",
       "    'Q1916592': 0.6666666666666666,\n",
       "    'Q371969': 0.058823529411764705,\n",
       "    'Q1141915': 0.0035842293906810036,\n",
       "    'Q6986914': 0.14285714285714285,\n",
       "    'Q7114883': 0.12631578947368421,\n",
       "    'Q1915446': 0.011363636363636364,\n",
       "    'Q5224096': 0.0625,\n",
       "    'Q7492766': 0.08333333333333333,\n",
       "    'Q15277074': 0.36666666666666664,\n",
       "    'Q4065168': 0.007518796992481203,\n",
       "    'Q1548891': 0.011049723756906077,\n",
       "    'Q7492772': 0.1111111111111111,\n",
       "    'Q977409': 0.07142857142857142,\n",
       "    'Q1752117': 0.004123711340206186,\n",
       "    'Q7492586': 0.08333333333333333,\n",
       "    'Q5035049': 0.043478260869565216,\n",
       "    'Q108940076': 0.75}}},\n",
       " 'London': {'London': {'Score': 1.0,\n",
       "   'Candidates': {'Q8680': 0.00019436345966958212,\n",
       "    'Q6900329': 0.004313725490196078,\n",
       "    'Q179876': 0.0006662225183211193,\n",
       "    'Q145': 3.890293717175647e-05,\n",
       "    'Q123885': 0.0008963786303334529,\n",
       "    'Q220198': 0.001451378809869376,\n",
       "    'Q309388': 0.0016611295681063123,\n",
       "    'Q734547': 0.0008090614886731392,\n",
       "    'Q1394500': 0.0022675736961451248,\n",
       "    'Q84': 0.9763323684658607,\n",
       "    'Q270920': 0.0003418219107844813,\n",
       "    'Q338466': 0.2040816326530612,\n",
       "    'Q92561': 0.31265597147950086,\n",
       "    'Q192988': 0.0019801980198019802,\n",
       "    'Q30822': 0.017241379310344827,\n",
       "    'Q87910176': 0.14285714285714285,\n",
       "    'Q927198': 0.018796992481203006,\n",
       "    'Q8577': 0.0036914860194784795,\n",
       "    'Q269902': 0.02702702702702703,\n",
       "    'Q2733342': 0.003215434083601286,\n",
       "    'Q736742': 0.0008257638315441783,\n",
       "    'Q8111': 0.0014851485148514852,\n",
       "    'Q185262': 0.0049261083743842365,\n",
       "    'Q2914560': 0.0029940119760479044,\n",
       "    'Q6373': 0.00029607698001480384,\n",
       "    'Q1359589': 0.004664513814137065,\n",
       "    'Q358834': 0.00030609121518212427,\n",
       "    'Q180788': 0.0005235602094240838,\n",
       "    'Q835031': 0.02127659574468085,\n",
       "    'Q194209': 0.015873015873015872,\n",
       "    'Q460735': 0.0015360983102918587,\n",
       "    'Q2734390': 0.0033500837520938024,\n",
       "    'Q511108': 0.00032938076416337287,\n",
       "    'Q12252353': 0.018018018018018018,\n",
       "    'Q1584160': 0.001142857142857143,\n",
       "    'Q171240': 0.011840688912809474,\n",
       "    'Q674773': 0.002560819462227913,\n",
       "    'Q211': 0.0001015950421619425,\n",
       "    'Q5364202': 0.001713796058269066,\n",
       "    'Q16003969': 0.0008449514152936206,\n",
       "    'Q55018': 0.001098901098901099,\n",
       "    'Q270263': 0.004329004329004329,\n",
       "    'Q1001456': 0.48672566371681414,\n",
       "    'Q2354215': 0.012369172216936251,\n",
       "    'Q733210': 0.010526315789473684,\n",
       "    'Q278054': 0.16666666666666666,\n",
       "    'Q1137312': 0.12302284710017573,\n",
       "    'Q1988417': 0.0510204081632653,\n",
       "    'Q20075': 0.0056002800140007,\n",
       "    'Q245247': 0.0002092487968194183,\n",
       "    'Q951830': 0.006339144215530904,\n",
       "    'Q23308': 0.0003170577045022194,\n",
       "    'Q8703': 0.0041279669762641896,\n",
       "    'Q1568472': 0.058823529411764705,\n",
       "    'Q208152': 0.002628120893561104,\n",
       "    'Q2716505': 0.004424778761061947,\n",
       "    'Q123738': 0.0013540961408259986,\n",
       "    'Q205679': 0.0009813542688910696,\n",
       "    'Q42182': 0.0003785011355034065,\n",
       "    'Q2422792': 0.024793388429752067,\n",
       "    'Q743535': 0.001452081316553727,\n",
       "    'Q193196': 0.00043642711667151585,\n",
       "    'Q170027': 0.018974090552211463,\n",
       "    'Q729177': 0.06818181818181818,\n",
       "    'Q795691': 0.007308160779537149,\n",
       "    'Q146436': 0.00980392156862745,\n",
       "    'Q148349': 0.0008741258741258741,\n",
       "    'Q795678': 0.015625,\n",
       "    'Q4093': 6.223162611239032e-05,\n",
       "    'Q124000': 0.005025125628140704,\n",
       "    'Q985210': 0.008955223880597015,\n",
       "    'Q279459': 0.13559322033898305,\n",
       "    'Q23311': 0.032982598138405504,\n",
       "    'Q60578265': 0.08333333333333333,\n",
       "    'Q29001838': 0.014492753623188406,\n",
       "    'Q130206': 0.006134969325153374,\n",
       "    'Q800751': 0.028785982478097622,\n",
       "    'Q214788': 0.024757804090419805,\n",
       "    'Q1488404': 0.026086956521739132,\n",
       "    'Q14946379': 0.12100456621004566,\n",
       "    'Q2477346': 0.8235294117647058,\n",
       "    'Q3061911': 0.48026315789473684,\n",
       "    'Q6670323': 0.09375,\n",
       "    'Q8691': 0.024242424242424242,\n",
       "    'Q1545354': 0.4090909090909091,\n",
       "    'Q578794': 0.03323262839879154,\n",
       "    'Q1415441': 0.005319148936170213,\n",
       "    'Q6669759': 1.0,\n",
       "    'Q219867': 0.03595206391478029,\n",
       "    'Q7242790': 0.03418803418803419,\n",
       "    'Q216185': 0.0014124293785310734,\n",
       "    'Q2018322': 0.029850746268656716,\n",
       "    'Q23306': 0.04306864064602961,\n",
       "    'Q1449564': 0.75,\n",
       "    'Q14710970': 0.7142857142857142,\n",
       "    'Q503516': 0.016666666666666666,\n",
       "    'Q801124': 0.01891891891891892,\n",
       "    'Q8982': 0.0038022813688212928,\n",
       "    'Q22059065': 1.0,\n",
       "    'Q8712': 0.006060606060606061,\n",
       "    'Q20657974': 1.0,\n",
       "    'Q565521': 0.006060606060606061,\n",
       "    'Q238587': 0.0005159958720330237,\n",
       "    'Q122744': 0.002544529262086514,\n",
       "    'Q15179170': 0.045454545454545456,\n",
       "    'Q10818': 0.01866251944012442,\n",
       "    'Q649419': 0.0125,\n",
       "    'Q15242653': 0.02631578947368421,\n",
       "    'Q6669738': 0.75,\n",
       "    'Q756819': 0.0010869565217391304,\n",
       "    'Q7443327': 0.038461538461538464,\n",
       "    'Q720102': 0.021601016518424398,\n",
       "    'Q5645763': 0.10526315789473684,\n",
       "    'Q1399178': 0.030303030303030304,\n",
       "    'Q7737135': 0.1,\n",
       "    'Q4834838': 0.0025188916876574307,\n",
       "    'Q17509255': 0.029411764705882353,\n",
       "    'Q800753': 0.005847953216374269,\n",
       "    'Q6671078': 0.11475409836065574,\n",
       "    'Q186309': 0.0024752475247524753,\n",
       "    'Q212883': 0.03225806451612903,\n",
       "    'Q195436': 0.001148105625717566,\n",
       "    'Q5038252': 0.14285714285714285,\n",
       "    'Q83609': 0.0024875621890547263,\n",
       "    'Q79348': 0.7777777777777777,\n",
       "    'Q4801470': 0.0049504950495049506,\n",
       "    'Q124234': 0.013157894736842105,\n",
       "    'Q23298': 0.00018800526414739614,\n",
       "    'Q1431914': 0.0029850746268656717,\n",
       "    'Q1323689': 0.03403863845446182,\n",
       "    'Q7594521': 0.09090909090909091,\n",
       "    'Q26888': 0.0044943820224719105,\n",
       "    'Q8709': 0.005309734513274336,\n",
       "    'Q1402606': 0.03571428571428571,\n",
       "    'Q801125': 0.003003003003003003,\n",
       "    'Q6669870': 0.014814814814814815,\n",
       "    'Q1666958': 0.017241379310344827,\n",
       "    'Q5011830': 0.07692307692307693,\n",
       "    'Q772421': 0.005154639175257732,\n",
       "    'Q2602736': 0.02666666666666667,\n",
       "    'Q1241240': 0.009933774834437087,\n",
       "    'Q5209252': 0.15384615384615385,\n",
       "    'Q797085': 0.009009009009009009,\n",
       "    'Q5633181': 0.6000000000000001,\n",
       "    'Q1481050': 0.0019193857965451055,\n",
       "    'Q6670230': 0.005494505494505495,\n",
       "    'Q4592132': 0.003003003003003003,\n",
       "    'Q7012708': 0.034482758620689655,\n",
       "    'Q7997338': 0.08333333333333333,\n",
       "    'Q220144': 0.0011918951132300357,\n",
       "    'Q1869055': 0.07692307692307693,\n",
       "    'Q730706': 0.0020876826722338203,\n",
       "    'Q128468': 0.000233590282644242,\n",
       "    'Q6084925': 0.1,\n",
       "    'Q23891196': 0.5,\n",
       "    'Q6670725': 0.02803738317757009,\n",
       "    'Q213560': 0.0023752969121140144,\n",
       "    'Q15378797': 0.045454545454545456,\n",
       "    'Q378991': 0.0034129692832764505,\n",
       "    'Q169101': 0.0020898641588296763,\n",
       "    'Q5370437': 0.041666666666666664,\n",
       "    'Q284091': 0.005376344086021506,\n",
       "    'Q189960': 0.001214574898785425,\n",
       "    'Q768935': 0.025,\n",
       "    'Q6670747': 0.010526315789473684,\n",
       "    'Q1861679': 0.16666666666666666,\n",
       "    'Q202059': 0.0022988505747126436,\n",
       "    'Q7308066': 0.010309278350515464,\n",
       "    'Q106119': 0.0031645569620253164,\n",
       "    'Q5602825': 0.1,\n",
       "    'Q6670816': 0.125,\n",
       "    'Q1786933': 0.004830917874396135,\n",
       "    'Q6669869': 0.037037037037037035,\n",
       "    'Q318043': 0.0020920502092050207,\n",
       "    'Q55074091': 0.005208333333333333,\n",
       "    'Q28136122': 0.5,\n",
       "    'Q30119692': 0.03896103896103896,\n",
       "    'Q683076': 0.003484320557491289,\n",
       "    'Q6670546': 0.08333333333333333,\n",
       "    'Q801128': 0.003125,\n",
       "    'Q6669736': 0.6666666666666666,\n",
       "    'Q33974': 0.005208333333333333,\n",
       "    'Q1093950': 0.012048192771084338,\n",
       "    'Q867663': 0.038461538461538464,\n",
       "    'Q4120330': 0.0033783783783783786,\n",
       "    'Q14996965': 0.015625,\n",
       "    'Q383434': 0.000727802037845706,\n",
       "    'Q786032': 0.003816793893129771,\n",
       "    'Q1372700': 0.003952569169960474,\n",
       "    'Q7594071': 0.02,\n",
       "    'Q1333411': 0.016129032258064516,\n",
       "    'Q7374421': 0.004219409282700422,\n",
       "    'Q6670807': 0.2,\n",
       "    'Q1126189': 0.002824858757062147,\n",
       "    'Q23000866': 0.125,\n",
       "    'Q2361392': 0.002849002849002849,\n",
       "    'Q16733625': 0.041666666666666664,\n",
       "    'Q1429312': 0.0038022813688212928,\n",
       "    'Q6696010': 0.014285714285714285,\n",
       "    'Q16843032': 0.03225806451612903,\n",
       "    'Q16991744': 0.16666666666666666,\n",
       "    'Q385471': 0.001349527665317139,\n",
       "    'Q15623567': 0.04,\n",
       "    'Q933416': 0.01694915254237288,\n",
       "    'Q19987290': 0.2,\n",
       "    'Q1749569': 0.14285714285714285,\n",
       "    'Q586353': 0.7692307692307693}}}}"
      ]
     },
     "execution_count": 60,
     "metadata": {},
     "output_type": "execute_result"
    }
   ],
   "source": [
    "candidates = geoparser.run_candidate_selection(mentions)\n",
    "candidates"
   ]
  },
  {
   "cell_type": "markdown",
   "metadata": {},
   "source": [
    "And finally, the pipeline can be used to perform entity disambiguation, given the output from the previous two steps:"
   ]
  },
  {
   "cell_type": "code",
   "execution_count": 16,
   "metadata": {},
   "outputs": [
    {
     "name": "stdout",
     "output_type": "stream",
     "text": [
      "[{'mention': 'Sheffield', 'ner_score': 1.0, 'pos': 74, 'sent_idx': 0, 'end_pos': 83, 'tag': 'LOC', 'sentence': 'A remarkable case of rattening has just occurred in the building trade at Sheffield.', 'prediction': 'Q42448', 'ed_score': 0.896, 'string_match_score': {'Sheffield': (1.0, ['Q6707254', 'Q823917', 'Q5953687', 'Q7492778', 'Q1421317', 'Q7492594', 'Q897533', 'Q42448', 'Q7492565', 'Q1862179', 'Q4834926', 'Q17643392', 'Q7492570', 'Q1950928', 'Q2277715', 'Q79568', 'Q518864', 'Q7492591', 'Q2306176', 'Q7492775', 'Q741640', 'Q7492686', 'Q3577611', 'Q12956644', 'Q547824', 'Q7684835', 'Q3365926', 'Q7492719', 'Q7492566', 'Q7492567', 'Q4523493', 'Q3028626', 'Q7492607', 'Q7492568', 'Q1984238', 'Q1184547', 'Q925542', 'Q4664093', 'Q2892594', 'Q1916592', 'Q371969', 'Q1141915', 'Q6986914', 'Q7114883', 'Q1915446', 'Q5224096', 'Q7492766', 'Q15277074', 'Q4065168', 'Q1548891', 'Q7492772', 'Q977409', 'Q1752117', 'Q7492586', 'Q5035049', 'Q108940076'])}, 'prior_cand_score': {}, 'cross_cand_score': {'Q42448': 0.896, 'Q1862179': 0.025, 'Q823917': 0.013, 'Q2306176': 0.008, 'Q2277715': 0.006, 'Q79568': 0.005, 'Q7492778': 0.003}, 'latlon': [53.380833, -1.470278], 'wkdt_class': 'Q515'}]\n"
     ]
    }
   ],
   "source": [
    "disamb_output = geoparser.run_disambiguation(mentions, candidates)\n",
    "print(disamb_output)"
   ]
  },
  {
   "cell_type": "markdown",
   "metadata": {},
   "source": [
    "# Test ranking\n",
    "\n",
    "    Valence, (Géograph. mod.) petite ville, disons mieux, bourg de France dans l'Agénois, sur la rive droite de la Garonne, vis-à-vis d'Aurignac. (D. J.) \n",
    "\n",
    "    LOURDE, Laperdum, (Géog.) petite ville de France en Gascogne, ville unique, & chef-lieu du Lavedan, avec un ancien château sur un rocher. Elle est sur le Gave de Pau, à 4 lieues de Bagnieres. Long. 17. 30. lat. 43. 8. (D. J.) "
   ]
  },
  {
   "cell_type": "markdown",
   "metadata": {},
   "source": [
    "### Desamb rapide"
   ]
  },
  {
   "cell_type": "code",
   "execution_count": 83,
   "metadata": {},
   "outputs": [
    {
     "name": "stdout",
     "output_type": "stream",
     "text": [
      "#####################  CANDIDATES\n",
      "{\n",
      "  \"Etoile\": {\n",
      "    \"Etoile\": {\n",
      "      \"Score\": 1.0,\n",
      "      \"Candidates\": {\n",
      "        \"Q2944781\": 0.009345794392523364,\n",
      "        \"Q390243\": 0.03773584905660377,\n",
      "        \"Q3592468\": 0.2,\n",
      "        \"Q5404767\": 0.75,\n",
      "        \"Q14157452\": 0.42857142857142855,\n",
      "        \"Q3297654\": 0.1,\n",
      "        \"Q5404758\": 1.0,\n",
      "        \"Q1097938\": 0.05263157894736842\n",
      "      }\n",
      "    }\n",
      "  },\n",
      "  \"Dauphin\\u00e9\": {\n",
      "    \"Dauphin\\u00e9\": {\n",
      "      \"Score\": 1.0,\n",
      "      \"Candidates\": {\n",
      "        \"Q151999\": 0.942857142857143,\n",
      "        \"Q743382\": 0.01694915254237288\n",
      "      }\n",
      "    }\n",
      "  }\n",
      "}\n",
      "#####################  DISAMBIGUATION\n",
      "[\n",
      "  {\n",
      "    \"mention\": \"Etoile\",\n",
      "    \"tag\": \"LOC\",\n",
      "    \"prediction\": \"Q5404767\",\n",
      "    \"ed_score\": 0.286,\n",
      "    \"string_match_score\": {\n",
      "      \"Etoile\": [\n",
      "        1.0,\n",
      "        [\n",
      "          \"Q2944781\",\n",
      "          \"Q390243\",\n",
      "          \"Q3592468\",\n",
      "          \"Q5404767\",\n",
      "          \"Q14157452\",\n",
      "          \"Q3297654\",\n",
      "          \"Q5404758\",\n",
      "          \"Q1097938\"\n",
      "        ]\n",
      "      ]\n",
      "    },\n",
      "    \"prior_cand_score\": {},\n",
      "    \"cross_cand_score\": {\n",
      "      \"Q5404767\": 0.286,\n",
      "      \"Q390243\": 0.19,\n",
      "      \"Q5404758\": 0.19,\n",
      "      \"Q14157452\": 0.143,\n",
      "      \"Q2944781\": 0.048,\n",
      "      \"Q3592468\": 0.048,\n",
      "      \"Q3297654\": 0.048\n",
      "    },\n",
      "    \"latlon\": [\n",
      "      31.3869,\n",
      "      -94.4361\n",
      "    ],\n",
      "    \"wkdt_class\": \"Q17343829\"\n",
      "  },\n",
      "  {\n",
      "    \"mention\": \"Dauphin\\u00e9\",\n",
      "    \"tag\": \"LOC\",\n",
      "    \"prediction\": \"Q151999\",\n",
      "    \"ed_score\": 0.998,\n",
      "    \"string_match_score\": {\n",
      "      \"Dauphin\\u00e9\": [\n",
      "        1.0,\n",
      "        [\n",
      "          \"Q151999\",\n",
      "          \"Q743382\"\n",
      "        ]\n",
      "      ]\n",
      "    },\n",
      "    \"prior_cand_score\": {},\n",
      "    \"cross_cand_score\": {\n",
      "      \"Q151999\": 0.998,\n",
      "      \"Q743382\": 0.002\n",
      "    },\n",
      "    \"latlon\": [\n",
      "      45.383333,\n",
      "      5.733333\n",
      "    ],\n",
      "    \"wkdt_class\": \"Q209495\"\n",
      "  }\n",
      "]\n"
     ]
    }
   ],
   "source": [
    "sentence = ' Etoile, (Géog. mod.) petite ville du Dauphiné. '\n",
    "\n",
    "my_mention_list = [{'mention': 'Etoile','tag': 'LOC',},\n",
    "                   {'mention': 'Dauphiné', 'tag': 'LOC'}\n",
    "                   ]\n",
    "           \n",
    "\n",
    "mention_dict = {'mention': None,\n",
    " 'context': None,\n",
    " 'candidates': None,\n",
    " 'gold': None,\n",
    " 'ner_score': None,\n",
    " 'pos': None,\n",
    " 'sent_idx': None,\n",
    " 'end_pos': None,\n",
    " 'ngram': None,\n",
    " 'conf_md': None,\n",
    " 'tag': None,\n",
    " 'sentence': None,\n",
    " 'place': None,\n",
    " 'place_wqid': None}\n",
    "\n",
    "my_ner_pipeline(sentence)\n",
    "\n",
    "mention_list = []\n",
    "\n",
    "for np in my_ner_pipeline(sentence) :\n",
    "\n",
    "    np_to_mention = mention_dict.copy()\n",
    "\n",
    "    np_to_mention['mention'] = np['word']\n",
    "    #np_to_mention['ner_score'] = np['score']\n",
    "    #np_to_mention['pos'] = np['start']\n",
    "    #np_to_mention['sent_idx'] =\n",
    "    #np_to_mention['end_pos'] = np['end']\n",
    "    #np_to_mention['ngram'] = np['word']\n",
    "    np_to_mention['tag'] = 'LOC' if np['entity']=='B-LOC' else 'MISC'\n",
    "    #np_to_mention['sentence'] = sentence\n",
    "    \n",
    "    mention_list.append(np_to_mention)\n",
    "\n",
    "candidates = geoparser.run_candidate_selection(my_mention_list)\n",
    "\n",
    "import json\n",
    "print('#####################  CANDIDATES')\n",
    "print(json.dumps(candidates, indent=2))\n",
    "\n",
    "\n",
    "disamb_output = geoparser.run_disambiguation(my_mention_list, candidates)\n",
    "print('#####################  DISAMBIGUATION')\n",
    "print(json.dumps(disamb_output, indent=2))"
   ]
  },
  {
   "cell_type": "code",
   "execution_count": null,
   "metadata": {},
   "outputs": [
    {
     "data": {
      "text/plain": [
       "({'Dauphiné': {'Dauphiné': {'Score': 1.0,\n",
       "    'Candidates': {'Q151999': 0.942857142857143,\n",
       "     'Q743382': 0.01694915254237288}}},\n",
       "  'Etoile': {'Etoile': {'Score': 1.0,\n",
       "    'Candidates': {'Q2944781': 0.009345794392523364,\n",
       "     'Q390243': 0.03773584905660377,\n",
       "     'Q3592468': 0.2,\n",
       "     'Q5404767': 0.75,\n",
       "     'Q14157452': 0.42857142857142855,\n",
       "     'Q3297654': 0.1,\n",
       "     'Q5404758': 1.0,\n",
       "     'Q1097938': 0.05263157894736842}}}},\n",
       " {'Dauphiné': {'Dauphiné': {'Score': 1.0,\n",
       "    'Candidates': {'Q151999': 0.942857142857143,\n",
       "     'Q743382': 0.01694915254237288}}},\n",
       "  'Etoile': {'Etoile': {'Score': 1.0,\n",
       "    'Candidates': {'Q2944781': 0.009345794392523364,\n",
       "     'Q390243': 0.03773584905660377,\n",
       "     'Q3592468': 0.2,\n",
       "     'Q5404767': 0.75,\n",
       "     'Q14157452': 0.42857142857142855,\n",
       "     'Q3297654': 0.1,\n",
       "     'Q5404758': 1.0,\n",
       "     'Q1097938': 0.05263157894736842}}}})"
      ]
     },
     "metadata": {},
     "output_type": "display_data"
    }
   ],
   "source": [
    "my_mention_list = [{'mention': 'Etoile','tag': 'LOC',},\n",
    "                   {'mention': 'Dauphiné', 'tag': 'LOC'}\n",
    "                   ]\n",
    "myranker.find_candidates(mentions = my_mention_list)"
   ]
  },
  {
   "cell_type": "markdown",
   "metadata": {},
   "source": [
    "### inspection gazetier"
   ]
  },
  {
   "cell_type": "code",
   "execution_count": 1,
   "metadata": {},
   "outputs": [
    {
     "name": "stdout",
     "output_type": "stream",
     "text": [
      "INFO: Pandarallel will run on 8 workers.\n",
      "INFO: Pandarallel will use Memory file system to transfer data between the main process and workers.\n"
     ]
    }
   ],
   "source": []
  },
  {
   "cell_type": "code",
   "execution_count": 2,
   "metadata": {},
   "outputs": [],
   "source": [
    "import sqlite3\n",
    "from pathlib import Path\n",
    "\n",
    "from t_res.geoparser import pipeline, ranking, linking\n",
    "\n",
    "# Instantiate the ranker:\n",
    "myranker = ranking.Ranker(\n",
    "    method='levenshtein',\n",
    "    resources_path=\"/home/antoine/Documents/GitHub/T-Res/resources/\",\n",
    ")\n",
    "\n",
    "myranker.mentions_to_wikidata = myranker.load_resources()"
   ]
  },
  {
   "cell_type": "code",
   "execution_count": 4,
   "metadata": {},
   "outputs": [],
   "source": [
    "mentions_to_wikidata = myranker.mentions_to_wikidata"
   ]
  },
  {
   "cell_type": "code",
   "execution_count": 10,
   "metadata": {},
   "outputs": [],
   "source": [
    "num_mentions = 0\n",
    "ressources = []\n",
    "for key, values in mentions_to_wikidata.items():\n",
    "    num_mentions += 1\n",
    "    ressources.extend(values)\n"
   ]
  },
  {
   "cell_type": "code",
   "execution_count": 15,
   "metadata": {},
   "outputs": [
    {
     "name": "stdout",
     "output_type": "stream",
     "text": [
      "1776221 2260707 987945\n"
     ]
    },
    {
     "data": {
      "text/plain": [
       "1.2727622294748233"
      ]
     },
     "execution_count": 15,
     "metadata": {},
     "output_type": "execute_result"
    }
   ],
   "source": [
    "print(num_mentions,\n",
    "      len(ressources),\n",
    "      len(set(ressources))\n",
    "      )\n",
    "\n",
    "len(ressources)/num_mentions"
   ]
  },
  {
   "cell_type": "code",
   "execution_count": 19,
   "metadata": {},
   "outputs": [
    {
     "ename": "KeyError",
     "evalue": "'Cité phocéenne'",
     "output_type": "error",
     "traceback": [
      "\u001b[0;31m---------------------------------------------------------------------------\u001b[0m",
      "\u001b[0;31mKeyError\u001b[0m                                  Traceback (most recent call last)",
      "Cell \u001b[0;32mIn[19], line 1\u001b[0m\n\u001b[0;32m----> 1\u001b[0m \u001b[43mmentions_to_wikidata\u001b[49m\u001b[43m[\u001b[49m\u001b[38;5;124;43m'\u001b[39;49m\u001b[38;5;124;43mCité phocéenne\u001b[39;49m\u001b[38;5;124;43m'\u001b[39;49m\u001b[43m]\u001b[49m\n",
      "\u001b[0;31mKeyError\u001b[0m: 'Cité phocéenne'"
     ]
    }
   ],
   "source": [
    "mentions_to_wikidata['Cité phocéenne']"
   ]
  },
  {
   "cell_type": "markdown",
   "metadata": {},
   "source": [
    "### Dam-lev & partial match"
   ]
  },
  {
   "cell_type": "code",
   "execution_count": 44,
   "metadata": {},
   "outputs": [],
   "source": [
    "import pandas as pd\n",
    "\n",
    "damlev = False\n",
    "query = \"étoile\"\n",
    "\n",
    "mention_df = pd.DataFrame({\"mentions\": myranker.mentions_to_wikidata.keys()})\n",
    "\n",
    "if damlev:\n",
    "    mention_df[\"score\"] = mention_df.parallel_apply(lambda row: myranker.damlev_dist(query, row), axis=1\n",
    "                                                    )\n",
    "else:\n",
    "    mention_df[\"score\"] = mention_df.parallel_apply(lambda row: myranker.check_if_contained(query, row), axis=1)"
   ]
  },
  {
   "cell_type": "code",
   "execution_count": 45,
   "metadata": {},
   "outputs": [
    {
     "name": "stdout",
     "output_type": "stream",
     "text": [
      "(1776221, 2)\n",
      "(53, 2)\n"
     ]
    }
   ],
   "source": [
    "print(mention_df.shape)\n",
    "mention_df = mention_df.dropna()\n",
    "print(mention_df.shape)\n",
    "\n",
    "############################\n",
    "# currently hardcoded cutoff at k\n",
    "############################\n",
    "k = 10\n",
    "\n",
    "top_scores = sorted(list(set(list(mention_df[\"score\"].unique()))), reverse=True)[:10]\n",
    "mention_df = mention_df[mention_df[\"score\"].isin(top_scores)]\n",
    "mention_df = mention_df.set_index(\"mentions\").to_dict()[\"score\"]"
   ]
  },
  {
   "cell_type": "code",
   "execution_count": 46,
   "metadata": {},
   "outputs": [
    {
     "data": {
      "text/plain": [
       "{'IL': 0.3333333333333333,\n",
       " 'oil': 0.5,\n",
       " 'TO': 0.3333333333333333,\n",
       " 'Ile': 0.5,\n",
       " \"L'Étoile AOC\": 0.5,\n",
       " \"L'Étoile\": 0.75,\n",
       " 'Étoile': 1.0,\n",
       " \"Place de l'Étoile\": 0.35294117647058826,\n",
       " \"place de l'Étoile\": 0.35294117647058826,\n",
       " 'Parisian Étoile': 0.4,\n",
       " 'Charles de Gaulle–Étoile': 0.25,\n",
       " 'Charles de Gaulle-Étoile': 0.25,\n",
       " 'Oil': 0.5,\n",
       " 'Toi': 0.5,\n",
       " \"Jeu de Paume de l'Étoile\": 0.25,\n",
       " 'ILE': 0.5,\n",
       " '\"Étoile\"': 0.75,\n",
       " \"Théâtre de l'Étoile\": 0.3157894736842105,\n",
       " 'Étoile du Nord': 0.42857142857142855,\n",
       " \"L'Étoile de Kléber\": 0.3333333333333333,\n",
       " \"Massif de l'Étoile\": 0.3333333333333333,\n",
       " \"massif de l'Étoile\": 0.3333333333333333,\n",
       " \"l'Étoile\": 0.75,\n",
       " 'Salle des Étoiles': 0.35294117647058826,\n",
       " 'Il': 0.3333333333333333,\n",
       " \"Marcy-l'Étoile\": 0.42857142857142855,\n",
       " 'Cerisy-Belle-Étoile': 0.3157894736842105,\n",
       " 'Étoile Civique': 0.42857142857142855,\n",
       " \"Montceaux-l'Étoile\": 0.3333333333333333,\n",
       " \"tunnel de l'Étoile\": 0.3333333333333333,\n",
       " 'Étoile-sur-Rhône': 0.375}"
      ]
     },
     "execution_count": 46,
     "metadata": {},
     "output_type": "execute_result"
    }
   ],
   "source": [
    "mention_df"
   ]
  },
  {
   "cell_type": "markdown",
   "metadata": {},
   "source": [
    "### Deezymatch"
   ]
  },
  {
   "cell_type": "code",
   "execution_count": 50,
   "metadata": {},
   "outputs": [
    {
     "name": "stdout",
     "output_type": "stream",
     "text": [
      "*** Loading the ranker resources.\n"
     ]
    }
   ],
   "source": [
    "import sqlite3\n",
    "from pathlib import Path\n",
    "\n",
    "from t_res.geoparser import pipeline, ranking, linking\n",
    "\n",
    "# Instantiate the ranker:\n",
    "myranker = ranking.Ranker(\n",
    "    method='deezymatch',\n",
    "    resources_path=\"/home/antoine/Documents/GitHub/T-Res/resources/\",)\n",
    "\n",
    "myranker.mentions_to_wikidata = myranker.load_resources()"
   ]
  },
  {
   "cell_type": "code",
   "execution_count": 53,
   "metadata": {},
   "outputs": [
    {
     "name": "stdout",
     "output_type": "stream",
     "text": [
      "2.2.1+cu121\n"
     ]
    }
   ],
   "source": [
    "import torch\n",
    "print(torch.__version__)"
   ]
  },
  {
   "cell_type": "code",
   "execution_count": 51,
   "metadata": {},
   "outputs": [
    {
     "ename": "SystemExit",
     "evalue": "[ERROR] no input file (*.yaml file) could be found in the dir: /home/antoine/Documents/GitHub/T-Res/resources/deezymatch/combined/wkdtalts_w2v_ocr",
     "output_type": "error",
     "traceback": [
      "An exception has occurred, use %tb to see the full traceback.\n",
      "\u001b[0;31mSystemExit\u001b[0m\u001b[0;31m:\u001b[0m [ERROR] no input file (*.yaml file) could be found in the dir: /home/antoine/Documents/GitHub/T-Res/resources/deezymatch/combined/wkdtalts_w2v_ocr\n"
     ]
    },
    {
     "name": "stderr",
     "output_type": "stream",
     "text": [
      "/home/antoine/.cache/pypoetry/virtualenvs/t-res-rAxVKS4n-py3.9/lib/python3.9/site-packages/IPython/core/interactiveshell.py:3558: UserWarning: To exit: use 'exit', 'quit', or Ctrl-D.\n",
      "  warn(\"To exit: use 'exit', 'quit', or Ctrl-D.\", stacklevel=1)\n"
     ]
    }
   ],
   "source": [
    "query = \"étoile\"\n",
    "\n",
    "candidates, already_collected = myranker.deezy_on_the_fly(query)\n",
    "\n"
   ]
  }
 ],
 "metadata": {
  "kernelspec": {
   "display_name": "tres-turing",
   "language": "python",
   "name": "tres-turing"
  },
  "language_info": {
   "codemirror_mode": {
    "name": "ipython",
    "version": 3
   },
   "file_extension": ".py",
   "mimetype": "text/x-python",
   "name": "python",
   "nbconvert_exporter": "python",
   "pygments_lexer": "ipython3",
   "version": "3.9.7"
  },
  "orig_nbformat": 4
 },
 "nbformat": 4,
 "nbformat_minor": 2
}
