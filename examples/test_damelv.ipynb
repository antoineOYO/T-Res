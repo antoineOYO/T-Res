{
 "cells": [
  {
   "cell_type": "code",
   "execution_count": 19,
   "metadata": {},
   "outputs": [],
   "source": [
    "import WikidataObject as wdo\n",
    "import pandas as pd\n",
    "import os\n",
    "import json\n",
    "\n",
    "path = '/home/antoine/Documents/GitHub/T-Res/'"
   ]
  },
  {
   "cell_type": "code",
   "execution_count": 2,
   "metadata": {},
   "outputs": [
    {
     "name": "stdout",
     "output_type": "stream",
     "text": [
      "*** Loading the ranker resources.\n"
     ]
    }
   ],
   "source": [
    "def load_resources(method=\"mostpopular\",\n",
    "                   resources_path=\"../resources/\"\n",
    "                   ) :\n",
    "\n",
    "    print(\"*** Loading the ranker resources.\")\n",
    "\n",
    "    # Load files\n",
    "    files = {\n",
    "        \"mentions_to_wikidata\": os.path.join(\n",
    "            resources_path, \"wikidata/mentions_to_wikidata_normalized.json\"\n",
    "        ),\n",
    "        \"wikidata_to_mentions\": os.path.join(\n",
    "            resources_path, \"wikidata/wikidata_to_mentions_normalized.json\"\n",
    "        ),\n",
    "    }\n",
    "\n",
    "    with open(files[\"mentions_to_wikidata\"], \"r\") as f:\n",
    "        mentions_to_wikidata = json.load(f)\n",
    "\n",
    "    with open(files[\"wikidata_to_mentions\"], \"r\") as f:\n",
    "        wikidata_to_mentions = json.load(f)\n",
    "\n",
    "    # Filter mentions to remove noise:\n",
    "    wikidata_to_mentions_filtered = dict()\n",
    "    mentions_to_wikidata_filtered = dict()\n",
    "    for wk in wikidata_to_mentions:\n",
    "        wikipedia_mentions = wikidata_to_mentions.get(wk)\n",
    "        wikipedia_mentions_stripped = dict(\n",
    "            [\n",
    "                (x, wikipedia_mentions[x])\n",
    "                for x in wikipedia_mentions\n",
    "                if not \", \" in x and not \" (\" in x\n",
    "            ]\n",
    "        )\n",
    "\n",
    "        if wikipedia_mentions_stripped:\n",
    "            wikipedia_mentions = wikipedia_mentions_stripped\n",
    "\n",
    "        wikidata_to_mentions_filtered[wk] = dict(\n",
    "            [(x, wikipedia_mentions[x]) for x in wikipedia_mentions]\n",
    "        )\n",
    "\n",
    "        for m in wikidata_to_mentions_filtered[wk]:\n",
    "            if m in mentions_to_wikidata_filtered:\n",
    "                mentions_to_wikidata_filtered[m][\n",
    "                    wk\n",
    "                ] = wikidata_to_mentions_filtered[wk][m]\n",
    "            else:\n",
    "                mentions_to_wikidata_filtered[m] = {\n",
    "                    wk: wikidata_to_mentions_filtered[wk][m]\n",
    "                }\n",
    "\n",
    "    mentions_to_wikidata = mentions_to_wikidata_filtered\n",
    "    wikidata_to_mentions = wikidata_to_mentions_filtered\n",
    "\n",
    "    del mentions_to_wikidata_filtered\n",
    "    del wikidata_to_mentions_filtered\n",
    "\n",
    "    # Parallelize if ranking method is one of the following:\n",
    "    if method in [\"partialmatch\", \"levenshtein\"]:\n",
    "        pandarallel.initialize(nb_workers=10)\n",
    "        os.environ[\"TOKENIZERS_PARALLELISM\"] = \"true\"\n",
    "\n",
    "    return mentions_to_wikidata, wikidata_to_mentions\n",
    "\n",
    "mentions_to_wikidata, wikidata_to_mentions = load_resources()"
   ]
  },
  {
   "cell_type": "markdown",
   "metadata": {},
   "source": [
    "# Tests texte edit distance"
   ]
  },
  {
   "cell_type": "code",
   "execution_count": 4,
   "metadata": {},
   "outputs": [
    {
     "name": "stdout",
     "output_type": "stream",
     "text": [
      "INFO: Pandarallel will run on 8 workers.\n",
      "INFO: Pandarallel will use Memory file system to transfer data between the main process and workers.\n"
     ]
    }
   ],
   "source": [
    "from pyxdameraulevenshtein import normalized_damerau_levenshtein_distance as damlev\n",
    "from t_res.geoparser import geode_pipe,ranking,linking"
   ]
  },
  {
   "cell_type": "code",
   "execution_count": 2,
   "metadata": {},
   "outputs": [],
   "source": [
    "filepath = 'VILLESFR.json'\n",
    "VILLESFR = pd.read_json(filepath, orient='records', lines=True)"
   ]
  },
  {
   "cell_type": "code",
   "execution_count": 7,
   "metadata": {},
   "outputs": [],
   "source": [
    "myranker = ranking.Ranker(\n",
    "    method=\"levenshtein\",\n",
    "    resources_path=\"../resources/\",\n",
    ")\n",
    "mylinker = linking.Linker(\n",
    "    method=\"mostpopular\",\n",
    "    resources_path=\"../resources/\",\n",
    ")"
   ]
  },
  {
   "cell_type": "code",
   "execution_count": 9,
   "metadata": {},
   "outputs": [
    {
     "name": "stdout",
     "output_type": "stream",
     "text": [
      "*** Loading the ranker resources.\n",
      "INFO: Pandarallel will run on 10 workers.\n",
      "INFO: Pandarallel will use Memory file system to transfer data between the main process and workers.\n",
      "*** Load linking resources.\n",
      "  > Loading mentions to wikidata mapping.\n",
      "  > Loading gazetteer.\n",
      "*** Linking resources loaded!\n",
      "\n"
     ]
    }
   ],
   "source": [
    "geoparser = geode_pipe.Pipeline(geodeNERpath=NER_path,\n",
    "                                myranker=myranker,\n",
    "                                mylinker=mylinker,\n",
    "                                )"
   ]
  },
  {
   "cell_type": "code",
   "execution_count": 13,
   "metadata": {},
   "outputs": [
    {
     "data": {
      "text/plain": [
       "0.27272728085517883"
      ]
     },
     "execution_count": 13,
     "metadata": {},
     "output_type": "execute_result"
    }
   ],
   "source": [
    "damlev('ROQUEMADOUR'.lower(),\n",
    "       'Rocamadour'.lower())"
   ]
  },
  {
   "cell_type": "markdown",
   "metadata": {},
   "source": [
    "# Tests entity wikidata"
   ]
  },
  {
   "cell_type": "code",
   "execution_count": 2,
   "metadata": {},
   "outputs": [],
   "source": [
    "import pandas as pd\n",
    "from ast import literal_eval\n",
    "import json\n",
    "from collections import Counter\n",
    "from argparse import ArgumentParser\n",
    "import os\n"
   ]
  },
  {
   "cell_type": "code",
   "execution_count": 3,
   "metadata": {},
   "outputs": [
    {
     "ename": "NameError",
     "evalue": "name 'path' is not defined",
     "output_type": "error",
     "traceback": [
      "\u001b[0;31m---------------------------------------------------------------------------\u001b[0m",
      "\u001b[0;31mNameError\u001b[0m                                 Traceback (most recent call last)",
      "Cell \u001b[0;32mIn[3], line 1\u001b[0m\n\u001b[0;32m----> 1\u001b[0m gaz \u001b[38;5;241m=\u001b[39m pd\u001b[38;5;241m.\u001b[39mread_csv(\u001b[43mpath\u001b[49m \u001b[38;5;241m+\u001b[39m \u001b[38;5;124m'\u001b[39m\u001b[38;5;124m/resources/wikidata/wikidata_gazetteer.csv\u001b[39m\u001b[38;5;124m'\u001b[39m, low_memory\u001b[38;5;241m=\u001b[39m\u001b[38;5;28;01mFalse\u001b[39;00m)\n\u001b[1;32m      2\u001b[0m gazetteer_ids \u001b[38;5;241m=\u001b[39m \u001b[38;5;28mset\u001b[39m(gaz\u001b[38;5;241m.\u001b[39mwikidata_id)\n\u001b[1;32m      3\u001b[0m \u001b[38;5;28mprint\u001b[39m(\u001b[38;5;28mlen\u001b[39m(gazetteer_ids))\n",
      "\u001b[0;31mNameError\u001b[0m: name 'path' is not defined"
     ]
    }
   ],
   "source": [
    "gaz = pd.read_csv(path + '/resources/wikidata/wikidata_gazetteer.csv', low_memory=False)\n",
    "gazetteer_ids = set(gaz.wikidata_id)\n",
    "print(len(gazetteer_ids))"
   ]
  },
  {
   "cell_type": "code",
   "execution_count": 23,
   "metadata": {},
   "outputs": [
    {
     "data": {
      "text/html": [
       "<div>\n",
       "<style scoped>\n",
       "    .dataframe tbody tr th:only-of-type {\n",
       "        vertical-align: middle;\n",
       "    }\n",
       "\n",
       "    .dataframe tbody tr th {\n",
       "        vertical-align: top;\n",
       "    }\n",
       "\n",
       "    .dataframe thead th {\n",
       "        text-align: right;\n",
       "    }\n",
       "</style>\n",
       "<table border=\"1\" class=\"dataframe\">\n",
       "  <thead>\n",
       "    <tr style=\"text-align: right;\">\n",
       "      <th></th>\n",
       "      <th>wikidata_id</th>\n",
       "      <th>english_label</th>\n",
       "      <th>instance_of</th>\n",
       "      <th>alias_dict</th>\n",
       "      <th>nativelabel</th>\n",
       "      <th>hcounties</th>\n",
       "      <th>countries</th>\n",
       "      <th>latitude</th>\n",
       "      <th>longitude</th>\n",
       "    </tr>\n",
       "  </thead>\n",
       "  <tbody>\n",
       "    <tr>\n",
       "      <th>373127</th>\n",
       "      <td>Q69802</td>\n",
       "      <td>Camorino</td>\n",
       "      <td>['Q685309', 'Q123705']</td>\n",
       "      <td>{'en': ['Camorino TI', 'Camorino'], 'de': ['Ca...</td>\n",
       "      <td>NaN</td>\n",
       "      <td>[]</td>\n",
       "      <td>{'Q39': ('', '')}</td>\n",
       "      <td>46.157750</td>\n",
       "      <td>9.011850</td>\n",
       "    </tr>\n",
       "    <tr>\n",
       "      <th>505889</th>\n",
       "      <td>Q627780</td>\n",
       "      <td>Bornich</td>\n",
       "      <td>['Q116457956']</td>\n",
       "      <td>{'pt': ['Bornich'], 'pl': ['Bornich'], 'fr': [...</td>\n",
       "      <td>NaN</td>\n",
       "      <td>[]</td>\n",
       "      <td>{'Q183': ('', '')}</td>\n",
       "      <td>50.128611</td>\n",
       "      <td>7.769167</td>\n",
       "    </tr>\n",
       "    <tr>\n",
       "      <th>913722</th>\n",
       "      <td>Q3950956</td>\n",
       "      <td>Battle of Qatwan</td>\n",
       "      <td>['Q178561']</td>\n",
       "      <td>{'tr': ['Katvan Savaşı', 'Katvan Muharebesi'],...</td>\n",
       "      <td>NaN</td>\n",
       "      <td>[]</td>\n",
       "      <td>{}</td>\n",
       "      <td>39.800000</td>\n",
       "      <td>66.900000</td>\n",
       "    </tr>\n",
       "    <tr>\n",
       "      <th>133480</th>\n",
       "      <td>Q536551</td>\n",
       "      <td>Hemme</td>\n",
       "      <td>['Q116457956']</td>\n",
       "      <td>{'de': ['Hemmerwurth', 'Zennhusen', 'Hemme'], ...</td>\n",
       "      <td>NaN</td>\n",
       "      <td>[]</td>\n",
       "      <td>{'Q183': ('', '')}</td>\n",
       "      <td>54.266667</td>\n",
       "      <td>9.016667</td>\n",
       "    </tr>\n",
       "    <tr>\n",
       "      <th>354798</th>\n",
       "      <td>Q18109849</td>\n",
       "      <td>Asilmetta</td>\n",
       "      <td>['Q123705']</td>\n",
       "      <td>{'en': ['Asilmetta'], 'nl': ['Asilmetta']}</td>\n",
       "      <td>NaN</td>\n",
       "      <td>[]</td>\n",
       "      <td>{'Q668': ('', '')}</td>\n",
       "      <td>17.742500</td>\n",
       "      <td>83.316900</td>\n",
       "    </tr>\n",
       "  </tbody>\n",
       "</table>\n",
       "</div>"
      ],
      "text/plain": [
       "       wikidata_id     english_label             instance_of  \\\n",
       "373127      Q69802          Camorino  ['Q685309', 'Q123705']   \n",
       "505889     Q627780           Bornich          ['Q116457956']   \n",
       "913722    Q3950956  Battle of Qatwan             ['Q178561']   \n",
       "133480     Q536551             Hemme          ['Q116457956']   \n",
       "354798   Q18109849         Asilmetta             ['Q123705']   \n",
       "\n",
       "                                               alias_dict nativelabel  \\\n",
       "373127  {'en': ['Camorino TI', 'Camorino'], 'de': ['Ca...         NaN   \n",
       "505889  {'pt': ['Bornich'], 'pl': ['Bornich'], 'fr': [...         NaN   \n",
       "913722  {'tr': ['Katvan Savaşı', 'Katvan Muharebesi'],...         NaN   \n",
       "133480  {'de': ['Hemmerwurth', 'Zennhusen', 'Hemme'], ...         NaN   \n",
       "354798         {'en': ['Asilmetta'], 'nl': ['Asilmetta']}         NaN   \n",
       "\n",
       "       hcounties           countries   latitude  longitude  \n",
       "373127        []   {'Q39': ('', '')}  46.157750   9.011850  \n",
       "505889        []  {'Q183': ('', '')}  50.128611   7.769167  \n",
       "913722        []                  {}  39.800000  66.900000  \n",
       "133480        []  {'Q183': ('', '')}  54.266667   9.016667  \n",
       "354798        []  {'Q668': ('', '')}  17.742500  83.316900  "
      ]
     },
     "execution_count": 23,
     "metadata": {},
     "output_type": "execute_result"
    }
   ],
   "source": [
    "gaz.sample(5)"
   ]
  },
  {
   "cell_type": "code",
   "execution_count": 25,
   "metadata": {},
   "outputs": [
    {
     "name": "stdout",
     "output_type": "stream",
     "text": [
      "\n",
      "Size of gazetteer: 987945\n",
      "Number of classes: 15293\n",
      "\n",
      "Start!\n"
     ]
    }
   ],
   "source": [
    "def eval_with_exception(string):\n",
    "    try:\n",
    "        return literal_eval(string)\n",
    "    except ValueError:\n",
    "        return []\n",
    "\n",
    "\n",
    "# Get all classes in our gazetteer:\n",
    "gaz[\"instance_of\"] = gaz[\"instance_of\"].apply(eval_with_exception)\n",
    "instances_all = [i for l in gaz[~gaz.instance_of.isnull()].instance_of for i in l if l]\n",
    "instances = set(instances_all)\n",
    "instance_counter = Counter(instances_all)\n",
    "\n",
    "print(\"\\nSize of gazetteer:\", len(gazetteer_ids))\n",
    "print(\"Number of classes:\", len(instances))\n",
    "\n",
    "print(\"\\nStart!\")\n"
   ]
  },
  {
   "cell_type": "code",
   "execution_count": null,
   "metadata": {},
   "outputs": [],
   "source": [
    "\n",
    "dict_id_to_class = dict()\n",
    "for i, row in gaz.iterrows():\n",
    "    entity_classes = row[\"instance_of\"]\n",
    "    # Get most common class:\n",
    "    keep_most_common_class = \"\"\n",
    "    top_class_relv = 0\n",
    "    for ec in entity_classes:\n",
    "        current_class_relv = instance_counter.get(ec)\n",
    "        if current_class_relv > top_class_relv:\n",
    "            top_class_relv = current_class_relv\n",
    "            keep_most_common_class = ec\n",
    "    if keep_most_common_class:\n",
    "        dict_id_to_class[row[\"wikidata_id\"]] = keep_most_common_class"
   ]
  },
  {
   "cell_type": "markdown",
   "metadata": {},
   "source": [
    "# Test ajout des alias"
   ]
  },
  {
   "cell_type": "code",
   "execution_count": 5,
   "metadata": {},
   "outputs": [],
   "source": [
    "#establish conexion with solr\n",
    "from pysolr import Solr\n",
    "solr = Solr('http://localhost:8983/solr/frenchtapioca5')"
   ]
  },
  {
   "cell_type": "code",
   "execution_count": 6,
   "metadata": {},
   "outputs": [
    {
     "data": {
      "text/plain": [
       "True"
      ]
     },
     "execution_count": 6,
     "metadata": {},
     "output_type": "execute_result"
    }
   ],
   "source": [
    "#query solr\n",
    "results = solr.search('id:Q90')\n",
    "'la ciutat de la llum' in results.docs[0]['mention']"
   ]
  },
  {
   "cell_type": "code",
   "execution_count": 12,
   "metadata": {},
   "outputs": [
    {
     "name": "stdout",
     "output_type": "stream",
     "text": [
      "987945\n"
     ]
    }
   ],
   "source": [
    "gaz = pd.read_csv(path + 'resources/wikidata/wikidata_gazetteer.csv', low_memory=False)\n",
    "gazetteer_ids = set(gaz.wikidata_id)\n",
    "print(len(gazetteer_ids))"
   ]
  },
  {
   "cell_type": "code",
   "execution_count": 13,
   "metadata": {},
   "outputs": [
    {
     "data": {
      "text/plain": [
       "Index(['wikidata_id', 'english_label', 'instance_of', 'alias_dict',\n",
       "       'nativelabel', 'hcounties', 'countries', 'latitude', 'longitude'],\n",
       "      dtype='object')"
      ]
     },
     "execution_count": 13,
     "metadata": {},
     "output_type": "execute_result"
    }
   ],
   "source": [
    "gaz.columns"
   ]
  },
  {
   "cell_type": "code",
   "execution_count": 14,
   "metadata": {},
   "outputs": [],
   "source": [
    "def get_list_labels_aliases(wd):\n",
    "\n",
    "    label_and_aliases = set()\n",
    "        \n",
    "    labels = wd._get_label(lang='all')\n",
    "    label_and_aliases.update(labels.values())\n",
    "\n",
    "    aliases = wd._get_aliases(lang='all')\n",
    "    for values in aliases.values():\n",
    "        label_and_aliases.update(v for v in values)\n",
    "\n",
    "    return list(label_and_aliases)"
   ]
  },
  {
   "cell_type": "code",
   "execution_count": 17,
   "metadata": {},
   "outputs": [],
   "source": [
    "import tqdm"
   ]
  },
  {
   "cell_type": "code",
   "execution_count": 24,
   "metadata": {},
   "outputs": [
    {
     "name": "stderr",
     "output_type": "stream",
     "text": [
      "  0%|          | 4571/987945 [02:21<18:02:18, 15.14it/s]"
     ]
    }
   ],
   "source": [
    "gaz2 = dict()\n",
    "\n",
    "# Function to dump the dict as a json file\n",
    "def save_progress(gaz_dict):\n",
    "    with open(path + 'resources/wikidata/gaz2.json', 'w') as f:\n",
    "        json.dump(gaz_dict, f)\n",
    "\n",
    "# Iterate over gaz dataframe\n",
    "for i, row in tqdm.tqdm(gaz.iterrows(), total=len(gaz)):\n",
    "    doc = solr.search('id:'+row[\"wikidata_id\"]).docs\n",
    "    if len(doc) > 1:\n",
    "        print(\"ERROR\" + row[\"wikidata_id\"])\n",
    "        aka_list = []\n",
    "    if len(doc) == 0:\n",
    "        # print(\"NOT FOUND \" + row[\"wikidata_id\"])\n",
    "        wd = wdo.WikidataObject(row[\"wikidata_id\"])\n",
    "        aka_list = get_list_labels_aliases(wd)\n",
    "    else:\n",
    "        aka_list = doc[0]['mention']\n",
    "    \n",
    "    gaz2[row[\"wikidata_id\"]] = aka_list\n",
    "    \n",
    "    # Save progress every 1000 rows\n",
    "    if (i + 1) % 1000 == 0:\n",
    "        save_progress(gaz2)\n",
    "\n",
    "# Save final progress\n",
    "save_progress(gaz2)\n"
   ]
  },
  {
   "cell_type": "code",
   "execution_count": 52,
   "metadata": {},
   "outputs": [],
   "source": [
    "wikidata_to_aka = dict()\n",
    "wikidata_to_aka_normalized = dict()\n",
    "aka_to_wikidata = dict()\n",
    "aka_to_wikidata_normalized = dict()\n",
    "\n",
    "for i,row in gaz2.iterrows():\n",
    "\n",
    "    qid = row[\"wikidata_id\"]\n",
    "    akas = row[\"aka\"]\n",
    "    n = len(akas)\n",
    "\n",
    "    if not akas:\n",
    "        print(\"No aliases for\", qid)\n",
    "        continue\n",
    "\n",
    "    wikidata_to_aka[qid] = {aka : 1 for aka in akas}\n",
    "    wikidata_to_aka_normalized[qid] = {aka: 1/n for aka in akas}\n",
    "\n",
    "    for aka in akas:\n",
    "        if aka in aka_to_wikidata:\n",
    "            aka_to_wikidata[aka][qid] = 1\n",
    "            aka_to_wikidata_normalized[aka][qid] = 1/n\n",
    "        else:\n",
    "            aka_to_wikidata[aka] = {qid: 1}\n",
    "            aka_to_wikidata_normalized[aka] = {qid: 1/n}\n",
    "\n",
    "        "
   ]
  },
  {
   "cell_type": "code",
   "execution_count": 54,
   "metadata": {},
   "outputs": [
    {
     "data": {
      "text/plain": [
       "1000"
      ]
     },
     "execution_count": 54,
     "metadata": {},
     "output_type": "execute_result"
    }
   ],
   "source": [
    "len(wikidata_to_aka)"
   ]
  }
 ],
 "metadata": {
  "kernelspec": {
   "display_name": "tres-turing",
   "language": "python",
   "name": "tres-turing"
  },
  "language_info": {
   "codemirror_mode": {
    "name": "ipython",
    "version": 3
   },
   "file_extension": ".py",
   "mimetype": "text/x-python",
   "name": "python",
   "nbconvert_exporter": "python",
   "pygments_lexer": "ipython3",
   "version": "3.9.7"
  }
 },
 "nbformat": 4,
 "nbformat_minor": 2
}
