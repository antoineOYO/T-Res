{
 "cells": [
  {
   "cell_type": "markdown",
   "metadata": {},
   "source": [
    "# Starting"
   ]
  },
  {
   "cell_type": "code",
   "execution_count": 1,
   "metadata": {},
   "outputs": [
    {
     "name": "stdout",
     "output_type": "stream",
     "text": [
      "INFO: Pandarallel will run on 8 workers.\n",
      "INFO: Pandarallel will use Memory file system to transfer data between the main process and workers.\n"
     ]
    }
   ],
   "source": [
    "import os\n",
    "import sys\n",
    "import sqlite3\n",
    "from pathlib import Path\n",
    "import json\n",
    "\n",
    "import pandas as pd\n",
    "import WikidataObject as wdo\n",
    "\n",
    "from t_res.geoparser import geode_pipe,ranking,linking\n",
    "path = '/home/antoine/Documents/GitHub/T-Res/'\n",
    "NER_path = path + 'resources/fr_spacy_custom_spancat_edda'"
   ]
  },
  {
   "cell_type": "markdown",
   "metadata": {},
   "source": [
    "# Import VILLESFR"
   ]
  },
  {
   "cell_type": "code",
   "execution_count": 6,
   "metadata": {},
   "outputs": [],
   "source": [
    "filepath = 'VILLESFR.json'\n",
    "VILLESFR = pd.read_json(filepath, orient='records', lines=True)"
   ]
  },
  {
   "cell_type": "markdown",
   "metadata": {},
   "source": [
    " Quelle proportion des QIds \"gold\" de VILLESFR retrouve-t-on dans l'index utilisé par T-RES ? "
   ]
  },
  {
   "cell_type": "code",
   "execution_count": 7,
   "metadata": {},
   "outputs": [
    {
     "name": "stdout",
     "output_type": "stream",
     "text": [
      "['RETHEL' 'BRIGNOLES' 'AUTUN' 'Brie-Comte-Braine' 'Chateau-Salins' 'CONTY'\n",
      " 'VOUGLE' 'BARBONNE' 'NIONS' 'SORGUE' 'NEUFCHATEL en Bray'\n",
      " \"Chateau-d'Oleron\" 'VILLEPINTE' 'ANGLURE' 'Dun-le-Roi']\n"
     ]
    }
   ],
   "source": [
    "print(VILLESFR.sample(15)['head'].values[:])"
   ]
  },
  {
   "cell_type": "code",
   "execution_count": 8,
   "metadata": {},
   "outputs": [
    {
     "name": "stdout",
     "output_type": "stream",
     "text": [
      "*** Loading the ranker resources.\n"
     ]
    }
   ],
   "source": [
    "def load_resources(method=\"mostpopular\",\n",
    "                   resources_path=\"../resources/\"\n",
    "                   ) :\n",
    "\n",
    "    print(\"*** Loading the ranker resources.\")\n",
    "\n",
    "    # Load files\n",
    "    files = {\n",
    "        \"mentions_to_wikidata\": os.path.join(\n",
    "            resources_path, \"wikidata/mentions_to_wikidata_normalized.json\"\n",
    "        ),\n",
    "        \"wikidata_to_mentions\": os.path.join(\n",
    "            resources_path, \"wikidata/wikidata_to_mentions_normalized.json\"\n",
    "        ),\n",
    "    }\n",
    "\n",
    "    with open(files[\"mentions_to_wikidata\"], \"r\") as f:\n",
    "        mentions_to_wikidata = json.load(f)\n",
    "\n",
    "    with open(files[\"wikidata_to_mentions\"], \"r\") as f:\n",
    "        wikidata_to_mentions = json.load(f)\n",
    "\n",
    "    # Filter mentions to remove noise:\n",
    "    wikidata_to_mentions_filtered = dict()\n",
    "    mentions_to_wikidata_filtered = dict()\n",
    "    for wk in wikidata_to_mentions:\n",
    "        wikipedia_mentions = wikidata_to_mentions.get(wk)\n",
    "        wikipedia_mentions_stripped = dict(\n",
    "            [\n",
    "                (x, wikipedia_mentions[x])\n",
    "                for x in wikipedia_mentions\n",
    "                if not \", \" in x and not \" (\" in x\n",
    "            ]\n",
    "        )\n",
    "\n",
    "        if wikipedia_mentions_stripped:\n",
    "            wikipedia_mentions = wikipedia_mentions_stripped\n",
    "\n",
    "        wikidata_to_mentions_filtered[wk] = dict(\n",
    "            [(x, wikipedia_mentions[x]) for x in wikipedia_mentions]\n",
    "        )\n",
    "\n",
    "        for m in wikidata_to_mentions_filtered[wk]:\n",
    "            if m in mentions_to_wikidata_filtered:\n",
    "                mentions_to_wikidata_filtered[m][\n",
    "                    wk\n",
    "                ] = wikidata_to_mentions_filtered[wk][m]\n",
    "            else:\n",
    "                mentions_to_wikidata_filtered[m] = {\n",
    "                    wk: wikidata_to_mentions_filtered[wk][m]\n",
    "                }\n",
    "\n",
    "    mentions_to_wikidata = mentions_to_wikidata_filtered\n",
    "    wikidata_to_mentions = wikidata_to_mentions_filtered\n",
    "\n",
    "    del mentions_to_wikidata_filtered\n",
    "    del wikidata_to_mentions_filtered\n",
    "\n",
    "    # Parallelize if ranking method is one of the following:\n",
    "    if method in [\"partialmatch\", \"levenshtein\"]:\n",
    "        pandarallel.initialize(nb_workers=10)\n",
    "        os.environ[\"TOKENIZERS_PARALLELISM\"] = \"true\"\n",
    "\n",
    "    return mentions_to_wikidata, wikidata_to_mentions\n",
    "\n",
    "mentions_to_wikidata, wikidata_to_mentions = load_resources()"
   ]
  },
  {
   "cell_type": "code",
   "execution_count": 9,
   "metadata": {},
   "outputs": [
    {
     "data": {
      "text/plain": [
       "36"
      ]
     },
     "execution_count": 9,
     "metadata": {},
     "output_type": "execute_result"
    }
   ],
   "source": [
    "df = VILLESFR.copy(deep=True)\n",
    "df['related_mentions'] = None\n",
    "\n",
    "for idx,row in df.iterrows():\n",
    "    related_mentions = []\n",
    "    # check if wikidata_to_mentions.get(row['gold']) doesn't yeld a keyerror :\n",
    "    if wikidata_to_mentions.get(row['gold']) is None:\n",
    "        df.at[idx,'related_mentions'] = None\n",
    "        #print(row['head'])\n",
    "        #print(WDO.WikidataObject(row['gold']))\n",
    "        continue\n",
    "    else:\n",
    "        related_mentions = wikidata_to_mentions.get(row['gold'])\n",
    "        #print(row['head'])\n",
    "        #print(related_mentions)\n",
    "        df.at[idx,'related_mentions'] = related_mentions\n",
    "\n",
    "#count of None in related_mentions\n",
    "df['related_mentions'].isnull().sum()\n",
    "        "
   ]
  },
  {
   "cell_type": "code",
   "execution_count": 10,
   "metadata": {},
   "outputs": [],
   "source": [
    "# Saint-Étienne-de-Carlat\n",
    "mentions_to_wikidata.get('Saint-Étienne-de-Carlat')"
   ]
  },
  {
   "cell_type": "code",
   "execution_count": 11,
   "metadata": {},
   "outputs": [],
   "source": [
    "wikidata_to_mentions.get('Q270192')"
   ]
  },
  {
   "cell_type": "markdown",
   "metadata": {},
   "source": [
    "> 36 ressources de Wikidata ne sont pas présentes dans l'index ! simplement parce qu'elles n'ont pas de page wikipedia en anglais et donc leur ressource Wikidata n'est pas consultée"
   ]
  },
  {
   "cell_type": "code",
   "execution_count": 12,
   "metadata": {},
   "outputs": [
    {
     "data": {
      "text/plain": [
       "(790, 5)"
      ]
     },
     "execution_count": 12,
     "metadata": {},
     "output_type": "execute_result"
    }
   ],
   "source": [
    "subVILLESFR = df[df['related_mentions'].notnull()]\n",
    "subVILLESFR.shape"
   ]
  },
  {
   "attachments": {},
   "cell_type": "markdown",
   "metadata": {},
   "source": [
    "# DeezyMatch + REL"
   ]
  },
  {
   "cell_type": "code",
   "execution_count": 4,
   "metadata": {},
   "outputs": [],
   "source": [
    "# --------------------------------------\n",
    "# Instantiate the ranker:\n",
    "myranker = ranking.Ranker(\n",
    "    method=\"deezymatch\",\n",
    "    resources_path= path + \"resources/\",\n",
    "    strvar_parameters={\"overwrite_dataset\": False,},\n",
    "    deezy_parameters={\n",
    "        # Paths and filenames of DeezyMatch models and data:\n",
    "        \"dm_path\": str(Path( path + \"resources/deezymatch/\").resolve()),\n",
    "        \"dm_cands\": \"wkdtalts\",\n",
    "        \"dm_model\": \"w2v_ocr\",\n",
    "        \"dm_output\": \"deezymatch_on_the_fly\",\n",
    "        # Ranking measures:\n",
    "        \"ranking_metric\": \"faiss\",\n",
    "        \"selection_threshold\": 50,\n",
    "        \"num_candidates\": 10,\n",
    "        \"verbose\": False,\n",
    "        # DeezyMatch training:\n",
    "        \"overwrite_training\": False,\n",
    "        \"do_test\": False,\n",
    "    },\n",
    ")\n",
    "\n",
    "# --------------------------------------\n",
    "# Instantiate the Linker:\n",
    "with sqlite3.connect( path + \"resources/rel_db/embeddings_database.db\") as conn:\n",
    "    cursor = conn.cursor()\n",
    "    mylinker = linking.Linker(\n",
    "        method=\"reldisamb\",\n",
    "        resources_path= path + \"resources/\",\n",
    "        rel_params={\n",
    "            \"model_path\": path + \"resources/models/disamb2\",\n",
    "            \"data_path\":  path + \"experiments/outputs/data/lwm/\",\n",
    "            \"training_split\": \"originalsplit\",\n",
    "            \"db_embeddings\": cursor,\n",
    "            \"with_publication\": False,\n",
    "            \"without_microtoponyms\": True,\n",
    "            \"do_test\": False,\n",
    "            \"default_publname\": \"\",\n",
    "            \"default_publwqid\": \"\",\n",
    "        },\n",
    "        overwrite_training=False,\n",
    "    )"
   ]
  },
  {
   "cell_type": "code",
   "execution_count": 5,
   "metadata": {},
   "outputs": [
    {
     "name": "stdout",
     "output_type": "stream",
     "text": [
      "*** Loading the ranker resources.\n",
      "The DeezyMatch model is already trained!\n",
      "*** Load linking resources.\n",
      "  > Loading mentions to wikidata mapping.\n",
      "  > Loading gazetteer.\n",
      "*** Linking resources loaded!\n",
      "\n",
      "Model path: /home/antoine/Documents/GitHub/T-Res/resources/models/disamb2/deezymatch+10+50_originalsplit+wmtops/model eval\n",
      "Loading model from given path: /home/antoine/Documents/GitHub/T-Res/resources/models/disamb2/deezymatch+10+50_originalsplit+wmtops/model\n",
      "{'mode': 'eval', 'model_path': '/home/antoine/Documents/GitHub/T-Res/resources/models/disamb2/deezymatch+10+50_originalsplit+wmtops/model', 'prerank_ctx_window': 50, 'keep_p_e_m': 15, 'keep_ctx_ent': 5, 'ctx_window': 100, 'tok_top_n': 25, 'mulrel_type': 'ment-norm', 'n_rels': 3, 'hid_dims': 100, 'emb_dims': 300, 'snd_local_ctx_window': 6, 'dropout_rate': 0.3, 'n_epochs': 1000, 'dev_f1_change_lr': 0.915, 'n_not_inc': 10, 'eval_after_n_epochs': 5, 'learning_rate': 0.0001, 'margin': 0.01, 'df': 0.5, 'n_loops': 10, 'n_cands_before_rank': 30, 'first_head_uniforn': False, 'use_pad_ent': True, 'use_local': True, 'use_local_only': False, 'oracle': False}\n"
     ]
    },
    {
     "name": "stderr",
     "output_type": "stream",
     "text": [
      "/home/antoine/.cache/pypoetry/virtualenvs/t-res-rAxVKS4n-py3.9/lib/python3.9/site-packages/sklearn/base.py:376: InconsistentVersionWarning: Trying to unpickle estimator LogisticRegression from version 1.4.2 when using version 1.4.1.post1. This might lead to breaking code or invalid results. Use at your own risk. For more info please refer to:\n",
      "https://scikit-learn.org/stable/model_persistence.html#security-maintainability-limitations\n",
      "  warnings.warn(\n"
     ]
    }
   ],
   "source": [
    "geoparser = geode_pipe.Pipeline(geodeNERpath=NER_path,\n",
    "                              myranker=myranker,\n",
    "                              mylinker=mylinker)"
   ]
  },
  {
   "cell_type": "code",
   "execution_count": 6,
   "metadata": {},
   "outputs": [
    {
     "name": "stdout",
     "output_type": "stream",
     "text": [
      "{\n",
      "  \"mention\": \"Etoile\",\n",
      "  \"ner_score\": 1,\n",
      "  \"pos\": 0,\n",
      "  \"sent_idx\": 0,\n",
      "  \"end_pos\": 5,\n",
      "  \"tag\": \"B-LOC\",\n",
      "  \"sentence\": \"Etoile, (G\\u00e9og. mod.) petite ville du Dauphin\\u00e9. \",\n",
      "  \"prediction\": \"Q390243\",\n",
      "  \"ed_score\": 0.092,\n",
      "  \"cross_cand_score\": {\n",
      "    \"Q390243\": 0.132,\n",
      "    \"Q5404767\": 0.129,\n",
      "    \"Q14157452\": 0.125,\n",
      "    \"Q5404758\": 0.125,\n",
      "    \"Q2944781\": 0.124,\n",
      "    \"Q1097938\": 0.122,\n",
      "    \"Q3297654\": 0.122,\n",
      "    \"Q3592468\": 0.121\n",
      "  },\n",
      "  \"string_match_score\": {\n",
      "    \"Etoile\": [\n",
      "      1.0,\n",
      "      [\n",
      "        \"Q2944781\",\n",
      "        \"Q390243\",\n",
      "        \"Q3592468\",\n",
      "        \"Q5404767\",\n",
      "        \"Q14157452\",\n",
      "        \"Q3297654\",\n",
      "        \"Q5404758\",\n",
      "        \"Q1097938\"\n",
      "      ]\n",
      "    ]\n",
      "  },\n",
      "  \"prior_cand_score\": {\n",
      "    \"Q5404767\": 0.844,\n",
      "    \"Q5404758\": 0.75,\n",
      "    \"Q14157452\": 0.546,\n",
      "    \"Q390243\": 0.533,\n",
      "    \"Q3592468\": 0.345,\n",
      "    \"Q3297654\": 0.323,\n",
      "    \"Q1097938\": 0.312,\n",
      "    \"Q2944781\": 0.302\n",
      "  },\n",
      "  \"latlon\": [\n",
      "    48.873889,\n",
      "    2.294722\n",
      "  ],\n",
      "  \"wkdt_class\": \"Q174782\"\n",
      "}\n",
      "{\n",
      "  \"mention\": \"Dauphin\\u00e9\",\n",
      "  \"ner_score\": 1,\n",
      "  \"pos\": 37,\n",
      "  \"sent_idx\": 0,\n",
      "  \"end_pos\": 45,\n",
      "  \"tag\": \"B-LOC\",\n",
      "  \"sentence\": \"Etoile, (G\\u00e9og. mod.) petite ville du Dauphin\\u00e9. \",\n",
      "  \"prediction\": \"Q151999\",\n",
      "  \"ed_score\": 0.1,\n",
      "  \"cross_cand_score\": {\n",
      "    \"Q151999\": 0.519,\n",
      "    \"Q743382\": 0.481\n",
      "  },\n",
      "  \"string_match_score\": {\n",
      "    \"Dauphin\\u00e9\": [\n",
      "      1.0,\n",
      "      [\n",
      "        \"Q151999\",\n",
      "        \"Q743382\"\n",
      "      ]\n",
      "    ]\n",
      "  },\n",
      "  \"prior_cand_score\": {\n",
      "    \"Q151999\": 0.887,\n",
      "    \"Q743382\": 0.23\n",
      "  },\n",
      "  \"latlon\": [\n",
      "    45.383333,\n",
      "    5.733333\n",
      "  ],\n",
      "  \"wkdt_class\": \"Q209495\"\n",
      "}\n",
      "0.392620325088501\n"
     ]
    }
   ],
   "source": [
    "import time\n",
    "start = time.time()\n",
    "\n",
    "sentence = \"* ALBI, (Géog.) ville de France, capitale de l'Albigeois, dans le haut Languedoc : elle est sur le Tarn. Long. 19. 49. lat. 43. 55. 44.\"\n",
    "sentence = \"Etoile, (Géog. mod.) petite ville du Dauphiné. \"\n",
    "sentence.find('ALBI')\n",
    "resolved = geoparser.run_sentence(sentence, HEAD='Etoile', verbose=False)\n",
    "for r in resolved:\n",
    "    print(json.dumps(r, indent=2))\n",
    "\n",
    "print(time.time() - start)"
   ]
  },
  {
   "cell_type": "code",
   "execution_count": null,
   "metadata": {},
   "outputs": [],
   "source": [
    "import pandas as pd\n",
    "import WikidataObject as wdo\n",
    "\n",
    "sample2 = VILLESFR.copy(deep=True)\n",
    "verbose = False\n",
    "\n",
    "if 'resolved' not in sample2.columns:\n",
    "    sample2['resolved'] = None\n",
    "\n",
    "for i, row in sample2.iterrows():\n",
    "    resolved = geoparser.run_sentence(row['fullcontent'], HEAD=row['head'])\n",
    "\n",
    "    skyline = row['gold'] in resolved[0]['cross_cand_score'].keys()\n",
    "    best_pred = resolved[0]['prediction']\n",
    "\n",
    "    if best_pred[0] != 'Q':\n",
    "        acc10 = False\n",
    "    else:\n",
    "        wd_pred = wdo.WikidataObject(best_pred, coordinates=resolved[0]['latlon'])\n",
    "        acc10 = wd_pred._distance_to(row['gold']) <= 10\n",
    "\n",
    "    sample2.at[i, 'resolved'] = resolved[0]\n",
    "    sample2.at[i, 'skyline'] = skyline\n",
    "    sample2.at[i, 'bestPred'] = best_pred\n",
    "    sample2.at[i, 'acc10'] = acc10\n",
    "\n",
    "    if verbose:\n",
    "        print(f\"Head: {row['head']}\")\n",
    "        print(f\"Gold: {row['gold']}\")\n",
    "        print(f\"Prediction: {best_pred}\")\n",
    "        print(f\"Skyline: {skyline}\")\n",
    "        print(resolved[0]['cross_cand_score'])\n",
    "        print(f\"Accuracy 10: {acc10}\\n\")\n"
   ]
  },
  {
   "cell_type": "markdown",
   "metadata": {},
   "source": [
    "### perf"
   ]
  },
  {
   "cell_type": "code",
   "execution_count": null,
   "metadata": {},
   "outputs": [],
   "source": [
    "sample2.to_json('t_res_results_140424.json', orient='records', lines=True)"
   ]
  },
  {
   "cell_type": "code",
   "execution_count": 9,
   "metadata": {},
   "outputs": [],
   "source": [
    "sample2 = pd.read_json('t_res_deezy+rel_140424.json', orient='records', lines=True)   "
   ]
  },
  {
   "cell_type": "code",
   "execution_count": 10,
   "metadata": {},
   "outputs": [
    {
     "name": "stdout",
     "output_type": "stream",
     "text": [
      "True     0.617433\n",
      "False    0.382567\n",
      "Name: skyline, dtype: float64 \n",
      "\n",
      "False    0.553269\n",
      "True     0.446731\n",
      "Name: acc10, dtype: float64 \n",
      "\n"
     ]
    }
   ],
   "source": [
    "\n",
    "print(sample2.skyline.value_counts(normalize=True), '\\n')\n",
    "print(sample2.acc10.value_counts(normalize=True), '\\n')"
   ]
  },
  {
   "cell_type": "markdown",
   "metadata": {
    "jp-MarkdownHeadingCollapsed": true
   },
   "source": [
    "# Perfect match"
   ]
  },
  {
   "cell_type": "code",
   "execution_count": 2,
   "metadata": {},
   "outputs": [],
   "source": [
    "myranker = ranking.Ranker(\n",
    "    method=\"perfectmatch\",\n",
    "    resources_path=\"../resources/\",\n",
    ")"
   ]
  },
  {
   "cell_type": "code",
   "execution_count": 4,
   "metadata": {},
   "outputs": [
    {
     "data": {
      "text/plain": [
       "({'Villeurbanne': {}}, {'villeurbanne': {}, 'Villeurbanne': {}})"
      ]
     },
     "execution_count": 4,
     "metadata": {},
     "output_type": "execute_result"
    }
   ],
   "source": [
    "myranker.perfect_match(queries=['Villeurbanne'])"
   ]
  },
  {
   "cell_type": "code",
   "execution_count": 6,
   "metadata": {},
   "outputs": [],
   "source": [
    "mylinker = linking.Linker(\n",
    "    method=\"mostpopular\",\n",
    "    resources_path=\"../resources/\",\n",
    ")"
   ]
  },
  {
   "cell_type": "code",
   "execution_count": 7,
   "metadata": {},
   "outputs": [
    {
     "name": "stdout",
     "output_type": "stream",
     "text": [
      "*** Loading the ranker resources.\n",
      "*** Load linking resources.\n",
      "  > Loading mentions to wikidata mapping.\n",
      "  > Loading gazetteer.\n",
      "*** Linking resources loaded!\n",
      "\n"
     ]
    }
   ],
   "source": [
    "geoparser = geode_pipe.Pipeline(geodeNERpath=NER_path,\n",
    "                              myranker=myranker,\n",
    "                              mylinker=mylinker)"
   ]
  },
  {
   "cell_type": "code",
   "execution_count": 8,
   "metadata": {},
   "outputs": [
    {
     "name": "stdout",
     "output_type": "stream",
     "text": [
      "{\n",
      "  \"mention\": \"ALBI\",\n",
      "  \"ner_score\": 1,\n",
      "  \"pos\": 2,\n",
      "  \"sent_idx\": 0,\n",
      "  \"end_pos\": 5,\n",
      "  \"tag\": \"B-LOC\",\n",
      "  \"sentence\": \"* ALBI, (G\\u00e9og.) ville dans le haut Languedoc : elle est sur le Tarn. Long. 19. 49. lat. 43. 55. 44.\",\n",
      "  \"prediction\": \"Q132801\",\n",
      "  \"ed_score\": 0.921,\n",
      "  \"string_match_score\": {\n",
      "    \"Albi\": [\n",
      "      1.0,\n",
      "      [\n",
      "        \"Q94744\",\n",
      "        \"Q132801\",\n",
      "        \"Q951428\",\n",
      "        \"Q53749\",\n",
      "        \"Q284698\",\n",
      "        \"Q700379\"\n",
      "      ]\n",
      "    ]\n",
      "  },\n",
      "  \"prior_cand_score\": {},\n",
      "  \"cross_cand_score\": {\n",
      "    \"Q132801\": 0.921,\n",
      "    \"Q53749\": 0.036,\n",
      "    \"Q951428\": 0.028,\n",
      "    \"Q94744\": 0.005,\n",
      "    \"Q284698\": 0.005,\n",
      "    \"Q700379\": 0.005\n",
      "  },\n",
      "  \"latlon\": [\n",
      "    43.928056,\n",
      "    2.145833\n",
      "  ],\n",
      "  \"wkdt_class\": \"Q484170\"\n",
      "}\n",
      "{\n",
      "  \"mention\": \"Tarn\",\n",
      "  \"ner_score\": 1,\n",
      "  \"pos\": 63,\n",
      "  \"sent_idx\": 0,\n",
      "  \"end_pos\": 67,\n",
      "  \"tag\": \"B-LOC\",\n",
      "  \"sentence\": \"* ALBI, (G\\u00e9og.) ville dans le haut Languedoc : elle est sur le Tarn. Long. 19. 49. lat. 43. 55. 44.\",\n",
      "  \"prediction\": \"Q12772\",\n",
      "  \"ed_score\": 0.856,\n",
      "  \"string_match_score\": {\n",
      "    \"Tarn\": [\n",
      "      1.0,\n",
      "      [\n",
      "        \"Q215653\",\n",
      "        \"Q12772\",\n",
      "        \"Q1538251\"\n",
      "      ]\n",
      "    ]\n",
      "  },\n",
      "  \"prior_cand_score\": {},\n",
      "  \"cross_cand_score\": {\n",
      "    \"Q12772\": 0.856,\n",
      "    \"Q215653\": 0.141,\n",
      "    \"Q1538251\": 0.003\n",
      "  },\n",
      "  \"latlon\": [\n",
      "    43.909722,\n",
      "    2.109167\n",
      "  ],\n",
      "  \"wkdt_class\": \"Q6465\"\n",
      "}\n",
      "{\n",
      "  \"mention\": \"Languedoc\",\n",
      "  \"ner_score\": 1,\n",
      "  \"pos\": 35,\n",
      "  \"sent_idx\": 0,\n",
      "  \"end_pos\": 44,\n",
      "  \"tag\": \"B-LOC\",\n",
      "  \"sentence\": \"* ALBI, (G\\u00e9og.) ville dans le haut Languedoc : elle est sur le Tarn. Long. 19. 49. lat. 43. 55. 44.\",\n",
      "  \"prediction\": \"Q206221\",\n",
      "  \"ed_score\": 1.0,\n",
      "  \"string_match_score\": {\n",
      "    \"languedoc\": [\n",
      "      1.0,\n",
      "      [\n",
      "        \"Q206221\"\n",
      "      ]\n",
      "    ]\n",
      "  },\n",
      "  \"prior_cand_score\": {},\n",
      "  \"cross_cand_score\": {\n",
      "    \"Q206221\": 1.0\n",
      "  },\n",
      "  \"latlon\": [\n",
      "    43.666667,\n",
      "    3.166667\n",
      "  ],\n",
      "  \"wkdt_class\": \"Q572995\"\n",
      "}\n"
     ]
    }
   ],
   "source": [
    "sentence = \"* ALBI, (Géog.) ville dans le haut Languedoc : elle est sur le Tarn. Long. 19. 49. lat. 43. 55. 44.\"\n",
    "resolved = geoparser.run_sentence(sentence, HEAD='ALBI', verbose=False)\n",
    "for r in resolved:\n",
    "    print(json.dumps(r, indent=2))"
   ]
  },
  {
   "cell_type": "code",
   "execution_count": 16,
   "metadata": {},
   "outputs": [],
   "source": [
    "sample3 = VILLESFR.copy(deep=True)\n",
    "verbose = False\n",
    "\n",
    "if 'resolved' not in sample3.columns:\n",
    "    sample3['resolved'] = None\n",
    "\n",
    "for i, row in sample3.iterrows():\n",
    "    resolved = geoparser.run_sentence(row['fullcontent'], HEAD=row['head'])\n",
    "\n",
    "    skyline = row['gold'] in resolved[0]['cross_cand_score'].keys()\n",
    "    best_pred = resolved[0]['prediction']\n",
    "\n",
    "    if best_pred[0] != 'Q':\n",
    "        acc10 = False\n",
    "    else:\n",
    "        wd_pred = wdo.WikidataObject(best_pred, coordinates=resolved[0]['latlon'])\n",
    "        acc10 = wd_pred._distance_to(row['gold']) <= 10\n",
    "\n",
    "    sample3.at[i, 'resolved'] = resolved[0]\n",
    "    sample3.at[i, 'skyline'] = skyline\n",
    "    sample3.at[i, 'bestPred'] = best_pred\n",
    "    sample3.at[i, 'acc10'] = acc10\n",
    "\n",
    "    if verbose:\n",
    "        print(f\"Head: {row['head']}\")\n",
    "        print(f\"Gold: {row['gold']}\")\n",
    "        print(f\"Prediction: {best_pred}\")\n",
    "        print(f\"Skyline: {skyline}\")\n",
    "        print(resolved[0]['cross_cand_score'])\n",
    "        print(f\"Accuracy 10: {acc10}\\n\")\n"
   ]
  },
  {
   "cell_type": "code",
   "execution_count": 17,
   "metadata": {},
   "outputs": [],
   "source": [
    "sample3.to_json('t_res_perfect+mostpop_170424.json', orient='records', lines=True)"
   ]
  },
  {
   "cell_type": "markdown",
   "metadata": {},
   "source": [
    "# Partial match - containement / levenshtein"
   ]
  },
  {
   "cell_type": "code",
   "execution_count": 2,
   "metadata": {},
   "outputs": [],
   "source": [
    "myranker = ranking.Ranker(\n",
    "    method=\"levenshtein\",\n",
    "    resources_path=\"../resources/\",\n",
    ")"
   ]
  },
  {
   "cell_type": "code",
   "execution_count": 3,
   "metadata": {},
   "outputs": [],
   "source": [
    "mylinker = linking.Linker(\n",
    "    method=\"mostpopular\",\n",
    "    resources_path=\"../resources/\",\n",
    ")"
   ]
  },
  {
   "cell_type": "code",
   "execution_count": 9,
   "metadata": {},
   "outputs": [],
   "source": [
    "# Instantiate the Linker:\n",
    "with sqlite3.connect( path + \"resources/rel_db/embeddings_database.db\") as conn:\n",
    "    cursor = conn.cursor()\n",
    "    mylinker = linking.Linker(\n",
    "        method=\"reldisamb\",\n",
    "        resources_path= path + \"resources/\",\n",
    "        rel_params={\n",
    "            \"model_path\": path + \"resources/models/disambiguation/\",\n",
    "            \"data_path\":  path + \"experiments/outputs/data/lwm/\",\n",
    "            \"training_split\": \"originalsplit\",\n",
    "            \"db_embeddings\": cursor,\n",
    "            \"with_publication\": False,\n",
    "            \"without_microtoponyms\": True,\n",
    "            \"do_test\": False,\n",
    "            \"default_publname\": \"\",\n",
    "            \"default_publwqid\": \"\",\n",
    "        },\n",
    "        overwrite_training=False,\n",
    "    )"
   ]
  },
  {
   "cell_type": "code",
   "execution_count": 4,
   "metadata": {},
   "outputs": [
    {
     "name": "stdout",
     "output_type": "stream",
     "text": [
      "*** Loading the ranker resources.\n",
      "INFO: Pandarallel will run on 10 workers.\n",
      "INFO: Pandarallel will use Memory file system to transfer data between the main process and workers.\n",
      "*** Load linking resources.\n",
      "  > Loading mentions to wikidata mapping.\n",
      "  > Loading gazetteer.\n",
      "*** Linking resources loaded!\n",
      "\n"
     ]
    }
   ],
   "source": [
    "geoparser = geode_pipe.Pipeline(geodeNERpath=NER_path,\n",
    "                              myranker=myranker,\n",
    "                              mylinker=mylinker)"
   ]
  },
  {
   "cell_type": "code",
   "execution_count": 5,
   "metadata": {
    "collapsed": true,
    "jupyter": {
     "outputs_hidden": true
    }
   },
   "outputs": [
    {
     "name": "stdout",
     "output_type": "stream",
     "text": [
      "{'Etoile': {'Etoile': 1.0, 'Étoile': 0.8333333283662796}, 'Dauphiné': {}}\n",
      "{'Etoile': {'Etoile': 1.0, 'Étoile': 0.8333333283662796}, 'Dauphiné': {'Dauphiné': 1.0, 'Dauphin': 0.875, 'Dauphine': 0.875, 'Dauphiny': 0.875}}\n",
      "{\n",
      "  \"mention\": \"Etoile\",\n",
      "  \"ner_score\": 1,\n",
      "  \"pos\": 0,\n",
      "  \"sent_idx\": 0,\n",
      "  \"end_pos\": 5,\n",
      "  \"tag\": \"B-LOC\",\n",
      "  \"sentence\": \"Etoile, (G\\u00e9og. mod.) petite ville du Dauphin\\u00e9. \",\n",
      "  \"prediction\": \"Q2467665\",\n",
      "  \"ed_score\": 0.5,\n",
      "  \"string_match_score\": {\n",
      "    \"Etoile\": [\n",
      "      1.0,\n",
      "      [\n",
      "        \"Q2944781\",\n",
      "        \"Q390243\",\n",
      "        \"Q3592468\",\n",
      "        \"Q5404767\",\n",
      "        \"Q14157452\",\n",
      "        \"Q3297654\",\n",
      "        \"Q5404758\",\n",
      "        \"Q1097938\"\n",
      "      ]\n",
      "    ],\n",
      "    \"\\u00c9toile\": [\n",
      "      0.833,\n",
      "      [\n",
      "        \"Q390243\",\n",
      "        \"Q2467665\",\n",
      "        \"Q3592468\"\n",
      "      ]\n",
      "    ]\n",
      "  },\n",
      "  \"prior_cand_score\": {},\n",
      "  \"cross_cand_score\": {\n",
      "    \"Q2467665\": 0.5,\n",
      "    \"Q5404767\": 0.111,\n",
      "    \"Q5404758\": 0.074,\n",
      "    \"Q390243\": 0.056,\n",
      "    \"Q3592468\": 0.056,\n",
      "    \"Q14157452\": 0.056,\n",
      "    \"Q2944781\": 0.019\n",
      "  },\n",
      "  \"latlon\": [\n",
      "    48.873611,\n",
      "    2.295\n",
      "  ],\n",
      "  \"wkdt_class\": \"Q55488\"\n",
      "}\n",
      "{\n",
      "  \"mention\": \"Dauphin\\u00e9\",\n",
      "  \"ner_score\": 1,\n",
      "  \"pos\": 37,\n",
      "  \"sent_idx\": 0,\n",
      "  \"end_pos\": 45,\n",
      "  \"tag\": \"B-LOC\",\n",
      "  \"sentence\": \"Etoile, (G\\u00e9og. mod.) petite ville du Dauphin\\u00e9. \",\n",
      "  \"prediction\": \"Q151999\",\n",
      "  \"ed_score\": 0.614,\n",
      "  \"string_match_score\": {\n",
      "    \"Dauphin\\u00e9\": [\n",
      "      1.0,\n",
      "      [\n",
      "        \"Q151999\",\n",
      "        \"Q743382\"\n",
      "      ]\n",
      "    ],\n",
      "    \"Dauphin\": [\n",
      "      0.875,\n",
      "      [\n",
      "        \"Q151999\",\n",
      "        \"Q1173008\",\n",
      "        \"Q488690\",\n",
      "        \"Q1130755\",\n",
      "        \"Q932623\",\n",
      "        \"Q3017075\",\n",
      "        \"Q3077837\",\n",
      "        \"Q473304\",\n",
      "        \"Q1658912\",\n",
      "        \"Q1173016\",\n",
      "        \"Q182988\"\n",
      "      ]\n",
      "    ],\n",
      "    \"Dauphine\": [\n",
      "      0.875,\n",
      "      [\n",
      "        \"Q151999\",\n",
      "        \"Q1546437\",\n",
      "        \"Q1117985\"\n",
      "      ]\n",
      "    ],\n",
      "    \"Dauphiny\": [\n",
      "      0.875,\n",
      "      [\n",
      "        \"Q151999\"\n",
      "      ]\n",
      "    ]\n",
      "  },\n",
      "  \"prior_cand_score\": {},\n",
      "  \"cross_cand_score\": {\n",
      "    \"Q1173008\": 0.154,\n",
      "    \"Q488690\": 0.112,\n",
      "    \"Q1130755\": 0.035,\n",
      "    \"Q473304\": 0.025,\n",
      "    \"Q3017075\": 0.016,\n",
      "    \"Q1117985\": 0.011,\n",
      "    \"Q1658912\": 0.009\n",
      "  },\n",
      "  \"latlon\": [\n",
      "    45.383333,\n",
      "    5.733333\n",
      "  ],\n",
      "  \"wkdt_class\": \"Q209495\"\n",
      "}\n",
      "45.78071880340576\n"
     ]
    }
   ],
   "source": [
    "import time\n",
    "start = time.time()\n",
    "\n",
    "sentence = \"* ALBI, (Géog.) capitale de l'Albigeois, dans le haut Languedoc : elle est sur le Tarn. Long. 19. 49. lat. 43. 55. 44.\"\n",
    "sentence = \"Etoile, (Géog. mod.) petite ville du Dauphiné. \"\n",
    "resolved = geoparser.run_sentence(sentence, HEAD='Etoile', verbose=False)\n",
    "for r in resolved:\n",
    "    print(json.dumps(r, indent=2))\n",
    "\n",
    "print(time.time() - start)"
   ]
  },
  {
   "cell_type": "code",
   "execution_count": null,
   "metadata": {
    "collapsed": true,
    "jupyter": {
     "outputs_hidden": true
    }
   },
   "outputs": [
    {
     "name": "stdout",
     "output_type": "stream",
     "text": [
      "Head: ROQUEMADOUR\n",
      "Gold: Q382628\n",
      "Prediction: Q7271216\n",
      "Skyline: False\n",
      "{'Q7271216': 0.605, 'Q969251': 0.395}\n",
      "Accuracy 10: False\n",
      "\n",
      "Head: LISIEUX\n",
      "Gold: Q188743\n",
      "Prediction: Q188743\n",
      "Skyline: True\n",
      "{'Q188743': 0.9, 'Q927533': 0.037, 'Q1332597': 0.033, 'Q701531': 0.012, 'Q14874972': 0.012, 'Q810098': 0.004}\n",
      "Accuracy 10: True\n",
      "\n",
      "Head: NEUVILLER\n",
      "Gold: Q21355\n",
      "Prediction: Q195340\n",
      "Skyline: False\n",
      "{'Q195340': 1.0}\n",
      "Accuracy 10: False\n",
      "\n",
      "Head: CHAVANNES\n",
      "Gold: Q845009\n",
      "Prediction: Q740710\n",
      "Skyline: False\n",
      "{'Q740710': 0.5, 'Q455485': 0.5}\n",
      "Accuracy 10: False\n",
      "\n",
      "Head: MONTEREAU-FAUT-YONNE\n",
      "Gold: Q242191\n",
      "Prediction: Q242191\n",
      "Skyline: True\n",
      "{'Q242191': 0.603, 'Q1470564': 0.247, 'Q976655': 0.11, 'Q2117756': 0.041}\n",
      "Accuracy 10: True\n",
      "\n",
      "Head: COURMONTERAL\n",
      "Gold: Q196035\n",
      "Prediction: Q5740928\n",
      "Skyline: False\n",
      "{'Q5740928': 1.0}\n",
      "Accuracy 10: False\n",
      "\n",
      "Head: BOURGES\n",
      "Gold: Q132404\n",
      "Prediction: Q132404\n",
      "Skyline: True\n",
      "{'Q132404': 0.986, 'Q207985': 0.009, 'Q660934': 0.002, 'Q700723': 0.002, 'Q60791320': 0.001}\n",
      "Accuracy 10: True\n",
      "\n",
      "Head: Treves\n",
      "Gold: Q675749\n",
      "Prediction: Q3138\n",
      "Skyline: False\n",
      "{'Q3138': 0.946, 'Q244477': 0.054}\n",
      "Accuracy 10: False\n",
      "\n",
      "Head: SAVERDUN\n",
      "Gold: Q693973\n",
      "Prediction: Q693973\n",
      "Skyline: True\n",
      "{'Q693973': 0.97, 'Q3097700': 0.03}\n",
      "Accuracy 10: True\n",
      "\n",
      "Head: Chateau-Meillant\n",
      "Gold: Q818273\n",
      "Prediction: Q818273\n",
      "Skyline: True\n",
      "{'Q818273': 1.0}\n",
      "Accuracy 10: True\n",
      "\n"
     ]
    }
   ],
   "source": [
    "sample4 = subVILLESFR.copy(deep=True)\n",
    "verbose = False\n",
    "\n",
    "if 'resolved' not in sample4.columns:\n",
    "    sample4['resolved'] = None\n",
    "\n",
    "for i, row in sample4.iterrows():\n",
    "    resolved = geoparser.run_sentence(row['fullcontent'], HEAD=row['head'])\n",
    "\n",
    "    skyline = row['gold'] in resolved[0]['cross_cand_score'].keys()\n",
    "    best_pred = resolved[0]['prediction']\n",
    "\n",
    "    if best_pred[0] != 'Q':\n",
    "        acc10 = False\n",
    "    else:\n",
    "        wd_pred = wdo.WikidataObject(best_pred, coordinates=resolved[0]['latlon'])\n",
    "        acc10 = wd_pred._distance_to(row['gold']) <= 10\n",
    "\n",
    "    sample4.at[i, 'resolved'] = resolved[0]\n",
    "    sample4.at[i, 'skyline'] = skyline\n",
    "    sample4.at[i, 'bestPred'] = best_pred\n",
    "    sample4.at[i, 'acc10'] = acc10\n",
    "\n",
    "    if verbose:\n",
    "        print(f\"Head: {row['head']}\")\n",
    "        print(f\"Gold: {row['gold']}\")\n",
    "        print(f\"Prediction: {best_pred}\")\n",
    "        print(f\"Skyline: {skyline}\")\n",
    "        print(resolved[0]['cross_cand_score'])\n",
    "        print(f\"Accuracy 10: {acc10}\\n\")\n"
   ]
  },
  {
   "cell_type": "code",
   "execution_count": null,
   "metadata": {},
   "outputs": [],
   "source": [
    "sample4.to_json('t_res_damlev+REL_220424.json', orient='records', lines=True)"
   ]
  },
  {
   "cell_type": "code",
   "execution_count": null,
   "metadata": {},
   "outputs": [],
   "source": [
    "sample4.resolved.apply(lambda x: len(x['cross_cand_score'])).describe()"
   ]
  },
  {
   "cell_type": "code",
   "execution_count": null,
   "metadata": {},
   "outputs": [],
   "source": [
    "print('Skyline : \\n', sample4.skyline.value_counts(normalize=True), '\\n')\n",
    "print('Acc10 : \\n', sample4.acc10.value_counts(normalize=True), '\\n')"
   ]
  },
  {
   "cell_type": "markdown",
   "metadata": {},
   "source": [
    "# Comparaison"
   ]
  },
  {
   "cell_type": "code",
   "execution_count": 25,
   "metadata": {},
   "outputs": [],
   "source": [
    "df = pd.read_json('t_res_damlev+mostpop_170424.json', orient='records', lines=True)"
   ]
  },
  {
   "cell_type": "markdown",
   "metadata": {},
   "source": [
    "### perfect-"
   ]
  },
  {
   "cell_type": "code",
   "execution_count": 26,
   "metadata": {},
   "outputs": [
    {
     "data": {
      "text/plain": [
       "(790, 8)"
      ]
     },
     "execution_count": 26,
     "metadata": {},
     "output_type": "execute_result"
    }
   ],
   "source": [
    "df = df[df.index.isin(subVILLESFR.index)]\n",
    "df.shape"
   ]
  },
  {
   "cell_type": "code",
   "execution_count": 27,
   "metadata": {},
   "outputs": [
    {
     "data": {
      "text/plain": [
       "count    790.000000\n",
       "mean       2.744304\n",
       "std        2.096031\n",
       "min        1.000000\n",
       "25%        1.000000\n",
       "50%        2.000000\n",
       "75%        4.000000\n",
       "max        7.000000\n",
       "Name: resolved, dtype: float64"
      ]
     },
     "execution_count": 27,
     "metadata": {},
     "output_type": "execute_result"
    }
   ],
   "source": [
    "df.resolved.apply(lambda x: len(x['cross_cand_score'])).describe()"
   ]
  },
  {
   "cell_type": "code",
   "execution_count": 28,
   "metadata": {},
   "outputs": [
    {
     "name": "stdout",
     "output_type": "stream",
     "text": [
      "Skyline : \n",
      " True     0.720253\n",
      "False    0.279747\n",
      "Name: skyline, dtype: float64 \n",
      "\n",
      "Acc10 : \n",
      " True     0.662025\n",
      "False    0.337975\n",
      "Name: acc10, dtype: float64 \n",
      "\n"
     ]
    }
   ],
   "source": [
    "print('Skyline : \\n', df.skyline.value_counts(normalize=True), '\\n')\n",
    "print('Acc10 : \\n', df.acc10.value_counts(normalize=True), '\\n')"
   ]
  },
  {
   "cell_type": "markdown",
   "metadata": {},
   "source": [
    "### containment"
   ]
  },
  {
   "cell_type": "code",
   "execution_count": 11,
   "metadata": {},
   "outputs": [
    {
     "name": "stdout",
     "output_type": "stream",
     "text": [
      "(826, 8) (826, 8) (826, 8)\n"
     ]
    }
   ],
   "source": [
    "partial_mostpop = pd.read_json('t_res_partial+mostpop_140424.json', orient='records', lines=True)\n",
    "partial_mostpop = partial_mostpop[partial_mostpop.index.isin(subVILLESFR.index)]\n",
    "print(partial_mostpop.shape, perfect_mostpop.shape, partial_mostpop.shape)"
   ]
  },
  {
   "cell_type": "code",
   "execution_count": 12,
   "metadata": {},
   "outputs": [
    {
     "name": "stdout",
     "output_type": "stream",
     "text": [
      "(790, 8) (790, 8) (790, 8)\n"
     ]
    }
   ],
   "source": [
    "# keep only indexes from subVILLESFR\n",
    "deezy_rel = deezy_rel[deezy_rel.index.isin(subVILLESFR.index)]\n",
    "\n",
    "\n",
    "print(deezy_rel.shape, perfect_mostpop.shape, partial_mostpop.shape)"
   ]
  },
  {
   "cell_type": "code",
   "execution_count": 21,
   "metadata": {},
   "outputs": [
    {
     "data": {
      "text/plain": [
       "count    790.000000\n",
       "mean       3.051899\n",
       "std        2.183842\n",
       "min        1.000000\n",
       "25%        1.000000\n",
       "50%        2.000000\n",
       "75%        4.000000\n",
       "max        7.000000\n",
       "Name: resolved, dtype: float64"
      ]
     },
     "execution_count": 21,
     "metadata": {},
     "output_type": "execute_result"
    }
   ],
   "source": [
    "partial_mostpop.resolved.apply(lambda x: len(x['cross_cand_score'])).describe()"
   ]
  },
  {
   "cell_type": "code",
   "execution_count": 14,
   "metadata": {},
   "outputs": [
    {
     "name": "stdout",
     "output_type": "stream",
     "text": [
      "Skyline : \n",
      " True     0.621519\n",
      "False    0.378481\n",
      "Name: skyline, dtype: float64 \n",
      "\n",
      "Acc10 : \n",
      " True     0.556962\n",
      "False    0.443038\n",
      "Name: acc10, dtype: float64 \n",
      "\n"
     ]
    }
   ],
   "source": [
    "print('Skyline : \\n', partial_mostpop.skyline.value_counts(normalize=True), '\\n')\n",
    "print('Acc10 : \\n', partial_mostpop.acc10.value_counts(normalize=True), '\\n')"
   ]
  },
  {
   "cell_type": "markdown",
   "metadata": {},
   "source": [
    "### deezy"
   ]
  },
  {
   "cell_type": "code",
   "execution_count": null,
   "metadata": {},
   "outputs": [],
   "source": [
    "deezy_rel = pd.read_json('t_res_deezy+rel_140424.json', orient='records', lines=True)"
   ]
  },
  {
   "cell_type": "code",
   "execution_count": 20,
   "metadata": {},
   "outputs": [
    {
     "data": {
      "text/plain": [
       "count    790.000000\n",
       "mean       5.808861\n",
       "std        2.132534\n",
       "min        0.000000\n",
       "25%        6.000000\n",
       "50%        7.000000\n",
       "75%        7.000000\n",
       "max        7.000000\n",
       "Name: resolved, dtype: float64"
      ]
     },
     "execution_count": 20,
     "metadata": {},
     "output_type": "execute_result"
    }
   ],
   "source": [
    "deezy_rel.resolved.apply(lambda x: len(x['cross_cand_score'])).describe()"
   ]
  },
  {
   "cell_type": "code",
   "execution_count": 15,
   "metadata": {},
   "outputs": [
    {
     "name": "stdout",
     "output_type": "stream",
     "text": [
      "Skyline : \n",
      " True     0.64557\n",
      "False    0.35443\n",
      "Name: skyline, dtype: float64 \n",
      "\n",
      "Acc10 : \n",
      " False    0.54557\n",
      "True     0.45443\n",
      "Name: acc10, dtype: float64 \n",
      "\n"
     ]
    }
   ],
   "source": [
    "print('Skyline : \\n', deezy_rel.skyline.value_counts(normalize=True), '\\n')\n",
    "print('Acc10 : \\n', deezy_rel.acc10.value_counts(normalize=True), '\\n')"
   ]
  }
 ],
 "metadata": {
  "kernelspec": {
   "display_name": "tres-turing",
   "language": "python",
   "name": "tres-turing"
  },
  "language_info": {
   "codemirror_mode": {
    "name": "ipython",
    "version": 3
   },
   "file_extension": ".py",
   "mimetype": "text/x-python",
   "name": "python",
   "nbconvert_exporter": "python",
   "pygments_lexer": "ipython3",
   "version": "3.9.7"
  }
 },
 "nbformat": 4,
 "nbformat_minor": 4
}
