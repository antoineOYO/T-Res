{
 "cells": [
  {
   "cell_type": "markdown",
   "metadata": {},
   "source": [
    "# Import VILLESFR"
   ]
  },
  {
   "cell_type": "code",
   "execution_count": 1,
   "metadata": {},
   "outputs": [],
   "source": [
    "import pandas as pd \n",
    "filepath = 'VILLESFR.json'\n",
    "VILLESFR = pd.read_json(filepath, orient='records', lines=True)"
   ]
  },
  {
   "cell_type": "markdown",
   "metadata": {},
   "source": [
    "# NER"
   ]
  },
  {
   "cell_type": "code",
   "execution_count": 12,
   "metadata": {},
   "outputs": [],
   "source": [
    "import spacy\n",
    "from spacy.tokens import DocBin, Doc\n",
    "modelpath = '../resources/fr_spacy_custom_spancat_edda'\n",
    "spacy_model = spacy.load(modelpath)\n",
    "Doc.set_extension(\"metadata\", default={}, force=True)"
   ]
  },
  {
   "cell_type": "code",
   "execution_count": 15,
   "metadata": {},
   "outputs": [],
   "source": [
    "from transformers import PreTrainedModel, PretrainedConfig, Pipeline\n",
    "\n",
    "class CustomModel(PreTrainedModel):\n",
    "    def __init__(self, config: PretrainedConfig):\n",
    "        super().__init__(config)\n",
    "\n",
    "    def forward(self, inputs, **kwargs):\n",
    "        spacydoc = spacy_model(inputs)\n",
    "        spacydict = dict(spacydoc._.metadata, **spacydoc.to_json())\n",
    "        return spacydict\n",
    "    \n",
    "    def ner_predict(self, inputs):\n",
    "        spacydoc = spacy_model(inputs)\n",
    "        spacydict = dict(spacydoc._.metadata, **spacydoc.to_json())\n",
    "        return spacydict\n",
    "    \n",
    "class MyPipeline(Pipeline):\n",
    "    def _sanitize_parameters(self, **kwargs):\n",
    "        preprocess_kwargs = {}\n",
    "        if \"maybe_arg\" in kwargs:\n",
    "            preprocess_kwargs[\"maybe_arg\"] = kwargs[\"maybe_arg\"]\n",
    "        return preprocess_kwargs, {}, {}\n",
    "\n",
    "    def preprocess(self, inputs, maybe_arg=2):\n",
    "        return inputs\n",
    "\n",
    "    def _forward(self, model_inputs):\n",
    "        model_outputs = self.model.forward(model_inputs)\n",
    "        return model_outputs\n",
    "\n",
    "    def postprocess(self, model_outputs):\n",
    "        \"\"\"\n",
    "        transforms my dict into a list of dict :\n",
    "        [{'entity': 'O',\n",
    "        'score': 0.9999761581420898,\n",
    "        'word': 'A',\n",
    "        'start': 0,\n",
    "        'end': 1},\n",
    "        ... ,\n",
    "        {'entity': 'B-LOC',\n",
    "        'score': 0.9996446371078491,\n",
    "        'word': 'Sheffield',\n",
    "        'start': 74,\n",
    "        'end': 83},\n",
    "        {'entity': 'O',\n",
    "        'score': 0.9999758005142212,\n",
    "        'word': '.',\n",
    "        'start': 83,\n",
    "        'end': 84}]\n",
    "        \"\"\"\n",
    "        output_list = []\n",
    "        for span in model_outputs['spans']['sc']:\n",
    "            token = model_outputs['text'][span['start']:span['end']]\n",
    "            \n",
    "            # remove leading lowercase characters, symbols and spaces\n",
    "            shift = 0\n",
    "            if span['label'] in ['NP-Spatial', 'Head']:\n",
    "                while token[0].islower() or not token[0].isalpha() or token[0] == ' ':\n",
    "                    token = token[1:]\n",
    "                    shift += 1\n",
    "                span_dict = {'entity': 'B-LOC',\n",
    "                            'score': 1,\n",
    "                            'word': token,\n",
    "                            'start': span['start'] + shift,\n",
    "                            'end': span['end']\n",
    "                            }\n",
    "                output_list.append(span_dict)\n",
    "        return output_list"
   ]
  },
  {
   "cell_type": "code",
   "execution_count": 19,
   "metadata": {},
   "outputs": [
    {
     "data": {
      "text/plain": [
       "[{'entity': 'B-LOC', 'score': 1, 'word': 'France', 'start': 25, 'end': 31},\n",
       " {'entity': 'B-LOC', 'score': 1, 'word': 'Albigeois', 'start': 47, 'end': 56},\n",
       " {'entity': 'B-LOC', 'score': 1, 'word': 'Tarn', 'start': 99, 'end': 103},\n",
       " {'entity': 'B-LOC', 'score': 1, 'word': 'Languedoc', 'start': 71, 'end': 80}]"
      ]
     },
     "execution_count": 19,
     "metadata": {},
     "output_type": "execute_result"
    }
   ],
   "source": [
    "my_ner_model = CustomModel(config = PretrainedConfig())  \n",
    "my_ner_pipeline = MyPipeline(model=my_ner_model,\n",
    "                             villesfr = True\n",
    "                             ) \n",
    "sentence = \"* ALBI, (Géog.) ville de France, capitale de l'Albigeois, dans le haut Languedoc : elle est sur le Tarn. Long. 19. 49. lat. 43. 55. 44.\"\n",
    "rmentions = my_ner_pipeline(sentence)\n",
    "rmentions"
   ]
  },
  {
   "cell_type": "markdown",
   "metadata": {},
   "source": [
    "# Ranker"
   ]
  },
  {
   "cell_type": "code",
   "execution_count": 12,
   "metadata": {},
   "outputs": [],
   "source": [
    "from pathlib import Path\n",
    "path = '/home/antoine/Documents/GitHub/T-Res/'\n",
    "from t_res.geoparser import ranking"
   ]
  },
  {
   "cell_type": "code",
   "execution_count": 20,
   "metadata": {},
   "outputs": [],
   "source": [
    "# --------------------------------------\n",
    "# Instantiate the ranker:\n",
    "myranker = ranking.Ranker(\n",
    "    method=\"deezymatch\",\n",
    "    resources_path= path + \"resources/\",\n",
    "    strvar_parameters={\"overwrite_dataset\": False,},\n",
    "    deezy_parameters={\n",
    "        # Paths and filenames of DeezyMatch models and data:\n",
    "        \"dm_path\": str(Path( path + \"resources/deezymatch/\").resolve()),\n",
    "        \"dm_cands\": \"wkdtalts\",\n",
    "        \"dm_model\": \"w2v_ocr\",\n",
    "        \"dm_output\": \"deezymatch_on_the_fly\",\n",
    "        # Ranking measures:\n",
    "        \"ranking_metric\": \"faiss\",\n",
    "        \"selection_threshold\": 50,\n",
    "        \"num_candidates\": 10,\n",
    "        \"verbose\": False,\n",
    "        # DeezyMatch training:\n",
    "        \"overwrite_training\": False,\n",
    "        \"do_test\": False,\n",
    "    },\n",
    ")"
   ]
  },
  {
   "cell_type": "code",
   "execution_count": 14,
   "metadata": {},
   "outputs": [
    {
     "name": "stdout",
     "output_type": "stream",
     "text": [
      "*** Loading the ranker resources.\n"
     ]
    }
   ],
   "source": [
    "# Load the resources:\n",
    "myranker.mentions_to_wikidata = myranker.load_resources()"
   ]
  },
  {
   "cell_type": "code",
   "execution_count": 21,
   "metadata": {},
   "outputs": [
    {
     "data": {
      "text/plain": [
       "{'ROQUEMADOUR': {'Roquedur': {'Score': 0.40767000000000003,\n",
       "   'Candidates': {'Q863558': 1.0}},\n",
       "  'Corredor': {'Score': 0.249824,\n",
       "   'Candidates': {'Q3694385': 1.0, 'Q6745839': 1.0}},\n",
       "  'Oradour': {'Score': 0.22409999999999997,\n",
       "   'Candidates': {'Q836897': 0.04477611940298507,\n",
       "    'Q190974': 0.05172413793103448,\n",
       "    'Q807034': 1.0}},\n",
       "  'Broomhead Reservoir': {'Score': 0.209354,\n",
       "   'Candidates': {'Q62595333': 0.6666666666666666}},\n",
       "  'Roman emperor': {'Score': 0.17211600000000005,\n",
       "   'Candidates': {'Q2277': 0.0004914349901713002,\n",
       "    'Q12544': 7.203054094936253e-05}},\n",
       "  'Békourou': {'Score': 0.16608000000000003, 'Candidates': {'Q55606267': 1.0}},\n",
       "  'Rosemoor': {'Score': 0.16562799999999997,\n",
       "   'Candidates': {'Q3442463': 0.009708737864077669,\n",
       "    'Q7368490': 0.2631578947368421}},\n",
       "  'Oredo': {'Score': 0.16227000000000003,\n",
       "   'Candidates': {'Q7101001': 0.8823529411764706}},\n",
       "  \"Centre de la mémoire d'Oradour\": {'Score': 0.14904200000000004,\n",
       "   'Candidates': {'Q442113': 1.0}},\n",
       "  'Pendour': {'Score': 0.14269199999999999,\n",
       "   'Candidates': {'Q7162499': 0.1111111111111111}}}}"
      ]
     },
     "execution_count": 21,
     "metadata": {},
     "output_type": "execute_result"
    }
   ],
   "source": [
    "myranker.deezy_on_the_fly(['ROQUEMADOUR'])[0]"
   ]
  },
  {
   "attachments": {},
   "cell_type": "markdown",
   "metadata": {},
   "source": [
    "# T-RES using DeezyMatch with REL disambiguation\n",
    "\n",
    "REL disambiguation **filtering out microtoponyms** and without adding place of publication."
   ]
  },
  {
   "cell_type": "code",
   "execution_count": 2,
   "metadata": {},
   "outputs": [
    {
     "name": "stdout",
     "output_type": "stream",
     "text": [
      "INFO: Pandarallel will run on 8 workers.\n",
      "INFO: Pandarallel will use Memory file system to transfer data between the main process and workers.\n"
     ]
    }
   ],
   "source": [
    "import os\n",
    "import sys\n",
    "import sqlite3\n",
    "from pathlib import Path\n",
    "import json\n",
    "from t_res.geoparser import geode_pipe,ranking,linking\n",
    "path = '/home/antoine/Documents/GitHub/T-Res/'\n",
    "NER_path = '../resources/fr_spacy_custom_spancat_edda'"
   ]
  },
  {
   "cell_type": "code",
   "execution_count": 3,
   "metadata": {},
   "outputs": [],
   "source": [
    "# --------------------------------------\n",
    "# Instantiate the ranker:\n",
    "myranker = ranking.Ranker(\n",
    "    method=\"deezymatch\",\n",
    "    resources_path= path + \"resources/\",\n",
    "    strvar_parameters={\"overwrite_dataset\": False,},\n",
    "    deezy_parameters={\n",
    "        # Paths and filenames of DeezyMatch models and data:\n",
    "        \"dm_path\": str(Path( path + \"resources/deezymatch/\").resolve()),\n",
    "        \"dm_cands\": \"wkdtalts\",\n",
    "        \"dm_model\": \"w2v_ocr\",\n",
    "        \"dm_output\": \"deezymatch_on_the_fly\",\n",
    "        # Ranking measures:\n",
    "        \"ranking_metric\": \"faiss\",\n",
    "        \"selection_threshold\": 50,\n",
    "        \"num_candidates\": 10,\n",
    "        \"verbose\": False,\n",
    "        # DeezyMatch training:\n",
    "        \"overwrite_training\": False,\n",
    "        \"do_test\": False,\n",
    "    },\n",
    ")\n",
    "\n",
    "# --------------------------------------\n",
    "# Instantiate the Linker:\n",
    "with sqlite3.connect( path + \"resources/rel_db/embeddings_database.db\") as conn:\n",
    "    cursor = conn.cursor()\n",
    "    mylinker = linking.Linker(\n",
    "        method=\"reldisamb\",\n",
    "        resources_path= path + \"resources/\",\n",
    "        rel_params={\n",
    "            \"model_path\": path + \"resources/models/disambiguation/\",\n",
    "            \"data_path\":  path + \"experiments/outputs/data/lwm/\",\n",
    "            \"training_split\": \"originalsplit\",\n",
    "            \"db_embeddings\": cursor,\n",
    "            \"with_publication\": False,\n",
    "            \"without_microtoponyms\": True,\n",
    "            \"do_test\": False,\n",
    "            \"default_publname\": \"\",\n",
    "            \"default_publwqid\": \"\",\n",
    "        },\n",
    "        overwrite_training=False,\n",
    "    )"
   ]
  },
  {
   "cell_type": "code",
   "execution_count": 4,
   "metadata": {},
   "outputs": [
    {
     "name": "stdout",
     "output_type": "stream",
     "text": [
      "*** Loading the ranker resources.\n",
      "The DeezyMatch model is already trained!\n",
      "*** Load linking resources.\n",
      "  > Loading mentions to wikidata mapping.\n",
      "  > Loading gazetteer.\n",
      "*** Linking resources loaded!\n",
      "\n",
      "Model path: /home/antoine/Documents/GitHub/T-Res/resources/models/disambiguation/deezymatch+10+50_originalsplit+wmtops/model eval\n",
      "Loading model from given path: /home/antoine/Documents/GitHub/T-Res/resources/models/disambiguation/deezymatch+10+50_originalsplit+wmtops/model\n",
      "{'mode': 'eval', 'model_path': '/home/antoine/Documents/GitHub/T-Res/resources/models/disambiguation/deezymatch+10+50_originalsplit+wmtops/model', 'prerank_ctx_window': 50, 'keep_p_e_m': 4, 'keep_ctx_ent': 3, 'ctx_window': 100, 'tok_top_n': 25, 'mulrel_type': 'ment-norm', 'n_rels': 3, 'hid_dims': 100, 'emb_dims': 300, 'snd_local_ctx_window': 6, 'dropout_rate': 0.3, 'n_epochs': 1000, 'dev_f1_change_lr': 0.915, 'n_not_inc': 10, 'eval_after_n_epochs': 5, 'learning_rate': 0.0001, 'margin': 0.01, 'df': 0.5, 'n_loops': 10, 'n_cands_before_rank': 30, 'first_head_uniforn': False, 'use_pad_ent': True, 'use_local': True, 'use_local_only': False, 'oracle': False}\n"
     ]
    }
   ],
   "source": [
    "geoparser = geode_pipe.Pipeline(geodeNERpath=NER_path,\n",
    "                              myranker=myranker,\n",
    "                              mylinker=mylinker)"
   ]
  },
  {
   "cell_type": "code",
   "execution_count": 5,
   "metadata": {},
   "outputs": [
    {
     "name": "stderr",
     "output_type": "stream",
     "text": [
      "                                                 \r"
     ]
    },
    {
     "data": {
      "application/vnd.jupyter.widget-view+json": {
       "model_id": "45ef95ebe6cf4a279830bf52838632a5",
       "version_major": 2,
       "version_minor": 0
      },
      "text/plain": [
       "  0%|          | 0/1 [00:00<?, ?it/s]"
      ]
     },
     "metadata": {},
     "output_type": "display_data"
    },
    {
     "name": "stdout",
     "output_type": "stream",
     "text": [
      "{\n",
      "  \"mention\": \"Shefrield\",\n",
      "  \"ner_score\": 1,\n",
      "  \"pos\": 100,\n",
      "  \"sent_idx\": 0,\n",
      "  \"end_pos\": 109,\n",
      "  \"tag\": \"B-LOC\",\n",
      "  \"sentence\": \"A remarkable case of rattening has just occurred in the building trade next to the Market-street of Shefrield, but also in Lancaster.\",\n",
      "  \"prediction\": \"Q42448\",\n",
      "  \"ed_score\": 0.005,\n",
      "  \"cross_cand_score\": {\n",
      "    \"Q42448\": 0.664,\n",
      "    \"Q1862179\": 0.144,\n",
      "    \"Q5953687\": 0.071,\n",
      "    \"Q3461338\": 0.066,\n",
      "    \"Q7492568\": 0.028,\n",
      "    \"Q7492567\": 0.028,\n",
      "    \"Q665346\": 0.0\n",
      "  },\n",
      "  \"string_match_score\": {\n",
      "    \"Sherfield\": [\n",
      "      0.859,\n",
      "      [\n",
      "        \"Q2258424\"\n",
      "      ]\n",
      "    ],\n",
      "    \"Shenfield\": [\n",
      "      0.708,\n",
      "      [\n",
      "        \"Q3461338\",\n",
      "        \"Q665346\"\n",
      "      ]\n",
      "    ],\n",
      "    \"Sheffield\": [\n",
      "      0.659,\n",
      "      [\n",
      "        \"Q6707254\",\n",
      "        \"Q823917\",\n",
      "        \"Q5953687\",\n",
      "        \"Q7492778\",\n",
      "        \"Q1421317\",\n",
      "        \"Q7492594\",\n",
      "        \"Q897533\",\n",
      "        \"Q42448\",\n",
      "        \"Q7492565\",\n",
      "        \"Q1862179\",\n",
      "        \"Q4834926\",\n",
      "        \"Q17643392\",\n",
      "        \"Q7492570\",\n",
      "        \"Q1950928\",\n",
      "        \"Q2277715\",\n",
      "        \"Q79568\",\n",
      "        \"Q518864\",\n",
      "        \"Q7492591\",\n",
      "        \"Q2306176\",\n",
      "        \"Q7492775\",\n",
      "        \"Q741640\",\n",
      "        \"Q7492686\",\n",
      "        \"Q3577611\",\n",
      "        \"Q12956644\",\n",
      "        \"Q547824\",\n",
      "        \"Q7684835\",\n",
      "        \"Q3365926\",\n",
      "        \"Q7492719\",\n",
      "        \"Q7492566\",\n",
      "        \"Q7492567\",\n",
      "        \"Q4523493\",\n",
      "        \"Q3028626\",\n",
      "        \"Q7492607\",\n",
      "        \"Q7492568\",\n",
      "        \"Q1984238\",\n",
      "        \"Q1184547\",\n",
      "        \"Q925542\",\n",
      "        \"Q4664093\",\n",
      "        \"Q2892594\",\n",
      "        \"Q1916592\",\n",
      "        \"Q371969\",\n",
      "        \"Q1141915\",\n",
      "        \"Q6986914\",\n",
      "        \"Q7114883\",\n",
      "        \"Q1915446\",\n",
      "        \"Q5224096\",\n",
      "        \"Q7492766\",\n",
      "        \"Q15277074\",\n",
      "        \"Q4065168\",\n",
      "        \"Q1548891\",\n",
      "        \"Q7492772\",\n",
      "        \"Q977409\",\n",
      "        \"Q1752117\",\n",
      "        \"Q7492586\",\n",
      "        \"Q5035049\",\n",
      "        \"Q108940076\"\n",
      "      ]\n",
      "    ],\n",
      "    \"Shepherd Field\": [\n",
      "      0.649,\n",
      "      [\n",
      "        \"Q797442\"\n",
      "      ]\n",
      "    ],\n",
      "    \"Shelfield\": [\n",
      "      0.536,\n",
      "      [\n",
      "        \"Q7493600\",\n",
      "        \"Q96311007\"\n",
      "      ]\n",
      "    ],\n",
      "    \"Swisher Field\": [\n",
      "      0.458,\n",
      "      [\n",
      "        \"Q85852006\"\n",
      "      ]\n",
      "    ],\n",
      "    \"Shedfield\": [\n",
      "      0.415,\n",
      "      [\n",
      "        \"Q2419681\"\n",
      "      ]\n",
      "    ],\n",
      "    \"Scheuerfeld\": [\n",
      "      0.39,\n",
      "      [\n",
      "        \"Q653224\"\n",
      "      ]\n",
      "    ],\n",
      "    \"Scheinfeld\": [\n",
      "      0.382,\n",
      "      [\n",
      "        \"Q504872\"\n",
      "      ]\n",
      "    ],\n",
      "    \"Sheffield Inn\": [\n",
      "      0.372,\n",
      "      [\n",
      "        \"Q28124535\"\n",
      "      ]\n",
      "    ]\n",
      "  },\n",
      "  \"prior_cand_score\": {\n",
      "    \"Q42448\": 0.815,\n",
      "    \"Q665346\": 0.388,\n",
      "    \"Q7492568\": 0.374,\n",
      "    \"Q7492567\": 0.374,\n",
      "    \"Q3461338\": 0.357,\n",
      "    \"Q1862179\": 0.297,\n",
      "    \"Q5953687\": 0.205\n",
      "  },\n",
      "  \"latlon\": [\n",
      "    53.380833,\n",
      "    -1.470278\n",
      "  ],\n",
      "  \"wkdt_class\": \"Q515\"\n",
      "}\n",
      "\n",
      "{\n",
      "  \"mention\": \"Lancaster\",\n",
      "  \"ner_score\": 1,\n",
      "  \"pos\": 123,\n",
      "  \"sent_idx\": 0,\n",
      "  \"end_pos\": 132,\n",
      "  \"tag\": \"B-LOC\",\n",
      "  \"sentence\": \"A remarkable case of rattening has just occurred in the building trade next to the Market-street of Shefrield, but also in Lancaster.\",\n",
      "  \"prediction\": \"Q205905\",\n",
      "  \"ed_score\": 0.005,\n",
      "  \"cross_cand_score\": {\n",
      "    \"Q205905\": 0.636,\n",
      "    \"Q320514\": 0.238,\n",
      "    \"Q730847\": 0.041,\n",
      "    \"Q6483085\": 0.03,\n",
      "    \"Q6483088\": 0.027,\n",
      "    \"Q6483082\": 0.027,\n",
      "    \"Q168052\": 0.0\n",
      "  },\n",
      "  \"string_match_score\": {\n",
      "    \"Lancaster\": [\n",
      "      1.0,\n",
      "      [\n",
      "        \"Q23077\",\n",
      "        \"Q28260\",\n",
      "        \"Q320514\",\n",
      "        \"Q205905\",\n",
      "        \"Q494711\",\n",
      "        \"Q168052\",\n",
      "        \"Q6749340\",\n",
      "        \"Q3216911\",\n",
      "        \"Q763073\",\n",
      "        \"Q1013953\",\n",
      "        \"Q7594194\",\n",
      "        \"Q142369\",\n",
      "        \"Q2427213\",\n",
      "        \"Q986005\",\n",
      "        \"Q6483271\",\n",
      "        \"Q97404308\",\n",
      "        \"Q505941\",\n",
      "        \"Q3661917\",\n",
      "        \"Q2276252\",\n",
      "        \"Q495090\",\n",
      "        \"Q990612\",\n",
      "        \"Q484530\",\n",
      "        \"Q965683\",\n",
      "        \"Q1919987\",\n",
      "        \"Q2536779\",\n",
      "        \"Q14683036\",\n",
      "        \"Q6483264\",\n",
      "        \"Q6483273\",\n",
      "        \"Q38249820\",\n",
      "        \"Q976739\",\n",
      "        \"Q2969640\",\n",
      "        \"Q1285117\",\n",
      "        \"Q6483082\",\n",
      "        \"Q609191\",\n",
      "        \"Q6483088\",\n",
      "        \"Q597323\",\n",
      "        \"Q3166571\",\n",
      "        \"Q730847\",\n",
      "        \"Q6483076\",\n",
      "        \"Q6483074\",\n",
      "        \"Q6483181\",\n",
      "        \"Q6483188\",\n",
      "        \"Q7999228\",\n",
      "        \"Q18323\",\n",
      "        \"Q871028\",\n",
      "        \"Q6483094\",\n",
      "        \"Q5471452\",\n",
      "        \"Q6483093\",\n",
      "        \"Q85775777\",\n",
      "        \"Q6483178\",\n",
      "        \"Q6483070\",\n",
      "        \"Q17361855\",\n",
      "        \"Q6483085\",\n",
      "        \"Q6483107\",\n",
      "        \"Q881246\",\n",
      "        \"Q18160960\",\n",
      "        \"Q17531646\",\n",
      "        \"Q111944592\",\n",
      "        \"Q1886562\",\n",
      "        \"Q6483071\"\n",
      "      ]\n",
      "    ]\n",
      "  },\n",
      "  \"prior_cand_score\": {\n",
      "    \"Q205905\": 0.878,\n",
      "    \"Q320514\": 0.517,\n",
      "    \"Q730847\": 0.456,\n",
      "    \"Q6483085\": 0.453,\n",
      "    \"Q6483088\": 0.452,\n",
      "    \"Q6483082\": 0.452,\n",
      "    \"Q168052\": 0.344\n",
      "  },\n",
      "  \"latlon\": [\n",
      "    54.048889,\n",
      "    -2.801389\n",
      "  ],\n",
      "  \"wkdt_class\": \"Q515\"\n",
      "}\n",
      "\n",
      "{\n",
      "  \"mention\": \"Salop\",\n",
      "  \"ner_score\": 1,\n",
      "  \"pos\": 29,\n",
      "  \"sent_idx\": 2,\n",
      "  \"end_pos\": 34,\n",
      "  \"tag\": \"B-LOC\",\n",
      "  \"sentence\": \"Not in Ashton either, nor in Salop!\",\n",
      "  \"prediction\": \"Q23103\",\n",
      "  \"ed_score\": 0.005,\n",
      "  \"cross_cand_score\": {\n",
      "    \"Q23103\": 0.512,\n",
      "    \"Q201970\": 0.488\n",
      "  },\n",
      "  \"string_match_score\": {\n",
      "    \"Salop\": [\n",
      "      1.0,\n",
      "      [\n",
      "        \"Q201970\",\n",
      "        \"Q23103\"\n",
      "      ]\n",
      "    ]\n",
      "  },\n",
      "  \"prior_cand_score\": {\n",
      "    \"Q23103\": 0.677,\n",
      "    \"Q201970\": 0.253\n",
      "  },\n",
      "  \"latlon\": [\n",
      "    52.616667,\n",
      "    -2.716667\n",
      "  ],\n",
      "  \"wkdt_class\": \"Q180673\"\n",
      "}\n",
      "\n"
     ]
    }
   ],
   "source": [
    "resolved = geoparser.run_text(\"A remarkable case of rattening has just occurred in the building trade next to the Market-street of Shefrield, but also in Lancaster. Not in Nottingham though. Not in Ashton either, nor in Salop!\")\n",
    "    \n",
    "for r in resolved:\n",
    "    print(json.dumps(r, indent=2))\n",
    "    print()"
   ]
  },
  {
   "cell_type": "code",
   "execution_count": 6,
   "metadata": {},
   "outputs": [
    {
     "name": "stderr",
     "output_type": "stream",
     "text": [
      "                                                 \r"
     ]
    },
    {
     "data": {
      "application/vnd.jupyter.widget-view+json": {
       "model_id": "967b8e320106455e81289535bb4bfce5",
       "version_major": 2,
       "version_minor": 0
      },
      "text/plain": [
       "  0%|          | 0/1 [00:00<?, ?it/s]"
      ]
     },
     "metadata": {},
     "output_type": "display_data"
    },
    {
     "name": "stdout",
     "output_type": "stream",
     "text": [
      "mentions : [{'entity': 'B-LOC', 'score': 1, 'mention': 'ALBI', 'start': 2, 'end': 5}, {'entity': 'B-LOC', 'score': 1, 'mention': 'France', 'start': 25, 'end': 31}, {'entity': 'B-LOC', 'score': 1, 'mention': 'Albigeois', 'start': 47, 'end': 56}, {'entity': 'B-LOC', 'score': 1, 'mention': 'Tarn', 'start': 99, 'end': 103}, {'entity': 'B-LOC', 'score': 1, 'mention': 'Languedoc', 'start': 71, 'end': 80}]\n",
      "rmentions : [{'mention': 'ALBI'}, {'mention': 'France'}, {'mention': 'Albigeois'}, {'mention': 'Tarn'}, {'mention': 'Languedoc'}]\n",
      "wk_cands : {'Albigeois': {'Albigeois': {'Score': 1.0, 'Candidates': {'Q132801': 0.050890585241730284}}}, 'Tarn': {'Tarn': {'Score': 1.0, 'Candidates': {'Q215653': 0.8135593220338984, 'Q12772': 0.9555921052631579, 'Q1538251': 0.08695652173913043}}}, 'Languedoc': {'Languedoc': {'Score': 1.0, 'Candidates': {'Q206221': 0.9739336492890996, 'Q17005': 0.009146341463414635, 'Q1886509': 1.0}}}, 'ALBI': {'Albi': {'Score': 1.0, 'Candidates': {'Q94744': 0.07142857142857142, 'Q132801': 0.9211195928753181, 'Q951428': 0.3793103448275862, 'Q53749': 1.0, 'Q284698': 0.16666666666666666, 'Q700379': 0.4}}, 'Albaji': {'Score': 0.505494, 'Candidates': {'Q4708979': 1.0}}, 'Abali': {'Score': 0.436178, 'Candidates': {'Q4371496': 1.0}}, 'Abaali': {'Score': 0.38927799999999996, 'Candidates': {'Q4663333': 0.125}}, 'Albiolo': {'Score': 0.360398, 'Candidates': {'Q244031': 1.0}}, 'Jalabi': {'Score': 0.35078599999999993, 'Candidates': {'Q5782888': 1.0}}, 'Babaali': {'Score': 0.339594, 'Candidates': {'Q4837412': 1.0}}, 'Babali': {'Score': 0.30242800000000003, 'Candidates': {'Q18871': 0.0009832841691248771, 'Q4738503': 1.0}}, 'Alibi': {'Score': 0.29971800000000004, 'Candidates': {'Q4725660': 0.07692307692307693}}, 'Bojolali': {'Score': 0.26083799999999996, 'Candidates': {'Q10609': 0.011111111111111112}}}, 'France': {'France': {'Score': 1.0, 'Candidates': {'Q71084': 0.10598896769109535, 'Q146246': 0.00429553264604811, 'Q71092': 0.12113564668769716, 'Q58296': 0.09373020899303357, 'Q70802': 0.3776297335203366, 'Q58326': 0.031683168316831684, 'Q69808': 0.011072103699702943, 'Q185682': 0.0009886307464162135, 'Q142': 0.8872503121098627, 'Q170604': 0.002657218777679362, 'Q2841718': 0.044444444444444446, 'Q271894': 0.0023923444976076554, 'Q218272': 0.0006872852233676976, 'Q90': 3.726198904497522e-05, 'Q206521': 0.0017543859649122807, 'Q745942': 0.0033783783783783786, 'Q200686': 0.061919504643962855, 'Q854': 4.0181620926588175e-05, 'Q787870': 0.04, 'Q221621': 0.19047619047619047, 'Q9642': 0.0009182736455463728, 'Q69829': 0.15137614678899083, 'Q907234': 0.0009910802775024777, 'Q8641370': 0.0012324377618930242, 'Q16470': 0.00040048057669203043, 'Q58202': 0.13412816691505217, 'Q210682': 0.0014204545454545455, 'Q7997': 0.00823045267489712, 'Q265319': 0.0036900369003690036, 'Q783684': 0.07441860465116279, 'Q139708': 0.0012330456226880395, 'Q207162': 0.025710419485791614, 'Q48756': 0.002583979328165375, 'Q335827': 0.0049504950495049506, 'Q13021889': 0.08333333333333333, 'Q69323': 0.11904761904761904, 'Q221639': 0.11764705882352941, 'Q98405': 0.0023752969121140144, 'Q129003': 0.015267175572519083, 'Q221646': 0.10526315789473684, 'Q1331514': 0.05917159763313609, 'Q38060': 0.0018656716417910447, 'Q1028848': 0.006711409395973154, 'Q1524643': 0.16666666666666666, 'Q327': 0.00023730422401518748, 'Q221611': 0.1, 'Q179390': 0.13636363636363635, 'Q221631': 0.25, 'Q701164': 0.058823529411764705, 'Q911972': 0.0006397952655150352, 'Q546607': 0.12962962962962962, 'Q15479': 0.021739130434782608, 'Q653784': 0.14285714285714285, 'Q2455958': 0.0851063829787234, 'Q16394': 0.0016, 'Q184319': 0.016, 'Q40898': 0.0006844626967830253, 'Q270517': 0.0021413276231263384, 'Q854122': 0.016129032258064516, 'Q212429': 0.005706134094151213, 'Q147796': 0.015151515151515152, 'Q2084927': 0.35000000000000003, 'Q2935621': 0.125, 'Q2009420': 0.2, 'Q208529': 0.0021551724137931034, 'Q171424': 0.003129890453834116, 'Q49644': 0.6666666666666666, 'Q5501842': 0.004878048780487805, 'Q788606': 0.025, 'Q154720': 0.0004488330341113106, 'Q132568': 0.00042753313381787086, 'Q1506615': 0.027777777777777776, 'Q7330388': 0.045454545454545456, 'Q172876': 0.003436426116838488, 'Q165271': 0.003115264797507788, 'Q22942003': 1.0, 'Q23781101': 0.5, 'Q235': 0.00029171528588098014, 'Q18156370': 1.0, 'Q215987': 0.0012360939431396785, 'Q203645': 0.0028328611898017, 'Q12193': 0.0003169572107765452, 'Q6454': 0.0005534034311012728, 'Q28154421': 0.3333333333333333, 'Q42807': 0.001034126163391934, 'Q28403426': 1.0, 'Q48314': 0.00042052144659377626, 'Q5707495': 0.6666666666666666, 'Q1414378': 0.06666666666666667}}}}\n",
      "{'mention': 'ALBI', 'ner_score': 1, 'pos': 2, 'sent_idx': 0, 'end_pos': 5, 'tag': 'B-LOC', 'sentence': \"* ALBI, (Géog.) ville de France, capitale de l'Albigeois, dans le haut Languedoc : elle est sur le Tarn. Long. 19. 49. lat. 43. 55. 44.\", 'prediction': 'Q132801', 'ed_score': 0.006, 'cross_cand_score': {'Q132801': 0.285, 'Q700379': 0.194, 'Q53749': 0.142, 'Q244031': 0.13, 'Q4371496': 0.128, 'Q4708979': 0.123, 'Q18871': 0.0}, 'string_match_score': {'Albi': (1.0, ['Q94744', 'Q132801', 'Q951428', 'Q53749', 'Q284698', 'Q700379']), 'Albaji': (0.505, ['Q4708979']), 'Abali': (0.436, ['Q4371496']), 'Abaali': (0.389, ['Q4663333']), 'Albiolo': (0.36, ['Q244031']), 'Jalabi': (0.351, ['Q5782888']), 'Babaali': (0.34, ['Q4837412']), 'Babali': (0.302, ['Q18871', 'Q4738503']), 'Alibi': (0.3, ['Q4725660']), 'Bojolali': (0.261, ['Q10609'])}, 'prior_cand_score': {'Q132801': 0.882, 'Q53749': 0.467, 'Q4708979': 0.344, 'Q4371496': 0.334, 'Q244031': 0.331, 'Q700379': 0.317, 'Q18871': 0.07}, 'latlon': [43.928056, 2.145833], 'wkdt_class': 'Q484170'}\n",
      "{'mention': 'France', 'ner_score': 1, 'pos': 25, 'sent_idx': 0, 'end_pos': 31, 'tag': 'B-LOC', 'sentence': \"* ALBI, (Géog.) ville de France, capitale de l'Albigeois, dans le haut Languedoc : elle est sur le Tarn. Long. 19. 49. lat. 43. 55. 44.\", 'prediction': 'Q142', 'ed_score': 0.005, 'cross_cand_score': {'Q142': 0.784, 'Q69829': 0.155, 'Q58202': 0.039, 'Q71084': 0.021, 'Q18156370': 0.0, 'Q22942003': 0.0, 'Q28403426': 0.0}, 'string_match_score': {'France': (1.0, ['Q71084', 'Q146246', 'Q71092', 'Q58296', 'Q70802', 'Q58326', 'Q69808', 'Q185682', 'Q142', 'Q170604', 'Q2841718', 'Q271894', 'Q218272', 'Q90', 'Q206521', 'Q745942', 'Q200686', 'Q854', 'Q787870', 'Q221621', 'Q9642', 'Q69829', 'Q907234', 'Q8641370', 'Q16470', 'Q58202', 'Q210682', 'Q7997', 'Q265319', 'Q783684', 'Q139708', 'Q207162', 'Q48756', 'Q335827', 'Q13021889', 'Q69323', 'Q221639', 'Q98405', 'Q129003', 'Q221646', 'Q1331514', 'Q38060', 'Q1028848', 'Q1524643', 'Q327', 'Q221611', 'Q179390', 'Q221631', 'Q701164', 'Q911972', 'Q546607', 'Q15479', 'Q653784', 'Q2455958', 'Q16394', 'Q184319', 'Q40898', 'Q270517', 'Q854122', 'Q212429', 'Q147796', 'Q2084927', 'Q2935621', 'Q2009420', 'Q208529', 'Q171424', 'Q49644', 'Q5501842', 'Q788606', 'Q154720', 'Q132568', 'Q1506615', 'Q7330388', 'Q172876', 'Q165271', 'Q22942003', 'Q23781101', 'Q235', 'Q18156370', 'Q215987', 'Q203645', 'Q12193', 'Q6454', 'Q28154421', 'Q42807', 'Q28403426', 'Q48314', 'Q5707495', 'Q1414378'])}, 'prior_cand_score': {'Q142': 0.875, 'Q28403426': 0.45, 'Q22942003': 0.45, 'Q18156370': 0.45, 'Q69829': 0.259, 'Q58202': 0.256, 'Q71084': 0.25}, 'latlon': [47.0, 2.0], 'wkdt_class': 'Q3624078'}\n",
      "{'mention': 'Albigeois', 'ner_score': 1, 'pos': 47, 'sent_idx': 0, 'end_pos': 56, 'tag': 'B-LOC', 'sentence': \"* ALBI, (Géog.) ville de France, capitale de l'Albigeois, dans le haut Languedoc : elle est sur le Tarn. Long. 19. 49. lat. 43. 55. 44.\", 'prediction': 'Q132801', 'ed_score': 0.005, 'cross_cand_score': {'Q132801': 1.0}, 'string_match_score': {'Albigeois': (1.0, ['Q132801'])}, 'prior_cand_score': {'Q132801': 0.686}, 'latlon': [43.928056, 2.145833], 'wkdt_class': 'Q484170'}\n",
      "{'mention': 'Tarn', 'ner_score': 1, 'pos': 99, 'sent_idx': 0, 'end_pos': 103, 'tag': 'B-LOC', 'sentence': \"* ALBI, (Géog.) ville de France, capitale de l'Albigeois, dans le haut Languedoc : elle est sur le Tarn. Long. 19. 49. lat. 43. 55. 44.\", 'prediction': 'Q12772', 'ed_score': 0.005, 'cross_cand_score': {'Q12772': 0.354, 'Q215653': 0.326, 'Q1538251': 0.32}, 'string_match_score': {'Tarn': (1.0, ['Q215653', 'Q12772', 'Q1538251'])}, 'prior_cand_score': {'Q12772': 0.89, 'Q215653': 0.482, 'Q1538251': 0.246}, 'latlon': [43.909722, 2.109167], 'wkdt_class': 'Q6465'}\n",
      "{'mention': 'Languedoc', 'ner_score': 1, 'pos': 71, 'sent_idx': 0, 'end_pos': 80, 'tag': 'B-LOC', 'sentence': \"* ALBI, (Géog.) ville de France, capitale de l'Albigeois, dans le haut Languedoc : elle est sur le Tarn. Long. 19. 49. lat. 43. 55. 44.\", 'prediction': 'Q206221', 'ed_score': 0.005, 'cross_cand_score': {'Q206221': 0.354, 'Q17005': 0.329, 'Q1886509': 0.318}, 'string_match_score': {'Languedoc': (1.0, ['Q206221', 'Q17005', 'Q1886509'])}, 'prior_cand_score': {'Q206221': 0.894, 'Q1886509': 0.452, 'Q17005': 0.229}, 'latlon': [43.666667, 3.166667], 'wkdt_class': 'Q572995'}\n"
     ]
    }
   ],
   "source": [
    "sentence = \"* ALBI, (Géog.) ville de France, capitale de l'Albigeois, dans le haut Languedoc : elle est sur le Tarn. Long. 19. 49. lat. 43. 55. 44.\"\n",
    "sentence.find('ALBI')\n",
    "resolved = geoparser.run_sentence(sentence, HEAD='ALBI', verbose=True)\n",
    "for r in resolved:\n",
    "    print(r)"
   ]
  },
  {
   "cell_type": "markdown",
   "metadata": {},
   "source": [
    "# Performance"
   ]
  },
  {
   "cell_type": "code",
   "execution_count": 21,
   "metadata": {},
   "outputs": [
    {
     "name": "stderr",
     "output_type": "stream",
     "text": [
      "                                                 \r"
     ]
    },
    {
     "data": {
      "application/vnd.jupyter.widget-view+json": {
       "model_id": "af568a9c98054279bb83144a6a008e0e",
       "version_major": 2,
       "version_minor": 0
      },
      "text/plain": [
       "  0%|          | 0/1 [00:00<?, ?it/s]"
      ]
     },
     "metadata": {},
     "output_type": "display_data"
    },
    {
     "name": "stderr",
     "output_type": "stream",
     "text": [
      "                                                 \r"
     ]
    },
    {
     "data": {
      "application/vnd.jupyter.widget-view+json": {
       "model_id": "23c8581faff5442bb3c993177b8c9c70",
       "version_major": 2,
       "version_minor": 0
      },
      "text/plain": [
       "  0%|          | 0/1 [00:00<?, ?it/s]"
      ]
     },
     "metadata": {},
     "output_type": "display_data"
    },
    {
     "name": "stderr",
     "output_type": "stream",
     "text": [
      "                                                 \r"
     ]
    },
    {
     "data": {
      "application/vnd.jupyter.widget-view+json": {
       "model_id": "91dcb2e8c5744e3ba87ba08a00a6b5ec",
       "version_major": 2,
       "version_minor": 0
      },
      "text/plain": [
       "  0%|          | 0/1 [00:00<?, ?it/s]"
      ]
     },
     "metadata": {},
     "output_type": "display_data"
    },
    {
     "name": "stderr",
     "output_type": "stream",
     "text": [
      "                                                 \r"
     ]
    },
    {
     "data": {
      "application/vnd.jupyter.widget-view+json": {
       "model_id": "d0bba074d04f4bf094b2e653f1789771",
       "version_major": 2,
       "version_minor": 0
      },
      "text/plain": [
       "  0%|          | 0/1 [00:00<?, ?it/s]"
      ]
     },
     "metadata": {},
     "output_type": "display_data"
    },
    {
     "name": "stderr",
     "output_type": "stream",
     "text": [
      "                                                 \r"
     ]
    },
    {
     "data": {
      "application/vnd.jupyter.widget-view+json": {
       "model_id": "b4272cf46a7c45869be0963fc5286ce1",
       "version_major": 2,
       "version_minor": 0
      },
      "text/plain": [
       "  0%|          | 0/1 [00:00<?, ?it/s]"
      ]
     },
     "metadata": {},
     "output_type": "display_data"
    },
    {
     "name": "stderr",
     "output_type": "stream",
     "text": [
      "                                                 \r"
     ]
    },
    {
     "data": {
      "application/vnd.jupyter.widget-view+json": {
       "model_id": "acd23bea8deb4c429b942571b452fee8",
       "version_major": 2,
       "version_minor": 0
      },
      "text/plain": [
       "  0%|          | 0/1 [00:00<?, ?it/s]"
      ]
     },
     "metadata": {},
     "output_type": "display_data"
    },
    {
     "name": "stderr",
     "output_type": "stream",
     "text": [
      "                                                 \r"
     ]
    },
    {
     "data": {
      "application/vnd.jupyter.widget-view+json": {
       "model_id": "1cff65a4d0274cb489894c76a862d2be",
       "version_major": 2,
       "version_minor": 0
      },
      "text/plain": [
       "  0%|          | 0/1 [00:00<?, ?it/s]"
      ]
     },
     "metadata": {},
     "output_type": "display_data"
    },
    {
     "name": "stderr",
     "output_type": "stream",
     "text": [
      "                                                 \r"
     ]
    },
    {
     "data": {
      "application/vnd.jupyter.widget-view+json": {
       "model_id": "f0b16f44119443f08248bd451e6d5b7c",
       "version_major": 2,
       "version_minor": 0
      },
      "text/plain": [
       "  0%|          | 0/1 [00:00<?, ?it/s]"
      ]
     },
     "metadata": {},
     "output_type": "display_data"
    },
    {
     "name": "stderr",
     "output_type": "stream",
     "text": [
      "                                                 \r"
     ]
    },
    {
     "data": {
      "application/vnd.jupyter.widget-view+json": {
       "model_id": "e6aac4cafb1640c39af8fe2bf98e5ede",
       "version_major": 2,
       "version_minor": 0
      },
      "text/plain": [
       "  0%|          | 0/1 [00:00<?, ?it/s]"
      ]
     },
     "metadata": {},
     "output_type": "display_data"
    },
    {
     "name": "stderr",
     "output_type": "stream",
     "text": [
      "                                                 \r"
     ]
    },
    {
     "data": {
      "application/vnd.jupyter.widget-view+json": {
       "model_id": "b79f23fbda9e49cabc239b0e24610fc5",
       "version_major": 2,
       "version_minor": 0
      },
      "text/plain": [
       "  0%|          | 0/1 [00:00<?, ?it/s]"
      ]
     },
     "metadata": {},
     "output_type": "display_data"
    },
    {
     "name": "stderr",
     "output_type": "stream",
     "text": [
      "                                                 \r"
     ]
    },
    {
     "data": {
      "application/vnd.jupyter.widget-view+json": {
       "model_id": "2efca5b52bb54bbea82371a727ef02dc",
       "version_major": 2,
       "version_minor": 0
      },
      "text/plain": [
       "  0%|          | 0/1 [00:00<?, ?it/s]"
      ]
     },
     "metadata": {},
     "output_type": "display_data"
    },
    {
     "name": "stderr",
     "output_type": "stream",
     "text": [
      "                                                 \r"
     ]
    },
    {
     "data": {
      "application/vnd.jupyter.widget-view+json": {
       "model_id": "d7f1c55ba1d04c31bfe204d0ac3ae9d0",
       "version_major": 2,
       "version_minor": 0
      },
      "text/plain": [
       "  0%|          | 0/1 [00:00<?, ?it/s]"
      ]
     },
     "metadata": {},
     "output_type": "display_data"
    },
    {
     "name": "stderr",
     "output_type": "stream",
     "text": [
      "                                                 \r"
     ]
    },
    {
     "data": {
      "application/vnd.jupyter.widget-view+json": {
       "model_id": "53d77940bb87481cb59e2b7ef3a2145e",
       "version_major": 2,
       "version_minor": 0
      },
      "text/plain": [
       "  0%|          | 0/1 [00:00<?, ?it/s]"
      ]
     },
     "metadata": {},
     "output_type": "display_data"
    },
    {
     "name": "stderr",
     "output_type": "stream",
     "text": [
      "                                                 \r"
     ]
    },
    {
     "data": {
      "application/vnd.jupyter.widget-view+json": {
       "model_id": "1c322128647143bab6f42c501561cbe4",
       "version_major": 2,
       "version_minor": 0
      },
      "text/plain": [
       "  0%|          | 0/1 [00:00<?, ?it/s]"
      ]
     },
     "metadata": {},
     "output_type": "display_data"
    },
    {
     "name": "stderr",
     "output_type": "stream",
     "text": [
      "                                                 \r"
     ]
    },
    {
     "data": {
      "application/vnd.jupyter.widget-view+json": {
       "model_id": "4fe789bd398a4802af998ed281479d97",
       "version_major": 2,
       "version_minor": 0
      },
      "text/plain": [
       "  0%|          | 0/1 [00:00<?, ?it/s]"
      ]
     },
     "metadata": {},
     "output_type": "display_data"
    },
    {
     "name": "stderr",
     "output_type": "stream",
     "text": [
      "                                                 \r"
     ]
    },
    {
     "data": {
      "application/vnd.jupyter.widget-view+json": {
       "model_id": "a2b78f3e08a74618880a530d637b12da",
       "version_major": 2,
       "version_minor": 0
      },
      "text/plain": [
       "  0%|          | 0/1 [00:00<?, ?it/s]"
      ]
     },
     "metadata": {},
     "output_type": "display_data"
    },
    {
     "name": "stderr",
     "output_type": "stream",
     "text": [
      "                                                 \r"
     ]
    },
    {
     "data": {
      "application/vnd.jupyter.widget-view+json": {
       "model_id": "efef1d606491435696db796aea4e348d",
       "version_major": 2,
       "version_minor": 0
      },
      "text/plain": [
       "  0%|          | 0/1 [00:00<?, ?it/s]"
      ]
     },
     "metadata": {},
     "output_type": "display_data"
    },
    {
     "name": "stderr",
     "output_type": "stream",
     "text": [
      "                                                 \r"
     ]
    },
    {
     "data": {
      "application/vnd.jupyter.widget-view+json": {
       "model_id": "be8e2175726e43019bed246658e572c4",
       "version_major": 2,
       "version_minor": 0
      },
      "text/plain": [
       "  0%|          | 0/1 [00:00<?, ?it/s]"
      ]
     },
     "metadata": {},
     "output_type": "display_data"
    },
    {
     "name": "stderr",
     "output_type": "stream",
     "text": [
      "                                                 \r"
     ]
    },
    {
     "data": {
      "application/vnd.jupyter.widget-view+json": {
       "model_id": "894dcdaf9cad4876829c4b340e9de04a",
       "version_major": 2,
       "version_minor": 0
      },
      "text/plain": [
       "  0%|          | 0/1 [00:00<?, ?it/s]"
      ]
     },
     "metadata": {},
     "output_type": "display_data"
    },
    {
     "name": "stderr",
     "output_type": "stream",
     "text": [
      "                                                 \r"
     ]
    },
    {
     "data": {
      "application/vnd.jupyter.widget-view+json": {
       "model_id": "2fa71d0a9aae4a719cb961efb5c1d792",
       "version_major": 2,
       "version_minor": 0
      },
      "text/plain": [
       "  0%|          | 0/1 [00:00<?, ?it/s]"
      ]
     },
     "metadata": {},
     "output_type": "display_data"
    },
    {
     "name": "stderr",
     "output_type": "stream",
     "text": [
      "                                                 \r"
     ]
    },
    {
     "data": {
      "application/vnd.jupyter.widget-view+json": {
       "model_id": "7d2ca7c4db664ee498a0fd5d38071fff",
       "version_major": 2,
       "version_minor": 0
      },
      "text/plain": [
       "  0%|          | 0/1 [00:00<?, ?it/s]"
      ]
     },
     "metadata": {},
     "output_type": "display_data"
    },
    {
     "name": "stderr",
     "output_type": "stream",
     "text": [
      "                                                 \r"
     ]
    },
    {
     "data": {
      "application/vnd.jupyter.widget-view+json": {
       "model_id": "a0afe8b5986e488d9209e6aee27562d9",
       "version_major": 2,
       "version_minor": 0
      },
      "text/plain": [
       "  0%|          | 0/1 [00:00<?, ?it/s]"
      ]
     },
     "metadata": {},
     "output_type": "display_data"
    },
    {
     "name": "stderr",
     "output_type": "stream",
     "text": [
      "                                                 \r"
     ]
    },
    {
     "data": {
      "application/vnd.jupyter.widget-view+json": {
       "model_id": "d28fd80ceed54e6197aa328d18b01fb1",
       "version_major": 2,
       "version_minor": 0
      },
      "text/plain": [
       "  0%|          | 0/1 [00:00<?, ?it/s]"
      ]
     },
     "metadata": {},
     "output_type": "display_data"
    },
    {
     "name": "stderr",
     "output_type": "stream",
     "text": [
      "                                                 \r"
     ]
    },
    {
     "data": {
      "application/vnd.jupyter.widget-view+json": {
       "model_id": "0165ccb5325a4b93b93301cce73e94bf",
       "version_major": 2,
       "version_minor": 0
      },
      "text/plain": [
       "  0%|          | 0/1 [00:00<?, ?it/s]"
      ]
     },
     "metadata": {},
     "output_type": "display_data"
    },
    {
     "name": "stderr",
     "output_type": "stream",
     "text": [
      "                                                 \r"
     ]
    },
    {
     "data": {
      "application/vnd.jupyter.widget-view+json": {
       "model_id": "cbf34ce302b543db84f4356a6ce9b350",
       "version_major": 2,
       "version_minor": 0
      },
      "text/plain": [
       "  0%|          | 0/1 [00:00<?, ?it/s]"
      ]
     },
     "metadata": {},
     "output_type": "display_data"
    },
    {
     "name": "stderr",
     "output_type": "stream",
     "text": [
      "                                                 \r"
     ]
    },
    {
     "data": {
      "application/vnd.jupyter.widget-view+json": {
       "model_id": "a4b57fc2ddb6440fba0476f41d5c4550",
       "version_major": 2,
       "version_minor": 0
      },
      "text/plain": [
       "  0%|          | 0/1 [00:00<?, ?it/s]"
      ]
     },
     "metadata": {},
     "output_type": "display_data"
    },
    {
     "name": "stderr",
     "output_type": "stream",
     "text": [
      "                                                 \r"
     ]
    },
    {
     "data": {
      "application/vnd.jupyter.widget-view+json": {
       "model_id": "df220401e118477ab1366636bf33df02",
       "version_major": 2,
       "version_minor": 0
      },
      "text/plain": [
       "  0%|          | 0/1 [00:00<?, ?it/s]"
      ]
     },
     "metadata": {},
     "output_type": "display_data"
    },
    {
     "name": "stderr",
     "output_type": "stream",
     "text": [
      "                                                 \r"
     ]
    },
    {
     "data": {
      "application/vnd.jupyter.widget-view+json": {
       "model_id": "a267234d087441e9a520dd723218c73d",
       "version_major": 2,
       "version_minor": 0
      },
      "text/plain": [
       "  0%|          | 0/1 [00:00<?, ?it/s]"
      ]
     },
     "metadata": {},
     "output_type": "display_data"
    },
    {
     "name": "stderr",
     "output_type": "stream",
     "text": [
      "                                                 \r"
     ]
    },
    {
     "data": {
      "application/vnd.jupyter.widget-view+json": {
       "model_id": "ba1ac198aa5f4e888105d123350e8afb",
       "version_major": 2,
       "version_minor": 0
      },
      "text/plain": [
       "  0%|          | 0/1 [00:00<?, ?it/s]"
      ]
     },
     "metadata": {},
     "output_type": "display_data"
    },
    {
     "name": "stderr",
     "output_type": "stream",
     "text": [
      "                                                 \r"
     ]
    },
    {
     "data": {
      "application/vnd.jupyter.widget-view+json": {
       "model_id": "421edb6773834478b6bc39137dd75aae",
       "version_major": 2,
       "version_minor": 0
      },
      "text/plain": [
       "  0%|          | 0/1 [00:00<?, ?it/s]"
      ]
     },
     "metadata": {},
     "output_type": "display_data"
    },
    {
     "name": "stderr",
     "output_type": "stream",
     "text": [
      "                                                 \r"
     ]
    },
    {
     "data": {
      "application/vnd.jupyter.widget-view+json": {
       "model_id": "268ba7b4d0e446d2a1c50ee285bbf777",
       "version_major": 2,
       "version_minor": 0
      },
      "text/plain": [
       "  0%|          | 0/1 [00:00<?, ?it/s]"
      ]
     },
     "metadata": {},
     "output_type": "display_data"
    },
    {
     "name": "stderr",
     "output_type": "stream",
     "text": [
      "                                                 \r"
     ]
    },
    {
     "data": {
      "application/vnd.jupyter.widget-view+json": {
       "model_id": "8192ed3b1e9a41c6b753d411988b6746",
       "version_major": 2,
       "version_minor": 0
      },
      "text/plain": [
       "  0%|          | 0/1 [00:00<?, ?it/s]"
      ]
     },
     "metadata": {},
     "output_type": "display_data"
    },
    {
     "name": "stderr",
     "output_type": "stream",
     "text": [
      "                                                 \r"
     ]
    },
    {
     "data": {
      "application/vnd.jupyter.widget-view+json": {
       "model_id": "1b1760df41434c1386a25efda4d0d8db",
       "version_major": 2,
       "version_minor": 0
      },
      "text/plain": [
       "  0%|          | 0/1 [00:00<?, ?it/s]"
      ]
     },
     "metadata": {},
     "output_type": "display_data"
    },
    {
     "name": "stderr",
     "output_type": "stream",
     "text": [
      "                                                 \r"
     ]
    },
    {
     "data": {
      "application/vnd.jupyter.widget-view+json": {
       "model_id": "815f387b6cac4727813bb93d49fbdc8a",
       "version_major": 2,
       "version_minor": 0
      },
      "text/plain": [
       "  0%|          | 0/1 [00:00<?, ?it/s]"
      ]
     },
     "metadata": {},
     "output_type": "display_data"
    },
    {
     "name": "stderr",
     "output_type": "stream",
     "text": [
      "                                                 \r"
     ]
    },
    {
     "data": {
      "application/vnd.jupyter.widget-view+json": {
       "model_id": "26ae2d0c842e48ec9743f97066c45941",
       "version_major": 2,
       "version_minor": 0
      },
      "text/plain": [
       "  0%|          | 0/1 [00:00<?, ?it/s]"
      ]
     },
     "metadata": {},
     "output_type": "display_data"
    },
    {
     "name": "stderr",
     "output_type": "stream",
     "text": [
      "                                                 \r"
     ]
    },
    {
     "data": {
      "application/vnd.jupyter.widget-view+json": {
       "model_id": "56d01454c81c47d69f9d835d03e1c7d8",
       "version_major": 2,
       "version_minor": 0
      },
      "text/plain": [
       "  0%|          | 0/1 [00:00<?, ?it/s]"
      ]
     },
     "metadata": {},
     "output_type": "display_data"
    },
    {
     "name": "stderr",
     "output_type": "stream",
     "text": [
      "                                                 \r"
     ]
    },
    {
     "data": {
      "application/vnd.jupyter.widget-view+json": {
       "model_id": "14bebaf89d0a47299934544bc7436fbf",
       "version_major": 2,
       "version_minor": 0
      },
      "text/plain": [
       "  0%|          | 0/1 [00:00<?, ?it/s]"
      ]
     },
     "metadata": {},
     "output_type": "display_data"
    },
    {
     "name": "stderr",
     "output_type": "stream",
     "text": [
      "                                                 \r"
     ]
    },
    {
     "data": {
      "application/vnd.jupyter.widget-view+json": {
       "model_id": "968008a9f1914703be122738b55acedd",
       "version_major": 2,
       "version_minor": 0
      },
      "text/plain": [
       "  0%|          | 0/1 [00:00<?, ?it/s]"
      ]
     },
     "metadata": {},
     "output_type": "display_data"
    },
    {
     "name": "stderr",
     "output_type": "stream",
     "text": [
      "                                                 \r"
     ]
    },
    {
     "data": {
      "application/vnd.jupyter.widget-view+json": {
       "model_id": "5cccdf2934564feead2deb5cc3119cfc",
       "version_major": 2,
       "version_minor": 0
      },
      "text/plain": [
       "  0%|          | 0/1 [00:00<?, ?it/s]"
      ]
     },
     "metadata": {},
     "output_type": "display_data"
    },
    {
     "name": "stderr",
     "output_type": "stream",
     "text": [
      "                                                 \r"
     ]
    },
    {
     "data": {
      "application/vnd.jupyter.widget-view+json": {
       "model_id": "f0f94cb5deba4cef82f2d670e7b7d4a7",
       "version_major": 2,
       "version_minor": 0
      },
      "text/plain": [
       "  0%|          | 0/1 [00:00<?, ?it/s]"
      ]
     },
     "metadata": {},
     "output_type": "display_data"
    },
    {
     "name": "stderr",
     "output_type": "stream",
     "text": [
      "                                                 \r"
     ]
    },
    {
     "data": {
      "application/vnd.jupyter.widget-view+json": {
       "model_id": "2bce8d10f02447a890c9b2907ecc3ce1",
       "version_major": 2,
       "version_minor": 0
      },
      "text/plain": [
       "  0%|          | 0/1 [00:00<?, ?it/s]"
      ]
     },
     "metadata": {},
     "output_type": "display_data"
    },
    {
     "name": "stderr",
     "output_type": "stream",
     "text": [
      "                                                 \r"
     ]
    },
    {
     "data": {
      "application/vnd.jupyter.widget-view+json": {
       "model_id": "3c8ba8af9a3d44b19ab6d972426eb09c",
       "version_major": 2,
       "version_minor": 0
      },
      "text/plain": [
       "  0%|          | 0/1 [00:00<?, ?it/s]"
      ]
     },
     "metadata": {},
     "output_type": "display_data"
    },
    {
     "name": "stderr",
     "output_type": "stream",
     "text": [
      "                                                 \r"
     ]
    },
    {
     "data": {
      "application/vnd.jupyter.widget-view+json": {
       "model_id": "2e9bae58d0784ea9b9f7e554733cab1d",
       "version_major": 2,
       "version_minor": 0
      },
      "text/plain": [
       "  0%|          | 0/1 [00:00<?, ?it/s]"
      ]
     },
     "metadata": {},
     "output_type": "display_data"
    },
    {
     "name": "stderr",
     "output_type": "stream",
     "text": [
      "                                                 \r"
     ]
    },
    {
     "data": {
      "application/vnd.jupyter.widget-view+json": {
       "model_id": "acaa3481991142a2be23bab8bd8190f9",
       "version_major": 2,
       "version_minor": 0
      },
      "text/plain": [
       "  0%|          | 0/1 [00:00<?, ?it/s]"
      ]
     },
     "metadata": {},
     "output_type": "display_data"
    },
    {
     "name": "stderr",
     "output_type": "stream",
     "text": [
      "                                                 \r"
     ]
    },
    {
     "data": {
      "application/vnd.jupyter.widget-view+json": {
       "model_id": "8f7a036451b84134adce988e95925b64",
       "version_major": 2,
       "version_minor": 0
      },
      "text/plain": [
       "  0%|          | 0/1 [00:00<?, ?it/s]"
      ]
     },
     "metadata": {},
     "output_type": "display_data"
    },
    {
     "name": "stderr",
     "output_type": "stream",
     "text": [
      "                                                 \r"
     ]
    },
    {
     "data": {
      "application/vnd.jupyter.widget-view+json": {
       "model_id": "72b91ec2ae2244c881d559bb70dab0f3",
       "version_major": 2,
       "version_minor": 0
      },
      "text/plain": [
       "  0%|          | 0/1 [00:00<?, ?it/s]"
      ]
     },
     "metadata": {},
     "output_type": "display_data"
    },
    {
     "name": "stderr",
     "output_type": "stream",
     "text": [
      "                                                 \r"
     ]
    },
    {
     "data": {
      "application/vnd.jupyter.widget-view+json": {
       "model_id": "70d9bed8ac574f5ea4f276704817124d",
       "version_major": 2,
       "version_minor": 0
      },
      "text/plain": [
       "  0%|          | 0/1 [00:00<?, ?it/s]"
      ]
     },
     "metadata": {},
     "output_type": "display_data"
    },
    {
     "name": "stderr",
     "output_type": "stream",
     "text": [
      "                                                 \r"
     ]
    },
    {
     "data": {
      "application/vnd.jupyter.widget-view+json": {
       "model_id": "8003c9bc2f96460e89f0965f2548f85c",
       "version_major": 2,
       "version_minor": 0
      },
      "text/plain": [
       "  0%|          | 0/1 [00:00<?, ?it/s]"
      ]
     },
     "metadata": {},
     "output_type": "display_data"
    },
    {
     "name": "stderr",
     "output_type": "stream",
     "text": [
      "                                                 \r"
     ]
    },
    {
     "data": {
      "application/vnd.jupyter.widget-view+json": {
       "model_id": "0a76fdf308bd46a087c40234d85d1b36",
       "version_major": 2,
       "version_minor": 0
      },
      "text/plain": [
       "  0%|          | 0/1 [00:00<?, ?it/s]"
      ]
     },
     "metadata": {},
     "output_type": "display_data"
    },
    {
     "name": "stderr",
     "output_type": "stream",
     "text": [
      "                                                 \r"
     ]
    },
    {
     "data": {
      "application/vnd.jupyter.widget-view+json": {
       "model_id": "69e607d3f48e4230bf742bdea169f973",
       "version_major": 2,
       "version_minor": 0
      },
      "text/plain": [
       "  0%|          | 0/1 [00:00<?, ?it/s]"
      ]
     },
     "metadata": {},
     "output_type": "display_data"
    },
    {
     "name": "stderr",
     "output_type": "stream",
     "text": [
      "                                                 \r"
     ]
    },
    {
     "data": {
      "application/vnd.jupyter.widget-view+json": {
       "model_id": "596ab7665f7b48d0af12210156972f03",
       "version_major": 2,
       "version_minor": 0
      },
      "text/plain": [
       "  0%|          | 0/1 [00:00<?, ?it/s]"
      ]
     },
     "metadata": {},
     "output_type": "display_data"
    },
    {
     "name": "stderr",
     "output_type": "stream",
     "text": [
      "                                                 \r"
     ]
    },
    {
     "data": {
      "application/vnd.jupyter.widget-view+json": {
       "model_id": "ccc1fd4beb8d432e9c655596661edb45",
       "version_major": 2,
       "version_minor": 0
      },
      "text/plain": [
       "  0%|          | 0/1 [00:00<?, ?it/s]"
      ]
     },
     "metadata": {},
     "output_type": "display_data"
    },
    {
     "name": "stderr",
     "output_type": "stream",
     "text": [
      "                                                 \r"
     ]
    },
    {
     "data": {
      "application/vnd.jupyter.widget-view+json": {
       "model_id": "f4ab991987114e4091c62e49b60c10b0",
       "version_major": 2,
       "version_minor": 0
      },
      "text/plain": [
       "  0%|          | 0/1 [00:00<?, ?it/s]"
      ]
     },
     "metadata": {},
     "output_type": "display_data"
    },
    {
     "name": "stderr",
     "output_type": "stream",
     "text": [
      "                                                 \r"
     ]
    },
    {
     "data": {
      "application/vnd.jupyter.widget-view+json": {
       "model_id": "e8cedf572e8e4d12b9e832c354b1dbeb",
       "version_major": 2,
       "version_minor": 0
      },
      "text/plain": [
       "  0%|          | 0/1 [00:00<?, ?it/s]"
      ]
     },
     "metadata": {},
     "output_type": "display_data"
    },
    {
     "name": "stderr",
     "output_type": "stream",
     "text": [
      "                                                 \r"
     ]
    },
    {
     "data": {
      "application/vnd.jupyter.widget-view+json": {
       "model_id": "26bebc196a7040ce84aa9209450f7781",
       "version_major": 2,
       "version_minor": 0
      },
      "text/plain": [
       "  0%|          | 0/1 [00:00<?, ?it/s]"
      ]
     },
     "metadata": {},
     "output_type": "display_data"
    },
    {
     "name": "stderr",
     "output_type": "stream",
     "text": [
      "                                                 \r"
     ]
    },
    {
     "data": {
      "application/vnd.jupyter.widget-view+json": {
       "model_id": "051f32a44e2a4d2ab6f6e210124faa2b",
       "version_major": 2,
       "version_minor": 0
      },
      "text/plain": [
       "  0%|          | 0/1 [00:00<?, ?it/s]"
      ]
     },
     "metadata": {},
     "output_type": "display_data"
    },
    {
     "name": "stderr",
     "output_type": "stream",
     "text": [
      "                                                 \r"
     ]
    },
    {
     "data": {
      "application/vnd.jupyter.widget-view+json": {
       "model_id": "0c2baa77df0b4125942c685b8b5412cd",
       "version_major": 2,
       "version_minor": 0
      },
      "text/plain": [
       "  0%|          | 0/1 [00:00<?, ?it/s]"
      ]
     },
     "metadata": {},
     "output_type": "display_data"
    },
    {
     "name": "stderr",
     "output_type": "stream",
     "text": [
      "                                                 \r"
     ]
    },
    {
     "data": {
      "application/vnd.jupyter.widget-view+json": {
       "model_id": "8f6f32974d484049ae43091d885609c4",
       "version_major": 2,
       "version_minor": 0
      },
      "text/plain": [
       "  0%|          | 0/1 [00:00<?, ?it/s]"
      ]
     },
     "metadata": {},
     "output_type": "display_data"
    },
    {
     "name": "stderr",
     "output_type": "stream",
     "text": [
      "                                                 \r"
     ]
    },
    {
     "data": {
      "application/vnd.jupyter.widget-view+json": {
       "model_id": "012dda19449a4b33aec6830ec8c87ea1",
       "version_major": 2,
       "version_minor": 0
      },
      "text/plain": [
       "  0%|          | 0/1 [00:00<?, ?it/s]"
      ]
     },
     "metadata": {},
     "output_type": "display_data"
    },
    {
     "name": "stderr",
     "output_type": "stream",
     "text": [
      "                                                 \r"
     ]
    },
    {
     "data": {
      "application/vnd.jupyter.widget-view+json": {
       "model_id": "4cf48ab1d93647ab9cc8cf00bf5b958e",
       "version_major": 2,
       "version_minor": 0
      },
      "text/plain": [
       "  0%|          | 0/1 [00:00<?, ?it/s]"
      ]
     },
     "metadata": {},
     "output_type": "display_data"
    },
    {
     "name": "stderr",
     "output_type": "stream",
     "text": [
      "                                                 \r"
     ]
    },
    {
     "data": {
      "application/vnd.jupyter.widget-view+json": {
       "model_id": "9ab10589ed994160bcf07b921cf41243",
       "version_major": 2,
       "version_minor": 0
      },
      "text/plain": [
       "  0%|          | 0/1 [00:00<?, ?it/s]"
      ]
     },
     "metadata": {},
     "output_type": "display_data"
    },
    {
     "name": "stderr",
     "output_type": "stream",
     "text": [
      "                                                 \r"
     ]
    },
    {
     "data": {
      "application/vnd.jupyter.widget-view+json": {
       "model_id": "6b70bdaced4442b4ac7b3a99bca18950",
       "version_major": 2,
       "version_minor": 0
      },
      "text/plain": [
       "  0%|          | 0/1 [00:00<?, ?it/s]"
      ]
     },
     "metadata": {},
     "output_type": "display_data"
    },
    {
     "name": "stderr",
     "output_type": "stream",
     "text": [
      "                                                 \r"
     ]
    },
    {
     "data": {
      "application/vnd.jupyter.widget-view+json": {
       "model_id": "a431e4bd56654ce5aaf5e3654b04dfc9",
       "version_major": 2,
       "version_minor": 0
      },
      "text/plain": [
       "  0%|          | 0/1 [00:00<?, ?it/s]"
      ]
     },
     "metadata": {},
     "output_type": "display_data"
    },
    {
     "name": "stderr",
     "output_type": "stream",
     "text": [
      "                                                 \r"
     ]
    },
    {
     "data": {
      "application/vnd.jupyter.widget-view+json": {
       "model_id": "359ebd23fded41c2a3b760ba332ef5e5",
       "version_major": 2,
       "version_minor": 0
      },
      "text/plain": [
       "  0%|          | 0/1 [00:00<?, ?it/s]"
      ]
     },
     "metadata": {},
     "output_type": "display_data"
    },
    {
     "name": "stderr",
     "output_type": "stream",
     "text": [
      "                                                 \r"
     ]
    },
    {
     "data": {
      "application/vnd.jupyter.widget-view+json": {
       "model_id": "17ec31e517224c528ffafe587edee784",
       "version_major": 2,
       "version_minor": 0
      },
      "text/plain": [
       "  0%|          | 0/1 [00:00<?, ?it/s]"
      ]
     },
     "metadata": {},
     "output_type": "display_data"
    },
    {
     "name": "stderr",
     "output_type": "stream",
     "text": [
      "                                                 \r"
     ]
    },
    {
     "data": {
      "application/vnd.jupyter.widget-view+json": {
       "model_id": "eb90d9350d6542949ef9ed666d9c714b",
       "version_major": 2,
       "version_minor": 0
      },
      "text/plain": [
       "  0%|          | 0/1 [00:00<?, ?it/s]"
      ]
     },
     "metadata": {},
     "output_type": "display_data"
    },
    {
     "name": "stderr",
     "output_type": "stream",
     "text": [
      "                                                 \r"
     ]
    },
    {
     "data": {
      "application/vnd.jupyter.widget-view+json": {
       "model_id": "ad7f4049e06546acb1bafbf9963dd693",
       "version_major": 2,
       "version_minor": 0
      },
      "text/plain": [
       "  0%|          | 0/1 [00:00<?, ?it/s]"
      ]
     },
     "metadata": {},
     "output_type": "display_data"
    },
    {
     "name": "stderr",
     "output_type": "stream",
     "text": [
      "                                                 \r"
     ]
    },
    {
     "data": {
      "application/vnd.jupyter.widget-view+json": {
       "model_id": "04f35154ada3426abdb26c648eee0473",
       "version_major": 2,
       "version_minor": 0
      },
      "text/plain": [
       "  0%|          | 0/1 [00:00<?, ?it/s]"
      ]
     },
     "metadata": {},
     "output_type": "display_data"
    },
    {
     "name": "stderr",
     "output_type": "stream",
     "text": [
      "                                                 \r"
     ]
    },
    {
     "data": {
      "application/vnd.jupyter.widget-view+json": {
       "model_id": "d4c86995d37c46f8babddbe83f290923",
       "version_major": 2,
       "version_minor": 0
      },
      "text/plain": [
       "  0%|          | 0/1 [00:00<?, ?it/s]"
      ]
     },
     "metadata": {},
     "output_type": "display_data"
    },
    {
     "name": "stderr",
     "output_type": "stream",
     "text": [
      "                                                 \r"
     ]
    },
    {
     "data": {
      "application/vnd.jupyter.widget-view+json": {
       "model_id": "27d84e598ae7428fbaebe083599a3b04",
       "version_major": 2,
       "version_minor": 0
      },
      "text/plain": [
       "  0%|          | 0/1 [00:00<?, ?it/s]"
      ]
     },
     "metadata": {},
     "output_type": "display_data"
    },
    {
     "name": "stderr",
     "output_type": "stream",
     "text": [
      "                                                 \r"
     ]
    },
    {
     "data": {
      "application/vnd.jupyter.widget-view+json": {
       "model_id": "e6b0b06f0ee341859e1f0e147137613f",
       "version_major": 2,
       "version_minor": 0
      },
      "text/plain": [
       "  0%|          | 0/1 [00:00<?, ?it/s]"
      ]
     },
     "metadata": {},
     "output_type": "display_data"
    },
    {
     "name": "stderr",
     "output_type": "stream",
     "text": [
      "                                                 \r"
     ]
    },
    {
     "data": {
      "application/vnd.jupyter.widget-view+json": {
       "model_id": "5fc72c0812df4e8db170c9a43ec62534",
       "version_major": 2,
       "version_minor": 0
      },
      "text/plain": [
       "  0%|          | 0/1 [00:00<?, ?it/s]"
      ]
     },
     "metadata": {},
     "output_type": "display_data"
    },
    {
     "name": "stderr",
     "output_type": "stream",
     "text": [
      "                                                 \r"
     ]
    },
    {
     "data": {
      "application/vnd.jupyter.widget-view+json": {
       "model_id": "30706e37fb72434e8de1bcab234750ae",
       "version_major": 2,
       "version_minor": 0
      },
      "text/plain": [
       "  0%|          | 0/1 [00:00<?, ?it/s]"
      ]
     },
     "metadata": {},
     "output_type": "display_data"
    },
    {
     "name": "stderr",
     "output_type": "stream",
     "text": [
      "                                                 \r"
     ]
    },
    {
     "data": {
      "application/vnd.jupyter.widget-view+json": {
       "model_id": "0a7d876a9034487694b4078038160e4b",
       "version_major": 2,
       "version_minor": 0
      },
      "text/plain": [
       "  0%|          | 0/1 [00:00<?, ?it/s]"
      ]
     },
     "metadata": {},
     "output_type": "display_data"
    },
    {
     "name": "stderr",
     "output_type": "stream",
     "text": [
      "                                                 \r"
     ]
    },
    {
     "data": {
      "application/vnd.jupyter.widget-view+json": {
       "model_id": "053e65be4e3048c3b2e9e6786265bcac",
       "version_major": 2,
       "version_minor": 0
      },
      "text/plain": [
       "  0%|          | 0/1 [00:00<?, ?it/s]"
      ]
     },
     "metadata": {},
     "output_type": "display_data"
    },
    {
     "name": "stderr",
     "output_type": "stream",
     "text": [
      "                                                 \r"
     ]
    },
    {
     "data": {
      "application/vnd.jupyter.widget-view+json": {
       "model_id": "541115b623b541918d7387c7dd1f2db8",
       "version_major": 2,
       "version_minor": 0
      },
      "text/plain": [
       "  0%|          | 0/1 [00:00<?, ?it/s]"
      ]
     },
     "metadata": {},
     "output_type": "display_data"
    },
    {
     "name": "stderr",
     "output_type": "stream",
     "text": [
      "                                                 \r"
     ]
    },
    {
     "data": {
      "application/vnd.jupyter.widget-view+json": {
       "model_id": "d930ba284437427db980a31e3c9c80cb",
       "version_major": 2,
       "version_minor": 0
      },
      "text/plain": [
       "  0%|          | 0/1 [00:00<?, ?it/s]"
      ]
     },
     "metadata": {},
     "output_type": "display_data"
    },
    {
     "name": "stderr",
     "output_type": "stream",
     "text": [
      "                                                 \r"
     ]
    },
    {
     "data": {
      "application/vnd.jupyter.widget-view+json": {
       "model_id": "f02eeeaca2f34fb8885ed329f177a712",
       "version_major": 2,
       "version_minor": 0
      },
      "text/plain": [
       "  0%|          | 0/1 [00:00<?, ?it/s]"
      ]
     },
     "metadata": {},
     "output_type": "display_data"
    },
    {
     "name": "stderr",
     "output_type": "stream",
     "text": [
      "                                                 \r"
     ]
    },
    {
     "data": {
      "application/vnd.jupyter.widget-view+json": {
       "model_id": "7f902284623d4983bf07606477745e68",
       "version_major": 2,
       "version_minor": 0
      },
      "text/plain": [
       "  0%|          | 0/1 [00:00<?, ?it/s]"
      ]
     },
     "metadata": {},
     "output_type": "display_data"
    },
    {
     "name": "stderr",
     "output_type": "stream",
     "text": [
      "                                                 \r"
     ]
    },
    {
     "data": {
      "application/vnd.jupyter.widget-view+json": {
       "model_id": "9f4504a008c449718c00e579c6603d4e",
       "version_major": 2,
       "version_minor": 0
      },
      "text/plain": [
       "  0%|          | 0/1 [00:00<?, ?it/s]"
      ]
     },
     "metadata": {},
     "output_type": "display_data"
    },
    {
     "name": "stderr",
     "output_type": "stream",
     "text": [
      "                                                 \r"
     ]
    },
    {
     "data": {
      "application/vnd.jupyter.widget-view+json": {
       "model_id": "014dc4f6b3d74ae1ae0c03b01d61a221",
       "version_major": 2,
       "version_minor": 0
      },
      "text/plain": [
       "  0%|          | 0/1 [00:00<?, ?it/s]"
      ]
     },
     "metadata": {},
     "output_type": "display_data"
    },
    {
     "name": "stderr",
     "output_type": "stream",
     "text": [
      "                                                 \r"
     ]
    },
    {
     "data": {
      "application/vnd.jupyter.widget-view+json": {
       "model_id": "244f1ad538a342dc821e27ac703add48",
       "version_major": 2,
       "version_minor": 0
      },
      "text/plain": [
       "  0%|          | 0/1 [00:00<?, ?it/s]"
      ]
     },
     "metadata": {},
     "output_type": "display_data"
    },
    {
     "name": "stderr",
     "output_type": "stream",
     "text": [
      "                                                 \r"
     ]
    },
    {
     "data": {
      "application/vnd.jupyter.widget-view+json": {
       "model_id": "1d124834a8c4492c960ddd5b3c169e1e",
       "version_major": 2,
       "version_minor": 0
      },
      "text/plain": [
       "  0%|          | 0/1 [00:00<?, ?it/s]"
      ]
     },
     "metadata": {},
     "output_type": "display_data"
    },
    {
     "name": "stderr",
     "output_type": "stream",
     "text": [
      "                                                 \r"
     ]
    },
    {
     "data": {
      "application/vnd.jupyter.widget-view+json": {
       "model_id": "657e7f26b430448eb1ee345d20bb2128",
       "version_major": 2,
       "version_minor": 0
      },
      "text/plain": [
       "  0%|          | 0/1 [00:00<?, ?it/s]"
      ]
     },
     "metadata": {},
     "output_type": "display_data"
    },
    {
     "name": "stderr",
     "output_type": "stream",
     "text": [
      "                                                 \r"
     ]
    },
    {
     "data": {
      "application/vnd.jupyter.widget-view+json": {
       "model_id": "06005180dbd544a6955af5ab417d2058",
       "version_major": 2,
       "version_minor": 0
      },
      "text/plain": [
       "  0%|          | 0/1 [00:00<?, ?it/s]"
      ]
     },
     "metadata": {},
     "output_type": "display_data"
    },
    {
     "name": "stderr",
     "output_type": "stream",
     "text": [
      "                                                 \r"
     ]
    },
    {
     "data": {
      "application/vnd.jupyter.widget-view+json": {
       "model_id": "39f2c32fa02c4dfca0d06d5f53d88c29",
       "version_major": 2,
       "version_minor": 0
      },
      "text/plain": [
       "  0%|          | 0/1 [00:00<?, ?it/s]"
      ]
     },
     "metadata": {},
     "output_type": "display_data"
    },
    {
     "name": "stderr",
     "output_type": "stream",
     "text": [
      "                                                 \r"
     ]
    },
    {
     "data": {
      "application/vnd.jupyter.widget-view+json": {
       "model_id": "324432b6cf104bfc86e541793927427a",
       "version_major": 2,
       "version_minor": 0
      },
      "text/plain": [
       "  0%|          | 0/1 [00:00<?, ?it/s]"
      ]
     },
     "metadata": {},
     "output_type": "display_data"
    },
    {
     "name": "stderr",
     "output_type": "stream",
     "text": [
      "                                                 \r"
     ]
    },
    {
     "data": {
      "application/vnd.jupyter.widget-view+json": {
       "model_id": "6898c8aaa10c4c18bfdb92710e507f90",
       "version_major": 2,
       "version_minor": 0
      },
      "text/plain": [
       "  0%|          | 0/1 [00:00<?, ?it/s]"
      ]
     },
     "metadata": {},
     "output_type": "display_data"
    },
    {
     "name": "stderr",
     "output_type": "stream",
     "text": [
      "                                                 \r"
     ]
    },
    {
     "data": {
      "application/vnd.jupyter.widget-view+json": {
       "model_id": "95175d3e17164042bfa7c5cfbd845d70",
       "version_major": 2,
       "version_minor": 0
      },
      "text/plain": [
       "  0%|          | 0/1 [00:00<?, ?it/s]"
      ]
     },
     "metadata": {},
     "output_type": "display_data"
    },
    {
     "name": "stderr",
     "output_type": "stream",
     "text": [
      "                                                 \r"
     ]
    },
    {
     "data": {
      "application/vnd.jupyter.widget-view+json": {
       "model_id": "8b69aa65a53d4ac495afca48d3dd3691",
       "version_major": 2,
       "version_minor": 0
      },
      "text/plain": [
       "  0%|          | 0/1 [00:00<?, ?it/s]"
      ]
     },
     "metadata": {},
     "output_type": "display_data"
    },
    {
     "name": "stderr",
     "output_type": "stream",
     "text": [
      "                                                 \r"
     ]
    },
    {
     "data": {
      "application/vnd.jupyter.widget-view+json": {
       "model_id": "507807e64296433a941972edeba8ddcd",
       "version_major": 2,
       "version_minor": 0
      },
      "text/plain": [
       "  0%|          | 0/1 [00:00<?, ?it/s]"
      ]
     },
     "metadata": {},
     "output_type": "display_data"
    },
    {
     "name": "stderr",
     "output_type": "stream",
     "text": [
      "                                                 \r"
     ]
    },
    {
     "data": {
      "application/vnd.jupyter.widget-view+json": {
       "model_id": "d5b076786c054b0eb77a6b08ecbf89cd",
       "version_major": 2,
       "version_minor": 0
      },
      "text/plain": [
       "  0%|          | 0/1 [00:00<?, ?it/s]"
      ]
     },
     "metadata": {},
     "output_type": "display_data"
    },
    {
     "name": "stderr",
     "output_type": "stream",
     "text": [
      "                                                 \r"
     ]
    },
    {
     "data": {
      "application/vnd.jupyter.widget-view+json": {
       "model_id": "a25f1f3a35444c97b67c25a19aea872b",
       "version_major": 2,
       "version_minor": 0
      },
      "text/plain": [
       "  0%|          | 0/1 [00:00<?, ?it/s]"
      ]
     },
     "metadata": {},
     "output_type": "display_data"
    },
    {
     "name": "stderr",
     "output_type": "stream",
     "text": [
      "                                                 \r"
     ]
    },
    {
     "data": {
      "application/vnd.jupyter.widget-view+json": {
       "model_id": "63a2624ee097490b8bb4af5704dff5a8",
       "version_major": 2,
       "version_minor": 0
      },
      "text/plain": [
       "  0%|          | 0/1 [00:00<?, ?it/s]"
      ]
     },
     "metadata": {},
     "output_type": "display_data"
    },
    {
     "name": "stderr",
     "output_type": "stream",
     "text": [
      "                                                 \r"
     ]
    },
    {
     "data": {
      "application/vnd.jupyter.widget-view+json": {
       "model_id": "c14f1d669efc4a808d1c1abab15b247a",
       "version_major": 2,
       "version_minor": 0
      },
      "text/plain": [
       "  0%|          | 0/1 [00:00<?, ?it/s]"
      ]
     },
     "metadata": {},
     "output_type": "display_data"
    },
    {
     "name": "stderr",
     "output_type": "stream",
     "text": [
      "                                                 \r"
     ]
    },
    {
     "data": {
      "application/vnd.jupyter.widget-view+json": {
       "model_id": "c12d8c345b0c4bca8d8611fde1937271",
       "version_major": 2,
       "version_minor": 0
      },
      "text/plain": [
       "  0%|          | 0/1 [00:00<?, ?it/s]"
      ]
     },
     "metadata": {},
     "output_type": "display_data"
    },
    {
     "name": "stderr",
     "output_type": "stream",
     "text": [
      "                                                 \r"
     ]
    },
    {
     "data": {
      "application/vnd.jupyter.widget-view+json": {
       "model_id": "7442b0d6e173447087c77ca4c1775935",
       "version_major": 2,
       "version_minor": 0
      },
      "text/plain": [
       "  0%|          | 0/1 [00:00<?, ?it/s]"
      ]
     },
     "metadata": {},
     "output_type": "display_data"
    },
    {
     "name": "stderr",
     "output_type": "stream",
     "text": [
      "                                                 \r"
     ]
    },
    {
     "data": {
      "application/vnd.jupyter.widget-view+json": {
       "model_id": "033db4e2df0a42b381296b96012a7455",
       "version_major": 2,
       "version_minor": 0
      },
      "text/plain": [
       "  0%|          | 0/1 [00:00<?, ?it/s]"
      ]
     },
     "metadata": {},
     "output_type": "display_data"
    },
    {
     "name": "stderr",
     "output_type": "stream",
     "text": [
      "                                                 \r"
     ]
    },
    {
     "data": {
      "application/vnd.jupyter.widget-view+json": {
       "model_id": "e583dd4a8ab5416b8fe9e2758827e3a9",
       "version_major": 2,
       "version_minor": 0
      },
      "text/plain": [
       "  0%|          | 0/1 [00:00<?, ?it/s]"
      ]
     },
     "metadata": {},
     "output_type": "display_data"
    },
    {
     "name": "stderr",
     "output_type": "stream",
     "text": [
      "                                                 \r"
     ]
    },
    {
     "data": {
      "application/vnd.jupyter.widget-view+json": {
       "model_id": "f81f5b97438a47beaeb78656c39bbe74",
       "version_major": 2,
       "version_minor": 0
      },
      "text/plain": [
       "  0%|          | 0/1 [00:00<?, ?it/s]"
      ]
     },
     "metadata": {},
     "output_type": "display_data"
    },
    {
     "name": "stderr",
     "output_type": "stream",
     "text": [
      "                                                 \r"
     ]
    },
    {
     "data": {
      "application/vnd.jupyter.widget-view+json": {
       "model_id": "033fad215a62481dbafc3de79f772695",
       "version_major": 2,
       "version_minor": 0
      },
      "text/plain": [
       "  0%|          | 0/1 [00:00<?, ?it/s]"
      ]
     },
     "metadata": {},
     "output_type": "display_data"
    },
    {
     "name": "stderr",
     "output_type": "stream",
     "text": [
      "                                                 \r"
     ]
    },
    {
     "data": {
      "application/vnd.jupyter.widget-view+json": {
       "model_id": "600c30a33c9b48b3b0db93c04f283759",
       "version_major": 2,
       "version_minor": 0
      },
      "text/plain": [
       "  0%|          | 0/1 [00:00<?, ?it/s]"
      ]
     },
     "metadata": {},
     "output_type": "display_data"
    },
    {
     "name": "stderr",
     "output_type": "stream",
     "text": [
      "                                                 \r"
     ]
    },
    {
     "data": {
      "application/vnd.jupyter.widget-view+json": {
       "model_id": "c0c0e89cbac844d6aca0b2015deda8ce",
       "version_major": 2,
       "version_minor": 0
      },
      "text/plain": [
       "  0%|          | 0/1 [00:00<?, ?it/s]"
      ]
     },
     "metadata": {},
     "output_type": "display_data"
    },
    {
     "name": "stderr",
     "output_type": "stream",
     "text": [
      "                                                 \r"
     ]
    },
    {
     "data": {
      "application/vnd.jupyter.widget-view+json": {
       "model_id": "2b4e7fa3cebe4f5b9adc0ac87a08f6af",
       "version_major": 2,
       "version_minor": 0
      },
      "text/plain": [
       "  0%|          | 0/1 [00:00<?, ?it/s]"
      ]
     },
     "metadata": {},
     "output_type": "display_data"
    },
    {
     "name": "stderr",
     "output_type": "stream",
     "text": [
      "                                                 \r"
     ]
    },
    {
     "data": {
      "application/vnd.jupyter.widget-view+json": {
       "model_id": "b47da4ed088045e4a2624181ef21107e",
       "version_major": 2,
       "version_minor": 0
      },
      "text/plain": [
       "  0%|          | 0/1 [00:00<?, ?it/s]"
      ]
     },
     "metadata": {},
     "output_type": "display_data"
    },
    {
     "name": "stderr",
     "output_type": "stream",
     "text": [
      "                                                 \r"
     ]
    },
    {
     "data": {
      "application/vnd.jupyter.widget-view+json": {
       "model_id": "ba0be57763e24755a3c1d588cd043fd7",
       "version_major": 2,
       "version_minor": 0
      },
      "text/plain": [
       "  0%|          | 0/1 [00:00<?, ?it/s]"
      ]
     },
     "metadata": {},
     "output_type": "display_data"
    },
    {
     "name": "stderr",
     "output_type": "stream",
     "text": [
      "                                                 \r"
     ]
    },
    {
     "data": {
      "application/vnd.jupyter.widget-view+json": {
       "model_id": "b9819a60db604b41af87479aa36f6ba5",
       "version_major": 2,
       "version_minor": 0
      },
      "text/plain": [
       "  0%|          | 0/1 [00:00<?, ?it/s]"
      ]
     },
     "metadata": {},
     "output_type": "display_data"
    },
    {
     "name": "stderr",
     "output_type": "stream",
     "text": [
      "                                                 \r"
     ]
    },
    {
     "data": {
      "application/vnd.jupyter.widget-view+json": {
       "model_id": "e75106656ce440b58d76b5d615e0cfec",
       "version_major": 2,
       "version_minor": 0
      },
      "text/plain": [
       "  0%|          | 0/1 [00:00<?, ?it/s]"
      ]
     },
     "metadata": {},
     "output_type": "display_data"
    },
    {
     "name": "stderr",
     "output_type": "stream",
     "text": [
      "                                                 \r"
     ]
    },
    {
     "data": {
      "application/vnd.jupyter.widget-view+json": {
       "model_id": "7999abc570754e61a991f8d4f84c2571",
       "version_major": 2,
       "version_minor": 0
      },
      "text/plain": [
       "  0%|          | 0/1 [00:00<?, ?it/s]"
      ]
     },
     "metadata": {},
     "output_type": "display_data"
    },
    {
     "name": "stderr",
     "output_type": "stream",
     "text": [
      "                                                 \r"
     ]
    },
    {
     "data": {
      "application/vnd.jupyter.widget-view+json": {
       "model_id": "01cc39c7b6224a8e84cfc289b9687869",
       "version_major": 2,
       "version_minor": 0
      },
      "text/plain": [
       "  0%|          | 0/1 [00:00<?, ?it/s]"
      ]
     },
     "metadata": {},
     "output_type": "display_data"
    },
    {
     "name": "stderr",
     "output_type": "stream",
     "text": [
      "                                                 \r"
     ]
    },
    {
     "data": {
      "application/vnd.jupyter.widget-view+json": {
       "model_id": "5916cdb5c6574e2cbcf70b6cac9c6138",
       "version_major": 2,
       "version_minor": 0
      },
      "text/plain": [
       "  0%|          | 0/1 [00:00<?, ?it/s]"
      ]
     },
     "metadata": {},
     "output_type": "display_data"
    },
    {
     "name": "stderr",
     "output_type": "stream",
     "text": [
      "                                                 \r"
     ]
    },
    {
     "data": {
      "application/vnd.jupyter.widget-view+json": {
       "model_id": "a15b23f9e0c545f7bdab119b6b120413",
       "version_major": 2,
       "version_minor": 0
      },
      "text/plain": [
       "  0%|          | 0/1 [00:00<?, ?it/s]"
      ]
     },
     "metadata": {},
     "output_type": "display_data"
    },
    {
     "name": "stderr",
     "output_type": "stream",
     "text": [
      "                                                 \r"
     ]
    },
    {
     "data": {
      "application/vnd.jupyter.widget-view+json": {
       "model_id": "574a6908813740f39b4bccca09a45757",
       "version_major": 2,
       "version_minor": 0
      },
      "text/plain": [
       "  0%|          | 0/1 [00:00<?, ?it/s]"
      ]
     },
     "metadata": {},
     "output_type": "display_data"
    },
    {
     "name": "stderr",
     "output_type": "stream",
     "text": [
      "                                                 \r"
     ]
    },
    {
     "data": {
      "application/vnd.jupyter.widget-view+json": {
       "model_id": "44a447365e164401b561f1898db1c73e",
       "version_major": 2,
       "version_minor": 0
      },
      "text/plain": [
       "  0%|          | 0/1 [00:00<?, ?it/s]"
      ]
     },
     "metadata": {},
     "output_type": "display_data"
    },
    {
     "name": "stderr",
     "output_type": "stream",
     "text": [
      "                                                 \r"
     ]
    },
    {
     "data": {
      "application/vnd.jupyter.widget-view+json": {
       "model_id": "600a6ecf58354d808b3fa0c24b18db13",
       "version_major": 2,
       "version_minor": 0
      },
      "text/plain": [
       "  0%|          | 0/1 [00:00<?, ?it/s]"
      ]
     },
     "metadata": {},
     "output_type": "display_data"
    },
    {
     "name": "stderr",
     "output_type": "stream",
     "text": [
      "                                                 \r"
     ]
    },
    {
     "data": {
      "application/vnd.jupyter.widget-view+json": {
       "model_id": "2c4d177eccf84ed8a1112088381f404a",
       "version_major": 2,
       "version_minor": 0
      },
      "text/plain": [
       "  0%|          | 0/1 [00:00<?, ?it/s]"
      ]
     },
     "metadata": {},
     "output_type": "display_data"
    },
    {
     "name": "stderr",
     "output_type": "stream",
     "text": [
      "                                                 \r"
     ]
    },
    {
     "data": {
      "application/vnd.jupyter.widget-view+json": {
       "model_id": "ed7dc5f577cf45829ab0879e67ee38a6",
       "version_major": 2,
       "version_minor": 0
      },
      "text/plain": [
       "  0%|          | 0/1 [00:00<?, ?it/s]"
      ]
     },
     "metadata": {},
     "output_type": "display_data"
    },
    {
     "name": "stderr",
     "output_type": "stream",
     "text": [
      "                                                 \r"
     ]
    },
    {
     "data": {
      "application/vnd.jupyter.widget-view+json": {
       "model_id": "a003efb0e03942ee9165dfc17b16ad07",
       "version_major": 2,
       "version_minor": 0
      },
      "text/plain": [
       "  0%|          | 0/1 [00:00<?, ?it/s]"
      ]
     },
     "metadata": {},
     "output_type": "display_data"
    },
    {
     "name": "stderr",
     "output_type": "stream",
     "text": [
      "                                                 \r"
     ]
    },
    {
     "data": {
      "application/vnd.jupyter.widget-view+json": {
       "model_id": "d587d8890818488fa825ef46fc3f4ffb",
       "version_major": 2,
       "version_minor": 0
      },
      "text/plain": [
       "  0%|          | 0/1 [00:00<?, ?it/s]"
      ]
     },
     "metadata": {},
     "output_type": "display_data"
    },
    {
     "name": "stderr",
     "output_type": "stream",
     "text": [
      "                                                 \r"
     ]
    },
    {
     "data": {
      "application/vnd.jupyter.widget-view+json": {
       "model_id": "e76a12392718487f9b486155d68b1d55",
       "version_major": 2,
       "version_minor": 0
      },
      "text/plain": [
       "  0%|          | 0/1 [00:00<?, ?it/s]"
      ]
     },
     "metadata": {},
     "output_type": "display_data"
    },
    {
     "name": "stderr",
     "output_type": "stream",
     "text": [
      "                                                 \r"
     ]
    },
    {
     "data": {
      "application/vnd.jupyter.widget-view+json": {
       "model_id": "ed29a899185f4fc29d490a436a452652",
       "version_major": 2,
       "version_minor": 0
      },
      "text/plain": [
       "  0%|          | 0/1 [00:00<?, ?it/s]"
      ]
     },
     "metadata": {},
     "output_type": "display_data"
    },
    {
     "name": "stderr",
     "output_type": "stream",
     "text": [
      "                                                 \r"
     ]
    },
    {
     "data": {
      "application/vnd.jupyter.widget-view+json": {
       "model_id": "cd0253efa2ea4d438c71e7299f8abb03",
       "version_major": 2,
       "version_minor": 0
      },
      "text/plain": [
       "  0%|          | 0/1 [00:00<?, ?it/s]"
      ]
     },
     "metadata": {},
     "output_type": "display_data"
    },
    {
     "name": "stderr",
     "output_type": "stream",
     "text": [
      "                                                 \r"
     ]
    },
    {
     "data": {
      "application/vnd.jupyter.widget-view+json": {
       "model_id": "4fd6ffeb66564a0f98b85ef0367af81e",
       "version_major": 2,
       "version_minor": 0
      },
      "text/plain": [
       "  0%|          | 0/1 [00:00<?, ?it/s]"
      ]
     },
     "metadata": {},
     "output_type": "display_data"
    },
    {
     "name": "stderr",
     "output_type": "stream",
     "text": [
      "                                                 \r"
     ]
    },
    {
     "data": {
      "application/vnd.jupyter.widget-view+json": {
       "model_id": "601a1f75f6fc404d9e7bfe55f07857ea",
       "version_major": 2,
       "version_minor": 0
      },
      "text/plain": [
       "  0%|          | 0/1 [00:00<?, ?it/s]"
      ]
     },
     "metadata": {},
     "output_type": "display_data"
    },
    {
     "name": "stderr",
     "output_type": "stream",
     "text": [
      "                                                 \r"
     ]
    },
    {
     "data": {
      "application/vnd.jupyter.widget-view+json": {
       "model_id": "65e2d265eceb4b049d88a4076e6ed465",
       "version_major": 2,
       "version_minor": 0
      },
      "text/plain": [
       "  0%|          | 0/1 [00:00<?, ?it/s]"
      ]
     },
     "metadata": {},
     "output_type": "display_data"
    },
    {
     "name": "stderr",
     "output_type": "stream",
     "text": [
      "                                                 \r"
     ]
    },
    {
     "data": {
      "application/vnd.jupyter.widget-view+json": {
       "model_id": "c2573f8ff9e349648962c7fc1a24ff30",
       "version_major": 2,
       "version_minor": 0
      },
      "text/plain": [
       "  0%|          | 0/1 [00:00<?, ?it/s]"
      ]
     },
     "metadata": {},
     "output_type": "display_data"
    },
    {
     "name": "stderr",
     "output_type": "stream",
     "text": [
      "                                                 \r"
     ]
    },
    {
     "data": {
      "application/vnd.jupyter.widget-view+json": {
       "model_id": "cf38bb67114a4a55bf0380179024cbb3",
       "version_major": 2,
       "version_minor": 0
      },
      "text/plain": [
       "  0%|          | 0/1 [00:00<?, ?it/s]"
      ]
     },
     "metadata": {},
     "output_type": "display_data"
    },
    {
     "name": "stderr",
     "output_type": "stream",
     "text": [
      "                                                 \r"
     ]
    },
    {
     "data": {
      "application/vnd.jupyter.widget-view+json": {
       "model_id": "b24fdcf5e3c543e5882688574d946ba6",
       "version_major": 2,
       "version_minor": 0
      },
      "text/plain": [
       "  0%|          | 0/1 [00:00<?, ?it/s]"
      ]
     },
     "metadata": {},
     "output_type": "display_data"
    },
    {
     "name": "stderr",
     "output_type": "stream",
     "text": [
      "                                                 \r"
     ]
    },
    {
     "data": {
      "application/vnd.jupyter.widget-view+json": {
       "model_id": "c1fdafafef4e42e591feb00b44e01276",
       "version_major": 2,
       "version_minor": 0
      },
      "text/plain": [
       "  0%|          | 0/1 [00:00<?, ?it/s]"
      ]
     },
     "metadata": {},
     "output_type": "display_data"
    },
    {
     "name": "stderr",
     "output_type": "stream",
     "text": [
      "                                                 \r"
     ]
    },
    {
     "data": {
      "application/vnd.jupyter.widget-view+json": {
       "model_id": "bbfca421c85549a99de8910749bdd3b3",
       "version_major": 2,
       "version_minor": 0
      },
      "text/plain": [
       "  0%|          | 0/1 [00:00<?, ?it/s]"
      ]
     },
     "metadata": {},
     "output_type": "display_data"
    },
    {
     "name": "stderr",
     "output_type": "stream",
     "text": [
      "                                                 \r"
     ]
    },
    {
     "data": {
      "application/vnd.jupyter.widget-view+json": {
       "model_id": "78950e72282443d7bc30644291be0e60",
       "version_major": 2,
       "version_minor": 0
      },
      "text/plain": [
       "  0%|          | 0/1 [00:00<?, ?it/s]"
      ]
     },
     "metadata": {},
     "output_type": "display_data"
    },
    {
     "name": "stderr",
     "output_type": "stream",
     "text": [
      "                                                 \r"
     ]
    },
    {
     "data": {
      "application/vnd.jupyter.widget-view+json": {
       "model_id": "ecb76db02d9c4eeb88c4dc0b808de06b",
       "version_major": 2,
       "version_minor": 0
      },
      "text/plain": [
       "  0%|          | 0/1 [00:00<?, ?it/s]"
      ]
     },
     "metadata": {},
     "output_type": "display_data"
    },
    {
     "name": "stderr",
     "output_type": "stream",
     "text": [
      "                                                 \r"
     ]
    },
    {
     "data": {
      "application/vnd.jupyter.widget-view+json": {
       "model_id": "ec81573616804320b2e198b93326b00c",
       "version_major": 2,
       "version_minor": 0
      },
      "text/plain": [
       "  0%|          | 0/1 [00:00<?, ?it/s]"
      ]
     },
     "metadata": {},
     "output_type": "display_data"
    },
    {
     "name": "stderr",
     "output_type": "stream",
     "text": [
      "                                                 \r"
     ]
    },
    {
     "data": {
      "application/vnd.jupyter.widget-view+json": {
       "model_id": "2ea04d916593425aac481507e124d46c",
       "version_major": 2,
       "version_minor": 0
      },
      "text/plain": [
       "  0%|          | 0/1 [00:00<?, ?it/s]"
      ]
     },
     "metadata": {},
     "output_type": "display_data"
    },
    {
     "name": "stderr",
     "output_type": "stream",
     "text": [
      "                                                 \r"
     ]
    },
    {
     "data": {
      "application/vnd.jupyter.widget-view+json": {
       "model_id": "4df31b897f694aa3bb6e65928a66585c",
       "version_major": 2,
       "version_minor": 0
      },
      "text/plain": [
       "  0%|          | 0/1 [00:00<?, ?it/s]"
      ]
     },
     "metadata": {},
     "output_type": "display_data"
    },
    {
     "name": "stderr",
     "output_type": "stream",
     "text": [
      "                                                 \r"
     ]
    },
    {
     "data": {
      "application/vnd.jupyter.widget-view+json": {
       "model_id": "95f3c5b656ac4b3d85cf587ecd1e1c36",
       "version_major": 2,
       "version_minor": 0
      },
      "text/plain": [
       "  0%|          | 0/1 [00:00<?, ?it/s]"
      ]
     },
     "metadata": {},
     "output_type": "display_data"
    },
    {
     "name": "stderr",
     "output_type": "stream",
     "text": [
      "                                                 \r"
     ]
    },
    {
     "data": {
      "application/vnd.jupyter.widget-view+json": {
       "model_id": "4ee1b8ed8d22498ab3a2793be88b7c8a",
       "version_major": 2,
       "version_minor": 0
      },
      "text/plain": [
       "  0%|          | 0/1 [00:00<?, ?it/s]"
      ]
     },
     "metadata": {},
     "output_type": "display_data"
    },
    {
     "name": "stderr",
     "output_type": "stream",
     "text": [
      "                                                 \r"
     ]
    },
    {
     "data": {
      "application/vnd.jupyter.widget-view+json": {
       "model_id": "56e1c1a0de384d0bb8ebe38734e36589",
       "version_major": 2,
       "version_minor": 0
      },
      "text/plain": [
       "  0%|          | 0/1 [00:00<?, ?it/s]"
      ]
     },
     "metadata": {},
     "output_type": "display_data"
    },
    {
     "name": "stderr",
     "output_type": "stream",
     "text": [
      "                                                 \r"
     ]
    },
    {
     "data": {
      "application/vnd.jupyter.widget-view+json": {
       "model_id": "e25abf183ced4dbc88138070b4b7bb13",
       "version_major": 2,
       "version_minor": 0
      },
      "text/plain": [
       "  0%|          | 0/1 [00:00<?, ?it/s]"
      ]
     },
     "metadata": {},
     "output_type": "display_data"
    },
    {
     "name": "stderr",
     "output_type": "stream",
     "text": [
      "                                                 \r"
     ]
    },
    {
     "data": {
      "application/vnd.jupyter.widget-view+json": {
       "model_id": "78d999da22f14ad7b283888851a5618f",
       "version_major": 2,
       "version_minor": 0
      },
      "text/plain": [
       "  0%|          | 0/1 [00:00<?, ?it/s]"
      ]
     },
     "metadata": {},
     "output_type": "display_data"
    },
    {
     "name": "stderr",
     "output_type": "stream",
     "text": [
      "                                                 \r"
     ]
    },
    {
     "data": {
      "application/vnd.jupyter.widget-view+json": {
       "model_id": "52636d0f969744059043bcbc17613663",
       "version_major": 2,
       "version_minor": 0
      },
      "text/plain": [
       "  0%|          | 0/1 [00:00<?, ?it/s]"
      ]
     },
     "metadata": {},
     "output_type": "display_data"
    },
    {
     "name": "stderr",
     "output_type": "stream",
     "text": [
      "                                                 \r"
     ]
    },
    {
     "data": {
      "application/vnd.jupyter.widget-view+json": {
       "model_id": "153cf1c4514141009941746222e053a4",
       "version_major": 2,
       "version_minor": 0
      },
      "text/plain": [
       "  0%|          | 0/1 [00:00<?, ?it/s]"
      ]
     },
     "metadata": {},
     "output_type": "display_data"
    },
    {
     "name": "stderr",
     "output_type": "stream",
     "text": [
      "                                                 \r"
     ]
    },
    {
     "data": {
      "application/vnd.jupyter.widget-view+json": {
       "model_id": "5b196e53df824458a764d82fedb5d147",
       "version_major": 2,
       "version_minor": 0
      },
      "text/plain": [
       "  0%|          | 0/1 [00:00<?, ?it/s]"
      ]
     },
     "metadata": {},
     "output_type": "display_data"
    },
    {
     "name": "stderr",
     "output_type": "stream",
     "text": [
      "                                                 \r"
     ]
    },
    {
     "data": {
      "application/vnd.jupyter.widget-view+json": {
       "model_id": "89ddaa211b79403e9710b99a194e9adf",
       "version_major": 2,
       "version_minor": 0
      },
      "text/plain": [
       "  0%|          | 0/1 [00:00<?, ?it/s]"
      ]
     },
     "metadata": {},
     "output_type": "display_data"
    },
    {
     "name": "stderr",
     "output_type": "stream",
     "text": [
      "                                                 \r"
     ]
    },
    {
     "data": {
      "application/vnd.jupyter.widget-view+json": {
       "model_id": "598f3abdefac49348fcfa70eeb707c06",
       "version_major": 2,
       "version_minor": 0
      },
      "text/plain": [
       "  0%|          | 0/1 [00:00<?, ?it/s]"
      ]
     },
     "metadata": {},
     "output_type": "display_data"
    },
    {
     "name": "stderr",
     "output_type": "stream",
     "text": [
      "                                                 \r"
     ]
    },
    {
     "data": {
      "application/vnd.jupyter.widget-view+json": {
       "model_id": "cb319c9141864c43b28c0b8d93d1232e",
       "version_major": 2,
       "version_minor": 0
      },
      "text/plain": [
       "  0%|          | 0/1 [00:00<?, ?it/s]"
      ]
     },
     "metadata": {},
     "output_type": "display_data"
    },
    {
     "name": "stderr",
     "output_type": "stream",
     "text": [
      "                                                 \r"
     ]
    },
    {
     "data": {
      "application/vnd.jupyter.widget-view+json": {
       "model_id": "c498110b84b540018564c24bfe6db142",
       "version_major": 2,
       "version_minor": 0
      },
      "text/plain": [
       "  0%|          | 0/1 [00:00<?, ?it/s]"
      ]
     },
     "metadata": {},
     "output_type": "display_data"
    },
    {
     "name": "stderr",
     "output_type": "stream",
     "text": [
      "                                                 \r"
     ]
    },
    {
     "data": {
      "application/vnd.jupyter.widget-view+json": {
       "model_id": "17b44f9ad0584191b37885eeff1b682e",
       "version_major": 2,
       "version_minor": 0
      },
      "text/plain": [
       "  0%|          | 0/1 [00:00<?, ?it/s]"
      ]
     },
     "metadata": {},
     "output_type": "display_data"
    },
    {
     "name": "stderr",
     "output_type": "stream",
     "text": [
      "                                                 \r"
     ]
    },
    {
     "data": {
      "application/vnd.jupyter.widget-view+json": {
       "model_id": "93ac57dc27df4be0acdab20d88874e90",
       "version_major": 2,
       "version_minor": 0
      },
      "text/plain": [
       "  0%|          | 0/1 [00:00<?, ?it/s]"
      ]
     },
     "metadata": {},
     "output_type": "display_data"
    },
    {
     "name": "stderr",
     "output_type": "stream",
     "text": [
      "                                                 \r"
     ]
    },
    {
     "data": {
      "application/vnd.jupyter.widget-view+json": {
       "model_id": "3e7c097fb2a440219175c4121c8a1208",
       "version_major": 2,
       "version_minor": 0
      },
      "text/plain": [
       "  0%|          | 0/1 [00:00<?, ?it/s]"
      ]
     },
     "metadata": {},
     "output_type": "display_data"
    },
    {
     "name": "stderr",
     "output_type": "stream",
     "text": [
      "                                                 \r"
     ]
    },
    {
     "data": {
      "application/vnd.jupyter.widget-view+json": {
       "model_id": "285d77d76fe24154ab073af53bb94d4e",
       "version_major": 2,
       "version_minor": 0
      },
      "text/plain": [
       "  0%|          | 0/1 [00:00<?, ?it/s]"
      ]
     },
     "metadata": {},
     "output_type": "display_data"
    },
    {
     "name": "stderr",
     "output_type": "stream",
     "text": [
      "                                                 \r"
     ]
    },
    {
     "data": {
      "application/vnd.jupyter.widget-view+json": {
       "model_id": "90c27a824cab4fbeb7c7fa5240ec17d9",
       "version_major": 2,
       "version_minor": 0
      },
      "text/plain": [
       "  0%|          | 0/1 [00:00<?, ?it/s]"
      ]
     },
     "metadata": {},
     "output_type": "display_data"
    },
    {
     "name": "stderr",
     "output_type": "stream",
     "text": [
      "                                                 \r"
     ]
    },
    {
     "data": {
      "application/vnd.jupyter.widget-view+json": {
       "model_id": "b6b0e2ad16d04c27acedbf964f8b8fab",
       "version_major": 2,
       "version_minor": 0
      },
      "text/plain": [
       "  0%|          | 0/1 [00:00<?, ?it/s]"
      ]
     },
     "metadata": {},
     "output_type": "display_data"
    },
    {
     "name": "stderr",
     "output_type": "stream",
     "text": [
      "                                                 \r"
     ]
    },
    {
     "data": {
      "application/vnd.jupyter.widget-view+json": {
       "model_id": "69042470720545979fcdf5d9553b44a4",
       "version_major": 2,
       "version_minor": 0
      },
      "text/plain": [
       "  0%|          | 0/1 [00:00<?, ?it/s]"
      ]
     },
     "metadata": {},
     "output_type": "display_data"
    },
    {
     "name": "stderr",
     "output_type": "stream",
     "text": [
      "                                                 \r"
     ]
    },
    {
     "data": {
      "application/vnd.jupyter.widget-view+json": {
       "model_id": "35a13a4f9cb64876aa95bd0acb4f2261",
       "version_major": 2,
       "version_minor": 0
      },
      "text/plain": [
       "  0%|          | 0/1 [00:00<?, ?it/s]"
      ]
     },
     "metadata": {},
     "output_type": "display_data"
    },
    {
     "name": "stderr",
     "output_type": "stream",
     "text": [
      "                                                 \r"
     ]
    },
    {
     "data": {
      "application/vnd.jupyter.widget-view+json": {
       "model_id": "8a2fb68f45a64baca94b04746a987585",
       "version_major": 2,
       "version_minor": 0
      },
      "text/plain": [
       "  0%|          | 0/1 [00:00<?, ?it/s]"
      ]
     },
     "metadata": {},
     "output_type": "display_data"
    },
    {
     "name": "stderr",
     "output_type": "stream",
     "text": [
      "                                                 \r"
     ]
    },
    {
     "data": {
      "application/vnd.jupyter.widget-view+json": {
       "model_id": "fdd00af8ac0249f6a0fed2212e2aa31b",
       "version_major": 2,
       "version_minor": 0
      },
      "text/plain": [
       "  0%|          | 0/1 [00:00<?, ?it/s]"
      ]
     },
     "metadata": {},
     "output_type": "display_data"
    },
    {
     "name": "stderr",
     "output_type": "stream",
     "text": [
      "                                                 \r"
     ]
    },
    {
     "data": {
      "application/vnd.jupyter.widget-view+json": {
       "model_id": "eb687d288732454487e14c76e342d644",
       "version_major": 2,
       "version_minor": 0
      },
      "text/plain": [
       "  0%|          | 0/1 [00:00<?, ?it/s]"
      ]
     },
     "metadata": {},
     "output_type": "display_data"
    },
    {
     "name": "stderr",
     "output_type": "stream",
     "text": [
      "                                                 \r"
     ]
    },
    {
     "data": {
      "application/vnd.jupyter.widget-view+json": {
       "model_id": "ff9a7800f3374265af0f6657b9082488",
       "version_major": 2,
       "version_minor": 0
      },
      "text/plain": [
       "  0%|          | 0/1 [00:00<?, ?it/s]"
      ]
     },
     "metadata": {},
     "output_type": "display_data"
    },
    {
     "name": "stderr",
     "output_type": "stream",
     "text": [
      "                                                 \r"
     ]
    },
    {
     "data": {
      "application/vnd.jupyter.widget-view+json": {
       "model_id": "da18e89076a344b7a943b0486735e9e5",
       "version_major": 2,
       "version_minor": 0
      },
      "text/plain": [
       "  0%|          | 0/1 [00:00<?, ?it/s]"
      ]
     },
     "metadata": {},
     "output_type": "display_data"
    },
    {
     "name": "stderr",
     "output_type": "stream",
     "text": [
      "                                                 \r"
     ]
    },
    {
     "data": {
      "application/vnd.jupyter.widget-view+json": {
       "model_id": "7604de09387d43798f846297e17f7c32",
       "version_major": 2,
       "version_minor": 0
      },
      "text/plain": [
       "  0%|          | 0/1 [00:00<?, ?it/s]"
      ]
     },
     "metadata": {},
     "output_type": "display_data"
    },
    {
     "name": "stderr",
     "output_type": "stream",
     "text": [
      "                                                 \r"
     ]
    },
    {
     "data": {
      "application/vnd.jupyter.widget-view+json": {
       "model_id": "7a123ed853aa4f5e89858623a5d0f8b5",
       "version_major": 2,
       "version_minor": 0
      },
      "text/plain": [
       "  0%|          | 0/1 [00:00<?, ?it/s]"
      ]
     },
     "metadata": {},
     "output_type": "display_data"
    },
    {
     "name": "stderr",
     "output_type": "stream",
     "text": [
      "                                                 \r"
     ]
    },
    {
     "data": {
      "application/vnd.jupyter.widget-view+json": {
       "model_id": "22facae92f4d406d902ef2b697922dfe",
       "version_major": 2,
       "version_minor": 0
      },
      "text/plain": [
       "  0%|          | 0/1 [00:00<?, ?it/s]"
      ]
     },
     "metadata": {},
     "output_type": "display_data"
    },
    {
     "name": "stderr",
     "output_type": "stream",
     "text": [
      "                                                 \r"
     ]
    },
    {
     "data": {
      "application/vnd.jupyter.widget-view+json": {
       "model_id": "2c27daf2b33f47cb89c4699dc6bbb5fb",
       "version_major": 2,
       "version_minor": 0
      },
      "text/plain": [
       "  0%|          | 0/1 [00:00<?, ?it/s]"
      ]
     },
     "metadata": {},
     "output_type": "display_data"
    },
    {
     "name": "stderr",
     "output_type": "stream",
     "text": [
      "                                                 \r"
     ]
    },
    {
     "data": {
      "application/vnd.jupyter.widget-view+json": {
       "model_id": "6faa2cdf85a64ecdbed212648337f91d",
       "version_major": 2,
       "version_minor": 0
      },
      "text/plain": [
       "  0%|          | 0/1 [00:00<?, ?it/s]"
      ]
     },
     "metadata": {},
     "output_type": "display_data"
    },
    {
     "name": "stderr",
     "output_type": "stream",
     "text": [
      "                                                 \r"
     ]
    },
    {
     "data": {
      "application/vnd.jupyter.widget-view+json": {
       "model_id": "2b9137ac8d6148e0b599c07284c7c70f",
       "version_major": 2,
       "version_minor": 0
      },
      "text/plain": [
       "  0%|          | 0/1 [00:00<?, ?it/s]"
      ]
     },
     "metadata": {},
     "output_type": "display_data"
    },
    {
     "name": "stderr",
     "output_type": "stream",
     "text": [
      "                                                 \r"
     ]
    },
    {
     "data": {
      "application/vnd.jupyter.widget-view+json": {
       "model_id": "0ab0a9d484f440f0b466716a99e2539b",
       "version_major": 2,
       "version_minor": 0
      },
      "text/plain": [
       "  0%|          | 0/1 [00:00<?, ?it/s]"
      ]
     },
     "metadata": {},
     "output_type": "display_data"
    },
    {
     "name": "stderr",
     "output_type": "stream",
     "text": [
      "                                                 \r"
     ]
    },
    {
     "data": {
      "application/vnd.jupyter.widget-view+json": {
       "model_id": "5c361ef147114354a0d229a100e964aa",
       "version_major": 2,
       "version_minor": 0
      },
      "text/plain": [
       "  0%|          | 0/1 [00:00<?, ?it/s]"
      ]
     },
     "metadata": {},
     "output_type": "display_data"
    },
    {
     "name": "stderr",
     "output_type": "stream",
     "text": [
      "                                                 \r"
     ]
    },
    {
     "data": {
      "application/vnd.jupyter.widget-view+json": {
       "model_id": "bd6d3c46d843485bbea1261a11abdeaa",
       "version_major": 2,
       "version_minor": 0
      },
      "text/plain": [
       "  0%|          | 0/1 [00:00<?, ?it/s]"
      ]
     },
     "metadata": {},
     "output_type": "display_data"
    },
    {
     "name": "stderr",
     "output_type": "stream",
     "text": [
      "                                                 \r"
     ]
    },
    {
     "data": {
      "application/vnd.jupyter.widget-view+json": {
       "model_id": "513d524240f443b1a62cee57323a4e37",
       "version_major": 2,
       "version_minor": 0
      },
      "text/plain": [
       "  0%|          | 0/1 [00:00<?, ?it/s]"
      ]
     },
     "metadata": {},
     "output_type": "display_data"
    },
    {
     "name": "stderr",
     "output_type": "stream",
     "text": [
      "                                                 \r"
     ]
    },
    {
     "data": {
      "application/vnd.jupyter.widget-view+json": {
       "model_id": "ad164c3bf18a4d84b39d8b01e496c8b9",
       "version_major": 2,
       "version_minor": 0
      },
      "text/plain": [
       "  0%|          | 0/1 [00:00<?, ?it/s]"
      ]
     },
     "metadata": {},
     "output_type": "display_data"
    },
    {
     "name": "stderr",
     "output_type": "stream",
     "text": [
      "                                                 \r"
     ]
    },
    {
     "data": {
      "application/vnd.jupyter.widget-view+json": {
       "model_id": "508224636a35434086a42da006ae03d1",
       "version_major": 2,
       "version_minor": 0
      },
      "text/plain": [
       "  0%|          | 0/1 [00:00<?, ?it/s]"
      ]
     },
     "metadata": {},
     "output_type": "display_data"
    },
    {
     "name": "stderr",
     "output_type": "stream",
     "text": [
      "                                                 \r"
     ]
    },
    {
     "data": {
      "application/vnd.jupyter.widget-view+json": {
       "model_id": "a64b08eeff96442ea2dd1f8a14f602e4",
       "version_major": 2,
       "version_minor": 0
      },
      "text/plain": [
       "  0%|          | 0/1 [00:00<?, ?it/s]"
      ]
     },
     "metadata": {},
     "output_type": "display_data"
    },
    {
     "name": "stderr",
     "output_type": "stream",
     "text": [
      "                                                 \r"
     ]
    },
    {
     "data": {
      "application/vnd.jupyter.widget-view+json": {
       "model_id": "0b1fd5fec19242b998dfbce7e928c95b",
       "version_major": 2,
       "version_minor": 0
      },
      "text/plain": [
       "  0%|          | 0/1 [00:00<?, ?it/s]"
      ]
     },
     "metadata": {},
     "output_type": "display_data"
    },
    {
     "name": "stderr",
     "output_type": "stream",
     "text": [
      "                                                 \r"
     ]
    },
    {
     "data": {
      "application/vnd.jupyter.widget-view+json": {
       "model_id": "64be0f7130054b4ab14f5d2e02283204",
       "version_major": 2,
       "version_minor": 0
      },
      "text/plain": [
       "  0%|          | 0/1 [00:00<?, ?it/s]"
      ]
     },
     "metadata": {},
     "output_type": "display_data"
    },
    {
     "name": "stderr",
     "output_type": "stream",
     "text": [
      "                                                 \r"
     ]
    },
    {
     "data": {
      "application/vnd.jupyter.widget-view+json": {
       "model_id": "67d7fee665b948969c0fdaf1ecfa3b71",
       "version_major": 2,
       "version_minor": 0
      },
      "text/plain": [
       "  0%|          | 0/1 [00:00<?, ?it/s]"
      ]
     },
     "metadata": {},
     "output_type": "display_data"
    },
    {
     "name": "stderr",
     "output_type": "stream",
     "text": [
      "                                                 \r"
     ]
    },
    {
     "data": {
      "application/vnd.jupyter.widget-view+json": {
       "model_id": "94b371034320480694cfa1a3c87824a6",
       "version_major": 2,
       "version_minor": 0
      },
      "text/plain": [
       "  0%|          | 0/1 [00:00<?, ?it/s]"
      ]
     },
     "metadata": {},
     "output_type": "display_data"
    },
    {
     "name": "stderr",
     "output_type": "stream",
     "text": [
      "                                                 \r"
     ]
    },
    {
     "data": {
      "application/vnd.jupyter.widget-view+json": {
       "model_id": "2ab13d654dda483abdc5c0e337d17a8d",
       "version_major": 2,
       "version_minor": 0
      },
      "text/plain": [
       "  0%|          | 0/1 [00:00<?, ?it/s]"
      ]
     },
     "metadata": {},
     "output_type": "display_data"
    },
    {
     "name": "stderr",
     "output_type": "stream",
     "text": [
      "                                                 \r"
     ]
    },
    {
     "data": {
      "application/vnd.jupyter.widget-view+json": {
       "model_id": "6c42e2ee86a34ef1aa201dba35dd1e9e",
       "version_major": 2,
       "version_minor": 0
      },
      "text/plain": [
       "  0%|          | 0/1 [00:00<?, ?it/s]"
      ]
     },
     "metadata": {},
     "output_type": "display_data"
    },
    {
     "name": "stderr",
     "output_type": "stream",
     "text": [
      "                                                 \r"
     ]
    },
    {
     "data": {
      "application/vnd.jupyter.widget-view+json": {
       "model_id": "64e0d138cb704251a7778013068b5fc4",
       "version_major": 2,
       "version_minor": 0
      },
      "text/plain": [
       "  0%|          | 0/1 [00:00<?, ?it/s]"
      ]
     },
     "metadata": {},
     "output_type": "display_data"
    },
    {
     "name": "stderr",
     "output_type": "stream",
     "text": [
      "                                                 \r"
     ]
    },
    {
     "data": {
      "application/vnd.jupyter.widget-view+json": {
       "model_id": "32d9e7faf2de410fa7dc0783bda4c47d",
       "version_major": 2,
       "version_minor": 0
      },
      "text/plain": [
       "  0%|          | 0/1 [00:00<?, ?it/s]"
      ]
     },
     "metadata": {},
     "output_type": "display_data"
    },
    {
     "name": "stderr",
     "output_type": "stream",
     "text": [
      "                                                 \r"
     ]
    },
    {
     "data": {
      "application/vnd.jupyter.widget-view+json": {
       "model_id": "64048247db364d84a5d06ca7dd800b5a",
       "version_major": 2,
       "version_minor": 0
      },
      "text/plain": [
       "  0%|          | 0/1 [00:00<?, ?it/s]"
      ]
     },
     "metadata": {},
     "output_type": "display_data"
    },
    {
     "name": "stderr",
     "output_type": "stream",
     "text": [
      "                                                 \r"
     ]
    },
    {
     "data": {
      "application/vnd.jupyter.widget-view+json": {
       "model_id": "c66efca76f8340df9aa3e0f3e85fee6d",
       "version_major": 2,
       "version_minor": 0
      },
      "text/plain": [
       "  0%|          | 0/1 [00:00<?, ?it/s]"
      ]
     },
     "metadata": {},
     "output_type": "display_data"
    },
    {
     "name": "stderr",
     "output_type": "stream",
     "text": [
      "                                                 \r"
     ]
    },
    {
     "data": {
      "application/vnd.jupyter.widget-view+json": {
       "model_id": "966ae4081ad146a1ad7b846d32582bef",
       "version_major": 2,
       "version_minor": 0
      },
      "text/plain": [
       "  0%|          | 0/1 [00:00<?, ?it/s]"
      ]
     },
     "metadata": {},
     "output_type": "display_data"
    },
    {
     "name": "stderr",
     "output_type": "stream",
     "text": [
      "                                                 \r"
     ]
    },
    {
     "data": {
      "application/vnd.jupyter.widget-view+json": {
       "model_id": "f1a7d8b587864870a0b11d0a17f9ffd6",
       "version_major": 2,
       "version_minor": 0
      },
      "text/plain": [
       "  0%|          | 0/1 [00:00<?, ?it/s]"
      ]
     },
     "metadata": {},
     "output_type": "display_data"
    },
    {
     "name": "stderr",
     "output_type": "stream",
     "text": [
      "                                                 \r"
     ]
    },
    {
     "data": {
      "application/vnd.jupyter.widget-view+json": {
       "model_id": "dcc08d11ff7a4f2084d6cdc63d792deb",
       "version_major": 2,
       "version_minor": 0
      },
      "text/plain": [
       "  0%|          | 0/1 [00:00<?, ?it/s]"
      ]
     },
     "metadata": {},
     "output_type": "display_data"
    },
    {
     "name": "stderr",
     "output_type": "stream",
     "text": [
      "                                                 \r"
     ]
    },
    {
     "data": {
      "application/vnd.jupyter.widget-view+json": {
       "model_id": "3f91896c2083409f8731791ab11c8ae1",
       "version_major": 2,
       "version_minor": 0
      },
      "text/plain": [
       "  0%|          | 0/1 [00:00<?, ?it/s]"
      ]
     },
     "metadata": {},
     "output_type": "display_data"
    },
    {
     "name": "stderr",
     "output_type": "stream",
     "text": [
      "                                                 \r"
     ]
    },
    {
     "data": {
      "application/vnd.jupyter.widget-view+json": {
       "model_id": "12ed1cb2fcb8450687674492bc48e347",
       "version_major": 2,
       "version_minor": 0
      },
      "text/plain": [
       "  0%|          | 0/1 [00:00<?, ?it/s]"
      ]
     },
     "metadata": {},
     "output_type": "display_data"
    },
    {
     "name": "stderr",
     "output_type": "stream",
     "text": [
      "                                                 \r"
     ]
    },
    {
     "data": {
      "application/vnd.jupyter.widget-view+json": {
       "model_id": "a11a6991c2904be490b86c524f4fa5ec",
       "version_major": 2,
       "version_minor": 0
      },
      "text/plain": [
       "  0%|          | 0/1 [00:00<?, ?it/s]"
      ]
     },
     "metadata": {},
     "output_type": "display_data"
    },
    {
     "name": "stderr",
     "output_type": "stream",
     "text": [
      "                                                 \r"
     ]
    },
    {
     "data": {
      "application/vnd.jupyter.widget-view+json": {
       "model_id": "dd628ca1261d423c94e508acb8a7e20b",
       "version_major": 2,
       "version_minor": 0
      },
      "text/plain": [
       "  0%|          | 0/1 [00:00<?, ?it/s]"
      ]
     },
     "metadata": {},
     "output_type": "display_data"
    },
    {
     "name": "stderr",
     "output_type": "stream",
     "text": [
      "                                                 \r"
     ]
    },
    {
     "data": {
      "application/vnd.jupyter.widget-view+json": {
       "model_id": "8aa441f55eb648ee9ae6f4341607c761",
       "version_major": 2,
       "version_minor": 0
      },
      "text/plain": [
       "  0%|          | 0/1 [00:00<?, ?it/s]"
      ]
     },
     "metadata": {},
     "output_type": "display_data"
    },
    {
     "name": "stderr",
     "output_type": "stream",
     "text": [
      "                                                 \r"
     ]
    },
    {
     "data": {
      "application/vnd.jupyter.widget-view+json": {
       "model_id": "fcc0bed5087047fbb4fdaa574644853f",
       "version_major": 2,
       "version_minor": 0
      },
      "text/plain": [
       "  0%|          | 0/1 [00:00<?, ?it/s]"
      ]
     },
     "metadata": {},
     "output_type": "display_data"
    },
    {
     "name": "stderr",
     "output_type": "stream",
     "text": [
      "                                                 \r"
     ]
    },
    {
     "data": {
      "application/vnd.jupyter.widget-view+json": {
       "model_id": "8c86e627fbb94f988980e6dfcbcb3c09",
       "version_major": 2,
       "version_minor": 0
      },
      "text/plain": [
       "  0%|          | 0/1 [00:00<?, ?it/s]"
      ]
     },
     "metadata": {},
     "output_type": "display_data"
    },
    {
     "name": "stderr",
     "output_type": "stream",
     "text": [
      "                                                 \r"
     ]
    },
    {
     "data": {
      "application/vnd.jupyter.widget-view+json": {
       "model_id": "e3de62e0302646369b89e13315e252a0",
       "version_major": 2,
       "version_minor": 0
      },
      "text/plain": [
       "  0%|          | 0/1 [00:00<?, ?it/s]"
      ]
     },
     "metadata": {},
     "output_type": "display_data"
    },
    {
     "name": "stderr",
     "output_type": "stream",
     "text": [
      "                                                 \r"
     ]
    },
    {
     "data": {
      "application/vnd.jupyter.widget-view+json": {
       "model_id": "257c91dc7d52443bb4e810e888cb2655",
       "version_major": 2,
       "version_minor": 0
      },
      "text/plain": [
       "  0%|          | 0/1 [00:00<?, ?it/s]"
      ]
     },
     "metadata": {},
     "output_type": "display_data"
    },
    {
     "name": "stderr",
     "output_type": "stream",
     "text": [
      "                                                 \r"
     ]
    },
    {
     "data": {
      "application/vnd.jupyter.widget-view+json": {
       "model_id": "90d42d8450c84b8bad83635f63e2320e",
       "version_major": 2,
       "version_minor": 0
      },
      "text/plain": [
       "  0%|          | 0/1 [00:00<?, ?it/s]"
      ]
     },
     "metadata": {},
     "output_type": "display_data"
    },
    {
     "name": "stderr",
     "output_type": "stream",
     "text": [
      "                                                 \r"
     ]
    },
    {
     "data": {
      "application/vnd.jupyter.widget-view+json": {
       "model_id": "71af00f3bb704853b4a61ca099105664",
       "version_major": 2,
       "version_minor": 0
      },
      "text/plain": [
       "  0%|          | 0/1 [00:00<?, ?it/s]"
      ]
     },
     "metadata": {},
     "output_type": "display_data"
    },
    {
     "name": "stderr",
     "output_type": "stream",
     "text": [
      "                                                 \r"
     ]
    },
    {
     "data": {
      "application/vnd.jupyter.widget-view+json": {
       "model_id": "4fdd49c2f2924fc0b58fe5b662321438",
       "version_major": 2,
       "version_minor": 0
      },
      "text/plain": [
       "  0%|          | 0/1 [00:00<?, ?it/s]"
      ]
     },
     "metadata": {},
     "output_type": "display_data"
    },
    {
     "name": "stderr",
     "output_type": "stream",
     "text": [
      "                                                 \r"
     ]
    },
    {
     "data": {
      "application/vnd.jupyter.widget-view+json": {
       "model_id": "0a71e6c253bf41199cd42dccabf8423b",
       "version_major": 2,
       "version_minor": 0
      },
      "text/plain": [
       "  0%|          | 0/1 [00:00<?, ?it/s]"
      ]
     },
     "metadata": {},
     "output_type": "display_data"
    },
    {
     "name": "stderr",
     "output_type": "stream",
     "text": [
      "                                                 \r"
     ]
    },
    {
     "data": {
      "application/vnd.jupyter.widget-view+json": {
       "model_id": "07337cade6254e1680bb08f45d6bad3b",
       "version_major": 2,
       "version_minor": 0
      },
      "text/plain": [
       "  0%|          | 0/1 [00:00<?, ?it/s]"
      ]
     },
     "metadata": {},
     "output_type": "display_data"
    },
    {
     "name": "stderr",
     "output_type": "stream",
     "text": [
      "                                                 \r"
     ]
    },
    {
     "data": {
      "application/vnd.jupyter.widget-view+json": {
       "model_id": "5461bb97139f4239831ff7e0e824092d",
       "version_major": 2,
       "version_minor": 0
      },
      "text/plain": [
       "  0%|          | 0/1 [00:00<?, ?it/s]"
      ]
     },
     "metadata": {},
     "output_type": "display_data"
    },
    {
     "name": "stderr",
     "output_type": "stream",
     "text": [
      "                                                 \r"
     ]
    },
    {
     "data": {
      "application/vnd.jupyter.widget-view+json": {
       "model_id": "af081b3e62854069a090255b8f8cf646",
       "version_major": 2,
       "version_minor": 0
      },
      "text/plain": [
       "  0%|          | 0/1 [00:00<?, ?it/s]"
      ]
     },
     "metadata": {},
     "output_type": "display_data"
    },
    {
     "name": "stderr",
     "output_type": "stream",
     "text": [
      "                                                 \r"
     ]
    },
    {
     "data": {
      "application/vnd.jupyter.widget-view+json": {
       "model_id": "929f57c4d9cc41c08b99607dfcc269d1",
       "version_major": 2,
       "version_minor": 0
      },
      "text/plain": [
       "  0%|          | 0/1 [00:00<?, ?it/s]"
      ]
     },
     "metadata": {},
     "output_type": "display_data"
    },
    {
     "name": "stderr",
     "output_type": "stream",
     "text": [
      "                                                 \r"
     ]
    },
    {
     "data": {
      "application/vnd.jupyter.widget-view+json": {
       "model_id": "d9823041114f4370909b67a1d9038cbe",
       "version_major": 2,
       "version_minor": 0
      },
      "text/plain": [
       "  0%|          | 0/1 [00:00<?, ?it/s]"
      ]
     },
     "metadata": {},
     "output_type": "display_data"
    },
    {
     "name": "stderr",
     "output_type": "stream",
     "text": [
      "                                                 \r"
     ]
    },
    {
     "data": {
      "application/vnd.jupyter.widget-view+json": {
       "model_id": "b30abc954ae945b1bbe81fd1324c2d15",
       "version_major": 2,
       "version_minor": 0
      },
      "text/plain": [
       "  0%|          | 0/1 [00:00<?, ?it/s]"
      ]
     },
     "metadata": {},
     "output_type": "display_data"
    },
    {
     "name": "stderr",
     "output_type": "stream",
     "text": [
      "                                                 \r"
     ]
    },
    {
     "data": {
      "application/vnd.jupyter.widget-view+json": {
       "model_id": "67b6285c678b408fad347e98ad5ed2a1",
       "version_major": 2,
       "version_minor": 0
      },
      "text/plain": [
       "  0%|          | 0/1 [00:00<?, ?it/s]"
      ]
     },
     "metadata": {},
     "output_type": "display_data"
    },
    {
     "name": "stderr",
     "output_type": "stream",
     "text": [
      "                                                 \r"
     ]
    },
    {
     "data": {
      "application/vnd.jupyter.widget-view+json": {
       "model_id": "5610708efe924c7c87401b95070bf424",
       "version_major": 2,
       "version_minor": 0
      },
      "text/plain": [
       "  0%|          | 0/1 [00:00<?, ?it/s]"
      ]
     },
     "metadata": {},
     "output_type": "display_data"
    },
    {
     "name": "stderr",
     "output_type": "stream",
     "text": [
      "                                                 \r"
     ]
    },
    {
     "data": {
      "application/vnd.jupyter.widget-view+json": {
       "model_id": "3b5b30a8d4794b1db8cb9f222ccf0e80",
       "version_major": 2,
       "version_minor": 0
      },
      "text/plain": [
       "  0%|          | 0/1 [00:00<?, ?it/s]"
      ]
     },
     "metadata": {},
     "output_type": "display_data"
    },
    {
     "name": "stderr",
     "output_type": "stream",
     "text": [
      "                                                 \r"
     ]
    },
    {
     "data": {
      "application/vnd.jupyter.widget-view+json": {
       "model_id": "21195e524532436dabc1a9c5690a6ea2",
       "version_major": 2,
       "version_minor": 0
      },
      "text/plain": [
       "  0%|          | 0/1 [00:00<?, ?it/s]"
      ]
     },
     "metadata": {},
     "output_type": "display_data"
    },
    {
     "name": "stderr",
     "output_type": "stream",
     "text": [
      "                                                 \r"
     ]
    },
    {
     "data": {
      "application/vnd.jupyter.widget-view+json": {
       "model_id": "cb8089eff58c4dcfa1fc03b4c9a4c31d",
       "version_major": 2,
       "version_minor": 0
      },
      "text/plain": [
       "  0%|          | 0/1 [00:00<?, ?it/s]"
      ]
     },
     "metadata": {},
     "output_type": "display_data"
    },
    {
     "name": "stderr",
     "output_type": "stream",
     "text": [
      "                                                 \r"
     ]
    },
    {
     "data": {
      "application/vnd.jupyter.widget-view+json": {
       "model_id": "ce55b1b3888a42a7adf77fe9945de71d",
       "version_major": 2,
       "version_minor": 0
      },
      "text/plain": [
       "  0%|          | 0/1 [00:00<?, ?it/s]"
      ]
     },
     "metadata": {},
     "output_type": "display_data"
    },
    {
     "name": "stderr",
     "output_type": "stream",
     "text": [
      "                                                 \r"
     ]
    },
    {
     "data": {
      "application/vnd.jupyter.widget-view+json": {
       "model_id": "4514f8ad355d4d0ca32a46e95b643468",
       "version_major": 2,
       "version_minor": 0
      },
      "text/plain": [
       "  0%|          | 0/1 [00:00<?, ?it/s]"
      ]
     },
     "metadata": {},
     "output_type": "display_data"
    },
    {
     "name": "stderr",
     "output_type": "stream",
     "text": [
      "                                                 \r"
     ]
    },
    {
     "data": {
      "application/vnd.jupyter.widget-view+json": {
       "model_id": "8c056c670797431796c4fb8fe1cded3c",
       "version_major": 2,
       "version_minor": 0
      },
      "text/plain": [
       "  0%|          | 0/1 [00:00<?, ?it/s]"
      ]
     },
     "metadata": {},
     "output_type": "display_data"
    },
    {
     "name": "stderr",
     "output_type": "stream",
     "text": [
      "                                                 \r"
     ]
    },
    {
     "data": {
      "application/vnd.jupyter.widget-view+json": {
       "model_id": "b1e2b89f154e4724bc4309561beadc72",
       "version_major": 2,
       "version_minor": 0
      },
      "text/plain": [
       "  0%|          | 0/1 [00:00<?, ?it/s]"
      ]
     },
     "metadata": {},
     "output_type": "display_data"
    },
    {
     "name": "stderr",
     "output_type": "stream",
     "text": [
      "                                                 \r"
     ]
    },
    {
     "data": {
      "application/vnd.jupyter.widget-view+json": {
       "model_id": "3c4eb98aae7d415a9771435aa3c76e77",
       "version_major": 2,
       "version_minor": 0
      },
      "text/plain": [
       "  0%|          | 0/1 [00:00<?, ?it/s]"
      ]
     },
     "metadata": {},
     "output_type": "display_data"
    },
    {
     "name": "stderr",
     "output_type": "stream",
     "text": [
      "                                                 \r"
     ]
    },
    {
     "data": {
      "application/vnd.jupyter.widget-view+json": {
       "model_id": "abd8d570d4fa4308a88a8962592ddaed",
       "version_major": 2,
       "version_minor": 0
      },
      "text/plain": [
       "  0%|          | 0/1 [00:00<?, ?it/s]"
      ]
     },
     "metadata": {},
     "output_type": "display_data"
    },
    {
     "name": "stderr",
     "output_type": "stream",
     "text": [
      "                                                 \r"
     ]
    },
    {
     "data": {
      "application/vnd.jupyter.widget-view+json": {
       "model_id": "aa34ece6a7b54a4a9a9bef3d57220e5d",
       "version_major": 2,
       "version_minor": 0
      },
      "text/plain": [
       "  0%|          | 0/1 [00:00<?, ?it/s]"
      ]
     },
     "metadata": {},
     "output_type": "display_data"
    },
    {
     "name": "stderr",
     "output_type": "stream",
     "text": [
      "                                                 \r"
     ]
    },
    {
     "data": {
      "application/vnd.jupyter.widget-view+json": {
       "model_id": "e23397e5ef7c4599a3f81c7cb689e19b",
       "version_major": 2,
       "version_minor": 0
      },
      "text/plain": [
       "  0%|          | 0/1 [00:00<?, ?it/s]"
      ]
     },
     "metadata": {},
     "output_type": "display_data"
    },
    {
     "name": "stderr",
     "output_type": "stream",
     "text": [
      "                                                 \r"
     ]
    },
    {
     "data": {
      "application/vnd.jupyter.widget-view+json": {
       "model_id": "66e5ec8e36f84fd09c349e41f855f5f4",
       "version_major": 2,
       "version_minor": 0
      },
      "text/plain": [
       "  0%|          | 0/1 [00:00<?, ?it/s]"
      ]
     },
     "metadata": {},
     "output_type": "display_data"
    },
    {
     "name": "stderr",
     "output_type": "stream",
     "text": [
      "                                                 \r"
     ]
    },
    {
     "data": {
      "application/vnd.jupyter.widget-view+json": {
       "model_id": "7f155ddcd7a148aab514bec12b17e05e",
       "version_major": 2,
       "version_minor": 0
      },
      "text/plain": [
       "  0%|          | 0/1 [00:00<?, ?it/s]"
      ]
     },
     "metadata": {},
     "output_type": "display_data"
    },
    {
     "name": "stderr",
     "output_type": "stream",
     "text": [
      "                                                 \r"
     ]
    },
    {
     "data": {
      "application/vnd.jupyter.widget-view+json": {
       "model_id": "458c6b5e29f94c70bec710e5619b72d0",
       "version_major": 2,
       "version_minor": 0
      },
      "text/plain": [
       "  0%|          | 0/1 [00:00<?, ?it/s]"
      ]
     },
     "metadata": {},
     "output_type": "display_data"
    },
    {
     "name": "stderr",
     "output_type": "stream",
     "text": [
      "                                                 \r"
     ]
    },
    {
     "data": {
      "application/vnd.jupyter.widget-view+json": {
       "model_id": "2c0a14b2e37d4ecc83c804cb26205011",
       "version_major": 2,
       "version_minor": 0
      },
      "text/plain": [
       "  0%|          | 0/1 [00:00<?, ?it/s]"
      ]
     },
     "metadata": {},
     "output_type": "display_data"
    },
    {
     "name": "stderr",
     "output_type": "stream",
     "text": [
      "                                                 \r"
     ]
    },
    {
     "data": {
      "application/vnd.jupyter.widget-view+json": {
       "model_id": "e68a90da657d49e7bdd8ebf41c0fb2f5",
       "version_major": 2,
       "version_minor": 0
      },
      "text/plain": [
       "  0%|          | 0/1 [00:00<?, ?it/s]"
      ]
     },
     "metadata": {},
     "output_type": "display_data"
    },
    {
     "name": "stderr",
     "output_type": "stream",
     "text": [
      "                                                 \r"
     ]
    },
    {
     "data": {
      "application/vnd.jupyter.widget-view+json": {
       "model_id": "0db303641f104593958433ed2a7948d7",
       "version_major": 2,
       "version_minor": 0
      },
      "text/plain": [
       "  0%|          | 0/1 [00:00<?, ?it/s]"
      ]
     },
     "metadata": {},
     "output_type": "display_data"
    },
    {
     "name": "stderr",
     "output_type": "stream",
     "text": [
      "                                                 \r"
     ]
    },
    {
     "data": {
      "application/vnd.jupyter.widget-view+json": {
       "model_id": "82c1c515108d4a3b8540fc11a1ca1c56",
       "version_major": 2,
       "version_minor": 0
      },
      "text/plain": [
       "  0%|          | 0/1 [00:00<?, ?it/s]"
      ]
     },
     "metadata": {},
     "output_type": "display_data"
    },
    {
     "name": "stderr",
     "output_type": "stream",
     "text": [
      "                                                 \r"
     ]
    },
    {
     "data": {
      "application/vnd.jupyter.widget-view+json": {
       "model_id": "e3fe2a5d799a4bada0c023b8fe31ecac",
       "version_major": 2,
       "version_minor": 0
      },
      "text/plain": [
       "  0%|          | 0/1 [00:00<?, ?it/s]"
      ]
     },
     "metadata": {},
     "output_type": "display_data"
    },
    {
     "name": "stderr",
     "output_type": "stream",
     "text": [
      "                                                 \r"
     ]
    },
    {
     "data": {
      "application/vnd.jupyter.widget-view+json": {
       "model_id": "36af5b2943394af484a117fd0364d6c8",
       "version_major": 2,
       "version_minor": 0
      },
      "text/plain": [
       "  0%|          | 0/1 [00:00<?, ?it/s]"
      ]
     },
     "metadata": {},
     "output_type": "display_data"
    },
    {
     "name": "stderr",
     "output_type": "stream",
     "text": [
      "                                                 \r"
     ]
    },
    {
     "data": {
      "application/vnd.jupyter.widget-view+json": {
       "model_id": "e577ac559ae1454495592ac1a88cf639",
       "version_major": 2,
       "version_minor": 0
      },
      "text/plain": [
       "  0%|          | 0/1 [00:00<?, ?it/s]"
      ]
     },
     "metadata": {},
     "output_type": "display_data"
    },
    {
     "name": "stderr",
     "output_type": "stream",
     "text": [
      "                                                 \r"
     ]
    },
    {
     "data": {
      "application/vnd.jupyter.widget-view+json": {
       "model_id": "0558026c32d84e4f90894fd142d57f28",
       "version_major": 2,
       "version_minor": 0
      },
      "text/plain": [
       "  0%|          | 0/1 [00:00<?, ?it/s]"
      ]
     },
     "metadata": {},
     "output_type": "display_data"
    },
    {
     "name": "stderr",
     "output_type": "stream",
     "text": [
      "                                                 \r"
     ]
    },
    {
     "data": {
      "application/vnd.jupyter.widget-view+json": {
       "model_id": "c8a0f2c98a3a4b65abfa3ddf8541ff34",
       "version_major": 2,
       "version_minor": 0
      },
      "text/plain": [
       "  0%|          | 0/1 [00:00<?, ?it/s]"
      ]
     },
     "metadata": {},
     "output_type": "display_data"
    },
    {
     "name": "stderr",
     "output_type": "stream",
     "text": [
      "                                                 \r"
     ]
    },
    {
     "data": {
      "application/vnd.jupyter.widget-view+json": {
       "model_id": "3d666969266843c5891a3c129c119160",
       "version_major": 2,
       "version_minor": 0
      },
      "text/plain": [
       "  0%|          | 0/1 [00:00<?, ?it/s]"
      ]
     },
     "metadata": {},
     "output_type": "display_data"
    },
    {
     "name": "stderr",
     "output_type": "stream",
     "text": [
      "                                                 \r"
     ]
    },
    {
     "data": {
      "application/vnd.jupyter.widget-view+json": {
       "model_id": "61f4c8d214d34192a9169a8861c4a594",
       "version_major": 2,
       "version_minor": 0
      },
      "text/plain": [
       "  0%|          | 0/1 [00:00<?, ?it/s]"
      ]
     },
     "metadata": {},
     "output_type": "display_data"
    },
    {
     "name": "stderr",
     "output_type": "stream",
     "text": [
      "                                                 \r"
     ]
    },
    {
     "data": {
      "application/vnd.jupyter.widget-view+json": {
       "model_id": "8f852891de6b49239bd66c37c1078116",
       "version_major": 2,
       "version_minor": 0
      },
      "text/plain": [
       "  0%|          | 0/1 [00:00<?, ?it/s]"
      ]
     },
     "metadata": {},
     "output_type": "display_data"
    },
    {
     "name": "stderr",
     "output_type": "stream",
     "text": [
      "                                                 \r"
     ]
    },
    {
     "data": {
      "application/vnd.jupyter.widget-view+json": {
       "model_id": "951b351f32d14ee8a9df74ddaa4a0f02",
       "version_major": 2,
       "version_minor": 0
      },
      "text/plain": [
       "  0%|          | 0/1 [00:00<?, ?it/s]"
      ]
     },
     "metadata": {},
     "output_type": "display_data"
    },
    {
     "name": "stderr",
     "output_type": "stream",
     "text": [
      "                                                 \r"
     ]
    },
    {
     "data": {
      "application/vnd.jupyter.widget-view+json": {
       "model_id": "2c088f0b3cf647a398bd0497d5151d84",
       "version_major": 2,
       "version_minor": 0
      },
      "text/plain": [
       "  0%|          | 0/1 [00:00<?, ?it/s]"
      ]
     },
     "metadata": {},
     "output_type": "display_data"
    },
    {
     "name": "stderr",
     "output_type": "stream",
     "text": [
      "                                                 \r"
     ]
    },
    {
     "data": {
      "application/vnd.jupyter.widget-view+json": {
       "model_id": "1c7cc2403d4749938bca30a9b4610a50",
       "version_major": 2,
       "version_minor": 0
      },
      "text/plain": [
       "  0%|          | 0/1 [00:00<?, ?it/s]"
      ]
     },
     "metadata": {},
     "output_type": "display_data"
    },
    {
     "name": "stderr",
     "output_type": "stream",
     "text": [
      "                                                 \r"
     ]
    },
    {
     "data": {
      "application/vnd.jupyter.widget-view+json": {
       "model_id": "a950d2ff8a9a4583950c2021715c3b40",
       "version_major": 2,
       "version_minor": 0
      },
      "text/plain": [
       "  0%|          | 0/1 [00:00<?, ?it/s]"
      ]
     },
     "metadata": {},
     "output_type": "display_data"
    },
    {
     "name": "stderr",
     "output_type": "stream",
     "text": [
      "                                                 \r"
     ]
    },
    {
     "data": {
      "application/vnd.jupyter.widget-view+json": {
       "model_id": "30e4bb2bee9a4e628a941f6782af75af",
       "version_major": 2,
       "version_minor": 0
      },
      "text/plain": [
       "  0%|          | 0/1 [00:00<?, ?it/s]"
      ]
     },
     "metadata": {},
     "output_type": "display_data"
    },
    {
     "name": "stderr",
     "output_type": "stream",
     "text": [
      "                                                 \r"
     ]
    },
    {
     "data": {
      "application/vnd.jupyter.widget-view+json": {
       "model_id": "75ccf57e6d9b449e8941669ff7272ec6",
       "version_major": 2,
       "version_minor": 0
      },
      "text/plain": [
       "  0%|          | 0/1 [00:00<?, ?it/s]"
      ]
     },
     "metadata": {},
     "output_type": "display_data"
    },
    {
     "name": "stderr",
     "output_type": "stream",
     "text": [
      "                                                 \r"
     ]
    },
    {
     "data": {
      "application/vnd.jupyter.widget-view+json": {
       "model_id": "200bb050702548f1bfc86a672b97ecf2",
       "version_major": 2,
       "version_minor": 0
      },
      "text/plain": [
       "  0%|          | 0/1 [00:00<?, ?it/s]"
      ]
     },
     "metadata": {},
     "output_type": "display_data"
    },
    {
     "name": "stderr",
     "output_type": "stream",
     "text": [
      "                                                 \r"
     ]
    },
    {
     "data": {
      "application/vnd.jupyter.widget-view+json": {
       "model_id": "d1c7ec0221ea419b8fe90eae7b8eb209",
       "version_major": 2,
       "version_minor": 0
      },
      "text/plain": [
       "  0%|          | 0/1 [00:00<?, ?it/s]"
      ]
     },
     "metadata": {},
     "output_type": "display_data"
    },
    {
     "name": "stderr",
     "output_type": "stream",
     "text": [
      "                                                 \r"
     ]
    },
    {
     "data": {
      "application/vnd.jupyter.widget-view+json": {
       "model_id": "444cc4c8b1744293bb0e5b4755e43b14",
       "version_major": 2,
       "version_minor": 0
      },
      "text/plain": [
       "  0%|          | 0/1 [00:00<?, ?it/s]"
      ]
     },
     "metadata": {},
     "output_type": "display_data"
    },
    {
     "name": "stderr",
     "output_type": "stream",
     "text": [
      "                                                 \r"
     ]
    },
    {
     "data": {
      "application/vnd.jupyter.widget-view+json": {
       "model_id": "eda0fa5bab8740729906c83aa6319735",
       "version_major": 2,
       "version_minor": 0
      },
      "text/plain": [
       "  0%|          | 0/1 [00:00<?, ?it/s]"
      ]
     },
     "metadata": {},
     "output_type": "display_data"
    },
    {
     "name": "stderr",
     "output_type": "stream",
     "text": [
      "                                                 \r"
     ]
    },
    {
     "data": {
      "application/vnd.jupyter.widget-view+json": {
       "model_id": "9957d90d7db142ceb62d02e15e13e329",
       "version_major": 2,
       "version_minor": 0
      },
      "text/plain": [
       "  0%|          | 0/1 [00:00<?, ?it/s]"
      ]
     },
     "metadata": {},
     "output_type": "display_data"
    },
    {
     "name": "stderr",
     "output_type": "stream",
     "text": [
      "                                                 \r"
     ]
    },
    {
     "data": {
      "application/vnd.jupyter.widget-view+json": {
       "model_id": "61606b121cfc4efb832dc9f464e9edfa",
       "version_major": 2,
       "version_minor": 0
      },
      "text/plain": [
       "  0%|          | 0/1 [00:00<?, ?it/s]"
      ]
     },
     "metadata": {},
     "output_type": "display_data"
    },
    {
     "name": "stderr",
     "output_type": "stream",
     "text": [
      "                                                 \r"
     ]
    },
    {
     "data": {
      "application/vnd.jupyter.widget-view+json": {
       "model_id": "8f023d60de8741d5906f837c5437ac1e",
       "version_major": 2,
       "version_minor": 0
      },
      "text/plain": [
       "  0%|          | 0/1 [00:00<?, ?it/s]"
      ]
     },
     "metadata": {},
     "output_type": "display_data"
    },
    {
     "name": "stderr",
     "output_type": "stream",
     "text": [
      "                                                 \r"
     ]
    },
    {
     "data": {
      "application/vnd.jupyter.widget-view+json": {
       "model_id": "7293b67cc2e741d4b91dfa8e0fb67dd7",
       "version_major": 2,
       "version_minor": 0
      },
      "text/plain": [
       "  0%|          | 0/1 [00:00<?, ?it/s]"
      ]
     },
     "metadata": {},
     "output_type": "display_data"
    },
    {
     "name": "stderr",
     "output_type": "stream",
     "text": [
      "                                                 \r"
     ]
    },
    {
     "data": {
      "application/vnd.jupyter.widget-view+json": {
       "model_id": "7b6726ad716040d29e4634282c603c76",
       "version_major": 2,
       "version_minor": 0
      },
      "text/plain": [
       "  0%|          | 0/1 [00:00<?, ?it/s]"
      ]
     },
     "metadata": {},
     "output_type": "display_data"
    },
    {
     "name": "stderr",
     "output_type": "stream",
     "text": [
      "                                                 \r"
     ]
    },
    {
     "data": {
      "application/vnd.jupyter.widget-view+json": {
       "model_id": "e7d51972ce3b491c8cbae836fda4987e",
       "version_major": 2,
       "version_minor": 0
      },
      "text/plain": [
       "  0%|          | 0/1 [00:00<?, ?it/s]"
      ]
     },
     "metadata": {},
     "output_type": "display_data"
    },
    {
     "name": "stderr",
     "output_type": "stream",
     "text": [
      "                                                 \r"
     ]
    },
    {
     "data": {
      "application/vnd.jupyter.widget-view+json": {
       "model_id": "e81cf12f053e4eaf9302112058a2a1b7",
       "version_major": 2,
       "version_minor": 0
      },
      "text/plain": [
       "  0%|          | 0/1 [00:00<?, ?it/s]"
      ]
     },
     "metadata": {},
     "output_type": "display_data"
    },
    {
     "name": "stderr",
     "output_type": "stream",
     "text": [
      "                                                 \r"
     ]
    },
    {
     "data": {
      "application/vnd.jupyter.widget-view+json": {
       "model_id": "f8ce6d9393864096a85a21be50321411",
       "version_major": 2,
       "version_minor": 0
      },
      "text/plain": [
       "  0%|          | 0/1 [00:00<?, ?it/s]"
      ]
     },
     "metadata": {},
     "output_type": "display_data"
    },
    {
     "name": "stderr",
     "output_type": "stream",
     "text": [
      "                                                 \r"
     ]
    },
    {
     "data": {
      "application/vnd.jupyter.widget-view+json": {
       "model_id": "107f527eadff4f33a3506f316eef49dc",
       "version_major": 2,
       "version_minor": 0
      },
      "text/plain": [
       "  0%|          | 0/1 [00:00<?, ?it/s]"
      ]
     },
     "metadata": {},
     "output_type": "display_data"
    },
    {
     "name": "stderr",
     "output_type": "stream",
     "text": [
      "                                                 \r"
     ]
    },
    {
     "data": {
      "application/vnd.jupyter.widget-view+json": {
       "model_id": "4d582754816048f89ebab76a03997016",
       "version_major": 2,
       "version_minor": 0
      },
      "text/plain": [
       "  0%|          | 0/1 [00:00<?, ?it/s]"
      ]
     },
     "metadata": {},
     "output_type": "display_data"
    },
    {
     "name": "stderr",
     "output_type": "stream",
     "text": [
      "                                                 \r"
     ]
    },
    {
     "data": {
      "application/vnd.jupyter.widget-view+json": {
       "model_id": "3a48310d76b04752a00651e43e982efa",
       "version_major": 2,
       "version_minor": 0
      },
      "text/plain": [
       "  0%|          | 0/1 [00:00<?, ?it/s]"
      ]
     },
     "metadata": {},
     "output_type": "display_data"
    },
    {
     "name": "stderr",
     "output_type": "stream",
     "text": [
      "                                                 \r"
     ]
    },
    {
     "data": {
      "application/vnd.jupyter.widget-view+json": {
       "model_id": "9750cd3dc9e94429a6ce8d1dfe643c59",
       "version_major": 2,
       "version_minor": 0
      },
      "text/plain": [
       "  0%|          | 0/1 [00:00<?, ?it/s]"
      ]
     },
     "metadata": {},
     "output_type": "display_data"
    },
    {
     "name": "stderr",
     "output_type": "stream",
     "text": [
      "                                                 \r"
     ]
    },
    {
     "data": {
      "application/vnd.jupyter.widget-view+json": {
       "model_id": "8cb77bab6d5845cdb42f57fabb953b8d",
       "version_major": 2,
       "version_minor": 0
      },
      "text/plain": [
       "  0%|          | 0/1 [00:00<?, ?it/s]"
      ]
     },
     "metadata": {},
     "output_type": "display_data"
    },
    {
     "name": "stderr",
     "output_type": "stream",
     "text": [
      "                                                 \r"
     ]
    },
    {
     "data": {
      "application/vnd.jupyter.widget-view+json": {
       "model_id": "58bc5ceac2af42e78f62884882f52797",
       "version_major": 2,
       "version_minor": 0
      },
      "text/plain": [
       "  0%|          | 0/1 [00:00<?, ?it/s]"
      ]
     },
     "metadata": {},
     "output_type": "display_data"
    },
    {
     "name": "stderr",
     "output_type": "stream",
     "text": [
      "                                                 \r"
     ]
    },
    {
     "data": {
      "application/vnd.jupyter.widget-view+json": {
       "model_id": "c2fefcb642404675a8dac24a5607059b",
       "version_major": 2,
       "version_minor": 0
      },
      "text/plain": [
       "  0%|          | 0/1 [00:00<?, ?it/s]"
      ]
     },
     "metadata": {},
     "output_type": "display_data"
    },
    {
     "name": "stderr",
     "output_type": "stream",
     "text": [
      "                                                 \r"
     ]
    },
    {
     "data": {
      "application/vnd.jupyter.widget-view+json": {
       "model_id": "6d2fc5c5e518483598b1eaf646b3fd4f",
       "version_major": 2,
       "version_minor": 0
      },
      "text/plain": [
       "  0%|          | 0/1 [00:00<?, ?it/s]"
      ]
     },
     "metadata": {},
     "output_type": "display_data"
    },
    {
     "name": "stderr",
     "output_type": "stream",
     "text": [
      "                                                 \r"
     ]
    },
    {
     "data": {
      "application/vnd.jupyter.widget-view+json": {
       "model_id": "3df1d5524ade4371beb60cb5a345637f",
       "version_major": 2,
       "version_minor": 0
      },
      "text/plain": [
       "  0%|          | 0/1 [00:00<?, ?it/s]"
      ]
     },
     "metadata": {},
     "output_type": "display_data"
    },
    {
     "name": "stderr",
     "output_type": "stream",
     "text": [
      "                                                 \r"
     ]
    },
    {
     "data": {
      "application/vnd.jupyter.widget-view+json": {
       "model_id": "ea3c5dfadbb94bb6a5f6614aefe5e5c1",
       "version_major": 2,
       "version_minor": 0
      },
      "text/plain": [
       "  0%|          | 0/1 [00:00<?, ?it/s]"
      ]
     },
     "metadata": {},
     "output_type": "display_data"
    },
    {
     "name": "stderr",
     "output_type": "stream",
     "text": [
      "                                                 \r"
     ]
    },
    {
     "data": {
      "application/vnd.jupyter.widget-view+json": {
       "model_id": "04f3a86ffc6d405897bb0d4dc18c803d",
       "version_major": 2,
       "version_minor": 0
      },
      "text/plain": [
       "  0%|          | 0/1 [00:00<?, ?it/s]"
      ]
     },
     "metadata": {},
     "output_type": "display_data"
    },
    {
     "name": "stderr",
     "output_type": "stream",
     "text": [
      "                                                 \r"
     ]
    },
    {
     "data": {
      "application/vnd.jupyter.widget-view+json": {
       "model_id": "b22227e431ea4897b5970af6a4969384",
       "version_major": 2,
       "version_minor": 0
      },
      "text/plain": [
       "  0%|          | 0/1 [00:00<?, ?it/s]"
      ]
     },
     "metadata": {},
     "output_type": "display_data"
    },
    {
     "name": "stderr",
     "output_type": "stream",
     "text": [
      "                                                 \r"
     ]
    },
    {
     "data": {
      "application/vnd.jupyter.widget-view+json": {
       "model_id": "544c57ea0f364a4782630d7c55b71152",
       "version_major": 2,
       "version_minor": 0
      },
      "text/plain": [
       "  0%|          | 0/1 [00:00<?, ?it/s]"
      ]
     },
     "metadata": {},
     "output_type": "display_data"
    },
    {
     "name": "stderr",
     "output_type": "stream",
     "text": [
      "                                                 \r"
     ]
    },
    {
     "data": {
      "application/vnd.jupyter.widget-view+json": {
       "model_id": "6c575614bc6743e89a1be217d51d7c55",
       "version_major": 2,
       "version_minor": 0
      },
      "text/plain": [
       "  0%|          | 0/1 [00:00<?, ?it/s]"
      ]
     },
     "metadata": {},
     "output_type": "display_data"
    },
    {
     "name": "stderr",
     "output_type": "stream",
     "text": [
      "                                                 \r"
     ]
    },
    {
     "data": {
      "application/vnd.jupyter.widget-view+json": {
       "model_id": "4e8fa7fb31bf482bb24958eda102057d",
       "version_major": 2,
       "version_minor": 0
      },
      "text/plain": [
       "  0%|          | 0/1 [00:00<?, ?it/s]"
      ]
     },
     "metadata": {},
     "output_type": "display_data"
    },
    {
     "name": "stderr",
     "output_type": "stream",
     "text": [
      "                                                 \r"
     ]
    },
    {
     "data": {
      "application/vnd.jupyter.widget-view+json": {
       "model_id": "0c8c35c6c95d48f28939a4a119150df4",
       "version_major": 2,
       "version_minor": 0
      },
      "text/plain": [
       "  0%|          | 0/1 [00:00<?, ?it/s]"
      ]
     },
     "metadata": {},
     "output_type": "display_data"
    },
    {
     "name": "stderr",
     "output_type": "stream",
     "text": [
      "                                                 \r"
     ]
    },
    {
     "data": {
      "application/vnd.jupyter.widget-view+json": {
       "model_id": "d12220f819654f1a83624632fc733eef",
       "version_major": 2,
       "version_minor": 0
      },
      "text/plain": [
       "  0%|          | 0/1 [00:00<?, ?it/s]"
      ]
     },
     "metadata": {},
     "output_type": "display_data"
    },
    {
     "name": "stderr",
     "output_type": "stream",
     "text": [
      "                                                 \r"
     ]
    },
    {
     "data": {
      "application/vnd.jupyter.widget-view+json": {
       "model_id": "df004d505eca4478b990707a01668285",
       "version_major": 2,
       "version_minor": 0
      },
      "text/plain": [
       "  0%|          | 0/1 [00:00<?, ?it/s]"
      ]
     },
     "metadata": {},
     "output_type": "display_data"
    },
    {
     "name": "stderr",
     "output_type": "stream",
     "text": [
      "                                                 \r"
     ]
    },
    {
     "data": {
      "application/vnd.jupyter.widget-view+json": {
       "model_id": "ac8e90f727fe4ffca4657bdf695b1d4a",
       "version_major": 2,
       "version_minor": 0
      },
      "text/plain": [
       "  0%|          | 0/1 [00:00<?, ?it/s]"
      ]
     },
     "metadata": {},
     "output_type": "display_data"
    },
    {
     "name": "stderr",
     "output_type": "stream",
     "text": [
      "                                                 \r"
     ]
    },
    {
     "data": {
      "application/vnd.jupyter.widget-view+json": {
       "model_id": "c46842490cf7413eafcd248bdb5f31a9",
       "version_major": 2,
       "version_minor": 0
      },
      "text/plain": [
       "  0%|          | 0/1 [00:00<?, ?it/s]"
      ]
     },
     "metadata": {},
     "output_type": "display_data"
    },
    {
     "name": "stderr",
     "output_type": "stream",
     "text": [
      "                                                 \r"
     ]
    },
    {
     "data": {
      "application/vnd.jupyter.widget-view+json": {
       "model_id": "245df9950cb440ebaa8c2b8b44a35084",
       "version_major": 2,
       "version_minor": 0
      },
      "text/plain": [
       "  0%|          | 0/1 [00:00<?, ?it/s]"
      ]
     },
     "metadata": {},
     "output_type": "display_data"
    },
    {
     "name": "stderr",
     "output_type": "stream",
     "text": [
      "                                                 \r"
     ]
    },
    {
     "data": {
      "application/vnd.jupyter.widget-view+json": {
       "model_id": "5212bc22029e4985a9db2b669ac0e05a",
       "version_major": 2,
       "version_minor": 0
      },
      "text/plain": [
       "  0%|          | 0/1 [00:00<?, ?it/s]"
      ]
     },
     "metadata": {},
     "output_type": "display_data"
    },
    {
     "name": "stderr",
     "output_type": "stream",
     "text": [
      "                                                 \r"
     ]
    },
    {
     "data": {
      "application/vnd.jupyter.widget-view+json": {
       "model_id": "a77b927673fc48268b86a65dac041311",
       "version_major": 2,
       "version_minor": 0
      },
      "text/plain": [
       "  0%|          | 0/1 [00:00<?, ?it/s]"
      ]
     },
     "metadata": {},
     "output_type": "display_data"
    },
    {
     "name": "stderr",
     "output_type": "stream",
     "text": [
      "                                                 \r"
     ]
    },
    {
     "data": {
      "application/vnd.jupyter.widget-view+json": {
       "model_id": "49f2209daae045d883c12d0670467c6c",
       "version_major": 2,
       "version_minor": 0
      },
      "text/plain": [
       "  0%|          | 0/1 [00:00<?, ?it/s]"
      ]
     },
     "metadata": {},
     "output_type": "display_data"
    },
    {
     "name": "stderr",
     "output_type": "stream",
     "text": [
      "                                                 \r"
     ]
    },
    {
     "data": {
      "application/vnd.jupyter.widget-view+json": {
       "model_id": "40cd2e45241e44c39dc0ec9fbe0b8479",
       "version_major": 2,
       "version_minor": 0
      },
      "text/plain": [
       "  0%|          | 0/1 [00:00<?, ?it/s]"
      ]
     },
     "metadata": {},
     "output_type": "display_data"
    },
    {
     "name": "stderr",
     "output_type": "stream",
     "text": [
      "                                                 \r"
     ]
    },
    {
     "data": {
      "application/vnd.jupyter.widget-view+json": {
       "model_id": "40413ed3b85e41d1aea359f96aee1741",
       "version_major": 2,
       "version_minor": 0
      },
      "text/plain": [
       "  0%|          | 0/1 [00:00<?, ?it/s]"
      ]
     },
     "metadata": {},
     "output_type": "display_data"
    },
    {
     "name": "stderr",
     "output_type": "stream",
     "text": [
      "                                                 \r"
     ]
    },
    {
     "data": {
      "application/vnd.jupyter.widget-view+json": {
       "model_id": "6a8164b3276e45f4be7ee62e749664ab",
       "version_major": 2,
       "version_minor": 0
      },
      "text/plain": [
       "  0%|          | 0/1 [00:00<?, ?it/s]"
      ]
     },
     "metadata": {},
     "output_type": "display_data"
    },
    {
     "name": "stderr",
     "output_type": "stream",
     "text": [
      "                                                 \r"
     ]
    },
    {
     "data": {
      "application/vnd.jupyter.widget-view+json": {
       "model_id": "d522851befd74603a6645db57178e56e",
       "version_major": 2,
       "version_minor": 0
      },
      "text/plain": [
       "  0%|          | 0/1 [00:00<?, ?it/s]"
      ]
     },
     "metadata": {},
     "output_type": "display_data"
    },
    {
     "name": "stderr",
     "output_type": "stream",
     "text": [
      "                                                 \r"
     ]
    },
    {
     "data": {
      "application/vnd.jupyter.widget-view+json": {
       "model_id": "cd95d8acfe4242179b3e8acf4a3fc5be",
       "version_major": 2,
       "version_minor": 0
      },
      "text/plain": [
       "  0%|          | 0/1 [00:00<?, ?it/s]"
      ]
     },
     "metadata": {},
     "output_type": "display_data"
    },
    {
     "name": "stderr",
     "output_type": "stream",
     "text": [
      "                                                 \r"
     ]
    },
    {
     "data": {
      "application/vnd.jupyter.widget-view+json": {
       "model_id": "5feaba0640b445f9bbfcf2fdaabf5331",
       "version_major": 2,
       "version_minor": 0
      },
      "text/plain": [
       "  0%|          | 0/1 [00:00<?, ?it/s]"
      ]
     },
     "metadata": {},
     "output_type": "display_data"
    },
    {
     "name": "stderr",
     "output_type": "stream",
     "text": [
      "                                                 \r"
     ]
    },
    {
     "data": {
      "application/vnd.jupyter.widget-view+json": {
       "model_id": "ef2812a41e504941a867667429218526",
       "version_major": 2,
       "version_minor": 0
      },
      "text/plain": [
       "  0%|          | 0/1 [00:00<?, ?it/s]"
      ]
     },
     "metadata": {},
     "output_type": "display_data"
    },
    {
     "name": "stderr",
     "output_type": "stream",
     "text": [
      "                                                 \r"
     ]
    },
    {
     "data": {
      "application/vnd.jupyter.widget-view+json": {
       "model_id": "1a35a89702bb496ca753f46e1b5ec49b",
       "version_major": 2,
       "version_minor": 0
      },
      "text/plain": [
       "  0%|          | 0/1 [00:00<?, ?it/s]"
      ]
     },
     "metadata": {},
     "output_type": "display_data"
    },
    {
     "name": "stderr",
     "output_type": "stream",
     "text": [
      "                                                 \r"
     ]
    },
    {
     "data": {
      "application/vnd.jupyter.widget-view+json": {
       "model_id": "972a64a40b404f1b8b5be620948a9f3d",
       "version_major": 2,
       "version_minor": 0
      },
      "text/plain": [
       "  0%|          | 0/1 [00:00<?, ?it/s]"
      ]
     },
     "metadata": {},
     "output_type": "display_data"
    },
    {
     "name": "stderr",
     "output_type": "stream",
     "text": [
      "                                                 \r"
     ]
    },
    {
     "data": {
      "application/vnd.jupyter.widget-view+json": {
       "model_id": "e193cc3ba4ec4a39bed4226da5c91588",
       "version_major": 2,
       "version_minor": 0
      },
      "text/plain": [
       "  0%|          | 0/1 [00:00<?, ?it/s]"
      ]
     },
     "metadata": {},
     "output_type": "display_data"
    },
    {
     "name": "stderr",
     "output_type": "stream",
     "text": [
      "                                                 \r"
     ]
    },
    {
     "data": {
      "application/vnd.jupyter.widget-view+json": {
       "model_id": "155a15dd3e2e438fba21754a9237da4b",
       "version_major": 2,
       "version_minor": 0
      },
      "text/plain": [
       "  0%|          | 0/1 [00:00<?, ?it/s]"
      ]
     },
     "metadata": {},
     "output_type": "display_data"
    },
    {
     "name": "stderr",
     "output_type": "stream",
     "text": [
      "                                                 \r"
     ]
    },
    {
     "data": {
      "application/vnd.jupyter.widget-view+json": {
       "model_id": "98bf962b309943fca9dc5624255e3c80",
       "version_major": 2,
       "version_minor": 0
      },
      "text/plain": [
       "  0%|          | 0/1 [00:00<?, ?it/s]"
      ]
     },
     "metadata": {},
     "output_type": "display_data"
    },
    {
     "name": "stderr",
     "output_type": "stream",
     "text": [
      "                                                 \r"
     ]
    },
    {
     "data": {
      "application/vnd.jupyter.widget-view+json": {
       "model_id": "31209e5408f145c1aa6f686beb750873",
       "version_major": 2,
       "version_minor": 0
      },
      "text/plain": [
       "  0%|          | 0/1 [00:00<?, ?it/s]"
      ]
     },
     "metadata": {},
     "output_type": "display_data"
    },
    {
     "name": "stderr",
     "output_type": "stream",
     "text": [
      "                                                 \r"
     ]
    },
    {
     "data": {
      "application/vnd.jupyter.widget-view+json": {
       "model_id": "14c760a9aaac444b8a62bacd1a9dc277",
       "version_major": 2,
       "version_minor": 0
      },
      "text/plain": [
       "  0%|          | 0/1 [00:00<?, ?it/s]"
      ]
     },
     "metadata": {},
     "output_type": "display_data"
    },
    {
     "name": "stderr",
     "output_type": "stream",
     "text": [
      "                                                 \r"
     ]
    },
    {
     "data": {
      "application/vnd.jupyter.widget-view+json": {
       "model_id": "0d646ff10af840de8227820917e24fdc",
       "version_major": 2,
       "version_minor": 0
      },
      "text/plain": [
       "  0%|          | 0/1 [00:00<?, ?it/s]"
      ]
     },
     "metadata": {},
     "output_type": "display_data"
    },
    {
     "name": "stderr",
     "output_type": "stream",
     "text": [
      "                                                 \r"
     ]
    },
    {
     "data": {
      "application/vnd.jupyter.widget-view+json": {
       "model_id": "3d9a0a8be3064d568e60291b0aa6e2e9",
       "version_major": 2,
       "version_minor": 0
      },
      "text/plain": [
       "  0%|          | 0/1 [00:00<?, ?it/s]"
      ]
     },
     "metadata": {},
     "output_type": "display_data"
    },
    {
     "name": "stderr",
     "output_type": "stream",
     "text": [
      "                                                 \r"
     ]
    },
    {
     "data": {
      "application/vnd.jupyter.widget-view+json": {
       "model_id": "bd0d545029f449e385c7710cf94e3ab1",
       "version_major": 2,
       "version_minor": 0
      },
      "text/plain": [
       "  0%|          | 0/1 [00:00<?, ?it/s]"
      ]
     },
     "metadata": {},
     "output_type": "display_data"
    },
    {
     "name": "stderr",
     "output_type": "stream",
     "text": [
      "                                                 \r"
     ]
    },
    {
     "data": {
      "application/vnd.jupyter.widget-view+json": {
       "model_id": "5403131ed1ab4b10b653ee0e7ce888b6",
       "version_major": 2,
       "version_minor": 0
      },
      "text/plain": [
       "  0%|          | 0/1 [00:00<?, ?it/s]"
      ]
     },
     "metadata": {},
     "output_type": "display_data"
    },
    {
     "name": "stderr",
     "output_type": "stream",
     "text": [
      "                                                 \r"
     ]
    },
    {
     "data": {
      "application/vnd.jupyter.widget-view+json": {
       "model_id": "65cafe88162646cb8a7c0f9c0a397292",
       "version_major": 2,
       "version_minor": 0
      },
      "text/plain": [
       "  0%|          | 0/1 [00:00<?, ?it/s]"
      ]
     },
     "metadata": {},
     "output_type": "display_data"
    },
    {
     "name": "stderr",
     "output_type": "stream",
     "text": [
      "                                                 \r"
     ]
    },
    {
     "data": {
      "application/vnd.jupyter.widget-view+json": {
       "model_id": "23441667aaa441f8a63960d0ca784e98",
       "version_major": 2,
       "version_minor": 0
      },
      "text/plain": [
       "  0%|          | 0/1 [00:00<?, ?it/s]"
      ]
     },
     "metadata": {},
     "output_type": "display_data"
    },
    {
     "name": "stderr",
     "output_type": "stream",
     "text": [
      "                                                 \r"
     ]
    },
    {
     "data": {
      "application/vnd.jupyter.widget-view+json": {
       "model_id": "a178892fba0c4ba4968655f91e502a95",
       "version_major": 2,
       "version_minor": 0
      },
      "text/plain": [
       "  0%|          | 0/1 [00:00<?, ?it/s]"
      ]
     },
     "metadata": {},
     "output_type": "display_data"
    },
    {
     "name": "stderr",
     "output_type": "stream",
     "text": [
      "                                                 \r"
     ]
    },
    {
     "data": {
      "application/vnd.jupyter.widget-view+json": {
       "model_id": "bd2fcd02e6d447bea471c3586eb0f420",
       "version_major": 2,
       "version_minor": 0
      },
      "text/plain": [
       "  0%|          | 0/1 [00:00<?, ?it/s]"
      ]
     },
     "metadata": {},
     "output_type": "display_data"
    },
    {
     "name": "stderr",
     "output_type": "stream",
     "text": [
      "                                                 \r"
     ]
    },
    {
     "data": {
      "application/vnd.jupyter.widget-view+json": {
       "model_id": "92b4d7205c2a4aec9f0e247e6b7439b3",
       "version_major": 2,
       "version_minor": 0
      },
      "text/plain": [
       "  0%|          | 0/1 [00:00<?, ?it/s]"
      ]
     },
     "metadata": {},
     "output_type": "display_data"
    },
    {
     "name": "stderr",
     "output_type": "stream",
     "text": [
      "                                                 \r"
     ]
    },
    {
     "data": {
      "application/vnd.jupyter.widget-view+json": {
       "model_id": "c8827845e3af4fd7bb7873b2ed4b9de6",
       "version_major": 2,
       "version_minor": 0
      },
      "text/plain": [
       "  0%|          | 0/1 [00:00<?, ?it/s]"
      ]
     },
     "metadata": {},
     "output_type": "display_data"
    },
    {
     "name": "stderr",
     "output_type": "stream",
     "text": [
      "                                                 \r"
     ]
    },
    {
     "data": {
      "application/vnd.jupyter.widget-view+json": {
       "model_id": "a8e48f0c96d842789d5b9b788611e8d4",
       "version_major": 2,
       "version_minor": 0
      },
      "text/plain": [
       "  0%|          | 0/1 [00:00<?, ?it/s]"
      ]
     },
     "metadata": {},
     "output_type": "display_data"
    },
    {
     "name": "stderr",
     "output_type": "stream",
     "text": [
      "                                                 \r"
     ]
    },
    {
     "data": {
      "application/vnd.jupyter.widget-view+json": {
       "model_id": "4b155faf35e34134bcd452291a3edac8",
       "version_major": 2,
       "version_minor": 0
      },
      "text/plain": [
       "  0%|          | 0/1 [00:00<?, ?it/s]"
      ]
     },
     "metadata": {},
     "output_type": "display_data"
    },
    {
     "name": "stderr",
     "output_type": "stream",
     "text": [
      "                                                 \r"
     ]
    },
    {
     "data": {
      "application/vnd.jupyter.widget-view+json": {
       "model_id": "6730a6f52eef486c863c1b05cc979841",
       "version_major": 2,
       "version_minor": 0
      },
      "text/plain": [
       "  0%|          | 0/1 [00:00<?, ?it/s]"
      ]
     },
     "metadata": {},
     "output_type": "display_data"
    },
    {
     "name": "stderr",
     "output_type": "stream",
     "text": [
      "                                                 \r"
     ]
    },
    {
     "data": {
      "application/vnd.jupyter.widget-view+json": {
       "model_id": "97960998ad8e49ddb56a572ff1b2b747",
       "version_major": 2,
       "version_minor": 0
      },
      "text/plain": [
       "  0%|          | 0/1 [00:00<?, ?it/s]"
      ]
     },
     "metadata": {},
     "output_type": "display_data"
    },
    {
     "name": "stderr",
     "output_type": "stream",
     "text": [
      "                                                 \r"
     ]
    },
    {
     "data": {
      "application/vnd.jupyter.widget-view+json": {
       "model_id": "859104158291419e9ecbd4ea0f759457",
       "version_major": 2,
       "version_minor": 0
      },
      "text/plain": [
       "  0%|          | 0/1 [00:00<?, ?it/s]"
      ]
     },
     "metadata": {},
     "output_type": "display_data"
    },
    {
     "name": "stderr",
     "output_type": "stream",
     "text": [
      "                                                 \r"
     ]
    },
    {
     "data": {
      "application/vnd.jupyter.widget-view+json": {
       "model_id": "38686dc4a4984053b9944d81dfdef5ef",
       "version_major": 2,
       "version_minor": 0
      },
      "text/plain": [
       "  0%|          | 0/1 [00:00<?, ?it/s]"
      ]
     },
     "metadata": {},
     "output_type": "display_data"
    },
    {
     "name": "stderr",
     "output_type": "stream",
     "text": [
      "                                                 \r"
     ]
    },
    {
     "data": {
      "application/vnd.jupyter.widget-view+json": {
       "model_id": "0e1ba1ca45554c98972d845c3ef64329",
       "version_major": 2,
       "version_minor": 0
      },
      "text/plain": [
       "  0%|          | 0/1 [00:00<?, ?it/s]"
      ]
     },
     "metadata": {},
     "output_type": "display_data"
    },
    {
     "name": "stderr",
     "output_type": "stream",
     "text": [
      "                                                 \r"
     ]
    },
    {
     "data": {
      "application/vnd.jupyter.widget-view+json": {
       "model_id": "4404845480ba4e60926c40b0a8e65984",
       "version_major": 2,
       "version_minor": 0
      },
      "text/plain": [
       "  0%|          | 0/1 [00:00<?, ?it/s]"
      ]
     },
     "metadata": {},
     "output_type": "display_data"
    },
    {
     "name": "stderr",
     "output_type": "stream",
     "text": [
      "                                                 \r"
     ]
    },
    {
     "data": {
      "application/vnd.jupyter.widget-view+json": {
       "model_id": "af1ab52310bb44e7a006e3f4ba9e3dae",
       "version_major": 2,
       "version_minor": 0
      },
      "text/plain": [
       "  0%|          | 0/1 [00:00<?, ?it/s]"
      ]
     },
     "metadata": {},
     "output_type": "display_data"
    },
    {
     "name": "stderr",
     "output_type": "stream",
     "text": [
      "                                                 \r"
     ]
    },
    {
     "data": {
      "application/vnd.jupyter.widget-view+json": {
       "model_id": "4e890f3c489d44248be61d7b74d150b9",
       "version_major": 2,
       "version_minor": 0
      },
      "text/plain": [
       "  0%|          | 0/1 [00:00<?, ?it/s]"
      ]
     },
     "metadata": {},
     "output_type": "display_data"
    },
    {
     "name": "stderr",
     "output_type": "stream",
     "text": [
      "                                                 \r"
     ]
    },
    {
     "data": {
      "application/vnd.jupyter.widget-view+json": {
       "model_id": "76edf0d4aa3e45be8d21084b51929376",
       "version_major": 2,
       "version_minor": 0
      },
      "text/plain": [
       "  0%|          | 0/1 [00:00<?, ?it/s]"
      ]
     },
     "metadata": {},
     "output_type": "display_data"
    },
    {
     "name": "stderr",
     "output_type": "stream",
     "text": [
      "                                                 \r"
     ]
    },
    {
     "data": {
      "application/vnd.jupyter.widget-view+json": {
       "model_id": "340af55fdf564b2a9b2280dbe663f75a",
       "version_major": 2,
       "version_minor": 0
      },
      "text/plain": [
       "  0%|          | 0/1 [00:00<?, ?it/s]"
      ]
     },
     "metadata": {},
     "output_type": "display_data"
    },
    {
     "name": "stderr",
     "output_type": "stream",
     "text": [
      "                                                 \r"
     ]
    },
    {
     "data": {
      "application/vnd.jupyter.widget-view+json": {
       "model_id": "d3092dda14df44b08f9b63f54a6a7337",
       "version_major": 2,
       "version_minor": 0
      },
      "text/plain": [
       "  0%|          | 0/1 [00:00<?, ?it/s]"
      ]
     },
     "metadata": {},
     "output_type": "display_data"
    },
    {
     "name": "stderr",
     "output_type": "stream",
     "text": [
      "                                                 \r"
     ]
    },
    {
     "data": {
      "application/vnd.jupyter.widget-view+json": {
       "model_id": "5676c3f901a34a7a96d41a99d5de475e",
       "version_major": 2,
       "version_minor": 0
      },
      "text/plain": [
       "  0%|          | 0/1 [00:00<?, ?it/s]"
      ]
     },
     "metadata": {},
     "output_type": "display_data"
    },
    {
     "name": "stderr",
     "output_type": "stream",
     "text": [
      "                                                 \r"
     ]
    },
    {
     "data": {
      "application/vnd.jupyter.widget-view+json": {
       "model_id": "9615123026034074b110941033f2c5fc",
       "version_major": 2,
       "version_minor": 0
      },
      "text/plain": [
       "  0%|          | 0/1 [00:00<?, ?it/s]"
      ]
     },
     "metadata": {},
     "output_type": "display_data"
    },
    {
     "name": "stderr",
     "output_type": "stream",
     "text": [
      "                                                 \r"
     ]
    },
    {
     "data": {
      "application/vnd.jupyter.widget-view+json": {
       "model_id": "3d15878f4eb446958915512078787249",
       "version_major": 2,
       "version_minor": 0
      },
      "text/plain": [
       "  0%|          | 0/1 [00:00<?, ?it/s]"
      ]
     },
     "metadata": {},
     "output_type": "display_data"
    },
    {
     "name": "stderr",
     "output_type": "stream",
     "text": [
      "                                                 \r"
     ]
    },
    {
     "data": {
      "application/vnd.jupyter.widget-view+json": {
       "model_id": "c37d19568e5041a8a5ff7075d3bdd90b",
       "version_major": 2,
       "version_minor": 0
      },
      "text/plain": [
       "  0%|          | 0/1 [00:00<?, ?it/s]"
      ]
     },
     "metadata": {},
     "output_type": "display_data"
    },
    {
     "name": "stderr",
     "output_type": "stream",
     "text": [
      "                                                 \r"
     ]
    },
    {
     "data": {
      "application/vnd.jupyter.widget-view+json": {
       "model_id": "64d329dc40c240a482073fff8ab2b1ff",
       "version_major": 2,
       "version_minor": 0
      },
      "text/plain": [
       "  0%|          | 0/1 [00:00<?, ?it/s]"
      ]
     },
     "metadata": {},
     "output_type": "display_data"
    },
    {
     "name": "stderr",
     "output_type": "stream",
     "text": [
      "                                                 \r"
     ]
    },
    {
     "data": {
      "application/vnd.jupyter.widget-view+json": {
       "model_id": "626efc9d22fb48438abf8aa409bbed66",
       "version_major": 2,
       "version_minor": 0
      },
      "text/plain": [
       "  0%|          | 0/1 [00:00<?, ?it/s]"
      ]
     },
     "metadata": {},
     "output_type": "display_data"
    },
    {
     "name": "stderr",
     "output_type": "stream",
     "text": [
      "                                                 \r"
     ]
    },
    {
     "data": {
      "application/vnd.jupyter.widget-view+json": {
       "model_id": "ce4db6faf42b483f942fde52e9cced2e",
       "version_major": 2,
       "version_minor": 0
      },
      "text/plain": [
       "  0%|          | 0/1 [00:00<?, ?it/s]"
      ]
     },
     "metadata": {},
     "output_type": "display_data"
    },
    {
     "name": "stderr",
     "output_type": "stream",
     "text": [
      "                                                 \r"
     ]
    },
    {
     "data": {
      "application/vnd.jupyter.widget-view+json": {
       "model_id": "4a2b85b5187f43feb0e7edb70af5f988",
       "version_major": 2,
       "version_minor": 0
      },
      "text/plain": [
       "  0%|          | 0/1 [00:00<?, ?it/s]"
      ]
     },
     "metadata": {},
     "output_type": "display_data"
    },
    {
     "name": "stderr",
     "output_type": "stream",
     "text": [
      "                                                 \r"
     ]
    },
    {
     "data": {
      "application/vnd.jupyter.widget-view+json": {
       "model_id": "c9791466f6924fa2bc2500ddb3f4ce2a",
       "version_major": 2,
       "version_minor": 0
      },
      "text/plain": [
       "  0%|          | 0/1 [00:00<?, ?it/s]"
      ]
     },
     "metadata": {},
     "output_type": "display_data"
    },
    {
     "name": "stderr",
     "output_type": "stream",
     "text": [
      "                                                 \r"
     ]
    },
    {
     "data": {
      "application/vnd.jupyter.widget-view+json": {
       "model_id": "0d71677d543642a6b8a0fdc9a735ddf9",
       "version_major": 2,
       "version_minor": 0
      },
      "text/plain": [
       "  0%|          | 0/1 [00:00<?, ?it/s]"
      ]
     },
     "metadata": {},
     "output_type": "display_data"
    },
    {
     "name": "stderr",
     "output_type": "stream",
     "text": [
      "                                                 \r"
     ]
    },
    {
     "data": {
      "application/vnd.jupyter.widget-view+json": {
       "model_id": "40f8896936d947289d12df8967112115",
       "version_major": 2,
       "version_minor": 0
      },
      "text/plain": [
       "  0%|          | 0/1 [00:00<?, ?it/s]"
      ]
     },
     "metadata": {},
     "output_type": "display_data"
    },
    {
     "name": "stderr",
     "output_type": "stream",
     "text": [
      "                                                 \r"
     ]
    },
    {
     "data": {
      "application/vnd.jupyter.widget-view+json": {
       "model_id": "b65de86e7de2439cb6756490b6c55ab9",
       "version_major": 2,
       "version_minor": 0
      },
      "text/plain": [
       "  0%|          | 0/1 [00:00<?, ?it/s]"
      ]
     },
     "metadata": {},
     "output_type": "display_data"
    },
    {
     "name": "stderr",
     "output_type": "stream",
     "text": [
      "                                                 \r"
     ]
    },
    {
     "data": {
      "application/vnd.jupyter.widget-view+json": {
       "model_id": "80f7417917394c3ba0bf8e90da4239e7",
       "version_major": 2,
       "version_minor": 0
      },
      "text/plain": [
       "  0%|          | 0/1 [00:00<?, ?it/s]"
      ]
     },
     "metadata": {},
     "output_type": "display_data"
    },
    {
     "name": "stderr",
     "output_type": "stream",
     "text": [
      "                                                 \r"
     ]
    },
    {
     "data": {
      "application/vnd.jupyter.widget-view+json": {
       "model_id": "5f8d809b5aad47baa3391d88ab64d31f",
       "version_major": 2,
       "version_minor": 0
      },
      "text/plain": [
       "  0%|          | 0/1 [00:00<?, ?it/s]"
      ]
     },
     "metadata": {},
     "output_type": "display_data"
    },
    {
     "name": "stderr",
     "output_type": "stream",
     "text": [
      "                                                 \r"
     ]
    },
    {
     "data": {
      "application/vnd.jupyter.widget-view+json": {
       "model_id": "9bf8b2cb621443de8a80e0d442bc902a",
       "version_major": 2,
       "version_minor": 0
      },
      "text/plain": [
       "  0%|          | 0/1 [00:00<?, ?it/s]"
      ]
     },
     "metadata": {},
     "output_type": "display_data"
    },
    {
     "name": "stderr",
     "output_type": "stream",
     "text": [
      "                                                 \r"
     ]
    },
    {
     "data": {
      "application/vnd.jupyter.widget-view+json": {
       "model_id": "96a94ce84bc7463ba9f1ace8a73b22ba",
       "version_major": 2,
       "version_minor": 0
      },
      "text/plain": [
       "  0%|          | 0/1 [00:00<?, ?it/s]"
      ]
     },
     "metadata": {},
     "output_type": "display_data"
    },
    {
     "name": "stderr",
     "output_type": "stream",
     "text": [
      "                                                 \r"
     ]
    },
    {
     "data": {
      "application/vnd.jupyter.widget-view+json": {
       "model_id": "604d66d63114401dbc335c6328a813f3",
       "version_major": 2,
       "version_minor": 0
      },
      "text/plain": [
       "  0%|          | 0/1 [00:00<?, ?it/s]"
      ]
     },
     "metadata": {},
     "output_type": "display_data"
    },
    {
     "name": "stderr",
     "output_type": "stream",
     "text": [
      "                                                 \r"
     ]
    },
    {
     "data": {
      "application/vnd.jupyter.widget-view+json": {
       "model_id": "c6702d4c0afd40f5a0bd59059936c93f",
       "version_major": 2,
       "version_minor": 0
      },
      "text/plain": [
       "  0%|          | 0/1 [00:00<?, ?it/s]"
      ]
     },
     "metadata": {},
     "output_type": "display_data"
    },
    {
     "name": "stderr",
     "output_type": "stream",
     "text": [
      "                                                 \r"
     ]
    },
    {
     "data": {
      "application/vnd.jupyter.widget-view+json": {
       "model_id": "c7217a74aca04c21849e1afa8feba8a9",
       "version_major": 2,
       "version_minor": 0
      },
      "text/plain": [
       "  0%|          | 0/1 [00:00<?, ?it/s]"
      ]
     },
     "metadata": {},
     "output_type": "display_data"
    },
    {
     "name": "stderr",
     "output_type": "stream",
     "text": [
      "                                                 \r"
     ]
    },
    {
     "data": {
      "application/vnd.jupyter.widget-view+json": {
       "model_id": "f53b324427ba434f965a6798d6994e1c",
       "version_major": 2,
       "version_minor": 0
      },
      "text/plain": [
       "  0%|          | 0/1 [00:00<?, ?it/s]"
      ]
     },
     "metadata": {},
     "output_type": "display_data"
    },
    {
     "name": "stderr",
     "output_type": "stream",
     "text": [
      "                                                 \r"
     ]
    },
    {
     "data": {
      "application/vnd.jupyter.widget-view+json": {
       "model_id": "d45676dce7464e8ca27a26f42e5d63b8",
       "version_major": 2,
       "version_minor": 0
      },
      "text/plain": [
       "  0%|          | 0/1 [00:00<?, ?it/s]"
      ]
     },
     "metadata": {},
     "output_type": "display_data"
    },
    {
     "name": "stderr",
     "output_type": "stream",
     "text": [
      "                                                 \r"
     ]
    },
    {
     "data": {
      "application/vnd.jupyter.widget-view+json": {
       "model_id": "24da3c48f89449818fe2ac214306f293",
       "version_major": 2,
       "version_minor": 0
      },
      "text/plain": [
       "  0%|          | 0/1 [00:00<?, ?it/s]"
      ]
     },
     "metadata": {},
     "output_type": "display_data"
    },
    {
     "name": "stderr",
     "output_type": "stream",
     "text": [
      "                                                 \r"
     ]
    },
    {
     "data": {
      "application/vnd.jupyter.widget-view+json": {
       "model_id": "ee570650499f4a699dda5462dac503e0",
       "version_major": 2,
       "version_minor": 0
      },
      "text/plain": [
       "  0%|          | 0/1 [00:00<?, ?it/s]"
      ]
     },
     "metadata": {},
     "output_type": "display_data"
    },
    {
     "name": "stderr",
     "output_type": "stream",
     "text": [
      "                                                 \r"
     ]
    },
    {
     "data": {
      "application/vnd.jupyter.widget-view+json": {
       "model_id": "88941c189f77444aa717061a6fd5bb5e",
       "version_major": 2,
       "version_minor": 0
      },
      "text/plain": [
       "  0%|          | 0/1 [00:00<?, ?it/s]"
      ]
     },
     "metadata": {},
     "output_type": "display_data"
    },
    {
     "name": "stderr",
     "output_type": "stream",
     "text": [
      "                                                 \r"
     ]
    },
    {
     "data": {
      "application/vnd.jupyter.widget-view+json": {
       "model_id": "3bdb7b5589424a0594e487e59f8da2a3",
       "version_major": 2,
       "version_minor": 0
      },
      "text/plain": [
       "  0%|          | 0/1 [00:00<?, ?it/s]"
      ]
     },
     "metadata": {},
     "output_type": "display_data"
    },
    {
     "name": "stderr",
     "output_type": "stream",
     "text": [
      "                                                 \r"
     ]
    },
    {
     "data": {
      "application/vnd.jupyter.widget-view+json": {
       "model_id": "a4f8abc892b5466cbe11596b1a42beaa",
       "version_major": 2,
       "version_minor": 0
      },
      "text/plain": [
       "  0%|          | 0/1 [00:00<?, ?it/s]"
      ]
     },
     "metadata": {},
     "output_type": "display_data"
    },
    {
     "name": "stderr",
     "output_type": "stream",
     "text": [
      "                                                 \r"
     ]
    },
    {
     "data": {
      "application/vnd.jupyter.widget-view+json": {
       "model_id": "b409b82de08046a1b9d13d3902b597ab",
       "version_major": 2,
       "version_minor": 0
      },
      "text/plain": [
       "  0%|          | 0/1 [00:00<?, ?it/s]"
      ]
     },
     "metadata": {},
     "output_type": "display_data"
    },
    {
     "name": "stderr",
     "output_type": "stream",
     "text": [
      "                                                 \r"
     ]
    },
    {
     "data": {
      "application/vnd.jupyter.widget-view+json": {
       "model_id": "7c3c2736acee443095da52b4fe20836e",
       "version_major": 2,
       "version_minor": 0
      },
      "text/plain": [
       "  0%|          | 0/1 [00:00<?, ?it/s]"
      ]
     },
     "metadata": {},
     "output_type": "display_data"
    },
    {
     "name": "stderr",
     "output_type": "stream",
     "text": [
      "                                                 \r"
     ]
    },
    {
     "data": {
      "application/vnd.jupyter.widget-view+json": {
       "model_id": "47681eb941c744b8b2d91300148dea78",
       "version_major": 2,
       "version_minor": 0
      },
      "text/plain": [
       "  0%|          | 0/1 [00:00<?, ?it/s]"
      ]
     },
     "metadata": {},
     "output_type": "display_data"
    },
    {
     "name": "stderr",
     "output_type": "stream",
     "text": [
      "                                                 \r"
     ]
    },
    {
     "data": {
      "application/vnd.jupyter.widget-view+json": {
       "model_id": "857d1f661432418184d05f133fd1f440",
       "version_major": 2,
       "version_minor": 0
      },
      "text/plain": [
       "  0%|          | 0/1 [00:00<?, ?it/s]"
      ]
     },
     "metadata": {},
     "output_type": "display_data"
    },
    {
     "name": "stderr",
     "output_type": "stream",
     "text": [
      "                                                 \r"
     ]
    },
    {
     "data": {
      "application/vnd.jupyter.widget-view+json": {
       "model_id": "14e51b7129ba49cd926c89ed9f3fb0b8",
       "version_major": 2,
       "version_minor": 0
      },
      "text/plain": [
       "  0%|          | 0/1 [00:00<?, ?it/s]"
      ]
     },
     "metadata": {},
     "output_type": "display_data"
    },
    {
     "name": "stderr",
     "output_type": "stream",
     "text": [
      "                                                 \r"
     ]
    },
    {
     "data": {
      "application/vnd.jupyter.widget-view+json": {
       "model_id": "0f1602800f4b469285411959c62176b2",
       "version_major": 2,
       "version_minor": 0
      },
      "text/plain": [
       "  0%|          | 0/1 [00:00<?, ?it/s]"
      ]
     },
     "metadata": {},
     "output_type": "display_data"
    },
    {
     "name": "stderr",
     "output_type": "stream",
     "text": [
      "                                                 \r"
     ]
    },
    {
     "data": {
      "application/vnd.jupyter.widget-view+json": {
       "model_id": "46ef7164d89e4a7fbfb458d54ef9419e",
       "version_major": 2,
       "version_minor": 0
      },
      "text/plain": [
       "  0%|          | 0/1 [00:00<?, ?it/s]"
      ]
     },
     "metadata": {},
     "output_type": "display_data"
    },
    {
     "name": "stderr",
     "output_type": "stream",
     "text": [
      "                                                 \r"
     ]
    },
    {
     "data": {
      "application/vnd.jupyter.widget-view+json": {
       "model_id": "79f1d5bd51a74fa1a84a6566066928c1",
       "version_major": 2,
       "version_minor": 0
      },
      "text/plain": [
       "  0%|          | 0/1 [00:00<?, ?it/s]"
      ]
     },
     "metadata": {},
     "output_type": "display_data"
    },
    {
     "name": "stderr",
     "output_type": "stream",
     "text": [
      "                                                 \r"
     ]
    },
    {
     "data": {
      "application/vnd.jupyter.widget-view+json": {
       "model_id": "a6b765bb9df3497eb7000fea03d957c8",
       "version_major": 2,
       "version_minor": 0
      },
      "text/plain": [
       "  0%|          | 0/1 [00:00<?, ?it/s]"
      ]
     },
     "metadata": {},
     "output_type": "display_data"
    },
    {
     "name": "stderr",
     "output_type": "stream",
     "text": [
      "                                                 \r"
     ]
    },
    {
     "data": {
      "application/vnd.jupyter.widget-view+json": {
       "model_id": "68dd94865186421188980894896bc40a",
       "version_major": 2,
       "version_minor": 0
      },
      "text/plain": [
       "  0%|          | 0/1 [00:00<?, ?it/s]"
      ]
     },
     "metadata": {},
     "output_type": "display_data"
    },
    {
     "name": "stderr",
     "output_type": "stream",
     "text": [
      "                                                 \r"
     ]
    },
    {
     "data": {
      "application/vnd.jupyter.widget-view+json": {
       "model_id": "01fdaeb85b94487bb78c471da3e57b16",
       "version_major": 2,
       "version_minor": 0
      },
      "text/plain": [
       "  0%|          | 0/1 [00:00<?, ?it/s]"
      ]
     },
     "metadata": {},
     "output_type": "display_data"
    },
    {
     "name": "stderr",
     "output_type": "stream",
     "text": [
      "                                                 \r"
     ]
    },
    {
     "data": {
      "application/vnd.jupyter.widget-view+json": {
       "model_id": "85baefb32d764c90a97e645c5370f8f6",
       "version_major": 2,
       "version_minor": 0
      },
      "text/plain": [
       "  0%|          | 0/1 [00:00<?, ?it/s]"
      ]
     },
     "metadata": {},
     "output_type": "display_data"
    },
    {
     "name": "stderr",
     "output_type": "stream",
     "text": [
      "                                                 \r"
     ]
    },
    {
     "data": {
      "application/vnd.jupyter.widget-view+json": {
       "model_id": "59d748a49d1746d193778292fef69ceb",
       "version_major": 2,
       "version_minor": 0
      },
      "text/plain": [
       "  0%|          | 0/1 [00:00<?, ?it/s]"
      ]
     },
     "metadata": {},
     "output_type": "display_data"
    },
    {
     "name": "stderr",
     "output_type": "stream",
     "text": [
      "                                                 \r"
     ]
    },
    {
     "data": {
      "application/vnd.jupyter.widget-view+json": {
       "model_id": "11936db5d8fe43fda9671232c705edaa",
       "version_major": 2,
       "version_minor": 0
      },
      "text/plain": [
       "  0%|          | 0/1 [00:00<?, ?it/s]"
      ]
     },
     "metadata": {},
     "output_type": "display_data"
    },
    {
     "name": "stderr",
     "output_type": "stream",
     "text": [
      "                                                 \r"
     ]
    },
    {
     "data": {
      "application/vnd.jupyter.widget-view+json": {
       "model_id": "03cab7dce1c340cc9b5261acd08972e6",
       "version_major": 2,
       "version_minor": 0
      },
      "text/plain": [
       "  0%|          | 0/1 [00:00<?, ?it/s]"
      ]
     },
     "metadata": {},
     "output_type": "display_data"
    },
    {
     "name": "stderr",
     "output_type": "stream",
     "text": [
      "                                                 \r"
     ]
    },
    {
     "data": {
      "application/vnd.jupyter.widget-view+json": {
       "model_id": "25479a51cc2b41bcb7130cd2bf1dadab",
       "version_major": 2,
       "version_minor": 0
      },
      "text/plain": [
       "  0%|          | 0/1 [00:00<?, ?it/s]"
      ]
     },
     "metadata": {},
     "output_type": "display_data"
    },
    {
     "name": "stderr",
     "output_type": "stream",
     "text": [
      "                                                 \r"
     ]
    },
    {
     "data": {
      "application/vnd.jupyter.widget-view+json": {
       "model_id": "cdd08fd080d94f4b8b32833d1a86cf25",
       "version_major": 2,
       "version_minor": 0
      },
      "text/plain": [
       "  0%|          | 0/1 [00:00<?, ?it/s]"
      ]
     },
     "metadata": {},
     "output_type": "display_data"
    },
    {
     "name": "stderr",
     "output_type": "stream",
     "text": [
      "                                                 \r"
     ]
    },
    {
     "data": {
      "application/vnd.jupyter.widget-view+json": {
       "model_id": "defd5f7189504fe99bcd40d9d94f0f77",
       "version_major": 2,
       "version_minor": 0
      },
      "text/plain": [
       "  0%|          | 0/1 [00:00<?, ?it/s]"
      ]
     },
     "metadata": {},
     "output_type": "display_data"
    },
    {
     "name": "stderr",
     "output_type": "stream",
     "text": [
      "                                                 \r"
     ]
    },
    {
     "data": {
      "application/vnd.jupyter.widget-view+json": {
       "model_id": "06b26acf7c974432b8029cc8674bc64b",
       "version_major": 2,
       "version_minor": 0
      },
      "text/plain": [
       "  0%|          | 0/1 [00:00<?, ?it/s]"
      ]
     },
     "metadata": {},
     "output_type": "display_data"
    },
    {
     "name": "stderr",
     "output_type": "stream",
     "text": [
      "                                                 \r"
     ]
    },
    {
     "data": {
      "application/vnd.jupyter.widget-view+json": {
       "model_id": "5120995e07ea43e6a44f921452f053b6",
       "version_major": 2,
       "version_minor": 0
      },
      "text/plain": [
       "  0%|          | 0/1 [00:00<?, ?it/s]"
      ]
     },
     "metadata": {},
     "output_type": "display_data"
    },
    {
     "name": "stderr",
     "output_type": "stream",
     "text": [
      "                                                 \r"
     ]
    },
    {
     "data": {
      "application/vnd.jupyter.widget-view+json": {
       "model_id": "1e0c52579a164db9b4161d5b69d298e3",
       "version_major": 2,
       "version_minor": 0
      },
      "text/plain": [
       "  0%|          | 0/1 [00:00<?, ?it/s]"
      ]
     },
     "metadata": {},
     "output_type": "display_data"
    },
    {
     "name": "stderr",
     "output_type": "stream",
     "text": [
      "                                                 \r"
     ]
    },
    {
     "data": {
      "application/vnd.jupyter.widget-view+json": {
       "model_id": "282d3724279044abb0726a48aac2d72c",
       "version_major": 2,
       "version_minor": 0
      },
      "text/plain": [
       "  0%|          | 0/1 [00:00<?, ?it/s]"
      ]
     },
     "metadata": {},
     "output_type": "display_data"
    },
    {
     "name": "stderr",
     "output_type": "stream",
     "text": [
      "                                                 \r"
     ]
    },
    {
     "data": {
      "application/vnd.jupyter.widget-view+json": {
       "model_id": "ff2f2372af414a4bab5069daaac33c0b",
       "version_major": 2,
       "version_minor": 0
      },
      "text/plain": [
       "  0%|          | 0/1 [00:00<?, ?it/s]"
      ]
     },
     "metadata": {},
     "output_type": "display_data"
    },
    {
     "name": "stderr",
     "output_type": "stream",
     "text": [
      "                                                 \r"
     ]
    },
    {
     "data": {
      "application/vnd.jupyter.widget-view+json": {
       "model_id": "77dff641f30f4ae3b1057ae8882d5570",
       "version_major": 2,
       "version_minor": 0
      },
      "text/plain": [
       "  0%|          | 0/1 [00:00<?, ?it/s]"
      ]
     },
     "metadata": {},
     "output_type": "display_data"
    },
    {
     "name": "stderr",
     "output_type": "stream",
     "text": [
      "                                                 \r"
     ]
    },
    {
     "data": {
      "application/vnd.jupyter.widget-view+json": {
       "model_id": "00595009ae8b4d2db2b9a10dd59439a6",
       "version_major": 2,
       "version_minor": 0
      },
      "text/plain": [
       "  0%|          | 0/1 [00:00<?, ?it/s]"
      ]
     },
     "metadata": {},
     "output_type": "display_data"
    },
    {
     "name": "stderr",
     "output_type": "stream",
     "text": [
      "                                                 \r"
     ]
    },
    {
     "data": {
      "application/vnd.jupyter.widget-view+json": {
       "model_id": "b3d4e36de5b947a9b25632484264f863",
       "version_major": 2,
       "version_minor": 0
      },
      "text/plain": [
       "  0%|          | 0/1 [00:00<?, ?it/s]"
      ]
     },
     "metadata": {},
     "output_type": "display_data"
    },
    {
     "name": "stderr",
     "output_type": "stream",
     "text": [
      "                                                 \r"
     ]
    },
    {
     "data": {
      "application/vnd.jupyter.widget-view+json": {
       "model_id": "1cb4cf81e33543d1a8bf0f5d8e4b726a",
       "version_major": 2,
       "version_minor": 0
      },
      "text/plain": [
       "  0%|          | 0/1 [00:00<?, ?it/s]"
      ]
     },
     "metadata": {},
     "output_type": "display_data"
    },
    {
     "name": "stderr",
     "output_type": "stream",
     "text": [
      "                                                 \r"
     ]
    },
    {
     "data": {
      "application/vnd.jupyter.widget-view+json": {
       "model_id": "f1be413d98e04eb3bb792e9f1a9e6fae",
       "version_major": 2,
       "version_minor": 0
      },
      "text/plain": [
       "  0%|          | 0/1 [00:00<?, ?it/s]"
      ]
     },
     "metadata": {},
     "output_type": "display_data"
    },
    {
     "name": "stderr",
     "output_type": "stream",
     "text": [
      "                                                 \r"
     ]
    },
    {
     "data": {
      "application/vnd.jupyter.widget-view+json": {
       "model_id": "c323350ffaf6493296d7b908633184d2",
       "version_major": 2,
       "version_minor": 0
      },
      "text/plain": [
       "  0%|          | 0/1 [00:00<?, ?it/s]"
      ]
     },
     "metadata": {},
     "output_type": "display_data"
    },
    {
     "name": "stderr",
     "output_type": "stream",
     "text": [
      "                                                 \r"
     ]
    },
    {
     "data": {
      "application/vnd.jupyter.widget-view+json": {
       "model_id": "ca88b9d6dd014990bc5ce84b2744a351",
       "version_major": 2,
       "version_minor": 0
      },
      "text/plain": [
       "  0%|          | 0/1 [00:00<?, ?it/s]"
      ]
     },
     "metadata": {},
     "output_type": "display_data"
    },
    {
     "name": "stderr",
     "output_type": "stream",
     "text": [
      "                                                 \r"
     ]
    },
    {
     "data": {
      "application/vnd.jupyter.widget-view+json": {
       "model_id": "8a9697e0bf894b9097cf5437a3a95c93",
       "version_major": 2,
       "version_minor": 0
      },
      "text/plain": [
       "  0%|          | 0/1 [00:00<?, ?it/s]"
      ]
     },
     "metadata": {},
     "output_type": "display_data"
    },
    {
     "name": "stderr",
     "output_type": "stream",
     "text": [
      "                                                 \r"
     ]
    },
    {
     "data": {
      "application/vnd.jupyter.widget-view+json": {
       "model_id": "ef9875b9023d42ffa800a95b9dd71e8b",
       "version_major": 2,
       "version_minor": 0
      },
      "text/plain": [
       "  0%|          | 0/1 [00:00<?, ?it/s]"
      ]
     },
     "metadata": {},
     "output_type": "display_data"
    },
    {
     "name": "stderr",
     "output_type": "stream",
     "text": [
      "                                                 \r"
     ]
    },
    {
     "data": {
      "application/vnd.jupyter.widget-view+json": {
       "model_id": "19549ae68aba4743a057ae24b7cb6e6c",
       "version_major": 2,
       "version_minor": 0
      },
      "text/plain": [
       "  0%|          | 0/1 [00:00<?, ?it/s]"
      ]
     },
     "metadata": {},
     "output_type": "display_data"
    },
    {
     "name": "stderr",
     "output_type": "stream",
     "text": [
      "                                                 \r"
     ]
    },
    {
     "data": {
      "application/vnd.jupyter.widget-view+json": {
       "model_id": "3145501545ff4014a39d2800c4409890",
       "version_major": 2,
       "version_minor": 0
      },
      "text/plain": [
       "  0%|          | 0/1 [00:00<?, ?it/s]"
      ]
     },
     "metadata": {},
     "output_type": "display_data"
    },
    {
     "name": "stderr",
     "output_type": "stream",
     "text": [
      "                                                 \r"
     ]
    },
    {
     "data": {
      "application/vnd.jupyter.widget-view+json": {
       "model_id": "aacfeaeb41ad46d981d9ddb20aa12668",
       "version_major": 2,
       "version_minor": 0
      },
      "text/plain": [
       "  0%|          | 0/1 [00:00<?, ?it/s]"
      ]
     },
     "metadata": {},
     "output_type": "display_data"
    },
    {
     "name": "stderr",
     "output_type": "stream",
     "text": [
      "                                                 \r"
     ]
    },
    {
     "data": {
      "application/vnd.jupyter.widget-view+json": {
       "model_id": "698d3362e58d49868f2692a75d347553",
       "version_major": 2,
       "version_minor": 0
      },
      "text/plain": [
       "  0%|          | 0/1 [00:00<?, ?it/s]"
      ]
     },
     "metadata": {},
     "output_type": "display_data"
    },
    {
     "name": "stderr",
     "output_type": "stream",
     "text": [
      "                                                 \r"
     ]
    },
    {
     "data": {
      "application/vnd.jupyter.widget-view+json": {
       "model_id": "a7cb44934cb645908c6fc0a68e012685",
       "version_major": 2,
       "version_minor": 0
      },
      "text/plain": [
       "  0%|          | 0/1 [00:00<?, ?it/s]"
      ]
     },
     "metadata": {},
     "output_type": "display_data"
    },
    {
     "name": "stderr",
     "output_type": "stream",
     "text": [
      "                                                 \r"
     ]
    },
    {
     "data": {
      "application/vnd.jupyter.widget-view+json": {
       "model_id": "47be26e708ab4fa9b32dc8eaff90769a",
       "version_major": 2,
       "version_minor": 0
      },
      "text/plain": [
       "  0%|          | 0/1 [00:00<?, ?it/s]"
      ]
     },
     "metadata": {},
     "output_type": "display_data"
    },
    {
     "name": "stderr",
     "output_type": "stream",
     "text": [
      "                                                 \r"
     ]
    },
    {
     "data": {
      "application/vnd.jupyter.widget-view+json": {
       "model_id": "544e56dbaf714ed0a30f4c78f6986561",
       "version_major": 2,
       "version_minor": 0
      },
      "text/plain": [
       "  0%|          | 0/1 [00:00<?, ?it/s]"
      ]
     },
     "metadata": {},
     "output_type": "display_data"
    },
    {
     "name": "stderr",
     "output_type": "stream",
     "text": [
      "                                                 \r"
     ]
    },
    {
     "data": {
      "application/vnd.jupyter.widget-view+json": {
       "model_id": "e47477236c594958893f8f05825b0c27",
       "version_major": 2,
       "version_minor": 0
      },
      "text/plain": [
       "  0%|          | 0/1 [00:00<?, ?it/s]"
      ]
     },
     "metadata": {},
     "output_type": "display_data"
    },
    {
     "name": "stderr",
     "output_type": "stream",
     "text": [
      "                                                 \r"
     ]
    },
    {
     "data": {
      "application/vnd.jupyter.widget-view+json": {
       "model_id": "95a67cde54584b389f6cc6f8f1bd43a2",
       "version_major": 2,
       "version_minor": 0
      },
      "text/plain": [
       "  0%|          | 0/1 [00:00<?, ?it/s]"
      ]
     },
     "metadata": {},
     "output_type": "display_data"
    },
    {
     "name": "stderr",
     "output_type": "stream",
     "text": [
      "                                                 \r"
     ]
    },
    {
     "data": {
      "application/vnd.jupyter.widget-view+json": {
       "model_id": "5733371011e64fe5b9342cc141949b3b",
       "version_major": 2,
       "version_minor": 0
      },
      "text/plain": [
       "  0%|          | 0/1 [00:00<?, ?it/s]"
      ]
     },
     "metadata": {},
     "output_type": "display_data"
    },
    {
     "name": "stderr",
     "output_type": "stream",
     "text": [
      "                                                 \r"
     ]
    },
    {
     "data": {
      "application/vnd.jupyter.widget-view+json": {
       "model_id": "78e7507c2e5347cd947ff8a40b5fe60d",
       "version_major": 2,
       "version_minor": 0
      },
      "text/plain": [
       "  0%|          | 0/1 [00:00<?, ?it/s]"
      ]
     },
     "metadata": {},
     "output_type": "display_data"
    },
    {
     "name": "stderr",
     "output_type": "stream",
     "text": [
      "                                                 \r"
     ]
    },
    {
     "data": {
      "application/vnd.jupyter.widget-view+json": {
       "model_id": "9eb132b4758043e2a7cf249fd4abdaee",
       "version_major": 2,
       "version_minor": 0
      },
      "text/plain": [
       "  0%|          | 0/1 [00:00<?, ?it/s]"
      ]
     },
     "metadata": {},
     "output_type": "display_data"
    },
    {
     "name": "stderr",
     "output_type": "stream",
     "text": [
      "                                                 \r"
     ]
    },
    {
     "data": {
      "application/vnd.jupyter.widget-view+json": {
       "model_id": "ba4ae87c58fe4f699bdc1950147c162b",
       "version_major": 2,
       "version_minor": 0
      },
      "text/plain": [
       "  0%|          | 0/1 [00:00<?, ?it/s]"
      ]
     },
     "metadata": {},
     "output_type": "display_data"
    },
    {
     "name": "stderr",
     "output_type": "stream",
     "text": [
      "                                                 \r"
     ]
    },
    {
     "data": {
      "application/vnd.jupyter.widget-view+json": {
       "model_id": "e1ae1d3442fb4da180c85b5bf43abd95",
       "version_major": 2,
       "version_minor": 0
      },
      "text/plain": [
       "  0%|          | 0/1 [00:00<?, ?it/s]"
      ]
     },
     "metadata": {},
     "output_type": "display_data"
    },
    {
     "name": "stderr",
     "output_type": "stream",
     "text": [
      "                                                 \r"
     ]
    },
    {
     "data": {
      "application/vnd.jupyter.widget-view+json": {
       "model_id": "a46e2f5c983e4885b9d7b059c1697bb6",
       "version_major": 2,
       "version_minor": 0
      },
      "text/plain": [
       "  0%|          | 0/1 [00:00<?, ?it/s]"
      ]
     },
     "metadata": {},
     "output_type": "display_data"
    },
    {
     "name": "stderr",
     "output_type": "stream",
     "text": [
      "                                                 \r"
     ]
    },
    {
     "data": {
      "application/vnd.jupyter.widget-view+json": {
       "model_id": "c6930ffba9ac48f284eb2689a7826353",
       "version_major": 2,
       "version_minor": 0
      },
      "text/plain": [
       "  0%|          | 0/1 [00:00<?, ?it/s]"
      ]
     },
     "metadata": {},
     "output_type": "display_data"
    },
    {
     "name": "stderr",
     "output_type": "stream",
     "text": [
      "                                                 \r"
     ]
    },
    {
     "data": {
      "application/vnd.jupyter.widget-view+json": {
       "model_id": "7f305d01f2e749a3930d19deeee4065c",
       "version_major": 2,
       "version_minor": 0
      },
      "text/plain": [
       "  0%|          | 0/1 [00:00<?, ?it/s]"
      ]
     },
     "metadata": {},
     "output_type": "display_data"
    },
    {
     "name": "stderr",
     "output_type": "stream",
     "text": [
      "                                                 \r"
     ]
    },
    {
     "data": {
      "application/vnd.jupyter.widget-view+json": {
       "model_id": "e53689fdb3ec4044878f1e7675024814",
       "version_major": 2,
       "version_minor": 0
      },
      "text/plain": [
       "  0%|          | 0/1 [00:00<?, ?it/s]"
      ]
     },
     "metadata": {},
     "output_type": "display_data"
    },
    {
     "name": "stderr",
     "output_type": "stream",
     "text": [
      "                                                 \r"
     ]
    },
    {
     "data": {
      "application/vnd.jupyter.widget-view+json": {
       "model_id": "28f3d68f6b6a4b3387e3cff3b9069d4b",
       "version_major": 2,
       "version_minor": 0
      },
      "text/plain": [
       "  0%|          | 0/1 [00:00<?, ?it/s]"
      ]
     },
     "metadata": {},
     "output_type": "display_data"
    },
    {
     "name": "stderr",
     "output_type": "stream",
     "text": [
      "                                                 \r"
     ]
    },
    {
     "data": {
      "application/vnd.jupyter.widget-view+json": {
       "model_id": "bb7492d9052a47398e4a120b2d5ad9ce",
       "version_major": 2,
       "version_minor": 0
      },
      "text/plain": [
       "  0%|          | 0/1 [00:00<?, ?it/s]"
      ]
     },
     "metadata": {},
     "output_type": "display_data"
    },
    {
     "name": "stderr",
     "output_type": "stream",
     "text": [
      "                                                 \r"
     ]
    },
    {
     "data": {
      "application/vnd.jupyter.widget-view+json": {
       "model_id": "d474db7a6f9d4e26aeae827230579620",
       "version_major": 2,
       "version_minor": 0
      },
      "text/plain": [
       "  0%|          | 0/1 [00:00<?, ?it/s]"
      ]
     },
     "metadata": {},
     "output_type": "display_data"
    },
    {
     "name": "stderr",
     "output_type": "stream",
     "text": [
      "                                                 \r"
     ]
    },
    {
     "data": {
      "application/vnd.jupyter.widget-view+json": {
       "model_id": "a2a49f1d36e849e6b8b426ed6e026bf1",
       "version_major": 2,
       "version_minor": 0
      },
      "text/plain": [
       "  0%|          | 0/1 [00:00<?, ?it/s]"
      ]
     },
     "metadata": {},
     "output_type": "display_data"
    },
    {
     "name": "stderr",
     "output_type": "stream",
     "text": [
      "                                                 \r"
     ]
    },
    {
     "data": {
      "application/vnd.jupyter.widget-view+json": {
       "model_id": "c48a0d8e1d4f43f38b6b32280792f7b1",
       "version_major": 2,
       "version_minor": 0
      },
      "text/plain": [
       "  0%|          | 0/1 [00:00<?, ?it/s]"
      ]
     },
     "metadata": {},
     "output_type": "display_data"
    },
    {
     "name": "stderr",
     "output_type": "stream",
     "text": [
      "                                                 \r"
     ]
    },
    {
     "data": {
      "application/vnd.jupyter.widget-view+json": {
       "model_id": "da887c5cf69e4e39a3d985394473479b",
       "version_major": 2,
       "version_minor": 0
      },
      "text/plain": [
       "  0%|          | 0/1 [00:00<?, ?it/s]"
      ]
     },
     "metadata": {},
     "output_type": "display_data"
    },
    {
     "name": "stderr",
     "output_type": "stream",
     "text": [
      "                                                 \r"
     ]
    },
    {
     "data": {
      "application/vnd.jupyter.widget-view+json": {
       "model_id": "a4843b6bc7a54b51b908a1bb579dcc18",
       "version_major": 2,
       "version_minor": 0
      },
      "text/plain": [
       "  0%|          | 0/1 [00:00<?, ?it/s]"
      ]
     },
     "metadata": {},
     "output_type": "display_data"
    },
    {
     "name": "stderr",
     "output_type": "stream",
     "text": [
      "                                                 \r"
     ]
    },
    {
     "data": {
      "application/vnd.jupyter.widget-view+json": {
       "model_id": "71dfe5344b44442fa66b9274933d0f0a",
       "version_major": 2,
       "version_minor": 0
      },
      "text/plain": [
       "  0%|          | 0/1 [00:00<?, ?it/s]"
      ]
     },
     "metadata": {},
     "output_type": "display_data"
    },
    {
     "name": "stderr",
     "output_type": "stream",
     "text": [
      "                                                 \r"
     ]
    },
    {
     "data": {
      "application/vnd.jupyter.widget-view+json": {
       "model_id": "7602fe5fb3f649b5a844f1059f99d387",
       "version_major": 2,
       "version_minor": 0
      },
      "text/plain": [
       "  0%|          | 0/1 [00:00<?, ?it/s]"
      ]
     },
     "metadata": {},
     "output_type": "display_data"
    },
    {
     "name": "stderr",
     "output_type": "stream",
     "text": [
      "                                                 \r"
     ]
    },
    {
     "data": {
      "application/vnd.jupyter.widget-view+json": {
       "model_id": "7bf0aad3813b403280868bbb232e02e9",
       "version_major": 2,
       "version_minor": 0
      },
      "text/plain": [
       "  0%|          | 0/1 [00:00<?, ?it/s]"
      ]
     },
     "metadata": {},
     "output_type": "display_data"
    },
    {
     "name": "stderr",
     "output_type": "stream",
     "text": [
      "                                                 \r"
     ]
    },
    {
     "data": {
      "application/vnd.jupyter.widget-view+json": {
       "model_id": "bc85698bd608475db8e79e44e0c03adb",
       "version_major": 2,
       "version_minor": 0
      },
      "text/plain": [
       "  0%|          | 0/1 [00:00<?, ?it/s]"
      ]
     },
     "metadata": {},
     "output_type": "display_data"
    },
    {
     "name": "stderr",
     "output_type": "stream",
     "text": [
      "                                                  \r"
     ]
    },
    {
     "data": {
      "application/vnd.jupyter.widget-view+json": {
       "model_id": "bed77c287b3248e18b3bc6b5370f842b",
       "version_major": 2,
       "version_minor": 0
      },
      "text/plain": [
       "  0%|          | 0/1 [00:00<?, ?it/s]"
      ]
     },
     "metadata": {},
     "output_type": "display_data"
    },
    {
     "name": "stderr",
     "output_type": "stream",
     "text": [
      "                                                 \r"
     ]
    },
    {
     "data": {
      "application/vnd.jupyter.widget-view+json": {
       "model_id": "78df866e2e834a58b91a2464477d8c22",
       "version_major": 2,
       "version_minor": 0
      },
      "text/plain": [
       "  0%|          | 0/1 [00:00<?, ?it/s]"
      ]
     },
     "metadata": {},
     "output_type": "display_data"
    },
    {
     "name": "stderr",
     "output_type": "stream",
     "text": [
      "                                                 \r"
     ]
    },
    {
     "data": {
      "application/vnd.jupyter.widget-view+json": {
       "model_id": "fa1b68614c0e46bba6059c062a2d37da",
       "version_major": 2,
       "version_minor": 0
      },
      "text/plain": [
       "  0%|          | 0/1 [00:00<?, ?it/s]"
      ]
     },
     "metadata": {},
     "output_type": "display_data"
    },
    {
     "name": "stderr",
     "output_type": "stream",
     "text": [
      "                                                 \r"
     ]
    },
    {
     "data": {
      "application/vnd.jupyter.widget-view+json": {
       "model_id": "7c8c00589df74d00ad61d5b5f524418e",
       "version_major": 2,
       "version_minor": 0
      },
      "text/plain": [
       "  0%|          | 0/1 [00:00<?, ?it/s]"
      ]
     },
     "metadata": {},
     "output_type": "display_data"
    },
    {
     "name": "stderr",
     "output_type": "stream",
     "text": [
      "                                                  \r"
     ]
    },
    {
     "data": {
      "application/vnd.jupyter.widget-view+json": {
       "model_id": "4cf6df629a59476bbbc3a95f39a80304",
       "version_major": 2,
       "version_minor": 0
      },
      "text/plain": [
       "  0%|          | 0/1 [00:00<?, ?it/s]"
      ]
     },
     "metadata": {},
     "output_type": "display_data"
    },
    {
     "name": "stderr",
     "output_type": "stream",
     "text": [
      "                                                 \r"
     ]
    },
    {
     "data": {
      "application/vnd.jupyter.widget-view+json": {
       "model_id": "1cdac4f319464214bca37585f15217cd",
       "version_major": 2,
       "version_minor": 0
      },
      "text/plain": [
       "  0%|          | 0/1 [00:00<?, ?it/s]"
      ]
     },
     "metadata": {},
     "output_type": "display_data"
    },
    {
     "name": "stderr",
     "output_type": "stream",
     "text": [
      "                                                 \r"
     ]
    },
    {
     "data": {
      "application/vnd.jupyter.widget-view+json": {
       "model_id": "5128befa911a40fc99d6633ee74312ff",
       "version_major": 2,
       "version_minor": 0
      },
      "text/plain": [
       "  0%|          | 0/1 [00:00<?, ?it/s]"
      ]
     },
     "metadata": {},
     "output_type": "display_data"
    },
    {
     "name": "stderr",
     "output_type": "stream",
     "text": [
      "                                                 \r"
     ]
    },
    {
     "data": {
      "application/vnd.jupyter.widget-view+json": {
       "model_id": "d024d0043d034eed84437c8339f3816b",
       "version_major": 2,
       "version_minor": 0
      },
      "text/plain": [
       "  0%|          | 0/1 [00:00<?, ?it/s]"
      ]
     },
     "metadata": {},
     "output_type": "display_data"
    },
    {
     "name": "stderr",
     "output_type": "stream",
     "text": [
      "                                                  \r"
     ]
    },
    {
     "data": {
      "application/vnd.jupyter.widget-view+json": {
       "model_id": "f453462c9b3e47ef84949496020816f4",
       "version_major": 2,
       "version_minor": 0
      },
      "text/plain": [
       "  0%|          | 0/1 [00:00<?, ?it/s]"
      ]
     },
     "metadata": {},
     "output_type": "display_data"
    },
    {
     "name": "stderr",
     "output_type": "stream",
     "text": [
      "                                                 \r"
     ]
    },
    {
     "data": {
      "application/vnd.jupyter.widget-view+json": {
       "model_id": "57c09533d02340ff8357a74210cc6d7f",
       "version_major": 2,
       "version_minor": 0
      },
      "text/plain": [
       "  0%|          | 0/1 [00:00<?, ?it/s]"
      ]
     },
     "metadata": {},
     "output_type": "display_data"
    },
    {
     "name": "stderr",
     "output_type": "stream",
     "text": [
      "                                                 \r"
     ]
    },
    {
     "data": {
      "application/vnd.jupyter.widget-view+json": {
       "model_id": "344d00aea75a4df9a127cb5116ff9083",
       "version_major": 2,
       "version_minor": 0
      },
      "text/plain": [
       "  0%|          | 0/1 [00:00<?, ?it/s]"
      ]
     },
     "metadata": {},
     "output_type": "display_data"
    },
    {
     "name": "stderr",
     "output_type": "stream",
     "text": [
      "                                                 \r"
     ]
    },
    {
     "data": {
      "application/vnd.jupyter.widget-view+json": {
       "model_id": "362f8ce814274215b9be54b763d8f85a",
       "version_major": 2,
       "version_minor": 0
      },
      "text/plain": [
       "  0%|          | 0/1 [00:00<?, ?it/s]"
      ]
     },
     "metadata": {},
     "output_type": "display_data"
    },
    {
     "name": "stderr",
     "output_type": "stream",
     "text": [
      "                                                 \r"
     ]
    },
    {
     "data": {
      "application/vnd.jupyter.widget-view+json": {
       "model_id": "236b0a90f69c44cbb0cb693d9aff8dfe",
       "version_major": 2,
       "version_minor": 0
      },
      "text/plain": [
       "  0%|          | 0/1 [00:00<?, ?it/s]"
      ]
     },
     "metadata": {},
     "output_type": "display_data"
    },
    {
     "name": "stderr",
     "output_type": "stream",
     "text": [
      "                                                 \r"
     ]
    },
    {
     "data": {
      "application/vnd.jupyter.widget-view+json": {
       "model_id": "19586c5296084bab96c888e4f091beca",
       "version_major": 2,
       "version_minor": 0
      },
      "text/plain": [
       "  0%|          | 0/1 [00:00<?, ?it/s]"
      ]
     },
     "metadata": {},
     "output_type": "display_data"
    },
    {
     "name": "stderr",
     "output_type": "stream",
     "text": [
      "                                                 \r"
     ]
    },
    {
     "data": {
      "application/vnd.jupyter.widget-view+json": {
       "model_id": "ec5ee4f8de8d4af8baafa8cdc142a164",
       "version_major": 2,
       "version_minor": 0
      },
      "text/plain": [
       "  0%|          | 0/1 [00:00<?, ?it/s]"
      ]
     },
     "metadata": {},
     "output_type": "display_data"
    },
    {
     "name": "stderr",
     "output_type": "stream",
     "text": [
      "                                                 \r"
     ]
    },
    {
     "data": {
      "application/vnd.jupyter.widget-view+json": {
       "model_id": "b293d3004db64ff183c4d69780cc1d04",
       "version_major": 2,
       "version_minor": 0
      },
      "text/plain": [
       "  0%|          | 0/1 [00:00<?, ?it/s]"
      ]
     },
     "metadata": {},
     "output_type": "display_data"
    },
    {
     "name": "stderr",
     "output_type": "stream",
     "text": [
      "                                                 \r"
     ]
    },
    {
     "data": {
      "application/vnd.jupyter.widget-view+json": {
       "model_id": "94180a5d42a34fcb9f8dd3a63de9218d",
       "version_major": 2,
       "version_minor": 0
      },
      "text/plain": [
       "  0%|          | 0/1 [00:00<?, ?it/s]"
      ]
     },
     "metadata": {},
     "output_type": "display_data"
    },
    {
     "name": "stderr",
     "output_type": "stream",
     "text": [
      "                                                 \r"
     ]
    },
    {
     "data": {
      "application/vnd.jupyter.widget-view+json": {
       "model_id": "b8741e5072bf4301b3c091f1759ad0a3",
       "version_major": 2,
       "version_minor": 0
      },
      "text/plain": [
       "  0%|          | 0/1 [00:00<?, ?it/s]"
      ]
     },
     "metadata": {},
     "output_type": "display_data"
    },
    {
     "name": "stderr",
     "output_type": "stream",
     "text": [
      "                                                 \r"
     ]
    },
    {
     "data": {
      "application/vnd.jupyter.widget-view+json": {
       "model_id": "20d950eb1549415ab79433b00096b7e5",
       "version_major": 2,
       "version_minor": 0
      },
      "text/plain": [
       "  0%|          | 0/1 [00:00<?, ?it/s]"
      ]
     },
     "metadata": {},
     "output_type": "display_data"
    },
    {
     "name": "stderr",
     "output_type": "stream",
     "text": [
      "                                                 \r"
     ]
    },
    {
     "data": {
      "application/vnd.jupyter.widget-view+json": {
       "model_id": "437d63a6b2e94a0aafbb7f0ceaf69eaf",
       "version_major": 2,
       "version_minor": 0
      },
      "text/plain": [
       "  0%|          | 0/1 [00:00<?, ?it/s]"
      ]
     },
     "metadata": {},
     "output_type": "display_data"
    },
    {
     "name": "stderr",
     "output_type": "stream",
     "text": [
      "                                                 \r"
     ]
    },
    {
     "data": {
      "application/vnd.jupyter.widget-view+json": {
       "model_id": "252a0cc806ad4cffbae02f44fcaeb136",
       "version_major": 2,
       "version_minor": 0
      },
      "text/plain": [
       "  0%|          | 0/1 [00:00<?, ?it/s]"
      ]
     },
     "metadata": {},
     "output_type": "display_data"
    },
    {
     "name": "stderr",
     "output_type": "stream",
     "text": [
      "                                                 \r"
     ]
    },
    {
     "data": {
      "application/vnd.jupyter.widget-view+json": {
       "model_id": "5d0e2bd22e834b13ade067cb51bd97e1",
       "version_major": 2,
       "version_minor": 0
      },
      "text/plain": [
       "  0%|          | 0/1 [00:00<?, ?it/s]"
      ]
     },
     "metadata": {},
     "output_type": "display_data"
    },
    {
     "name": "stderr",
     "output_type": "stream",
     "text": [
      "                                                 \r"
     ]
    },
    {
     "data": {
      "application/vnd.jupyter.widget-view+json": {
       "model_id": "6cb541b9ae81493597c0ef46231fd36d",
       "version_major": 2,
       "version_minor": 0
      },
      "text/plain": [
       "  0%|          | 0/1 [00:00<?, ?it/s]"
      ]
     },
     "metadata": {},
     "output_type": "display_data"
    },
    {
     "name": "stderr",
     "output_type": "stream",
     "text": [
      "                                                 \r"
     ]
    },
    {
     "data": {
      "application/vnd.jupyter.widget-view+json": {
       "model_id": "6509b5db940f4ed9ab253e65ffbab7dd",
       "version_major": 2,
       "version_minor": 0
      },
      "text/plain": [
       "  0%|          | 0/1 [00:00<?, ?it/s]"
      ]
     },
     "metadata": {},
     "output_type": "display_data"
    },
    {
     "name": "stderr",
     "output_type": "stream",
     "text": [
      "                                                 \r"
     ]
    },
    {
     "data": {
      "application/vnd.jupyter.widget-view+json": {
       "model_id": "2418f7876eb5462fab63db052b361cca",
       "version_major": 2,
       "version_minor": 0
      },
      "text/plain": [
       "  0%|          | 0/1 [00:00<?, ?it/s]"
      ]
     },
     "metadata": {},
     "output_type": "display_data"
    },
    {
     "name": "stderr",
     "output_type": "stream",
     "text": [
      "                                                 \r"
     ]
    },
    {
     "data": {
      "application/vnd.jupyter.widget-view+json": {
       "model_id": "d7fe2992004b4389aa95a76a91c74143",
       "version_major": 2,
       "version_minor": 0
      },
      "text/plain": [
       "  0%|          | 0/1 [00:00<?, ?it/s]"
      ]
     },
     "metadata": {},
     "output_type": "display_data"
    },
    {
     "name": "stderr",
     "output_type": "stream",
     "text": [
      "                                                 \r"
     ]
    },
    {
     "data": {
      "application/vnd.jupyter.widget-view+json": {
       "model_id": "00aa5faa3fe148deb70d1316c5a29212",
       "version_major": 2,
       "version_minor": 0
      },
      "text/plain": [
       "  0%|          | 0/1 [00:00<?, ?it/s]"
      ]
     },
     "metadata": {},
     "output_type": "display_data"
    },
    {
     "name": "stderr",
     "output_type": "stream",
     "text": [
      "                                                 \r"
     ]
    },
    {
     "data": {
      "application/vnd.jupyter.widget-view+json": {
       "model_id": "7720912fc47a4294bfc41a93674a9209",
       "version_major": 2,
       "version_minor": 0
      },
      "text/plain": [
       "  0%|          | 0/1 [00:00<?, ?it/s]"
      ]
     },
     "metadata": {},
     "output_type": "display_data"
    },
    {
     "name": "stderr",
     "output_type": "stream",
     "text": [
      "                                                 \r"
     ]
    },
    {
     "data": {
      "application/vnd.jupyter.widget-view+json": {
       "model_id": "206afefde06f4861836abafb5e1300d0",
       "version_major": 2,
       "version_minor": 0
      },
      "text/plain": [
       "  0%|          | 0/1 [00:00<?, ?it/s]"
      ]
     },
     "metadata": {},
     "output_type": "display_data"
    },
    {
     "name": "stderr",
     "output_type": "stream",
     "text": [
      "                                                 \r"
     ]
    },
    {
     "data": {
      "application/vnd.jupyter.widget-view+json": {
       "model_id": "adf671ec17b54295a37e6067ed91a4a0",
       "version_major": 2,
       "version_minor": 0
      },
      "text/plain": [
       "  0%|          | 0/1 [00:00<?, ?it/s]"
      ]
     },
     "metadata": {},
     "output_type": "display_data"
    },
    {
     "name": "stderr",
     "output_type": "stream",
     "text": [
      "                                                 \r"
     ]
    },
    {
     "data": {
      "application/vnd.jupyter.widget-view+json": {
       "model_id": "de04f6a0207c4f65a1ea667357cf8bdb",
       "version_major": 2,
       "version_minor": 0
      },
      "text/plain": [
       "  0%|          | 0/1 [00:00<?, ?it/s]"
      ]
     },
     "metadata": {},
     "output_type": "display_data"
    },
    {
     "name": "stderr",
     "output_type": "stream",
     "text": [
      "                                                 \r"
     ]
    },
    {
     "data": {
      "application/vnd.jupyter.widget-view+json": {
       "model_id": "c25a4ed979604a8f9abf0a6321b1bac2",
       "version_major": 2,
       "version_minor": 0
      },
      "text/plain": [
       "  0%|          | 0/1 [00:00<?, ?it/s]"
      ]
     },
     "metadata": {},
     "output_type": "display_data"
    },
    {
     "name": "stderr",
     "output_type": "stream",
     "text": [
      "                                                 \r"
     ]
    },
    {
     "data": {
      "application/vnd.jupyter.widget-view+json": {
       "model_id": "511c9bd3a1b647e8b922c3869b437c25",
       "version_major": 2,
       "version_minor": 0
      },
      "text/plain": [
       "  0%|          | 0/1 [00:00<?, ?it/s]"
      ]
     },
     "metadata": {},
     "output_type": "display_data"
    },
    {
     "name": "stderr",
     "output_type": "stream",
     "text": [
      "                                                 \r"
     ]
    },
    {
     "data": {
      "application/vnd.jupyter.widget-view+json": {
       "model_id": "cef8fb9bea014f438a0e802136018939",
       "version_major": 2,
       "version_minor": 0
      },
      "text/plain": [
       "  0%|          | 0/1 [00:00<?, ?it/s]"
      ]
     },
     "metadata": {},
     "output_type": "display_data"
    },
    {
     "name": "stderr",
     "output_type": "stream",
     "text": [
      "                                                 \r"
     ]
    },
    {
     "data": {
      "application/vnd.jupyter.widget-view+json": {
       "model_id": "341a959628024c5a95d49abf8692c287",
       "version_major": 2,
       "version_minor": 0
      },
      "text/plain": [
       "  0%|          | 0/1 [00:00<?, ?it/s]"
      ]
     },
     "metadata": {},
     "output_type": "display_data"
    },
    {
     "name": "stderr",
     "output_type": "stream",
     "text": [
      "                                                 \r"
     ]
    },
    {
     "data": {
      "application/vnd.jupyter.widget-view+json": {
       "model_id": "665ea937fed1448888aab3e02082cbec",
       "version_major": 2,
       "version_minor": 0
      },
      "text/plain": [
       "  0%|          | 0/1 [00:00<?, ?it/s]"
      ]
     },
     "metadata": {},
     "output_type": "display_data"
    },
    {
     "name": "stderr",
     "output_type": "stream",
     "text": [
      "                                                 \r"
     ]
    },
    {
     "data": {
      "application/vnd.jupyter.widget-view+json": {
       "model_id": "a0f39f734f684d45b991b69e681c76f1",
       "version_major": 2,
       "version_minor": 0
      },
      "text/plain": [
       "  0%|          | 0/1 [00:00<?, ?it/s]"
      ]
     },
     "metadata": {},
     "output_type": "display_data"
    },
    {
     "name": "stderr",
     "output_type": "stream",
     "text": [
      "                                                 \r"
     ]
    },
    {
     "data": {
      "application/vnd.jupyter.widget-view+json": {
       "model_id": "f456cd97a9dd4053854be51bef56afcc",
       "version_major": 2,
       "version_minor": 0
      },
      "text/plain": [
       "  0%|          | 0/1 [00:00<?, ?it/s]"
      ]
     },
     "metadata": {},
     "output_type": "display_data"
    },
    {
     "name": "stderr",
     "output_type": "stream",
     "text": [
      "                                                 \r"
     ]
    },
    {
     "data": {
      "application/vnd.jupyter.widget-view+json": {
       "model_id": "fb89025942d2462992e2a1ff8d0a1b8b",
       "version_major": 2,
       "version_minor": 0
      },
      "text/plain": [
       "  0%|          | 0/1 [00:00<?, ?it/s]"
      ]
     },
     "metadata": {},
     "output_type": "display_data"
    },
    {
     "name": "stderr",
     "output_type": "stream",
     "text": [
      "                                                 \r"
     ]
    },
    {
     "data": {
      "application/vnd.jupyter.widget-view+json": {
       "model_id": "857b530393494459aff365222bcf1a24",
       "version_major": 2,
       "version_minor": 0
      },
      "text/plain": [
       "  0%|          | 0/1 [00:00<?, ?it/s]"
      ]
     },
     "metadata": {},
     "output_type": "display_data"
    },
    {
     "name": "stderr",
     "output_type": "stream",
     "text": [
      "                                                 \r"
     ]
    },
    {
     "data": {
      "application/vnd.jupyter.widget-view+json": {
       "model_id": "feb32ab9550c4b80b3c5bb2127f69580",
       "version_major": 2,
       "version_minor": 0
      },
      "text/plain": [
       "  0%|          | 0/1 [00:00<?, ?it/s]"
      ]
     },
     "metadata": {},
     "output_type": "display_data"
    },
    {
     "name": "stderr",
     "output_type": "stream",
     "text": [
      "                                                 \r"
     ]
    },
    {
     "data": {
      "application/vnd.jupyter.widget-view+json": {
       "model_id": "02c7634790dd48a6836071c8348f81d0",
       "version_major": 2,
       "version_minor": 0
      },
      "text/plain": [
       "  0%|          | 0/1 [00:00<?, ?it/s]"
      ]
     },
     "metadata": {},
     "output_type": "display_data"
    },
    {
     "name": "stderr",
     "output_type": "stream",
     "text": [
      "                                                 \r"
     ]
    },
    {
     "data": {
      "application/vnd.jupyter.widget-view+json": {
       "model_id": "9cee371f3752489eade07ec8b8740db1",
       "version_major": 2,
       "version_minor": 0
      },
      "text/plain": [
       "  0%|          | 0/1 [00:00<?, ?it/s]"
      ]
     },
     "metadata": {},
     "output_type": "display_data"
    },
    {
     "name": "stderr",
     "output_type": "stream",
     "text": [
      "                                                 \r"
     ]
    },
    {
     "data": {
      "application/vnd.jupyter.widget-view+json": {
       "model_id": "999baf75d29e4b01858a6d47cec34edf",
       "version_major": 2,
       "version_minor": 0
      },
      "text/plain": [
       "  0%|          | 0/1 [00:00<?, ?it/s]"
      ]
     },
     "metadata": {},
     "output_type": "display_data"
    },
    {
     "name": "stderr",
     "output_type": "stream",
     "text": [
      "                                                 \r"
     ]
    },
    {
     "data": {
      "application/vnd.jupyter.widget-view+json": {
       "model_id": "5d49f5d52c98424fa0018c76d1dbf38c",
       "version_major": 2,
       "version_minor": 0
      },
      "text/plain": [
       "  0%|          | 0/1 [00:00<?, ?it/s]"
      ]
     },
     "metadata": {},
     "output_type": "display_data"
    },
    {
     "name": "stderr",
     "output_type": "stream",
     "text": [
      "                                                 \r"
     ]
    },
    {
     "data": {
      "application/vnd.jupyter.widget-view+json": {
       "model_id": "83a6d4b5cfa64c5bb21723adf49ee10f",
       "version_major": 2,
       "version_minor": 0
      },
      "text/plain": [
       "  0%|          | 0/1 [00:00<?, ?it/s]"
      ]
     },
     "metadata": {},
     "output_type": "display_data"
    },
    {
     "name": "stderr",
     "output_type": "stream",
     "text": [
      "                                                 \r"
     ]
    },
    {
     "data": {
      "application/vnd.jupyter.widget-view+json": {
       "model_id": "9fd10b67c34a4966b3a6d3046db1536d",
       "version_major": 2,
       "version_minor": 0
      },
      "text/plain": [
       "  0%|          | 0/1 [00:00<?, ?it/s]"
      ]
     },
     "metadata": {},
     "output_type": "display_data"
    },
    {
     "name": "stderr",
     "output_type": "stream",
     "text": [
      "                                                 \r"
     ]
    },
    {
     "data": {
      "application/vnd.jupyter.widget-view+json": {
       "model_id": "42d83881d0994060a38c36e645b14c2d",
       "version_major": 2,
       "version_minor": 0
      },
      "text/plain": [
       "  0%|          | 0/1 [00:00<?, ?it/s]"
      ]
     },
     "metadata": {},
     "output_type": "display_data"
    },
    {
     "name": "stderr",
     "output_type": "stream",
     "text": [
      "                                                 \r"
     ]
    },
    {
     "data": {
      "application/vnd.jupyter.widget-view+json": {
       "model_id": "473ffa97a4bb422887e3f43c47b1e789",
       "version_major": 2,
       "version_minor": 0
      },
      "text/plain": [
       "  0%|          | 0/1 [00:00<?, ?it/s]"
      ]
     },
     "metadata": {},
     "output_type": "display_data"
    },
    {
     "name": "stderr",
     "output_type": "stream",
     "text": [
      "                                                 \r"
     ]
    },
    {
     "data": {
      "application/vnd.jupyter.widget-view+json": {
       "model_id": "5e62bb3e794f43439cd6fb41bea3f716",
       "version_major": 2,
       "version_minor": 0
      },
      "text/plain": [
       "  0%|          | 0/1 [00:00<?, ?it/s]"
      ]
     },
     "metadata": {},
     "output_type": "display_data"
    },
    {
     "name": "stderr",
     "output_type": "stream",
     "text": [
      "                                                 \r"
     ]
    },
    {
     "data": {
      "application/vnd.jupyter.widget-view+json": {
       "model_id": "30c2605cc53342abad6ad372a1fd9fcf",
       "version_major": 2,
       "version_minor": 0
      },
      "text/plain": [
       "  0%|          | 0/1 [00:00<?, ?it/s]"
      ]
     },
     "metadata": {},
     "output_type": "display_data"
    },
    {
     "name": "stderr",
     "output_type": "stream",
     "text": [
      "                                                 \r"
     ]
    },
    {
     "data": {
      "application/vnd.jupyter.widget-view+json": {
       "model_id": "c8617961ede44f12b9c487c5e0974dde",
       "version_major": 2,
       "version_minor": 0
      },
      "text/plain": [
       "  0%|          | 0/1 [00:00<?, ?it/s]"
      ]
     },
     "metadata": {},
     "output_type": "display_data"
    },
    {
     "name": "stderr",
     "output_type": "stream",
     "text": [
      "                                                 \r"
     ]
    },
    {
     "data": {
      "application/vnd.jupyter.widget-view+json": {
       "model_id": "9a6ceb27d29441ccb3f3de8e5094f5ad",
       "version_major": 2,
       "version_minor": 0
      },
      "text/plain": [
       "  0%|          | 0/1 [00:00<?, ?it/s]"
      ]
     },
     "metadata": {},
     "output_type": "display_data"
    },
    {
     "name": "stderr",
     "output_type": "stream",
     "text": [
      "                                                 \r"
     ]
    },
    {
     "data": {
      "application/vnd.jupyter.widget-view+json": {
       "model_id": "c75c798191db4052ad1d90a9dc055b41",
       "version_major": 2,
       "version_minor": 0
      },
      "text/plain": [
       "  0%|          | 0/1 [00:00<?, ?it/s]"
      ]
     },
     "metadata": {},
     "output_type": "display_data"
    },
    {
     "name": "stderr",
     "output_type": "stream",
     "text": [
      "                                                 \r"
     ]
    },
    {
     "data": {
      "application/vnd.jupyter.widget-view+json": {
       "model_id": "8774f00ba4fa40dc9a976b8059535672",
       "version_major": 2,
       "version_minor": 0
      },
      "text/plain": [
       "  0%|          | 0/1 [00:00<?, ?it/s]"
      ]
     },
     "metadata": {},
     "output_type": "display_data"
    },
    {
     "name": "stderr",
     "output_type": "stream",
     "text": [
      "                                                 \r"
     ]
    },
    {
     "data": {
      "application/vnd.jupyter.widget-view+json": {
       "model_id": "201f7806fe7040e7b1f82a5a25a3c23a",
       "version_major": 2,
       "version_minor": 0
      },
      "text/plain": [
       "  0%|          | 0/1 [00:00<?, ?it/s]"
      ]
     },
     "metadata": {},
     "output_type": "display_data"
    },
    {
     "name": "stderr",
     "output_type": "stream",
     "text": [
      "                                                 \r"
     ]
    },
    {
     "data": {
      "application/vnd.jupyter.widget-view+json": {
       "model_id": "6a87414627be4b55a98bfbc95029994f",
       "version_major": 2,
       "version_minor": 0
      },
      "text/plain": [
       "  0%|          | 0/1 [00:00<?, ?it/s]"
      ]
     },
     "metadata": {},
     "output_type": "display_data"
    },
    {
     "name": "stderr",
     "output_type": "stream",
     "text": [
      "                                                 \r"
     ]
    },
    {
     "data": {
      "application/vnd.jupyter.widget-view+json": {
       "model_id": "0efd3eefb56549eabddaaab5213f8630",
       "version_major": 2,
       "version_minor": 0
      },
      "text/plain": [
       "  0%|          | 0/1 [00:00<?, ?it/s]"
      ]
     },
     "metadata": {},
     "output_type": "display_data"
    },
    {
     "name": "stderr",
     "output_type": "stream",
     "text": [
      "                                                 \r"
     ]
    },
    {
     "data": {
      "application/vnd.jupyter.widget-view+json": {
       "model_id": "231cea4e61a446efac1b07722f405ea0",
       "version_major": 2,
       "version_minor": 0
      },
      "text/plain": [
       "  0%|          | 0/1 [00:00<?, ?it/s]"
      ]
     },
     "metadata": {},
     "output_type": "display_data"
    },
    {
     "name": "stderr",
     "output_type": "stream",
     "text": [
      "                                                 \r"
     ]
    },
    {
     "data": {
      "application/vnd.jupyter.widget-view+json": {
       "model_id": "607fef689b964f39b277c853a6167941",
       "version_major": 2,
       "version_minor": 0
      },
      "text/plain": [
       "  0%|          | 0/1 [00:00<?, ?it/s]"
      ]
     },
     "metadata": {},
     "output_type": "display_data"
    },
    {
     "name": "stderr",
     "output_type": "stream",
     "text": [
      "                                                 \r"
     ]
    },
    {
     "data": {
      "application/vnd.jupyter.widget-view+json": {
       "model_id": "22a6c5a92c2c4395a89a48ea9d8d5593",
       "version_major": 2,
       "version_minor": 0
      },
      "text/plain": [
       "  0%|          | 0/1 [00:00<?, ?it/s]"
      ]
     },
     "metadata": {},
     "output_type": "display_data"
    },
    {
     "name": "stderr",
     "output_type": "stream",
     "text": [
      "                                                 \r"
     ]
    },
    {
     "data": {
      "application/vnd.jupyter.widget-view+json": {
       "model_id": "567b3ffb94ad4c11888e104ae9d97b53",
       "version_major": 2,
       "version_minor": 0
      },
      "text/plain": [
       "  0%|          | 0/1 [00:00<?, ?it/s]"
      ]
     },
     "metadata": {},
     "output_type": "display_data"
    },
    {
     "name": "stderr",
     "output_type": "stream",
     "text": [
      "                                                 \r"
     ]
    },
    {
     "data": {
      "application/vnd.jupyter.widget-view+json": {
       "model_id": "644baf13f5eb44cb8d3f811e2bd927de",
       "version_major": 2,
       "version_minor": 0
      },
      "text/plain": [
       "  0%|          | 0/1 [00:00<?, ?it/s]"
      ]
     },
     "metadata": {},
     "output_type": "display_data"
    },
    {
     "name": "stderr",
     "output_type": "stream",
     "text": [
      "                                                 \r"
     ]
    },
    {
     "data": {
      "application/vnd.jupyter.widget-view+json": {
       "model_id": "97f079fa0df14663932e8515522790e6",
       "version_major": 2,
       "version_minor": 0
      },
      "text/plain": [
       "  0%|          | 0/1 [00:00<?, ?it/s]"
      ]
     },
     "metadata": {},
     "output_type": "display_data"
    },
    {
     "name": "stderr",
     "output_type": "stream",
     "text": [
      "                                                 \r"
     ]
    },
    {
     "data": {
      "application/vnd.jupyter.widget-view+json": {
       "model_id": "c585606d3a1f4e95899e609f4fb8e1e3",
       "version_major": 2,
       "version_minor": 0
      },
      "text/plain": [
       "  0%|          | 0/1 [00:00<?, ?it/s]"
      ]
     },
     "metadata": {},
     "output_type": "display_data"
    },
    {
     "name": "stderr",
     "output_type": "stream",
     "text": [
      "                                                 \r"
     ]
    },
    {
     "data": {
      "application/vnd.jupyter.widget-view+json": {
       "model_id": "8ad3410ddac848e39bb9dcdde8455ceb",
       "version_major": 2,
       "version_minor": 0
      },
      "text/plain": [
       "  0%|          | 0/1 [00:00<?, ?it/s]"
      ]
     },
     "metadata": {},
     "output_type": "display_data"
    },
    {
     "name": "stderr",
     "output_type": "stream",
     "text": [
      "                                                 \r"
     ]
    },
    {
     "data": {
      "application/vnd.jupyter.widget-view+json": {
       "model_id": "c2239c47420c4c009c157c6cd1f5cbd2",
       "version_major": 2,
       "version_minor": 0
      },
      "text/plain": [
       "  0%|          | 0/1 [00:00<?, ?it/s]"
      ]
     },
     "metadata": {},
     "output_type": "display_data"
    },
    {
     "name": "stderr",
     "output_type": "stream",
     "text": [
      "                                                 \r"
     ]
    },
    {
     "data": {
      "application/vnd.jupyter.widget-view+json": {
       "model_id": "3211805980b842cdb67904be5d8a1ad7",
       "version_major": 2,
       "version_minor": 0
      },
      "text/plain": [
       "  0%|          | 0/1 [00:00<?, ?it/s]"
      ]
     },
     "metadata": {},
     "output_type": "display_data"
    },
    {
     "name": "stderr",
     "output_type": "stream",
     "text": [
      "                                                 \r"
     ]
    },
    {
     "data": {
      "application/vnd.jupyter.widget-view+json": {
       "model_id": "636d09bdb3d14efb8e06abfa6e71c7ac",
       "version_major": 2,
       "version_minor": 0
      },
      "text/plain": [
       "  0%|          | 0/1 [00:00<?, ?it/s]"
      ]
     },
     "metadata": {},
     "output_type": "display_data"
    },
    {
     "name": "stderr",
     "output_type": "stream",
     "text": [
      "                                                 \r"
     ]
    },
    {
     "data": {
      "application/vnd.jupyter.widget-view+json": {
       "model_id": "f10b82854caf49fa9f9d131907e34f73",
       "version_major": 2,
       "version_minor": 0
      },
      "text/plain": [
       "  0%|          | 0/1 [00:00<?, ?it/s]"
      ]
     },
     "metadata": {},
     "output_type": "display_data"
    },
    {
     "name": "stderr",
     "output_type": "stream",
     "text": [
      "                                                 \r"
     ]
    },
    {
     "data": {
      "application/vnd.jupyter.widget-view+json": {
       "model_id": "0b9fb33674334351bfded51a136b36f8",
       "version_major": 2,
       "version_minor": 0
      },
      "text/plain": [
       "  0%|          | 0/1 [00:00<?, ?it/s]"
      ]
     },
     "metadata": {},
     "output_type": "display_data"
    },
    {
     "name": "stderr",
     "output_type": "stream",
     "text": [
      "                                                 \r"
     ]
    },
    {
     "data": {
      "application/vnd.jupyter.widget-view+json": {
       "model_id": "fc6125738a4549699f5b74a9ae392b24",
       "version_major": 2,
       "version_minor": 0
      },
      "text/plain": [
       "  0%|          | 0/1 [00:00<?, ?it/s]"
      ]
     },
     "metadata": {},
     "output_type": "display_data"
    },
    {
     "name": "stderr",
     "output_type": "stream",
     "text": [
      "                                                 \r"
     ]
    },
    {
     "data": {
      "application/vnd.jupyter.widget-view+json": {
       "model_id": "43f29609bce447518c8c485418d57b52",
       "version_major": 2,
       "version_minor": 0
      },
      "text/plain": [
       "  0%|          | 0/1 [00:00<?, ?it/s]"
      ]
     },
     "metadata": {},
     "output_type": "display_data"
    },
    {
     "name": "stderr",
     "output_type": "stream",
     "text": [
      "                                                 \r"
     ]
    },
    {
     "data": {
      "application/vnd.jupyter.widget-view+json": {
       "model_id": "a0e6c91ccd5f49cd84209bcfcb2c1494",
       "version_major": 2,
       "version_minor": 0
      },
      "text/plain": [
       "  0%|          | 0/1 [00:00<?, ?it/s]"
      ]
     },
     "metadata": {},
     "output_type": "display_data"
    },
    {
     "name": "stderr",
     "output_type": "stream",
     "text": [
      "                                                 \r"
     ]
    },
    {
     "data": {
      "application/vnd.jupyter.widget-view+json": {
       "model_id": "340abbb043b0445684762943998b3735",
       "version_major": 2,
       "version_minor": 0
      },
      "text/plain": [
       "  0%|          | 0/1 [00:00<?, ?it/s]"
      ]
     },
     "metadata": {},
     "output_type": "display_data"
    },
    {
     "name": "stderr",
     "output_type": "stream",
     "text": [
      "                                                 \r"
     ]
    },
    {
     "data": {
      "application/vnd.jupyter.widget-view+json": {
       "model_id": "d362d4763c9146e1a75a51802c835ea1",
       "version_major": 2,
       "version_minor": 0
      },
      "text/plain": [
       "  0%|          | 0/1 [00:00<?, ?it/s]"
      ]
     },
     "metadata": {},
     "output_type": "display_data"
    },
    {
     "name": "stderr",
     "output_type": "stream",
     "text": [
      "                                                 \r"
     ]
    },
    {
     "data": {
      "application/vnd.jupyter.widget-view+json": {
       "model_id": "b334b9bd38da4a45a5457688a3b2c14a",
       "version_major": 2,
       "version_minor": 0
      },
      "text/plain": [
       "  0%|          | 0/1 [00:00<?, ?it/s]"
      ]
     },
     "metadata": {},
     "output_type": "display_data"
    },
    {
     "name": "stderr",
     "output_type": "stream",
     "text": [
      "                                                 \r"
     ]
    },
    {
     "data": {
      "application/vnd.jupyter.widget-view+json": {
       "model_id": "6be8d7b9fed2470497c25323f3cb5067",
       "version_major": 2,
       "version_minor": 0
      },
      "text/plain": [
       "  0%|          | 0/1 [00:00<?, ?it/s]"
      ]
     },
     "metadata": {},
     "output_type": "display_data"
    },
    {
     "name": "stderr",
     "output_type": "stream",
     "text": [
      "                                                 \r"
     ]
    },
    {
     "data": {
      "application/vnd.jupyter.widget-view+json": {
       "model_id": "dd41687d08bb41179cff1b7c12513d08",
       "version_major": 2,
       "version_minor": 0
      },
      "text/plain": [
       "  0%|          | 0/1 [00:00<?, ?it/s]"
      ]
     },
     "metadata": {},
     "output_type": "display_data"
    },
    {
     "name": "stderr",
     "output_type": "stream",
     "text": [
      "                                                 \r"
     ]
    },
    {
     "data": {
      "application/vnd.jupyter.widget-view+json": {
       "model_id": "b83b90414c9444708e8839e34d2f48c6",
       "version_major": 2,
       "version_minor": 0
      },
      "text/plain": [
       "  0%|          | 0/1 [00:00<?, ?it/s]"
      ]
     },
     "metadata": {},
     "output_type": "display_data"
    },
    {
     "name": "stderr",
     "output_type": "stream",
     "text": [
      "                                                 \r"
     ]
    },
    {
     "data": {
      "application/vnd.jupyter.widget-view+json": {
       "model_id": "9dd0b983cb4844939dc234c50d84f382",
       "version_major": 2,
       "version_minor": 0
      },
      "text/plain": [
       "  0%|          | 0/1 [00:00<?, ?it/s]"
      ]
     },
     "metadata": {},
     "output_type": "display_data"
    },
    {
     "name": "stderr",
     "output_type": "stream",
     "text": [
      "                                                  \r"
     ]
    },
    {
     "data": {
      "application/vnd.jupyter.widget-view+json": {
       "model_id": "3c1bf8089c27442cb2071adcaba1f7e9",
       "version_major": 2,
       "version_minor": 0
      },
      "text/plain": [
       "  0%|          | 0/1 [00:00<?, ?it/s]"
      ]
     },
     "metadata": {},
     "output_type": "display_data"
    },
    {
     "name": "stderr",
     "output_type": "stream",
     "text": [
      "                                                 \r"
     ]
    },
    {
     "data": {
      "application/vnd.jupyter.widget-view+json": {
       "model_id": "5de5e12e3f6c409aaf75a1a3e82a4d3b",
       "version_major": 2,
       "version_minor": 0
      },
      "text/plain": [
       "  0%|          | 0/1 [00:00<?, ?it/s]"
      ]
     },
     "metadata": {},
     "output_type": "display_data"
    },
    {
     "name": "stderr",
     "output_type": "stream",
     "text": [
      "                                                 \r"
     ]
    },
    {
     "data": {
      "application/vnd.jupyter.widget-view+json": {
       "model_id": "140bb45af04d4848808389a357bd5c3b",
       "version_major": 2,
       "version_minor": 0
      },
      "text/plain": [
       "  0%|          | 0/1 [00:00<?, ?it/s]"
      ]
     },
     "metadata": {},
     "output_type": "display_data"
    },
    {
     "name": "stderr",
     "output_type": "stream",
     "text": [
      "                                                 \r"
     ]
    },
    {
     "data": {
      "application/vnd.jupyter.widget-view+json": {
       "model_id": "aa91894d04cb4f1d906a0dda8359b3ad",
       "version_major": 2,
       "version_minor": 0
      },
      "text/plain": [
       "  0%|          | 0/1 [00:00<?, ?it/s]"
      ]
     },
     "metadata": {},
     "output_type": "display_data"
    },
    {
     "name": "stderr",
     "output_type": "stream",
     "text": [
      "                                                 \r"
     ]
    },
    {
     "data": {
      "application/vnd.jupyter.widget-view+json": {
       "model_id": "ee1e7ab1c7734cbfb93c2ae28e52fea6",
       "version_major": 2,
       "version_minor": 0
      },
      "text/plain": [
       "  0%|          | 0/1 [00:00<?, ?it/s]"
      ]
     },
     "metadata": {},
     "output_type": "display_data"
    },
    {
     "name": "stderr",
     "output_type": "stream",
     "text": [
      "                                                 \r"
     ]
    },
    {
     "data": {
      "application/vnd.jupyter.widget-view+json": {
       "model_id": "1594d697cdbd4655b23855ff9f29b087",
       "version_major": 2,
       "version_minor": 0
      },
      "text/plain": [
       "  0%|          | 0/1 [00:00<?, ?it/s]"
      ]
     },
     "metadata": {},
     "output_type": "display_data"
    },
    {
     "name": "stderr",
     "output_type": "stream",
     "text": [
      "                                                 \r"
     ]
    },
    {
     "data": {
      "application/vnd.jupyter.widget-view+json": {
       "model_id": "70bc2a7b8e3745e8ba02ef41754cbaad",
       "version_major": 2,
       "version_minor": 0
      },
      "text/plain": [
       "  0%|          | 0/1 [00:00<?, ?it/s]"
      ]
     },
     "metadata": {},
     "output_type": "display_data"
    },
    {
     "name": "stderr",
     "output_type": "stream",
     "text": [
      "                                                 \r"
     ]
    },
    {
     "data": {
      "application/vnd.jupyter.widget-view+json": {
       "model_id": "55dbaf628b5a42cc9e87ba8dff06c127",
       "version_major": 2,
       "version_minor": 0
      },
      "text/plain": [
       "  0%|          | 0/1 [00:00<?, ?it/s]"
      ]
     },
     "metadata": {},
     "output_type": "display_data"
    },
    {
     "name": "stderr",
     "output_type": "stream",
     "text": [
      "                                                 \r"
     ]
    },
    {
     "data": {
      "application/vnd.jupyter.widget-view+json": {
       "model_id": "9f24ec65b4d0477d9274b55929485d71",
       "version_major": 2,
       "version_minor": 0
      },
      "text/plain": [
       "  0%|          | 0/1 [00:00<?, ?it/s]"
      ]
     },
     "metadata": {},
     "output_type": "display_data"
    },
    {
     "name": "stderr",
     "output_type": "stream",
     "text": [
      "                                                 \r"
     ]
    },
    {
     "data": {
      "application/vnd.jupyter.widget-view+json": {
       "model_id": "13051cc320aa452a959b8256fd84ad58",
       "version_major": 2,
       "version_minor": 0
      },
      "text/plain": [
       "  0%|          | 0/1 [00:00<?, ?it/s]"
      ]
     },
     "metadata": {},
     "output_type": "display_data"
    },
    {
     "name": "stderr",
     "output_type": "stream",
     "text": [
      "                                                 \r"
     ]
    },
    {
     "data": {
      "application/vnd.jupyter.widget-view+json": {
       "model_id": "2d444628289140509b49724b8ea17b7e",
       "version_major": 2,
       "version_minor": 0
      },
      "text/plain": [
       "  0%|          | 0/1 [00:00<?, ?it/s]"
      ]
     },
     "metadata": {},
     "output_type": "display_data"
    },
    {
     "name": "stderr",
     "output_type": "stream",
     "text": [
      "                                                 \r"
     ]
    },
    {
     "data": {
      "application/vnd.jupyter.widget-view+json": {
       "model_id": "227227f4e9fa46399529bfb8efd64068",
       "version_major": 2,
       "version_minor": 0
      },
      "text/plain": [
       "  0%|          | 0/1 [00:00<?, ?it/s]"
      ]
     },
     "metadata": {},
     "output_type": "display_data"
    },
    {
     "name": "stderr",
     "output_type": "stream",
     "text": [
      "                                                 \r"
     ]
    },
    {
     "data": {
      "application/vnd.jupyter.widget-view+json": {
       "model_id": "e172f625491142738583455bdb97514c",
       "version_major": 2,
       "version_minor": 0
      },
      "text/plain": [
       "  0%|          | 0/1 [00:00<?, ?it/s]"
      ]
     },
     "metadata": {},
     "output_type": "display_data"
    },
    {
     "name": "stderr",
     "output_type": "stream",
     "text": [
      "                                                 \r"
     ]
    },
    {
     "data": {
      "application/vnd.jupyter.widget-view+json": {
       "model_id": "89ff5db867cb47b8b926f1306100be7b",
       "version_major": 2,
       "version_minor": 0
      },
      "text/plain": [
       "  0%|          | 0/1 [00:00<?, ?it/s]"
      ]
     },
     "metadata": {},
     "output_type": "display_data"
    },
    {
     "name": "stderr",
     "output_type": "stream",
     "text": [
      "                                                 \r"
     ]
    },
    {
     "data": {
      "application/vnd.jupyter.widget-view+json": {
       "model_id": "540f01acf79b4d2e9c9217079f8792ae",
       "version_major": 2,
       "version_minor": 0
      },
      "text/plain": [
       "  0%|          | 0/1 [00:00<?, ?it/s]"
      ]
     },
     "metadata": {},
     "output_type": "display_data"
    },
    {
     "name": "stderr",
     "output_type": "stream",
     "text": [
      "                                                 \r"
     ]
    },
    {
     "data": {
      "application/vnd.jupyter.widget-view+json": {
       "model_id": "25b6212958ef487b9478506d1e9a4d19",
       "version_major": 2,
       "version_minor": 0
      },
      "text/plain": [
       "  0%|          | 0/1 [00:00<?, ?it/s]"
      ]
     },
     "metadata": {},
     "output_type": "display_data"
    },
    {
     "name": "stderr",
     "output_type": "stream",
     "text": [
      "                                                 \r"
     ]
    },
    {
     "data": {
      "application/vnd.jupyter.widget-view+json": {
       "model_id": "3869360ea4e84a3399068c161caff2a6",
       "version_major": 2,
       "version_minor": 0
      },
      "text/plain": [
       "  0%|          | 0/1 [00:00<?, ?it/s]"
      ]
     },
     "metadata": {},
     "output_type": "display_data"
    },
    {
     "name": "stderr",
     "output_type": "stream",
     "text": [
      "                                                 \r"
     ]
    },
    {
     "data": {
      "application/vnd.jupyter.widget-view+json": {
       "model_id": "13591a5e42c04109a20c562b5f13f3e6",
       "version_major": 2,
       "version_minor": 0
      },
      "text/plain": [
       "  0%|          | 0/1 [00:00<?, ?it/s]"
      ]
     },
     "metadata": {},
     "output_type": "display_data"
    },
    {
     "name": "stderr",
     "output_type": "stream",
     "text": [
      "                                                 \r"
     ]
    },
    {
     "data": {
      "application/vnd.jupyter.widget-view+json": {
       "model_id": "7a6f8440355647ebb96012d610dcdaa5",
       "version_major": 2,
       "version_minor": 0
      },
      "text/plain": [
       "  0%|          | 0/1 [00:00<?, ?it/s]"
      ]
     },
     "metadata": {},
     "output_type": "display_data"
    },
    {
     "name": "stderr",
     "output_type": "stream",
     "text": [
      "                                                 \r"
     ]
    },
    {
     "data": {
      "application/vnd.jupyter.widget-view+json": {
       "model_id": "a7cd27874d654646bb600ec24c06ee83",
       "version_major": 2,
       "version_minor": 0
      },
      "text/plain": [
       "  0%|          | 0/1 [00:00<?, ?it/s]"
      ]
     },
     "metadata": {},
     "output_type": "display_data"
    },
    {
     "name": "stderr",
     "output_type": "stream",
     "text": [
      "                                                 \r"
     ]
    },
    {
     "data": {
      "application/vnd.jupyter.widget-view+json": {
       "model_id": "63b8d390092d460ca3739f6d091974da",
       "version_major": 2,
       "version_minor": 0
      },
      "text/plain": [
       "  0%|          | 0/1 [00:00<?, ?it/s]"
      ]
     },
     "metadata": {},
     "output_type": "display_data"
    },
    {
     "name": "stderr",
     "output_type": "stream",
     "text": [
      "                                                 \r"
     ]
    },
    {
     "data": {
      "application/vnd.jupyter.widget-view+json": {
       "model_id": "3bcfe6c6246f4ddaa8fba01c9809cc74",
       "version_major": 2,
       "version_minor": 0
      },
      "text/plain": [
       "  0%|          | 0/1 [00:00<?, ?it/s]"
      ]
     },
     "metadata": {},
     "output_type": "display_data"
    },
    {
     "name": "stderr",
     "output_type": "stream",
     "text": [
      "                                                 \r"
     ]
    },
    {
     "data": {
      "application/vnd.jupyter.widget-view+json": {
       "model_id": "7d5dd4bdb98c4d4fa06efe5af4e34815",
       "version_major": 2,
       "version_minor": 0
      },
      "text/plain": [
       "  0%|          | 0/1 [00:00<?, ?it/s]"
      ]
     },
     "metadata": {},
     "output_type": "display_data"
    },
    {
     "name": "stderr",
     "output_type": "stream",
     "text": [
      "                                                 \r"
     ]
    },
    {
     "data": {
      "application/vnd.jupyter.widget-view+json": {
       "model_id": "07957e4f591f4c4ea10ce8567ecc4f04",
       "version_major": 2,
       "version_minor": 0
      },
      "text/plain": [
       "  0%|          | 0/1 [00:00<?, ?it/s]"
      ]
     },
     "metadata": {},
     "output_type": "display_data"
    },
    {
     "name": "stderr",
     "output_type": "stream",
     "text": [
      "                                                 \r"
     ]
    },
    {
     "data": {
      "application/vnd.jupyter.widget-view+json": {
       "model_id": "3de36fcd16c1417cb95bde22622ec29b",
       "version_major": 2,
       "version_minor": 0
      },
      "text/plain": [
       "  0%|          | 0/1 [00:00<?, ?it/s]"
      ]
     },
     "metadata": {},
     "output_type": "display_data"
    },
    {
     "name": "stderr",
     "output_type": "stream",
     "text": [
      "                                                 \r"
     ]
    },
    {
     "data": {
      "application/vnd.jupyter.widget-view+json": {
       "model_id": "318f8e84dfac4af082866847f056894b",
       "version_major": 2,
       "version_minor": 0
      },
      "text/plain": [
       "  0%|          | 0/1 [00:00<?, ?it/s]"
      ]
     },
     "metadata": {},
     "output_type": "display_data"
    },
    {
     "name": "stderr",
     "output_type": "stream",
     "text": [
      "                                                 \r"
     ]
    },
    {
     "data": {
      "application/vnd.jupyter.widget-view+json": {
       "model_id": "ff6fafecd4d740bf961956eba2f330e0",
       "version_major": 2,
       "version_minor": 0
      },
      "text/plain": [
       "  0%|          | 0/1 [00:00<?, ?it/s]"
      ]
     },
     "metadata": {},
     "output_type": "display_data"
    },
    {
     "name": "stderr",
     "output_type": "stream",
     "text": [
      "                                                  \r"
     ]
    },
    {
     "data": {
      "application/vnd.jupyter.widget-view+json": {
       "model_id": "6aca57c323d249218c8615465bec85f4",
       "version_major": 2,
       "version_minor": 0
      },
      "text/plain": [
       "  0%|          | 0/1 [00:00<?, ?it/s]"
      ]
     },
     "metadata": {},
     "output_type": "display_data"
    },
    {
     "name": "stderr",
     "output_type": "stream",
     "text": [
      "                                                 \r"
     ]
    },
    {
     "data": {
      "application/vnd.jupyter.widget-view+json": {
       "model_id": "db4eb31b9c124bcba4b47be9f7bd7d37",
       "version_major": 2,
       "version_minor": 0
      },
      "text/plain": [
       "  0%|          | 0/1 [00:00<?, ?it/s]"
      ]
     },
     "metadata": {},
     "output_type": "display_data"
    },
    {
     "name": "stderr",
     "output_type": "stream",
     "text": [
      "                                                  \r"
     ]
    },
    {
     "data": {
      "application/vnd.jupyter.widget-view+json": {
       "model_id": "0d55891051b041ef9df68ee6ac75ab42",
       "version_major": 2,
       "version_minor": 0
      },
      "text/plain": [
       "  0%|          | 0/1 [00:00<?, ?it/s]"
      ]
     },
     "metadata": {},
     "output_type": "display_data"
    },
    {
     "name": "stderr",
     "output_type": "stream",
     "text": [
      "                                                 \r"
     ]
    },
    {
     "data": {
      "application/vnd.jupyter.widget-view+json": {
       "model_id": "7ec1377accc54317b3fe1056c02d0fa1",
       "version_major": 2,
       "version_minor": 0
      },
      "text/plain": [
       "  0%|          | 0/1 [00:00<?, ?it/s]"
      ]
     },
     "metadata": {},
     "output_type": "display_data"
    },
    {
     "name": "stderr",
     "output_type": "stream",
     "text": [
      "                                                 \r"
     ]
    },
    {
     "data": {
      "application/vnd.jupyter.widget-view+json": {
       "model_id": "1510d42a44584f11bc1ea4aaece56e33",
       "version_major": 2,
       "version_minor": 0
      },
      "text/plain": [
       "  0%|          | 0/1 [00:00<?, ?it/s]"
      ]
     },
     "metadata": {},
     "output_type": "display_data"
    },
    {
     "name": "stderr",
     "output_type": "stream",
     "text": [
      "                                                 \r"
     ]
    },
    {
     "data": {
      "application/vnd.jupyter.widget-view+json": {
       "model_id": "e4274d576e8448db9137b2638770ee30",
       "version_major": 2,
       "version_minor": 0
      },
      "text/plain": [
       "  0%|          | 0/1 [00:00<?, ?it/s]"
      ]
     },
     "metadata": {},
     "output_type": "display_data"
    },
    {
     "name": "stderr",
     "output_type": "stream",
     "text": [
      "                                                 \r"
     ]
    },
    {
     "data": {
      "application/vnd.jupyter.widget-view+json": {
       "model_id": "7614fdcc8c8f44e8b36f71ba5946717b",
       "version_major": 2,
       "version_minor": 0
      },
      "text/plain": [
       "  0%|          | 0/1 [00:00<?, ?it/s]"
      ]
     },
     "metadata": {},
     "output_type": "display_data"
    },
    {
     "name": "stderr",
     "output_type": "stream",
     "text": [
      "                                                 \r"
     ]
    },
    {
     "data": {
      "application/vnd.jupyter.widget-view+json": {
       "model_id": "c54157c0a6e24f1f82968be62e33cbd6",
       "version_major": 2,
       "version_minor": 0
      },
      "text/plain": [
       "  0%|          | 0/1 [00:00<?, ?it/s]"
      ]
     },
     "metadata": {},
     "output_type": "display_data"
    },
    {
     "name": "stderr",
     "output_type": "stream",
     "text": [
      "                                                 \r"
     ]
    },
    {
     "data": {
      "application/vnd.jupyter.widget-view+json": {
       "model_id": "703e3ebbc2d04ae3b1c9a7ebcdf09e8e",
       "version_major": 2,
       "version_minor": 0
      },
      "text/plain": [
       "  0%|          | 0/1 [00:00<?, ?it/s]"
      ]
     },
     "metadata": {},
     "output_type": "display_data"
    },
    {
     "name": "stderr",
     "output_type": "stream",
     "text": [
      "                                                 \r"
     ]
    },
    {
     "data": {
      "application/vnd.jupyter.widget-view+json": {
       "model_id": "1464c5245ea74cfd87baf17899420c0e",
       "version_major": 2,
       "version_minor": 0
      },
      "text/plain": [
       "  0%|          | 0/1 [00:00<?, ?it/s]"
      ]
     },
     "metadata": {},
     "output_type": "display_data"
    },
    {
     "name": "stderr",
     "output_type": "stream",
     "text": [
      "                                                 \r"
     ]
    },
    {
     "data": {
      "application/vnd.jupyter.widget-view+json": {
       "model_id": "3c5116367dde495798e969c3553ace07",
       "version_major": 2,
       "version_minor": 0
      },
      "text/plain": [
       "  0%|          | 0/1 [00:00<?, ?it/s]"
      ]
     },
     "metadata": {},
     "output_type": "display_data"
    },
    {
     "name": "stderr",
     "output_type": "stream",
     "text": [
      "                                                 \r"
     ]
    },
    {
     "data": {
      "application/vnd.jupyter.widget-view+json": {
       "model_id": "bf020a699004453f96805c3526dc4030",
       "version_major": 2,
       "version_minor": 0
      },
      "text/plain": [
       "  0%|          | 0/1 [00:00<?, ?it/s]"
      ]
     },
     "metadata": {},
     "output_type": "display_data"
    },
    {
     "name": "stderr",
     "output_type": "stream",
     "text": [
      "                                                 \r"
     ]
    },
    {
     "data": {
      "application/vnd.jupyter.widget-view+json": {
       "model_id": "657b9deb31d64cde8386cc2ae398ecae",
       "version_major": 2,
       "version_minor": 0
      },
      "text/plain": [
       "  0%|          | 0/1 [00:00<?, ?it/s]"
      ]
     },
     "metadata": {},
     "output_type": "display_data"
    },
    {
     "name": "stderr",
     "output_type": "stream",
     "text": [
      "                                                 \r"
     ]
    },
    {
     "data": {
      "application/vnd.jupyter.widget-view+json": {
       "model_id": "e27f9c57964548c3ad5b62c4d4183099",
       "version_major": 2,
       "version_minor": 0
      },
      "text/plain": [
       "  0%|          | 0/1 [00:00<?, ?it/s]"
      ]
     },
     "metadata": {},
     "output_type": "display_data"
    },
    {
     "name": "stderr",
     "output_type": "stream",
     "text": [
      "                                                   \r"
     ]
    },
    {
     "data": {
      "application/vnd.jupyter.widget-view+json": {
       "model_id": "742787a964044f46ade640bf5f96312e",
       "version_major": 2,
       "version_minor": 0
      },
      "text/plain": [
       "  0%|          | 0/5 [00:00<?, ?it/s]"
      ]
     },
     "metadata": {},
     "output_type": "display_data"
    },
    {
     "name": "stderr",
     "output_type": "stream",
     "text": [
      "                                                 \r"
     ]
    },
    {
     "data": {
      "application/vnd.jupyter.widget-view+json": {
       "model_id": "09e35ad5f15c4d90aaffaedf02399c2e",
       "version_major": 2,
       "version_minor": 0
      },
      "text/plain": [
       "  0%|          | 0/1 [00:00<?, ?it/s]"
      ]
     },
     "metadata": {},
     "output_type": "display_data"
    },
    {
     "name": "stderr",
     "output_type": "stream",
     "text": [
      "                                                  \r"
     ]
    },
    {
     "data": {
      "application/vnd.jupyter.widget-view+json": {
       "model_id": "493743b7f84447f389c1685e6daa9b01",
       "version_major": 2,
       "version_minor": 0
      },
      "text/plain": [
       "  0%|          | 0/1 [00:00<?, ?it/s]"
      ]
     },
     "metadata": {},
     "output_type": "display_data"
    },
    {
     "name": "stderr",
     "output_type": "stream",
     "text": [
      "                                                 \r"
     ]
    },
    {
     "data": {
      "application/vnd.jupyter.widget-view+json": {
       "model_id": "326a6a0e4d574368bfa6e02ca2926fba",
       "version_major": 2,
       "version_minor": 0
      },
      "text/plain": [
       "  0%|          | 0/1 [00:00<?, ?it/s]"
      ]
     },
     "metadata": {},
     "output_type": "display_data"
    },
    {
     "name": "stderr",
     "output_type": "stream",
     "text": [
      "                                                 \r"
     ]
    },
    {
     "data": {
      "application/vnd.jupyter.widget-view+json": {
       "model_id": "1bf9eb05d3bd40cc9e9b1d46caef7bc5",
       "version_major": 2,
       "version_minor": 0
      },
      "text/plain": [
       "  0%|          | 0/1 [00:00<?, ?it/s]"
      ]
     },
     "metadata": {},
     "output_type": "display_data"
    },
    {
     "name": "stderr",
     "output_type": "stream",
     "text": [
      "                                                 \r"
     ]
    },
    {
     "data": {
      "application/vnd.jupyter.widget-view+json": {
       "model_id": "b8b816bd7f0141f79de6e652979f0fb9",
       "version_major": 2,
       "version_minor": 0
      },
      "text/plain": [
       "  0%|          | 0/1 [00:00<?, ?it/s]"
      ]
     },
     "metadata": {},
     "output_type": "display_data"
    },
    {
     "name": "stderr",
     "output_type": "stream",
     "text": [
      "                                                 \r"
     ]
    },
    {
     "data": {
      "application/vnd.jupyter.widget-view+json": {
       "model_id": "ede2b29ebb1740ed8630cb65767206e2",
       "version_major": 2,
       "version_minor": 0
      },
      "text/plain": [
       "  0%|          | 0/1 [00:00<?, ?it/s]"
      ]
     },
     "metadata": {},
     "output_type": "display_data"
    },
    {
     "name": "stderr",
     "output_type": "stream",
     "text": [
      "                                                 \r"
     ]
    },
    {
     "data": {
      "application/vnd.jupyter.widget-view+json": {
       "model_id": "049b5dabd99b4e1fa2e05cdb81f5ffd3",
       "version_major": 2,
       "version_minor": 0
      },
      "text/plain": [
       "  0%|          | 0/1 [00:00<?, ?it/s]"
      ]
     },
     "metadata": {},
     "output_type": "display_data"
    },
    {
     "name": "stderr",
     "output_type": "stream",
     "text": [
      "                                                 \r"
     ]
    },
    {
     "data": {
      "application/vnd.jupyter.widget-view+json": {
       "model_id": "4075c16d74f34ee8b58b7ebe207bc304",
       "version_major": 2,
       "version_minor": 0
      },
      "text/plain": [
       "  0%|          | 0/1 [00:00<?, ?it/s]"
      ]
     },
     "metadata": {},
     "output_type": "display_data"
    },
    {
     "name": "stderr",
     "output_type": "stream",
     "text": [
      "                                                 \r"
     ]
    },
    {
     "data": {
      "application/vnd.jupyter.widget-view+json": {
       "model_id": "7dc10fcd6f3e4253a014456f3bbdd4b9",
       "version_major": 2,
       "version_minor": 0
      },
      "text/plain": [
       "  0%|          | 0/1 [00:00<?, ?it/s]"
      ]
     },
     "metadata": {},
     "output_type": "display_data"
    },
    {
     "name": "stderr",
     "output_type": "stream",
     "text": [
      "                                                 \r"
     ]
    },
    {
     "data": {
      "application/vnd.jupyter.widget-view+json": {
       "model_id": "c9f164502c2645e1b9904822c06e8402",
       "version_major": 2,
       "version_minor": 0
      },
      "text/plain": [
       "  0%|          | 0/1 [00:00<?, ?it/s]"
      ]
     },
     "metadata": {},
     "output_type": "display_data"
    },
    {
     "name": "stderr",
     "output_type": "stream",
     "text": [
      "                                                 \r"
     ]
    },
    {
     "data": {
      "application/vnd.jupyter.widget-view+json": {
       "model_id": "f21d9f2bfbfa4f589cd0aa87f504b6b4",
       "version_major": 2,
       "version_minor": 0
      },
      "text/plain": [
       "  0%|          | 0/1 [00:00<?, ?it/s]"
      ]
     },
     "metadata": {},
     "output_type": "display_data"
    },
    {
     "name": "stderr",
     "output_type": "stream",
     "text": [
      "                                                 \r"
     ]
    },
    {
     "data": {
      "application/vnd.jupyter.widget-view+json": {
       "model_id": "86382b86a89942e6929b1459bd5def8b",
       "version_major": 2,
       "version_minor": 0
      },
      "text/plain": [
       "  0%|          | 0/1 [00:00<?, ?it/s]"
      ]
     },
     "metadata": {},
     "output_type": "display_data"
    },
    {
     "name": "stderr",
     "output_type": "stream",
     "text": [
      "                                                 \r"
     ]
    },
    {
     "data": {
      "application/vnd.jupyter.widget-view+json": {
       "model_id": "14c948527083495d9df20b704e69b3cd",
       "version_major": 2,
       "version_minor": 0
      },
      "text/plain": [
       "  0%|          | 0/1 [00:00<?, ?it/s]"
      ]
     },
     "metadata": {},
     "output_type": "display_data"
    },
    {
     "name": "stderr",
     "output_type": "stream",
     "text": [
      "                                                 \r"
     ]
    },
    {
     "data": {
      "application/vnd.jupyter.widget-view+json": {
       "model_id": "b5064990826547c5b6680aab908073fe",
       "version_major": 2,
       "version_minor": 0
      },
      "text/plain": [
       "  0%|          | 0/1 [00:00<?, ?it/s]"
      ]
     },
     "metadata": {},
     "output_type": "display_data"
    },
    {
     "name": "stderr",
     "output_type": "stream",
     "text": [
      "                                                 \r"
     ]
    },
    {
     "data": {
      "application/vnd.jupyter.widget-view+json": {
       "model_id": "f5005c86ed5b4223ac07da7cf894fbf0",
       "version_major": 2,
       "version_minor": 0
      },
      "text/plain": [
       "  0%|          | 0/1 [00:00<?, ?it/s]"
      ]
     },
     "metadata": {},
     "output_type": "display_data"
    },
    {
     "name": "stderr",
     "output_type": "stream",
     "text": [
      "                                                 \r"
     ]
    },
    {
     "data": {
      "application/vnd.jupyter.widget-view+json": {
       "model_id": "82e7bb8dde25490fbcde394003a08cf9",
       "version_major": 2,
       "version_minor": 0
      },
      "text/plain": [
       "  0%|          | 0/1 [00:00<?, ?it/s]"
      ]
     },
     "metadata": {},
     "output_type": "display_data"
    },
    {
     "name": "stderr",
     "output_type": "stream",
     "text": [
      "                                                 \r"
     ]
    },
    {
     "data": {
      "application/vnd.jupyter.widget-view+json": {
       "model_id": "617e89e831aa4700ba7d39d6276f6b9a",
       "version_major": 2,
       "version_minor": 0
      },
      "text/plain": [
       "  0%|          | 0/1 [00:00<?, ?it/s]"
      ]
     },
     "metadata": {},
     "output_type": "display_data"
    },
    {
     "name": "stderr",
     "output_type": "stream",
     "text": [
      "                                                  \r"
     ]
    },
    {
     "data": {
      "application/vnd.jupyter.widget-view+json": {
       "model_id": "ccc8e2052a4e46d794a1027086e83cb0",
       "version_major": 2,
       "version_minor": 0
      },
      "text/plain": [
       "  0%|          | 0/1 [00:00<?, ?it/s]"
      ]
     },
     "metadata": {},
     "output_type": "display_data"
    },
    {
     "name": "stderr",
     "output_type": "stream",
     "text": [
      "                                                 \r"
     ]
    },
    {
     "data": {
      "application/vnd.jupyter.widget-view+json": {
       "model_id": "5164e7ca02304dd49200862583cbaecb",
       "version_major": 2,
       "version_minor": 0
      },
      "text/plain": [
       "  0%|          | 0/1 [00:00<?, ?it/s]"
      ]
     },
     "metadata": {},
     "output_type": "display_data"
    },
    {
     "name": "stderr",
     "output_type": "stream",
     "text": [
      "                                                  \r"
     ]
    },
    {
     "data": {
      "application/vnd.jupyter.widget-view+json": {
       "model_id": "56b2c2fc5c2e41859a797052445d872e",
       "version_major": 2,
       "version_minor": 0
      },
      "text/plain": [
       "  0%|          | 0/1 [00:00<?, ?it/s]"
      ]
     },
     "metadata": {},
     "output_type": "display_data"
    },
    {
     "name": "stderr",
     "output_type": "stream",
     "text": [
      "                                                  \r"
     ]
    },
    {
     "data": {
      "application/vnd.jupyter.widget-view+json": {
       "model_id": "c3df7384b8d643028d6cb914bccb893e",
       "version_major": 2,
       "version_minor": 0
      },
      "text/plain": [
       "  0%|          | 0/1 [00:00<?, ?it/s]"
      ]
     },
     "metadata": {},
     "output_type": "display_data"
    },
    {
     "name": "stderr",
     "output_type": "stream",
     "text": [
      "                                                 \r"
     ]
    },
    {
     "data": {
      "application/vnd.jupyter.widget-view+json": {
       "model_id": "94a947cc1e454cb2814d9931f3422681",
       "version_major": 2,
       "version_minor": 0
      },
      "text/plain": [
       "  0%|          | 0/1 [00:00<?, ?it/s]"
      ]
     },
     "metadata": {},
     "output_type": "display_data"
    },
    {
     "name": "stderr",
     "output_type": "stream",
     "text": [
      "                                                 \r"
     ]
    },
    {
     "data": {
      "application/vnd.jupyter.widget-view+json": {
       "model_id": "170c209606a044a097d378a81eda8e3f",
       "version_major": 2,
       "version_minor": 0
      },
      "text/plain": [
       "  0%|          | 0/1 [00:00<?, ?it/s]"
      ]
     },
     "metadata": {},
     "output_type": "display_data"
    },
    {
     "name": "stderr",
     "output_type": "stream",
     "text": [
      "                                                 \r"
     ]
    },
    {
     "data": {
      "application/vnd.jupyter.widget-view+json": {
       "model_id": "84cbf5c7a6f84bc3b56ffb7cfba702db",
       "version_major": 2,
       "version_minor": 0
      },
      "text/plain": [
       "  0%|          | 0/1 [00:00<?, ?it/s]"
      ]
     },
     "metadata": {},
     "output_type": "display_data"
    },
    {
     "name": "stderr",
     "output_type": "stream",
     "text": [
      "                                                 \r"
     ]
    },
    {
     "data": {
      "application/vnd.jupyter.widget-view+json": {
       "model_id": "88f4c9d408774d81a4159114762b7a0d",
       "version_major": 2,
       "version_minor": 0
      },
      "text/plain": [
       "  0%|          | 0/1 [00:00<?, ?it/s]"
      ]
     },
     "metadata": {},
     "output_type": "display_data"
    },
    {
     "name": "stderr",
     "output_type": "stream",
     "text": [
      "                                                 \r"
     ]
    },
    {
     "data": {
      "application/vnd.jupyter.widget-view+json": {
       "model_id": "01cf4307bd854175a10db017656a51d9",
       "version_major": 2,
       "version_minor": 0
      },
      "text/plain": [
       "  0%|          | 0/1 [00:00<?, ?it/s]"
      ]
     },
     "metadata": {},
     "output_type": "display_data"
    },
    {
     "name": "stderr",
     "output_type": "stream",
     "text": [
      "                                                 \r"
     ]
    },
    {
     "data": {
      "application/vnd.jupyter.widget-view+json": {
       "model_id": "ed7001c5abd041309abdcd7d8deeecab",
       "version_major": 2,
       "version_minor": 0
      },
      "text/plain": [
       "  0%|          | 0/1 [00:00<?, ?it/s]"
      ]
     },
     "metadata": {},
     "output_type": "display_data"
    },
    {
     "name": "stderr",
     "output_type": "stream",
     "text": [
      "                                                 \r"
     ]
    },
    {
     "data": {
      "application/vnd.jupyter.widget-view+json": {
       "model_id": "b2cbaf256b86420b8e3014a7c392fb8d",
       "version_major": 2,
       "version_minor": 0
      },
      "text/plain": [
       "  0%|          | 0/1 [00:00<?, ?it/s]"
      ]
     },
     "metadata": {},
     "output_type": "display_data"
    },
    {
     "name": "stderr",
     "output_type": "stream",
     "text": [
      "                                                 \r"
     ]
    },
    {
     "data": {
      "application/vnd.jupyter.widget-view+json": {
       "model_id": "c0b4b4f8c818495e8bf5990e165b684a",
       "version_major": 2,
       "version_minor": 0
      },
      "text/plain": [
       "  0%|          | 0/1 [00:00<?, ?it/s]"
      ]
     },
     "metadata": {},
     "output_type": "display_data"
    },
    {
     "name": "stderr",
     "output_type": "stream",
     "text": [
      "                                                 \r"
     ]
    },
    {
     "data": {
      "application/vnd.jupyter.widget-view+json": {
       "model_id": "2403f0b694c84e349d54b0ce365b8f8d",
       "version_major": 2,
       "version_minor": 0
      },
      "text/plain": [
       "  0%|          | 0/1 [00:00<?, ?it/s]"
      ]
     },
     "metadata": {},
     "output_type": "display_data"
    },
    {
     "name": "stderr",
     "output_type": "stream",
     "text": [
      "                                                 \r"
     ]
    },
    {
     "data": {
      "application/vnd.jupyter.widget-view+json": {
       "model_id": "6db31e3ada7f4393b20d4322481bc249",
       "version_major": 2,
       "version_minor": 0
      },
      "text/plain": [
       "  0%|          | 0/1 [00:00<?, ?it/s]"
      ]
     },
     "metadata": {},
     "output_type": "display_data"
    },
    {
     "name": "stderr",
     "output_type": "stream",
     "text": [
      "                                                 \r"
     ]
    },
    {
     "data": {
      "application/vnd.jupyter.widget-view+json": {
       "model_id": "ca8a49ee906d4b16993aaa75765a0756",
       "version_major": 2,
       "version_minor": 0
      },
      "text/plain": [
       "  0%|          | 0/1 [00:00<?, ?it/s]"
      ]
     },
     "metadata": {},
     "output_type": "display_data"
    },
    {
     "name": "stderr",
     "output_type": "stream",
     "text": [
      "                                                 \r"
     ]
    },
    {
     "data": {
      "application/vnd.jupyter.widget-view+json": {
       "model_id": "5405d86d55bb4c7ebb00d157ebe0b7b9",
       "version_major": 2,
       "version_minor": 0
      },
      "text/plain": [
       "  0%|          | 0/1 [00:00<?, ?it/s]"
      ]
     },
     "metadata": {},
     "output_type": "display_data"
    },
    {
     "name": "stderr",
     "output_type": "stream",
     "text": [
      "                                                 \r"
     ]
    },
    {
     "data": {
      "application/vnd.jupyter.widget-view+json": {
       "model_id": "71c1776de7e94d5ca659e10a21662729",
       "version_major": 2,
       "version_minor": 0
      },
      "text/plain": [
       "  0%|          | 0/1 [00:00<?, ?it/s]"
      ]
     },
     "metadata": {},
     "output_type": "display_data"
    },
    {
     "name": "stderr",
     "output_type": "stream",
     "text": [
      "                                                 \r"
     ]
    },
    {
     "data": {
      "application/vnd.jupyter.widget-view+json": {
       "model_id": "e642db41799048ad81b999068811b6df",
       "version_major": 2,
       "version_minor": 0
      },
      "text/plain": [
       "  0%|          | 0/1 [00:00<?, ?it/s]"
      ]
     },
     "metadata": {},
     "output_type": "display_data"
    },
    {
     "name": "stderr",
     "output_type": "stream",
     "text": [
      "                                                 \r"
     ]
    },
    {
     "data": {
      "application/vnd.jupyter.widget-view+json": {
       "model_id": "bba0ee33412c4f8694c50cdc83987e80",
       "version_major": 2,
       "version_minor": 0
      },
      "text/plain": [
       "  0%|          | 0/1 [00:00<?, ?it/s]"
      ]
     },
     "metadata": {},
     "output_type": "display_data"
    },
    {
     "name": "stderr",
     "output_type": "stream",
     "text": [
      "                                                 \r"
     ]
    },
    {
     "data": {
      "application/vnd.jupyter.widget-view+json": {
       "model_id": "06fb8acd552548d28a79bc05803eedf7",
       "version_major": 2,
       "version_minor": 0
      },
      "text/plain": [
       "  0%|          | 0/1 [00:00<?, ?it/s]"
      ]
     },
     "metadata": {},
     "output_type": "display_data"
    },
    {
     "name": "stderr",
     "output_type": "stream",
     "text": [
      "                                                 \r"
     ]
    },
    {
     "data": {
      "application/vnd.jupyter.widget-view+json": {
       "model_id": "56c6d37b4544402b89a82ed9dce9bf83",
       "version_major": 2,
       "version_minor": 0
      },
      "text/plain": [
       "  0%|          | 0/1 [00:00<?, ?it/s]"
      ]
     },
     "metadata": {},
     "output_type": "display_data"
    },
    {
     "name": "stderr",
     "output_type": "stream",
     "text": [
      "                                                 \r"
     ]
    },
    {
     "data": {
      "application/vnd.jupyter.widget-view+json": {
       "model_id": "22d6d0bff84e4668a1ffff0d30b572dd",
       "version_major": 2,
       "version_minor": 0
      },
      "text/plain": [
       "  0%|          | 0/1 [00:00<?, ?it/s]"
      ]
     },
     "metadata": {},
     "output_type": "display_data"
    },
    {
     "name": "stderr",
     "output_type": "stream",
     "text": [
      "                                                 \r"
     ]
    },
    {
     "data": {
      "application/vnd.jupyter.widget-view+json": {
       "model_id": "d393cae21c2b4bbe9797b3a79a4062c7",
       "version_major": 2,
       "version_minor": 0
      },
      "text/plain": [
       "  0%|          | 0/1 [00:00<?, ?it/s]"
      ]
     },
     "metadata": {},
     "output_type": "display_data"
    },
    {
     "name": "stderr",
     "output_type": "stream",
     "text": [
      "                                                 \r"
     ]
    },
    {
     "data": {
      "application/vnd.jupyter.widget-view+json": {
       "model_id": "8a9c0aabf0314723a70b5b67eed2c8ff",
       "version_major": 2,
       "version_minor": 0
      },
      "text/plain": [
       "  0%|          | 0/1 [00:00<?, ?it/s]"
      ]
     },
     "metadata": {},
     "output_type": "display_data"
    },
    {
     "name": "stderr",
     "output_type": "stream",
     "text": [
      "                                                 \r"
     ]
    },
    {
     "data": {
      "application/vnd.jupyter.widget-view+json": {
       "model_id": "c2fe24a0bc7a4533ab94926b1efaf5b9",
       "version_major": 2,
       "version_minor": 0
      },
      "text/plain": [
       "  0%|          | 0/1 [00:00<?, ?it/s]"
      ]
     },
     "metadata": {},
     "output_type": "display_data"
    },
    {
     "name": "stderr",
     "output_type": "stream",
     "text": [
      "                                                 \r"
     ]
    },
    {
     "data": {
      "application/vnd.jupyter.widget-view+json": {
       "model_id": "1c51d5c6007f4bb6a74453403bdfcd87",
       "version_major": 2,
       "version_minor": 0
      },
      "text/plain": [
       "  0%|          | 0/1 [00:00<?, ?it/s]"
      ]
     },
     "metadata": {},
     "output_type": "display_data"
    },
    {
     "name": "stderr",
     "output_type": "stream",
     "text": [
      "                                                 \r"
     ]
    },
    {
     "data": {
      "application/vnd.jupyter.widget-view+json": {
       "model_id": "7f0acbc2a3e24df58f8d86332f3aadb9",
       "version_major": 2,
       "version_minor": 0
      },
      "text/plain": [
       "  0%|          | 0/1 [00:00<?, ?it/s]"
      ]
     },
     "metadata": {},
     "output_type": "display_data"
    },
    {
     "name": "stderr",
     "output_type": "stream",
     "text": [
      "                                                 \r"
     ]
    },
    {
     "data": {
      "application/vnd.jupyter.widget-view+json": {
       "model_id": "fe061fd3d81d4f91b50dcd9f59ec27b2",
       "version_major": 2,
       "version_minor": 0
      },
      "text/plain": [
       "  0%|          | 0/1 [00:00<?, ?it/s]"
      ]
     },
     "metadata": {},
     "output_type": "display_data"
    },
    {
     "name": "stderr",
     "output_type": "stream",
     "text": [
      "                                                 \r"
     ]
    },
    {
     "data": {
      "application/vnd.jupyter.widget-view+json": {
       "model_id": "c78aaa298d784b5883f608ab23ac59fa",
       "version_major": 2,
       "version_minor": 0
      },
      "text/plain": [
       "  0%|          | 0/1 [00:00<?, ?it/s]"
      ]
     },
     "metadata": {},
     "output_type": "display_data"
    },
    {
     "name": "stderr",
     "output_type": "stream",
     "text": [
      "                                                 \r"
     ]
    },
    {
     "data": {
      "application/vnd.jupyter.widget-view+json": {
       "model_id": "5112390f8c554f6cad8fb5c912d5b00d",
       "version_major": 2,
       "version_minor": 0
      },
      "text/plain": [
       "  0%|          | 0/1 [00:00<?, ?it/s]"
      ]
     },
     "metadata": {},
     "output_type": "display_data"
    },
    {
     "name": "stderr",
     "output_type": "stream",
     "text": [
      "                                                 \r"
     ]
    },
    {
     "data": {
      "application/vnd.jupyter.widget-view+json": {
       "model_id": "cb9f8b31d0f54dd3a3329a17929eed7a",
       "version_major": 2,
       "version_minor": 0
      },
      "text/plain": [
       "  0%|          | 0/1 [00:00<?, ?it/s]"
      ]
     },
     "metadata": {},
     "output_type": "display_data"
    },
    {
     "name": "stderr",
     "output_type": "stream",
     "text": [
      "                                                 \r"
     ]
    },
    {
     "data": {
      "application/vnd.jupyter.widget-view+json": {
       "model_id": "c7f95b1ed59540819cb9c8ce54e6499b",
       "version_major": 2,
       "version_minor": 0
      },
      "text/plain": [
       "  0%|          | 0/1 [00:00<?, ?it/s]"
      ]
     },
     "metadata": {},
     "output_type": "display_data"
    },
    {
     "name": "stderr",
     "output_type": "stream",
     "text": [
      "                                                 \r"
     ]
    },
    {
     "data": {
      "application/vnd.jupyter.widget-view+json": {
       "model_id": "849c854cc2af4f109b23a782fa81cf02",
       "version_major": 2,
       "version_minor": 0
      },
      "text/plain": [
       "  0%|          | 0/1 [00:00<?, ?it/s]"
      ]
     },
     "metadata": {},
     "output_type": "display_data"
    },
    {
     "name": "stderr",
     "output_type": "stream",
     "text": [
      "                                                 \r"
     ]
    },
    {
     "data": {
      "application/vnd.jupyter.widget-view+json": {
       "model_id": "95ca0515443f466984a82665f1a2c71d",
       "version_major": 2,
       "version_minor": 0
      },
      "text/plain": [
       "  0%|          | 0/1 [00:00<?, ?it/s]"
      ]
     },
     "metadata": {},
     "output_type": "display_data"
    },
    {
     "name": "stderr",
     "output_type": "stream",
     "text": [
      "                                                 \r"
     ]
    },
    {
     "data": {
      "application/vnd.jupyter.widget-view+json": {
       "model_id": "f8d6b24f2c5548bf8414adc9d6beadb7",
       "version_major": 2,
       "version_minor": 0
      },
      "text/plain": [
       "  0%|          | 0/1 [00:00<?, ?it/s]"
      ]
     },
     "metadata": {},
     "output_type": "display_data"
    },
    {
     "name": "stderr",
     "output_type": "stream",
     "text": [
      "                                                 \r"
     ]
    },
    {
     "data": {
      "application/vnd.jupyter.widget-view+json": {
       "model_id": "1fa61b574a9445b4bfc4b5cef055b798",
       "version_major": 2,
       "version_minor": 0
      },
      "text/plain": [
       "  0%|          | 0/1 [00:00<?, ?it/s]"
      ]
     },
     "metadata": {},
     "output_type": "display_data"
    },
    {
     "name": "stderr",
     "output_type": "stream",
     "text": [
      "                                                 \r"
     ]
    },
    {
     "data": {
      "application/vnd.jupyter.widget-view+json": {
       "model_id": "0a3029c072f04bf9a7192b78f23b887c",
       "version_major": 2,
       "version_minor": 0
      },
      "text/plain": [
       "  0%|          | 0/1 [00:00<?, ?it/s]"
      ]
     },
     "metadata": {},
     "output_type": "display_data"
    },
    {
     "name": "stderr",
     "output_type": "stream",
     "text": [
      "                                                 \r"
     ]
    },
    {
     "data": {
      "application/vnd.jupyter.widget-view+json": {
       "model_id": "9f877af63fd94e98816709807be9e3b5",
       "version_major": 2,
       "version_minor": 0
      },
      "text/plain": [
       "  0%|          | 0/1 [00:00<?, ?it/s]"
      ]
     },
     "metadata": {},
     "output_type": "display_data"
    },
    {
     "name": "stderr",
     "output_type": "stream",
     "text": [
      "                                                 \r"
     ]
    },
    {
     "data": {
      "application/vnd.jupyter.widget-view+json": {
       "model_id": "0aa590f89d68471a8821410e28051767",
       "version_major": 2,
       "version_minor": 0
      },
      "text/plain": [
       "  0%|          | 0/1 [00:00<?, ?it/s]"
      ]
     },
     "metadata": {},
     "output_type": "display_data"
    },
    {
     "name": "stderr",
     "output_type": "stream",
     "text": [
      "                                                 \r"
     ]
    },
    {
     "data": {
      "application/vnd.jupyter.widget-view+json": {
       "model_id": "ce1f1bfc74df463399e2c0b2125e0ddb",
       "version_major": 2,
       "version_minor": 0
      },
      "text/plain": [
       "  0%|          | 0/1 [00:00<?, ?it/s]"
      ]
     },
     "metadata": {},
     "output_type": "display_data"
    },
    {
     "name": "stderr",
     "output_type": "stream",
     "text": [
      "                                                 \r"
     ]
    },
    {
     "data": {
      "application/vnd.jupyter.widget-view+json": {
       "model_id": "e07860cef7d74558b9cffcaa5cec5491",
       "version_major": 2,
       "version_minor": 0
      },
      "text/plain": [
       "  0%|          | 0/1 [00:00<?, ?it/s]"
      ]
     },
     "metadata": {},
     "output_type": "display_data"
    },
    {
     "name": "stderr",
     "output_type": "stream",
     "text": [
      "                                                 \r"
     ]
    },
    {
     "data": {
      "application/vnd.jupyter.widget-view+json": {
       "model_id": "efdf013bdaff466c8b6616a36a30568a",
       "version_major": 2,
       "version_minor": 0
      },
      "text/plain": [
       "  0%|          | 0/1 [00:00<?, ?it/s]"
      ]
     },
     "metadata": {},
     "output_type": "display_data"
    },
    {
     "name": "stderr",
     "output_type": "stream",
     "text": [
      "                                                 \r"
     ]
    },
    {
     "data": {
      "application/vnd.jupyter.widget-view+json": {
       "model_id": "9c99ee33991b4021ac04327856f12fc2",
       "version_major": 2,
       "version_minor": 0
      },
      "text/plain": [
       "  0%|          | 0/1 [00:00<?, ?it/s]"
      ]
     },
     "metadata": {},
     "output_type": "display_data"
    },
    {
     "name": "stderr",
     "output_type": "stream",
     "text": [
      "                                                 \r"
     ]
    },
    {
     "data": {
      "application/vnd.jupyter.widget-view+json": {
       "model_id": "9b62ba17f1aa48f7853c8df4c10fe4bf",
       "version_major": 2,
       "version_minor": 0
      },
      "text/plain": [
       "  0%|          | 0/1 [00:00<?, ?it/s]"
      ]
     },
     "metadata": {},
     "output_type": "display_data"
    },
    {
     "name": "stderr",
     "output_type": "stream",
     "text": [
      "                                                 \r"
     ]
    },
    {
     "data": {
      "application/vnd.jupyter.widget-view+json": {
       "model_id": "f49f14df61e64a3285a0285bc04e15d3",
       "version_major": 2,
       "version_minor": 0
      },
      "text/plain": [
       "  0%|          | 0/1 [00:00<?, ?it/s]"
      ]
     },
     "metadata": {},
     "output_type": "display_data"
    },
    {
     "name": "stderr",
     "output_type": "stream",
     "text": [
      "                                                 \r"
     ]
    },
    {
     "data": {
      "application/vnd.jupyter.widget-view+json": {
       "model_id": "ce742301c16e4b3c89c67aa6770eda76",
       "version_major": 2,
       "version_minor": 0
      },
      "text/plain": [
       "  0%|          | 0/1 [00:00<?, ?it/s]"
      ]
     },
     "metadata": {},
     "output_type": "display_data"
    },
    {
     "name": "stderr",
     "output_type": "stream",
     "text": [
      "                                                 \r"
     ]
    },
    {
     "data": {
      "application/vnd.jupyter.widget-view+json": {
       "model_id": "a5fb3ed02c7b4a879b2d8c894436a792",
       "version_major": 2,
       "version_minor": 0
      },
      "text/plain": [
       "  0%|          | 0/1 [00:00<?, ?it/s]"
      ]
     },
     "metadata": {},
     "output_type": "display_data"
    },
    {
     "name": "stderr",
     "output_type": "stream",
     "text": [
      "                                                 \r"
     ]
    },
    {
     "data": {
      "application/vnd.jupyter.widget-view+json": {
       "model_id": "b5b8a97625484b80a759d6c8eaccddc4",
       "version_major": 2,
       "version_minor": 0
      },
      "text/plain": [
       "  0%|          | 0/1 [00:00<?, ?it/s]"
      ]
     },
     "metadata": {},
     "output_type": "display_data"
    },
    {
     "name": "stderr",
     "output_type": "stream",
     "text": [
      "                                                 \r"
     ]
    },
    {
     "data": {
      "application/vnd.jupyter.widget-view+json": {
       "model_id": "09367bd8e463416eb70ea45647f6515c",
       "version_major": 2,
       "version_minor": 0
      },
      "text/plain": [
       "  0%|          | 0/1 [00:00<?, ?it/s]"
      ]
     },
     "metadata": {},
     "output_type": "display_data"
    },
    {
     "name": "stderr",
     "output_type": "stream",
     "text": [
      "                                                 \r"
     ]
    },
    {
     "data": {
      "application/vnd.jupyter.widget-view+json": {
       "model_id": "28cf1fac59fe454db8e707aa4289e33f",
       "version_major": 2,
       "version_minor": 0
      },
      "text/plain": [
       "  0%|          | 0/1 [00:00<?, ?it/s]"
      ]
     },
     "metadata": {},
     "output_type": "display_data"
    },
    {
     "name": "stderr",
     "output_type": "stream",
     "text": [
      "                                                 \r"
     ]
    },
    {
     "data": {
      "application/vnd.jupyter.widget-view+json": {
       "model_id": "3240fdd683c34e26a190817eeac44df9",
       "version_major": 2,
       "version_minor": 0
      },
      "text/plain": [
       "  0%|          | 0/1 [00:00<?, ?it/s]"
      ]
     },
     "metadata": {},
     "output_type": "display_data"
    },
    {
     "name": "stderr",
     "output_type": "stream",
     "text": [
      "                                                 \r"
     ]
    },
    {
     "data": {
      "application/vnd.jupyter.widget-view+json": {
       "model_id": "6f68e320522f42bfb4b7301903dafe3c",
       "version_major": 2,
       "version_minor": 0
      },
      "text/plain": [
       "  0%|          | 0/1 [00:00<?, ?it/s]"
      ]
     },
     "metadata": {},
     "output_type": "display_data"
    },
    {
     "name": "stderr",
     "output_type": "stream",
     "text": [
      "                                                 \r"
     ]
    },
    {
     "data": {
      "application/vnd.jupyter.widget-view+json": {
       "model_id": "2abc95da60144fc89bbf7409bafc917c",
       "version_major": 2,
       "version_minor": 0
      },
      "text/plain": [
       "  0%|          | 0/1 [00:00<?, ?it/s]"
      ]
     },
     "metadata": {},
     "output_type": "display_data"
    },
    {
     "name": "stderr",
     "output_type": "stream",
     "text": [
      "                                                 \r"
     ]
    },
    {
     "data": {
      "application/vnd.jupyter.widget-view+json": {
       "model_id": "99b17ea8764a4547bd3fdf97899342e9",
       "version_major": 2,
       "version_minor": 0
      },
      "text/plain": [
       "  0%|          | 0/1 [00:00<?, ?it/s]"
      ]
     },
     "metadata": {},
     "output_type": "display_data"
    },
    {
     "name": "stderr",
     "output_type": "stream",
     "text": [
      "                                                 \r"
     ]
    },
    {
     "data": {
      "application/vnd.jupyter.widget-view+json": {
       "model_id": "fda1238f49f74ae28f7e24f0b7a68aed",
       "version_major": 2,
       "version_minor": 0
      },
      "text/plain": [
       "  0%|          | 0/1 [00:00<?, ?it/s]"
      ]
     },
     "metadata": {},
     "output_type": "display_data"
    },
    {
     "name": "stderr",
     "output_type": "stream",
     "text": [
      "                                                 \r"
     ]
    },
    {
     "data": {
      "application/vnd.jupyter.widget-view+json": {
       "model_id": "bc663ae8b4e24530b2130da61fb0d7f9",
       "version_major": 2,
       "version_minor": 0
      },
      "text/plain": [
       "  0%|          | 0/1 [00:00<?, ?it/s]"
      ]
     },
     "metadata": {},
     "output_type": "display_data"
    },
    {
     "name": "stderr",
     "output_type": "stream",
     "text": [
      "                                                  \r"
     ]
    },
    {
     "data": {
      "application/vnd.jupyter.widget-view+json": {
       "model_id": "1f082c2e7b844c5a8fca537ae18ec2fd",
       "version_major": 2,
       "version_minor": 0
      },
      "text/plain": [
       "  0%|          | 0/1 [00:00<?, ?it/s]"
      ]
     },
     "metadata": {},
     "output_type": "display_data"
    },
    {
     "name": "stderr",
     "output_type": "stream",
     "text": [
      "                                                 \r"
     ]
    },
    {
     "data": {
      "application/vnd.jupyter.widget-view+json": {
       "model_id": "7ed679481d7f4d6e9203cb4069db03c6",
       "version_major": 2,
       "version_minor": 0
      },
      "text/plain": [
       "  0%|          | 0/1 [00:00<?, ?it/s]"
      ]
     },
     "metadata": {},
     "output_type": "display_data"
    },
    {
     "name": "stderr",
     "output_type": "stream",
     "text": [
      "                                                 \r"
     ]
    },
    {
     "data": {
      "application/vnd.jupyter.widget-view+json": {
       "model_id": "ca15501ff2c24083baaf40aa7d973a0d",
       "version_major": 2,
       "version_minor": 0
      },
      "text/plain": [
       "  0%|          | 0/1 [00:00<?, ?it/s]"
      ]
     },
     "metadata": {},
     "output_type": "display_data"
    },
    {
     "name": "stderr",
     "output_type": "stream",
     "text": [
      "                                                 \r"
     ]
    },
    {
     "data": {
      "application/vnd.jupyter.widget-view+json": {
       "model_id": "82d18b1d3869442aa417276da92d1a67",
       "version_major": 2,
       "version_minor": 0
      },
      "text/plain": [
       "  0%|          | 0/1 [00:00<?, ?it/s]"
      ]
     },
     "metadata": {},
     "output_type": "display_data"
    },
    {
     "name": "stderr",
     "output_type": "stream",
     "text": [
      "                                                 \r"
     ]
    },
    {
     "data": {
      "application/vnd.jupyter.widget-view+json": {
       "model_id": "e27566df4d914129a539edcaa2dae97b",
       "version_major": 2,
       "version_minor": 0
      },
      "text/plain": [
       "  0%|          | 0/1 [00:00<?, ?it/s]"
      ]
     },
     "metadata": {},
     "output_type": "display_data"
    },
    {
     "name": "stderr",
     "output_type": "stream",
     "text": [
      "                                                 \r"
     ]
    },
    {
     "data": {
      "application/vnd.jupyter.widget-view+json": {
       "model_id": "f8b08688cddc494e953561f74150febd",
       "version_major": 2,
       "version_minor": 0
      },
      "text/plain": [
       "  0%|          | 0/1 [00:00<?, ?it/s]"
      ]
     },
     "metadata": {},
     "output_type": "display_data"
    },
    {
     "name": "stderr",
     "output_type": "stream",
     "text": [
      "                                                 \r"
     ]
    },
    {
     "data": {
      "application/vnd.jupyter.widget-view+json": {
       "model_id": "311d9c6f378a4b32bbd1b89a360258d9",
       "version_major": 2,
       "version_minor": 0
      },
      "text/plain": [
       "  0%|          | 0/1 [00:00<?, ?it/s]"
      ]
     },
     "metadata": {},
     "output_type": "display_data"
    },
    {
     "name": "stderr",
     "output_type": "stream",
     "text": [
      "                                                 \r"
     ]
    },
    {
     "data": {
      "application/vnd.jupyter.widget-view+json": {
       "model_id": "6d4fd1e81216444f8603d5c1148c754d",
       "version_major": 2,
       "version_minor": 0
      },
      "text/plain": [
       "  0%|          | 0/1 [00:00<?, ?it/s]"
      ]
     },
     "metadata": {},
     "output_type": "display_data"
    },
    {
     "name": "stderr",
     "output_type": "stream",
     "text": [
      "                                                 \r"
     ]
    },
    {
     "data": {
      "application/vnd.jupyter.widget-view+json": {
       "model_id": "c171fbee5df14278bda1479c501740a1",
       "version_major": 2,
       "version_minor": 0
      },
      "text/plain": [
       "  0%|          | 0/1 [00:00<?, ?it/s]"
      ]
     },
     "metadata": {},
     "output_type": "display_data"
    },
    {
     "name": "stderr",
     "output_type": "stream",
     "text": [
      "                                                 \r"
     ]
    },
    {
     "data": {
      "application/vnd.jupyter.widget-view+json": {
       "model_id": "61bb3ad6beb24be8905fc26d9a06e259",
       "version_major": 2,
       "version_minor": 0
      },
      "text/plain": [
       "  0%|          | 0/1 [00:00<?, ?it/s]"
      ]
     },
     "metadata": {},
     "output_type": "display_data"
    },
    {
     "name": "stderr",
     "output_type": "stream",
     "text": [
      "                                                 \r"
     ]
    },
    {
     "data": {
      "application/vnd.jupyter.widget-view+json": {
       "model_id": "1e18df01637c4e9f8e69d29a52c2c7c9",
       "version_major": 2,
       "version_minor": 0
      },
      "text/plain": [
       "  0%|          | 0/1 [00:00<?, ?it/s]"
      ]
     },
     "metadata": {},
     "output_type": "display_data"
    },
    {
     "name": "stderr",
     "output_type": "stream",
     "text": [
      "                                                 \r"
     ]
    },
    {
     "data": {
      "application/vnd.jupyter.widget-view+json": {
       "model_id": "840444e9bfbf4338bd6c0b6650b38192",
       "version_major": 2,
       "version_minor": 0
      },
      "text/plain": [
       "  0%|          | 0/1 [00:00<?, ?it/s]"
      ]
     },
     "metadata": {},
     "output_type": "display_data"
    },
    {
     "name": "stderr",
     "output_type": "stream",
     "text": [
      "                                                 \r"
     ]
    },
    {
     "data": {
      "application/vnd.jupyter.widget-view+json": {
       "model_id": "38a8168adb534ef6ab9f80f40a926a2a",
       "version_major": 2,
       "version_minor": 0
      },
      "text/plain": [
       "  0%|          | 0/1 [00:00<?, ?it/s]"
      ]
     },
     "metadata": {},
     "output_type": "display_data"
    },
    {
     "name": "stderr",
     "output_type": "stream",
     "text": [
      "                                                 \r"
     ]
    },
    {
     "data": {
      "application/vnd.jupyter.widget-view+json": {
       "model_id": "43d67565a4a34f09b3d5eebad5f12e86",
       "version_major": 2,
       "version_minor": 0
      },
      "text/plain": [
       "  0%|          | 0/1 [00:00<?, ?it/s]"
      ]
     },
     "metadata": {},
     "output_type": "display_data"
    },
    {
     "name": "stderr",
     "output_type": "stream",
     "text": [
      "                                                 \r"
     ]
    },
    {
     "data": {
      "application/vnd.jupyter.widget-view+json": {
       "model_id": "f15c2517795f4bdc9f909c85f44d8375",
       "version_major": 2,
       "version_minor": 0
      },
      "text/plain": [
       "  0%|          | 0/1 [00:00<?, ?it/s]"
      ]
     },
     "metadata": {},
     "output_type": "display_data"
    },
    {
     "name": "stderr",
     "output_type": "stream",
     "text": [
      "                                                 \r"
     ]
    },
    {
     "data": {
      "application/vnd.jupyter.widget-view+json": {
       "model_id": "4c4cdcb74067417ca47d89d5fa919381",
       "version_major": 2,
       "version_minor": 0
      },
      "text/plain": [
       "  0%|          | 0/1 [00:00<?, ?it/s]"
      ]
     },
     "metadata": {},
     "output_type": "display_data"
    },
    {
     "name": "stderr",
     "output_type": "stream",
     "text": [
      "                                                 \r"
     ]
    },
    {
     "data": {
      "application/vnd.jupyter.widget-view+json": {
       "model_id": "0984b0a6857047008583da6d495dcb99",
       "version_major": 2,
       "version_minor": 0
      },
      "text/plain": [
       "  0%|          | 0/1 [00:00<?, ?it/s]"
      ]
     },
     "metadata": {},
     "output_type": "display_data"
    },
    {
     "name": "stderr",
     "output_type": "stream",
     "text": [
      "                                                 \r"
     ]
    },
    {
     "data": {
      "application/vnd.jupyter.widget-view+json": {
       "model_id": "e1e3d2103ccd40f0bc215330fdd9b89a",
       "version_major": 2,
       "version_minor": 0
      },
      "text/plain": [
       "  0%|          | 0/1 [00:00<?, ?it/s]"
      ]
     },
     "metadata": {},
     "output_type": "display_data"
    },
    {
     "name": "stderr",
     "output_type": "stream",
     "text": [
      "                                                 \r"
     ]
    },
    {
     "data": {
      "application/vnd.jupyter.widget-view+json": {
       "model_id": "35d859323cae4892a7dad42e5782e709",
       "version_major": 2,
       "version_minor": 0
      },
      "text/plain": [
       "  0%|          | 0/1 [00:00<?, ?it/s]"
      ]
     },
     "metadata": {},
     "output_type": "display_data"
    },
    {
     "name": "stderr",
     "output_type": "stream",
     "text": [
      "                                                 \r"
     ]
    },
    {
     "data": {
      "application/vnd.jupyter.widget-view+json": {
       "model_id": "1836da797a654718994cca7712578031",
       "version_major": 2,
       "version_minor": 0
      },
      "text/plain": [
       "  0%|          | 0/1 [00:00<?, ?it/s]"
      ]
     },
     "metadata": {},
     "output_type": "display_data"
    },
    {
     "name": "stderr",
     "output_type": "stream",
     "text": [
      "                                                 \r"
     ]
    },
    {
     "data": {
      "application/vnd.jupyter.widget-view+json": {
       "model_id": "10bd891257b9478d8a6798a145ddf849",
       "version_major": 2,
       "version_minor": 0
      },
      "text/plain": [
       "  0%|          | 0/1 [00:00<?, ?it/s]"
      ]
     },
     "metadata": {},
     "output_type": "display_data"
    },
    {
     "name": "stderr",
     "output_type": "stream",
     "text": [
      "                                                 \r"
     ]
    },
    {
     "data": {
      "application/vnd.jupyter.widget-view+json": {
       "model_id": "4ffb2bc57b214cb498889f60cd18fce2",
       "version_major": 2,
       "version_minor": 0
      },
      "text/plain": [
       "  0%|          | 0/1 [00:00<?, ?it/s]"
      ]
     },
     "metadata": {},
     "output_type": "display_data"
    },
    {
     "name": "stderr",
     "output_type": "stream",
     "text": [
      "                                                 \r"
     ]
    },
    {
     "data": {
      "application/vnd.jupyter.widget-view+json": {
       "model_id": "71698378a64c496f84474b8dfaa40488",
       "version_major": 2,
       "version_minor": 0
      },
      "text/plain": [
       "  0%|          | 0/1 [00:00<?, ?it/s]"
      ]
     },
     "metadata": {},
     "output_type": "display_data"
    },
    {
     "name": "stderr",
     "output_type": "stream",
     "text": [
      "                                                 \r"
     ]
    },
    {
     "data": {
      "application/vnd.jupyter.widget-view+json": {
       "model_id": "92ba188db0f64978a540d42f8b9bdf2b",
       "version_major": 2,
       "version_minor": 0
      },
      "text/plain": [
       "  0%|          | 0/1 [00:00<?, ?it/s]"
      ]
     },
     "metadata": {},
     "output_type": "display_data"
    },
    {
     "name": "stderr",
     "output_type": "stream",
     "text": [
      "                                                  \r"
     ]
    },
    {
     "data": {
      "application/vnd.jupyter.widget-view+json": {
       "model_id": "ba889ebee4a04484bbcc2f5c5ae3af58",
       "version_major": 2,
       "version_minor": 0
      },
      "text/plain": [
       "  0%|          | 0/2 [00:00<?, ?it/s]"
      ]
     },
     "metadata": {},
     "output_type": "display_data"
    },
    {
     "name": "stderr",
     "output_type": "stream",
     "text": [
      "                                                 \r"
     ]
    },
    {
     "data": {
      "application/vnd.jupyter.widget-view+json": {
       "model_id": "8d6d811f141d499291cdc0113fa373e8",
       "version_major": 2,
       "version_minor": 0
      },
      "text/plain": [
       "  0%|          | 0/1 [00:00<?, ?it/s]"
      ]
     },
     "metadata": {},
     "output_type": "display_data"
    },
    {
     "name": "stderr",
     "output_type": "stream",
     "text": [
      "                                                 \r"
     ]
    },
    {
     "data": {
      "application/vnd.jupyter.widget-view+json": {
       "model_id": "ffb59e47f1e04247a8609fb952d88ac6",
       "version_major": 2,
       "version_minor": 0
      },
      "text/plain": [
       "  0%|          | 0/1 [00:00<?, ?it/s]"
      ]
     },
     "metadata": {},
     "output_type": "display_data"
    },
    {
     "name": "stderr",
     "output_type": "stream",
     "text": [
      "                                                 \r"
     ]
    },
    {
     "data": {
      "application/vnd.jupyter.widget-view+json": {
       "model_id": "950010f9980d4d7f9d2d4a68852b6118",
       "version_major": 2,
       "version_minor": 0
      },
      "text/plain": [
       "  0%|          | 0/1 [00:00<?, ?it/s]"
      ]
     },
     "metadata": {},
     "output_type": "display_data"
    },
    {
     "name": "stderr",
     "output_type": "stream",
     "text": [
      "                                                 \r"
     ]
    },
    {
     "data": {
      "application/vnd.jupyter.widget-view+json": {
       "model_id": "38383ac1f4764316a1b9dc4c27b21cf4",
       "version_major": 2,
       "version_minor": 0
      },
      "text/plain": [
       "  0%|          | 0/1 [00:00<?, ?it/s]"
      ]
     },
     "metadata": {},
     "output_type": "display_data"
    },
    {
     "name": "stderr",
     "output_type": "stream",
     "text": [
      "                                                 \r"
     ]
    },
    {
     "data": {
      "application/vnd.jupyter.widget-view+json": {
       "model_id": "f5fea956f26d43809affd967a8b6ab43",
       "version_major": 2,
       "version_minor": 0
      },
      "text/plain": [
       "  0%|          | 0/1 [00:00<?, ?it/s]"
      ]
     },
     "metadata": {},
     "output_type": "display_data"
    },
    {
     "name": "stderr",
     "output_type": "stream",
     "text": [
      "                                                 \r"
     ]
    },
    {
     "data": {
      "application/vnd.jupyter.widget-view+json": {
       "model_id": "c6af7745bb184d82bc0d7f2daeae3b1c",
       "version_major": 2,
       "version_minor": 0
      },
      "text/plain": [
       "  0%|          | 0/1 [00:00<?, ?it/s]"
      ]
     },
     "metadata": {},
     "output_type": "display_data"
    },
    {
     "name": "stderr",
     "output_type": "stream",
     "text": [
      "                                                 \r"
     ]
    },
    {
     "data": {
      "application/vnd.jupyter.widget-view+json": {
       "model_id": "f649a9e89fec47b199e852a7d9a16772",
       "version_major": 2,
       "version_minor": 0
      },
      "text/plain": [
       "  0%|          | 0/1 [00:00<?, ?it/s]"
      ]
     },
     "metadata": {},
     "output_type": "display_data"
    },
    {
     "name": "stderr",
     "output_type": "stream",
     "text": [
      "                                                 \r"
     ]
    },
    {
     "data": {
      "application/vnd.jupyter.widget-view+json": {
       "model_id": "c343abd958e042c0a9f8c1dc05e901b2",
       "version_major": 2,
       "version_minor": 0
      },
      "text/plain": [
       "  0%|          | 0/1 [00:00<?, ?it/s]"
      ]
     },
     "metadata": {},
     "output_type": "display_data"
    },
    {
     "name": "stderr",
     "output_type": "stream",
     "text": [
      "                                                 \r"
     ]
    },
    {
     "data": {
      "application/vnd.jupyter.widget-view+json": {
       "model_id": "4dc311d3480a404dab73ea53395cdaf5",
       "version_major": 2,
       "version_minor": 0
      },
      "text/plain": [
       "  0%|          | 0/1 [00:00<?, ?it/s]"
      ]
     },
     "metadata": {},
     "output_type": "display_data"
    },
    {
     "name": "stderr",
     "output_type": "stream",
     "text": [
      "                                                 \r"
     ]
    },
    {
     "data": {
      "application/vnd.jupyter.widget-view+json": {
       "model_id": "10fbe528b78e41ee94307c118960d0f9",
       "version_major": 2,
       "version_minor": 0
      },
      "text/plain": [
       "  0%|          | 0/1 [00:00<?, ?it/s]"
      ]
     },
     "metadata": {},
     "output_type": "display_data"
    },
    {
     "name": "stderr",
     "output_type": "stream",
     "text": [
      "                                                 \r"
     ]
    },
    {
     "data": {
      "application/vnd.jupyter.widget-view+json": {
       "model_id": "7d01865014d74f06906ffa9407b500cd",
       "version_major": 2,
       "version_minor": 0
      },
      "text/plain": [
       "  0%|          | 0/1 [00:00<?, ?it/s]"
      ]
     },
     "metadata": {},
     "output_type": "display_data"
    },
    {
     "name": "stderr",
     "output_type": "stream",
     "text": [
      "                                                 \r"
     ]
    },
    {
     "data": {
      "application/vnd.jupyter.widget-view+json": {
       "model_id": "ff04c5c158a3490cb0cc2727e7698706",
       "version_major": 2,
       "version_minor": 0
      },
      "text/plain": [
       "  0%|          | 0/1 [00:00<?, ?it/s]"
      ]
     },
     "metadata": {},
     "output_type": "display_data"
    },
    {
     "name": "stderr",
     "output_type": "stream",
     "text": [
      "                                                 \r"
     ]
    },
    {
     "data": {
      "application/vnd.jupyter.widget-view+json": {
       "model_id": "7dc4242d418d47128fe5f4746fbfe981",
       "version_major": 2,
       "version_minor": 0
      },
      "text/plain": [
       "  0%|          | 0/1 [00:00<?, ?it/s]"
      ]
     },
     "metadata": {},
     "output_type": "display_data"
    },
    {
     "name": "stderr",
     "output_type": "stream",
     "text": [
      "                                                 \r"
     ]
    },
    {
     "data": {
      "application/vnd.jupyter.widget-view+json": {
       "model_id": "937c4cafccfc423390fef7d345978289",
       "version_major": 2,
       "version_minor": 0
      },
      "text/plain": [
       "  0%|          | 0/1 [00:00<?, ?it/s]"
      ]
     },
     "metadata": {},
     "output_type": "display_data"
    },
    {
     "name": "stderr",
     "output_type": "stream",
     "text": [
      "                                                 \r"
     ]
    },
    {
     "data": {
      "application/vnd.jupyter.widget-view+json": {
       "model_id": "d51b3f88bd444eaf9b4f4579214d68b4",
       "version_major": 2,
       "version_minor": 0
      },
      "text/plain": [
       "  0%|          | 0/1 [00:00<?, ?it/s]"
      ]
     },
     "metadata": {},
     "output_type": "display_data"
    },
    {
     "name": "stderr",
     "output_type": "stream",
     "text": [
      "                                                 \r"
     ]
    },
    {
     "data": {
      "application/vnd.jupyter.widget-view+json": {
       "model_id": "95583b25e3304615a506b8cdae120f6b",
       "version_major": 2,
       "version_minor": 0
      },
      "text/plain": [
       "  0%|          | 0/1 [00:00<?, ?it/s]"
      ]
     },
     "metadata": {},
     "output_type": "display_data"
    },
    {
     "name": "stderr",
     "output_type": "stream",
     "text": [
      "                                                 \r"
     ]
    },
    {
     "data": {
      "application/vnd.jupyter.widget-view+json": {
       "model_id": "0f4dc68a51184a068777da1471ea4495",
       "version_major": 2,
       "version_minor": 0
      },
      "text/plain": [
       "  0%|          | 0/1 [00:00<?, ?it/s]"
      ]
     },
     "metadata": {},
     "output_type": "display_data"
    },
    {
     "name": "stderr",
     "output_type": "stream",
     "text": [
      "                                                 \r"
     ]
    },
    {
     "data": {
      "application/vnd.jupyter.widget-view+json": {
       "model_id": "b42770c9da4f4c128e493cce936403a0",
       "version_major": 2,
       "version_minor": 0
      },
      "text/plain": [
       "  0%|          | 0/1 [00:00<?, ?it/s]"
      ]
     },
     "metadata": {},
     "output_type": "display_data"
    },
    {
     "name": "stderr",
     "output_type": "stream",
     "text": [
      "                                                 \r"
     ]
    },
    {
     "data": {
      "application/vnd.jupyter.widget-view+json": {
       "model_id": "169dcc47325f45cfb4d5580c789cf435",
       "version_major": 2,
       "version_minor": 0
      },
      "text/plain": [
       "  0%|          | 0/1 [00:00<?, ?it/s]"
      ]
     },
     "metadata": {},
     "output_type": "display_data"
    },
    {
     "name": "stderr",
     "output_type": "stream",
     "text": [
      "                                                 \r"
     ]
    },
    {
     "data": {
      "application/vnd.jupyter.widget-view+json": {
       "model_id": "e18e602a9ec84f10838df8227021b0c7",
       "version_major": 2,
       "version_minor": 0
      },
      "text/plain": [
       "  0%|          | 0/1 [00:00<?, ?it/s]"
      ]
     },
     "metadata": {},
     "output_type": "display_data"
    },
    {
     "name": "stderr",
     "output_type": "stream",
     "text": [
      "                                                 \r"
     ]
    },
    {
     "data": {
      "application/vnd.jupyter.widget-view+json": {
       "model_id": "1d95222612e94699bbe346fee80e9b5e",
       "version_major": 2,
       "version_minor": 0
      },
      "text/plain": [
       "  0%|          | 0/1 [00:00<?, ?it/s]"
      ]
     },
     "metadata": {},
     "output_type": "display_data"
    },
    {
     "name": "stderr",
     "output_type": "stream",
     "text": [
      "                                                 \r"
     ]
    },
    {
     "data": {
      "application/vnd.jupyter.widget-view+json": {
       "model_id": "e61ee1aa2f0d4245b4ffd42f67386db2",
       "version_major": 2,
       "version_minor": 0
      },
      "text/plain": [
       "  0%|          | 0/1 [00:00<?, ?it/s]"
      ]
     },
     "metadata": {},
     "output_type": "display_data"
    },
    {
     "name": "stderr",
     "output_type": "stream",
     "text": [
      "                                                 \r"
     ]
    },
    {
     "data": {
      "application/vnd.jupyter.widget-view+json": {
       "model_id": "4788a548cb65428da9a314e85df5b78d",
       "version_major": 2,
       "version_minor": 0
      },
      "text/plain": [
       "  0%|          | 0/1 [00:00<?, ?it/s]"
      ]
     },
     "metadata": {},
     "output_type": "display_data"
    },
    {
     "name": "stderr",
     "output_type": "stream",
     "text": [
      "                                                 \r"
     ]
    },
    {
     "data": {
      "application/vnd.jupyter.widget-view+json": {
       "model_id": "8eb8208de50d475f855f7f0bd75d8acf",
       "version_major": 2,
       "version_minor": 0
      },
      "text/plain": [
       "  0%|          | 0/1 [00:00<?, ?it/s]"
      ]
     },
     "metadata": {},
     "output_type": "display_data"
    },
    {
     "name": "stderr",
     "output_type": "stream",
     "text": [
      "                                                 \r"
     ]
    },
    {
     "data": {
      "application/vnd.jupyter.widget-view+json": {
       "model_id": "7b4384fb86234a50a0e551ad14a9296e",
       "version_major": 2,
       "version_minor": 0
      },
      "text/plain": [
       "  0%|          | 0/1 [00:00<?, ?it/s]"
      ]
     },
     "metadata": {},
     "output_type": "display_data"
    },
    {
     "name": "stderr",
     "output_type": "stream",
     "text": [
      "                                                 \r"
     ]
    },
    {
     "data": {
      "application/vnd.jupyter.widget-view+json": {
       "model_id": "e29d1fcac4754f8c88c4f261544cffd4",
       "version_major": 2,
       "version_minor": 0
      },
      "text/plain": [
       "  0%|          | 0/1 [00:00<?, ?it/s]"
      ]
     },
     "metadata": {},
     "output_type": "display_data"
    },
    {
     "name": "stderr",
     "output_type": "stream",
     "text": [
      "                                                 \r"
     ]
    },
    {
     "data": {
      "application/vnd.jupyter.widget-view+json": {
       "model_id": "7259c47d8cac4a2686e605c9e51ad3a5",
       "version_major": 2,
       "version_minor": 0
      },
      "text/plain": [
       "  0%|          | 0/1 [00:00<?, ?it/s]"
      ]
     },
     "metadata": {},
     "output_type": "display_data"
    },
    {
     "name": "stderr",
     "output_type": "stream",
     "text": [
      "                                                 \r"
     ]
    },
    {
     "data": {
      "application/vnd.jupyter.widget-view+json": {
       "model_id": "a4a2fad310d54d8fb0178563b2e782a5",
       "version_major": 2,
       "version_minor": 0
      },
      "text/plain": [
       "  0%|          | 0/1 [00:00<?, ?it/s]"
      ]
     },
     "metadata": {},
     "output_type": "display_data"
    },
    {
     "name": "stderr",
     "output_type": "stream",
     "text": [
      "                                                 \r"
     ]
    },
    {
     "data": {
      "application/vnd.jupyter.widget-view+json": {
       "model_id": "f1e69f8f6bc34113a6f7bbe35a278bd3",
       "version_major": 2,
       "version_minor": 0
      },
      "text/plain": [
       "  0%|          | 0/1 [00:00<?, ?it/s]"
      ]
     },
     "metadata": {},
     "output_type": "display_data"
    },
    {
     "name": "stderr",
     "output_type": "stream",
     "text": [
      "                                                 \r"
     ]
    },
    {
     "data": {
      "application/vnd.jupyter.widget-view+json": {
       "model_id": "8ac475349542436cb04aea8d688fcdbb",
       "version_major": 2,
       "version_minor": 0
      },
      "text/plain": [
       "  0%|          | 0/1 [00:00<?, ?it/s]"
      ]
     },
     "metadata": {},
     "output_type": "display_data"
    },
    {
     "name": "stderr",
     "output_type": "stream",
     "text": [
      "                                                 \r"
     ]
    },
    {
     "data": {
      "application/vnd.jupyter.widget-view+json": {
       "model_id": "b00fa0efa7334824899619d0929fa29b",
       "version_major": 2,
       "version_minor": 0
      },
      "text/plain": [
       "  0%|          | 0/1 [00:00<?, ?it/s]"
      ]
     },
     "metadata": {},
     "output_type": "display_data"
    },
    {
     "name": "stderr",
     "output_type": "stream",
     "text": [
      "                                                 \r"
     ]
    },
    {
     "data": {
      "application/vnd.jupyter.widget-view+json": {
       "model_id": "065971ad00574c74a7b754cc61f992ad",
       "version_major": 2,
       "version_minor": 0
      },
      "text/plain": [
       "  0%|          | 0/1 [00:00<?, ?it/s]"
      ]
     },
     "metadata": {},
     "output_type": "display_data"
    },
    {
     "name": "stderr",
     "output_type": "stream",
     "text": [
      "                                                 \r"
     ]
    },
    {
     "data": {
      "application/vnd.jupyter.widget-view+json": {
       "model_id": "1ccbeb8203d84254a595dbadad04107f",
       "version_major": 2,
       "version_minor": 0
      },
      "text/plain": [
       "  0%|          | 0/1 [00:00<?, ?it/s]"
      ]
     },
     "metadata": {},
     "output_type": "display_data"
    },
    {
     "name": "stderr",
     "output_type": "stream",
     "text": [
      "                                                 \r"
     ]
    },
    {
     "data": {
      "application/vnd.jupyter.widget-view+json": {
       "model_id": "f7c8df01bab34d5b928bbb25dc2574c9",
       "version_major": 2,
       "version_minor": 0
      },
      "text/plain": [
       "  0%|          | 0/1 [00:00<?, ?it/s]"
      ]
     },
     "metadata": {},
     "output_type": "display_data"
    },
    {
     "name": "stderr",
     "output_type": "stream",
     "text": [
      "                                                 \r"
     ]
    },
    {
     "data": {
      "application/vnd.jupyter.widget-view+json": {
       "model_id": "b835fb899f784251b0f5270483965be8",
       "version_major": 2,
       "version_minor": 0
      },
      "text/plain": [
       "  0%|          | 0/1 [00:00<?, ?it/s]"
      ]
     },
     "metadata": {},
     "output_type": "display_data"
    },
    {
     "name": "stderr",
     "output_type": "stream",
     "text": [
      "                                                 \r"
     ]
    },
    {
     "data": {
      "application/vnd.jupyter.widget-view+json": {
       "model_id": "77e9247d5ebf405d9d5c4e9347441f45",
       "version_major": 2,
       "version_minor": 0
      },
      "text/plain": [
       "  0%|          | 0/1 [00:00<?, ?it/s]"
      ]
     },
     "metadata": {},
     "output_type": "display_data"
    },
    {
     "name": "stderr",
     "output_type": "stream",
     "text": [
      "                                                 \r"
     ]
    },
    {
     "data": {
      "application/vnd.jupyter.widget-view+json": {
       "model_id": "a45f0d8b22564051a10703845a0063b7",
       "version_major": 2,
       "version_minor": 0
      },
      "text/plain": [
       "  0%|          | 0/1 [00:00<?, ?it/s]"
      ]
     },
     "metadata": {},
     "output_type": "display_data"
    },
    {
     "name": "stderr",
     "output_type": "stream",
     "text": [
      "                                                 \r"
     ]
    },
    {
     "data": {
      "application/vnd.jupyter.widget-view+json": {
       "model_id": "3e70db42ebe64ad28da9b6c5c53b207f",
       "version_major": 2,
       "version_minor": 0
      },
      "text/plain": [
       "  0%|          | 0/1 [00:00<?, ?it/s]"
      ]
     },
     "metadata": {},
     "output_type": "display_data"
    },
    {
     "name": "stderr",
     "output_type": "stream",
     "text": [
      "                                                 \r"
     ]
    },
    {
     "data": {
      "application/vnd.jupyter.widget-view+json": {
       "model_id": "d401c8f06f304c38a3f9b89ac34a40f3",
       "version_major": 2,
       "version_minor": 0
      },
      "text/plain": [
       "  0%|          | 0/1 [00:00<?, ?it/s]"
      ]
     },
     "metadata": {},
     "output_type": "display_data"
    },
    {
     "name": "stderr",
     "output_type": "stream",
     "text": [
      "                                                 \r"
     ]
    },
    {
     "data": {
      "application/vnd.jupyter.widget-view+json": {
       "model_id": "1e05d1d066c646f598c46acc755c32f1",
       "version_major": 2,
       "version_minor": 0
      },
      "text/plain": [
       "  0%|          | 0/1 [00:00<?, ?it/s]"
      ]
     },
     "metadata": {},
     "output_type": "display_data"
    },
    {
     "name": "stderr",
     "output_type": "stream",
     "text": [
      "                                                 \r"
     ]
    },
    {
     "data": {
      "application/vnd.jupyter.widget-view+json": {
       "model_id": "40cebc9cb5d341e6a50f9d204885f700",
       "version_major": 2,
       "version_minor": 0
      },
      "text/plain": [
       "  0%|          | 0/1 [00:00<?, ?it/s]"
      ]
     },
     "metadata": {},
     "output_type": "display_data"
    },
    {
     "name": "stderr",
     "output_type": "stream",
     "text": [
      "                                                 \r"
     ]
    },
    {
     "data": {
      "application/vnd.jupyter.widget-view+json": {
       "model_id": "2dfc9cf62cfd4a199a840e53326c2182",
       "version_major": 2,
       "version_minor": 0
      },
      "text/plain": [
       "  0%|          | 0/1 [00:00<?, ?it/s]"
      ]
     },
     "metadata": {},
     "output_type": "display_data"
    },
    {
     "name": "stderr",
     "output_type": "stream",
     "text": [
      "                                                 \r"
     ]
    },
    {
     "data": {
      "application/vnd.jupyter.widget-view+json": {
       "model_id": "2c21399b3c764f509345be2d890abcdd",
       "version_major": 2,
       "version_minor": 0
      },
      "text/plain": [
       "  0%|          | 0/1 [00:00<?, ?it/s]"
      ]
     },
     "metadata": {},
     "output_type": "display_data"
    },
    {
     "name": "stderr",
     "output_type": "stream",
     "text": [
      "                                                 \r"
     ]
    },
    {
     "data": {
      "application/vnd.jupyter.widget-view+json": {
       "model_id": "c088a6baee734e4c8ec56e0d9874d01e",
       "version_major": 2,
       "version_minor": 0
      },
      "text/plain": [
       "  0%|          | 0/1 [00:00<?, ?it/s]"
      ]
     },
     "metadata": {},
     "output_type": "display_data"
    },
    {
     "name": "stderr",
     "output_type": "stream",
     "text": [
      "                                                 \r"
     ]
    },
    {
     "data": {
      "application/vnd.jupyter.widget-view+json": {
       "model_id": "0d62047d0a8c48358e4ee1a2494298c0",
       "version_major": 2,
       "version_minor": 0
      },
      "text/plain": [
       "  0%|          | 0/1 [00:00<?, ?it/s]"
      ]
     },
     "metadata": {},
     "output_type": "display_data"
    },
    {
     "name": "stderr",
     "output_type": "stream",
     "text": [
      "                                                 \r"
     ]
    },
    {
     "data": {
      "application/vnd.jupyter.widget-view+json": {
       "model_id": "9949b83729b04195869919b5ff63d224",
       "version_major": 2,
       "version_minor": 0
      },
      "text/plain": [
       "  0%|          | 0/1 [00:00<?, ?it/s]"
      ]
     },
     "metadata": {},
     "output_type": "display_data"
    },
    {
     "name": "stderr",
     "output_type": "stream",
     "text": [
      "                                                 \r"
     ]
    },
    {
     "data": {
      "application/vnd.jupyter.widget-view+json": {
       "model_id": "0d2de3f9e83d4225b702dd193d78df8e",
       "version_major": 2,
       "version_minor": 0
      },
      "text/plain": [
       "  0%|          | 0/1 [00:00<?, ?it/s]"
      ]
     },
     "metadata": {},
     "output_type": "display_data"
    },
    {
     "name": "stderr",
     "output_type": "stream",
     "text": [
      "                                                 \r"
     ]
    },
    {
     "data": {
      "application/vnd.jupyter.widget-view+json": {
       "model_id": "5f9eee575c30408287364ca56f58432e",
       "version_major": 2,
       "version_minor": 0
      },
      "text/plain": [
       "  0%|          | 0/1 [00:00<?, ?it/s]"
      ]
     },
     "metadata": {},
     "output_type": "display_data"
    },
    {
     "name": "stderr",
     "output_type": "stream",
     "text": [
      "                                                 \r"
     ]
    },
    {
     "data": {
      "application/vnd.jupyter.widget-view+json": {
       "model_id": "e9f663271075452eb4a28cfebc5ff555",
       "version_major": 2,
       "version_minor": 0
      },
      "text/plain": [
       "  0%|          | 0/1 [00:00<?, ?it/s]"
      ]
     },
     "metadata": {},
     "output_type": "display_data"
    },
    {
     "name": "stderr",
     "output_type": "stream",
     "text": [
      "                                                 \r"
     ]
    },
    {
     "data": {
      "application/vnd.jupyter.widget-view+json": {
       "model_id": "b9d631cb4e734eb881498008d05b85b1",
       "version_major": 2,
       "version_minor": 0
      },
      "text/plain": [
       "  0%|          | 0/1 [00:00<?, ?it/s]"
      ]
     },
     "metadata": {},
     "output_type": "display_data"
    },
    {
     "name": "stderr",
     "output_type": "stream",
     "text": [
      "                                                 \r"
     ]
    },
    {
     "data": {
      "application/vnd.jupyter.widget-view+json": {
       "model_id": "4b5ed59c8eb1439badf274ef998ecc0f",
       "version_major": 2,
       "version_minor": 0
      },
      "text/plain": [
       "  0%|          | 0/1 [00:00<?, ?it/s]"
      ]
     },
     "metadata": {},
     "output_type": "display_data"
    },
    {
     "name": "stderr",
     "output_type": "stream",
     "text": [
      "                                                 \r"
     ]
    },
    {
     "data": {
      "application/vnd.jupyter.widget-view+json": {
       "model_id": "53f40ff5329047d2a5c5748436685605",
       "version_major": 2,
       "version_minor": 0
      },
      "text/plain": [
       "  0%|          | 0/1 [00:00<?, ?it/s]"
      ]
     },
     "metadata": {},
     "output_type": "display_data"
    },
    {
     "name": "stderr",
     "output_type": "stream",
     "text": [
      "                                                 \r"
     ]
    },
    {
     "data": {
      "application/vnd.jupyter.widget-view+json": {
       "model_id": "7455dcefbe9f45f9b3e2a10a15bba963",
       "version_major": 2,
       "version_minor": 0
      },
      "text/plain": [
       "  0%|          | 0/1 [00:00<?, ?it/s]"
      ]
     },
     "metadata": {},
     "output_type": "display_data"
    },
    {
     "name": "stderr",
     "output_type": "stream",
     "text": [
      "                                                 \r"
     ]
    },
    {
     "data": {
      "application/vnd.jupyter.widget-view+json": {
       "model_id": "7fa79b7a99c1426b8cd30aff9033af1e",
       "version_major": 2,
       "version_minor": 0
      },
      "text/plain": [
       "  0%|          | 0/1 [00:00<?, ?it/s]"
      ]
     },
     "metadata": {},
     "output_type": "display_data"
    },
    {
     "name": "stderr",
     "output_type": "stream",
     "text": [
      "                                                  \r"
     ]
    },
    {
     "data": {
      "application/vnd.jupyter.widget-view+json": {
       "model_id": "689c3d9abaa04772ae3a6a8867696341",
       "version_major": 2,
       "version_minor": 0
      },
      "text/plain": [
       "  0%|          | 0/1 [00:00<?, ?it/s]"
      ]
     },
     "metadata": {},
     "output_type": "display_data"
    },
    {
     "name": "stderr",
     "output_type": "stream",
     "text": [
      "                                                  \r"
     ]
    },
    {
     "data": {
      "application/vnd.jupyter.widget-view+json": {
       "model_id": "ac397c1d5adf41d594d84f8670d6588f",
       "version_major": 2,
       "version_minor": 0
      },
      "text/plain": [
       "  0%|          | 0/1 [00:00<?, ?it/s]"
      ]
     },
     "metadata": {},
     "output_type": "display_data"
    },
    {
     "name": "stderr",
     "output_type": "stream",
     "text": [
      "                                                 \r"
     ]
    },
    {
     "data": {
      "application/vnd.jupyter.widget-view+json": {
       "model_id": "8d9009a81bc643f4a4f9f99a8aef86e1",
       "version_major": 2,
       "version_minor": 0
      },
      "text/plain": [
       "  0%|          | 0/1 [00:00<?, ?it/s]"
      ]
     },
     "metadata": {},
     "output_type": "display_data"
    },
    {
     "name": "stderr",
     "output_type": "stream",
     "text": [
      "                                                 \r"
     ]
    },
    {
     "data": {
      "application/vnd.jupyter.widget-view+json": {
       "model_id": "34a3819922b9436188441ed0e849c331",
       "version_major": 2,
       "version_minor": 0
      },
      "text/plain": [
       "  0%|          | 0/1 [00:00<?, ?it/s]"
      ]
     },
     "metadata": {},
     "output_type": "display_data"
    },
    {
     "name": "stderr",
     "output_type": "stream",
     "text": [
      "                                                 \r"
     ]
    },
    {
     "data": {
      "application/vnd.jupyter.widget-view+json": {
       "model_id": "5d5e02bc47c6411bb6fafdd7924cd026",
       "version_major": 2,
       "version_minor": 0
      },
      "text/plain": [
       "  0%|          | 0/1 [00:00<?, ?it/s]"
      ]
     },
     "metadata": {},
     "output_type": "display_data"
    },
    {
     "name": "stderr",
     "output_type": "stream",
     "text": [
      "                                                 \r"
     ]
    },
    {
     "data": {
      "application/vnd.jupyter.widget-view+json": {
       "model_id": "bf8a68ff5f65421a97a18712869e4266",
       "version_major": 2,
       "version_minor": 0
      },
      "text/plain": [
       "  0%|          | 0/1 [00:00<?, ?it/s]"
      ]
     },
     "metadata": {},
     "output_type": "display_data"
    },
    {
     "name": "stderr",
     "output_type": "stream",
     "text": [
      "                                                 \r"
     ]
    },
    {
     "data": {
      "application/vnd.jupyter.widget-view+json": {
       "model_id": "b67e1bf8ad4b4395ba5c4692fb63f5ed",
       "version_major": 2,
       "version_minor": 0
      },
      "text/plain": [
       "  0%|          | 0/1 [00:00<?, ?it/s]"
      ]
     },
     "metadata": {},
     "output_type": "display_data"
    },
    {
     "name": "stderr",
     "output_type": "stream",
     "text": [
      "                                                 \r"
     ]
    },
    {
     "data": {
      "application/vnd.jupyter.widget-view+json": {
       "model_id": "93f3538fa4134eb8bbefb8d433c23e80",
       "version_major": 2,
       "version_minor": 0
      },
      "text/plain": [
       "  0%|          | 0/1 [00:00<?, ?it/s]"
      ]
     },
     "metadata": {},
     "output_type": "display_data"
    },
    {
     "name": "stderr",
     "output_type": "stream",
     "text": [
      "                                                  \r"
     ]
    },
    {
     "data": {
      "application/vnd.jupyter.widget-view+json": {
       "model_id": "a931b0f7976148f2a6e32d1bf95b48be",
       "version_major": 2,
       "version_minor": 0
      },
      "text/plain": [
       "  0%|          | 0/1 [00:00<?, ?it/s]"
      ]
     },
     "metadata": {},
     "output_type": "display_data"
    },
    {
     "name": "stderr",
     "output_type": "stream",
     "text": [
      "                                                 \r"
     ]
    },
    {
     "data": {
      "application/vnd.jupyter.widget-view+json": {
       "model_id": "0d6e2fdc6b6e4006a38d964ca16e6834",
       "version_major": 2,
       "version_minor": 0
      },
      "text/plain": [
       "  0%|          | 0/1 [00:00<?, ?it/s]"
      ]
     },
     "metadata": {},
     "output_type": "display_data"
    },
    {
     "name": "stderr",
     "output_type": "stream",
     "text": [
      "                                                 \r"
     ]
    },
    {
     "data": {
      "application/vnd.jupyter.widget-view+json": {
       "model_id": "3b49f6d3067a4bb19bfe32ade6f37445",
       "version_major": 2,
       "version_minor": 0
      },
      "text/plain": [
       "  0%|          | 0/1 [00:00<?, ?it/s]"
      ]
     },
     "metadata": {},
     "output_type": "display_data"
    },
    {
     "name": "stderr",
     "output_type": "stream",
     "text": [
      "                                                 \r"
     ]
    },
    {
     "data": {
      "application/vnd.jupyter.widget-view+json": {
       "model_id": "10bcd8b81f22409a81e7db6231846d86",
       "version_major": 2,
       "version_minor": 0
      },
      "text/plain": [
       "  0%|          | 0/1 [00:00<?, ?it/s]"
      ]
     },
     "metadata": {},
     "output_type": "display_data"
    },
    {
     "name": "stderr",
     "output_type": "stream",
     "text": [
      "                                                 \r"
     ]
    },
    {
     "data": {
      "application/vnd.jupyter.widget-view+json": {
       "model_id": "2a046c7080184d25b3b6fa701ece5497",
       "version_major": 2,
       "version_minor": 0
      },
      "text/plain": [
       "  0%|          | 0/1 [00:00<?, ?it/s]"
      ]
     },
     "metadata": {},
     "output_type": "display_data"
    },
    {
     "name": "stderr",
     "output_type": "stream",
     "text": [
      "                                                 \r"
     ]
    },
    {
     "data": {
      "application/vnd.jupyter.widget-view+json": {
       "model_id": "0562fbc0479d4c0ab837cf11977df4a3",
       "version_major": 2,
       "version_minor": 0
      },
      "text/plain": [
       "  0%|          | 0/1 [00:00<?, ?it/s]"
      ]
     },
     "metadata": {},
     "output_type": "display_data"
    },
    {
     "name": "stderr",
     "output_type": "stream",
     "text": [
      "                                                 \r"
     ]
    },
    {
     "data": {
      "application/vnd.jupyter.widget-view+json": {
       "model_id": "afdbe29d7383402fa413a45ee244f38a",
       "version_major": 2,
       "version_minor": 0
      },
      "text/plain": [
       "  0%|          | 0/1 [00:00<?, ?it/s]"
      ]
     },
     "metadata": {},
     "output_type": "display_data"
    },
    {
     "name": "stderr",
     "output_type": "stream",
     "text": [
      "                                                 \r"
     ]
    },
    {
     "data": {
      "application/vnd.jupyter.widget-view+json": {
       "model_id": "3788726a32a6421582a4716244cd975a",
       "version_major": 2,
       "version_minor": 0
      },
      "text/plain": [
       "  0%|          | 0/1 [00:00<?, ?it/s]"
      ]
     },
     "metadata": {},
     "output_type": "display_data"
    },
    {
     "name": "stderr",
     "output_type": "stream",
     "text": [
      "                                                 \r"
     ]
    },
    {
     "data": {
      "application/vnd.jupyter.widget-view+json": {
       "model_id": "33a4cad0c4e14e6ba231c0cf3dfdac88",
       "version_major": 2,
       "version_minor": 0
      },
      "text/plain": [
       "  0%|          | 0/1 [00:00<?, ?it/s]"
      ]
     },
     "metadata": {},
     "output_type": "display_data"
    },
    {
     "name": "stderr",
     "output_type": "stream",
     "text": [
      "                                                 \r"
     ]
    },
    {
     "data": {
      "application/vnd.jupyter.widget-view+json": {
       "model_id": "172db5b6e3e547c1a0430f5f7a4996a0",
       "version_major": 2,
       "version_minor": 0
      },
      "text/plain": [
       "  0%|          | 0/1 [00:00<?, ?it/s]"
      ]
     },
     "metadata": {},
     "output_type": "display_data"
    },
    {
     "name": "stderr",
     "output_type": "stream",
     "text": [
      "                                                 \r"
     ]
    },
    {
     "data": {
      "application/vnd.jupyter.widget-view+json": {
       "model_id": "c57d65dc8e504f6ba8eecae2e8b16636",
       "version_major": 2,
       "version_minor": 0
      },
      "text/plain": [
       "  0%|          | 0/1 [00:00<?, ?it/s]"
      ]
     },
     "metadata": {},
     "output_type": "display_data"
    },
    {
     "name": "stderr",
     "output_type": "stream",
     "text": [
      "                                                 \r"
     ]
    },
    {
     "data": {
      "application/vnd.jupyter.widget-view+json": {
       "model_id": "2e74d108c3154da6ad88e165f5f2f79e",
       "version_major": 2,
       "version_minor": 0
      },
      "text/plain": [
       "  0%|          | 0/1 [00:00<?, ?it/s]"
      ]
     },
     "metadata": {},
     "output_type": "display_data"
    },
    {
     "name": "stderr",
     "output_type": "stream",
     "text": [
      "                                                 \r"
     ]
    },
    {
     "data": {
      "application/vnd.jupyter.widget-view+json": {
       "model_id": "5a90184eb7f546b3bd1656b8ab7b79fd",
       "version_major": 2,
       "version_minor": 0
      },
      "text/plain": [
       "  0%|          | 0/1 [00:00<?, ?it/s]"
      ]
     },
     "metadata": {},
     "output_type": "display_data"
    },
    {
     "name": "stderr",
     "output_type": "stream",
     "text": [
      "                                                 \r"
     ]
    },
    {
     "data": {
      "application/vnd.jupyter.widget-view+json": {
       "model_id": "1a886e2a3644472ba8f414fe6282598d",
       "version_major": 2,
       "version_minor": 0
      },
      "text/plain": [
       "  0%|          | 0/1 [00:00<?, ?it/s]"
      ]
     },
     "metadata": {},
     "output_type": "display_data"
    },
    {
     "name": "stderr",
     "output_type": "stream",
     "text": [
      "                                                 \r"
     ]
    },
    {
     "data": {
      "application/vnd.jupyter.widget-view+json": {
       "model_id": "63f2030f146844d09da027e722fda286",
       "version_major": 2,
       "version_minor": 0
      },
      "text/plain": [
       "  0%|          | 0/1 [00:00<?, ?it/s]"
      ]
     },
     "metadata": {},
     "output_type": "display_data"
    },
    {
     "name": "stderr",
     "output_type": "stream",
     "text": [
      "                                                 \r"
     ]
    },
    {
     "data": {
      "application/vnd.jupyter.widget-view+json": {
       "model_id": "5aeb41cc7b1b4857a7f41944ff999139",
       "version_major": 2,
       "version_minor": 0
      },
      "text/plain": [
       "  0%|          | 0/1 [00:00<?, ?it/s]"
      ]
     },
     "metadata": {},
     "output_type": "display_data"
    },
    {
     "name": "stderr",
     "output_type": "stream",
     "text": [
      "                                                 \r"
     ]
    },
    {
     "data": {
      "application/vnd.jupyter.widget-view+json": {
       "model_id": "d89e1960c4a94622a320d8d6e227f4f4",
       "version_major": 2,
       "version_minor": 0
      },
      "text/plain": [
       "  0%|          | 0/1 [00:00<?, ?it/s]"
      ]
     },
     "metadata": {},
     "output_type": "display_data"
    },
    {
     "name": "stderr",
     "output_type": "stream",
     "text": [
      "                                                 \r"
     ]
    },
    {
     "data": {
      "application/vnd.jupyter.widget-view+json": {
       "model_id": "5b2039044734435ba3a0eb9e574578d7",
       "version_major": 2,
       "version_minor": 0
      },
      "text/plain": [
       "  0%|          | 0/1 [00:00<?, ?it/s]"
      ]
     },
     "metadata": {},
     "output_type": "display_data"
    },
    {
     "name": "stderr",
     "output_type": "stream",
     "text": [
      "                                                 \r"
     ]
    },
    {
     "data": {
      "application/vnd.jupyter.widget-view+json": {
       "model_id": "7a52259265964b49817157665e152630",
       "version_major": 2,
       "version_minor": 0
      },
      "text/plain": [
       "  0%|          | 0/1 [00:00<?, ?it/s]"
      ]
     },
     "metadata": {},
     "output_type": "display_data"
    },
    {
     "name": "stderr",
     "output_type": "stream",
     "text": [
      "                                                 \r"
     ]
    },
    {
     "data": {
      "application/vnd.jupyter.widget-view+json": {
       "model_id": "30768cdfba8b4da09bb46ca8ca3068b6",
       "version_major": 2,
       "version_minor": 0
      },
      "text/plain": [
       "  0%|          | 0/1 [00:00<?, ?it/s]"
      ]
     },
     "metadata": {},
     "output_type": "display_data"
    },
    {
     "name": "stderr",
     "output_type": "stream",
     "text": [
      "                                                 \r"
     ]
    },
    {
     "data": {
      "application/vnd.jupyter.widget-view+json": {
       "model_id": "514458840ea94f96958f816b3b0176ff",
       "version_major": 2,
       "version_minor": 0
      },
      "text/plain": [
       "  0%|          | 0/1 [00:00<?, ?it/s]"
      ]
     },
     "metadata": {},
     "output_type": "display_data"
    },
    {
     "name": "stderr",
     "output_type": "stream",
     "text": [
      "                                                 \r"
     ]
    },
    {
     "data": {
      "application/vnd.jupyter.widget-view+json": {
       "model_id": "c2dbbf242a36496b8b8c1e695af9624e",
       "version_major": 2,
       "version_minor": 0
      },
      "text/plain": [
       "  0%|          | 0/1 [00:00<?, ?it/s]"
      ]
     },
     "metadata": {},
     "output_type": "display_data"
    },
    {
     "name": "stderr",
     "output_type": "stream",
     "text": [
      "                                                 \r"
     ]
    },
    {
     "data": {
      "application/vnd.jupyter.widget-view+json": {
       "model_id": "539e5304bff84820b5dae62cace4e0c4",
       "version_major": 2,
       "version_minor": 0
      },
      "text/plain": [
       "  0%|          | 0/1 [00:00<?, ?it/s]"
      ]
     },
     "metadata": {},
     "output_type": "display_data"
    },
    {
     "name": "stderr",
     "output_type": "stream",
     "text": [
      "                                                 \r"
     ]
    },
    {
     "data": {
      "application/vnd.jupyter.widget-view+json": {
       "model_id": "90f887c6ff6e4aa6bb015827ea7cb6c6",
       "version_major": 2,
       "version_minor": 0
      },
      "text/plain": [
       "  0%|          | 0/1 [00:00<?, ?it/s]"
      ]
     },
     "metadata": {},
     "output_type": "display_data"
    },
    {
     "name": "stderr",
     "output_type": "stream",
     "text": [
      "                                                 \r"
     ]
    },
    {
     "data": {
      "application/vnd.jupyter.widget-view+json": {
       "model_id": "a1a6bec406c243b09bb733a7f59a79ad",
       "version_major": 2,
       "version_minor": 0
      },
      "text/plain": [
       "  0%|          | 0/1 [00:00<?, ?it/s]"
      ]
     },
     "metadata": {},
     "output_type": "display_data"
    },
    {
     "name": "stderr",
     "output_type": "stream",
     "text": [
      "                                                 \r"
     ]
    },
    {
     "data": {
      "application/vnd.jupyter.widget-view+json": {
       "model_id": "e099564cfa2f472abbb699a8ac422056",
       "version_major": 2,
       "version_minor": 0
      },
      "text/plain": [
       "  0%|          | 0/1 [00:00<?, ?it/s]"
      ]
     },
     "metadata": {},
     "output_type": "display_data"
    },
    {
     "name": "stderr",
     "output_type": "stream",
     "text": [
      "                                                 \r"
     ]
    },
    {
     "data": {
      "application/vnd.jupyter.widget-view+json": {
       "model_id": "50a6b2d460364f03aab2f31f55061a17",
       "version_major": 2,
       "version_minor": 0
      },
      "text/plain": [
       "  0%|          | 0/1 [00:00<?, ?it/s]"
      ]
     },
     "metadata": {},
     "output_type": "display_data"
    },
    {
     "name": "stderr",
     "output_type": "stream",
     "text": [
      "                                                 \r"
     ]
    },
    {
     "data": {
      "application/vnd.jupyter.widget-view+json": {
       "model_id": "56a05a7be09648879201569c4edbc6ab",
       "version_major": 2,
       "version_minor": 0
      },
      "text/plain": [
       "  0%|          | 0/1 [00:00<?, ?it/s]"
      ]
     },
     "metadata": {},
     "output_type": "display_data"
    },
    {
     "name": "stderr",
     "output_type": "stream",
     "text": [
      "                                                 \r"
     ]
    },
    {
     "data": {
      "application/vnd.jupyter.widget-view+json": {
       "model_id": "170798840be748d48713f3e2778eb4b7",
       "version_major": 2,
       "version_minor": 0
      },
      "text/plain": [
       "  0%|          | 0/1 [00:00<?, ?it/s]"
      ]
     },
     "metadata": {},
     "output_type": "display_data"
    },
    {
     "name": "stderr",
     "output_type": "stream",
     "text": [
      "                                                 \r"
     ]
    },
    {
     "data": {
      "application/vnd.jupyter.widget-view+json": {
       "model_id": "a54fa70142e64337b444e7f4bc95c2c9",
       "version_major": 2,
       "version_minor": 0
      },
      "text/plain": [
       "  0%|          | 0/1 [00:00<?, ?it/s]"
      ]
     },
     "metadata": {},
     "output_type": "display_data"
    },
    {
     "name": "stderr",
     "output_type": "stream",
     "text": [
      "                                                 \r"
     ]
    },
    {
     "data": {
      "application/vnd.jupyter.widget-view+json": {
       "model_id": "bd4e600c948241cc94bd27739af80bf3",
       "version_major": 2,
       "version_minor": 0
      },
      "text/plain": [
       "  0%|          | 0/1 [00:00<?, ?it/s]"
      ]
     },
     "metadata": {},
     "output_type": "display_data"
    },
    {
     "name": "stderr",
     "output_type": "stream",
     "text": [
      "                                                 \r"
     ]
    },
    {
     "data": {
      "application/vnd.jupyter.widget-view+json": {
       "model_id": "ce1e482dd47a4acab5017e7fb833f31e",
       "version_major": 2,
       "version_minor": 0
      },
      "text/plain": [
       "  0%|          | 0/1 [00:00<?, ?it/s]"
      ]
     },
     "metadata": {},
     "output_type": "display_data"
    },
    {
     "name": "stderr",
     "output_type": "stream",
     "text": [
      "                                                 \r"
     ]
    },
    {
     "data": {
      "application/vnd.jupyter.widget-view+json": {
       "model_id": "9bff3d903fe0438293de89712d749f20",
       "version_major": 2,
       "version_minor": 0
      },
      "text/plain": [
       "  0%|          | 0/1 [00:00<?, ?it/s]"
      ]
     },
     "metadata": {},
     "output_type": "display_data"
    },
    {
     "name": "stderr",
     "output_type": "stream",
     "text": [
      "                                                 \r"
     ]
    },
    {
     "data": {
      "application/vnd.jupyter.widget-view+json": {
       "model_id": "8656b49a001043bf8f774225c55e0102",
       "version_major": 2,
       "version_minor": 0
      },
      "text/plain": [
       "  0%|          | 0/1 [00:00<?, ?it/s]"
      ]
     },
     "metadata": {},
     "output_type": "display_data"
    },
    {
     "name": "stderr",
     "output_type": "stream",
     "text": [
      "                                                 \r"
     ]
    },
    {
     "data": {
      "application/vnd.jupyter.widget-view+json": {
       "model_id": "30ddf11325a54193b630900d63d16db6",
       "version_major": 2,
       "version_minor": 0
      },
      "text/plain": [
       "  0%|          | 0/1 [00:00<?, ?it/s]"
      ]
     },
     "metadata": {},
     "output_type": "display_data"
    },
    {
     "name": "stderr",
     "output_type": "stream",
     "text": [
      "                                                 \r"
     ]
    },
    {
     "data": {
      "application/vnd.jupyter.widget-view+json": {
       "model_id": "9592edc8a66c47488bc292538ff2bbfd",
       "version_major": 2,
       "version_minor": 0
      },
      "text/plain": [
       "  0%|          | 0/1 [00:00<?, ?it/s]"
      ]
     },
     "metadata": {},
     "output_type": "display_data"
    },
    {
     "name": "stderr",
     "output_type": "stream",
     "text": [
      "                                                 \r"
     ]
    },
    {
     "data": {
      "application/vnd.jupyter.widget-view+json": {
       "model_id": "f4ca429f532b4792baf713b90e779aa3",
       "version_major": 2,
       "version_minor": 0
      },
      "text/plain": [
       "  0%|          | 0/1 [00:00<?, ?it/s]"
      ]
     },
     "metadata": {},
     "output_type": "display_data"
    },
    {
     "name": "stderr",
     "output_type": "stream",
     "text": [
      "                                                 \r"
     ]
    },
    {
     "data": {
      "application/vnd.jupyter.widget-view+json": {
       "model_id": "55870127bda14208b57b3ced1592f5fc",
       "version_major": 2,
       "version_minor": 0
      },
      "text/plain": [
       "  0%|          | 0/1 [00:00<?, ?it/s]"
      ]
     },
     "metadata": {},
     "output_type": "display_data"
    },
    {
     "name": "stderr",
     "output_type": "stream",
     "text": [
      "                                                 \r"
     ]
    },
    {
     "data": {
      "application/vnd.jupyter.widget-view+json": {
       "model_id": "40d3c57f968545aebc46cbeb374b8b66",
       "version_major": 2,
       "version_minor": 0
      },
      "text/plain": [
       "  0%|          | 0/1 [00:00<?, ?it/s]"
      ]
     },
     "metadata": {},
     "output_type": "display_data"
    },
    {
     "name": "stderr",
     "output_type": "stream",
     "text": [
      "                                                 \r"
     ]
    },
    {
     "data": {
      "application/vnd.jupyter.widget-view+json": {
       "model_id": "d3b73488e2c4445bb5aaf34da1520d28",
       "version_major": 2,
       "version_minor": 0
      },
      "text/plain": [
       "  0%|          | 0/1 [00:00<?, ?it/s]"
      ]
     },
     "metadata": {},
     "output_type": "display_data"
    },
    {
     "name": "stderr",
     "output_type": "stream",
     "text": [
      "                                                 \r"
     ]
    },
    {
     "data": {
      "application/vnd.jupyter.widget-view+json": {
       "model_id": "9e4c7eae10ef4fef89a55a7d42b3d837",
       "version_major": 2,
       "version_minor": 0
      },
      "text/plain": [
       "  0%|          | 0/1 [00:00<?, ?it/s]"
      ]
     },
     "metadata": {},
     "output_type": "display_data"
    },
    {
     "name": "stderr",
     "output_type": "stream",
     "text": [
      "                                                 \r"
     ]
    },
    {
     "data": {
      "application/vnd.jupyter.widget-view+json": {
       "model_id": "1f39227ef35e4b98a6517b498139543c",
       "version_major": 2,
       "version_minor": 0
      },
      "text/plain": [
       "  0%|          | 0/1 [00:00<?, ?it/s]"
      ]
     },
     "metadata": {},
     "output_type": "display_data"
    },
    {
     "name": "stderr",
     "output_type": "stream",
     "text": [
      "                                                 \r"
     ]
    },
    {
     "data": {
      "application/vnd.jupyter.widget-view+json": {
       "model_id": "29f8b197fb044444b036c4302c30a663",
       "version_major": 2,
       "version_minor": 0
      },
      "text/plain": [
       "  0%|          | 0/1 [00:00<?, ?it/s]"
      ]
     },
     "metadata": {},
     "output_type": "display_data"
    },
    {
     "name": "stderr",
     "output_type": "stream",
     "text": [
      "                                                 \r"
     ]
    },
    {
     "data": {
      "application/vnd.jupyter.widget-view+json": {
       "model_id": "8a4dec50c72f4bbcae8ba7067dd2dafc",
       "version_major": 2,
       "version_minor": 0
      },
      "text/plain": [
       "  0%|          | 0/1 [00:00<?, ?it/s]"
      ]
     },
     "metadata": {},
     "output_type": "display_data"
    },
    {
     "name": "stderr",
     "output_type": "stream",
     "text": [
      "                                                 \r"
     ]
    },
    {
     "data": {
      "application/vnd.jupyter.widget-view+json": {
       "model_id": "71583f58c2704acc976040c25e82816a",
       "version_major": 2,
       "version_minor": 0
      },
      "text/plain": [
       "  0%|          | 0/1 [00:00<?, ?it/s]"
      ]
     },
     "metadata": {},
     "output_type": "display_data"
    },
    {
     "name": "stderr",
     "output_type": "stream",
     "text": [
      "                                                 \r"
     ]
    },
    {
     "data": {
      "application/vnd.jupyter.widget-view+json": {
       "model_id": "626cd7de97d74f65bd418f509a95ce49",
       "version_major": 2,
       "version_minor": 0
      },
      "text/plain": [
       "  0%|          | 0/1 [00:00<?, ?it/s]"
      ]
     },
     "metadata": {},
     "output_type": "display_data"
    },
    {
     "name": "stderr",
     "output_type": "stream",
     "text": [
      "                                                 \r"
     ]
    },
    {
     "data": {
      "application/vnd.jupyter.widget-view+json": {
       "model_id": "d358d55e57384c5588c64a28cd0ed117",
       "version_major": 2,
       "version_minor": 0
      },
      "text/plain": [
       "  0%|          | 0/1 [00:00<?, ?it/s]"
      ]
     },
     "metadata": {},
     "output_type": "display_data"
    },
    {
     "name": "stderr",
     "output_type": "stream",
     "text": [
      "                                                 \r"
     ]
    },
    {
     "data": {
      "application/vnd.jupyter.widget-view+json": {
       "model_id": "eeb57aba3e974808825911385673ee41",
       "version_major": 2,
       "version_minor": 0
      },
      "text/plain": [
       "  0%|          | 0/1 [00:00<?, ?it/s]"
      ]
     },
     "metadata": {},
     "output_type": "display_data"
    },
    {
     "name": "stderr",
     "output_type": "stream",
     "text": [
      "                                                 \r"
     ]
    },
    {
     "data": {
      "application/vnd.jupyter.widget-view+json": {
       "model_id": "b0d1c2af325248048db8b04d33fcd0d3",
       "version_major": 2,
       "version_minor": 0
      },
      "text/plain": [
       "  0%|          | 0/1 [00:00<?, ?it/s]"
      ]
     },
     "metadata": {},
     "output_type": "display_data"
    },
    {
     "name": "stderr",
     "output_type": "stream",
     "text": [
      "                                                 \r"
     ]
    },
    {
     "data": {
      "application/vnd.jupyter.widget-view+json": {
       "model_id": "5c6d148eda7b442eada24093d09e0f77",
       "version_major": 2,
       "version_minor": 0
      },
      "text/plain": [
       "  0%|          | 0/1 [00:00<?, ?it/s]"
      ]
     },
     "metadata": {},
     "output_type": "display_data"
    },
    {
     "name": "stderr",
     "output_type": "stream",
     "text": [
      "                                                 \r"
     ]
    },
    {
     "data": {
      "application/vnd.jupyter.widget-view+json": {
       "model_id": "020dc00a1fff4c8181db6f0c43d0c490",
       "version_major": 2,
       "version_minor": 0
      },
      "text/plain": [
       "  0%|          | 0/1 [00:00<?, ?it/s]"
      ]
     },
     "metadata": {},
     "output_type": "display_data"
    },
    {
     "name": "stderr",
     "output_type": "stream",
     "text": [
      "                                                 \r"
     ]
    },
    {
     "data": {
      "application/vnd.jupyter.widget-view+json": {
       "model_id": "dd4efc723b31450e8e64485ad56b16b9",
       "version_major": 2,
       "version_minor": 0
      },
      "text/plain": [
       "  0%|          | 0/1 [00:00<?, ?it/s]"
      ]
     },
     "metadata": {},
     "output_type": "display_data"
    },
    {
     "name": "stderr",
     "output_type": "stream",
     "text": [
      "                                                 \r"
     ]
    },
    {
     "data": {
      "application/vnd.jupyter.widget-view+json": {
       "model_id": "4bd7e9c478af49cd84b616803e5bf077",
       "version_major": 2,
       "version_minor": 0
      },
      "text/plain": [
       "  0%|          | 0/1 [00:00<?, ?it/s]"
      ]
     },
     "metadata": {},
     "output_type": "display_data"
    },
    {
     "name": "stderr",
     "output_type": "stream",
     "text": [
      "                                                 \r"
     ]
    },
    {
     "data": {
      "application/vnd.jupyter.widget-view+json": {
       "model_id": "9700205f1cdb46f5a00ccceeffbd66cb",
       "version_major": 2,
       "version_minor": 0
      },
      "text/plain": [
       "  0%|          | 0/1 [00:00<?, ?it/s]"
      ]
     },
     "metadata": {},
     "output_type": "display_data"
    },
    {
     "name": "stderr",
     "output_type": "stream",
     "text": [
      "                                                 \r"
     ]
    },
    {
     "data": {
      "application/vnd.jupyter.widget-view+json": {
       "model_id": "d3eed9ea171d427db83dc282efc23b92",
       "version_major": 2,
       "version_minor": 0
      },
      "text/plain": [
       "  0%|          | 0/1 [00:00<?, ?it/s]"
      ]
     },
     "metadata": {},
     "output_type": "display_data"
    },
    {
     "name": "stderr",
     "output_type": "stream",
     "text": [
      "                                                 \r"
     ]
    },
    {
     "data": {
      "application/vnd.jupyter.widget-view+json": {
       "model_id": "c91c5e60af44422c862e97eb0b13799c",
       "version_major": 2,
       "version_minor": 0
      },
      "text/plain": [
       "  0%|          | 0/1 [00:00<?, ?it/s]"
      ]
     },
     "metadata": {},
     "output_type": "display_data"
    },
    {
     "name": "stderr",
     "output_type": "stream",
     "text": [
      "                                                 \r"
     ]
    },
    {
     "data": {
      "application/vnd.jupyter.widget-view+json": {
       "model_id": "6848abcc0f6946e481fe317ce331fd9b",
       "version_major": 2,
       "version_minor": 0
      },
      "text/plain": [
       "  0%|          | 0/1 [00:00<?, ?it/s]"
      ]
     },
     "metadata": {},
     "output_type": "display_data"
    },
    {
     "name": "stderr",
     "output_type": "stream",
     "text": [
      "                                                 \r"
     ]
    },
    {
     "data": {
      "application/vnd.jupyter.widget-view+json": {
       "model_id": "c9f92bcf12b242068d3b1c8313868fd8",
       "version_major": 2,
       "version_minor": 0
      },
      "text/plain": [
       "  0%|          | 0/1 [00:00<?, ?it/s]"
      ]
     },
     "metadata": {},
     "output_type": "display_data"
    },
    {
     "name": "stderr",
     "output_type": "stream",
     "text": [
      "                                                 \r"
     ]
    },
    {
     "data": {
      "application/vnd.jupyter.widget-view+json": {
       "model_id": "1a011a2cb547485083d3268d48b27527",
       "version_major": 2,
       "version_minor": 0
      },
      "text/plain": [
       "  0%|          | 0/1 [00:00<?, ?it/s]"
      ]
     },
     "metadata": {},
     "output_type": "display_data"
    },
    {
     "name": "stderr",
     "output_type": "stream",
     "text": [
      "                                                 \r"
     ]
    },
    {
     "data": {
      "application/vnd.jupyter.widget-view+json": {
       "model_id": "e17157c094814cdb91057cfde9175f4c",
       "version_major": 2,
       "version_minor": 0
      },
      "text/plain": [
       "  0%|          | 0/1 [00:00<?, ?it/s]"
      ]
     },
     "metadata": {},
     "output_type": "display_data"
    },
    {
     "name": "stderr",
     "output_type": "stream",
     "text": [
      "                                                 \r"
     ]
    },
    {
     "data": {
      "application/vnd.jupyter.widget-view+json": {
       "model_id": "31e93fcbd0d14a57956037f0fceff836",
       "version_major": 2,
       "version_minor": 0
      },
      "text/plain": [
       "  0%|          | 0/1 [00:00<?, ?it/s]"
      ]
     },
     "metadata": {},
     "output_type": "display_data"
    },
    {
     "name": "stderr",
     "output_type": "stream",
     "text": [
      "                                                 \r"
     ]
    },
    {
     "data": {
      "application/vnd.jupyter.widget-view+json": {
       "model_id": "d2dd1703e8184e6abbb73d4734a4a154",
       "version_major": 2,
       "version_minor": 0
      },
      "text/plain": [
       "  0%|          | 0/1 [00:00<?, ?it/s]"
      ]
     },
     "metadata": {},
     "output_type": "display_data"
    },
    {
     "name": "stderr",
     "output_type": "stream",
     "text": [
      "                                                 \r"
     ]
    },
    {
     "data": {
      "application/vnd.jupyter.widget-view+json": {
       "model_id": "29365984dd124db6b169c6a7c0e82312",
       "version_major": 2,
       "version_minor": 0
      },
      "text/plain": [
       "  0%|          | 0/1 [00:00<?, ?it/s]"
      ]
     },
     "metadata": {},
     "output_type": "display_data"
    },
    {
     "name": "stderr",
     "output_type": "stream",
     "text": [
      "                                                 \r"
     ]
    },
    {
     "data": {
      "application/vnd.jupyter.widget-view+json": {
       "model_id": "0bd7d219beae4f1fbd646e501facc144",
       "version_major": 2,
       "version_minor": 0
      },
      "text/plain": [
       "  0%|          | 0/1 [00:00<?, ?it/s]"
      ]
     },
     "metadata": {},
     "output_type": "display_data"
    },
    {
     "name": "stderr",
     "output_type": "stream",
     "text": [
      "                                                 \r"
     ]
    },
    {
     "data": {
      "application/vnd.jupyter.widget-view+json": {
       "model_id": "3ace08367b974aafa5e2d6c3ba2293cb",
       "version_major": 2,
       "version_minor": 0
      },
      "text/plain": [
       "  0%|          | 0/1 [00:00<?, ?it/s]"
      ]
     },
     "metadata": {},
     "output_type": "display_data"
    },
    {
     "name": "stderr",
     "output_type": "stream",
     "text": [
      "                                                 \r"
     ]
    },
    {
     "data": {
      "application/vnd.jupyter.widget-view+json": {
       "model_id": "b462bb9d7da2406da4201cc47217c13c",
       "version_major": 2,
       "version_minor": 0
      },
      "text/plain": [
       "  0%|          | 0/1 [00:00<?, ?it/s]"
      ]
     },
     "metadata": {},
     "output_type": "display_data"
    },
    {
     "name": "stderr",
     "output_type": "stream",
     "text": [
      "                                                 \r"
     ]
    },
    {
     "data": {
      "application/vnd.jupyter.widget-view+json": {
       "model_id": "aae31f6c29ca435f8622203fdac354ee",
       "version_major": 2,
       "version_minor": 0
      },
      "text/plain": [
       "  0%|          | 0/1 [00:00<?, ?it/s]"
      ]
     },
     "metadata": {},
     "output_type": "display_data"
    },
    {
     "name": "stderr",
     "output_type": "stream",
     "text": [
      "                                                 \r"
     ]
    },
    {
     "data": {
      "application/vnd.jupyter.widget-view+json": {
       "model_id": "f5647df04cb54b7eaf9678c9a0ab8a56",
       "version_major": 2,
       "version_minor": 0
      },
      "text/plain": [
       "  0%|          | 0/1 [00:00<?, ?it/s]"
      ]
     },
     "metadata": {},
     "output_type": "display_data"
    },
    {
     "name": "stderr",
     "output_type": "stream",
     "text": [
      "                                                 \r"
     ]
    },
    {
     "data": {
      "application/vnd.jupyter.widget-view+json": {
       "model_id": "7e5821e06fb34858a395776a0fc22fbb",
       "version_major": 2,
       "version_minor": 0
      },
      "text/plain": [
       "  0%|          | 0/1 [00:00<?, ?it/s]"
      ]
     },
     "metadata": {},
     "output_type": "display_data"
    }
   ],
   "source": [
    "import pandas as pd\n",
    "import WikidataObject as wdo\n",
    "\n",
    "sample2 = VILLESFR.copy(deep=True)\n",
    "verbose = False\n",
    "\n",
    "if 'resolved' not in sample2.columns:\n",
    "    sample2['resolved'] = None\n",
    "\n",
    "for i, row in sample2.iterrows():\n",
    "    resolved = geoparser.run_sentence(row['fullcontent'], HEAD=row['head'])\n",
    "\n",
    "    skyline = row['gold'] in resolved[0]['cross_cand_score'].keys()\n",
    "    best_pred = resolved[0]['prediction']\n",
    "\n",
    "    if best_pred[0] != 'Q':\n",
    "        acc10 = False\n",
    "    else:\n",
    "        wd_pred = wdo.WikidataObject(best_pred, coordinates=resolved[0]['latlon'])\n",
    "        acc10 = wd_pred._distance_to(row['gold']) <= 10\n",
    "\n",
    "    sample2.at[i, 'resolved'] = resolved[0]\n",
    "    sample2.at[i, 'skyline'] = skyline\n",
    "    sample2.at[i, 'bestPred'] = best_pred\n",
    "    sample2.at[i, 'acc10'] = acc10\n",
    "\n",
    "    if verbose:\n",
    "        print(f\"Head: {row['head']}\")\n",
    "        print(f\"Gold: {row['gold']}\")\n",
    "        print(f\"Prediction: {best_pred}\")\n",
    "        print(f\"Skyline: {skyline}\")\n",
    "        print(resolved[0]['cross_cand_score'])\n",
    "        print(f\"Accuracy 10: {acc10}\\n\")\n"
   ]
  },
  {
   "cell_type": "code",
   "execution_count": 23,
   "metadata": {},
   "outputs": [],
   "source": [
    "sample2.to_json('t_res_results_140424.json', orient='records', lines=True)\n",
    "print(sample2.skyline.value_counts(normalize=True), '\\n')\n",
    "print(sample2.acc10.value_counts(normalize=True), '\\n')"
   ]
  },
  {
   "cell_type": "markdown",
   "metadata": {},
   "source": [
    "# Perfect match"
   ]
  },
  {
   "cell_type": "code",
   "execution_count": 7,
   "metadata": {},
   "outputs": [],
   "source": [
    "import os\n",
    "import sys\n",
    "import sqlite3\n",
    "from pathlib import Path\n",
    "import json\n",
    "from t_res.geoparser import geode_pipe,ranking,linking\n",
    "path = '/home/antoine/Documents/GitHub/T-Res/'\n",
    "NER_path = path + 'resources/fr_spacy_custom_spancat_edda'"
   ]
  },
  {
   "cell_type": "code",
   "execution_count": 18,
   "metadata": {},
   "outputs": [],
   "source": [
    "myranker = ranking.Ranker(\n",
    "    method=\"perfectmatch\",\n",
    "    resources_path=\"../resources/\",\n",
    ")"
   ]
  },
  {
   "cell_type": "code",
   "execution_count": 11,
   "metadata": {},
   "outputs": [],
   "source": [
    "mylinker = linking.Linker(\n",
    "    method=\"mostpopular\",\n",
    "    resources_path=\"../resources/\",\n",
    ")"
   ]
  },
  {
   "cell_type": "code",
   "execution_count": 12,
   "metadata": {},
   "outputs": [
    {
     "name": "stdout",
     "output_type": "stream",
     "text": [
      "*** Loading the ranker resources.\n",
      "*** Load linking resources.\n",
      "  > Loading mentions to wikidata mapping.\n",
      "  > Loading gazetteer.\n",
      "*** Linking resources loaded!\n",
      "\n"
     ]
    }
   ],
   "source": [
    "geoparser = geode_pipe.Pipeline(geodeNERpath=NER_path,\n",
    "                              myranker=myranker,\n",
    "                              mylinker=mylinker)"
   ]
  },
  {
   "cell_type": "code",
   "execution_count": 13,
   "metadata": {},
   "outputs": [
    {
     "name": "stdout",
     "output_type": "stream",
     "text": [
      "mentions : [{'entity': 'B-LOC', 'score': 1, 'mention': 'ALBI', 'start': 2, 'end': 5}, {'entity': 'B-LOC', 'score': 1, 'mention': 'France', 'start': 25, 'end': 31}, {'entity': 'B-LOC', 'score': 1, 'mention': 'Albigeois', 'start': 47, 'end': 56}, {'entity': 'B-LOC', 'score': 1, 'mention': 'Tarn', 'start': 99, 'end': 103}, {'entity': 'B-LOC', 'score': 1, 'mention': 'Languedoc', 'start': 71, 'end': 80}]\n",
      "rmentions : [{'mention': 'ALBI'}, {'mention': 'France'}, {'mention': 'Albigeois'}, {'mention': 'Tarn'}, {'mention': 'Languedoc'}]\n",
      "wk_cands : {'France': {'France': {'Score': 1.0, 'Candidates': {'Q71084': 0.10598896769109535, 'Q146246': 0.00429553264604811, 'Q71092': 0.12113564668769716, 'Q58296': 0.09373020899303357, 'Q70802': 0.3776297335203366, 'Q58326': 0.031683168316831684, 'Q69808': 0.011072103699702943, 'Q185682': 0.0009886307464162135, 'Q142': 0.8872503121098627, 'Q170604': 0.002657218777679362, 'Q2841718': 0.044444444444444446, 'Q271894': 0.0023923444976076554, 'Q218272': 0.0006872852233676976, 'Q90': 3.726198904497522e-05, 'Q206521': 0.0017543859649122807, 'Q745942': 0.0033783783783783786, 'Q200686': 0.061919504643962855, 'Q854': 4.0181620926588175e-05, 'Q787870': 0.04, 'Q221621': 0.19047619047619047, 'Q9642': 0.0009182736455463728, 'Q69829': 0.15137614678899083, 'Q907234': 0.0009910802775024777, 'Q8641370': 0.0012324377618930242, 'Q16470': 0.00040048057669203043, 'Q58202': 0.13412816691505217, 'Q210682': 0.0014204545454545455, 'Q7997': 0.00823045267489712, 'Q265319': 0.0036900369003690036, 'Q783684': 0.07441860465116279, 'Q139708': 0.0012330456226880395, 'Q207162': 0.025710419485791614, 'Q48756': 0.002583979328165375, 'Q335827': 0.0049504950495049506, 'Q13021889': 0.08333333333333333, 'Q69323': 0.11904761904761904, 'Q221639': 0.11764705882352941, 'Q98405': 0.0023752969121140144, 'Q129003': 0.015267175572519083, 'Q221646': 0.10526315789473684, 'Q1331514': 0.05917159763313609, 'Q38060': 0.0018656716417910447, 'Q1028848': 0.006711409395973154, 'Q1524643': 0.16666666666666666, 'Q327': 0.00023730422401518748, 'Q221611': 0.1, 'Q179390': 0.13636363636363635, 'Q221631': 0.25, 'Q701164': 0.058823529411764705, 'Q911972': 0.0006397952655150352, 'Q546607': 0.12962962962962962, 'Q15479': 0.021739130434782608, 'Q653784': 0.14285714285714285, 'Q2455958': 0.0851063829787234, 'Q16394': 0.0016, 'Q184319': 0.016, 'Q40898': 0.0006844626967830253, 'Q270517': 0.0021413276231263384, 'Q854122': 0.016129032258064516, 'Q212429': 0.005706134094151213, 'Q147796': 0.015151515151515152, 'Q2084927': 0.35000000000000003, 'Q2935621': 0.125, 'Q2009420': 0.2, 'Q208529': 0.0021551724137931034, 'Q171424': 0.003129890453834116, 'Q49644': 0.6666666666666666, 'Q5501842': 0.004878048780487805, 'Q788606': 0.025, 'Q154720': 0.0004488330341113106, 'Q132568': 0.00042753313381787086, 'Q1506615': 0.027777777777777776, 'Q7330388': 0.045454545454545456, 'Q172876': 0.003436426116838488, 'Q165271': 0.003115264797507788, 'Q22942003': 1.0, 'Q23781101': 0.5, 'Q235': 0.00029171528588098014, 'Q18156370': 1.0, 'Q215987': 0.0012360939431396785, 'Q203645': 0.0028328611898017, 'Q12193': 0.0003169572107765452, 'Q6454': 0.0005534034311012728, 'Q28154421': 0.3333333333333333, 'Q42807': 0.001034126163391934, 'Q28403426': 1.0, 'Q48314': 0.00042052144659377626, 'Q5707495': 0.6666666666666666, 'Q1414378': 0.06666666666666667}}}, 'Tarn': {'Tarn': {'Score': 1.0, 'Candidates': {'Q215653': 0.8135593220338984, 'Q12772': 0.9555921052631579, 'Q1538251': 0.08695652173913043}}}, 'Languedoc': {'Languedoc': {'Score': 1.0, 'Candidates': {'Q206221': 0.9739336492890996, 'Q17005': 0.009146341463414635, 'Q1886509': 1.0}}}, 'Albigeois': {'Albigeois': {'Score': 1.0, 'Candidates': {'Q132801': 0.050890585241730284}}}, 'ALBI': {}}\n",
      "{'mention': 'ALBI', 'ner_score': 1, 'pos': 2, 'sent_idx': 0, 'end_pos': 5, 'tag': 'B-LOC', 'sentence': \"* ALBI, (Géog.) ville de France, capitale de l'Albigeois, dans le haut Languedoc : elle est sur le Tarn. Long. 19. 49. lat. 43. 55. 44.\", 'prediction': 'NIL', 'ed_score': 0.0, 'string_match_score': {}, 'prior_cand_score': {}, 'cross_cand_score': {}, 'latlon': None, 'wkdt_class': None}\n",
      "{'mention': 'France', 'ner_score': 1, 'pos': 25, 'sent_idx': 0, 'end_pos': 31, 'tag': 'B-LOC', 'sentence': \"* ALBI, (Géog.) ville de France, capitale de l'Albigeois, dans le haut Languedoc : elle est sur le Tarn. Long. 19. 49. lat. 43. 55. 44.\", 'prediction': 'Q142', 'ed_score': 0.979, 'string_match_score': {'France': (1.0, ['Q71084', 'Q146246', 'Q71092', 'Q58296', 'Q70802', 'Q58326', 'Q69808', 'Q185682', 'Q142', 'Q170604', 'Q2841718', 'Q271894', 'Q218272', 'Q90', 'Q206521', 'Q745942', 'Q200686', 'Q854', 'Q787870', 'Q221621', 'Q9642', 'Q69829', 'Q907234', 'Q8641370', 'Q16470', 'Q58202', 'Q210682', 'Q7997', 'Q265319', 'Q783684', 'Q139708', 'Q207162', 'Q48756', 'Q335827', 'Q13021889', 'Q69323', 'Q221639', 'Q98405', 'Q129003', 'Q221646', 'Q1331514', 'Q38060', 'Q1028848', 'Q1524643', 'Q327', 'Q221611', 'Q179390', 'Q221631', 'Q701164', 'Q911972', 'Q546607', 'Q15479', 'Q653784', 'Q2455958', 'Q16394', 'Q184319', 'Q40898', 'Q270517', 'Q854122', 'Q212429', 'Q147796', 'Q2084927', 'Q2935621', 'Q2009420', 'Q208529', 'Q171424', 'Q49644', 'Q5501842', 'Q788606', 'Q154720', 'Q132568', 'Q1506615', 'Q7330388', 'Q172876', 'Q165271', 'Q22942003', 'Q23781101', 'Q235', 'Q18156370', 'Q215987', 'Q203645', 'Q12193', 'Q6454', 'Q28154421', 'Q42807', 'Q28403426', 'Q48314', 'Q5707495', 'Q1414378'])}, 'prior_cand_score': {}, 'cross_cand_score': {'Q142': 0.979, 'Q70802': 0.01, 'Q71084': 0.003, 'Q71092': 0.002, 'Q58296': 0.001, 'Q69829': 0.001, 'Q58202': 0.001}, 'latlon': [47.0, 2.0], 'wkdt_class': 'Q3624078'}\n",
      "{'mention': 'Albigeois', 'ner_score': 1, 'pos': 47, 'sent_idx': 0, 'end_pos': 56, 'tag': 'B-LOC', 'sentence': \"* ALBI, (Géog.) ville de France, capitale de l'Albigeois, dans le haut Languedoc : elle est sur le Tarn. Long. 19. 49. lat. 43. 55. 44.\", 'prediction': 'Q132801', 'ed_score': 1.0, 'string_match_score': {'Albigeois': (1.0, ['Q132801'])}, 'prior_cand_score': {}, 'cross_cand_score': {'Q132801': 1.0}, 'latlon': [43.928056, 2.145833], 'wkdt_class': 'Q484170'}\n",
      "{'mention': 'Tarn', 'ner_score': 1, 'pos': 99, 'sent_idx': 0, 'end_pos': 103, 'tag': 'B-LOC', 'sentence': \"* ALBI, (Géog.) ville de France, capitale de l'Albigeois, dans le haut Languedoc : elle est sur le Tarn. Long. 19. 49. lat. 43. 55. 44.\", 'prediction': 'Q12772', 'ed_score': 0.856, 'string_match_score': {'Tarn': (1.0, ['Q215653', 'Q12772', 'Q1538251'])}, 'prior_cand_score': {}, 'cross_cand_score': {'Q12772': 0.856, 'Q215653': 0.141, 'Q1538251': 0.003}, 'latlon': [43.909722, 2.109167], 'wkdt_class': 'Q6465'}\n",
      "{'mention': 'Languedoc', 'ner_score': 1, 'pos': 71, 'sent_idx': 0, 'end_pos': 80, 'tag': 'B-LOC', 'sentence': \"* ALBI, (Géog.) ville de France, capitale de l'Albigeois, dans le haut Languedoc : elle est sur le Tarn. Long. 19. 49. lat. 43. 55. 44.\", 'prediction': 'Q206221', 'ed_score': 0.992, 'string_match_score': {'Languedoc': (1.0, ['Q206221', 'Q17005', 'Q1886509'])}, 'prior_cand_score': {}, 'cross_cand_score': {'Q206221': 0.992, 'Q1886509': 0.005, 'Q17005': 0.004}, 'latlon': [43.666667, 3.166667], 'wkdt_class': 'Q572995'}\n"
     ]
    }
   ],
   "source": [
    "sentence = \"* ALBI, (Géog.) ville de France, capitale de l'Albigeois, dans le haut Languedoc : elle est sur le Tarn. Long. 19. 49. lat. 43. 55. 44.\"\n",
    "sentence.find('ALBI')\n",
    "resolved = geoparser.run_sentence(sentence, HEAD='ALBI', verbose=True)\n",
    "for r in resolved:\n",
    "    print(r)"
   ]
  },
  {
   "cell_type": "code",
   "execution_count": 14,
   "metadata": {},
   "outputs": [],
   "source": [
    "import pandas as pd\n",
    "import WikidataObject as wdo"
   ]
  },
  {
   "cell_type": "code",
   "execution_count": 19,
   "metadata": {},
   "outputs": [
    {
     "name": "stdout",
     "output_type": "stream",
     "text": [
      "Head: Afrique\n",
      "Gold: Q818608\n",
      "Prediction: NIL\n",
      "Skyline: False\n",
      "{}\n",
      "Accuracy 10: False\n",
      "\n",
      "Head: AGDE\n",
      "Gold: Q191396\n",
      "Prediction: NIL\n",
      "Skyline: False\n",
      "{}\n",
      "Accuracy 10: False\n",
      "\n",
      "Head: AGEN\n",
      "Gold: Q6625\n",
      "Prediction: NIL\n",
      "Skyline: False\n",
      "{}\n",
      "Accuracy 10: False\n",
      "\n",
      "Head: AGRERE\n",
      "Gold: Q137514\n",
      "Prediction: NIL\n",
      "Skyline: False\n",
      "{}\n",
      "Accuracy 10: False\n",
      "\n",
      "Head: Aigle\n",
      "Gold: Q500588\n",
      "Prediction: Q43195\n",
      "Skyline: False\n",
      "{'Q43195': 0.782, 'Q647923': 0.208, 'Q1011820': 0.01}\n",
      "Accuracy 10: False\n",
      "\n",
      "Head: AIGNAI-LE-DUC\n",
      "Gold: Q198315\n",
      "Prediction: NIL\n",
      "Skyline: False\n",
      "{}\n",
      "Accuracy 10: False\n",
      "\n",
      "Head: AIGNAN (Saint)\n",
      "Gold: Q832394\n",
      "Prediction: NIL\n",
      "Skyline: False\n",
      "{}\n",
      "Accuracy 10: False\n",
      "\n",
      "Head: AIGREMONT-LE-DUC\n",
      "Gold: Q1102347\n",
      "Prediction: NIL\n",
      "Skyline: False\n",
      "{}\n",
      "Accuracy 10: False\n",
      "\n",
      "Head: AIGUES-MORTES\n",
      "Gold: Q193809\n",
      "Prediction: NIL\n",
      "Skyline: False\n",
      "{}\n",
      "Accuracy 10: False\n",
      "\n",
      "Head: AIGLE-PERSE\n",
      "Gold: Q333447\n",
      "Prediction: NIL\n",
      "Skyline: False\n",
      "{}\n",
      "Accuracy 10: False\n",
      "\n",
      "Head: Aiguillon\n",
      "Gold: Q404783\n",
      "Prediction: Q404783\n",
      "Skyline: True\n",
      "{'Q404783': 0.8, 'Q404757': 0.133, 'Q60524534': 0.017, 'Q1102696': 0.017, 'Q1068820': 0.017, 'Q2325241': 0.017}\n",
      "Accuracy 10: True\n",
      "\n",
      "Head: AIGURANDE\n",
      "Gold: Q211643\n",
      "Prediction: NIL\n",
      "Skyline: False\n",
      "{}\n",
      "Accuracy 10: False\n",
      "\n",
      "Head: Aire\n",
      "Gold: Q408608\n",
      "Prediction: Q408636\n",
      "Skyline: True\n",
      "{'Q408636': 0.318, 'Q259903': 0.227, 'Q408614': 0.227, 'Q403349': 0.173, 'Q408608': 0.027, 'Q2876414': 0.018, 'Q323727': 0.009}\n",
      "Accuracy 10: False\n",
      "\n",
      "Head: AISAY-LE-DUC\n",
      "Gold: Q296286\n",
      "Prediction: NIL\n",
      "Skyline: False\n",
      "{}\n",
      "Accuracy 10: False\n",
      "\n",
      "Head: AISNAY-LE-CHASTEAU\n",
      "Gold: Q841802\n",
      "Prediction: NIL\n",
      "Skyline: False\n",
      "{}\n",
      "Accuracy 10: False\n",
      "\n",
      "Head: AIX\n",
      "Gold: Q47465\n",
      "Prediction: NIL\n",
      "Skyline: False\n",
      "{}\n",
      "Accuracy 10: False\n",
      "\n",
      "Head: Aix\n",
      "Gold: Q411485\n",
      "Prediction: Q47465\n",
      "Skyline: False\n",
      "{'Q47465': 0.754, 'Q1017': 0.07, 'Q181955': 0.061, 'Q2302586': 0.026, 'Q214568': 0.026, 'Q649694': 0.026, 'Q1139065': 0.009}\n",
      "Accuracy 10: False\n",
      "\n",
      "Head: Alais\n",
      "Gold: Q193183\n",
      "Prediction: Q193183\n",
      "Skyline: True\n",
      "{'Q193183': 0.737, 'Q38913699': 0.158, 'Q866819': 0.105}\n",
      "Accuracy 10: True\n",
      "\n",
      "Head: ALBAN (S.)\n",
      "Gold: Q454186\n",
      "Prediction: NIL\n",
      "Skyline: False\n",
      "{}\n",
      "Accuracy 10: False\n",
      "\n",
      "Head: ALBI\n",
      "Gold: Q132801\n",
      "Prediction: NIL\n",
      "Skyline: False\n",
      "{}\n",
      "Accuracy 10: False\n",
      "\n",
      "Head: ALBRET ou LABRIT\n",
      "Gold: Q496720\n",
      "Prediction: NIL\n",
      "Skyline: False\n",
      "{}\n",
      "Accuracy 10: False\n",
      "\n",
      "Head: ALENCON\n",
      "Gold: Q181269\n",
      "Prediction: NIL\n",
      "Skyline: False\n",
      "{}\n",
      "Accuracy 10: False\n",
      "\n",
      "Head: ALLASSAC\n",
      "Gold: Q1016282\n",
      "Prediction: NIL\n",
      "Skyline: False\n",
      "{}\n",
      "Accuracy 10: False\n",
      "\n",
      "Head: ANCENIS\n",
      "Gold: Q213515\n",
      "Prediction: NIL\n",
      "Skyline: False\n",
      "{}\n",
      "Accuracy 10: False\n",
      "\n",
      "Head: Ancre, ou Encre\n",
      "Gold: Q30940\n",
      "Prediction: NIL\n",
      "Skyline: False\n",
      "{}\n",
      "Accuracy 10: False\n",
      "\n",
      "Head: ANCY-LE-FRANC\n",
      "Gold: Q1140847\n",
      "Prediction: NIL\n",
      "Skyline: False\n",
      "{}\n",
      "Accuracy 10: False\n",
      "\n",
      "Head: ANDELY\n",
      "Gold: Q209770\n",
      "Prediction: NIL\n",
      "Skyline: False\n",
      "{}\n",
      "Accuracy 10: False\n",
      "\n",
      "Head: ANDONVILLE\n",
      "Gold: Q1105321\n",
      "Prediction: NIL\n",
      "Skyline: False\n",
      "{}\n",
      "Accuracy 10: False\n",
      "\n",
      "Head: ANDUZE\n",
      "Gold: Q240921\n",
      "Prediction: NIL\n",
      "Skyline: False\n",
      "{}\n",
      "Accuracy 10: False\n",
      "\n",
      "Head: ANGERS\n",
      "Gold: Q38380\n",
      "Prediction: NIL\n",
      "Skyline: False\n",
      "{}\n",
      "Accuracy 10: False\n",
      "\n",
      "Head: ANGLURE\n",
      "Gold: Q1060088\n",
      "Prediction: NIL\n",
      "Skyline: False\n",
      "{}\n",
      "Accuracy 10: False\n",
      "\n",
      "Head: ANGOULEME\n",
      "Gold: Q134346\n",
      "Prediction: NIL\n",
      "Skyline: False\n",
      "{}\n",
      "Accuracy 10: False\n",
      "\n",
      "Head: ANIANE, ou SAINT-BENOIST D'ANIANE\n",
      "Gold: Q379780\n",
      "Prediction: NIL\n",
      "Skyline: False\n",
      "{}\n",
      "Accuracy 10: False\n",
      "\n",
      "Head: ANNONAY\n",
      "Gold: Q238366\n",
      "Prediction: NIL\n",
      "Skyline: False\n",
      "{}\n",
      "Accuracy 10: False\n",
      "\n",
      "Head: ANNOT\n",
      "Gold: Q157724\n",
      "Prediction: NIL\n",
      "Skyline: False\n",
      "{}\n",
      "Accuracy 10: False\n",
      "\n",
      "Head: ANTIBES\n",
      "Gold: Q126898\n",
      "Prediction: NIL\n",
      "Skyline: False\n",
      "{}\n",
      "Accuracy 10: False\n",
      "\n",
      "Head: ANTRAIN\n",
      "Gold: Q648164\n",
      "Prediction: NIL\n",
      "Skyline: False\n",
      "{}\n",
      "Accuracy 10: False\n",
      "\n",
      "Head: ANTRAIN ou ENTRAINS\n",
      "Gold: Q1113070\n",
      "Prediction: NIL\n",
      "Skyline: False\n",
      "{}\n",
      "Accuracy 10: False\n",
      "\n",
      "Head: APREMONT\n",
      "Gold: Q572125\n",
      "Prediction: NIL\n",
      "Skyline: False\n",
      "{}\n",
      "Accuracy 10: False\n",
      "\n",
      "Head: ARAMONT\n",
      "Gold: Q269851\n",
      "Prediction: NIL\n",
      "Skyline: False\n",
      "{}\n",
      "Accuracy 10: False\n",
      "\n",
      "Head: ARBOIS\n",
      "Gold: Q330888\n",
      "Prediction: NIL\n",
      "Skyline: False\n",
      "{}\n",
      "Accuracy 10: False\n",
      "\n",
      "Head: ARCIS-SUR-AUBE\n",
      "Gold: Q269401\n",
      "Prediction: NIL\n",
      "Skyline: False\n",
      "{}\n",
      "Accuracy 10: False\n",
      "\n",
      "Head: Ardes\n",
      "Gold: Q48292\n",
      "Prediction: Q872053\n",
      "Skyline: False\n",
      "{'Q872053': 1.0}\n",
      "Accuracy 10: False\n",
      "\n",
      "Head: ARDRES\n",
      "Gold: Q262456\n",
      "Prediction: NIL\n",
      "Skyline: False\n",
      "{}\n",
      "Accuracy 10: False\n",
      "\n",
      "Head: ARGENCES\n",
      "Gold: Q838585\n",
      "Prediction: NIL\n",
      "Skyline: False\n",
      "{}\n",
      "Accuracy 10: False\n",
      "\n",
      "Head: ARGENTAC\n",
      "Gold: Q320248\n",
      "Prediction: NIL\n",
      "Skyline: False\n",
      "{}\n",
      "Accuracy 10: False\n",
      "\n",
      "Head: ARGENTAN\n",
      "Gold: Q207622\n",
      "Prediction: NIL\n",
      "Skyline: False\n",
      "{}\n",
      "Accuracy 10: False\n",
      "\n",
      "Head: ARGENTON\n",
      "Gold: Q275438\n",
      "Prediction: NIL\n",
      "Skyline: False\n",
      "{}\n",
      "Accuracy 10: False\n",
      "\n",
      "Head: ARLES\n",
      "Gold: Q48292\n",
      "Prediction: NIL\n",
      "Skyline: False\n",
      "{}\n",
      "Accuracy 10: False\n",
      "\n",
      "Head: Arles\n",
      "Gold: Q7897\n",
      "Prediction: Q48292\n",
      "Skyline: True\n",
      "{'Q48292': 0.973, 'Q937969': 0.011, 'Q181189': 0.005, 'Q3271735': 0.002, 'Q7897': 0.002, 'Q700484': 0.002, 'Q16912418': 0.001}\n",
      "Accuracy 10: False\n",
      "\n",
      "Head: ARNAY-LE-DUC\n",
      "Gold: Q16031\n",
      "Prediction: NIL\n",
      "Skyline: False\n",
      "{}\n",
      "Accuracy 10: False\n",
      "\n",
      "Head: ARQUES\n",
      "Gold: Q851278\n",
      "Prediction: NIL\n",
      "Skyline: False\n",
      "{}\n",
      "Accuracy 10: False\n",
      "\n",
      "Head: AUBAGNE\n",
      "Gold: Q184047\n",
      "Prediction: NIL\n",
      "Skyline: False\n",
      "{}\n",
      "Accuracy 10: False\n",
      "\n",
      "Head: AUBENAS\n",
      "Gold: Q211121\n",
      "Prediction: NIL\n",
      "Skyline: False\n",
      "{}\n",
      "Accuracy 10: False\n",
      "\n",
      "Head: AUBENTON\n",
      "Gold: Q274692\n",
      "Prediction: NIL\n",
      "Skyline: False\n",
      "{}\n",
      "Accuracy 10: False\n",
      "\n",
      "Head: AUBETERRE\n",
      "Gold: Q635709\n",
      "Prediction: NIL\n",
      "Skyline: False\n",
      "{}\n",
      "Accuracy 10: False\n",
      "\n",
      "Head: AUBIGNY\n",
      "Gold: Q838623\n",
      "Prediction: NIL\n",
      "Skyline: False\n",
      "{}\n",
      "Accuracy 10: False\n",
      "\n",
      "Head: AUBUSSON\n",
      "Gold: Q217161\n",
      "Prediction: NIL\n",
      "Skyline: False\n",
      "{}\n",
      "Accuracy 10: False\n",
      "\n",
      "Head: AUCH\n",
      "Gold: Q181725\n",
      "Prediction: NIL\n",
      "Skyline: False\n",
      "{}\n",
      "Accuracy 10: False\n",
      "\n",
      "Head: AVENAI\n",
      "Gold: Q656436\n",
      "Prediction: NIL\n",
      "Skyline: False\n",
      "{}\n",
      "Accuracy 10: False\n",
      "\n",
      "Head: AVIGNONET ou VIGNONET\n",
      "Gold: Q671046\n",
      "Prediction: NIL\n",
      "Skyline: False\n",
      "{}\n",
      "Accuracy 10: False\n",
      "\n",
      "Head: AULPS\n",
      "Gold: Q688183\n",
      "Prediction: NIL\n",
      "Skyline: False\n",
      "{}\n",
      "Accuracy 10: False\n",
      "\n",
      "Head: AUMALE ou ALBEMARLE\n",
      "Gold: Q632269\n",
      "Prediction: NIL\n",
      "Skyline: False\n",
      "{}\n",
      "Accuracy 10: False\n",
      "\n",
      "Head: AUNEAU\n",
      "Gold: Q637489\n",
      "Prediction: NIL\n",
      "Skyline: False\n",
      "{}\n",
      "Accuracy 10: False\n",
      "\n",
      "Head: AVRANCHES\n",
      "Gold: Q204430\n",
      "Prediction: NIL\n",
      "Skyline: False\n",
      "{}\n",
      "Accuracy 10: False\n",
      "\n",
      "Head: AURILLAC\n",
      "Gold: Q174234\n",
      "Prediction: NIL\n",
      "Skyline: False\n",
      "{}\n",
      "Accuracy 10: False\n",
      "\n",
      "Head: AUTRY\n",
      "Gold: Q789383\n",
      "Prediction: NIL\n",
      "Skyline: False\n",
      "{}\n",
      "Accuracy 10: False\n",
      "\n",
      "Head: AUTUN\n",
      "Gold: Q190827\n",
      "Prediction: NIL\n",
      "Skyline: False\n",
      "{}\n",
      "Accuracy 10: False\n",
      "\n",
      "Head: AUVILLARD\n",
      "Gold: Q789561\n",
      "Prediction: NIL\n",
      "Skyline: False\n",
      "{}\n",
      "Accuracy 10: False\n",
      "\n",
      "Head: AUXERRE\n",
      "Gold: Q167600\n",
      "Prediction: NIL\n",
      "Skyline: False\n",
      "{}\n",
      "Accuracy 10: False\n",
      "\n",
      "Head: AY\n",
      "Gold: Q658928\n",
      "Prediction: NIL\n",
      "Skyline: False\n",
      "{}\n",
      "Accuracy 10: False\n",
      "\n",
      "Head: AYEN\n",
      "Gold: Q504868\n",
      "Prediction: NIL\n",
      "Skyline: False\n",
      "{}\n",
      "Accuracy 10: False\n",
      "\n",
      "Head: AYMARGUES\n",
      "Gold: Q243915\n",
      "Prediction: NIL\n",
      "Skyline: False\n",
      "{}\n",
      "Accuracy 10: False\n",
      "\n",
      "Head: AZAY\n",
      "Gold: Q1069903\n",
      "Prediction: NIL\n",
      "Skyline: False\n",
      "{}\n",
      "Accuracy 10: False\n",
      "\n",
      "Head: AZAY-LE-RIDEAU\n",
      "Gold: Q243032\n",
      "Prediction: NIL\n",
      "Skyline: False\n",
      "{}\n",
      "Accuracy 10: False\n",
      "\n",
      "Head: AZILHAN ou AZILLE\n",
      "Gold: Q199673\n",
      "Prediction: NIL\n",
      "Skyline: False\n",
      "{}\n",
      "Accuracy 10: False\n",
      "\n",
      "Head: BACCARAT\n",
      "Gold: Q319282\n",
      "Prediction: NIL\n",
      "Skyline: False\n",
      "{}\n",
      "Accuracy 10: False\n",
      "\n",
      "Head: BAGNERES\n",
      "Gold: Q208264\n",
      "Prediction: NIL\n",
      "Skyline: False\n",
      "{}\n",
      "Accuracy 10: False\n",
      "\n",
      "Head: BAGNOLS\n",
      "Gold: Q274183\n",
      "Prediction: NIL\n",
      "Skyline: False\n",
      "{}\n",
      "Accuracy 10: False\n",
      "\n",
      "Head: BAIGNEUX\n",
      "Gold: Q221861\n",
      "Prediction: NIL\n",
      "Skyline: False\n",
      "{}\n",
      "Accuracy 10: False\n",
      "\n",
      "Head: BALLON\n",
      "Gold: Q749143\n",
      "Prediction: NIL\n",
      "Skyline: False\n",
      "{}\n",
      "Accuracy 10: False\n",
      "\n",
      "Head: BAPAUME\n",
      "Gold: Q317235\n",
      "Prediction: NIL\n",
      "Skyline: False\n",
      "{}\n",
      "Accuracy 10: False\n",
      "\n",
      "Head: Bar-sur-Aube\n",
      "Gold: Q209093\n",
      "Prediction: Q209093\n",
      "Skyline: True\n",
      "{'Q209093': 0.896, 'Q790119': 0.078, 'Q700574': 0.017, 'Q23640818': 0.009}\n",
      "Accuracy 10: True\n",
      "\n",
      "Head: Bar-sur-Seine\n",
      "Gold: Q328309\n",
      "Prediction: Q328309\n",
      "Skyline: True\n",
      "{'Q328309': 1.0}\n",
      "Accuracy 10: True\n",
      "\n",
      "Head: BARBEYRA\n",
      "Gold: Q1016626\n",
      "Prediction: NIL\n",
      "Skyline: False\n",
      "{}\n",
      "Accuracy 10: False\n",
      "\n",
      "Head: BARBEZIEUX\n",
      "Gold: Q376476\n",
      "Prediction: NIL\n",
      "Skyline: False\n",
      "{}\n",
      "Accuracy 10: False\n",
      "\n",
      "Head: BARBONNE\n",
      "Gold: Q686294\n",
      "Prediction: NIL\n",
      "Skyline: False\n",
      "{}\n",
      "Accuracy 10: False\n",
      "\n",
      "Head: Barcelone\n",
      "Gold: Q473917\n",
      "Prediction: Q1492\n",
      "Skyline: False\n",
      "{'Q1492': 0.667, 'Q58214028': 0.333}\n",
      "Accuracy 10: False\n",
      "\n",
      "Head: BARCELONETTE\n",
      "Gold: Q207577\n",
      "Prediction: NIL\n",
      "Skyline: False\n",
      "{}\n",
      "Accuracy 10: False\n",
      "\n",
      "Head: BARENTON\n",
      "Gold: Q1001315\n",
      "Prediction: NIL\n",
      "Skyline: False\n",
      "{}\n",
      "Accuracy 10: False\n",
      "\n",
      "Head: BARFLEUR\n",
      "Gold: Q211684\n",
      "Prediction: NIL\n",
      "Skyline: False\n",
      "{}\n",
      "Accuracy 10: False\n",
      "\n",
      "Head: BARGEMONT\n",
      "Gold: Q808155\n",
      "Prediction: NIL\n",
      "Skyline: False\n",
      "{}\n",
      "Accuracy 10: False\n",
      "\n",
      "Head: BARJAC\n",
      "Gold: Q274188\n",
      "Prediction: NIL\n",
      "Skyline: False\n",
      "{}\n",
      "Accuracy 10: False\n",
      "\n",
      "Head: BARJOLS\n",
      "Gold: Q658840\n",
      "Prediction: NIL\n",
      "Skyline: False\n",
      "{}\n",
      "Accuracy 10: False\n",
      "\n",
      "Head: BARRAUX\n",
      "Gold: Q385282\n",
      "Prediction: NIL\n",
      "Skyline: False\n",
      "{}\n",
      "Accuracy 10: False\n",
      "\n",
      "Head: Barre\n",
      "Gold: Q383658\n",
      "Prediction: Q26071\n",
      "Skyline: False\n",
      "{'Q26071': 0.426, 'Q3635167': 0.221, 'Q808841': 0.103, 'Q808838': 0.095, 'Q604591': 0.065, 'Q263447': 0.042, 'Q4863275': 0.023}\n",
      "Accuracy 10: False\n",
      "\n",
      "Head: BARREME\n",
      "Gold: Q840218\n",
      "Prediction: NIL\n",
      "Skyline: False\n",
      "{}\n",
      "Accuracy 10: False\n",
      "\n",
      "Head: BASIEGES\n",
      "Gold: Q736117\n",
      "Prediction: NIL\n",
      "Skyline: False\n",
      "{}\n",
      "Accuracy 10: False\n",
      "\n",
      "Head: BASSEMPOIN\n",
      "Gold: Q537606\n",
      "Prediction: NIL\n",
      "Skyline: False\n",
      "{}\n",
      "Accuracy 10: False\n",
      "\n",
      "Head: BAVEY\n",
      "Gold: Q477176\n",
      "Prediction: NIL\n",
      "Skyline: False\n",
      "{}\n",
      "Accuracy 10: False\n",
      "\n",
      "Head: BAUGÉ\n",
      "Gold: Q30039410\n",
      "Prediction: NIL\n",
      "Skyline: False\n",
      "{}\n",
      "Accuracy 10: False\n",
      "\n",
      "Head: Baugé\n",
      "Gold: Q202455\n",
      "Prediction: Q26768\n",
      "Skyline: False\n",
      "{'Q26768': 0.953, 'Q1785755': 0.047}\n",
      "Accuracy 10: False\n",
      "\n",
      "Head: BAUGENCI\n",
      "Gold: Q429910\n",
      "Prediction: NIL\n",
      "Skyline: False\n",
      "{}\n",
      "Accuracy 10: False\n",
      "\n",
      "Head: Baume les nones\n",
      "Gold: Q733784\n",
      "Prediction: NIL\n",
      "Skyline: False\n",
      "{}\n",
      "Accuracy 10: False\n",
      "\n",
      "Head: BAYEUX\n",
      "Gold: Q183910\n",
      "Prediction: NIL\n",
      "Skyline: False\n",
      "{}\n",
      "Accuracy 10: False\n",
      "\n",
      "Head: BAZAS\n",
      "Gold: Q208427\n",
      "Prediction: NIL\n",
      "Skyline: False\n",
      "{}\n",
      "Accuracy 10: False\n",
      "\n",
      "Head: Beaufort\n",
      "Gold: Q816290\n",
      "Prediction: Q813376\n",
      "Skyline: False\n",
      "{'Q813376': 0.229, 'Q813374': 0.154, 'Q813370': 0.09, 'Q495682': 0.056, 'Q813371': 0.056, 'Q4877452': 0.041, 'Q484639': 0.039}\n",
      "Accuracy 10: False\n",
      "\n",
      "Head: BEAUJEU\n",
      "Gold: Q740693\n",
      "Prediction: NIL\n",
      "Skyline: False\n",
      "{}\n",
      "Accuracy 10: False\n",
      "\n",
      "Head: BEAUMARCHES\n",
      "Gold: Q1041910\n",
      "Prediction: NIL\n",
      "Skyline: False\n",
      "{}\n",
      "Accuracy 10: False\n",
      "\n",
      "Head: BEAUNE\n",
      "Gold: Q16121\n",
      "Prediction: NIL\n",
      "Skyline: False\n",
      "{}\n",
      "Accuracy 10: False\n",
      "\n",
      "Head: BEAUVAIS\n",
      "Gold: Q174257\n",
      "Prediction: NIL\n",
      "Skyline: False\n",
      "{}\n",
      "Accuracy 10: False\n",
      "\n",
      "Head: BEAUVOIR-SUR-MER\n",
      "Gold: Q1023635\n",
      "Prediction: NIL\n",
      "Skyline: False\n",
      "{}\n",
      "Accuracy 10: False\n",
      "\n",
      "Head: BEDARIEUX ou BEC D'ARIEUX\n",
      "Gold: Q274412\n",
      "Prediction: NIL\n",
      "Skyline: False\n",
      "{}\n",
      "Accuracy 10: False\n",
      "\n",
      "Head: BEFORT\n",
      "Gold: Q171545\n",
      "Prediction: NIL\n",
      "Skyline: False\n",
      "{}\n",
      "Accuracy 10: False\n",
      "\n",
      "Head: BEIRE\n",
      "Gold: Q55646\n",
      "Prediction: NIL\n",
      "Skyline: False\n",
      "{}\n",
      "Accuracy 10: False\n",
      "\n",
      "Head: BELESME\n",
      "Gold: Q816092\n",
      "Prediction: NIL\n",
      "Skyline: False\n",
      "{}\n",
      "Accuracy 10: False\n",
      "\n",
      "Head: BELLAC\n",
      "Gold: Q1089007\n",
      "Prediction: NIL\n",
      "Skyline: False\n",
      "{}\n",
      "Accuracy 10: False\n",
      "\n",
      "Head: Bellegarde\n",
      "Gold: Q3028584\n",
      "Prediction: Q269844\n",
      "Skyline: False\n",
      "{'Q269844': 0.24, 'Q533990': 0.208, 'Q996910': 0.188, 'Q1214079': 0.135, 'Q191475': 0.083, 'Q2894849': 0.052, 'Q3095950': 0.021}\n",
      "Accuracy 10: False\n",
      "\n",
      "Head: BELLEVILLE\n",
      "Gold: Q58183261\n",
      "Prediction: NIL\n",
      "Skyline: False\n",
      "{}\n",
      "Accuracy 10: False\n",
      "\n",
      "Head: BELLEY ou BELLAY\n",
      "Gold: Q188496\n",
      "Prediction: NIL\n",
      "Skyline: False\n",
      "{}\n",
      "Accuracy 10: False\n",
      "\n",
      "Head: BELLOC\n",
      "Gold: Q369126\n",
      "Prediction: NIL\n",
      "Skyline: False\n",
      "{}\n",
      "Accuracy 10: False\n",
      "\n",
      "Head: BELMONT\n",
      "Gold: Q1332972\n",
      "Prediction: NIL\n",
      "Skyline: False\n",
      "{}\n",
      "Accuracy 10: False\n",
      "\n",
      "Head: Benevent\n",
      "Gold: Q1020778\n",
      "Prediction: Q13437\n",
      "Skyline: False\n",
      "{'Q13437': 1.0}\n",
      "Accuracy 10: False\n",
      "\n",
      "Head: BENFELD\n",
      "Gold: Q22776\n",
      "Prediction: NIL\n",
      "Skyline: False\n",
      "{}\n",
      "Accuracy 10: False\n",
      "\n",
      "Head: BERAY\n",
      "Gold: Q700664\n",
      "Prediction: NIL\n",
      "Skyline: False\n",
      "{}\n",
      "Accuracy 10: False\n",
      "\n",
      "Head: BERCKHEIM\n",
      "Gold: Q318168\n",
      "Prediction: NIL\n",
      "Skyline: False\n",
      "{}\n",
      "Accuracy 10: False\n",
      "\n",
      "Head: BERGERAC\n",
      "Gold: Q187911\n",
      "Prediction: NIL\n",
      "Skyline: False\n",
      "{}\n",
      "Accuracy 10: False\n",
      "\n",
      "Head: BERLAS\n",
      "Gold: Q1464949\n",
      "Prediction: NIL\n",
      "Skyline: False\n",
      "{}\n",
      "Accuracy 10: False\n",
      "\n",
      "Head: BERRE\n",
      "Gold: Q317809\n",
      "Prediction: NIL\n",
      "Skyline: False\n",
      "{}\n",
      "Accuracy 10: False\n",
      "\n",
      "Head: BERSUIRE\n",
      "Gold: Q210760\n",
      "Prediction: NIL\n",
      "Skyline: False\n",
      "{}\n",
      "Accuracy 10: False\n",
      "\n",
      "Head: BESANÇON\n",
      "Gold: Q37776\n",
      "Prediction: NIL\n",
      "Skyline: False\n",
      "{}\n",
      "Accuracy 10: False\n",
      "\n",
      "Head: BESSAN\n",
      "Gold: Q270170\n",
      "Prediction: NIL\n",
      "Skyline: False\n",
      "{}\n",
      "Accuracy 10: False\n",
      "\n",
      "Head: BESSE\n",
      "Gold: Q326043\n",
      "Prediction: NIL\n",
      "Skyline: False\n",
      "{}\n",
      "Accuracy 10: False\n",
      "\n",
      "Head: BESSIERES\n",
      "Gold: Q1362230\n",
      "Prediction: NIL\n",
      "Skyline: False\n",
      "{}\n",
      "Accuracy 10: False\n",
      "\n",
      "Head: BETHUNE\n",
      "Gold: Q207145\n",
      "Prediction: NIL\n",
      "Skyline: False\n",
      "{}\n",
      "Accuracy 10: False\n",
      "\n",
      "Head: BEZIERS\n",
      "Gold: Q174019\n",
      "Prediction: NIL\n",
      "Skyline: False\n",
      "{}\n",
      "Accuracy 10: False\n",
      "\n",
      "Head: BIDACHE\n",
      "Gold: Q197008\n",
      "Prediction: NIL\n",
      "Skyline: False\n",
      "{}\n",
      "Accuracy 10: False\n",
      "\n",
      "Head: BILHON ou BILLON\n",
      "Gold: Q246257\n",
      "Prediction: NIL\n",
      "Skyline: False\n",
      "{}\n",
      "Accuracy 10: False\n",
      "\n",
      "Head: BILLY\n",
      "Gold: Q848646\n",
      "Prediction: NIL\n",
      "Skyline: False\n",
      "{}\n",
      "Accuracy 10: False\n",
      "\n",
      "Head: BLANZAC\n",
      "Gold: Q680449\n",
      "Prediction: NIL\n",
      "Skyline: False\n",
      "{}\n",
      "Accuracy 10: False\n",
      "\n",
      "Head: BLAYE ou BLAIE\n",
      "Gold: Q202562\n",
      "Prediction: NIL\n",
      "Skyline: False\n",
      "{}\n",
      "Accuracy 10: False\n",
      "\n",
      "Head: BLESNEAU\n",
      "Gold: Q228682\n",
      "Prediction: NIL\n",
      "Skyline: False\n",
      "{}\n",
      "Accuracy 10: False\n",
      "\n",
      "Head: BLOIS\n",
      "Gold: Q160927\n",
      "Prediction: NIL\n",
      "Skyline: False\n",
      "{}\n",
      "Accuracy 10: False\n",
      "\n",
      "Head: BOEN\n",
      "Gold: Q1388426\n",
      "Prediction: NIL\n",
      "Skyline: False\n",
      "{}\n",
      "Accuracy 10: False\n",
      "\n",
      "Head: BONELLES\n",
      "Gold: Q399447\n",
      "Prediction: NIL\n",
      "Skyline: False\n",
      "{}\n",
      "Accuracy 10: False\n",
      "\n",
      "Head: BONNESTABLE\n",
      "Gold: Q687154\n",
      "Prediction: NIL\n",
      "Skyline: False\n",
      "{}\n",
      "Accuracy 10: False\n",
      "\n",
      "Head: BONNEVAL\n",
      "Gold: Q453498\n",
      "Prediction: NIL\n",
      "Skyline: False\n",
      "{}\n",
      "Accuracy 10: False\n",
      "\n",
      "Head: BORT\n",
      "Gold: Q203182\n",
      "Prediction: NIL\n",
      "Skyline: False\n",
      "{}\n",
      "Accuracy 10: False\n",
      "\n",
      "Head: Bourbon-Lancy\n",
      "Gold: Q829308\n",
      "Prediction: Q829308\n",
      "Skyline: True\n",
      "{'Q829308': 1.0}\n",
      "Accuracy 10: True\n",
      "\n",
      "Head: Bourbonne-les-Bains\n",
      "Gold: Q627061\n",
      "Prediction: Q627061\n",
      "Skyline: True\n",
      "{'Q627061': 1.0}\n",
      "Accuracy 10: True\n",
      "\n",
      "Head: BOURBOURG\n",
      "Gold: Q632822\n",
      "Prediction: NIL\n",
      "Skyline: False\n",
      "{}\n",
      "Accuracy 10: False\n",
      "\n",
      "Head: BOURDEILLE\n",
      "Gold: Q865494\n",
      "Prediction: NIL\n",
      "Skyline: False\n",
      "{}\n",
      "Accuracy 10: False\n",
      "\n",
      "Head: Bourg-en-Bresse\n",
      "Gold: Q133069\n",
      "Prediction: Q133069\n",
      "Skyline: True\n",
      "{'Q133069': 0.976, 'Q3096043': 0.016, 'Q700721': 0.008}\n",
      "Accuracy 10: True\n",
      "\n",
      "Head: BOURGANEUF\n",
      "Gold: Q199638\n",
      "Prediction: NIL\n",
      "Skyline: False\n",
      "{}\n",
      "Accuracy 10: False\n",
      "\n",
      "Head: BOURGES\n",
      "Gold: Q132404\n",
      "Prediction: NIL\n",
      "Skyline: False\n",
      "{}\n",
      "Accuracy 10: False\n",
      "\n",
      "Head: BOURMONT\n",
      "Gold: Q1332960\n",
      "Prediction: NIL\n",
      "Skyline: False\n",
      "{}\n",
      "Accuracy 10: False\n",
      "\n",
      "Head: BOUSSAC\n",
      "Gold: Q201098\n",
      "Prediction: NIL\n",
      "Skyline: False\n",
      "{}\n",
      "Accuracy 10: False\n",
      "\n",
      "Head: BOUSSEVILLER ou BOUXVILLER\n",
      "Gold: Q22740\n",
      "Prediction: NIL\n",
      "Skyline: False\n",
      "{}\n",
      "Accuracy 10: False\n",
      "\n",
      "Head: BRAINE\n",
      "Gold: Q332052\n",
      "Prediction: NIL\n",
      "Skyline: False\n",
      "{}\n",
      "Accuracy 10: False\n",
      "\n",
      "Head: Brandons\n",
      "Gold: Q1626074\n",
      "Prediction: NIL\n",
      "Skyline: False\n",
      "{}\n",
      "Accuracy 10: False\n",
      "\n",
      "Head: BREOULX\n",
      "Gold: Q1020418\n",
      "Prediction: NIL\n",
      "Skyline: False\n",
      "{}\n",
      "Accuracy 10: False\n",
      "\n",
      "Head: BRESLE (la)\n",
      "Gold: Q1469437\n",
      "Prediction: NIL\n",
      "Skyline: False\n",
      "{}\n",
      "Accuracy 10: False\n",
      "\n",
      "Head: BRESSUITE\n",
      "Gold: Q210760\n",
      "Prediction: NIL\n",
      "Skyline: False\n",
      "{}\n",
      "Accuracy 10: False\n",
      "\n",
      "Head: BREST\n",
      "Gold: Q12193\n",
      "Prediction: NIL\n",
      "Skyline: False\n",
      "{}\n",
      "Accuracy 10: False\n",
      "\n",
      "Head: BRIANÇON\n",
      "Gold: Q203298\n",
      "Prediction: NIL\n",
      "Skyline: False\n",
      "{}\n",
      "Accuracy 10: False\n",
      "\n",
      "Head: BRIARE\n",
      "Gold: Q818443\n",
      "Prediction: NIL\n",
      "Skyline: False\n",
      "{}\n",
      "Accuracy 10: False\n",
      "\n",
      "Head: BRIATENTE\n",
      "Gold: Q1432427\n",
      "Prediction: NIL\n",
      "Skyline: False\n",
      "{}\n",
      "Accuracy 10: False\n",
      "\n",
      "Head: Brie-Comte-Robert\n",
      "Gold: Q250399\n",
      "Prediction: Q250399\n",
      "Skyline: True\n",
      "{'Q250399': 1.0}\n",
      "Accuracy 10: True\n",
      "\n",
      "Head: Brie-Comte-Braine\n",
      "Gold: Q332052\n",
      "Prediction: NIL\n",
      "Skyline: False\n",
      "{}\n",
      "Accuracy 10: False\n",
      "\n",
      "Head: BRIENNE\n",
      "Gold: Q498869\n",
      "Prediction: NIL\n",
      "Skyline: False\n",
      "{}\n",
      "Accuracy 10: False\n",
      "\n",
      "Head: BRIENNON\n",
      "Gold: Q674821\n",
      "Prediction: NIL\n",
      "Skyline: False\n",
      "{}\n",
      "Accuracy 10: False\n",
      "\n",
      "Head: Brieux (St.)\n",
      "Gold: Q29234\n",
      "Prediction: NIL\n",
      "Skyline: False\n",
      "{}\n",
      "Accuracy 10: False\n",
      "\n",
      "Head: BRIEY\n",
      "Gold: Q215053\n",
      "Prediction: NIL\n",
      "Skyline: False\n",
      "{}\n",
      "Accuracy 10: False\n",
      "\n",
      "Head: BRIGNAIS\n",
      "Gold: Q582184\n",
      "Prediction: NIL\n",
      "Skyline: False\n",
      "{}\n",
      "Accuracy 10: False\n",
      "\n",
      "Head: BRIGNOLES\n",
      "Gold: Q207584\n",
      "Prediction: NIL\n",
      "Skyline: False\n",
      "{}\n",
      "Accuracy 10: False\n",
      "\n",
      "Head: BRIGUEIL\n",
      "Gold: Q1353245\n",
      "Prediction: NIL\n",
      "Skyline: False\n",
      "{}\n",
      "Accuracy 10: False\n",
      "\n",
      "Head: BRIONNE\n",
      "Gold: Q474498\n",
      "Prediction: NIL\n",
      "Skyline: False\n",
      "{}\n",
      "Accuracy 10: False\n",
      "\n",
      "Head: BRISSAC\n",
      "Gold: Q815712\n",
      "Prediction: NIL\n",
      "Skyline: False\n",
      "{}\n",
      "Accuracy 10: False\n",
      "\n",
      "Head: BRIVE la Gaillarde\n",
      "Gold: Q6393\n",
      "Prediction: NIL\n",
      "Skyline: False\n",
      "{}\n",
      "Accuracy 10: False\n",
      "\n",
      "Head: Brou\n",
      "Gold: Q1081996\n",
      "Prediction: Q1081996\n",
      "Skyline: True\n",
      "{'Q1081996': 0.84, 'Q3320413': 0.16}\n",
      "Accuracy 10: True\n",
      "\n",
      "Head: BROUAGE\n",
      "Gold: Q839129\n",
      "Prediction: NIL\n",
      "Skyline: False\n",
      "{}\n",
      "Accuracy 10: False\n",
      "\n",
      "Head: BROUAY\n",
      "Gold: Q206539\n",
      "Prediction: NIL\n",
      "Skyline: False\n",
      "{}\n",
      "Accuracy 10: False\n",
      "\n",
      "Head: Bruges\n",
      "Gold: Q2387062\n",
      "Prediction: Q12994\n",
      "Skyline: False\n",
      "{'Q12994': 0.983, 'Q327025': 0.011, 'Q1378149': 0.001, 'Q91045': 0.001, 'Q745679': 0.001, 'Q2550254': 0.0, 'Q3127690': 0.0}\n",
      "Accuracy 10: False\n",
      "\n",
      "Head: BUANES\n",
      "Gold: Q857556\n",
      "Prediction: NIL\n",
      "Skyline: False\n",
      "{}\n",
      "Accuracy 10: False\n",
      "\n",
      "Head: BUCH\n",
      "Gold: Q233133\n",
      "Prediction: NIL\n",
      "Skyline: False\n",
      "{}\n",
      "Accuracy 10: False\n",
      "\n",
      "Head: Buis ou le Buy\n",
      "Gold: Q333608\n",
      "Prediction: NIL\n",
      "Skyline: False\n",
      "{}\n",
      "Accuracy 10: False\n",
      "\n",
      "Head: BUZANÇOIS\n",
      "Gold: Q454445\n",
      "Prediction: NIL\n",
      "Skyline: False\n",
      "{}\n",
      "Accuracy 10: False\n",
      "\n",
      "Head: CADALENS, ou CADELENS\n",
      "Gold: Q1432419\n",
      "Prediction: NIL\n",
      "Skyline: False\n",
      "{}\n",
      "Accuracy 10: False\n",
      "\n",
      "Head: CADENAC\n",
      "Gold: Q1064107\n",
      "Prediction: NIL\n",
      "Skyline: False\n",
      "{}\n",
      "Accuracy 10: False\n",
      "\n",
      "Head: CADENET\n",
      "Gold: Q243873\n",
      "Prediction: NIL\n",
      "Skyline: False\n",
      "{}\n",
      "Accuracy 10: False\n",
      "\n",
      "Head: CADOROUSE ou CADEROUSSE\n",
      "Gold: Q468578\n",
      "Prediction: NIL\n",
      "Skyline: False\n",
      "{}\n",
      "Accuracy 10: False\n",
      "\n",
      "Head: CAEN\n",
      "Gold: Q41185\n",
      "Prediction: NIL\n",
      "Skyline: False\n",
      "{}\n",
      "Accuracy 10: False\n",
      "\n",
      "Head: CAHORS\n",
      "Gold: Q23047\n",
      "Prediction: NIL\n",
      "Skyline: False\n",
      "{}\n",
      "Accuracy 10: False\n",
      "\n",
      "Head: CAJARE\n",
      "Gold: Q660042\n",
      "Prediction: NIL\n",
      "Skyline: False\n",
      "{}\n",
      "Accuracy 10: False\n",
      "\n",
      "Head: CALAIS\n",
      "Gold: Q6454\n",
      "Prediction: NIL\n",
      "Skyline: False\n",
      "{}\n",
      "Accuracy 10: False\n",
      "\n",
      "Head: CAMBRAY\n",
      "Gold: Q181285\n",
      "Prediction: NIL\n",
      "Skyline: False\n",
      "{}\n",
      "Accuracy 10: False\n",
      "\n",
      "Head: Campagne\n",
      "Gold: Q988085\n",
      "Prediction: Q865476\n",
      "Skyline: False\n",
      "{'Q865476': 0.514, 'Q15207004': 0.429, 'Q17989822': 0.029, 'Q631801': 0.029}\n",
      "Accuracy 10: False\n",
      "\n",
      "Head: CAMPIGNOLE\n",
      "Gold: Q477013\n",
      "Prediction: NIL\n",
      "Skyline: False\n",
      "{}\n",
      "Accuracy 10: False\n",
      "\n",
      "Head: CANAPLES\n",
      "Gold: Q629035\n",
      "Prediction: NIL\n",
      "Skyline: False\n",
      "{}\n",
      "Accuracy 10: False\n",
      "\n",
      "Head: CANCALE\n",
      "Gold: Q203561\n",
      "Prediction: NIL\n",
      "Skyline: False\n",
      "{}\n",
      "Accuracy 10: False\n",
      "\n",
      "Head: CANDÉ\n",
      "Gold: Q476848\n",
      "Prediction: NIL\n",
      "Skyline: False\n",
      "{}\n",
      "Accuracy 10: False\n",
      "\n",
      "Head: CANES\n",
      "Gold: Q39984\n",
      "Prediction: NIL\n",
      "Skyline: False\n",
      "{}\n",
      "Accuracy 10: False\n",
      "\n",
      "Head: CANET\n",
      "Gold: Q380514\n",
      "Prediction: NIL\n",
      "Skyline: False\n",
      "{}\n",
      "Accuracy 10: False\n",
      "\n",
      "Head: CAPDENAC\n",
      "Gold: Q1064107\n",
      "Prediction: NIL\n",
      "Skyline: False\n",
      "{}\n",
      "Accuracy 10: False\n",
      "\n",
      "Head: CAPENDU\n",
      "Gold: Q649915\n",
      "Prediction: NIL\n",
      "Skyline: False\n",
      "{}\n",
      "Accuracy 10: False\n",
      "\n",
      "Head: CAPESTAN\n",
      "Gold: Q270323\n",
      "Prediction: NIL\n",
      "Skyline: False\n",
      "{}\n",
      "Accuracy 10: False\n",
      "\n",
      "Head: CARCASSONE\n",
      "Gold: Q6582\n",
      "Prediction: NIL\n",
      "Skyline: False\n",
      "{}\n",
      "Accuracy 10: False\n",
      "\n",
      "Head: CARDAILLAC ou CARDILLAC\n",
      "Gold: Q626449\n",
      "Prediction: NIL\n",
      "Skyline: False\n",
      "{}\n",
      "Accuracy 10: False\n",
      "\n",
      "Head: CARENTAN\n",
      "Gold: Q242091\n",
      "Prediction: NIL\n",
      "Skyline: False\n",
      "{}\n",
      "Accuracy 10: False\n",
      "\n",
      "Head: CARHAIX\n",
      "Gold: Q208226\n",
      "Prediction: NIL\n",
      "Skyline: False\n",
      "{}\n",
      "Accuracy 10: False\n",
      "\n",
      "Head: CARLAT\n",
      "Gold: Q270192\n",
      "Prediction: NIL\n",
      "Skyline: False\n",
      "{}\n",
      "Accuracy 10: False\n",
      "\n",
      "Head: CARMAING\n",
      "Gold: Q1088723\n",
      "Prediction: NIL\n",
      "Skyline: False\n",
      "{}\n",
      "Accuracy 10: False\n",
      "\n",
      "Head: CARMERY\n",
      "Gold: Q660095\n",
      "Prediction: NIL\n",
      "Skyline: False\n",
      "{}\n",
      "Accuracy 10: False\n",
      "\n",
      "Head: CARPENTRAS\n",
      "Gold: Q202560\n",
      "Prediction: NIL\n",
      "Skyline: False\n",
      "{}\n",
      "Accuracy 10: False\n",
      "\n",
      "Head: CASAUBON\n",
      "Gold: Q1041932\n",
      "Prediction: NIL\n",
      "Skyline: False\n",
      "{}\n",
      "Accuracy 10: False\n",
      "\n",
      "Head: CASSENEUIL\n",
      "Gold: Q529257\n",
      "Prediction: NIL\n",
      "Skyline: False\n",
      "{}\n",
      "Accuracy 10: False\n",
      "\n",
      "Head: Cassis\n",
      "Gold: Q243002\n",
      "Prediction: Q243002\n",
      "Skyline: True\n",
      "{'Q243002': 1.0}\n",
      "Accuracy 10: True\n",
      "\n",
      "Head: CASTELLANE\n",
      "Gold: Q207083\n",
      "Prediction: NIL\n",
      "Skyline: False\n",
      "{}\n",
      "Accuracy 10: False\n",
      "\n",
      "Head: CASTELNAU-de-Barbarens\n",
      "Gold: Q952780\n",
      "Prediction: NIL\n",
      "Skyline: False\n",
      "{}\n",
      "Accuracy 10: False\n",
      "\n",
      "Head: CASTELNAUDARY\n",
      "Gold: Q193861\n",
      "Prediction: NIL\n",
      "Skyline: False\n",
      "{}\n",
      "Accuracy 10: False\n",
      "\n",
      "Head: CASTILLON\n",
      "Gold: Q269346\n",
      "Prediction: NIL\n",
      "Skyline: False\n",
      "{}\n",
      "Accuracy 10: False\n",
      "\n",
      "Head: Castillon\n",
      "Gold: Q383159\n",
      "Prediction: Q845719\n",
      "Skyline: False\n",
      "{'Q845719': 0.221, 'Q197727': 0.212, 'Q232243': 0.173, 'Q1093224': 0.173, 'Q932613': 0.087, 'Q269346': 0.087, 'Q7113110': 0.01}\n",
      "Accuracy 10: False\n",
      "\n",
      "Head: CASTILLONES\n",
      "Gold: Q1063826\n",
      "Prediction: NIL\n",
      "Skyline: False\n",
      "{}\n",
      "Accuracy 10: False\n",
      "\n",
      "Head: CASTRES\n",
      "Gold: Q188776\n",
      "Prediction: NIL\n",
      "Skyline: False\n",
      "{}\n",
      "Accuracy 10: False\n",
      "\n",
      "Head: CATEAU-CAMBRESIS\n",
      "Gold: Q329103\n",
      "Prediction: NIL\n",
      "Skyline: False\n",
      "{}\n",
      "Accuracy 10: False\n",
      "\n",
      "Head: CAVAILLON\n",
      "Gold: Q208798\n",
      "Prediction: NIL\n",
      "Skyline: False\n",
      "{}\n",
      "Accuracy 10: False\n",
      "\n",
      "Head: CAVALLERIE (la)\n",
      "Gold: Q632608\n",
      "Prediction: NIL\n",
      "Skyline: False\n",
      "{}\n",
      "Accuracy 10: False\n",
      "\n",
      "Head: Caudebec\n",
      "Gold: Q640089\n",
      "Prediction: Q640089\n",
      "Skyline: True\n",
      "{'Q640089': 1.0}\n",
      "Accuracy 10: True\n",
      "\n",
      "Head: CAUDES-COSTES\n",
      "Gold: Q216887\n",
      "Prediction: NIL\n",
      "Skyline: False\n",
      "{}\n",
      "Accuracy 10: False\n",
      "\n",
      "Head: CAUDIEZ\n",
      "Gold: Q671031\n",
      "Prediction: NIL\n",
      "Skyline: False\n",
      "{}\n",
      "Accuracy 10: False\n",
      "\n",
      "Head: CAUDROT ou COUDROT\n",
      "Gold: Q861943\n",
      "Prediction: NIL\n",
      "Skyline: False\n",
      "{}\n",
      "Accuracy 10: False\n",
      "\n",
      "Head: CAUMONT\n",
      "Gold: Q24781\n",
      "Prediction: NIL\n",
      "Skyline: False\n",
      "{}\n",
      "Accuracy 10: False\n",
      "\n",
      "Head: CAUSSADE\n",
      "Gold: Q839648\n",
      "Prediction: NIL\n",
      "Skyline: False\n",
      "{}\n",
      "Accuracy 10: False\n",
      "\n",
      "Head: CAYLUS\n",
      "Gold: Q1432016\n",
      "Prediction: NIL\n",
      "Skyline: False\n",
      "{}\n",
      "Accuracy 10: False\n",
      "\n",
      "Head: CAYRAC\n",
      "Gold: Q1104341\n",
      "Prediction: NIL\n",
      "Skyline: False\n",
      "{}\n",
      "Accuracy 10: False\n",
      "\n",
      "Head: CELLES ou SELLES en Berry\n",
      "Gold: Q832386\n",
      "Prediction: NIL\n",
      "Skyline: False\n",
      "{}\n",
      "Accuracy 10: False\n",
      "\n",
      "Head: CERET\n",
      "Gold: Q6643\n",
      "Prediction: NIL\n",
      "Skyline: False\n",
      "{}\n",
      "Accuracy 10: False\n",
      "\n",
      "Head: CERNY\n",
      "Gold: Q250970\n",
      "Prediction: NIL\n",
      "Skyline: False\n",
      "{}\n",
      "Accuracy 10: False\n",
      "\n",
      "Head: CESSENON\n",
      "Gold: Q627727\n",
      "Prediction: NIL\n",
      "Skyline: False\n",
      "{}\n",
      "Accuracy 10: False\n",
      "\n",
      "Head: CHABLIS\n",
      "Gold: Q331232\n",
      "Prediction: NIL\n",
      "Skyline: False\n",
      "{}\n",
      "Accuracy 10: False\n",
      "\n",
      "Head: CHAGNI\n",
      "Gold: Q681457\n",
      "Prediction: NIL\n",
      "Skyline: False\n",
      "{}\n",
      "Accuracy 10: False\n",
      "\n",
      "Head: CHALABRE\n",
      "Gold: Q375005\n",
      "Prediction: NIL\n",
      "Skyline: False\n",
      "{}\n",
      "Accuracy 10: False\n",
      "\n",
      "Head: CHALANÇON\n",
      "Gold: Q323649\n",
      "Prediction: NIL\n",
      "Skyline: False\n",
      "{}\n",
      "Accuracy 10: False\n",
      "\n",
      "Head: CHALLON-SUR-SAONE\n",
      "Gold: Q203645\n",
      "Prediction: NIL\n",
      "Skyline: False\n",
      "{}\n",
      "Accuracy 10: False\n",
      "\n",
      "Head: CHALLONNE\n",
      "Gold: Q264416\n",
      "Prediction: NIL\n",
      "Skyline: False\n",
      "{}\n",
      "Accuracy 10: False\n",
      "\n",
      "Head: CHALUS\n",
      "Gold: Q622720\n",
      "Prediction: NIL\n",
      "Skyline: False\n",
      "{}\n",
      "Accuracy 10: False\n",
      "\n",
      "Head: CHAMBLY\n",
      "Gold: Q669309\n",
      "Prediction: NIL\n",
      "Skyline: False\n",
      "{}\n",
      "Accuracy 10: False\n",
      "\n",
      "Head: CHAMBON\n",
      "Gold: Q1012436\n",
      "Prediction: NIL\n",
      "Skyline: False\n",
      "{}\n",
      "Accuracy 10: False\n",
      "\n",
      "Head: CHAMDENIERS\n",
      "Gold: Q374231\n",
      "Prediction: NIL\n",
      "Skyline: False\n",
      "{}\n",
      "Accuracy 10: False\n",
      "\n",
      "Head: CHAMOUZAY\n",
      "Gold: Q637076\n",
      "Prediction: NIL\n",
      "Skyline: False\n",
      "{}\n",
      "Accuracy 10: False\n",
      "\n",
      "Head: CHAMPIGNY\n",
      "Gold: Q1136074\n",
      "Prediction: NIL\n",
      "Skyline: False\n",
      "{}\n",
      "Accuracy 10: False\n",
      "\n",
      "Head: CHAMPLITE ou CHANNITE\n",
      "Gold: Q833791\n",
      "Prediction: NIL\n",
      "Skyline: False\n",
      "{}\n",
      "Accuracy 10: False\n",
      "\n",
      "Head: CHAMPTOCEAUX\n",
      "Gold: Q687426\n",
      "Prediction: NIL\n",
      "Skyline: False\n",
      "{}\n",
      "Accuracy 10: False\n",
      "\n",
      "Head: CHANTEL-LE-CHASTEL\n",
      "Gold: Q259376\n",
      "Prediction: NIL\n",
      "Skyline: False\n",
      "{}\n",
      "Accuracy 10: False\n",
      "\n",
      "Head: CHANTOCÉ\n",
      "Gold: Q674700\n",
      "Prediction: NIL\n",
      "Skyline: False\n",
      "{}\n",
      "Accuracy 10: False\n",
      "\n",
      "Head: CHAOURE\n",
      "Gold: Q530593\n",
      "Prediction: NIL\n",
      "Skyline: False\n",
      "{}\n",
      "Accuracy 10: False\n",
      "\n",
      "Head: CHARLEVILLE\n",
      "Gold: Q47383\n",
      "Prediction: NIL\n",
      "Skyline: False\n",
      "{}\n",
      "Accuracy 10: False\n",
      "\n",
      "Head: CHARLIEU\n",
      "Gold: Q688187\n",
      "Prediction: NIL\n",
      "Skyline: False\n",
      "{}\n",
      "Accuracy 10: False\n",
      "\n",
      "Head: CHARMES\n",
      "Gold: Q206523\n",
      "Prediction: NIL\n",
      "Skyline: False\n",
      "{}\n",
      "Accuracy 10: False\n",
      "\n",
      "Head: CHAROLLES\n",
      "Gold: Q213509\n",
      "Prediction: NIL\n",
      "Skyline: False\n",
      "{}\n",
      "Accuracy 10: False\n",
      "\n",
      "Head: CHAROST\n",
      "Gold: Q627198\n",
      "Prediction: NIL\n",
      "Skyline: False\n",
      "{}\n",
      "Accuracy 10: False\n",
      "\n",
      "Head: Chartres\n",
      "Gold: Q130272\n",
      "Prediction: Q130272\n",
      "Skyline: True\n",
      "{'Q130272': 0.933, 'Q180274': 0.047, 'Q5086934': 0.011, 'Q3078159': 0.004, 'Q5086937': 0.003, 'Q2087872': 0.001}\n",
      "Accuracy 10: True\n",
      "\n",
      "Head: CHASSELAY\n",
      "Gold: Q1440239\n",
      "Prediction: NIL\n",
      "Skyline: False\n",
      "{}\n",
      "Accuracy 10: False\n",
      "\n",
      "Head: Chateau-Briant\n",
      "Gold: Q211187\n",
      "Prediction: NIL\n",
      "Skyline: False\n",
      "{}\n",
      "Accuracy 10: False\n",
      "\n",
      "Head: Chateau-Chinon\n",
      "Gold: Q217187\n",
      "Prediction: NIL\n",
      "Skyline: False\n",
      "{}\n",
      "Accuracy 10: False\n",
      "\n",
      "Head: Chateau-d'Oleron\n",
      "Gold: Q1087425\n",
      "Prediction: NIL\n",
      "Skyline: False\n",
      "{}\n",
      "Accuracy 10: False\n",
      "\n",
      "Head: Chateau-du-Loir\n",
      "Gold: Q829292\n",
      "Prediction: Q829292\n",
      "Skyline: True\n",
      "{'Q829292': 1.0}\n",
      "Accuracy 10: True\n",
      "\n",
      "Head: Chateau-Dun\n",
      "Gold: Q181886\n",
      "Prediction: NIL\n",
      "Skyline: False\n",
      "{}\n",
      "Accuracy 10: False\n",
      "\n",
      "Head: Chateau-Gontier\n",
      "Gold: Q214580\n",
      "Prediction: Q214580\n",
      "Skyline: True\n",
      "{'Q214580': 1.0}\n",
      "Accuracy 10: True\n",
      "\n",
      "Head: Chateau-Landon\n",
      "Gold: Q845816\n",
      "Prediction: Q845816\n",
      "Skyline: True\n",
      "{'Q845816': 0.875, 'Q1090315': 0.125}\n",
      "Accuracy 10: True\n",
      "\n",
      "Head: Chateau-Meillant\n",
      "Gold: Q818273\n",
      "Prediction: NIL\n",
      "Skyline: False\n",
      "{}\n",
      "Accuracy 10: False\n",
      "\n",
      "Head: Chateau-Portien\n",
      "Gold: Q967390\n",
      "Prediction: NIL\n",
      "Skyline: False\n",
      "{}\n",
      "Accuracy 10: False\n",
      "\n",
      "Head: Chateau-Renard\n",
      "Gold: Q819787\n",
      "Prediction: Q819787\n",
      "Skyline: True\n",
      "{'Q819787': 1.0}\n",
      "Accuracy 10: True\n",
      "\n",
      "Head: Chateau-Renaud\n",
      "Gold: Q476900\n",
      "Prediction: NIL\n",
      "Skyline: False\n",
      "{}\n",
      "Accuracy 10: False\n",
      "\n",
      "Head: Chateau-Roux\n",
      "Gold: Q174251\n",
      "Prediction: NIL\n",
      "Skyline: False\n",
      "{}\n",
      "Accuracy 10: False\n",
      "\n",
      "Head: Chateau-Salins\n",
      "Gold: Q22745\n",
      "Prediction: Q22745\n",
      "Skyline: True\n",
      "{'Q22745': 0.875, 'Q700954': 0.125}\n",
      "Accuracy 10: True\n",
      "\n",
      "Head: Chateau-Thierri\n",
      "Gold: Q194145\n",
      "Prediction: NIL\n",
      "Skyline: False\n",
      "{}\n",
      "Accuracy 10: False\n",
      "\n",
      "Head: Chateau-Trompette\n",
      "Gold: Q1090683\n",
      "Prediction: NIL\n",
      "Skyline: False\n",
      "{}\n",
      "Accuracy 10: False\n",
      "\n",
      "Head: Chateau-Vilain\n",
      "Gold: Q681210\n",
      "Prediction: NIL\n",
      "Skyline: False\n",
      "{}\n",
      "Accuracy 10: False\n",
      "\n",
      "Head: Chatel-Aillon\n",
      "Gold: Q72234\n",
      "Prediction: NIL\n",
      "Skyline: False\n",
      "{}\n",
      "Accuracy 10: False\n",
      "\n",
      "Head: CHATELLERAUT\n",
      "Gold: Q205576\n",
      "Prediction: NIL\n",
      "Skyline: False\n",
      "{}\n",
      "Accuracy 10: False\n",
      "\n",
      "Head: CHATILLON-SUR-CHALARONNE\n",
      "Gold: Q208439\n",
      "Prediction: NIL\n",
      "Skyline: False\n",
      "{}\n",
      "Accuracy 10: False\n",
      "\n",
      "Head: Chatillon-sur-loing\n",
      "Gold: Q732483\n",
      "Prediction: NIL\n",
      "Skyline: False\n",
      "{}\n",
      "Accuracy 10: False\n",
      "\n",
      "Head: Chatillon-sur-Loire\n",
      "Gold: Q748721\n",
      "Prediction: Q748721\n",
      "Skyline: True\n",
      "{'Q748721': 1.0}\n",
      "Accuracy 10: True\n",
      "\n",
      "Head: Chatillon-sur-Marne\n",
      "Gold: Q688485\n",
      "Prediction: Q688485\n",
      "Skyline: True\n",
      "{'Q688485': 1.0}\n",
      "Accuracy 10: True\n",
      "\n",
      "Head: Chatillon-sur-Saone\n",
      "Gold: Q681296\n",
      "Prediction: NIL\n",
      "Skyline: False\n",
      "{}\n",
      "Accuracy 10: False\n",
      "\n",
      "Head: Chatillon-sur-Seine\n",
      "Gold: Q244707\n",
      "Prediction: Q244707\n",
      "Skyline: True\n",
      "{'Q244707': 1.0}\n",
      "Accuracy 10: True\n",
      "\n",
      "Head: Chatillon-sur-Indre\n",
      "Gold: Q470682\n",
      "Prediction: NIL\n",
      "Skyline: False\n",
      "{}\n",
      "Accuracy 10: False\n",
      "\n",
      "Head: CHATRES ou ARPAJON\n",
      "Gold: Q646708\n",
      "Prediction: NIL\n",
      "Skyline: False\n",
      "{}\n",
      "Accuracy 10: False\n",
      "\n",
      "Head: CHAVANNES\n",
      "Gold: Q845009\n",
      "Prediction: NIL\n",
      "Skyline: False\n",
      "{}\n",
      "Accuracy 10: False\n",
      "\n",
      "Head: CHAULNES\n",
      "Gold: Q58892\n",
      "Prediction: NIL\n",
      "Skyline: False\n",
      "{}\n",
      "Accuracy 10: False\n",
      "\n",
      "Head: CHAUMES\n",
      "Gold: Q767562\n",
      "Prediction: NIL\n",
      "Skyline: False\n",
      "{}\n",
      "Accuracy 10: False\n",
      "\n",
      "Head: CHAUMONT\n",
      "Gold: Q1102078\n",
      "Prediction: NIL\n",
      "Skyline: False\n",
      "{}\n",
      "Accuracy 10: False\n",
      "\n",
      "Head: CHAUNI\n",
      "Gold: Q269833\n",
      "Prediction: NIL\n",
      "Skyline: False\n",
      "{}\n",
      "Accuracy 10: False\n",
      "\n",
      "Head: CHAUSSIN\n",
      "Gold: Q669873\n",
      "Prediction: NIL\n",
      "Skyline: False\n",
      "{}\n",
      "Accuracy 10: False\n",
      "\n",
      "Head: CHAUVIGNY\n",
      "Gold: Q688473\n",
      "Prediction: NIL\n",
      "Skyline: False\n",
      "{}\n",
      "Accuracy 10: False\n",
      "\n",
      "Head: CHAZELLES\n",
      "Gold: Q1066107\n",
      "Prediction: NIL\n",
      "Skyline: False\n",
      "{}\n",
      "Accuracy 10: False\n",
      "\n",
      "Head: Chelles\n",
      "Gold: Q272916\n",
      "Prediction: Q272916\n",
      "Skyline: True\n",
      "{'Q272916': 0.645, 'Q1047571': 0.194, 'Q333867': 0.161}\n",
      "Accuracy 10: True\n",
      "\n",
      "Head: CHEMILLÉ\n",
      "Gold: Q624927\n",
      "Prediction: NIL\n",
      "Skyline: False\n",
      "{}\n",
      "Accuracy 10: False\n",
      "\n",
      "Head: CHENERAILLES\n",
      "Gold: Q1016089\n",
      "Prediction: NIL\n",
      "Skyline: False\n",
      "{}\n",
      "Accuracy 10: False\n",
      "\n",
      "Head: CHEROY\n",
      "Gold: Q1151331\n",
      "Prediction: NIL\n",
      "Skyline: False\n",
      "{}\n",
      "Accuracy 10: False\n",
      "\n",
      "Head: CHEVREUSE\n",
      "Gold: Q399366\n",
      "Prediction: NIL\n",
      "Skyline: False\n",
      "{}\n",
      "Accuracy 10: False\n",
      "\n",
      "Head: CHINON\n",
      "Gold: Q194138\n",
      "Prediction: NIL\n",
      "Skyline: False\n",
      "{}\n",
      "Accuracy 10: False\n",
      "\n",
      "Head: CHIZÉ\n",
      "Gold: Q1377601\n",
      "Prediction: NIL\n",
      "Skyline: False\n",
      "{}\n",
      "Accuracy 10: False\n",
      "\n",
      "Head: CHOISEUIL\n",
      "Gold: Q681838\n",
      "Prediction: NIL\n",
      "Skyline: False\n",
      "{}\n",
      "Accuracy 10: False\n",
      "\n",
      "Head: CHOLET\n",
      "Gold: Q185066\n",
      "Prediction: NIL\n",
      "Skyline: False\n",
      "{}\n",
      "Accuracy 10: False\n",
      "\n",
      "Head: CHORGES\n",
      "Gold: Q322959\n",
      "Prediction: NIL\n",
      "Skyline: False\n",
      "{}\n",
      "Accuracy 10: False\n",
      "\n",
      "Head: CIOTAT\n",
      "Gold: Q231554\n",
      "Prediction: NIL\n",
      "Skyline: False\n",
      "{}\n",
      "Accuracy 10: False\n",
      "\n",
      "Head: CIVRAY\n",
      "Gold: Q748393\n",
      "Prediction: NIL\n",
      "Skyline: False\n",
      "{}\n",
      "Accuracy 10: False\n",
      "\n",
      "Head: CLAMECY\n",
      "Gold: Q213294\n",
      "Prediction: NIL\n",
      "Skyline: False\n",
      "{}\n",
      "Accuracy 10: False\n",
      "\n",
      "Head: CLERAC ou CLAIRAC\n",
      "Gold: Q196543\n",
      "Prediction: NIL\n",
      "Skyline: False\n",
      "{}\n",
      "Accuracy 10: False\n",
      "\n",
      "Head: CLERMONT\n",
      "Gold: Q42168\n",
      "Prediction: NIL\n",
      "Skyline: False\n",
      "{}\n",
      "Accuracy 10: False\n",
      "\n",
      "Head: Clermont en Argonne\n",
      "Gold: Q1095706\n",
      "Prediction: NIL\n",
      "Skyline: False\n",
      "{}\n",
      "Accuracy 10: False\n",
      "\n",
      "Head: Clermont\n",
      "Gold: Q462534\n",
      "Prediction: Q1100620\n",
      "Skyline: True\n",
      "{'Q1100620': 0.199, 'Q42168': 0.135, 'Q531446': 0.095, 'Q462534': 0.067, 'Q3708413': 0.048, 'Q485582': 0.046, 'Q142182': 0.045}\n",
      "Accuracy 10: False\n",
      "\n",
      "Head: CLERVAL\n",
      "Gold: Q614895\n",
      "Prediction: NIL\n",
      "Skyline: False\n",
      "{}\n",
      "Accuracy 10: False\n",
      "\n",
      "Head: CLERY\n",
      "Gold: Q816291\n",
      "Prediction: NIL\n",
      "Skyline: False\n",
      "{}\n",
      "Accuracy 10: False\n",
      "\n",
      "Head: CLOIS\n",
      "Gold: Q472001\n",
      "Prediction: NIL\n",
      "Skyline: False\n",
      "{}\n",
      "Accuracy 10: False\n",
      "\n",
      "Head: COEUVRES\n",
      "Gold: Q325672\n",
      "Prediction: NIL\n",
      "Skyline: False\n",
      "{}\n",
      "Accuracy 10: False\n",
      "\n",
      "Head: COGNAC\n",
      "Gold: Q285\n",
      "Prediction: NIL\n",
      "Skyline: False\n",
      "{}\n",
      "Accuracy 10: False\n",
      "\n",
      "Head: COINCY\n",
      "Gold: Q1021538\n",
      "Prediction: NIL\n",
      "Skyline: False\n",
      "{}\n",
      "Accuracy 10: False\n",
      "\n",
      "Head: COLIOURE\n",
      "Gold: Q254829\n",
      "Prediction: NIL\n",
      "Skyline: False\n",
      "{}\n",
      "Accuracy 10: False\n",
      "\n",
      "Head: COLMAR\n",
      "Gold: Q130994\n",
      "Prediction: NIL\n",
      "Skyline: False\n",
      "{}\n",
      "Accuracy 10: False\n",
      "\n",
      "Head: COLMARS\n",
      "Gold: Q457023\n",
      "Prediction: NIL\n",
      "Skyline: False\n",
      "{}\n",
      "Accuracy 10: False\n",
      "\n",
      "Head: COLOMMIERS\n",
      "Gold: Q251731\n",
      "Prediction: NIL\n",
      "Skyline: False\n",
      "{}\n",
      "Accuracy 10: False\n",
      "\n",
      "Head: COMMEQUIERS\n",
      "Gold: Q1134526\n",
      "Prediction: NIL\n",
      "Skyline: False\n",
      "{}\n",
      "Accuracy 10: False\n",
      "\n",
      "Head: COMPIEGNE\n",
      "Gold: Q180871\n",
      "Prediction: NIL\n",
      "Skyline: False\n",
      "{}\n",
      "Accuracy 10: False\n",
      "\n",
      "Head: COMPS\n",
      "Gold: Q616607\n",
      "Prediction: NIL\n",
      "Skyline: False\n",
      "{}\n",
      "Accuracy 10: False\n",
      "\n",
      "Head: CONCARNEAUX\n",
      "Gold: Q17393\n",
      "Prediction: NIL\n",
      "Skyline: False\n",
      "{}\n",
      "Accuracy 10: False\n",
      "\n",
      "Head: CONCHES\n",
      "Gold: Q326369\n",
      "Prediction: NIL\n",
      "Skyline: False\n",
      "{}\n",
      "Accuracy 10: False\n",
      "\n",
      "Head: CONCRESSAUT\n",
      "Gold: Q1142476\n",
      "Prediction: NIL\n",
      "Skyline: False\n",
      "{}\n",
      "Accuracy 10: False\n",
      "\n",
      "Head: CONDE\n",
      "Gold: Q494533\n",
      "Prediction: NIL\n",
      "Skyline: False\n",
      "{}\n",
      "Accuracy 10: False\n",
      "\n",
      "Head: Condé\n",
      "Gold: Q244196\n",
      "Prediction: Q494533\n",
      "Skyline: False\n",
      "{'Q494533': 0.397, 'Q1069929': 0.328, 'Q244584': 0.121, 'Q58869': 0.034, 'Q16827690': 0.034, 'Q639057': 0.017, 'Q1009689': 0.017}\n",
      "Accuracy 10: False\n",
      "\n",
      "Head: CONDOM\n",
      "Gold: Q209802\n",
      "Prediction: NIL\n",
      "Skyline: False\n",
      "{}\n",
      "Accuracy 10: False\n",
      "\n",
      "Head: CONDRIEU\n",
      "Gold: Q828612\n",
      "Prediction: NIL\n",
      "Skyline: False\n",
      "{}\n",
      "Accuracy 10: False\n",
      "\n",
      "Head: CONFLANS-EN-JARNISY\n",
      "Gold: Q990768\n",
      "Prediction: NIL\n",
      "Skyline: False\n",
      "{}\n",
      "Accuracy 10: False\n",
      "\n",
      "Head: CONFOULENS\n",
      "Gold: Q217155\n",
      "Prediction: NIL\n",
      "Skyline: False\n",
      "{}\n",
      "Accuracy 10: False\n",
      "\n",
      "Head: CONTY\n",
      "Gold: Q68977\n",
      "Prediction: NIL\n",
      "Skyline: False\n",
      "{}\n",
      "Accuracy 10: False\n",
      "\n",
      "Head: CORBEIL\n",
      "Gold: Q208812\n",
      "Prediction: NIL\n",
      "Skyline: False\n",
      "{}\n",
      "Accuracy 10: False\n",
      "\n",
      "Head: CORBIE\n",
      "Gold: Q71469\n",
      "Prediction: NIL\n",
      "Skyline: False\n",
      "{}\n",
      "Accuracy 10: False\n",
      "\n",
      "Head: CORBIGNY-SAINT-LÉONARD\n",
      "Gold: Q644025\n",
      "Prediction: NIL\n",
      "Skyline: False\n",
      "{}\n",
      "Accuracy 10: False\n",
      "\n",
      "Head: CORDES\n",
      "Gold: Q635125\n",
      "Prediction: NIL\n",
      "Skyline: False\n",
      "{}\n",
      "Accuracy 10: False\n",
      "\n",
      "Head: CORDES-TOULOUSAINES\n",
      "Gold: Q945535\n",
      "Prediction: NIL\n",
      "Skyline: False\n",
      "{}\n",
      "Accuracy 10: False\n",
      "\n",
      "Head: CORMERY\n",
      "Gold: Q1135988\n",
      "Prediction: NIL\n",
      "Skyline: False\n",
      "{}\n",
      "Accuracy 10: False\n",
      "\n",
      "Head: CORMICY\n",
      "Gold: Q28723625\n",
      "Prediction: NIL\n",
      "Skyline: False\n",
      "{}\n",
      "Accuracy 10: False\n",
      "\n",
      "Head: CORNUS\n",
      "Gold: Q646451\n",
      "Prediction: NIL\n",
      "Skyline: False\n",
      "{}\n",
      "Accuracy 10: False\n",
      "\n",
      "Head: Cotignac\n",
      "Gold: Q688450\n",
      "Prediction: Q688450\n",
      "Skyline: True\n",
      "{'Q688450': 1.0}\n",
      "Accuracy 10: True\n",
      "\n",
      "Head: Couché\n",
      "Gold: Q832135\n",
      "Prediction: NIL\n",
      "Skyline: False\n",
      "{}\n",
      "Accuracy 10: False\n",
      "\n",
      "Head: COUCY\n",
      "Gold: Q320260\n",
      "Prediction: NIL\n",
      "Skyline: False\n",
      "{}\n",
      "Accuracy 10: False\n",
      "\n",
      "Head: COULANGES-LES-VINEUSES\n",
      "Gold: Q1371335\n",
      "Prediction: NIL\n",
      "Skyline: False\n",
      "{}\n",
      "Accuracy 10: False\n",
      "\n",
      "Head: COULOMMIERS\n",
      "Gold: Q251731\n",
      "Prediction: NIL\n",
      "Skyline: False\n",
      "{}\n",
      "Accuracy 10: False\n",
      "\n",
      "Head: COULONGES\n",
      "Gold: Q517364\n",
      "Prediction: NIL\n",
      "Skyline: False\n",
      "{}\n",
      "Accuracy 10: False\n",
      "\n",
      "Head: COURMONTERAL\n",
      "Gold: Q196035\n",
      "Prediction: NIL\n",
      "Skyline: False\n",
      "{}\n",
      "Accuracy 10: False\n",
      "\n",
      "Head: COURPIERES\n",
      "Gold: Q539771\n",
      "Prediction: NIL\n",
      "Skyline: False\n",
      "{}\n",
      "Accuracy 10: False\n",
      "\n",
      "Head: COURTENAI\n",
      "Gold: Q908694\n",
      "Prediction: NIL\n",
      "Skyline: False\n",
      "{}\n",
      "Accuracy 10: False\n",
      "\n",
      "Head: COÛTANCES\n",
      "Gold: Q202565\n",
      "Prediction: NIL\n",
      "Skyline: False\n",
      "{}\n",
      "Accuracy 10: False\n",
      "\n",
      "Head: COUTRAS\n",
      "Gold: Q243898\n",
      "Prediction: NIL\n",
      "Skyline: False\n",
      "{}\n",
      "Accuracy 10: False\n",
      "\n",
      "Head: CRAON\n",
      "Gold: Q653894\n",
      "Prediction: NIL\n",
      "Skyline: False\n",
      "{}\n",
      "Accuracy 10: False\n",
      "\n",
      "Head: CRAONNE\n",
      "Gold: Q839780\n",
      "Prediction: NIL\n",
      "Skyline: False\n",
      "{}\n",
      "Accuracy 10: False\n",
      "\n",
      "Head: CRAVAN\n",
      "Gold: Q750299\n",
      "Prediction: NIL\n",
      "Skyline: False\n",
      "{}\n",
      "Accuracy 10: False\n",
      "\n",
      "Head: CREPI\n",
      "Gold: Q3096338\n",
      "Prediction: NIL\n",
      "Skyline: False\n",
      "{}\n",
      "Accuracy 10: False\n",
      "\n",
      "Head: CREVANT\n",
      "Gold: Q750299\n",
      "Prediction: NIL\n",
      "Skyline: False\n",
      "{}\n",
      "Accuracy 10: False\n",
      "\n",
      "Head: CREVECOEUR\n",
      "Gold: Q630387\n",
      "Prediction: NIL\n",
      "Skyline: False\n",
      "{}\n",
      "Accuracy 10: False\n",
      "\n",
      "Head: CREVILLE\n",
      "Gold: Q243675\n",
      "Prediction: NIL\n",
      "Skyline: False\n",
      "{}\n",
      "Accuracy 10: False\n",
      "\n",
      "Head: CROUY\n",
      "Gold: Q677372\n",
      "Prediction: NIL\n",
      "Skyline: False\n",
      "{}\n",
      "Accuracy 10: False\n",
      "\n",
      "Head: CROZET\n",
      "Gold: Q1066159\n",
      "Prediction: NIL\n",
      "Skyline: False\n",
      "{}\n",
      "Accuracy 10: False\n",
      "\n",
      "Head: CUIZEAUX\n",
      "Gold: Q735433\n",
      "Prediction: NIL\n",
      "Skyline: False\n",
      "{}\n",
      "Accuracy 10: False\n",
      "\n",
      "Head: CUIZERY\n",
      "Gold: Q846072\n",
      "Prediction: NIL\n",
      "Skyline: False\n",
      "{}\n",
      "Accuracy 10: False\n",
      "\n",
      "Head: CUSSET\n",
      "Gold: Q321502\n",
      "Prediction: NIL\n",
      "Skyline: False\n",
      "{}\n",
      "Accuracy 10: False\n",
      "\n",
      "Head: DAMMARTIN\n",
      "Gold: Q250742\n",
      "Prediction: NIL\n",
      "Skyline: False\n",
      "{}\n",
      "Accuracy 10: False\n",
      "\n",
      "Head: DAMVILLIERS\n",
      "Gold: Q195737\n",
      "Prediction: NIL\n",
      "Skyline: False\n",
      "{}\n",
      "Accuracy 10: False\n",
      "\n",
      "Head: DAX ou ACQS\n",
      "Gold: Q188878\n",
      "Prediction: NIL\n",
      "Skyline: False\n",
      "{}\n",
      "Accuracy 10: False\n",
      "\n",
      "Head: DECIZE\n",
      "Gold: Q217180\n",
      "Prediction: NIL\n",
      "Skyline: False\n",
      "{}\n",
      "Accuracy 10: False\n",
      "\n",
      "Head: DENAIN\n",
      "Gold: Q212959\n",
      "Prediction: NIL\n",
      "Skyline: False\n",
      "{}\n",
      "Accuracy 10: False\n",
      "\n",
      "Head: DENAT\n",
      "Gold: Q1613862\n",
      "Prediction: NIL\n",
      "Skyline: False\n",
      "{}\n",
      "Accuracy 10: False\n",
      "\n",
      "Head: Dol\n",
      "Gold: Q318432\n",
      "Prediction: Q318432\n",
      "Skyline: True\n",
      "{'Q318432': 0.538, 'Q868440': 0.132, 'Q2104801': 0.077, 'Q3200216': 0.077, 'Q846812': 0.066, 'Q1235263': 0.044, 'Q4806360': 0.044}\n",
      "Accuracy 10: True\n",
      "\n",
      "Head: DOLE\n",
      "Gold: Q205586\n",
      "Prediction: NIL\n",
      "Skyline: False\n",
      "{}\n",
      "Accuracy 10: False\n",
      "\n",
      "Head: DOURDAN\n",
      "Gold: Q646609\n",
      "Prediction: NIL\n",
      "Skyline: False\n",
      "{}\n",
      "Accuracy 10: False\n",
      "\n",
      "Head: DRAGUIGNAN\n",
      "Gold: Q194141\n",
      "Prediction: NIL\n",
      "Skyline: False\n",
      "{}\n",
      "Accuracy 10: False\n",
      "\n",
      "Head: DREUX\n",
      "Gold: Q142410\n",
      "Prediction: NIL\n",
      "Skyline: False\n",
      "{}\n",
      "Accuracy 10: False\n",
      "\n",
      "Head: DUN\n",
      "Gold: Q913049\n",
      "Prediction: NIL\n",
      "Skyline: False\n",
      "{}\n",
      "Accuracy 10: False\n",
      "\n",
      "Head: Dun-le-Roi\n",
      "Gold: Q817409\n",
      "Prediction: Q817409\n",
      "Skyline: True\n",
      "{'Q817409': 1.0}\n",
      "Accuracy 10: True\n",
      "\n",
      "Head: DUNKERQUE\n",
      "Gold: Q45797\n",
      "Prediction: NIL\n",
      "Skyline: False\n",
      "{}\n",
      "Accuracy 10: False\n",
      "\n",
      "Head: DURAS\n",
      "Gold: Q129770\n",
      "Prediction: NIL\n",
      "Skyline: False\n",
      "{}\n",
      "Accuracy 10: False\n",
      "\n",
      "Head: Ferté-Bernard\n",
      "Gold: Q749860\n",
      "Prediction: NIL\n",
      "Skyline: False\n",
      "{}\n",
      "Accuracy 10: False\n",
      "\n",
      "Head: FIGEAC\n",
      "Gold: Q207614\n",
      "Prediction: NIL\n",
      "Skyline: False\n",
      "{}\n",
      "Accuracy 10: False\n",
      "\n",
      "Head: FISMES\n",
      "Gold: Q1214970\n",
      "Prediction: NIL\n",
      "Skyline: False\n",
      "{}\n",
      "Accuracy 10: False\n",
      "\n",
      "Head: FLAVIGNY\n",
      "Gold: Q333734\n",
      "Prediction: NIL\n",
      "Skyline: False\n",
      "{}\n",
      "Accuracy 10: False\n",
      "\n",
      "Head: FONTENAY-LE-COMTE\n",
      "Gold: Q213497\n",
      "Prediction: NIL\n",
      "Skyline: False\n",
      "{}\n",
      "Accuracy 10: False\n",
      "\n",
      "Head: FORGES\n",
      "Gold: Q382746\n",
      "Prediction: NIL\n",
      "Skyline: False\n",
      "{}\n",
      "Accuracy 10: False\n",
      "\n",
      "Head: Fougeres\n",
      "Gold: Q4043\n",
      "Prediction: Q4043\n",
      "Skyline: True\n",
      "{'Q4043': 1.0}\n",
      "Accuracy 10: True\n",
      "\n",
      "Head: FRONTIGNAN\n",
      "Gold: Q216280\n",
      "Prediction: NIL\n",
      "Skyline: False\n",
      "{}\n",
      "Accuracy 10: False\n",
      "\n",
      "Head: GAILLON\n",
      "Gold: Q627220\n",
      "Prediction: NIL\n",
      "Skyline: False\n",
      "{}\n",
      "Accuracy 10: False\n",
      "\n",
      "Head: Gant\n",
      "Gold: Q859063\n",
      "Prediction: Q5521510\n",
      "Skyline: False\n",
      "{'Q5521510': 0.857, 'Q1031108': 0.143}\n",
      "Accuracy 10: False\n",
      "\n",
      "Head: GAUDENS, (Saint-)\n",
      "Gold: Q209777\n",
      "Prediction: NIL\n",
      "Skyline: False\n",
      "{}\n",
      "Accuracy 10: False\n",
      "\n",
      "Head: GISORS\n",
      "Gold: Q271072\n",
      "Prediction: NIL\n",
      "Skyline: False\n",
      "{}\n",
      "Accuracy 10: False\n",
      "\n",
      "Head: GUINES\n",
      "Gold: Q325999\n",
      "Prediction: NIL\n",
      "Skyline: False\n",
      "{}\n",
      "Accuracy 10: False\n",
      "\n",
      "Head: GUINGAMP\n",
      "Gold: Q193808\n",
      "Prediction: NIL\n",
      "Skyline: False\n",
      "{}\n",
      "Accuracy 10: False\n",
      "\n",
      "Head: GUISE\n",
      "Gold: Q271093\n",
      "Prediction: NIL\n",
      "Skyline: False\n",
      "{}\n",
      "Accuracy 10: False\n",
      "\n",
      "Head: HAUTE-RIVE\n",
      "Gold: Q390964\n",
      "Prediction: NIL\n",
      "Skyline: False\n",
      "{}\n",
      "Accuracy 10: False\n",
      "\n",
      "Head: HENNEBON\n",
      "Gold: Q71503\n",
      "Prediction: NIL\n",
      "Skyline: False\n",
      "{}\n",
      "Accuracy 10: False\n",
      "\n",
      "Head: HIESMES ou EXMES\n",
      "Gold: Q736192\n",
      "Prediction: NIL\n",
      "Skyline: False\n",
      "{}\n",
      "Accuracy 10: False\n",
      "\n",
      "Head: Hippolyte Ste ou St. Plit\n",
      "Gold: Q126283\n",
      "Prediction: NIL\n",
      "Skyline: False\n",
      "{}\n",
      "Accuracy 10: False\n",
      "\n",
      "Head: HONFLEUR\n",
      "Gold: Q231720\n",
      "Prediction: NIL\n",
      "Skyline: False\n",
      "{}\n",
      "Accuracy 10: False\n",
      "\n",
      "Head: HOUDAN\n",
      "Gold: Q389485\n",
      "Prediction: NIL\n",
      "Skyline: False\n",
      "{}\n",
      "Accuracy 10: False\n",
      "\n",
      "Head: James sainte\n",
      "Gold: Q28723548\n",
      "Prediction: NIL\n",
      "Skyline: False\n",
      "{}\n",
      "Accuracy 10: False\n",
      "\n",
      "Head: JANVILLE\n",
      "Gold: Q60012133\n",
      "Prediction: NIL\n",
      "Skyline: False\n",
      "{}\n",
      "Accuracy 10: False\n",
      "\n",
      "Head: JARGEAU ou GERGEAU\n",
      "Gold: Q630345\n",
      "Prediction: NIL\n",
      "Skyline: False\n",
      "{}\n",
      "Accuracy 10: False\n",
      "\n",
      "Head: JARNAC\n",
      "Gold: Q217173\n",
      "Prediction: NIL\n",
      "Skyline: False\n",
      "{}\n",
      "Accuracy 10: False\n",
      "\n",
      "Head: Jean, S.\n",
      "Gold: Q2319085\n",
      "Prediction: NIL\n",
      "Skyline: False\n",
      "{}\n",
      "Accuracy 10: False\n",
      "\n",
      "Head: Jean d'Angély, S.\n",
      "Gold: Q348807\n",
      "Prediction: NIL\n",
      "Skyline: False\n",
      "{}\n",
      "Accuracy 10: False\n",
      "\n",
      "Head: Jean de Lône, S.\n",
      "Gold: Q16832\n",
      "Prediction: NIL\n",
      "Skyline: False\n",
      "{}\n",
      "Accuracy 10: False\n",
      "\n",
      "Head: Jean-pied-de-Port, S.\n",
      "Gold: Q270294\n",
      "Prediction: NIL\n",
      "Skyline: False\n",
      "{}\n",
      "Accuracy 10: False\n",
      "\n",
      "Head: ILLE\n",
      "Gold: Q689461\n",
      "Prediction: NIL\n",
      "Skyline: False\n",
      "{}\n",
      "Accuracy 10: False\n",
      "\n",
      "Head: JOCELIN\n",
      "Gold: Q71500\n",
      "Prediction: NIL\n",
      "Skyline: False\n",
      "{}\n",
      "Accuracy 10: False\n",
      "\n",
      "Head: JOIGNY\n",
      "Gold: Q476584\n",
      "Prediction: NIL\n",
      "Skyline: False\n",
      "{}\n",
      "Accuracy 10: False\n",
      "\n",
      "Head: JOINVILLE\n",
      "Gold: Q817418\n",
      "Prediction: NIL\n",
      "Skyline: False\n",
      "{}\n",
      "Accuracy 10: False\n",
      "\n",
      "Head: JONQUIERES\n",
      "Gold: Q648389\n",
      "Prediction: NIL\n",
      "Skyline: False\n",
      "{}\n",
      "Accuracy 10: False\n",
      "\n",
      "Head: Isle-Jourdain, l'\n",
      "Gold: Q735931\n",
      "Prediction: NIL\n",
      "Skyline: False\n",
      "{}\n",
      "Accuracy 10: False\n",
      "\n",
      "Head: ISSOIRE\n",
      "Gold: Q133824\n",
      "Prediction: NIL\n",
      "Skyline: False\n",
      "{}\n",
      "Accuracy 10: False\n",
      "\n",
      "Head: ISSOUDUN\n",
      "Gold: Q210772\n",
      "Prediction: NIL\n",
      "Skyline: False\n",
      "{}\n",
      "Accuracy 10: False\n",
      "\n",
      "Head: IS-SUR-TILLE\n",
      "Gold: Q55345\n",
      "Prediction: NIL\n",
      "Skyline: False\n",
      "{}\n",
      "Accuracy 10: False\n",
      "\n",
      "Head: JUMIEGE, Gemmeticum\n",
      "Gold: Q658613\n",
      "Prediction: NIL\n",
      "Skyline: False\n",
      "{}\n",
      "Accuracy 10: False\n",
      "\n",
      "Head: IVRY\n",
      "Gold: Q381493\n",
      "Prediction: NIL\n",
      "Skyline: False\n",
      "{}\n",
      "Accuracy 10: False\n",
      "\n",
      "Head: KARHAIS ou CARALIS ou KÉRAHES\n",
      "Gold: Q208226\n",
      "Prediction: NIL\n",
      "Skyline: False\n",
      "{}\n",
      "Accuracy 10: False\n",
      "\n",
      "Head: KAYSERBERG\n",
      "Gold: Q83485\n",
      "Prediction: NIL\n",
      "Skyline: False\n",
      "{}\n",
      "Accuracy 10: False\n",
      "\n",
      "Head: KOCHERSBERG\n",
      "Gold: Q21310\n",
      "Prediction: NIL\n",
      "Skyline: False\n",
      "{}\n",
      "Accuracy 10: False\n",
      "\n",
      "Head: LAGNIEU\n",
      "Gold: Q236436\n",
      "Prediction: NIL\n",
      "Skyline: False\n",
      "{}\n",
      "Accuracy 10: False\n",
      "\n",
      "Head: LAMBALE\n",
      "Gold: Q240286\n",
      "Prediction: NIL\n",
      "Skyline: False\n",
      "{}\n",
      "Accuracy 10: False\n",
      "\n",
      "Head: LAMBESC\n",
      "Gold: Q474025\n",
      "Prediction: Q474025\n",
      "Skyline: True\n",
      "{'Q474025': 1.0}\n",
      "Accuracy 10: True\n",
      "\n",
      "Head: LANDERNEAU, Landernacum\n",
      "Gold: Q325946\n",
      "Prediction: NIL\n",
      "Skyline: False\n",
      "{}\n",
      "Accuracy 10: False\n",
      "\n",
      "Head: LANGON\n",
      "Gold: Q207154\n",
      "Prediction: NIL\n",
      "Skyline: False\n",
      "{}\n",
      "Accuracy 10: False\n",
      "\n",
      "Head: LANGRES\n",
      "Gold: Q203293\n",
      "Prediction: NIL\n",
      "Skyline: False\n",
      "{}\n",
      "Accuracy 10: False\n",
      "\n",
      "Head: LANION\n",
      "Gold: Q207581\n",
      "Prediction: NIL\n",
      "Skyline: False\n",
      "{}\n",
      "Accuracy 10: False\n",
      "\n",
      "Head: LANNOY, Alnetum\n",
      "Gold: Q1165033\n",
      "Prediction: NIL\n",
      "Skyline: False\n",
      "{}\n",
      "Accuracy 10: False\n",
      "\n",
      "Head: LAURENT LES CHALONS, St\n",
      "Gold: Q28740116\n",
      "Prediction: NIL\n",
      "Skyline: False\n",
      "{}\n",
      "Accuracy 10: False\n",
      "\n",
      "Head: LAUTERBOURG, Lautraburgum\n",
      "Gold: Q22435\n",
      "Prediction: NIL\n",
      "Skyline: False\n",
      "{}\n",
      "Accuracy 10: False\n",
      "\n",
      "Head: LENS, Lentium\n",
      "Gold: Q165271\n",
      "Prediction: NIL\n",
      "Skyline: False\n",
      "{}\n",
      "Accuracy 10: False\n",
      "\n",
      "Head: LÉON, Legio\n",
      "Gold: Q239908\n",
      "Prediction: NIL\n",
      "Skyline: False\n",
      "{}\n",
      "Accuracy 10: False\n",
      "\n",
      "Head: LÉONARD, le noble Saint\n",
      "Gold: Q200202\n",
      "Prediction: NIL\n",
      "Skyline: False\n",
      "{}\n",
      "Accuracy 10: False\n",
      "\n",
      "Head: LEUCATE\n",
      "Gold: Q459673\n",
      "Prediction: NIL\n",
      "Skyline: False\n",
      "{}\n",
      "Accuracy 10: False\n",
      "\n",
      "Head: LILLE\n",
      "Gold: Q648\n",
      "Prediction: NIL\n",
      "Skyline: False\n",
      "{}\n",
      "Accuracy 10: False\n",
      "\n",
      "Head: LIMOGES\n",
      "Gold: Q45656\n",
      "Prediction: NIL\n",
      "Skyline: False\n",
      "{}\n",
      "Accuracy 10: False\n",
      "\n",
      "Head: LIMOURS\n",
      "Gold: Q752189\n",
      "Prediction: NIL\n",
      "Skyline: False\n",
      "{}\n",
      "Accuracy 10: False\n",
      "\n",
      "Head: LISIEUX\n",
      "Gold: Q188743\n",
      "Prediction: NIL\n",
      "Skyline: False\n",
      "{}\n",
      "Accuracy 10: False\n",
      "\n",
      "Head: LO, S. Fanum S. Laudi\n",
      "Gold: Q181704\n",
      "Prediction: NIL\n",
      "Skyline: False\n",
      "{}\n",
      "Accuracy 10: False\n",
      "\n",
      "Head: LODEVE\n",
      "Gold: Q198650\n",
      "Prediction: NIL\n",
      "Skyline: False\n",
      "{}\n",
      "Accuracy 10: False\n",
      "\n",
      "Head: LORRIS\n",
      "Gold: Q1168135\n",
      "Prediction: NIL\n",
      "Skyline: False\n",
      "{}\n",
      "Accuracy 10: False\n",
      "\n",
      "Head: LOUDUN\n",
      "Gold: Q22994998\n",
      "Prediction: NIL\n",
      "Skyline: False\n",
      "{}\n",
      "Accuracy 10: False\n",
      "\n",
      "Head: LOURDE, Laperdum\n",
      "Gold: Q3327\n",
      "Prediction: NIL\n",
      "Skyline: False\n",
      "{}\n",
      "Accuracy 10: False\n",
      "\n",
      "Head: Luçon\n",
      "Gold: Q185352\n",
      "Prediction: Q185352\n",
      "Skyline: True\n",
      "{'Q185352': 0.925, 'Q1108787': 0.045, 'Q125384': 0.03}\n",
      "Accuracy 10: True\n",
      "\n",
      "Head: LUSIGNAN, Luziniacum\n",
      "Gold: Q628226\n",
      "Prediction: NIL\n",
      "Skyline: False\n",
      "{}\n",
      "Accuracy 10: False\n",
      "\n",
      "Head: LUXEU, ou LUXEUIL, Luxovium\n",
      "Gold: Q634124\n",
      "Prediction: NIL\n",
      "Skyline: False\n",
      "{}\n",
      "Accuracy 10: False\n",
      "\n",
      "Head: LYON\n",
      "Gold: Q456\n",
      "Prediction: NIL\n",
      "Skyline: False\n",
      "{}\n",
      "Accuracy 10: False\n",
      "\n",
      "Head: MACHÉCHOU, ou MACHÉCOL\n",
      "Gold: Q631181\n",
      "Prediction: NIL\n",
      "Skyline: False\n",
      "{}\n",
      "Accuracy 10: False\n",
      "\n",
      "Head: MACON\n",
      "Gold: Q174247\n",
      "Prediction: NIL\n",
      "Skyline: False\n",
      "{}\n",
      "Accuracy 10: False\n",
      "\n",
      "Head: MAGNY\n",
      "Gold: Q177554\n",
      "Prediction: NIL\n",
      "Skyline: False\n",
      "{}\n",
      "Accuracy 10: False\n",
      "\n",
      "Head: MAILLEZAIS, , Malliacum Pictonum\n",
      "Gold: Q632311\n",
      "Prediction: NIL\n",
      "Skyline: False\n",
      "{}\n",
      "Accuracy 10: False\n",
      "\n",
      "Head: MAINTENON\n",
      "Gold: Q653559\n",
      "Prediction: NIL\n",
      "Skyline: False\n",
      "{}\n",
      "Accuracy 10: False\n",
      "\n",
      "Head: MAIXENT, Saint, Maxentium\n",
      "Gold: Q638680\n",
      "Prediction: NIL\n",
      "Skyline: False\n",
      "{}\n",
      "Accuracy 10: False\n",
      "\n",
      "Head: MALO, Saint, en latin moderne Macloviopolis\n",
      "Gold: Q163108\n",
      "Prediction: NIL\n",
      "Skyline: False\n",
      "{}\n",
      "Accuracy 10: False\n",
      "\n",
      "Head: MAMERS, Mamercioe\n",
      "Gold: Q119308789\n",
      "Prediction: NIL\n",
      "Skyline: False\n",
      "{}\n",
      "Accuracy 10: False\n",
      "\n",
      "Head: MANS, le\n",
      "Gold: Q1476\n",
      "Prediction: NIL\n",
      "Skyline: False\n",
      "{}\n",
      "Accuracy 10: False\n",
      "\n",
      "Head: MARCELLIN\n",
      "Gold: Q521432\n",
      "Prediction: NIL\n",
      "Skyline: False\n",
      "{}\n",
      "Accuracy 10: False\n",
      "\n",
      "Head: Marche\n",
      "Gold: Q208768\n",
      "Prediction: Q1279\n",
      "Skyline: False\n",
      "{'Q1279': 0.993, 'Q6756948': 0.004, 'Q269908': 0.003, 'Q93905': 0.001}\n",
      "Accuracy 10: False\n",
      "\n",
      "Head: MARCIGNI\n",
      "Gold: Q279310\n",
      "Prediction: NIL\n",
      "Skyline: False\n",
      "{}\n",
      "Accuracy 10: False\n",
      "\n",
      "Head: MARLE\n",
      "Gold: Q326586\n",
      "Prediction: NIL\n",
      "Skyline: False\n",
      "{}\n",
      "Accuracy 10: False\n",
      "\n",
      "Head: MARMANDE\n",
      "Gold: Q210742\n",
      "Prediction: NIL\n",
      "Skyline: False\n",
      "{}\n",
      "Accuracy 10: False\n",
      "\n",
      "Head: MARQUEFAVE\n",
      "Gold: Q1428322\n",
      "Prediction: NIL\n",
      "Skyline: False\n",
      "{}\n",
      "Accuracy 10: False\n",
      "\n",
      "Head: MARTEL\n",
      "Gold: Q732788\n",
      "Prediction: NIL\n",
      "Skyline: False\n",
      "{}\n",
      "Accuracy 10: False\n",
      "\n",
      "Head: MARTIGUES\n",
      "Gold: Q237516\n",
      "Prediction: NIL\n",
      "Skyline: False\n",
      "{}\n",
      "Accuracy 10: False\n",
      "\n",
      "Head: MAS-D'AZIL\n",
      "Gold: Q1084645\n",
      "Prediction: NIL\n",
      "Skyline: False\n",
      "{}\n",
      "Accuracy 10: False\n",
      "\n",
      "Head: MASSIAC\n",
      "Gold: Q470686\n",
      "Prediction: NIL\n",
      "Skyline: False\n",
      "{}\n",
      "Accuracy 10: False\n",
      "\n",
      "Head: MAULÉON\n",
      "Gold: Q669021\n",
      "Prediction: NIL\n",
      "Skyline: False\n",
      "{}\n",
      "Accuracy 10: False\n",
      "\n",
      "Head: Mauléon de Soule\n",
      "Gold: Q236528\n",
      "Prediction: NIL\n",
      "Skyline: False\n",
      "{}\n",
      "Accuracy 10: False\n",
      "\n",
      "Head: Maure Sainte\n",
      "Gold: Q474524\n",
      "Prediction: NIL\n",
      "Skyline: False\n",
      "{}\n",
      "Accuracy 10: False\n",
      "\n",
      "Head: MAURS\n",
      "Gold: Q663915\n",
      "Prediction: NIL\n",
      "Skyline: False\n",
      "{}\n",
      "Accuracy 10: False\n",
      "\n",
      "Head: MAUVESIN\n",
      "Gold: Q380495\n",
      "Prediction: NIL\n",
      "Skyline: False\n",
      "{}\n",
      "Accuracy 10: False\n",
      "\n",
      "Head: MAXIMIN St. Sancti Maximini Fanum\n",
      "Gold: Q848718\n",
      "Prediction: NIL\n",
      "Skyline: False\n",
      "{}\n",
      "Accuracy 10: False\n",
      "\n",
      "Head: MAZÈRES\n",
      "Gold: Q624304\n",
      "Prediction: NIL\n",
      "Skyline: False\n",
      "{}\n",
      "Accuracy 10: False\n",
      "\n",
      "Head: MEAUX\n",
      "Gold: Q207620\n",
      "Prediction: NIL\n",
      "Skyline: False\n",
      "{}\n",
      "Accuracy 10: False\n",
      "\n",
      "Head: MÉHUN-SUR LOIRE\n",
      "Gold: Q658776\n",
      "Prediction: NIL\n",
      "Skyline: False\n",
      "{}\n",
      "Accuracy 10: False\n",
      "\n",
      "Head: MEIMAC\n",
      "Gold: Q191784\n",
      "Prediction: NIL\n",
      "Skyline: False\n",
      "{}\n",
      "Accuracy 10: False\n",
      "\n",
      "Head: MELUN\n",
      "Gold: Q41139\n",
      "Prediction: NIL\n",
      "Skyline: False\n",
      "{}\n",
      "Accuracy 10: False\n",
      "\n",
      "Head: MENDE\n",
      "Gold: Q191772\n",
      "Prediction: NIL\n",
      "Skyline: False\n",
      "{}\n",
      "Accuracy 10: False\n",
      "\n",
      "Head: Mer\n",
      "Gold: Q732823\n",
      "Prediction: Q732823\n",
      "Skyline: True\n",
      "{'Q732823': 0.636, 'Q82593833': 0.242, 'Q1953840': 0.121}\n",
      "Accuracy 10: True\n",
      "\n",
      "Head: MERY-SUR-SEINE\n",
      "Gold: Q976011\n",
      "Prediction: NIL\n",
      "Skyline: False\n",
      "{}\n",
      "Accuracy 10: False\n",
      "\n",
      "Head: METS\n",
      "Gold: Q22690\n",
      "Prediction: NIL\n",
      "Skyline: False\n",
      "{}\n",
      "Accuracy 10: False\n",
      "\n",
      "Head: MEULAN, Mellentum, ou Medlintum\n",
      "Gold: Q275371\n",
      "Prediction: NIL\n",
      "Skyline: False\n",
      "{}\n",
      "Accuracy 10: False\n",
      "\n",
      "Head: MEZERAY\n",
      "Gold: Q248839\n",
      "Prediction: NIL\n",
      "Skyline: False\n",
      "{}\n",
      "Accuracy 10: False\n",
      "\n",
      "Head: MIHIEL, Saint\n",
      "Gold: Q194932\n",
      "Prediction: NIL\n",
      "Skyline: False\n",
      "{}\n",
      "Accuracy 10: False\n",
      "\n",
      "Head: MIRADOUX\n",
      "Gold: Q530347\n",
      "Prediction: NIL\n",
      "Skyline: False\n",
      "{}\n",
      "Accuracy 10: False\n",
      "\n",
      "Head: MIRANDE, la\n",
      "Gold: Q501104\n",
      "Prediction: NIL\n",
      "Skyline: False\n",
      "{}\n",
      "Accuracy 10: False\n",
      "\n",
      "Head: MIREBEAU\n",
      "Gold: Q753745\n",
      "Prediction: NIL\n",
      "Skyline: False\n",
      "{}\n",
      "Accuracy 10: False\n",
      "\n",
      "Head: MIRECOURT\n",
      "Gold: Q659969\n",
      "Prediction: NIL\n",
      "Skyline: False\n",
      "{}\n",
      "Accuracy 10: False\n",
      "\n",
      "Head: MIREMONT\n",
      "Gold: Q1078070\n",
      "Prediction: NIL\n",
      "Skyline: False\n",
      "{}\n",
      "Accuracy 10: False\n",
      "\n",
      "Head: MIREPOIX\n",
      "Gold: Q650764\n",
      "Prediction: NIL\n",
      "Skyline: False\n",
      "{}\n",
      "Accuracy 10: False\n",
      "\n",
      "Head: MONTAUBAN\n",
      "Gold: Q172593\n",
      "Prediction: NIL\n",
      "Skyline: False\n",
      "{}\n",
      "Accuracy 10: False\n",
      "\n",
      "Head: MONTBAR\n",
      "Gold: Q209838\n",
      "Prediction: NIL\n",
      "Skyline: False\n",
      "{}\n",
      "Accuracy 10: False\n",
      "\n",
      "Head: MONTBAZON\n",
      "Gold: Q693996\n",
      "Prediction: NIL\n",
      "Skyline: False\n",
      "{}\n",
      "Accuracy 10: False\n",
      "\n",
      "Head: MONTBRISON\n",
      "Gold: Q213288\n",
      "Prediction: NIL\n",
      "Skyline: False\n",
      "{}\n",
      "Accuracy 10: False\n",
      "\n",
      "Head: MONTELIMART\n",
      "Gold: Q234270\n",
      "Prediction: NIL\n",
      "Skyline: False\n",
      "{}\n",
      "Accuracy 10: False\n",
      "\n",
      "Head: MONTEREAU-FAUT-YONNE\n",
      "Gold: Q242191\n",
      "Prediction: NIL\n",
      "Skyline: False\n",
      "{}\n",
      "Accuracy 10: False\n",
      "\n",
      "Head: Monfort\n",
      "Gold: Q231771\n",
      "Prediction: Q1123760\n",
      "Skyline: False\n",
      "{'Q1123760': 0.909, 'Q14201945': 0.045, 'Q21054': 0.045}\n",
      "Accuracy 10: False\n",
      "\n",
      "Head: Montfort-l'Amaulri\n",
      "Gold: Q251655\n",
      "Prediction: NIL\n",
      "Skyline: False\n",
      "{}\n",
      "Accuracy 10: False\n",
      "\n",
      "Head: MONTIVILLIERS, ou MONTIERSVILLIERS\n",
      "Gold: Q845991\n",
      "Prediction: NIL\n",
      "Skyline: False\n",
      "{}\n",
      "Accuracy 10: False\n",
      "\n",
      "Head: MONT-LOUIS\n",
      "Gold: Q622422\n",
      "Prediction: NIL\n",
      "Skyline: False\n",
      "{}\n",
      "Accuracy 10: False\n",
      "\n",
      "Head: MONT-LUÇON\n",
      "Gold: Q193256\n",
      "Prediction: NIL\n",
      "Skyline: False\n",
      "{}\n",
      "Accuracy 10: False\n",
      "\n",
      "Head: MONT-LUEL\n",
      "Gold: Q239858\n",
      "Prediction: NIL\n",
      "Skyline: False\n",
      "{}\n",
      "Accuracy 10: False\n",
      "\n",
      "Head: MONT-MARTRE\n",
      "Gold: Q186115\n",
      "Prediction: NIL\n",
      "Skyline: False\n",
      "{}\n",
      "Accuracy 10: False\n",
      "\n",
      "Head: MONT-MERLE\n",
      "Gold: Q839835\n",
      "Prediction: NIL\n",
      "Skyline: False\n",
      "{}\n",
      "Accuracy 10: False\n",
      "\n",
      "Head: MONTMORENCI\n",
      "Gold: Q316891\n",
      "Prediction: NIL\n",
      "Skyline: False\n",
      "{}\n",
      "Accuracy 10: False\n",
      "\n",
      "Head: MONTPENSIER\n",
      "Gold: Q845814\n",
      "Prediction: NIL\n",
      "Skyline: False\n",
      "{}\n",
      "Accuracy 10: False\n",
      "\n",
      "Head: MONTREUIL-BELLAY\n",
      "Gold: Q838870\n",
      "Prediction: NIL\n",
      "Skyline: False\n",
      "{}\n",
      "Accuracy 10: False\n",
      "\n",
      "Head: MONT-SAINT-MICHEL, sur mer\n",
      "Gold: Q20892\n",
      "Prediction: NIL\n",
      "Skyline: False\n",
      "{}\n",
      "Accuracy 10: False\n",
      "\n",
      "Head: MONT-SAUJEON\n",
      "Gold: Q577930\n",
      "Prediction: NIL\n",
      "Skyline: False\n",
      "{}\n",
      "Accuracy 10: False\n",
      "\n",
      "Head: MONT-TRICHARD\n",
      "Gold: Q633743\n",
      "Prediction: NIL\n",
      "Skyline: False\n",
      "{}\n",
      "Accuracy 10: False\n",
      "\n",
      "Head: MORLAIX\n",
      "Gold: Q202368\n",
      "Prediction: NIL\n",
      "Skyline: False\n",
      "{}\n",
      "Accuracy 10: False\n",
      "\n",
      "Head: MORTAIN\n",
      "Gold: Q325187\n",
      "Prediction: NIL\n",
      "Skyline: False\n",
      "{}\n",
      "Accuracy 10: False\n",
      "\n",
      "Head: MORTEMAR\n",
      "Gold: Q624794\n",
      "Prediction: NIL\n",
      "Skyline: False\n",
      "{}\n",
      "Accuracy 10: False\n",
      "\n",
      "Head: MOUTIERS EN PUISAYE\n",
      "Gold: Q208596\n",
      "Prediction: NIL\n",
      "Skyline: False\n",
      "{}\n",
      "Accuracy 10: False\n",
      "\n",
      "Head: MURAT\n",
      "Gold: Q256188\n",
      "Prediction: NIL\n",
      "Skyline: False\n",
      "{}\n",
      "Accuracy 10: False\n",
      "\n",
      "Head: MURET\n",
      "Gold: Q207593\n",
      "Prediction: NIL\n",
      "Skyline: False\n",
      "{}\n",
      "Accuracy 10: False\n",
      "\n",
      "Head: MUSSIDAN\n",
      "Gold: Q494972\n",
      "Prediction: NIL\n",
      "Skyline: False\n",
      "{}\n",
      "Accuracy 10: False\n",
      "\n",
      "Head: MUSSY-L'ÉVEQUE\n",
      "Gold: Q740144\n",
      "Prediction: NIL\n",
      "Skyline: False\n",
      "{}\n",
      "Accuracy 10: False\n",
      "\n",
      "Head: NAJAC\n",
      "Gold: Q633653\n",
      "Prediction: NIL\n",
      "Skyline: False\n",
      "{}\n",
      "Accuracy 10: False\n",
      "\n",
      "Head: NANCY\n",
      "Gold: Q40898\n",
      "Prediction: NIL\n",
      "Skyline: False\n",
      "{}\n",
      "Accuracy 10: False\n",
      "\n",
      "Head: NANGIS\n",
      "Gold: Q271599\n",
      "Prediction: NIL\n",
      "Skyline: False\n",
      "{}\n",
      "Accuracy 10: False\n",
      "\n",
      "Head: Nantes\n",
      "Gold: Q12191\n",
      "Prediction: Q12191\n",
      "Skyline: True\n",
      "{'Q12191': 0.965, 'Q2180175': 0.012, 'Q3335789': 0.009, 'Q1119526': 0.004, 'Q259388': 0.003, 'Q2117983': 0.003, 'Q1432144': 0.001}\n",
      "Accuracy 10: True\n",
      "\n",
      "Head: NANTUA\n",
      "Gold: Q193937\n",
      "Prediction: NIL\n",
      "Skyline: False\n",
      "{}\n",
      "Accuracy 10: False\n",
      "\n",
      "Head: NARBONNE\n",
      "Gold: Q6555\n",
      "Prediction: NIL\n",
      "Skyline: False\n",
      "{}\n",
      "Accuracy 10: False\n",
      "\n",
      "Head: NAVARREINS\n",
      "Gold: Q179949\n",
      "Prediction: NIL\n",
      "Skyline: False\n",
      "{}\n",
      "Accuracy 10: False\n",
      "\n",
      "Head: Négrepelisse\n",
      "Gold: Q635650\n",
      "Prediction: NIL\n",
      "Skyline: False\n",
      "{}\n",
      "Accuracy 10: False\n",
      "\n",
      "Head: NEMOURS\n",
      "Gold: Q321067\n",
      "Prediction: NIL\n",
      "Skyline: False\n",
      "{}\n",
      "Accuracy 10: False\n",
      "\n",
      "Head: NERAC\n",
      "Gold: Q210769\n",
      "Prediction: NIL\n",
      "Skyline: False\n",
      "{}\n",
      "Accuracy 10: False\n",
      "\n",
      "Head: NÉRONDES\n",
      "Gold: Q1091807\n",
      "Prediction: NIL\n",
      "Skyline: False\n",
      "{}\n",
      "Accuracy 10: False\n",
      "\n",
      "Head: Neubourg\n",
      "Gold: Q872004\n",
      "Prediction: Q872004\n",
      "Skyline: True\n",
      "{'Q872004': 0.875, 'Q21234': 0.125}\n",
      "Accuracy 10: True\n",
      "\n",
      "Head: NEVERS\n",
      "Gold: Q166997\n",
      "Prediction: NIL\n",
      "Skyline: False\n",
      "{}\n",
      "Accuracy 10: False\n",
      "\n",
      "Head: NEUFCHATEAU\n",
      "Gold: Q210787\n",
      "Prediction: NIL\n",
      "Skyline: False\n",
      "{}\n",
      "Accuracy 10: False\n",
      "\n",
      "Head: NEUFCHATEL en Bray\n",
      "Gold: Q659248\n",
      "Prediction: NIL\n",
      "Skyline: False\n",
      "{}\n",
      "Accuracy 10: False\n",
      "\n",
      "Head: NEUILLY SAINT-FRONT\n",
      "Gold: Q988669\n",
      "Prediction: NIL\n",
      "Skyline: False\n",
      "{}\n",
      "Accuracy 10: False\n",
      "\n",
      "Head: NEUVILLER\n",
      "Gold: Q21355\n",
      "Prediction: NIL\n",
      "Skyline: False\n",
      "{}\n",
      "Accuracy 10: False\n",
      "\n",
      "Head: Nice\n",
      "Gold: Q33959\n",
      "Prediction: Q33959\n",
      "Skyline: True\n",
      "{'Q33959': 0.974, 'Q706553': 0.005, 'Q821557': 0.004, 'Q2108340': 0.004, 'Q738970': 0.003, 'Q265609': 0.002, 'Q701950': 0.001}\n",
      "Accuracy 10: True\n",
      "\n",
      "Head: NIONS\n",
      "Gold: Q209810\n",
      "Prediction: NIL\n",
      "Skyline: False\n",
      "{}\n",
      "Accuracy 10: False\n",
      "\n",
      "Head: NIORT\n",
      "Gold: Q184159\n",
      "Prediction: NIL\n",
      "Skyline: False\n",
      "{}\n",
      "Accuracy 10: False\n",
      "\n",
      "Head: NOGARO\n",
      "Gold: Q324167\n",
      "Prediction: NIL\n",
      "Skyline: False\n",
      "{}\n",
      "Accuracy 10: False\n",
      "\n",
      "Head: NOGENT\n",
      "Gold: Q476895\n",
      "Prediction: NIL\n",
      "Skyline: False\n",
      "{}\n",
      "Accuracy 10: False\n",
      "\n",
      "Head: Nogent-le-Roi\n",
      "Gold: Q501821\n",
      "Prediction: Q501821\n",
      "Skyline: True\n",
      "{'Q501821': 0.964, 'Q1325342': 0.036}\n",
      "Accuracy 10: True\n",
      "\n",
      "Head: Nogent-le-Rotrou\n",
      "Gold: Q214432\n",
      "Prediction: Q214432\n",
      "Skyline: True\n",
      "{'Q214432': 1.0}\n",
      "Accuracy 10: True\n",
      "\n",
      "Head: Nogent-sur-Seine\n",
      "Gold: Q476895\n",
      "Prediction: Q476895\n",
      "Skyline: True\n",
      "{'Q476895': 0.971, 'Q639304': 0.029}\n",
      "Accuracy 10: True\n",
      "\n",
      "Head: NONANCOURT\n",
      "Gold: Q324105\n",
      "Prediction: NIL\n",
      "Skyline: False\n",
      "{}\n",
      "Accuracy 10: False\n",
      "\n",
      "Head: NOUVION\n",
      "Gold: Q389471\n",
      "Prediction: NIL\n",
      "Skyline: False\n",
      "{}\n",
      "Accuracy 10: False\n",
      "\n",
      "Head: NOYERS\n",
      "Gold: Q732586\n",
      "Prediction: NIL\n",
      "Skyline: False\n",
      "{}\n",
      "Accuracy 10: False\n",
      "\n",
      "Head: Noyon\n",
      "Gold: Q49831\n",
      "Prediction: Q49831\n",
      "Skyline: True\n",
      "{'Q49831': 0.939, 'Q1565727': 0.034, 'Q932828': 0.017, 'Q1826892': 0.011}\n",
      "Accuracy 10: True\n",
      "\n",
      "Head: NOZEROY, ou NOZERET\n",
      "Gold: Q818309\n",
      "Prediction: NIL\n",
      "Skyline: False\n",
      "{}\n",
      "Accuracy 10: False\n",
      "\n",
      "Head: NUITS\n",
      "Gold: Q16622\n",
      "Prediction: NIL\n",
      "Skyline: False\n",
      "{}\n",
      "Accuracy 10: False\n",
      "\n",
      "Head: OISEMONT\n",
      "Gold: Q388107\n",
      "Prediction: NIL\n",
      "Skyline: False\n",
      "{}\n",
      "Accuracy 10: False\n",
      "\n",
      "Head: Oléron\n",
      "Gold: Q208407\n",
      "Prediction: Q292568\n",
      "Skyline: False\n",
      "{'Q292568': 1.0}\n",
      "Accuracy 10: False\n",
      "\n",
      "Head: OLIERGUES\n",
      "Gold: Q245737\n",
      "Prediction: NIL\n",
      "Skyline: False\n",
      "{}\n",
      "Accuracy 10: False\n",
      "\n",
      "Head: OLIOULES\n",
      "Gold: Q840237\n",
      "Prediction: NIL\n",
      "Skyline: False\n",
      "{}\n",
      "Accuracy 10: False\n",
      "\n",
      "Head: OMER, Saint-\n",
      "Gold: Q208793\n",
      "Prediction: NIL\n",
      "Skyline: False\n",
      "{}\n",
      "Accuracy 10: False\n",
      "\n",
      "Head: Orange\n",
      "Gold: Q187796\n",
      "Prediction: Q580973\n",
      "Skyline: True\n",
      "{'Q580973': 0.169, 'Q5925': 0.1, 'Q491350': 0.096, 'Q187796': 0.082, 'Q982388': 0.065, 'Q108618': 0.059, 'Q488543': 0.05}\n",
      "Accuracy 10: False\n",
      "\n",
      "Head: ORCHIES\n",
      "Gold: Q389524\n",
      "Prediction: NIL\n",
      "Skyline: False\n",
      "{}\n",
      "Accuracy 10: False\n",
      "\n",
      "Head: ORLÉANS\n",
      "Gold: Q6548\n",
      "Prediction: NIL\n",
      "Skyline: False\n",
      "{}\n",
      "Accuracy 10: False\n",
      "\n",
      "Head: ORNANS\n",
      "Gold: Q28427657\n",
      "Prediction: NIL\n",
      "Skyline: False\n",
      "{}\n",
      "Accuracy 10: False\n",
      "\n",
      "Head: ORTEZ\n",
      "Gold: Q244248\n",
      "Prediction: NIL\n",
      "Skyline: False\n",
      "{}\n",
      "Accuracy 10: False\n",
      "\n",
      "Head: Oye\n",
      "Gold: Q513962\n",
      "Prediction: Q7116252\n",
      "Skyline: True\n",
      "{'Q7116252': 0.875, 'Q513962': 0.125}\n",
      "Accuracy 10: False\n",
      "\n",
      "Head: PACY\n",
      "Gold: Q28694166\n",
      "Prediction: NIL\n",
      "Skyline: False\n",
      "{}\n",
      "Accuracy 10: False\n",
      "\n",
      "Head: PAFFENHOFFEN\n",
      "Gold: Q21301\n",
      "Prediction: NIL\n",
      "Skyline: False\n",
      "{}\n",
      "Accuracy 10: False\n",
      "\n",
      "Head: PAINBOEUF\n",
      "Gold: Q1165216\n",
      "Prediction: NIL\n",
      "Skyline: False\n",
      "{}\n",
      "Accuracy 10: False\n",
      "\n",
      "Head: Palais\n",
      "Gold: Q128745\n",
      "Prediction: Q2893372\n",
      "Skyline: True\n",
      "{'Q2893372': 0.364, 'Q128745': 0.182, 'Q1885327': 0.182, 'Q7126602': 0.182, 'Q1205254': 0.091}\n",
      "Accuracy 10: False\n",
      "\n",
      "Head: Palais, Saint\n",
      "Gold: Q266826\n",
      "Prediction: NIL\n",
      "Skyline: False\n",
      "{}\n",
      "Accuracy 10: False\n",
      "\n",
      "Head: PALICE, la\n",
      "Gold: Q271962\n",
      "Prediction: NIL\n",
      "Skyline: False\n",
      "{}\n",
      "Accuracy 10: False\n",
      "\n",
      "Head: PAMPELONNE\n",
      "Gold: Q1471628\n",
      "Prediction: NIL\n",
      "Skyline: False\n",
      "{}\n",
      "Accuracy 10: False\n",
      "\n",
      "Head: PARAY-LE-MONIAL\n",
      "Gold: Q654255\n",
      "Prediction: NIL\n",
      "Skyline: False\n",
      "{}\n",
      "Accuracy 10: False\n",
      "\n",
      "Head: PARIS\n",
      "Gold: Q90\n",
      "Prediction: NIL\n",
      "Skyline: False\n",
      "{}\n",
      "Accuracy 10: False\n",
      "\n",
      "Head: PATAY\n",
      "Gold: Q670283\n",
      "Prediction: NIL\n",
      "Skyline: False\n",
      "{}\n",
      "Accuracy 10: False\n",
      "\n",
      "Head: PAU\n",
      "Gold: Q132671\n",
      "Prediction: Q2092629\n",
      "Skyline: False\n",
      "{'Q2092629': 1.0}\n",
      "Accuracy 10: False\n",
      "\n",
      "Head: Paul trois chateaux, saint\n",
      "Gold: Q243883\n",
      "Prediction: NIL\n",
      "Skyline: False\n",
      "{}\n",
      "Accuracy 10: False\n",
      "\n",
      "Head: PAULIAGUET\n",
      "Gold: Q270768\n",
      "Prediction: NIL\n",
      "Skyline: False\n",
      "{}\n",
      "Accuracy 10: False\n",
      "\n",
      "Head: PENAUTIER\n",
      "Gold: Q1083982\n",
      "Prediction: NIL\n",
      "Skyline: False\n",
      "{}\n",
      "Accuracy 10: False\n",
      "\n",
      "Head: PÈNE ou PENNE\n",
      "Gold: Q1598326\n",
      "Prediction: NIL\n",
      "Skyline: False\n",
      "{}\n",
      "Accuracy 10: False\n",
      "\n",
      "Head: PEQUIGNY\n",
      "Gold: Q587061\n",
      "Prediction: NIL\n",
      "Skyline: False\n",
      "{}\n",
      "Accuracy 10: False\n",
      "\n",
      "Head: Perne\n",
      "Gold: Q472574\n",
      "Prediction: NIL\n",
      "Skyline: False\n",
      "{}\n",
      "Accuracy 10: False\n",
      "\n",
      "Head: Pernes\n",
      "Gold: Q469677\n",
      "Prediction: Q469677\n",
      "Skyline: True\n",
      "{'Q469677': 0.774, 'Q472574': 0.129, 'Q469111': 0.065, 'Q1023003': 0.032}\n",
      "Accuracy 10: True\n",
      "\n",
      "Head: PERONNE\n",
      "Gold: Q217768\n",
      "Prediction: NIL\n",
      "Skyline: False\n",
      "{}\n",
      "Accuracy 10: False\n",
      "\n",
      "Head: Pertuis\n",
      "Gold: Q386778\n",
      "Prediction: Q386778\n",
      "Skyline: True\n",
      "{'Q386778': 1.0}\n",
      "Accuracy 10: True\n",
      "\n",
      "Head: PESENAS\n",
      "Gold: Q633811\n",
      "Prediction: NIL\n",
      "Skyline: False\n",
      "{}\n",
      "Accuracy 10: False\n",
      "\n",
      "Head: PHALTZBOURG\n",
      "Gold: Q22160\n",
      "Prediction: NIL\n",
      "Skyline: False\n",
      "{}\n",
      "Accuracy 10: False\n",
      "\n",
      "Head: PHILIPPEVILLE\n",
      "Gold: Q650239\n",
      "Prediction: NIL\n",
      "Skyline: False\n",
      "{}\n",
      "Accuracy 10: False\n",
      "\n",
      "Head: Pierre le moustier, saint\n",
      "Gold: Q37176\n",
      "Prediction: NIL\n",
      "Skyline: False\n",
      "{}\n",
      "Accuracy 10: False\n",
      "\n",
      "Head: PINEY ou PIGNEY\n",
      "Gold: Q550269\n",
      "Prediction: NIL\n",
      "Skyline: False\n",
      "{}\n",
      "Accuracy 10: False\n",
      "\n",
      "Head: PLOERMEL\n",
      "Gold: Q127775\n",
      "Prediction: NIL\n",
      "Skyline: False\n",
      "{}\n",
      "Accuracy 10: False\n",
      "\n",
      "Head: Plume, la\n",
      "Gold: Q1110063\n",
      "Prediction: NIL\n",
      "Skyline: False\n",
      "{}\n",
      "Accuracy 10: False\n",
      "\n",
      "Head: Pluviers\n",
      "Gold: Q217159\n",
      "Prediction: NIL\n",
      "Skyline: False\n",
      "{}\n",
      "Accuracy 10: False\n",
      "\n",
      "Head: POISSY\n",
      "Gold: Q457\n",
      "Prediction: NIL\n",
      "Skyline: False\n",
      "{}\n",
      "Accuracy 10: False\n",
      "\n",
      "Head: POITIERS\n",
      "Gold: Q6616\n",
      "Prediction: NIL\n",
      "Skyline: False\n",
      "{}\n",
      "Accuracy 10: False\n",
      "\n",
      "Head: POLIGNY\n",
      "Gold: Q544212\n",
      "Prediction: NIL\n",
      "Skyline: False\n",
      "{}\n",
      "Accuracy 10: False\n",
      "\n",
      "Head: PONS\n",
      "Gold: Q741626\n",
      "Prediction: NIL\n",
      "Skyline: False\n",
      "{}\n",
      "Accuracy 10: False\n",
      "\n",
      "Head: PONS-DE-TOMIERES, saint\n",
      "Gold: Q622417\n",
      "Prediction: NIL\n",
      "Skyline: False\n",
      "{}\n",
      "Accuracy 10: False\n",
      "\n",
      "Head: PONTAC\n",
      "Gold: Q380481\n",
      "Prediction: NIL\n",
      "Skyline: False\n",
      "{}\n",
      "Accuracy 10: False\n",
      "\n",
      "Head: PONTARLIER\n",
      "Gold: Q214540\n",
      "Prediction: NIL\n",
      "Skyline: False\n",
      "{}\n",
      "Accuracy 10: False\n",
      "\n",
      "Head: PONT-AUDEMER\n",
      "Gold: Q47067820\n",
      "Prediction: NIL\n",
      "Skyline: False\n",
      "{}\n",
      "Accuracy 10: False\n",
      "\n",
      "Head: PONT-BEAUVOISIN\n",
      "Gold: Q1072118\n",
      "Prediction: NIL\n",
      "Skyline: False\n",
      "{}\n",
      "Accuracy 10: False\n",
      "\n",
      "Head: PONT-DE-ROYAN\n",
      "Gold: Q631960\n",
      "Prediction: NIL\n",
      "Skyline: False\n",
      "{}\n",
      "Accuracy 10: False\n",
      "\n",
      "Head: PONT-DE-SÉ\n",
      "Gold: Q752975\n",
      "Prediction: NIL\n",
      "Skyline: False\n",
      "{}\n",
      "Accuracy 10: False\n",
      "\n",
      "Head: PONT-DE-VAUX\n",
      "Gold: Q840893\n",
      "Prediction: NIL\n",
      "Skyline: False\n",
      "{}\n",
      "Accuracy 10: False\n",
      "\n",
      "Head: PONT-DE-VESLE\n",
      "Gold: Q769579\n",
      "Prediction: NIL\n",
      "Skyline: False\n",
      "{}\n",
      "Accuracy 10: False\n",
      "\n",
      "Head: PONT-DU-CHATEL\n",
      "Gold: Q375535\n",
      "Prediction: NIL\n",
      "Skyline: False\n",
      "{}\n",
      "Accuracy 10: False\n",
      "\n",
      "Head: PONTIGNY\n",
      "Gold: Q828619\n",
      "Prediction: NIL\n",
      "Skyline: False\n",
      "{}\n",
      "Accuracy 10: False\n",
      "\n",
      "Head: PONTIVY\n",
      "Gold: Q55905\n",
      "Prediction: NIL\n",
      "Skyline: False\n",
      "{}\n",
      "Accuracy 10: False\n",
      "\n",
      "Head: PONT-ORSON\n",
      "Gold: Q28464310\n",
      "Prediction: NIL\n",
      "Skyline: False\n",
      "{}\n",
      "Accuracy 10: False\n",
      "\n",
      "Head: PONT-SAINTE-MAIXENCE\n",
      "Gold: Q1336775\n",
      "Prediction: NIL\n",
      "Skyline: False\n",
      "{}\n",
      "Accuracy 10: False\n",
      "\n",
      "Head: PONT\n",
      "Gold: Q243074\n",
      "Prediction: NIL\n",
      "Skyline: False\n",
      "{}\n",
      "Accuracy 10: False\n",
      "\n",
      "Head: PONT-SUR-YONNE\n",
      "Gold: Q752938\n",
      "Prediction: NIL\n",
      "Skyline: False\n",
      "{}\n",
      "Accuracy 10: False\n",
      "\n",
      "Head: Port-sur-Saone\n",
      "Gold: Q831303\n",
      "Prediction: NIL\n",
      "Skyline: False\n",
      "{}\n",
      "Accuracy 10: False\n",
      "\n",
      "Head: POURÇAIN, saint\n",
      "Gold: Q321486\n",
      "Prediction: NIL\n",
      "Skyline: False\n",
      "{}\n",
      "Accuracy 10: False\n",
      "\n",
      "Head: PRADELLES\n",
      "Gold: Q638239\n",
      "Prediction: NIL\n",
      "Skyline: False\n",
      "{}\n",
      "Accuracy 10: False\n",
      "\n",
      "Head: PRADES\n",
      "Gold: Q212450\n",
      "Prediction: NIL\n",
      "Skyline: False\n",
      "{}\n",
      "Accuracy 10: False\n",
      "\n",
      "Head: PREMERY\n",
      "Gold: Q41711\n",
      "Prediction: NIL\n",
      "Skyline: False\n",
      "{}\n",
      "Accuracy 10: False\n",
      "\n",
      "Head: PRESSIGNI\n",
      "Gold: Q631435\n",
      "Prediction: NIL\n",
      "Skyline: False\n",
      "{}\n",
      "Accuracy 10: False\n",
      "\n",
      "Head: PREUILLY\n",
      "Gold: Q680407\n",
      "Prediction: NIL\n",
      "Skyline: False\n",
      "{}\n",
      "Accuracy 10: False\n",
      "\n",
      "Head: PRIVAS\n",
      "Gold: Q193060\n",
      "Prediction: NIL\n",
      "Skyline: False\n",
      "{}\n",
      "Accuracy 10: False\n",
      "\n",
      "Head: Provins\n",
      "Gold: Q203285\n",
      "Prediction: Q203285\n",
      "Skyline: True\n",
      "{'Q203285': 0.984, 'Q258745': 0.016}\n",
      "Accuracy 10: True\n",
      "\n",
      "Head: PUICELSY\n",
      "Gold: Q1390535\n",
      "Prediction: NIL\n",
      "Skyline: False\n",
      "{}\n",
      "Accuracy 10: False\n",
      "\n",
      "Head: PUISEAUX\n",
      "Gold: Q846273\n",
      "Prediction: NIL\n",
      "Skyline: False\n",
      "{}\n",
      "Accuracy 10: False\n",
      "\n",
      "Head: PUY, le\n",
      "Gold: Q184359\n",
      "Prediction: NIL\n",
      "Skyline: False\n",
      "{}\n",
      "Accuracy 10: False\n",
      "\n",
      "Head: PUY-LAURENS\n",
      "Gold: Q683154\n",
      "Prediction: NIL\n",
      "Skyline: False\n",
      "{}\n",
      "Accuracy 10: False\n",
      "\n",
      "Head: PUY-L'EVÊQUE\n",
      "Gold: Q135478\n",
      "Prediction: NIL\n",
      "Skyline: False\n",
      "{}\n",
      "Accuracy 10: False\n",
      "\n",
      "Head: PUY-NOTRE-DAME, ou PUY-EN-ANJOU\n",
      "Gold: Q829808\n",
      "Prediction: NIL\n",
      "Skyline: False\n",
      "{}\n",
      "Accuracy 10: False\n",
      "\n",
      "Head: QUENTIN saint\n",
      "Gold: Q182744\n",
      "Prediction: NIL\n",
      "Skyline: False\n",
      "{}\n",
      "Accuracy 10: False\n",
      "\n",
      "Head: QUILLAN\n",
      "Gold: Q376792\n",
      "Prediction: NIL\n",
      "Skyline: False\n",
      "{}\n",
      "Accuracy 10: False\n",
      "\n",
      "Head: QUINGÉ ou QUINGEY\n",
      "Gold: Q660355\n",
      "Prediction: NIL\n",
      "Skyline: False\n",
      "{}\n",
      "Accuracy 10: False\n",
      "\n",
      "Head: QUINTIN\n",
      "Gold: Q207853\n",
      "Prediction: NIL\n",
      "Skyline: False\n",
      "{}\n",
      "Accuracy 10: False\n",
      "\n",
      "Head: QUIRIEU\n",
      "Gold: Q948728\n",
      "Prediction: NIL\n",
      "Skyline: False\n",
      "{}\n",
      "Accuracy 10: False\n",
      "\n",
      "Head: RAMBERT, saint\n",
      "Gold: Q1106343\n",
      "Prediction: NIL\n",
      "Skyline: False\n",
      "{}\n",
      "Accuracy 10: False\n",
      "\n",
      "Head: Rambert-le-joux\n",
      "Gold: Q589126\n",
      "Prediction: NIL\n",
      "Skyline: False\n",
      "{}\n",
      "Accuracy 10: False\n",
      "\n",
      "Head: RAMBOUILLET\n",
      "Gold: Q191119\n",
      "Prediction: NIL\n",
      "Skyline: False\n",
      "{}\n",
      "Accuracy 10: False\n",
      "\n",
      "Head: RANDAN\n",
      "Gold: Q816275\n",
      "Prediction: NIL\n",
      "Skyline: False\n",
      "{}\n",
      "Accuracy 10: False\n",
      "\n",
      "Head: RÉALMONT\n",
      "Gold: Q1356682\n",
      "Prediction: NIL\n",
      "Skyline: False\n",
      "{}\n",
      "Accuracy 10: False\n",
      "\n",
      "Head: RÉALVILLE\n",
      "Gold: Q595666\n",
      "Prediction: NIL\n",
      "Skyline: False\n",
      "{}\n",
      "Accuracy 10: False\n",
      "\n",
      "Head: REDON\n",
      "Gold: Q206837\n",
      "Prediction: NIL\n",
      "Skyline: False\n",
      "{}\n",
      "Accuracy 10: False\n",
      "\n",
      "Head: REICHENVEYLER\n",
      "Gold: Q148959\n",
      "Prediction: NIL\n",
      "Skyline: False\n",
      "{}\n",
      "Accuracy 10: False\n",
      "\n",
      "Head: REILANE\n",
      "Gold: Q1002092\n",
      "Prediction: NIL\n",
      "Skyline: False\n",
      "{}\n",
      "Accuracy 10: False\n",
      "\n",
      "Head: REMBERVILLE\n",
      "Gold: Q471685\n",
      "Prediction: NIL\n",
      "Skyline: False\n",
      "{}\n",
      "Accuracy 10: False\n",
      "\n",
      "Head: REMY, Saint\n",
      "Gold: Q221507\n",
      "Prediction: NIL\n",
      "Skyline: False\n",
      "{}\n",
      "Accuracy 10: False\n",
      "\n",
      "Head: RENAISON\n",
      "Gold: Q642333\n",
      "Prediction: NIL\n",
      "Skyline: False\n",
      "{}\n",
      "Accuracy 10: False\n",
      "\n",
      "Head: RENTI ou RENTY\n",
      "Gold: Q245184\n",
      "Prediction: NIL\n",
      "Skyline: False\n",
      "{}\n",
      "Accuracy 10: False\n",
      "\n",
      "Head: RÉOLE, la\n",
      "Gold: Q263456\n",
      "Prediction: NIL\n",
      "Skyline: False\n",
      "{}\n",
      "Accuracy 10: False\n",
      "\n",
      "Head: RETHEL\n",
      "Gold: Q209790\n",
      "Prediction: NIL\n",
      "Skyline: False\n",
      "{}\n",
      "Accuracy 10: False\n",
      "\n",
      "Head: Revel\n",
      "Gold: Q496066\n",
      "Prediction: Q496066\n",
      "Skyline: True\n",
      "{'Q496066': 0.39, 'Q1770': 0.288, 'Q1068995': 0.169, 'Q7317792': 0.144, 'Q1018637': 0.008}\n",
      "Accuracy 10: True\n",
      "\n",
      "Head: REUILLY\n",
      "Gold: Q1137201\n",
      "Prediction: NIL\n",
      "Skyline: False\n",
      "{}\n",
      "Accuracy 10: False\n",
      "\n",
      "Head: REVIN\n",
      "Gold: Q458741\n",
      "Prediction: NIL\n",
      "Skyline: False\n",
      "{}\n",
      "Accuracy 10: False\n",
      "\n",
      "Head: RHEIMS ou REIMS\n",
      "Gold: Q41876\n",
      "Prediction: NIL\n",
      "Skyline: False\n",
      "{}\n",
      "Accuracy 10: False\n",
      "\n",
      "Head: RIBEMONT ou RIBLEMONT\n",
      "Gold: Q326373\n",
      "Prediction: NIL\n",
      "Skyline: False\n",
      "{}\n",
      "Accuracy 10: False\n",
      "\n",
      "Head: RICHELIEU\n",
      "Gold: Q659955\n",
      "Prediction: NIL\n",
      "Skyline: False\n",
      "{}\n",
      "Accuracy 10: False\n",
      "\n",
      "Head: RIEUME\n",
      "Gold: Q1072269\n",
      "Prediction: NIL\n",
      "Skyline: False\n",
      "{}\n",
      "Accuracy 10: False\n",
      "\n",
      "Head: RIEZ\n",
      "Gold: Q457002\n",
      "Prediction: NIL\n",
      "Skyline: False\n",
      "{}\n",
      "Accuracy 10: False\n",
      "\n",
      "Head: ROCHE-D'ERRIEN, la\n",
      "Gold: Q383210\n",
      "Prediction: NIL\n",
      "Skyline: False\n",
      "{}\n",
      "Accuracy 10: False\n",
      "\n",
      "Head: ROCHE-FOUCAUD, la\n",
      "Gold: Q693992\n",
      "Prediction: NIL\n",
      "Skyline: False\n",
      "{}\n",
      "Accuracy 10: False\n",
      "\n",
      "Head: ROCHE-GUYON, la\n",
      "Gold: Q837592\n",
      "Prediction: NIL\n",
      "Skyline: False\n",
      "{}\n",
      "Accuracy 10: False\n",
      "\n",
      "Head: ROCHELLE, la\n",
      "Gold: Q82185\n",
      "Prediction: NIL\n",
      "Skyline: False\n",
      "{}\n",
      "Accuracy 10: False\n",
      "\n",
      "Head: ROCHE-POSAY\n",
      "Gold: Q391305\n",
      "Prediction: NIL\n",
      "Skyline: False\n",
      "{}\n",
      "Accuracy 10: False\n",
      "\n",
      "Head: ROCHE-SUR-YON\n",
      "Gold: Q190118\n",
      "Prediction: NIL\n",
      "Skyline: False\n",
      "{}\n",
      "Accuracy 10: False\n",
      "\n",
      "Head: ROCROY\n",
      "Gold: Q273702\n",
      "Prediction: NIL\n",
      "Skyline: False\n",
      "{}\n",
      "Accuracy 10: False\n",
      "\n",
      "Head: RODEZ\n",
      "Gold: Q188780\n",
      "Prediction: NIL\n",
      "Skyline: False\n",
      "{}\n",
      "Accuracy 10: False\n",
      "\n",
      "Head: Rogne\n",
      "Gold: Q640876\n",
      "Prediction: Q12718032\n",
      "Skyline: False\n",
      "{'Q12718032': 1.0}\n",
      "Accuracy 10: False\n",
      "\n",
      "Head: ROHAN\n",
      "Gold: Q49364013\n",
      "Prediction: NIL\n",
      "Skyline: False\n",
      "{}\n",
      "Accuracy 10: False\n",
      "\n",
      "Head: ROMANS\n",
      "Gold: Q239078\n",
      "Prediction: NIL\n",
      "Skyline: False\n",
      "{}\n",
      "Accuracy 10: False\n",
      "\n",
      "Head: ROMORANTIN\n",
      "Gold: Q21096013\n",
      "Prediction: NIL\n",
      "Skyline: False\n",
      "{}\n",
      "Accuracy 10: False\n",
      "\n",
      "Head: ROQUEFORT de Marsan\n",
      "Gold: Q474852\n",
      "Prediction: NIL\n",
      "Skyline: False\n",
      "{}\n",
      "Accuracy 10: False\n",
      "\n",
      "Head: Roquelaure\n",
      "Gold: Q541996\n",
      "Prediction: Q541996\n",
      "Skyline: True\n",
      "{'Q541996': 1.0}\n",
      "Accuracy 10: True\n",
      "\n",
      "Head: ROQUEMADOUR\n",
      "Gold: Q382628\n",
      "Prediction: NIL\n",
      "Skyline: False\n",
      "{}\n",
      "Accuracy 10: False\n",
      "\n",
      "Head: ROQUEMAURE\n",
      "Gold: Q322376\n",
      "Prediction: NIL\n",
      "Skyline: False\n",
      "{}\n",
      "Accuracy 10: False\n",
      "\n",
      "Head: ROQUEVAIRE\n",
      "Gold: Q640919\n",
      "Prediction: NIL\n",
      "Skyline: False\n",
      "{}\n",
      "Accuracy 10: False\n",
      "\n",
      "Head: ROSAY, ou Rosoy\n",
      "Gold: Q1456273\n",
      "Prediction: NIL\n",
      "Skyline: False\n",
      "{}\n",
      "Accuracy 10: False\n",
      "\n",
      "Head: ROSHEIM\n",
      "Gold: Q22990\n",
      "Prediction: NIL\n",
      "Skyline: False\n",
      "{}\n",
      "Accuracy 10: False\n",
      "\n",
      "Head: ROSNY\n",
      "Gold: Q1461290\n",
      "Prediction: NIL\n",
      "Skyline: False\n",
      "{}\n",
      "Accuracy 10: False\n",
      "\n",
      "Head: ROSPERDEN\n",
      "Gold: Q328771\n",
      "Prediction: NIL\n",
      "Skyline: False\n",
      "{}\n",
      "Accuracy 10: False\n",
      "\n",
      "Head: ROUCY\n",
      "Gold: Q379174\n",
      "Prediction: NIL\n",
      "Skyline: False\n",
      "{}\n",
      "Accuracy 10: False\n",
      "\n",
      "Head: ROUEN\n",
      "Gold: Q30974\n",
      "Prediction: NIL\n",
      "Skyline: False\n",
      "{}\n",
      "Accuracy 10: False\n",
      "\n",
      "Head: ROUGEMONT\n",
      "Gold: Q725729\n",
      "Prediction: NIL\n",
      "Skyline: False\n",
      "{}\n",
      "Accuracy 10: False\n",
      "\n",
      "Head: RUFFAC\n",
      "Gold: Q149087\n",
      "Prediction: NIL\n",
      "Skyline: False\n",
      "{}\n",
      "Accuracy 10: False\n",
      "\n",
      "Head: RUFFEC\n",
      "Gold: Q730659\n",
      "Prediction: NIL\n",
      "Skyline: False\n",
      "{}\n",
      "Accuracy 10: False\n",
      "\n",
      "Head: Sables d'Olonne\n",
      "Gold: Q211923\n",
      "Prediction: Q50810269\n",
      "Skyline: False\n",
      "{'Q50810269': 1.0}\n",
      "Accuracy 10: True\n",
      "\n",
      "Head: Saillans\n",
      "Gold: Q670334\n",
      "Prediction: Q670334\n",
      "Skyline: True\n",
      "{'Q670334': 0.514, 'Q593397': 0.486}\n",
      "Accuracy 10: True\n",
      "\n",
      "Head: Saillies\n",
      "Gold: Q324160\n",
      "Prediction: NIL\n",
      "Skyline: False\n",
      "{}\n",
      "Accuracy 10: False\n",
      "\n",
      "Head: SALERS\n",
      "Gold: Q658602\n",
      "Prediction: NIL\n",
      "Skyline: False\n",
      "{}\n",
      "Accuracy 10: False\n",
      "\n",
      "Head: SALIGNAC\n",
      "Gold: Q474604\n",
      "Prediction: NIL\n",
      "Skyline: False\n",
      "{}\n",
      "Accuracy 10: False\n",
      "\n",
      "Head: SALINS\n",
      "Gold: Q820042\n",
      "Prediction: NIL\n",
      "Skyline: False\n",
      "{}\n",
      "Accuracy 10: False\n",
      "\n",
      "Head: SALON\n",
      "Gold: Q232567\n",
      "Prediction: NIL\n",
      "Skyline: False\n",
      "{}\n",
      "Accuracy 10: False\n",
      "\n",
      "Head: SAMMATHAN\n",
      "Gold: Q182188\n",
      "Prediction: NIL\n",
      "Skyline: False\n",
      "{}\n",
      "Accuracy 10: False\n",
      "\n",
      "Head: SANCERRE\n",
      "Gold: Q459683\n",
      "Prediction: NIL\n",
      "Skyline: False\n",
      "{}\n",
      "Accuracy 10: False\n",
      "\n",
      "Head: SARLAT\n",
      "Gold: Q6381\n",
      "Prediction: NIL\n",
      "Skyline: False\n",
      "{}\n",
      "Accuracy 10: False\n",
      "\n",
      "Head: SAVERDUN\n",
      "Gold: Q693973\n",
      "Prediction: NIL\n",
      "Skyline: False\n",
      "{}\n",
      "Accuracy 10: False\n",
      "\n",
      "Head: SAUGUES\n",
      "Gold: Q752540\n",
      "Prediction: NIL\n",
      "Skyline: False\n",
      "{}\n",
      "Accuracy 10: False\n",
      "\n",
      "Head: SAULGE Saint\n",
      "Gold: Q34220\n",
      "Prediction: NIL\n",
      "Skyline: False\n",
      "{}\n",
      "Accuracy 10: False\n",
      "\n",
      "Head: SAUMUR\n",
      "Gold: Q193821\n",
      "Prediction: NIL\n",
      "Skyline: False\n",
      "{}\n",
      "Accuracy 10: False\n",
      "\n",
      "Head: SAUVES\n",
      "Gold: Q477766\n",
      "Prediction: NIL\n",
      "Skyline: False\n",
      "{}\n",
      "Accuracy 10: False\n",
      "\n",
      "Head: SAUVETERRE\n",
      "Gold: Q195656\n",
      "Prediction: NIL\n",
      "Skyline: False\n",
      "{}\n",
      "Accuracy 10: False\n",
      "\n",
      "Head: SAUVEUR LE VICOMTE, saint\n",
      "Gold: Q668199\n",
      "Prediction: NIL\n",
      "Skyline: False\n",
      "{}\n",
      "Accuracy 10: False\n",
      "\n",
      "Head: SEAUX\n",
      "Gold: Q370498\n",
      "Prediction: NIL\n",
      "Skyline: False\n",
      "{}\n",
      "Accuracy 10: False\n",
      "\n",
      "Head: SEDAN\n",
      "Gold: Q184371\n",
      "Prediction: NIL\n",
      "Skyline: False\n",
      "{}\n",
      "Accuracy 10: False\n",
      "\n",
      "Head: SÉGRÉ\n",
      "Gold: Q549330\n",
      "Prediction: NIL\n",
      "Skyline: False\n",
      "{}\n",
      "Accuracy 10: False\n",
      "\n",
      "Head: SÉLELERRE\n",
      "Gold: Q1135624\n",
      "Prediction: NIL\n",
      "Skyline: False\n",
      "{}\n",
      "Accuracy 10: False\n",
      "\n",
      "Head: SELLES ou CELLES\n",
      "Gold: Q832386\n",
      "Prediction: NIL\n",
      "Skyline: False\n",
      "{}\n",
      "Accuracy 10: False\n",
      "\n",
      "Head: Sémur en Briennois\n",
      "Gold: Q898905\n",
      "Prediction: NIL\n",
      "Skyline: False\n",
      "{}\n",
      "Accuracy 10: False\n",
      "\n",
      "Head: SÉRIGNAN\n",
      "Gold: Q751619\n",
      "Prediction: NIL\n",
      "Skyline: False\n",
      "{}\n",
      "Accuracy 10: False\n",
      "\n",
      "Head: Séve\n",
      "Gold: Q206493\n",
      "Prediction: NIL\n",
      "Skyline: False\n",
      "{}\n",
      "Accuracy 10: False\n",
      "\n",
      "Head: SEVERAC le chatel\n",
      "Gold: Q753077\n",
      "Prediction: NIL\n",
      "Skyline: False\n",
      "{}\n",
      "Accuracy 10: False\n",
      "\n",
      "Head: SEURE ou SEURRE\n",
      "Gold: Q16896\n",
      "Prediction: NIL\n",
      "Skyline: False\n",
      "{}\n",
      "Accuracy 10: False\n",
      "\n",
      "Head: SEYSSEL\n",
      "Gold: Q243097\n",
      "Prediction: NIL\n",
      "Skyline: False\n",
      "{}\n",
      "Accuracy 10: False\n",
      "\n",
      "Head: SÉSANNE\n",
      "Gold: Q839650\n",
      "Prediction: NIL\n",
      "Skyline: False\n",
      "{}\n",
      "Accuracy 10: False\n",
      "\n",
      "Head: SISTERON ou CISTERON\n",
      "Gold: Q271085\n",
      "Prediction: NIL\n",
      "Skyline: False\n",
      "{}\n",
      "Accuracy 10: False\n",
      "\n",
      "Head: SIVRAY, ou CIVRAY\n",
      "Gold: Q748393\n",
      "Prediction: NIL\n",
      "Skyline: False\n",
      "{}\n",
      "Accuracy 10: False\n",
      "\n",
      "Head: SOISSONS\n",
      "Gold: Q167152\n",
      "Prediction: NIL\n",
      "Skyline: False\n",
      "{}\n",
      "Accuracy 10: False\n",
      "\n",
      "Head: SOLEME\n",
      "Gold: Q1224596\n",
      "Prediction: NIL\n",
      "Skyline: False\n",
      "{}\n",
      "Accuracy 10: False\n",
      "\n",
      "Head: SOLIGNAC\n",
      "Gold: Q752984\n",
      "Prediction: NIL\n",
      "Skyline: False\n",
      "{}\n",
      "Accuracy 10: False\n",
      "\n",
      "Head: SORGUE\n",
      "Gold: Q538880\n",
      "Prediction: NIL\n",
      "Skyline: False\n",
      "{}\n",
      "Accuracy 10: False\n",
      "\n",
      "Head: SOS\n",
      "Gold: Q220860\n",
      "Prediction: NIL\n",
      "Skyline: False\n",
      "{}\n",
      "Accuracy 10: False\n",
      "\n",
      "Head: SOUBISE\n",
      "Gold: Q816315\n",
      "Prediction: NIL\n",
      "Skyline: False\n",
      "{}\n",
      "Accuracy 10: False\n",
      "\n",
      "Head: SOUILLAC ou SOULIAC\n",
      "Gold: Q726680\n",
      "Prediction: NIL\n",
      "Skyline: False\n",
      "{}\n",
      "Accuracy 10: False\n",
      "\n",
      "Head: SOULIERS\n",
      "Gold: Q816098\n",
      "Prediction: NIL\n",
      "Skyline: False\n",
      "{}\n",
      "Accuracy 10: False\n",
      "\n",
      "Head: SOUPROSE\n",
      "Gold: Q644897\n",
      "Prediction: NIL\n",
      "Skyline: False\n",
      "{}\n",
      "Accuracy 10: False\n",
      "\n",
      "Head: SOUTERAINE, la\n",
      "Gold: Q193349\n",
      "Prediction: NIL\n",
      "Skyline: False\n",
      "{}\n",
      "Accuracy 10: False\n",
      "\n",
      "Head: SULLY, ou Sully sur Loire\n",
      "Gold: Q504924\n",
      "Prediction: NIL\n",
      "Skyline: False\n",
      "{}\n",
      "Accuracy 10: False\n",
      "\n",
      "Head: SULPICE Saint ou S. Sulpice de Lézadois\n",
      "Gold: Q1432792\n",
      "Prediction: NIL\n",
      "Skyline: False\n",
      "{}\n",
      "Accuracy 10: False\n",
      "\n",
      "Head: SUZANNE sainte\n",
      "Gold: Q840520\n",
      "Prediction: NIL\n",
      "Skyline: False\n",
      "{}\n",
      "Accuracy 10: False\n",
      "\n",
      "Head: TALLARD\n",
      "Gold: Q840061\n",
      "Prediction: NIL\n",
      "Skyline: False\n",
      "{}\n",
      "Accuracy 10: False\n",
      "\n",
      "Head: TARBES, ou TARBE\n",
      "Gold: Q184023\n",
      "Prediction: NIL\n",
      "Skyline: False\n",
      "{}\n",
      "Accuracy 10: False\n",
      "\n",
      "Head: TARTAS\n",
      "Gold: Q1427129\n",
      "Prediction: NIL\n",
      "Skyline: False\n",
      "{}\n",
      "Accuracy 10: False\n",
      "\n",
      "Head: TERASSON\n",
      "Gold: Q627200\n",
      "Prediction: NIL\n",
      "Skyline: False\n",
      "{}\n",
      "Accuracy 10: False\n",
      "\n",
      "Head: THANN\n",
      "Gold: Q207570\n",
      "Prediction: NIL\n",
      "Skyline: False\n",
      "{}\n",
      "Accuracy 10: False\n",
      "\n",
      "Head: TIFAUGES\n",
      "Gold: Q815886\n",
      "Prediction: NIL\n",
      "Skyline: False\n",
      "{}\n",
      "Accuracy 10: False\n",
      "\n",
      "Head: TINCHEBRAY\n",
      "Gold: Q1115228\n",
      "Prediction: NIL\n",
      "Skyline: False\n",
      "{}\n",
      "Accuracy 10: False\n",
      "\n",
      "Head: TONNAY-BOUTONNE\n",
      "Gold: Q666557\n",
      "Prediction: NIL\n",
      "Skyline: False\n",
      "{}\n",
      "Accuracy 10: False\n",
      "\n",
      "Head: TONNEINS\n",
      "Gold: Q1070001\n",
      "Prediction: NIL\n",
      "Skyline: False\n",
      "{}\n",
      "Accuracy 10: False\n",
      "\n",
      "Head: TORIGNI\n",
      "Gold: Q282706\n",
      "Prediction: NIL\n",
      "Skyline: False\n",
      "{}\n",
      "Accuracy 10: False\n",
      "\n",
      "Head: Toucy\n",
      "Gold: Q837929\n",
      "Prediction: Q837929\n",
      "Skyline: True\n",
      "{'Q837929': 1.0}\n",
      "Accuracy 10: True\n",
      "\n",
      "Head: TOULON\n",
      "Gold: Q44160\n",
      "Prediction: NIL\n",
      "Skyline: False\n",
      "{}\n",
      "Accuracy 10: False\n",
      "\n",
      "Head: TOULOUSE\n",
      "Gold: Q7880\n",
      "Prediction: NIL\n",
      "Skyline: False\n",
      "{}\n",
      "Accuracy 10: False\n",
      "\n",
      "Head: TOURNUS\n",
      "Gold: Q501900\n",
      "Prediction: NIL\n",
      "Skyline: False\n",
      "{}\n",
      "Accuracy 10: False\n",
      "\n",
      "Head: TOURS\n",
      "Gold: Q288\n",
      "Prediction: NIL\n",
      "Skyline: False\n",
      "{}\n",
      "Accuracy 10: False\n",
      "\n",
      "Head: TREFFORT\n",
      "Gold: Q733076\n",
      "Prediction: NIL\n",
      "Skyline: False\n",
      "{}\n",
      "Accuracy 10: False\n",
      "\n",
      "Head: TREIGNAC\n",
      "Gold: Q194853\n",
      "Prediction: NIL\n",
      "Skyline: False\n",
      "{}\n",
      "Accuracy 10: False\n",
      "\n",
      "Head: TREMOUILLE, la\n",
      "Gold: Q833808\n",
      "Prediction: NIL\n",
      "Skyline: False\n",
      "{}\n",
      "Accuracy 10: False\n",
      "\n",
      "Head: Treves\n",
      "Gold: Q675749\n",
      "Prediction: Q3138\n",
      "Skyline: False\n",
      "{'Q3138': 0.946, 'Q244477': 0.054}\n",
      "Accuracy 10: False\n",
      "\n",
      "Head: TRÉVOUX\n",
      "Gold: Q244565\n",
      "Prediction: NIL\n",
      "Skyline: False\n",
      "{}\n",
      "Accuracy 10: False\n",
      "\n",
      "Head: TROPÈS, saint\n",
      "Gold: Q1813\n",
      "Prediction: NIL\n",
      "Skyline: False\n",
      "{}\n",
      "Accuracy 10: False\n",
      "\n",
      "Head: TROYES\n",
      "Gold: Q5489\n",
      "Prediction: NIL\n",
      "Skyline: False\n",
      "{}\n",
      "Accuracy 10: False\n",
      "\n",
      "Head: TURCKHEIM\n",
      "Gold: Q157729\n",
      "Prediction: NIL\n",
      "Skyline: False\n",
      "{}\n",
      "Accuracy 10: False\n",
      "\n",
      "Head: TURENNE\n",
      "Gold: Q194569\n",
      "Prediction: NIL\n",
      "Skyline: False\n",
      "{}\n",
      "Accuracy 10: False\n",
      "\n",
      "Head: VAISON\n",
      "Gold: Q504887\n",
      "Prediction: NIL\n",
      "Skyline: False\n",
      "{}\n",
      "Accuracy 10: False\n",
      "\n",
      "Head: Valence\n",
      "Gold: Q8848\n",
      "Prediction: Q8848\n",
      "Skyline: True\n",
      "{'Q8848': 0.876, 'Q1467944': 0.053, 'Q1361868': 0.046, 'Q702697': 0.007, 'Q2052261': 0.005, 'Q3097931': 0.005, 'Q8818': 0.002}\n",
      "Accuracy 10: True\n",
      "\n",
      "Head: Valence\n",
      "Gold: Q1467944\n",
      "Prediction: Q8848\n",
      "Skyline: True\n",
      "{'Q8848': 0.876, 'Q1467944': 0.053, 'Q1361868': 0.046, 'Q702697': 0.007, 'Q2052261': 0.005, 'Q3097931': 0.005, 'Q8818': 0.002}\n",
      "Accuracy 10: False\n",
      "\n",
      "Head: Valence\n",
      "Gold: Q495485\n",
      "Prediction: Q8848\n",
      "Skyline: False\n",
      "{'Q8848': 0.876, 'Q1467944': 0.053, 'Q1361868': 0.046, 'Q702697': 0.007, 'Q2052261': 0.005, 'Q3097931': 0.005, 'Q8818': 0.002}\n",
      "Accuracy 10: False\n",
      "\n",
      "Head: Valence\n",
      "Gold: Q1467992\n",
      "Prediction: Q8848\n",
      "Skyline: False\n",
      "{'Q8848': 0.876, 'Q1467944': 0.053, 'Q1361868': 0.046, 'Q702697': 0.007, 'Q2052261': 0.005, 'Q3097931': 0.005, 'Q8818': 0.002}\n",
      "Accuracy 10: False\n",
      "\n",
      "Head: VALENCÉ ou VALENCEY\n",
      "Gold: Q474503\n",
      "Prediction: NIL\n",
      "Skyline: False\n",
      "{}\n",
      "Accuracy 10: False\n",
      "\n",
      "Head: VALENCIENNES\n",
      "Gold: Q163795\n",
      "Prediction: Q18385362\n",
      "Skyline: False\n",
      "{'Q18385362': 1.0}\n",
      "Accuracy 10: True\n",
      "\n",
      "Head: VALENTINE\n",
      "Gold: Q1429971\n",
      "Prediction: NIL\n",
      "Skyline: False\n",
      "{}\n",
      "Accuracy 10: False\n",
      "\n",
      "Head: VALERY, Saint\n",
      "Gold: Q473842\n",
      "Prediction: NIL\n",
      "Skyline: False\n",
      "{}\n",
      "Accuracy 10: False\n",
      "\n",
      "Head: Valery en Caux, Saint\n",
      "Gold: Q829711\n",
      "Prediction: NIL\n",
      "Skyline: False\n",
      "{}\n",
      "Accuracy 10: False\n",
      "\n",
      "Head: VALRÉAS\n",
      "Gold: Q478921\n",
      "Prediction: NIL\n",
      "Skyline: False\n",
      "{}\n",
      "Accuracy 10: False\n",
      "\n",
      "Head: VAND OEUVRE\n",
      "Gold: Q828682\n",
      "Prediction: NIL\n",
      "Skyline: False\n",
      "{}\n",
      "Accuracy 10: False\n",
      "\n",
      "Head: VANNES\n",
      "Gold: Q6593\n",
      "Prediction: NIL\n",
      "Skyline: False\n",
      "{}\n",
      "Accuracy 10: False\n",
      "\n",
      "Head: VANS\n",
      "Gold: Q324022\n",
      "Prediction: NIL\n",
      "Skyline: False\n",
      "{}\n",
      "Accuracy 10: False\n",
      "\n",
      "Head: VAREMBON ou VARAMBON\n",
      "Gold: Q325488\n",
      "Prediction: NIL\n",
      "Skyline: False\n",
      "{}\n",
      "Accuracy 10: False\n",
      "\n",
      "Head: VARENNES\n",
      "Gold: Q512351\n",
      "Prediction: NIL\n",
      "Skyline: False\n",
      "{}\n",
      "Accuracy 10: False\n",
      "\n",
      "Head: VATAN\n",
      "Gold: Q472888\n",
      "Prediction: NIL\n",
      "Skyline: False\n",
      "{}\n",
      "Accuracy 10: False\n",
      "\n",
      "Head: VAUCOULEURS\n",
      "Gold: Q59221\n",
      "Prediction: NIL\n",
      "Skyline: False\n",
      "{}\n",
      "Accuracy 10: False\n",
      "\n",
      "Head: VAUVERT\n",
      "Gold: Q268025\n",
      "Prediction: NIL\n",
      "Skyline: False\n",
      "{}\n",
      "Accuracy 10: False\n",
      "\n",
      "Head: VENANT saint\n",
      "Gold: Q1068891\n",
      "Prediction: NIL\n",
      "Skyline: False\n",
      "{}\n",
      "Accuracy 10: False\n",
      "\n",
      "Head: VENDOME\n",
      "Gold: Q214575\n",
      "Prediction: NIL\n",
      "Skyline: False\n",
      "{}\n",
      "Accuracy 10: False\n",
      "\n",
      "Head: VERBERIE\n",
      "Gold: Q815701\n",
      "Prediction: NIL\n",
      "Skyline: False\n",
      "{}\n",
      "Accuracy 10: False\n",
      "\n",
      "Head: Verdun\n",
      "Gold: Q1626652\n",
      "Prediction: Q154748\n",
      "Skyline: False\n",
      "{'Q154748': 0.655, 'Q130847': 0.139, 'Q518076': 0.117, 'Q572883': 0.02, 'Q3555824': 0.017, 'Q1368088': 0.017, 'Q586219': 0.011}\n",
      "Accuracy 10: False\n",
      "\n",
      "Head: VERMANTON ou VERMENTON\n",
      "Gold: Q1422869\n",
      "Prediction: NIL\n",
      "Skyline: False\n",
      "{}\n",
      "Accuracy 10: False\n",
      "\n",
      "Head: VERNEUIL\n",
      "Gold: Q317271\n",
      "Prediction: NIL\n",
      "Skyline: False\n",
      "{}\n",
      "Accuracy 10: False\n",
      "\n",
      "Head: VERNON ou VERNON-SUR-SEINE\n",
      "Gold: Q236736\n",
      "Prediction: NIL\n",
      "Skyline: False\n",
      "{}\n",
      "Accuracy 10: False\n",
      "\n",
      "Head: VERSAILLES\n",
      "Gold: Q621\n",
      "Prediction: NIL\n",
      "Skyline: False\n",
      "{}\n",
      "Accuracy 10: False\n",
      "\n",
      "Head: VERSEIL\n",
      "Gold: Q820244\n",
      "Prediction: NIL\n",
      "Skyline: False\n",
      "{}\n",
      "Accuracy 10: False\n",
      "\n",
      "Head: VERTEUIL\n",
      "Gold: Q836557\n",
      "Prediction: NIL\n",
      "Skyline: False\n",
      "{}\n",
      "Accuracy 10: False\n",
      "\n",
      "Head: Verteuil\n",
      "Gold: Q1104270\n",
      "Prediction: Q836557\n",
      "Skyline: False\n",
      "{'Q836557': 1.0}\n",
      "Accuracy 10: False\n",
      "\n",
      "Head: VERTUS\n",
      "Gold: Q501906\n",
      "Prediction: NIL\n",
      "Skyline: False\n",
      "{}\n",
      "Accuracy 10: False\n",
      "\n",
      "Head: VERVINS\n",
      "Gold: Q209840\n",
      "Prediction: NIL\n",
      "Skyline: False\n",
      "{}\n",
      "Accuracy 10: False\n",
      "\n",
      "Head: VESLY, ou VEILLY\n",
      "Gold: Q589513\n",
      "Prediction: NIL\n",
      "Skyline: False\n",
      "{}\n",
      "Accuracy 10: False\n",
      "\n",
      "Head: VEUDRE\n",
      "Gold: Q849384\n",
      "Prediction: NIL\n",
      "Skyline: False\n",
      "{}\n",
      "Accuracy 10: False\n",
      "\n",
      "Head: VIANE\n",
      "Gold: Q774709\n",
      "Prediction: NIL\n",
      "Skyline: False\n",
      "{}\n",
      "Accuracy 10: False\n",
      "\n",
      "Head: Vic-le-comte\n",
      "Gold: Q41109\n",
      "Prediction: NIL\n",
      "Skyline: False\n",
      "{}\n",
      "Accuracy 10: False\n",
      "\n",
      "Head: VICHI\n",
      "Gold: Q93351\n",
      "Prediction: NIL\n",
      "Skyline: False\n",
      "{}\n",
      "Accuracy 10: False\n",
      "\n",
      "Head: Vielle\n",
      "Gold: Q83918\n",
      "Prediction: NIL\n",
      "Skyline: False\n",
      "{}\n",
      "Accuracy 10: False\n",
      "\n",
      "Head: Vienne\n",
      "Gold: Q26849\n",
      "Prediction: Q12804\n",
      "Skyline: True\n",
      "{'Q12804': 0.679, 'Q26849': 0.211, 'Q659546': 0.073, 'Q3557974': 0.013, 'Q366189': 0.009, 'Q111203066': 0.006, 'Q702768': 0.002}\n",
      "Accuracy 10: False\n",
      "\n",
      "Head: VIHERS\n",
      "Gold: Q749015\n",
      "Prediction: NIL\n",
      "Skyline: False\n",
      "{}\n",
      "Accuracy 10: False\n",
      "\n",
      "Head: Ville-Comtal\n",
      "Gold: Q1362002\n",
      "Prediction: NIL\n",
      "Skyline: False\n",
      "{}\n",
      "Accuracy 10: False\n",
      "\n",
      "Head: Ville-Franche\n",
      "Gold: Q208770\n",
      "Prediction: Q207080\n",
      "Skyline: False\n",
      "{'Q207080': 1.0}\n",
      "Accuracy 10: False\n",
      "\n",
      "Head: Ville-Franche\n",
      "Gold: Q865772\n",
      "Prediction: Q207080\n",
      "Skyline: False\n",
      "{'Q207080': 1.0}\n",
      "Accuracy 10: False\n",
      "\n",
      "Head: Ville-Franche\n",
      "Gold: Q1618405\n",
      "Prediction: Q207080\n",
      "Skyline: False\n",
      "{'Q207080': 1.0}\n",
      "Accuracy 10: False\n",
      "\n",
      "Head: Ville-Franche\n",
      "Gold: Q501114\n",
      "Prediction: Q207080\n",
      "Skyline: False\n",
      "{'Q207080': 1.0}\n",
      "Accuracy 10: False\n",
      "\n",
      "Head: Ville-Franche\n",
      "Gold: Q213501\n",
      "Prediction: Q207080\n",
      "Skyline: False\n",
      "{'Q207080': 1.0}\n",
      "Accuracy 10: False\n",
      "\n",
      "Head: Ville-Franche de Panat\n",
      "Gold: Q973642\n",
      "Prediction: NIL\n",
      "Skyline: False\n",
      "{}\n",
      "Accuracy 10: False\n",
      "\n",
      "Head: Ville-Franche\n",
      "Gold: Q981869\n",
      "Prediction: Q207080\n",
      "Skyline: False\n",
      "{'Q207080': 1.0}\n",
      "Accuracy 10: False\n",
      "\n",
      "Head: Ville-Maur\n",
      "Gold: Q834779\n",
      "Prediction: NIL\n",
      "Skyline: False\n",
      "{}\n",
      "Accuracy 10: False\n",
      "\n",
      "Head: Ville-Mur\n",
      "Gold: Q1371216\n",
      "Prediction: NIL\n",
      "Skyline: False\n",
      "{}\n",
      "Accuracy 10: False\n",
      "\n",
      "Head: VILLENAUX\n",
      "Gold: Q1371207\n",
      "Prediction: NIL\n",
      "Skyline: False\n",
      "{}\n",
      "Accuracy 10: False\n",
      "\n",
      "Head: VILLEPINTE\n",
      "Gold: Q843208\n",
      "Prediction: NIL\n",
      "Skyline: False\n",
      "{}\n",
      "Accuracy 10: False\n",
      "\n",
      "Head: VILLEPREUX\n",
      "Gold: Q491492\n",
      "Prediction: NIL\n",
      "Skyline: False\n",
      "{}\n",
      "Accuracy 10: False\n",
      "\n",
      "Head: VIRE\n",
      "Gold: Q220684\n",
      "Prediction: NIL\n",
      "Skyline: False\n",
      "{}\n",
      "Accuracy 10: False\n",
      "\n",
      "Head: VITRÉ\n",
      "Gold: Q234704\n",
      "Prediction: NIL\n",
      "Skyline: False\n",
      "{}\n",
      "Accuracy 10: False\n",
      "\n",
      "Head: Vitri-le-Brûlé\n",
      "Gold: Q674566\n",
      "Prediction: NIL\n",
      "Skyline: False\n",
      "{}\n",
      "Accuracy 10: False\n",
      "\n",
      "Head: Vitri-le-François\n",
      "Gold: Q623374\n",
      "Prediction: NIL\n",
      "Skyline: False\n",
      "{}\n",
      "Accuracy 10: False\n",
      "\n",
      "Head: VITTEAUX\n",
      "Gold: Q380877\n",
      "Prediction: NIL\n",
      "Skyline: False\n",
      "{}\n",
      "Accuracy 10: False\n",
      "\n",
      "Head: VIVIERS\n",
      "Gold: Q274774\n",
      "Prediction: NIL\n",
      "Skyline: False\n",
      "{}\n",
      "Accuracy 10: False\n",
      "\n",
      "Head: VIVONNE\n",
      "Gold: Q1613150\n",
      "Prediction: NIL\n",
      "Skyline: False\n",
      "{}\n",
      "Accuracy 10: False\n",
      "\n",
      "Head: VODABLE\n",
      "Gold: Q667255\n",
      "Prediction: NIL\n",
      "Skyline: False\n",
      "{}\n",
      "Accuracy 10: False\n",
      "\n",
      "Head: VOUGLE\n",
      "Gold: Q751249\n",
      "Prediction: NIL\n",
      "Skyline: False\n",
      "{}\n",
      "Accuracy 10: False\n",
      "\n",
      "Head: USSEL\n",
      "Gold: Q18101\n",
      "Prediction: NIL\n",
      "Skyline: False\n",
      "{}\n",
      "Accuracy 10: False\n",
      "\n",
      "Head: UZEL\n",
      "Gold: Q49369779\n",
      "Prediction: NIL\n",
      "Skyline: False\n",
      "{}\n",
      "Accuracy 10: False\n",
      "\n",
      "Head: WANGEN\n",
      "Gold: Q21794\n",
      "Prediction: NIL\n",
      "Skyline: False\n",
      "{}\n",
      "Accuracy 10: False\n",
      "\n",
      "Head: WASSELONNE\n",
      "Gold: Q22413\n",
      "Prediction: NIL\n",
      "Skyline: False\n",
      "{}\n",
      "Accuracy 10: False\n",
      "\n",
      "Head: WATTEN\n",
      "Gold: Q742424\n",
      "Prediction: NIL\n",
      "Skyline: False\n",
      "{}\n",
      "Accuracy 10: False\n",
      "\n",
      "Head: WATWEIL\n",
      "Gold: Q545447\n",
      "Prediction: NIL\n",
      "Skyline: False\n",
      "{}\n",
      "Accuracy 10: False\n",
      "\n",
      "Head: WEST-HOFFEN\n",
      "Gold: Q21562\n",
      "Prediction: NIL\n",
      "Skyline: False\n",
      "{}\n",
      "Accuracy 10: False\n",
      "\n",
      "Head: WILER ou WEYLER\n",
      "Gold: Q21606\n",
      "Prediction: NIL\n",
      "Skyline: False\n",
      "{}\n",
      "Accuracy 10: False\n",
      "\n",
      "Head: WORDT\n",
      "Gold: Q22762\n",
      "Prediction: NIL\n",
      "Skyline: False\n",
      "{}\n",
      "Accuracy 10: False\n",
      "\n",
      "Head: XAINTES\n",
      "Gold: Q191126\n",
      "Prediction: NIL\n",
      "Skyline: False\n",
      "{}\n",
      "Accuracy 10: False\n",
      "\n",
      "Head: YRIER de la perche, saint\n",
      "Gold: Q523015\n",
      "Prediction: NIL\n",
      "Skyline: False\n",
      "{}\n",
      "Accuracy 10: False\n",
      "\n",
      "Head: YVETOT\n",
      "Gold: Q691278\n",
      "Prediction: NIL\n",
      "Skyline: False\n",
      "{}\n",
      "Accuracy 10: False\n",
      "\n",
      "Head: YVOY, ou IVOY\n",
      "Gold: Q624330\n",
      "Prediction: NIL\n",
      "Skyline: False\n",
      "{}\n",
      "Accuracy 10: False\n",
      "\n"
     ]
    }
   ],
   "source": [
    "sample3 = VILLESFR.copy(deep=True)\n",
    "verbose = True\n",
    "\n",
    "if 'resolved' not in sample3.columns:\n",
    "    sample['resolved'] = None\n",
    "\n",
    "for i, row in sample.iterrows():\n",
    "    resolved = geoparser.run_sentence(row['fullcontent'], HEAD=row['head'])\n",
    "\n",
    "    skyline = row['gold'] in resolved[0]['cross_cand_score'].keys()\n",
    "    best_pred = resolved[0]['prediction']\n",
    "\n",
    "    if best_pred[0] != 'Q':\n",
    "        acc10 = False\n",
    "    else:\n",
    "        wd_pred = wdo.WikidataObject(best_pred, coordinates=resolved[0]['latlon'])\n",
    "        acc10 = wd_pred._distance_to(row['gold']) <= 10\n",
    "\n",
    "    sample.at[i, 'resolved'] = resolved[0]\n",
    "    sample.at[i, 'skyline'] = skyline\n",
    "    sample.at[i, 'bestPred'] = best_pred\n",
    "    sample.at[i, 'acc10'] = acc10\n",
    "\n",
    "    if verbose:\n",
    "        print(f\"Head: {row['head']}\")\n",
    "        print(f\"Gold: {row['gold']}\")\n",
    "        print(f\"Prediction: {best_pred}\")\n",
    "        print(f\"Skyline: {skyline}\")\n",
    "        print(resolved[0]['cross_cand_score'])\n",
    "        print(f\"Accuracy 10: {acc10}\\n\")\n"
   ]
  },
  {
   "cell_type": "code",
   "execution_count": 20,
   "metadata": {},
   "outputs": [
    {
     "name": "stdout",
     "output_type": "stream",
     "text": [
      "False    0.938257\n",
      "True     0.061743\n",
      "Name: skyline, dtype: float64 \n",
      "\n",
      "False    0.945521\n",
      "True     0.054479\n",
      "Name: acc10, dtype: float64 \n",
      "\n"
     ]
    }
   ],
   "source": [
    "sample.to_json('t_res_perfect+mostpop_140424.json', orient='records', lines=True)\n",
    "print(sample.skyline.value_counts(normalize=True), '\\n')\n",
    "print(sample.acc10.value_counts(normalize=True), '\\n')"
   ]
  },
  {
   "cell_type": "markdown",
   "metadata": {},
   "source": [
    "# Partial match"
   ]
  },
  {
   "cell_type": "code",
   "execution_count": 2,
   "metadata": {},
   "outputs": [
    {
     "name": "stdout",
     "output_type": "stream",
     "text": [
      "INFO: Pandarallel will run on 8 workers.\n",
      "INFO: Pandarallel will use Memory file system to transfer data between the main process and workers.\n"
     ]
    }
   ],
   "source": [
    "import os\n",
    "import sys\n",
    "import sqlite3\n",
    "from pathlib import Path\n",
    "import json\n",
    "from t_res.geoparser import geode_pipe,ranking,linking\n",
    "path = '/home/antoine/Documents/GitHub/T-Res/'\n",
    "NER_path = path + 'resources/fr_spacy_custom_spancat_edda'"
   ]
  },
  {
   "cell_type": "code",
   "execution_count": 3,
   "metadata": {},
   "outputs": [],
   "source": [
    "myranker = ranking.Ranker(\n",
    "    method=\"partialmatch\",\n",
    "    resources_path=\"../resources/\",\n",
    ")"
   ]
  },
  {
   "cell_type": "code",
   "execution_count": 4,
   "metadata": {},
   "outputs": [],
   "source": [
    "mylinker = linking.Linker(\n",
    "    method=\"mostpopular\",\n",
    "    resources_path=\"../resources/\",\n",
    ")"
   ]
  },
  {
   "cell_type": "code",
   "execution_count": 5,
   "metadata": {},
   "outputs": [
    {
     "name": "stdout",
     "output_type": "stream",
     "text": [
      "*** Loading the ranker resources.\n",
      "INFO: Pandarallel will run on 10 workers.\n",
      "INFO: Pandarallel will use Memory file system to transfer data between the main process and workers.\n",
      "*** Load linking resources.\n",
      "  > Loading mentions to wikidata mapping.\n",
      "  > Loading gazetteer.\n",
      "*** Linking resources loaded!\n",
      "\n"
     ]
    }
   ],
   "source": [
    "geoparser = geode_pipe.Pipeline(geodeNERpath=NER_path,\n",
    "                              myranker=myranker,\n",
    "                              mylinker=mylinker)"
   ]
  },
  {
   "cell_type": "code",
   "execution_count": 6,
   "metadata": {},
   "outputs": [
    {
     "name": "stdout",
     "output_type": "stream",
     "text": [
      "mentions : [{'entity': 'B-LOC', 'score': 1, 'mention': 'ALBI', 'start': 2, 'end': 5}, {'entity': 'B-LOC', 'score': 1, 'mention': 'France', 'start': 25, 'end': 31}, {'entity': 'B-LOC', 'score': 1, 'mention': 'Albigeois', 'start': 47, 'end': 56}, {'entity': 'B-LOC', 'score': 1, 'mention': 'Tarn', 'start': 99, 'end': 103}, {'entity': 'B-LOC', 'score': 1, 'mention': 'Languedoc', 'start': 71, 'end': 80}]\n",
      "rmentions : [{'mention': 'ALBI'}, {'mention': 'France'}, {'mention': 'Albigeois'}, {'mention': 'Tarn'}, {'mention': 'Languedoc'}]\n",
      "wk_cands : {'Languedoc': {'Languedoc': {'Score': 1.0, 'Candidates': {'Q206221': 0.9739336492890996, 'Q17005': 0.009146341463414635, 'Q1886509': 1.0}}}, 'Albigeois': {'Albigeois': {'Score': 1.0, 'Candidates': {'Q132801': 0.050890585241730284}}}, 'ALBI': {'Albi': {'Score': 1.0, 'Candidates': {'Q94744': 0.07142857142857142, 'Q132801': 0.9211195928753181, 'Q951428': 0.3793103448275862, 'Q53749': 1.0, 'Q284698': 0.16666666666666666, 'Q700379': 0.4}}}, 'France': {'France': {'Score': 1.0, 'Candidates': {'Q71084': 0.10598896769109535, 'Q146246': 0.00429553264604811, 'Q71092': 0.12113564668769716, 'Q58296': 0.09373020899303357, 'Q70802': 0.3776297335203366, 'Q58326': 0.031683168316831684, 'Q69808': 0.011072103699702943, 'Q185682': 0.0009886307464162135, 'Q142': 0.8872503121098627, 'Q170604': 0.002657218777679362, 'Q2841718': 0.044444444444444446, 'Q271894': 0.0023923444976076554, 'Q218272': 0.0006872852233676976, 'Q90': 3.726198904497522e-05, 'Q206521': 0.0017543859649122807, 'Q745942': 0.0033783783783783786, 'Q200686': 0.061919504643962855, 'Q854': 4.0181620926588175e-05, 'Q787870': 0.04, 'Q221621': 0.19047619047619047, 'Q9642': 0.0009182736455463728, 'Q69829': 0.15137614678899083, 'Q907234': 0.0009910802775024777, 'Q8641370': 0.0012324377618930242, 'Q16470': 0.00040048057669203043, 'Q58202': 0.13412816691505217, 'Q210682': 0.0014204545454545455, 'Q7997': 0.00823045267489712, 'Q265319': 0.0036900369003690036, 'Q783684': 0.07441860465116279, 'Q139708': 0.0012330456226880395, 'Q207162': 0.025710419485791614, 'Q48756': 0.002583979328165375, 'Q335827': 0.0049504950495049506, 'Q13021889': 0.08333333333333333, 'Q69323': 0.11904761904761904, 'Q221639': 0.11764705882352941, 'Q98405': 0.0023752969121140144, 'Q129003': 0.015267175572519083, 'Q221646': 0.10526315789473684, 'Q1331514': 0.05917159763313609, 'Q38060': 0.0018656716417910447, 'Q1028848': 0.006711409395973154, 'Q1524643': 0.16666666666666666, 'Q327': 0.00023730422401518748, 'Q221611': 0.1, 'Q179390': 0.13636363636363635, 'Q221631': 0.25, 'Q701164': 0.058823529411764705, 'Q911972': 0.0006397952655150352, 'Q546607': 0.12962962962962962, 'Q15479': 0.021739130434782608, 'Q653784': 0.14285714285714285, 'Q2455958': 0.0851063829787234, 'Q16394': 0.0016, 'Q184319': 0.016, 'Q40898': 0.0006844626967830253, 'Q270517': 0.0021413276231263384, 'Q854122': 0.016129032258064516, 'Q212429': 0.005706134094151213, 'Q147796': 0.015151515151515152, 'Q2084927': 0.35000000000000003, 'Q2935621': 0.125, 'Q2009420': 0.2, 'Q208529': 0.0021551724137931034, 'Q171424': 0.003129890453834116, 'Q49644': 0.6666666666666666, 'Q5501842': 0.004878048780487805, 'Q788606': 0.025, 'Q154720': 0.0004488330341113106, 'Q132568': 0.00042753313381787086, 'Q1506615': 0.027777777777777776, 'Q7330388': 0.045454545454545456, 'Q172876': 0.003436426116838488, 'Q165271': 0.003115264797507788, 'Q22942003': 1.0, 'Q23781101': 0.5, 'Q235': 0.00029171528588098014, 'Q18156370': 1.0, 'Q215987': 0.0012360939431396785, 'Q203645': 0.0028328611898017, 'Q12193': 0.0003169572107765452, 'Q6454': 0.0005534034311012728, 'Q28154421': 0.3333333333333333, 'Q42807': 0.001034126163391934, 'Q28403426': 1.0, 'Q48314': 0.00042052144659377626, 'Q5707495': 0.6666666666666666, 'Q1414378': 0.06666666666666667}}}, 'Tarn': {'Tarn': {'Score': 1.0, 'Candidates': {'Q215653': 0.8135593220338984, 'Q12772': 0.9555921052631579, 'Q1538251': 0.08695652173913043}}}}\n",
      "{'mention': 'ALBI', 'ner_score': 1, 'pos': 2, 'sent_idx': 0, 'end_pos': 5, 'tag': 'B-LOC', 'sentence': \"* ALBI, (Géog.) ville de France, capitale de l'Albigeois, dans le haut Languedoc : elle est sur le Tarn. Long. 19. 49. lat. 43. 55. 44.\", 'prediction': 'Q132801', 'ed_score': 0.921, 'string_match_score': {'Albi': (1.0, ['Q94744', 'Q132801', 'Q951428', 'Q53749', 'Q284698', 'Q700379'])}, 'prior_cand_score': {}, 'cross_cand_score': {'Q132801': 0.921, 'Q53749': 0.036, 'Q951428': 0.028, 'Q94744': 0.005, 'Q284698': 0.005, 'Q700379': 0.005}, 'latlon': [43.928056, 2.145833], 'wkdt_class': 'Q484170'}\n",
      "{'mention': 'France', 'ner_score': 1, 'pos': 25, 'sent_idx': 0, 'end_pos': 31, 'tag': 'B-LOC', 'sentence': \"* ALBI, (Géog.) ville de France, capitale de l'Albigeois, dans le haut Languedoc : elle est sur le Tarn. Long. 19. 49. lat. 43. 55. 44.\", 'prediction': 'Q142', 'ed_score': 0.979, 'string_match_score': {'France': (1.0, ['Q71084', 'Q146246', 'Q71092', 'Q58296', 'Q70802', 'Q58326', 'Q69808', 'Q185682', 'Q142', 'Q170604', 'Q2841718', 'Q271894', 'Q218272', 'Q90', 'Q206521', 'Q745942', 'Q200686', 'Q854', 'Q787870', 'Q221621', 'Q9642', 'Q69829', 'Q907234', 'Q8641370', 'Q16470', 'Q58202', 'Q210682', 'Q7997', 'Q265319', 'Q783684', 'Q139708', 'Q207162', 'Q48756', 'Q335827', 'Q13021889', 'Q69323', 'Q221639', 'Q98405', 'Q129003', 'Q221646', 'Q1331514', 'Q38060', 'Q1028848', 'Q1524643', 'Q327', 'Q221611', 'Q179390', 'Q221631', 'Q701164', 'Q911972', 'Q546607', 'Q15479', 'Q653784', 'Q2455958', 'Q16394', 'Q184319', 'Q40898', 'Q270517', 'Q854122', 'Q212429', 'Q147796', 'Q2084927', 'Q2935621', 'Q2009420', 'Q208529', 'Q171424', 'Q49644', 'Q5501842', 'Q788606', 'Q154720', 'Q132568', 'Q1506615', 'Q7330388', 'Q172876', 'Q165271', 'Q22942003', 'Q23781101', 'Q235', 'Q18156370', 'Q215987', 'Q203645', 'Q12193', 'Q6454', 'Q28154421', 'Q42807', 'Q28403426', 'Q48314', 'Q5707495', 'Q1414378'])}, 'prior_cand_score': {}, 'cross_cand_score': {'Q142': 0.979, 'Q70802': 0.01, 'Q71084': 0.003, 'Q71092': 0.002, 'Q58296': 0.001, 'Q69829': 0.001, 'Q58202': 0.001}, 'latlon': [47.0, 2.0], 'wkdt_class': 'Q3624078'}\n",
      "{'mention': 'Albigeois', 'ner_score': 1, 'pos': 47, 'sent_idx': 0, 'end_pos': 56, 'tag': 'B-LOC', 'sentence': \"* ALBI, (Géog.) ville de France, capitale de l'Albigeois, dans le haut Languedoc : elle est sur le Tarn. Long. 19. 49. lat. 43. 55. 44.\", 'prediction': 'Q132801', 'ed_score': 1.0, 'string_match_score': {'Albigeois': (1.0, ['Q132801'])}, 'prior_cand_score': {}, 'cross_cand_score': {'Q132801': 1.0}, 'latlon': [43.928056, 2.145833], 'wkdt_class': 'Q484170'}\n",
      "{'mention': 'Tarn', 'ner_score': 1, 'pos': 99, 'sent_idx': 0, 'end_pos': 103, 'tag': 'B-LOC', 'sentence': \"* ALBI, (Géog.) ville de France, capitale de l'Albigeois, dans le haut Languedoc : elle est sur le Tarn. Long. 19. 49. lat. 43. 55. 44.\", 'prediction': 'Q12772', 'ed_score': 0.856, 'string_match_score': {'Tarn': (1.0, ['Q215653', 'Q12772', 'Q1538251'])}, 'prior_cand_score': {}, 'cross_cand_score': {'Q12772': 0.856, 'Q215653': 0.141, 'Q1538251': 0.003}, 'latlon': [43.909722, 2.109167], 'wkdt_class': 'Q6465'}\n",
      "{'mention': 'Languedoc', 'ner_score': 1, 'pos': 71, 'sent_idx': 0, 'end_pos': 80, 'tag': 'B-LOC', 'sentence': \"* ALBI, (Géog.) ville de France, capitale de l'Albigeois, dans le haut Languedoc : elle est sur le Tarn. Long. 19. 49. lat. 43. 55. 44.\", 'prediction': 'Q206221', 'ed_score': 0.992, 'string_match_score': {'Languedoc': (1.0, ['Q206221', 'Q17005', 'Q1886509'])}, 'prior_cand_score': {}, 'cross_cand_score': {'Q206221': 0.992, 'Q1886509': 0.005, 'Q17005': 0.004}, 'latlon': [43.666667, 3.166667], 'wkdt_class': 'Q572995'}\n"
     ]
    }
   ],
   "source": [
    "sentence = \"* ALBI, (Géog.) ville de France, capitale de l'Albigeois, dans le haut Languedoc : elle est sur le Tarn. Long. 19. 49. lat. 43. 55. 44.\"\n",
    "sentence.find('ALBI')\n",
    "resolved = geoparser.run_sentence(sentence, HEAD='ALBI', verbose=True)\n",
    "for r in resolved:\n",
    "    print(r)"
   ]
  },
  {
   "cell_type": "code",
   "execution_count": 7,
   "metadata": {},
   "outputs": [],
   "source": [
    "import pandas as pd\n",
    "import WikidataObject as wdo"
   ]
  },
  {
   "cell_type": "code",
   "execution_count": 9,
   "metadata": {},
   "outputs": [
    {
     "name": "stdout",
     "output_type": "stream",
     "text": [
      "Head: RETHEL\n",
      "Gold: Q209790\n",
      "Prediction: Q209790\n",
      "Skyline: True\n",
      "{'Q209790': 0.974, 'Q702199': 0.026}\n",
      "Accuracy 10: True\n",
      "\n",
      "Head: BRIGNOLES\n",
      "Gold: Q207584\n",
      "Prediction: Q207584\n",
      "Skyline: True\n",
      "{'Q207584': 0.973, 'Q700755': 0.027}\n",
      "Accuracy 10: True\n",
      "\n",
      "Head: AUTUN\n",
      "Gold: Q190827\n",
      "Prediction: Q190827\n",
      "Skyline: True\n",
      "{'Q190827': 0.982, 'Q611944': 0.009, 'Q662088': 0.006, 'Q444201': 0.003}\n",
      "Accuracy 10: True\n",
      "\n",
      "Head: Brie-Comte-Braine\n",
      "Gold: Q332052\n",
      "Prediction: Q332052\n",
      "Skyline: True\n",
      "{'Q332052': 0.941, 'Q845920': 0.029, 'Q95129': 0.029}\n",
      "Accuracy 10: True\n",
      "\n",
      "Head: Chateau-Salins\n",
      "Gold: Q22745\n",
      "Prediction: Q22745\n",
      "Skyline: True\n",
      "{'Q22745': 0.875, 'Q700954': 0.125}\n",
      "Accuracy 10: True\n",
      "\n"
     ]
    }
   ],
   "source": [
    "sample3 = VILLESFR.sample(5) #.copy(deep=True)\n",
    "verbose = True\n",
    "\n",
    "if 'resolved' not in sample3.columns:\n",
    "    sample3['resolved'] = None\n",
    "\n",
    "for i, row in sample3.iterrows():\n",
    "    resolved = geoparser.run_sentence(row['fullcontent'], HEAD=row['head'])\n",
    "\n",
    "    skyline = row['gold'] in resolved[0]['cross_cand_score'].keys()\n",
    "    best_pred = resolved[0]['prediction']\n",
    "\n",
    "    if best_pred[0] != 'Q':\n",
    "        acc10 = False\n",
    "    else:\n",
    "        wd_pred = wdo.WikidataObject(best_pred, coordinates=resolved[0]['latlon'])\n",
    "        acc10 = wd_pred._distance_to(row['gold']) <= 10\n",
    "\n",
    "    sample3.at[i, 'resolved'] = resolved[0]\n",
    "    sample3.at[i, 'skyline'] = skyline\n",
    "    sample3.at[i, 'bestPred'] = best_pred\n",
    "    sample3.at[i, 'acc10'] = acc10\n",
    "\n",
    "    if verbose:\n",
    "        print(f\"Head: {row['head']}\")\n",
    "        print(f\"Gold: {row['gold']}\")\n",
    "        print(f\"Prediction: {best_pred}\")\n",
    "        print(f\"Skyline: {skyline}\")\n",
    "        print(resolved[0]['cross_cand_score'])\n",
    "        print(f\"Accuracy 10: {acc10}\\n\")\n"
   ]
  },
  {
   "cell_type": "code",
   "execution_count": null,
   "metadata": {},
   "outputs": [],
   "source": [
    "sample3.to_json('t_res_perfect+mostpop_140424.json', orient='records', lines=True)\n",
    "print(sample3.skyline.value_counts(normalize=True), '\\n')\n",
    "print(sample3.acc10.value_counts(normalize=True), '\\n')"
   ]
  }
 ],
 "metadata": {
  "kernelspec": {
   "display_name": "tres-turing",
   "language": "python",
   "name": "tres-turing"
  },
  "language_info": {
   "codemirror_mode": {
    "name": "ipython",
    "version": 3
   },
   "file_extension": ".py",
   "mimetype": "text/x-python",
   "name": "python",
   "nbconvert_exporter": "python",
   "pygments_lexer": "ipython3",
   "version": "3.9.7"
  },
  "orig_nbformat": 4
 },
 "nbformat": 4,
 "nbformat_minor": 2
}
