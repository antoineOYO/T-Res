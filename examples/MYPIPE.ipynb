{
 "cells": [
  {
   "cell_type": "markdown",
   "metadata": {},
   "source": [
    "# Starting"
   ]
  },
  {
   "cell_type": "code",
   "execution_count": 1,
   "metadata": {},
   "outputs": [
    {
     "data": {
      "text/plain": [
       "'/home/antoine/Documents/GitHub/T-Res/examples'"
      ]
     },
     "execution_count": 1,
     "metadata": {},
     "output_type": "execute_result"
    }
   ],
   "source": [
    "pwd"
   ]
  },
  {
   "cell_type": "code",
   "execution_count": 2,
   "metadata": {},
   "outputs": [
    {
     "name": "stdout",
     "output_type": "stream",
     "text": [
      "1.12.0\n",
      "3.7.4\n"
     ]
    }
   ],
   "source": [
    "import scipy\n",
    "print(scipy.__version__)\n",
    "import spacy\n",
    "print(spacy.__version__)\n",
    "import json"
   ]
  },
  {
   "cell_type": "code",
   "execution_count": 3,
   "metadata": {},
   "outputs": [
    {
     "name": "stdout",
     "output_type": "stream",
     "text": [
      "INFO: Pandarallel will run on 8 workers.\n",
      "INFO: Pandarallel will use Memory file system to transfer data between the main process and workers.\n"
     ]
    }
   ],
   "source": [
    "import os\n",
    "import sys\n",
    "import sqlite3\n",
    "from pathlib import Path\n",
    "import json\n",
    "\n",
    "import pandas as pd\n",
    "import WikidataObject as wdo\n",
    "\n",
    "from t_res.geoparser import geode_pipe,ranking,linking\n",
    "path = '/home/antoine/Documents/GitHub/T-Res/'\n",
    "NER_path = path + 'resources/fr_spacy_custom_spancat_edda'"
   ]
  },
  {
   "cell_type": "markdown",
   "metadata": {},
   "source": [
    "# Import VILLESFR"
   ]
  },
  {
   "cell_type": "code",
   "execution_count": 22,
   "metadata": {},
   "outputs": [],
   "source": [
    "filepath = 'VILLESFR.json'\n",
    "VILLESFR = pd.read_json(filepath, orient='records', lines=True)"
   ]
  },
  {
   "cell_type": "markdown",
   "metadata": {},
   "source": [
    " Quelle proportion des QIds \"gold\" de VILLESFR retrouve-t-on dans l'index utilisé par T-RES ? "
   ]
  },
  {
   "cell_type": "code",
   "execution_count": 12,
   "metadata": {},
   "outputs": [
    {
     "name": "stdout",
     "output_type": "stream",
     "text": [
      "*** Loading the ranker resources.\n"
     ]
    }
   ],
   "source": [
    "def load_resources(method=\"mostpopular\",\n",
    "                   resources_path=\"../resources/\"\n",
    "                   ) :\n",
    "\n",
    "    print(\"*** Loading the ranker resources.\")\n",
    "\n",
    "    # Load files\n",
    "    files = {\n",
    "        \"mentions_to_wikidata\": os.path.join(\n",
    "            resources_path, \"wikidata/mentions_to_wikidata_normalized.json\"\n",
    "        ),\n",
    "        \"wikidata_to_mentions\": os.path.join(\n",
    "            resources_path, \"wikidata/wikidata_to_mentions_normalized.json\"\n",
    "        ),\n",
    "    }\n",
    "\n",
    "    with open(files[\"mentions_to_wikidata\"], \"r\") as f:\n",
    "        mentions_to_wikidata = json.load(f)\n",
    "\n",
    "    with open(files[\"wikidata_to_mentions\"], \"r\") as f:\n",
    "        wikidata_to_mentions = json.load(f)\n",
    "\n",
    "    # Filter mentions to remove noise:\n",
    "    wikidata_to_mentions_filtered = dict()\n",
    "    mentions_to_wikidata_filtered = dict()\n",
    "    for wk in wikidata_to_mentions:\n",
    "        wikipedia_mentions = wikidata_to_mentions.get(wk)\n",
    "        wikipedia_mentions_stripped = dict(\n",
    "            [\n",
    "                (x, wikipedia_mentions[x])\n",
    "                for x in wikipedia_mentions\n",
    "                if not \", \" in x and not \" (\" in x\n",
    "            ]\n",
    "        )\n",
    "\n",
    "        if wikipedia_mentions_stripped:\n",
    "            wikipedia_mentions = wikipedia_mentions_stripped\n",
    "\n",
    "        wikidata_to_mentions_filtered[wk] = dict(\n",
    "            [(x, wikipedia_mentions[x]) for x in wikipedia_mentions]\n",
    "        )\n",
    "\n",
    "        for m in wikidata_to_mentions_filtered[wk]:\n",
    "            if m in mentions_to_wikidata_filtered:\n",
    "                mentions_to_wikidata_filtered[m][\n",
    "                    wk\n",
    "                ] = wikidata_to_mentions_filtered[wk][m]\n",
    "            else:\n",
    "                mentions_to_wikidata_filtered[m] = {\n",
    "                    wk: wikidata_to_mentions_filtered[wk][m]\n",
    "                }\n",
    "\n",
    "    mentions_to_wikidata = mentions_to_wikidata_filtered\n",
    "    wikidata_to_mentions = wikidata_to_mentions_filtered\n",
    "\n",
    "    del mentions_to_wikidata_filtered\n",
    "    del wikidata_to_mentions_filtered\n",
    "\n",
    "    # Parallelize if ranking method is one of the following:\n",
    "    if method in [\"partialmatch\", \"levenshtein\"]:\n",
    "        pandarallel.initialize(nb_workers=10)\n",
    "        os.environ[\"TOKENIZERS_PARALLELISM\"] = \"true\"\n",
    "\n",
    "    return mentions_to_wikidata, wikidata_to_mentions\n",
    "\n",
    "mentions_to_wikidata, wikidata_to_mentions = load_resources()"
   ]
  },
  {
   "cell_type": "code",
   "execution_count": 23,
   "metadata": {},
   "outputs": [
    {
     "data": {
      "text/plain": [
       "36"
      ]
     },
     "execution_count": 23,
     "metadata": {},
     "output_type": "execute_result"
    }
   ],
   "source": [
    "df = VILLESFR.copy(deep=True)\n",
    "df['related_mentions'] = None\n",
    "\n",
    "for idx,row in df.iterrows():\n",
    "    related_mentions = []\n",
    "    # check if wikidata_to_mentions.get(row['gold']) doesn't yeld a keyerror :\n",
    "    if wikidata_to_mentions.get(row['gold']) is None:\n",
    "        df.at[idx,'related_mentions'] = None\n",
    "        #print(row['head'])\n",
    "        #print(WDO.WikidataObject(row['gold']))\n",
    "        continue\n",
    "    else:\n",
    "        related_mentions = wikidata_to_mentions.get(row['gold'])\n",
    "        #print(row['head'])\n",
    "        #print(related_mentions)\n",
    "        df.at[idx,'related_mentions'] = related_mentions\n",
    "\n",
    "#count of None in related_mentions\n",
    "df['related_mentions'].isnull().sum()\n",
    "        "
   ]
  },
  {
   "cell_type": "code",
   "execution_count": 8,
   "metadata": {},
   "outputs": [],
   "source": [
    "# Saint-Étienne-de-Carlat\n",
    "mentions_to_wikidata.get('Saint-Étienne-de-Carlat')"
   ]
  },
  {
   "cell_type": "code",
   "execution_count": 9,
   "metadata": {},
   "outputs": [],
   "source": [
    "wikidata_to_mentions.get('Q270192')"
   ]
  },
  {
   "cell_type": "markdown",
   "metadata": {},
   "source": [
    "> 36 ressources de Wikidata ne sont pas présentes dans l'index ! simplement parce qu'elles n'ont pas de page wikipedia en anglais et donc leur ressource Wikidata n'est pas consultée"
   ]
  },
  {
   "cell_type": "code",
   "execution_count": 24,
   "metadata": {},
   "outputs": [
    {
     "data": {
      "text/plain": [
       "(790, 5)"
      ]
     },
     "execution_count": 24,
     "metadata": {},
     "output_type": "execute_result"
    }
   ],
   "source": [
    "subVILLESFR = df[df['related_mentions'].notnull()]\n",
    "subVILLESFR.shape"
   ]
  },
  {
   "attachments": {},
   "cell_type": "markdown",
   "metadata": {},
   "source": [
    "# DeezyMatch + REL"
   ]
  },
  {
   "cell_type": "code",
   "execution_count": 4,
   "metadata": {},
   "outputs": [],
   "source": [
    "# --------------------------------------\n",
    "# Instantiate the ranker:\n",
    "myranker = ranking.Ranker(\n",
    "    method=\"deezymatch\",\n",
    "    resources_path= path + \"resources/\",\n",
    "    strvar_parameters={\"overwrite_dataset\": False,},\n",
    "    deezy_parameters={\n",
    "        # Paths and filenames of DeezyMatch models and data:\n",
    "        \"dm_path\": str(Path( path + \"resources/deezymatch/\").resolve()),\n",
    "        \"dm_cands\": \"wkdtalts\",\n",
    "        \"dm_model\": \"w2v_ocr\",\n",
    "        \"dm_output\": \"deezymatch_on_the_fly\",\n",
    "        # Ranking measures:\n",
    "        \"ranking_metric\": \"faiss\",\n",
    "        \"selection_threshold\": 50,\n",
    "        \"num_candidates\": 10,\n",
    "        \"verbose\": False,\n",
    "        # DeezyMatch training:\n",
    "        \"overwrite_training\": False,\n",
    "        \"do_test\": False,\n",
    "    },\n",
    ")\n",
    "\n",
    "# --------------------------------------\n",
    "# Instantiate the Linker:\n",
    "with sqlite3.connect( path + \"resources/rel_db/embeddings_database.db\") as conn:\n",
    "    cursor = conn.cursor()\n",
    "    mylinker = linking.Linker(\n",
    "        method=\"reldisamb\",\n",
    "        resources_path= path + \"resources/\",\n",
    "        rel_params={\n",
    "            \"model_path\": path + \"resources/models/disambiguation/\",\n",
    "            \"data_path\":  path + \"experiments/outputs/data/lwm/\",\n",
    "            \"training_split\": \"originalsplit\",\n",
    "            \"db_embeddings\": cursor,\n",
    "            \"with_publication\": False,\n",
    "            \"without_microtoponyms\": True,\n",
    "            \"do_test\": False,\n",
    "            \"default_publname\": \"\",\n",
    "            \"default_publwqid\": \"\",\n",
    "        },\n",
    "        overwrite_training=False,\n",
    "    )"
   ]
  },
  {
   "cell_type": "code",
   "execution_count": 5,
   "metadata": {},
   "outputs": [
    {
     "name": "stdout",
     "output_type": "stream",
     "text": [
      "*** Loading the ranker resources.\n",
      "The DeezyMatch model is already trained!\n",
      "*** Load linking resources.\n",
      "  > Loading mentions to wikidata mapping.\n",
      "  > Loading gazetteer.\n",
      "*** Linking resources loaded!\n",
      "\n",
      "Model path: /home/jovyan/T-Res/resources/models/disambiguation/deezymatch+10+50_originalsplit+wmtops/model eval\n",
      "Loading model from given path: /home/jovyan/T-Res/resources/models/disambiguation/deezymatch+10+50_originalsplit+wmtops/model\n",
      "{'mode': 'eval', 'model_path': '/home/jovyan/T-Res/resources/models/disambiguation/deezymatch+10+50_originalsplit+wmtops/model', 'prerank_ctx_window': 50, 'keep_p_e_m': 4, 'keep_ctx_ent': 3, 'ctx_window': 100, 'tok_top_n': 25, 'mulrel_type': 'ment-norm', 'n_rels': 3, 'hid_dims': 100, 'emb_dims': 300, 'snd_local_ctx_window': 6, 'dropout_rate': 0.3, 'n_epochs': 1000, 'dev_f1_change_lr': 0.915, 'n_not_inc': 10, 'eval_after_n_epochs': 5, 'learning_rate': 0.0001, 'margin': 0.01, 'df': 0.5, 'n_loops': 10, 'n_cands_before_rank': 30, 'first_head_uniforn': False, 'use_pad_ent': True, 'use_local': True, 'use_local_only': False, 'oracle': False}\n"
     ]
    },
    {
     "name": "stderr",
     "output_type": "stream",
     "text": [
      "/home/jovyan/.cache/pypoetry/virtualenvs/t-res-wXsh84dd-py3.9/lib/python3.9/site-packages/sklearn/base.py:376: InconsistentVersionWarning: Trying to unpickle estimator LogisticRegression from version 1.4.1.post1 when using version 1.4.2. This might lead to breaking code or invalid results. Use at your own risk. For more info please refer to:\n",
      "https://scikit-learn.org/stable/model_persistence.html#security-maintainability-limitations\n",
      "  warnings.warn(\n"
     ]
    }
   ],
   "source": [
    "geoparser = geode_pipe.Pipeline(geodeNERpath=NER_path,\n",
    "                              myranker=myranker,\n",
    "                              mylinker=mylinker)"
   ]
  },
  {
   "cell_type": "code",
   "execution_count": 6,
   "metadata": {},
   "outputs": [
    {
     "name": "stderr",
     "output_type": "stream",
     "text": [
      "                                                 \r"
     ]
    },
    {
     "data": {
      "application/vnd.jupyter.widget-view+json": {
       "model_id": "",
       "version_major": 2,
       "version_minor": 0
      },
      "text/plain": [
       "  0%|          | 0/1 [00:00<?, ?it/s]"
      ]
     },
     "metadata": {},
     "output_type": "display_data"
    },
    {
     "name": "stdout",
     "output_type": "stream",
     "text": [
      "{\n",
      "  \"mention\": \"ALBI\",\n",
      "  \"ner_score\": 1,\n",
      "  \"pos\": 2,\n",
      "  \"sent_idx\": 0,\n",
      "  \"end_pos\": 5,\n",
      "  \"tag\": \"B-LOC\",\n",
      "  \"sentence\": \"* ALBI, (G\\u00e9og.) ville de France, capitale de l'Albigeois, dans le haut Languedoc : elle est sur le Tarn. Long. 19. 49. lat. 43. 55. 44.\",\n",
      "  \"prediction\": \"Q132801\",\n",
      "  \"ed_score\": 0.006,\n",
      "  \"cross_cand_score\": {\n",
      "    \"Q132801\": 0.285,\n",
      "    \"Q700379\": 0.194,\n",
      "    \"Q53749\": 0.142,\n",
      "    \"Q244031\": 0.13,\n",
      "    \"Q4371496\": 0.128,\n",
      "    \"Q4708979\": 0.123,\n",
      "    \"Q18871\": 0.0\n",
      "  },\n",
      "  \"string_match_score\": {\n",
      "    \"Albi\": [\n",
      "      1.0,\n",
      "      [\n",
      "        \"Q94744\",\n",
      "        \"Q132801\",\n",
      "        \"Q951428\",\n",
      "        \"Q53749\",\n",
      "        \"Q284698\",\n",
      "        \"Q700379\"\n",
      "      ]\n",
      "    ],\n",
      "    \"Albaji\": [\n",
      "      0.505,\n",
      "      [\n",
      "        \"Q4708979\"\n",
      "      ]\n",
      "    ],\n",
      "    \"Abali\": [\n",
      "      0.436,\n",
      "      [\n",
      "        \"Q4371496\"\n",
      "      ]\n",
      "    ],\n",
      "    \"Abaali\": [\n",
      "      0.389,\n",
      "      [\n",
      "        \"Q4663333\"\n",
      "      ]\n",
      "    ],\n",
      "    \"Albiolo\": [\n",
      "      0.36,\n",
      "      [\n",
      "        \"Q244031\"\n",
      "      ]\n",
      "    ],\n",
      "    \"Jalabi\": [\n",
      "      0.351,\n",
      "      [\n",
      "        \"Q5782888\"\n",
      "      ]\n",
      "    ],\n",
      "    \"Babaali\": [\n",
      "      0.34,\n",
      "      [\n",
      "        \"Q4837412\"\n",
      "      ]\n",
      "    ],\n",
      "    \"Babali\": [\n",
      "      0.302,\n",
      "      [\n",
      "        \"Q18871\",\n",
      "        \"Q4738503\"\n",
      "      ]\n",
      "    ],\n",
      "    \"Alibi\": [\n",
      "      0.3,\n",
      "      [\n",
      "        \"Q4725660\"\n",
      "      ]\n",
      "    ],\n",
      "    \"Bojolali\": [\n",
      "      0.261,\n",
      "      [\n",
      "        \"Q10609\"\n",
      "      ]\n",
      "    ]\n",
      "  },\n",
      "  \"prior_cand_score\": {\n",
      "    \"Q132801\": 0.882,\n",
      "    \"Q53749\": 0.467,\n",
      "    \"Q4708979\": 0.344,\n",
      "    \"Q4371496\": 0.334,\n",
      "    \"Q244031\": 0.331,\n",
      "    \"Q700379\": 0.317,\n",
      "    \"Q18871\": 0.07\n",
      "  },\n",
      "  \"latlon\": [\n",
      "    43.928056,\n",
      "    2.145833\n",
      "  ],\n",
      "  \"wkdt_class\": \"Q484170\"\n",
      "}\n",
      "{\n",
      "  \"mention\": \"France\",\n",
      "  \"ner_score\": 1,\n",
      "  \"pos\": 25,\n",
      "  \"sent_idx\": 0,\n",
      "  \"end_pos\": 31,\n",
      "  \"tag\": \"B-LOC\",\n",
      "  \"sentence\": \"* ALBI, (G\\u00e9og.) ville de France, capitale de l'Albigeois, dans le haut Languedoc : elle est sur le Tarn. Long. 19. 49. lat. 43. 55. 44.\",\n",
      "  \"prediction\": \"Q142\",\n",
      "  \"ed_score\": 0.005,\n",
      "  \"cross_cand_score\": {\n",
      "    \"Q142\": 0.784,\n",
      "    \"Q69829\": 0.155,\n",
      "    \"Q58202\": 0.039,\n",
      "    \"Q71084\": 0.021,\n",
      "    \"Q18156370\": 0.0,\n",
      "    \"Q22942003\": 0.0,\n",
      "    \"Q28403426\": 0.0\n",
      "  },\n",
      "  \"string_match_score\": {\n",
      "    \"France\": [\n",
      "      1.0,\n",
      "      [\n",
      "        \"Q71084\",\n",
      "        \"Q146246\",\n",
      "        \"Q71092\",\n",
      "        \"Q58296\",\n",
      "        \"Q70802\",\n",
      "        \"Q58326\",\n",
      "        \"Q69808\",\n",
      "        \"Q185682\",\n",
      "        \"Q142\",\n",
      "        \"Q170604\",\n",
      "        \"Q2841718\",\n",
      "        \"Q271894\",\n",
      "        \"Q218272\",\n",
      "        \"Q90\",\n",
      "        \"Q206521\",\n",
      "        \"Q745942\",\n",
      "        \"Q200686\",\n",
      "        \"Q854\",\n",
      "        \"Q787870\",\n",
      "        \"Q221621\",\n",
      "        \"Q9642\",\n",
      "        \"Q69829\",\n",
      "        \"Q907234\",\n",
      "        \"Q8641370\",\n",
      "        \"Q16470\",\n",
      "        \"Q58202\",\n",
      "        \"Q210682\",\n",
      "        \"Q7997\",\n",
      "        \"Q265319\",\n",
      "        \"Q783684\",\n",
      "        \"Q139708\",\n",
      "        \"Q207162\",\n",
      "        \"Q48756\",\n",
      "        \"Q335827\",\n",
      "        \"Q13021889\",\n",
      "        \"Q69323\",\n",
      "        \"Q221639\",\n",
      "        \"Q98405\",\n",
      "        \"Q129003\",\n",
      "        \"Q221646\",\n",
      "        \"Q1331514\",\n",
      "        \"Q38060\",\n",
      "        \"Q1028848\",\n",
      "        \"Q1524643\",\n",
      "        \"Q327\",\n",
      "        \"Q221611\",\n",
      "        \"Q179390\",\n",
      "        \"Q221631\",\n",
      "        \"Q701164\",\n",
      "        \"Q911972\",\n",
      "        \"Q546607\",\n",
      "        \"Q15479\",\n",
      "        \"Q653784\",\n",
      "        \"Q2455958\",\n",
      "        \"Q16394\",\n",
      "        \"Q184319\",\n",
      "        \"Q40898\",\n",
      "        \"Q270517\",\n",
      "        \"Q854122\",\n",
      "        \"Q212429\",\n",
      "        \"Q147796\",\n",
      "        \"Q2084927\",\n",
      "        \"Q2935621\",\n",
      "        \"Q2009420\",\n",
      "        \"Q208529\",\n",
      "        \"Q171424\",\n",
      "        \"Q49644\",\n",
      "        \"Q5501842\",\n",
      "        \"Q788606\",\n",
      "        \"Q154720\",\n",
      "        \"Q132568\",\n",
      "        \"Q1506615\",\n",
      "        \"Q7330388\",\n",
      "        \"Q172876\",\n",
      "        \"Q165271\",\n",
      "        \"Q22942003\",\n",
      "        \"Q23781101\",\n",
      "        \"Q235\",\n",
      "        \"Q18156370\",\n",
      "        \"Q215987\",\n",
      "        \"Q203645\",\n",
      "        \"Q12193\",\n",
      "        \"Q6454\",\n",
      "        \"Q28154421\",\n",
      "        \"Q42807\",\n",
      "        \"Q28403426\",\n",
      "        \"Q48314\",\n",
      "        \"Q5707495\",\n",
      "        \"Q1414378\"\n",
      "      ]\n",
      "    ]\n",
      "  },\n",
      "  \"prior_cand_score\": {\n",
      "    \"Q142\": 0.875,\n",
      "    \"Q28403426\": 0.45,\n",
      "    \"Q22942003\": 0.45,\n",
      "    \"Q18156370\": 0.45,\n",
      "    \"Q69829\": 0.259,\n",
      "    \"Q58202\": 0.256,\n",
      "    \"Q71084\": 0.25\n",
      "  },\n",
      "  \"latlon\": [\n",
      "    47.0,\n",
      "    2.0\n",
      "  ],\n",
      "  \"wkdt_class\": \"Q3624078\"\n",
      "}\n",
      "{\n",
      "  \"mention\": \"Albigeois\",\n",
      "  \"ner_score\": 1,\n",
      "  \"pos\": 47,\n",
      "  \"sent_idx\": 0,\n",
      "  \"end_pos\": 56,\n",
      "  \"tag\": \"B-LOC\",\n",
      "  \"sentence\": \"* ALBI, (G\\u00e9og.) ville de France, capitale de l'Albigeois, dans le haut Languedoc : elle est sur le Tarn. Long. 19. 49. lat. 43. 55. 44.\",\n",
      "  \"prediction\": \"Q132801\",\n",
      "  \"ed_score\": 0.005,\n",
      "  \"cross_cand_score\": {\n",
      "    \"Q132801\": 1.0\n",
      "  },\n",
      "  \"string_match_score\": {\n",
      "    \"Albigeois\": [\n",
      "      1.0,\n",
      "      [\n",
      "        \"Q132801\"\n",
      "      ]\n",
      "    ]\n",
      "  },\n",
      "  \"prior_cand_score\": {\n",
      "    \"Q132801\": 0.686\n",
      "  },\n",
      "  \"latlon\": [\n",
      "    43.928056,\n",
      "    2.145833\n",
      "  ],\n",
      "  \"wkdt_class\": \"Q484170\"\n",
      "}\n",
      "{\n",
      "  \"mention\": \"Tarn\",\n",
      "  \"ner_score\": 1,\n",
      "  \"pos\": 99,\n",
      "  \"sent_idx\": 0,\n",
      "  \"end_pos\": 103,\n",
      "  \"tag\": \"B-LOC\",\n",
      "  \"sentence\": \"* ALBI, (G\\u00e9og.) ville de France, capitale de l'Albigeois, dans le haut Languedoc : elle est sur le Tarn. Long. 19. 49. lat. 43. 55. 44.\",\n",
      "  \"prediction\": \"Q12772\",\n",
      "  \"ed_score\": 0.005,\n",
      "  \"cross_cand_score\": {\n",
      "    \"Q12772\": 0.354,\n",
      "    \"Q215653\": 0.326,\n",
      "    \"Q1538251\": 0.32\n",
      "  },\n",
      "  \"string_match_score\": {\n",
      "    \"Tarn\": [\n",
      "      1.0,\n",
      "      [\n",
      "        \"Q215653\",\n",
      "        \"Q12772\",\n",
      "        \"Q1538251\"\n",
      "      ]\n",
      "    ]\n",
      "  },\n",
      "  \"prior_cand_score\": {\n",
      "    \"Q12772\": 0.89,\n",
      "    \"Q215653\": 0.482,\n",
      "    \"Q1538251\": 0.246\n",
      "  },\n",
      "  \"latlon\": [\n",
      "    43.909722,\n",
      "    2.109167\n",
      "  ],\n",
      "  \"wkdt_class\": \"Q6465\"\n",
      "}\n",
      "{\n",
      "  \"mention\": \"Languedoc\",\n",
      "  \"ner_score\": 1,\n",
      "  \"pos\": 71,\n",
      "  \"sent_idx\": 0,\n",
      "  \"end_pos\": 80,\n",
      "  \"tag\": \"B-LOC\",\n",
      "  \"sentence\": \"* ALBI, (G\\u00e9og.) ville de France, capitale de l'Albigeois, dans le haut Languedoc : elle est sur le Tarn. Long. 19. 49. lat. 43. 55. 44.\",\n",
      "  \"prediction\": \"Q206221\",\n",
      "  \"ed_score\": 0.005,\n",
      "  \"cross_cand_score\": {\n",
      "    \"Q206221\": 0.354,\n",
      "    \"Q17005\": 0.329,\n",
      "    \"Q1886509\": 0.318\n",
      "  },\n",
      "  \"string_match_score\": {\n",
      "    \"Languedoc\": [\n",
      "      1.0,\n",
      "      [\n",
      "        \"Q206221\",\n",
      "        \"Q17005\",\n",
      "        \"Q1886509\"\n",
      "      ]\n",
      "    ]\n",
      "  },\n",
      "  \"prior_cand_score\": {\n",
      "    \"Q206221\": 0.894,\n",
      "    \"Q1886509\": 0.452,\n",
      "    \"Q17005\": 0.229\n",
      "  },\n",
      "  \"latlon\": [\n",
      "    43.666667,\n",
      "    3.166667\n",
      "  ],\n",
      "  \"wkdt_class\": \"Q572995\"\n",
      "}\n",
      "4.178822040557861\n"
     ]
    }
   ],
   "source": [
    "import time\n",
    "start = time.time()\n",
    "\n",
    "sentence = \"* ALBI, (Géog.) ville de France, capitale de l'Albigeois, dans le haut Languedoc : elle est sur le Tarn. Long. 19. 49. lat. 43. 55. 44.\"\n",
    "sentence.find('ALBI')\n",
    "resolved = geoparser.run_sentence(sentence, HEAD='ALBI', verbose=False)\n",
    "for r in resolved:\n",
    "    print(json.dumps(r, indent=2))\n",
    "\n",
    "print(time.time() - start)"
   ]
  },
  {
   "cell_type": "code",
   "execution_count": null,
   "metadata": {},
   "outputs": [],
   "source": [
    "import pandas as pd\n",
    "import WikidataObject as wdo\n",
    "\n",
    "sample2 = VILLESFR.copy(deep=True)\n",
    "verbose = False\n",
    "\n",
    "if 'resolved' not in sample2.columns:\n",
    "    sample2['resolved'] = None\n",
    "\n",
    "for i, row in sample2.iterrows():\n",
    "    resolved = geoparser.run_sentence(row['fullcontent'], HEAD=row['head'])\n",
    "\n",
    "    skyline = row['gold'] in resolved[0]['cross_cand_score'].keys()\n",
    "    best_pred = resolved[0]['prediction']\n",
    "\n",
    "    if best_pred[0] != 'Q':\n",
    "        acc10 = False\n",
    "    else:\n",
    "        wd_pred = wdo.WikidataObject(best_pred, coordinates=resolved[0]['latlon'])\n",
    "        acc10 = wd_pred._distance_to(row['gold']) <= 10\n",
    "\n",
    "    sample2.at[i, 'resolved'] = resolved[0]\n",
    "    sample2.at[i, 'skyline'] = skyline\n",
    "    sample2.at[i, 'bestPred'] = best_pred\n",
    "    sample2.at[i, 'acc10'] = acc10\n",
    "\n",
    "    if verbose:\n",
    "        print(f\"Head: {row['head']}\")\n",
    "        print(f\"Gold: {row['gold']}\")\n",
    "        print(f\"Prediction: {best_pred}\")\n",
    "        print(f\"Skyline: {skyline}\")\n",
    "        print(resolved[0]['cross_cand_score'])\n",
    "        print(f\"Accuracy 10: {acc10}\\n\")\n"
   ]
  },
  {
   "cell_type": "markdown",
   "metadata": {},
   "source": [
    "### perf"
   ]
  },
  {
   "cell_type": "code",
   "execution_count": null,
   "metadata": {},
   "outputs": [],
   "source": [
    "sample2.to_json('t_res_results_140424.json', orient='records', lines=True)"
   ]
  },
  {
   "cell_type": "code",
   "execution_count": 9,
   "metadata": {},
   "outputs": [],
   "source": [
    "sample2 = pd.read_json('t_res_deezy+rel_140424.json', orient='records', lines=True)   "
   ]
  },
  {
   "cell_type": "code",
   "execution_count": 10,
   "metadata": {},
   "outputs": [
    {
     "name": "stdout",
     "output_type": "stream",
     "text": [
      "True     0.617433\n",
      "False    0.382567\n",
      "Name: skyline, dtype: float64 \n",
      "\n",
      "False    0.553269\n",
      "True     0.446731\n",
      "Name: acc10, dtype: float64 \n",
      "\n"
     ]
    }
   ],
   "source": [
    "\n",
    "print(sample2.skyline.value_counts(normalize=True), '\\n')\n",
    "print(sample2.acc10.value_counts(normalize=True), '\\n')"
   ]
  },
  {
   "cell_type": "markdown",
   "metadata": {
    "jp-MarkdownHeadingCollapsed": true
   },
   "source": [
    "# Perfect match"
   ]
  },
  {
   "cell_type": "code",
   "execution_count": 5,
   "metadata": {},
   "outputs": [],
   "source": [
    "myranker = ranking.Ranker(\n",
    "    method=\"perfectmatch\",\n",
    "    resources_path=\"../resources/\",\n",
    ")"
   ]
  },
  {
   "cell_type": "code",
   "execution_count": 6,
   "metadata": {},
   "outputs": [],
   "source": [
    "mylinker = linking.Linker(\n",
    "    method=\"mostpopular\",\n",
    "    resources_path=\"../resources/\",\n",
    ")"
   ]
  },
  {
   "cell_type": "code",
   "execution_count": 7,
   "metadata": {},
   "outputs": [
    {
     "name": "stdout",
     "output_type": "stream",
     "text": [
      "*** Loading the ranker resources.\n",
      "*** Load linking resources.\n",
      "  > Loading mentions to wikidata mapping.\n",
      "  > Loading gazetteer.\n",
      "*** Linking resources loaded!\n",
      "\n"
     ]
    }
   ],
   "source": [
    "geoparser = geode_pipe.Pipeline(geodeNERpath=NER_path,\n",
    "                              myranker=myranker,\n",
    "                              mylinker=mylinker)"
   ]
  },
  {
   "cell_type": "code",
   "execution_count": 8,
   "metadata": {},
   "outputs": [
    {
     "name": "stdout",
     "output_type": "stream",
     "text": [
      "{\n",
      "  \"mention\": \"ALBI\",\n",
      "  \"ner_score\": 1,\n",
      "  \"pos\": 2,\n",
      "  \"sent_idx\": 0,\n",
      "  \"end_pos\": 5,\n",
      "  \"tag\": \"B-LOC\",\n",
      "  \"sentence\": \"* ALBI, (G\\u00e9og.) ville dans le haut Languedoc : elle est sur le Tarn. Long. 19. 49. lat. 43. 55. 44.\",\n",
      "  \"prediction\": \"Q132801\",\n",
      "  \"ed_score\": 0.921,\n",
      "  \"string_match_score\": {\n",
      "    \"Albi\": [\n",
      "      1.0,\n",
      "      [\n",
      "        \"Q94744\",\n",
      "        \"Q132801\",\n",
      "        \"Q951428\",\n",
      "        \"Q53749\",\n",
      "        \"Q284698\",\n",
      "        \"Q700379\"\n",
      "      ]\n",
      "    ]\n",
      "  },\n",
      "  \"prior_cand_score\": {},\n",
      "  \"cross_cand_score\": {\n",
      "    \"Q132801\": 0.921,\n",
      "    \"Q53749\": 0.036,\n",
      "    \"Q951428\": 0.028,\n",
      "    \"Q94744\": 0.005,\n",
      "    \"Q284698\": 0.005,\n",
      "    \"Q700379\": 0.005\n",
      "  },\n",
      "  \"latlon\": [\n",
      "    43.928056,\n",
      "    2.145833\n",
      "  ],\n",
      "  \"wkdt_class\": \"Q484170\"\n",
      "}\n",
      "{\n",
      "  \"mention\": \"Tarn\",\n",
      "  \"ner_score\": 1,\n",
      "  \"pos\": 63,\n",
      "  \"sent_idx\": 0,\n",
      "  \"end_pos\": 67,\n",
      "  \"tag\": \"B-LOC\",\n",
      "  \"sentence\": \"* ALBI, (G\\u00e9og.) ville dans le haut Languedoc : elle est sur le Tarn. Long. 19. 49. lat. 43. 55. 44.\",\n",
      "  \"prediction\": \"Q12772\",\n",
      "  \"ed_score\": 0.856,\n",
      "  \"string_match_score\": {\n",
      "    \"Tarn\": [\n",
      "      1.0,\n",
      "      [\n",
      "        \"Q215653\",\n",
      "        \"Q12772\",\n",
      "        \"Q1538251\"\n",
      "      ]\n",
      "    ]\n",
      "  },\n",
      "  \"prior_cand_score\": {},\n",
      "  \"cross_cand_score\": {\n",
      "    \"Q12772\": 0.856,\n",
      "    \"Q215653\": 0.141,\n",
      "    \"Q1538251\": 0.003\n",
      "  },\n",
      "  \"latlon\": [\n",
      "    43.909722,\n",
      "    2.109167\n",
      "  ],\n",
      "  \"wkdt_class\": \"Q6465\"\n",
      "}\n",
      "{\n",
      "  \"mention\": \"Languedoc\",\n",
      "  \"ner_score\": 1,\n",
      "  \"pos\": 35,\n",
      "  \"sent_idx\": 0,\n",
      "  \"end_pos\": 44,\n",
      "  \"tag\": \"B-LOC\",\n",
      "  \"sentence\": \"* ALBI, (G\\u00e9og.) ville dans le haut Languedoc : elle est sur le Tarn. Long. 19. 49. lat. 43. 55. 44.\",\n",
      "  \"prediction\": \"Q206221\",\n",
      "  \"ed_score\": 1.0,\n",
      "  \"string_match_score\": {\n",
      "    \"languedoc\": [\n",
      "      1.0,\n",
      "      [\n",
      "        \"Q206221\"\n",
      "      ]\n",
      "    ]\n",
      "  },\n",
      "  \"prior_cand_score\": {},\n",
      "  \"cross_cand_score\": {\n",
      "    \"Q206221\": 1.0\n",
      "  },\n",
      "  \"latlon\": [\n",
      "    43.666667,\n",
      "    3.166667\n",
      "  ],\n",
      "  \"wkdt_class\": \"Q572995\"\n",
      "}\n"
     ]
    }
   ],
   "source": [
    "sentence = \"* ALBI, (Géog.) ville dans le haut Languedoc : elle est sur le Tarn. Long. 19. 49. lat. 43. 55. 44.\"\n",
    "resolved = geoparser.run_sentence(sentence, HEAD='ALBI', verbose=False)\n",
    "for r in resolved:\n",
    "    print(json.dumps(r, indent=2))"
   ]
  },
  {
   "cell_type": "code",
   "execution_count": 16,
   "metadata": {},
   "outputs": [],
   "source": [
    "sample3 = VILLESFR.copy(deep=True)\n",
    "verbose = False\n",
    "\n",
    "if 'resolved' not in sample3.columns:\n",
    "    sample3['resolved'] = None\n",
    "\n",
    "for i, row in sample3.iterrows():\n",
    "    resolved = geoparser.run_sentence(row['fullcontent'], HEAD=row['head'])\n",
    "\n",
    "    skyline = row['gold'] in resolved[0]['cross_cand_score'].keys()\n",
    "    best_pred = resolved[0]['prediction']\n",
    "\n",
    "    if best_pred[0] != 'Q':\n",
    "        acc10 = False\n",
    "    else:\n",
    "        wd_pred = wdo.WikidataObject(best_pred, coordinates=resolved[0]['latlon'])\n",
    "        acc10 = wd_pred._distance_to(row['gold']) <= 10\n",
    "\n",
    "    sample3.at[i, 'resolved'] = resolved[0]\n",
    "    sample3.at[i, 'skyline'] = skyline\n",
    "    sample3.at[i, 'bestPred'] = best_pred\n",
    "    sample3.at[i, 'acc10'] = acc10\n",
    "\n",
    "    if verbose:\n",
    "        print(f\"Head: {row['head']}\")\n",
    "        print(f\"Gold: {row['gold']}\")\n",
    "        print(f\"Prediction: {best_pred}\")\n",
    "        print(f\"Skyline: {skyline}\")\n",
    "        print(resolved[0]['cross_cand_score'])\n",
    "        print(f\"Accuracy 10: {acc10}\\n\")\n"
   ]
  },
  {
   "cell_type": "code",
   "execution_count": 17,
   "metadata": {},
   "outputs": [],
   "source": [
    "sample3.to_json('t_res_perfect+mostpop_170424.json', orient='records', lines=True)"
   ]
  },
  {
   "cell_type": "markdown",
   "metadata": {},
   "source": [
    "# Partial match - containement / levenshtein"
   ]
  },
  {
   "cell_type": "code",
   "execution_count": 18,
   "metadata": {},
   "outputs": [],
   "source": [
    "myranker = ranking.Ranker(\n",
    "    method=\"levenshtein\",\n",
    "    resources_path=\"../resources/\",\n",
    ")"
   ]
  },
  {
   "cell_type": "code",
   "execution_count": 19,
   "metadata": {},
   "outputs": [],
   "source": [
    "mylinker = linking.Linker(\n",
    "    method=\"mostpopular\",\n",
    "    resources_path=\"../resources/\",\n",
    ")"
   ]
  },
  {
   "cell_type": "code",
   "execution_count": 20,
   "metadata": {},
   "outputs": [
    {
     "name": "stdout",
     "output_type": "stream",
     "text": [
      "*** Loading the ranker resources.\n",
      "INFO: Pandarallel will run on 10 workers.\n",
      "INFO: Pandarallel will use Memory file system to transfer data between the main process and workers.\n",
      "*** Load linking resources.\n",
      "  > Loading mentions to wikidata mapping.\n",
      "  > Loading gazetteer.\n",
      "*** Linking resources loaded!\n",
      "\n"
     ]
    }
   ],
   "source": [
    "geoparser = geode_pipe.Pipeline(geodeNERpath=NER_path,\n",
    "                              myranker=myranker,\n",
    "                              mylinker=mylinker)"
   ]
  },
  {
   "cell_type": "code",
   "execution_count": 21,
   "metadata": {
    "collapsed": true,
    "jupyter": {
     "outputs_hidden": true
    }
   },
   "outputs": [
    {
     "name": "stdout",
     "output_type": "stream",
     "text": [
      "{\n",
      "  \"mention\": \"ALBI\",\n",
      "  \"ner_score\": 1,\n",
      "  \"pos\": 2,\n",
      "  \"sent_idx\": 0,\n",
      "  \"end_pos\": 5,\n",
      "  \"tag\": \"B-LOC\",\n",
      "  \"sentence\": \"* ALBI, (G\\u00e9og.) capitale de l'Albigeois, dans le haut Languedoc : elle est sur le Tarn. Long. 19. 49. lat. 43. 55. 44.\",\n",
      "  \"prediction\": \"Q132801\",\n",
      "  \"ed_score\": 0.921,\n",
      "  \"string_match_score\": {\n",
      "    \"Albi\": [\n",
      "      1.0,\n",
      "      [\n",
      "        \"Q94744\",\n",
      "        \"Q132801\",\n",
      "        \"Q951428\",\n",
      "        \"Q53749\",\n",
      "        \"Q284698\",\n",
      "        \"Q700379\"\n",
      "      ]\n",
      "    ]\n",
      "  },\n",
      "  \"prior_cand_score\": {},\n",
      "  \"cross_cand_score\": {\n",
      "    \"Q132801\": 0.921,\n",
      "    \"Q53749\": 0.036,\n",
      "    \"Q951428\": 0.028,\n",
      "    \"Q94744\": 0.005,\n",
      "    \"Q284698\": 0.005,\n",
      "    \"Q700379\": 0.005\n",
      "  },\n",
      "  \"latlon\": [\n",
      "    43.928056,\n",
      "    2.145833\n",
      "  ],\n",
      "  \"wkdt_class\": \"Q484170\"\n",
      "}\n",
      "{\n",
      "  \"mention\": \"Albigeois\",\n",
      "  \"ner_score\": 1,\n",
      "  \"pos\": 30,\n",
      "  \"sent_idx\": 0,\n",
      "  \"end_pos\": 39,\n",
      "  \"tag\": \"B-LOC\",\n",
      "  \"sentence\": \"* ALBI, (G\\u00e9og.) capitale de l'Albigeois, dans le haut Languedoc : elle est sur le Tarn. Long. 19. 49. lat. 43. 55. 44.\",\n",
      "  \"prediction\": \"Q132801\",\n",
      "  \"ed_score\": 1.0,\n",
      "  \"string_match_score\": {\n",
      "    \"Albigeois\": [\n",
      "      1.0,\n",
      "      [\n",
      "        \"Q132801\"\n",
      "      ]\n",
      "    ]\n",
      "  },\n",
      "  \"prior_cand_score\": {},\n",
      "  \"cross_cand_score\": {\n",
      "    \"Q132801\": 1.0\n",
      "  },\n",
      "  \"latlon\": [\n",
      "    43.928056,\n",
      "    2.145833\n",
      "  ],\n",
      "  \"wkdt_class\": \"Q484170\"\n",
      "}\n",
      "{\n",
      "  \"mention\": \"Tarn\",\n",
      "  \"ner_score\": 1,\n",
      "  \"pos\": 82,\n",
      "  \"sent_idx\": 0,\n",
      "  \"end_pos\": 86,\n",
      "  \"tag\": \"B-LOC\",\n",
      "  \"sentence\": \"* ALBI, (G\\u00e9og.) capitale de l'Albigeois, dans le haut Languedoc : elle est sur le Tarn. Long. 19. 49. lat. 43. 55. 44.\",\n",
      "  \"prediction\": \"Q12772\",\n",
      "  \"ed_score\": 0.856,\n",
      "  \"string_match_score\": {\n",
      "    \"Tarn\": [\n",
      "      1.0,\n",
      "      [\n",
      "        \"Q215653\",\n",
      "        \"Q12772\",\n",
      "        \"Q1538251\"\n",
      "      ]\n",
      "    ]\n",
      "  },\n",
      "  \"prior_cand_score\": {},\n",
      "  \"cross_cand_score\": {\n",
      "    \"Q12772\": 0.856,\n",
      "    \"Q215653\": 0.141,\n",
      "    \"Q1538251\": 0.003\n",
      "  },\n",
      "  \"latlon\": [\n",
      "    43.909722,\n",
      "    2.109167\n",
      "  ],\n",
      "  \"wkdt_class\": \"Q6465\"\n",
      "}\n",
      "{\n",
      "  \"mention\": \"Languedoc\",\n",
      "  \"ner_score\": 1,\n",
      "  \"pos\": 54,\n",
      "  \"sent_idx\": 0,\n",
      "  \"end_pos\": 63,\n",
      "  \"tag\": \"B-LOC\",\n",
      "  \"sentence\": \"* ALBI, (G\\u00e9og.) capitale de l'Albigeois, dans le haut Languedoc : elle est sur le Tarn. Long. 19. 49. lat. 43. 55. 44.\",\n",
      "  \"prediction\": \"Q206221\",\n",
      "  \"ed_score\": 1.0,\n",
      "  \"string_match_score\": {\n",
      "    \"languedoc\": [\n",
      "      1.0,\n",
      "      [\n",
      "        \"Q206221\"\n",
      "      ]\n",
      "    ]\n",
      "  },\n",
      "  \"prior_cand_score\": {},\n",
      "  \"cross_cand_score\": {\n",
      "    \"Q206221\": 1.0\n",
      "  },\n",
      "  \"latlon\": [\n",
      "    43.666667,\n",
      "    3.166667\n",
      "  ],\n",
      "  \"wkdt_class\": \"Q572995\"\n",
      "}\n",
      "0.3583407402038574\n"
     ]
    }
   ],
   "source": [
    "import time\n",
    "start = time.time()\n",
    "\n",
    "sentence = \"* ALBI, (Géog.) capitale de l'Albigeois, dans le haut Languedoc : elle est sur le Tarn. Long. 19. 49. lat. 43. 55. 44.\"\n",
    "resolved = geoparser.run_sentence(sentence, HEAD='ALBI', verbose=False)\n",
    "for r in resolved:\n",
    "    print(json.dumps(r, indent=2))\n",
    "\n",
    "print(time.time() - start)"
   ]
  },
  {
   "cell_type": "code",
   "execution_count": 18,
   "metadata": {
    "collapsed": true,
    "jupyter": {
     "outputs_hidden": true
    }
   },
   "outputs": [
    {
     "name": "stdout",
     "output_type": "stream",
     "text": [
      "Head: ROQUEMADOUR\n",
      "Gold: Q382628\n",
      "Prediction: Q7271216\n",
      "Skyline: False\n",
      "{'Q7271216': 0.605, 'Q969251': 0.395}\n",
      "Accuracy 10: False\n",
      "\n",
      "Head: LISIEUX\n",
      "Gold: Q188743\n",
      "Prediction: Q188743\n",
      "Skyline: True\n",
      "{'Q188743': 0.9, 'Q927533': 0.037, 'Q1332597': 0.033, 'Q701531': 0.012, 'Q14874972': 0.012, 'Q810098': 0.004}\n",
      "Accuracy 10: True\n",
      "\n",
      "Head: NEUVILLER\n",
      "Gold: Q21355\n",
      "Prediction: Q195340\n",
      "Skyline: False\n",
      "{'Q195340': 1.0}\n",
      "Accuracy 10: False\n",
      "\n",
      "Head: CHAVANNES\n",
      "Gold: Q845009\n",
      "Prediction: Q740710\n",
      "Skyline: False\n",
      "{'Q740710': 0.5, 'Q455485': 0.5}\n",
      "Accuracy 10: False\n",
      "\n",
      "Head: MONTEREAU-FAUT-YONNE\n",
      "Gold: Q242191\n",
      "Prediction: Q242191\n",
      "Skyline: True\n",
      "{'Q242191': 0.603, 'Q1470564': 0.247, 'Q976655': 0.11, 'Q2117756': 0.041}\n",
      "Accuracy 10: True\n",
      "\n",
      "Head: COURMONTERAL\n",
      "Gold: Q196035\n",
      "Prediction: Q5740928\n",
      "Skyline: False\n",
      "{'Q5740928': 1.0}\n",
      "Accuracy 10: False\n",
      "\n",
      "Head: BOURGES\n",
      "Gold: Q132404\n",
      "Prediction: Q132404\n",
      "Skyline: True\n",
      "{'Q132404': 0.986, 'Q207985': 0.009, 'Q660934': 0.002, 'Q700723': 0.002, 'Q60791320': 0.001}\n",
      "Accuracy 10: True\n",
      "\n",
      "Head: Treves\n",
      "Gold: Q675749\n",
      "Prediction: Q3138\n",
      "Skyline: False\n",
      "{'Q3138': 0.946, 'Q244477': 0.054}\n",
      "Accuracy 10: False\n",
      "\n",
      "Head: SAVERDUN\n",
      "Gold: Q693973\n",
      "Prediction: Q693973\n",
      "Skyline: True\n",
      "{'Q693973': 0.97, 'Q3097700': 0.03}\n",
      "Accuracy 10: True\n",
      "\n",
      "Head: Chateau-Meillant\n",
      "Gold: Q818273\n",
      "Prediction: Q818273\n",
      "Skyline: True\n",
      "{'Q818273': 1.0}\n",
      "Accuracy 10: True\n",
      "\n"
     ]
    }
   ],
   "source": [
    "sample4 = VILLESFR.sample(10) #.copy(deep=True)\n",
    "verbose = True\n",
    "\n",
    "if 'resolved' not in sample4.columns:\n",
    "    sample4['resolved'] = None\n",
    "\n",
    "for i, row in sample4.iterrows():\n",
    "    resolved = geoparser.run_sentence(row['fullcontent'], HEAD=row['head'])\n",
    "\n",
    "    skyline = row['gold'] in resolved[0]['cross_cand_score'].keys()\n",
    "    best_pred = resolved[0]['prediction']\n",
    "\n",
    "    if best_pred[0] != 'Q':\n",
    "        acc10 = False\n",
    "    else:\n",
    "        wd_pred = wdo.WikidataObject(best_pred, coordinates=resolved[0]['latlon'])\n",
    "        acc10 = wd_pred._distance_to(row['gold']) <= 10\n",
    "\n",
    "    sample4.at[i, 'resolved'] = resolved[0]\n",
    "    sample4.at[i, 'skyline'] = skyline\n",
    "    sample4.at[i, 'bestPred'] = best_pred\n",
    "    sample4.at[i, 'acc10'] = acc10\n",
    "\n",
    "    if verbose:\n",
    "        print(f\"Head: {row['head']}\")\n",
    "        print(f\"Gold: {row['gold']}\")\n",
    "        print(f\"Prediction: {best_pred}\")\n",
    "        print(f\"Skyline: {skyline}\")\n",
    "        print(resolved[0]['cross_cand_score'])\n",
    "        print(f\"Accuracy 10: {acc10}\\n\")\n"
   ]
  },
  {
   "cell_type": "code",
   "execution_count": null,
   "metadata": {},
   "outputs": [],
   "source": [
    "sample4.to_json('t_res_damlev+mostpop_140424.json', orient='records', lines=True)"
   ]
  },
  {
   "cell_type": "markdown",
   "metadata": {},
   "source": [
    "# Comparaison"
   ]
  },
  {
   "cell_type": "code",
   "execution_count": 25,
   "metadata": {},
   "outputs": [],
   "source": [
    "perfect_mostpop = pd.read_json('t_res_perfect+mostpop_170424.json', orient='records', lines=True)\n",
    "perfect_mostpop = perfect_mostpop[perfect_mostpop.index.isin(subVILLESFR.index)]"
   ]
  },
  {
   "cell_type": "code",
   "execution_count": 26,
   "metadata": {},
   "outputs": [
    {
     "data": {
      "text/plain": [
       "count    790.000000\n",
       "mean       1.782278\n",
       "std        2.168022\n",
       "min        0.000000\n",
       "25%        0.000000\n",
       "50%        1.000000\n",
       "75%        3.000000\n",
       "max        7.000000\n",
       "Name: resolved, dtype: float64"
      ]
     },
     "execution_count": 26,
     "metadata": {},
     "output_type": "execute_result"
    }
   ],
   "source": [
    "perfect_mostpop.resolved.apply(lambda x: len(x['cross_cand_score'])).describe()"
   ]
  },
  {
   "cell_type": "code",
   "execution_count": 27,
   "metadata": {},
   "outputs": [
    {
     "name": "stdout",
     "output_type": "stream",
     "text": [
      "Skyline : \n",
      " True     0.532911\n",
      "False    0.467089\n",
      "Name: skyline, dtype: float64 \n",
      "\n",
      "Acc10 : \n",
      " False    0.521519\n",
      "True     0.478481\n",
      "Name: acc10, dtype: float64 \n",
      "\n"
     ]
    }
   ],
   "source": [
    "\n",
    "print('Skyline : \\n', perfect_mostpop.skyline.value_counts(normalize=True), '\\n')\n",
    "print('Acc10 : \\n', perfect_mostpop.acc10.value_counts(normalize=True), '\\n')"
   ]
  },
  {
   "cell_type": "code",
   "execution_count": 11,
   "metadata": {},
   "outputs": [
    {
     "name": "stdout",
     "output_type": "stream",
     "text": [
      "(826, 8) (826, 8) (826, 8)\n"
     ]
    }
   ],
   "source": [
    "deezy_rel = pd.read_json('t_res_deezy+rel_140424.json', orient='records', lines=True)\n",
    "perfect_mostpop = pd.read_json('t_res_perfect+mostpop_140424.json', orient='records', lines=True)\n",
    "partial_mostpop = pd.read_json('t_res_partial+mostpop_140424.json', orient='records', lines=True)\n",
    "print(deezy_rel.shape, perfect_mostpop.shape, partial_mostpop.shape)"
   ]
  },
  {
   "cell_type": "code",
   "execution_count": 12,
   "metadata": {},
   "outputs": [
    {
     "name": "stdout",
     "output_type": "stream",
     "text": [
      "(790, 8) (790, 8) (790, 8)\n"
     ]
    }
   ],
   "source": [
    "# keep only indexes from subVILLESFR\n",
    "deezy_rel = deezy_rel[deezy_rel.index.isin(subVILLESFR.index)]\n",
    "perfect_mostpop = perfect_mostpop[perfect_mostpop.index.isin(subVILLESFR.index)]\n",
    "partial_mostpop = partial_mostpop[partial_mostpop.index.isin(subVILLESFR.index)]\n",
    "print(deezy_rel.shape, perfect_mostpop.shape, partial_mostpop.shape)"
   ]
  },
  {
   "cell_type": "code",
   "execution_count": 22,
   "metadata": {},
   "outputs": [
    {
     "data": {
      "text/plain": [
       "count    790.000000\n",
       "mean       0.307595\n",
       "std        1.202160\n",
       "min        0.000000\n",
       "25%        0.000000\n",
       "50%        0.000000\n",
       "75%        0.000000\n",
       "max        7.000000\n",
       "Name: resolved, dtype: float64"
      ]
     },
     "execution_count": 22,
     "metadata": {},
     "output_type": "execute_result"
    }
   ],
   "source": [
    "perfect_mostpop.resolved.apply(lambda x: len(x['cross_cand_score'])).describe()"
   ]
  },
  {
   "cell_type": "code",
   "execution_count": 13,
   "metadata": {},
   "outputs": [
    {
     "name": "stdout",
     "output_type": "stream",
     "text": [
      "Skyline : \n",
      " False    0.935443\n",
      "True     0.064557\n",
      "Name: skyline, dtype: float64 \n",
      "\n",
      "Acc10 : \n",
      " False    0.944304\n",
      "True     0.055696\n",
      "Name: acc10, dtype: float64 \n",
      "\n"
     ]
    }
   ],
   "source": []
  },
  {
   "cell_type": "code",
   "execution_count": 21,
   "metadata": {},
   "outputs": [
    {
     "data": {
      "text/plain": [
       "count    790.000000\n",
       "mean       3.051899\n",
       "std        2.183842\n",
       "min        1.000000\n",
       "25%        1.000000\n",
       "50%        2.000000\n",
       "75%        4.000000\n",
       "max        7.000000\n",
       "Name: resolved, dtype: float64"
      ]
     },
     "execution_count": 21,
     "metadata": {},
     "output_type": "execute_result"
    }
   ],
   "source": [
    "partial_mostpop.resolved.apply(lambda x: len(x['cross_cand_score'])).describe()"
   ]
  },
  {
   "cell_type": "code",
   "execution_count": 14,
   "metadata": {},
   "outputs": [
    {
     "name": "stdout",
     "output_type": "stream",
     "text": [
      "Skyline : \n",
      " True     0.621519\n",
      "False    0.378481\n",
      "Name: skyline, dtype: float64 \n",
      "\n",
      "Acc10 : \n",
      " True     0.556962\n",
      "False    0.443038\n",
      "Name: acc10, dtype: float64 \n",
      "\n"
     ]
    }
   ],
   "source": [
    "print('Skyline : \\n', partial_mostpop.skyline.value_counts(normalize=True), '\\n')\n",
    "print('Acc10 : \\n', partial_mostpop.acc10.value_counts(normalize=True), '\\n')"
   ]
  },
  {
   "cell_type": "code",
   "execution_count": 20,
   "metadata": {},
   "outputs": [
    {
     "data": {
      "text/plain": [
       "count    790.000000\n",
       "mean       5.808861\n",
       "std        2.132534\n",
       "min        0.000000\n",
       "25%        6.000000\n",
       "50%        7.000000\n",
       "75%        7.000000\n",
       "max        7.000000\n",
       "Name: resolved, dtype: float64"
      ]
     },
     "execution_count": 20,
     "metadata": {},
     "output_type": "execute_result"
    }
   ],
   "source": [
    "deezy_rel.resolved.apply(lambda x: len(x['cross_cand_score'])).describe()"
   ]
  },
  {
   "cell_type": "code",
   "execution_count": 15,
   "metadata": {},
   "outputs": [
    {
     "name": "stdout",
     "output_type": "stream",
     "text": [
      "Skyline : \n",
      " True     0.64557\n",
      "False    0.35443\n",
      "Name: skyline, dtype: float64 \n",
      "\n",
      "Acc10 : \n",
      " False    0.54557\n",
      "True     0.45443\n",
      "Name: acc10, dtype: float64 \n",
      "\n"
     ]
    }
   ],
   "source": [
    "print('Skyline : \\n', deezy_rel.skyline.value_counts(normalize=True), '\\n')\n",
    "print('Acc10 : \\n', deezy_rel.acc10.value_counts(normalize=True), '\\n')"
   ]
  }
 ],
 "metadata": {
  "kernelspec": {
   "display_name": "tres-turing",
   "language": "python",
   "name": "tres-turing"
  },
  "language_info": {
   "codemirror_mode": {
    "name": "ipython",
    "version": 3
   },
   "file_extension": ".py",
   "mimetype": "text/x-python",
   "name": "python",
   "nbconvert_exporter": "python",
   "pygments_lexer": "ipython3",
   "version": "3.9.7"
  }
 },
 "nbformat": 4,
 "nbformat_minor": 4
}
