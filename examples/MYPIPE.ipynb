{
 "cells": [
  {
   "cell_type": "markdown",
   "metadata": {},
   "source": [
    "# Starting"
   ]
  },
  {
   "cell_type": "code",
   "execution_count": 1,
   "metadata": {},
   "outputs": [
    {
     "name": "stdout",
     "output_type": "stream",
     "text": [
      "INFO: Pandarallel will run on 8 workers.\n",
      "INFO: Pandarallel will use Memory file system to transfer data between the main process and workers.\n"
     ]
    }
   ],
   "source": [
    "import os\n",
    "import sys\n",
    "import sqlite3\n",
    "from pathlib import Path\n",
    "import json\n",
    "\n",
    "import pandas as pd\n",
    "import WikidataObject as wdo\n",
    "\n",
    "from t_res.geoparser import geode_pipe,ranking,linking\n",
    "path = '/home/antoine/Documents/GitHub/T-Res/'\n",
    "NER_path = path + 'resources/fr_spacy_custom_spancat_edda'"
   ]
  },
  {
   "cell_type": "markdown",
   "metadata": {},
   "source": [
    "# Import VILLESFR"
   ]
  },
  {
   "cell_type": "code",
   "execution_count": 6,
   "metadata": {},
   "outputs": [],
   "source": [
    "filepath = 'VILLESFR.json'\n",
    "VILLESFR = pd.read_json(filepath, orient='records', lines=True)"
   ]
  },
  {
   "cell_type": "markdown",
   "metadata": {},
   "source": [
    " Quelle proportion des QIds \"gold\" de VILLESFR retrouve-t-on dans l'index utilisé par T-RES ? "
   ]
  },
  {
   "cell_type": "code",
   "execution_count": 7,
   "metadata": {},
   "outputs": [
    {
     "name": "stdout",
     "output_type": "stream",
     "text": [
      "['RETHEL' 'BRIGNOLES' 'AUTUN' 'Brie-Comte-Braine' 'Chateau-Salins' 'CONTY'\n",
      " 'VOUGLE' 'BARBONNE' 'NIONS' 'SORGUE' 'NEUFCHATEL en Bray'\n",
      " \"Chateau-d'Oleron\" 'VILLEPINTE' 'ANGLURE' 'Dun-le-Roi']\n"
     ]
    }
   ],
   "source": [
    "print(VILLESFR.sample(15)['head'].values[:])"
   ]
  },
  {
   "cell_type": "code",
   "execution_count": 8,
   "metadata": {},
   "outputs": [
    {
     "name": "stdout",
     "output_type": "stream",
     "text": [
      "*** Loading the ranker resources.\n"
     ]
    }
   ],
   "source": [
    "def load_resources(method=\"mostpopular\",\n",
    "                   resources_path=\"../resources/\"\n",
    "                   ) :\n",
    "\n",
    "    print(\"*** Loading the ranker resources.\")\n",
    "\n",
    "    # Load files\n",
    "    files = {\n",
    "        \"mentions_to_wikidata\": os.path.join(\n",
    "            resources_path, \"wikidata/mentions_to_wikidata_normalized.json\"\n",
    "        ),\n",
    "        \"wikidata_to_mentions\": os.path.join(\n",
    "            resources_path, \"wikidata/wikidata_to_mentions_normalized.json\"\n",
    "        ),\n",
    "    }\n",
    "\n",
    "    with open(files[\"mentions_to_wikidata\"], \"r\") as f:\n",
    "        mentions_to_wikidata = json.load(f)\n",
    "\n",
    "    with open(files[\"wikidata_to_mentions\"], \"r\") as f:\n",
    "        wikidata_to_mentions = json.load(f)\n",
    "\n",
    "    # Filter mentions to remove noise:\n",
    "    wikidata_to_mentions_filtered = dict()\n",
    "    mentions_to_wikidata_filtered = dict()\n",
    "    for wk in wikidata_to_mentions:\n",
    "        wikipedia_mentions = wikidata_to_mentions.get(wk)\n",
    "        wikipedia_mentions_stripped = dict(\n",
    "            [\n",
    "                (x, wikipedia_mentions[x])\n",
    "                for x in wikipedia_mentions\n",
    "                if not \", \" in x and not \" (\" in x\n",
    "            ]\n",
    "        )\n",
    "\n",
    "        if wikipedia_mentions_stripped:\n",
    "            wikipedia_mentions = wikipedia_mentions_stripped\n",
    "\n",
    "        wikidata_to_mentions_filtered[wk] = dict(\n",
    "            [(x, wikipedia_mentions[x]) for x in wikipedia_mentions]\n",
    "        )\n",
    "\n",
    "        for m in wikidata_to_mentions_filtered[wk]:\n",
    "            if m in mentions_to_wikidata_filtered:\n",
    "                mentions_to_wikidata_filtered[m][\n",
    "                    wk\n",
    "                ] = wikidata_to_mentions_filtered[wk][m]\n",
    "            else:\n",
    "                mentions_to_wikidata_filtered[m] = {\n",
    "                    wk: wikidata_to_mentions_filtered[wk][m]\n",
    "                }\n",
    "\n",
    "    mentions_to_wikidata = mentions_to_wikidata_filtered\n",
    "    wikidata_to_mentions = wikidata_to_mentions_filtered\n",
    "\n",
    "    del mentions_to_wikidata_filtered\n",
    "    del wikidata_to_mentions_filtered\n",
    "\n",
    "    # Parallelize if ranking method is one of the following:\n",
    "    if method in [\"partialmatch\", \"levenshtein\"]:\n",
    "        pandarallel.initialize(nb_workers=10)\n",
    "        os.environ[\"TOKENIZERS_PARALLELISM\"] = \"true\"\n",
    "\n",
    "    return mentions_to_wikidata, wikidata_to_mentions\n",
    "\n",
    "mentions_to_wikidata, wikidata_to_mentions = load_resources()"
   ]
  },
  {
   "cell_type": "code",
   "execution_count": 9,
   "metadata": {},
   "outputs": [
    {
     "data": {
      "text/plain": [
       "36"
      ]
     },
     "execution_count": 9,
     "metadata": {},
     "output_type": "execute_result"
    }
   ],
   "source": [
    "df = VILLESFR.copy(deep=True)\n",
    "df['related_mentions'] = None\n",
    "\n",
    "for idx,row in df.iterrows():\n",
    "    related_mentions = []\n",
    "    # check if wikidata_to_mentions.get(row['gold']) doesn't yeld a keyerror :\n",
    "    if wikidata_to_mentions.get(row['gold']) is None:\n",
    "        df.at[idx,'related_mentions'] = None\n",
    "        #print(row['head'])\n",
    "        #print(WDO.WikidataObject(row['gold']))\n",
    "        continue\n",
    "    else:\n",
    "        related_mentions = wikidata_to_mentions.get(row['gold'])\n",
    "        #print(row['head'])\n",
    "        #print(related_mentions)\n",
    "        df.at[idx,'related_mentions'] = related_mentions\n",
    "\n",
    "#count of None in related_mentions\n",
    "df['related_mentions'].isnull().sum()\n",
    "        "
   ]
  },
  {
   "cell_type": "code",
   "execution_count": 10,
   "metadata": {},
   "outputs": [],
   "source": [
    "# Saint-Étienne-de-Carlat\n",
    "mentions_to_wikidata.get('Saint-Étienne-de-Carlat')"
   ]
  },
  {
   "cell_type": "code",
   "execution_count": 11,
   "metadata": {},
   "outputs": [],
   "source": [
    "wikidata_to_mentions.get('Q270192')"
   ]
  },
  {
   "cell_type": "markdown",
   "metadata": {},
   "source": [
    "> 36 ressources de Wikidata ne sont pas présentes dans l'index ! simplement parce qu'elles n'ont pas de page wikipedia en anglais et donc leur ressource Wikidata n'est pas consultée"
   ]
  },
  {
   "cell_type": "code",
   "execution_count": 12,
   "metadata": {},
   "outputs": [
    {
     "data": {
      "text/plain": [
       "(790, 5)"
      ]
     },
     "execution_count": 12,
     "metadata": {},
     "output_type": "execute_result"
    }
   ],
   "source": [
    "subVILLESFR = df[df['related_mentions'].notnull()]\n",
    "subVILLESFR.shape"
   ]
  },
  {
   "attachments": {},
   "cell_type": "markdown",
   "metadata": {},
   "source": [
    "# DeezyMatch + REL"
   ]
  },
  {
   "cell_type": "code",
   "execution_count": 2,
   "metadata": {},
   "outputs": [],
   "source": [
    "# --------------------------------------\n",
    "# Instantiate the ranker:\n",
    "myranker = ranking.Ranker(\n",
    "    method=\"deezymatch\",\n",
    "    resources_path= path + \"resources/\",\n",
    "    strvar_parameters={\"overwrite_dataset\": False,},\n",
    "    deezy_parameters={\n",
    "        # Paths and filenames of DeezyMatch models and data:\n",
    "        \"dm_path\": str(Path( path + \"resources/deezymatch/\").resolve()),\n",
    "        \"dm_cands\": \"wkdtalts\",\n",
    "        \"dm_model\": \"w2v_ocr\",\n",
    "        \"dm_output\": \"deezymatch_on_the_fly\",\n",
    "        # Ranking measures:\n",
    "        \"ranking_metric\": \"faiss\",\n",
    "        \"selection_threshold\": 50,\n",
    "        \"num_candidates\": 10,\n",
    "        \"verbose\": False,\n",
    "        # DeezyMatch training:\n",
    "        \"overwrite_training\": False,\n",
    "        \"do_test\": False,\n",
    "    },\n",
    ")\n",
    "\n",
    "# --------------------------------------\n",
    "# Instantiate the Linker:\n",
    "with sqlite3.connect( path + \"resources/rel_db/embeddings_database.db\") as conn:\n",
    "    cursor = conn.cursor()\n",
    "    mylinker = linking.Linker(\n",
    "        method=\"reldisamb\",\n",
    "        resources_path= path + \"resources/\",\n",
    "        rel_params={\n",
    "            \"model_path\": path + \"resources/models/disambiguation/\",\n",
    "            \"data_path\":  path + \"experiments/outputs/data/lwm/\",\n",
    "            \"training_split\": \"originalsplit\",\n",
    "            \"db_embeddings\": cursor,\n",
    "            \"with_publication\": False,\n",
    "            \"without_microtoponyms\": True,\n",
    "            \"do_test\": False,\n",
    "            \"default_publname\": \"\",\n",
    "            \"default_publwqid\": \"\",\n",
    "        },\n",
    "        overwrite_training=False,\n",
    "    )"
   ]
  },
  {
   "cell_type": "code",
   "execution_count": 3,
   "metadata": {},
   "outputs": [
    {
     "name": "stdout",
     "output_type": "stream",
     "text": [
      "*** Loading the ranker resources.\n",
      "The DeezyMatch model is already trained!\n",
      "*** Load linking resources.\n",
      "  > Loading mentions to wikidata mapping.\n",
      "  > Loading gazetteer.\n",
      "*** Linking resources loaded!\n",
      "\n",
      "Model path: /home/antoine/Documents/GitHub/T-Res/resources/models/disambiguation/deezymatch+10+50_originalsplit+wmtops/model eval\n",
      "Loading model from given path: /home/antoine/Documents/GitHub/T-Res/resources/models/disambiguation/deezymatch+10+50_originalsplit+wmtops/model\n",
      "{'mode': 'eval', 'model_path': '/home/antoine/Documents/GitHub/T-Res/resources/models/disambiguation/deezymatch+10+50_originalsplit+wmtops/model', 'prerank_ctx_window': 50, 'keep_p_e_m': 4, 'keep_ctx_ent': 3, 'ctx_window': 100, 'tok_top_n': 25, 'mulrel_type': 'ment-norm', 'n_rels': 3, 'hid_dims': 100, 'emb_dims': 300, 'snd_local_ctx_window': 6, 'dropout_rate': 0.3, 'n_epochs': 1000, 'dev_f1_change_lr': 0.915, 'n_not_inc': 10, 'eval_after_n_epochs': 5, 'learning_rate': 0.0001, 'margin': 0.01, 'df': 0.5, 'n_loops': 10, 'n_cands_before_rank': 30, 'first_head_uniforn': False, 'use_pad_ent': True, 'use_local': True, 'use_local_only': False, 'oracle': False}\n"
     ]
    }
   ],
   "source": [
    "geoparser = geode_pipe.Pipeline(geodeNERpath=NER_path,\n",
    "                              myranker=myranker,\n",
    "                              mylinker=mylinker)"
   ]
  },
  {
   "cell_type": "code",
   "execution_count": 7,
   "metadata": {},
   "outputs": [
    {
     "name": "stdout",
     "output_type": "stream",
     "text": [
      "{\n",
      "  \"mention\": \"ALBI\",\n",
      "  \"ner_score\": 1,\n",
      "  \"pos\": 2,\n",
      "  \"sent_idx\": 0,\n",
      "  \"end_pos\": 5,\n",
      "  \"tag\": \"B-LOC\",\n",
      "  \"sentence\": \"* ALBI, (G\\u00e9og.) ville de France, capitale de l'Albigeois, dans le haut Languedoc : elle est sur le Tarn. Long. 19. 49. lat. 43. 55. 44.\",\n",
      "  \"prediction\": \"Q132801\",\n",
      "  \"ed_score\": 0.006,\n",
      "  \"cross_cand_score\": {\n",
      "    \"Q132801\": 0.181,\n",
      "    \"Q700379\": 0.168,\n",
      "    \"Q53749\": 0.164,\n",
      "    \"Q951428\": 0.163,\n",
      "    \"Q284698\": 0.162,\n",
      "    \"Q94744\": 0.162\n",
      "  },\n",
      "  \"string_match_score\": {\n",
      "    \"Albi\": [\n",
      "      1.0,\n",
      "      [\n",
      "        \"Q94744\",\n",
      "        \"Q132801\",\n",
      "        \"Q951428\",\n",
      "        \"Q53749\",\n",
      "        \"Q284698\",\n",
      "        \"Q700379\"\n",
      "      ]\n",
      "    ]\n",
      "  },\n",
      "  \"prior_cand_score\": {\n",
      "    \"Q132801\": 0.882,\n",
      "    \"Q53749\": 0.467,\n",
      "    \"Q951428\": 0.324,\n",
      "    \"Q700379\": 0.317,\n",
      "    \"Q284698\": 0.265,\n",
      "    \"Q94744\": 0.244\n",
      "  },\n",
      "  \"latlon\": [\n",
      "    43.928056,\n",
      "    2.145833\n",
      "  ],\n",
      "  \"wkdt_class\": \"Q484170\"\n",
      "}\n",
      "{\n",
      "  \"mention\": \"France\",\n",
      "  \"ner_score\": 1,\n",
      "  \"pos\": 25,\n",
      "  \"sent_idx\": 0,\n",
      "  \"end_pos\": 31,\n",
      "  \"tag\": \"B-LOC\",\n",
      "  \"sentence\": \"* ALBI, (G\\u00e9og.) ville de France, capitale de l'Albigeois, dans le haut Languedoc : elle est sur le Tarn. Long. 19. 49. lat. 43. 55. 44.\",\n",
      "  \"prediction\": \"Q142\",\n",
      "  \"ed_score\": 0.005,\n",
      "  \"cross_cand_score\": {\n",
      "    \"Q142\": 1.0\n",
      "  },\n",
      "  \"string_match_score\": {\n",
      "    \"france\": [\n",
      "      1.0,\n",
      "      [\n",
      "        \"Q142\"\n",
      "      ]\n",
      "    ]\n",
      "  },\n",
      "  \"prior_cand_score\": {\n",
      "    \"Q142\": 0.675\n",
      "  },\n",
      "  \"latlon\": [\n",
      "    47.0,\n",
      "    2.0\n",
      "  ],\n",
      "  \"wkdt_class\": \"Q3624078\"\n",
      "}\n",
      "{\n",
      "  \"mention\": \"Albigeois\",\n",
      "  \"ner_score\": 1,\n",
      "  \"pos\": 47,\n",
      "  \"sent_idx\": 0,\n",
      "  \"end_pos\": 56,\n",
      "  \"tag\": \"B-LOC\",\n",
      "  \"sentence\": \"* ALBI, (G\\u00e9og.) ville de France, capitale de l'Albigeois, dans le haut Languedoc : elle est sur le Tarn. Long. 19. 49. lat. 43. 55. 44.\",\n",
      "  \"prediction\": \"Q132801\",\n",
      "  \"ed_score\": 0.005,\n",
      "  \"cross_cand_score\": {\n",
      "    \"Q132801\": 1.0\n",
      "  },\n",
      "  \"string_match_score\": {\n",
      "    \"Albigeois\": [\n",
      "      1.0,\n",
      "      [\n",
      "        \"Q132801\"\n",
      "      ]\n",
      "    ]\n",
      "  },\n",
      "  \"prior_cand_score\": {\n",
      "    \"Q132801\": 0.686\n",
      "  },\n",
      "  \"latlon\": [\n",
      "    43.928056,\n",
      "    2.145833\n",
      "  ],\n",
      "  \"wkdt_class\": \"Q484170\"\n",
      "}\n",
      "{\n",
      "  \"mention\": \"Tarn\",\n",
      "  \"ner_score\": 1,\n",
      "  \"pos\": 99,\n",
      "  \"sent_idx\": 0,\n",
      "  \"end_pos\": 103,\n",
      "  \"tag\": \"B-LOC\",\n",
      "  \"sentence\": \"* ALBI, (G\\u00e9og.) ville de France, capitale de l'Albigeois, dans le haut Languedoc : elle est sur le Tarn. Long. 19. 49. lat. 43. 55. 44.\",\n",
      "  \"prediction\": \"Q12772\",\n",
      "  \"ed_score\": 0.005,\n",
      "  \"cross_cand_score\": {\n",
      "    \"Q12772\": 0.354,\n",
      "    \"Q215653\": 0.326,\n",
      "    \"Q1538251\": 0.32\n",
      "  },\n",
      "  \"string_match_score\": {\n",
      "    \"Tarn\": [\n",
      "      1.0,\n",
      "      [\n",
      "        \"Q215653\",\n",
      "        \"Q12772\",\n",
      "        \"Q1538251\"\n",
      "      ]\n",
      "    ]\n",
      "  },\n",
      "  \"prior_cand_score\": {\n",
      "    \"Q12772\": 0.89,\n",
      "    \"Q215653\": 0.482,\n",
      "    \"Q1538251\": 0.246\n",
      "  },\n",
      "  \"latlon\": [\n",
      "    43.909722,\n",
      "    2.109167\n",
      "  ],\n",
      "  \"wkdt_class\": \"Q6465\"\n",
      "}\n",
      "{\n",
      "  \"mention\": \"Languedoc\",\n",
      "  \"ner_score\": 1,\n",
      "  \"pos\": 71,\n",
      "  \"sent_idx\": 0,\n",
      "  \"end_pos\": 80,\n",
      "  \"tag\": \"B-LOC\",\n",
      "  \"sentence\": \"* ALBI, (G\\u00e9og.) ville de France, capitale de l'Albigeois, dans le haut Languedoc : elle est sur le Tarn. Long. 19. 49. lat. 43. 55. 44.\",\n",
      "  \"prediction\": \"Q206221\",\n",
      "  \"ed_score\": 0.005,\n",
      "  \"cross_cand_score\": {\n",
      "    \"Q206221\": 1.0\n",
      "  },\n",
      "  \"string_match_score\": {\n",
      "    \"languedoc\": [\n",
      "      1.0,\n",
      "      [\n",
      "        \"Q206221\"\n",
      "      ]\n",
      "    ]\n",
      "  },\n",
      "  \"prior_cand_score\": {\n",
      "    \"Q206221\": 0.675\n",
      "  },\n",
      "  \"latlon\": [\n",
      "    43.666667,\n",
      "    3.166667\n",
      "  ],\n",
      "  \"wkdt_class\": \"Q572995\"\n",
      "}\n",
      "0.39612293243408203\n"
     ]
    }
   ],
   "source": [
    "import time\n",
    "start = time.time()\n",
    "\n",
    "sentence = \"* ALBI, (Géog.) ville de France, capitale de l'Albigeois, dans le haut Languedoc : elle est sur le Tarn. Long. 19. 49. lat. 43. 55. 44.\"\n",
    "sentence.find('ALBI')\n",
    "resolved = geoparser.run_sentence(sentence, HEAD='ALBI', verbose=False)\n",
    "for r in resolved:\n",
    "    print(json.dumps(r, indent=2))\n",
    "\n",
    "print(time.time() - start)"
   ]
  },
  {
   "cell_type": "code",
   "execution_count": null,
   "metadata": {},
   "outputs": [],
   "source": [
    "import pandas as pd\n",
    "import WikidataObject as wdo\n",
    "\n",
    "sample2 = VILLESFR.copy(deep=True)\n",
    "verbose = False\n",
    "\n",
    "if 'resolved' not in sample2.columns:\n",
    "    sample2['resolved'] = None\n",
    "\n",
    "for i, row in sample2.iterrows():\n",
    "    resolved = geoparser.run_sentence(row['fullcontent'], HEAD=row['head'])\n",
    "\n",
    "    skyline = row['gold'] in resolved[0]['cross_cand_score'].keys()\n",
    "    best_pred = resolved[0]['prediction']\n",
    "\n",
    "    if best_pred[0] != 'Q':\n",
    "        acc10 = False\n",
    "    else:\n",
    "        wd_pred = wdo.WikidataObject(best_pred, coordinates=resolved[0]['latlon'])\n",
    "        acc10 = wd_pred._distance_to(row['gold']) <= 10\n",
    "\n",
    "    sample2.at[i, 'resolved'] = resolved[0]\n",
    "    sample2.at[i, 'skyline'] = skyline\n",
    "    sample2.at[i, 'bestPred'] = best_pred\n",
    "    sample2.at[i, 'acc10'] = acc10\n",
    "\n",
    "    if verbose:\n",
    "        print(f\"Head: {row['head']}\")\n",
    "        print(f\"Gold: {row['gold']}\")\n",
    "        print(f\"Prediction: {best_pred}\")\n",
    "        print(f\"Skyline: {skyline}\")\n",
    "        print(resolved[0]['cross_cand_score'])\n",
    "        print(f\"Accuracy 10: {acc10}\\n\")\n"
   ]
  },
  {
   "cell_type": "markdown",
   "metadata": {},
   "source": [
    "### perf"
   ]
  },
  {
   "cell_type": "code",
   "execution_count": null,
   "metadata": {},
   "outputs": [],
   "source": [
    "sample2.to_json('t_res_results_140424.json', orient='records', lines=True)"
   ]
  },
  {
   "cell_type": "code",
   "execution_count": 9,
   "metadata": {},
   "outputs": [],
   "source": [
    "sample2 = pd.read_json('t_res_deezy+rel_140424.json', orient='records', lines=True)   "
   ]
  },
  {
   "cell_type": "code",
   "execution_count": 10,
   "metadata": {},
   "outputs": [
    {
     "name": "stdout",
     "output_type": "stream",
     "text": [
      "True     0.617433\n",
      "False    0.382567\n",
      "Name: skyline, dtype: float64 \n",
      "\n",
      "False    0.553269\n",
      "True     0.446731\n",
      "Name: acc10, dtype: float64 \n",
      "\n"
     ]
    }
   ],
   "source": [
    "\n",
    "print(sample2.skyline.value_counts(normalize=True), '\\n')\n",
    "print(sample2.acc10.value_counts(normalize=True), '\\n')"
   ]
  },
  {
   "cell_type": "markdown",
   "metadata": {
    "jp-MarkdownHeadingCollapsed": true
   },
   "source": [
    "# Perfect match"
   ]
  },
  {
   "cell_type": "code",
   "execution_count": 5,
   "metadata": {},
   "outputs": [],
   "source": [
    "myranker = ranking.Ranker(\n",
    "    method=\"perfectmatch\",\n",
    "    resources_path=\"../resources/\",\n",
    ")"
   ]
  },
  {
   "cell_type": "code",
   "execution_count": 6,
   "metadata": {},
   "outputs": [],
   "source": [
    "mylinker = linking.Linker(\n",
    "    method=\"mostpopular\",\n",
    "    resources_path=\"../resources/\",\n",
    ")"
   ]
  },
  {
   "cell_type": "code",
   "execution_count": 7,
   "metadata": {},
   "outputs": [
    {
     "name": "stdout",
     "output_type": "stream",
     "text": [
      "*** Loading the ranker resources.\n",
      "*** Load linking resources.\n",
      "  > Loading mentions to wikidata mapping.\n",
      "  > Loading gazetteer.\n",
      "*** Linking resources loaded!\n",
      "\n"
     ]
    }
   ],
   "source": [
    "geoparser = geode_pipe.Pipeline(geodeNERpath=NER_path,\n",
    "                              myranker=myranker,\n",
    "                              mylinker=mylinker)"
   ]
  },
  {
   "cell_type": "code",
   "execution_count": 8,
   "metadata": {},
   "outputs": [
    {
     "name": "stdout",
     "output_type": "stream",
     "text": [
      "{\n",
      "  \"mention\": \"ALBI\",\n",
      "  \"ner_score\": 1,\n",
      "  \"pos\": 2,\n",
      "  \"sent_idx\": 0,\n",
      "  \"end_pos\": 5,\n",
      "  \"tag\": \"B-LOC\",\n",
      "  \"sentence\": \"* ALBI, (G\\u00e9og.) ville dans le haut Languedoc : elle est sur le Tarn. Long. 19. 49. lat. 43. 55. 44.\",\n",
      "  \"prediction\": \"Q132801\",\n",
      "  \"ed_score\": 0.921,\n",
      "  \"string_match_score\": {\n",
      "    \"Albi\": [\n",
      "      1.0,\n",
      "      [\n",
      "        \"Q94744\",\n",
      "        \"Q132801\",\n",
      "        \"Q951428\",\n",
      "        \"Q53749\",\n",
      "        \"Q284698\",\n",
      "        \"Q700379\"\n",
      "      ]\n",
      "    ]\n",
      "  },\n",
      "  \"prior_cand_score\": {},\n",
      "  \"cross_cand_score\": {\n",
      "    \"Q132801\": 0.921,\n",
      "    \"Q53749\": 0.036,\n",
      "    \"Q951428\": 0.028,\n",
      "    \"Q94744\": 0.005,\n",
      "    \"Q284698\": 0.005,\n",
      "    \"Q700379\": 0.005\n",
      "  },\n",
      "  \"latlon\": [\n",
      "    43.928056,\n",
      "    2.145833\n",
      "  ],\n",
      "  \"wkdt_class\": \"Q484170\"\n",
      "}\n",
      "{\n",
      "  \"mention\": \"Tarn\",\n",
      "  \"ner_score\": 1,\n",
      "  \"pos\": 63,\n",
      "  \"sent_idx\": 0,\n",
      "  \"end_pos\": 67,\n",
      "  \"tag\": \"B-LOC\",\n",
      "  \"sentence\": \"* ALBI, (G\\u00e9og.) ville dans le haut Languedoc : elle est sur le Tarn. Long. 19. 49. lat. 43. 55. 44.\",\n",
      "  \"prediction\": \"Q12772\",\n",
      "  \"ed_score\": 0.856,\n",
      "  \"string_match_score\": {\n",
      "    \"Tarn\": [\n",
      "      1.0,\n",
      "      [\n",
      "        \"Q215653\",\n",
      "        \"Q12772\",\n",
      "        \"Q1538251\"\n",
      "      ]\n",
      "    ]\n",
      "  },\n",
      "  \"prior_cand_score\": {},\n",
      "  \"cross_cand_score\": {\n",
      "    \"Q12772\": 0.856,\n",
      "    \"Q215653\": 0.141,\n",
      "    \"Q1538251\": 0.003\n",
      "  },\n",
      "  \"latlon\": [\n",
      "    43.909722,\n",
      "    2.109167\n",
      "  ],\n",
      "  \"wkdt_class\": \"Q6465\"\n",
      "}\n",
      "{\n",
      "  \"mention\": \"Languedoc\",\n",
      "  \"ner_score\": 1,\n",
      "  \"pos\": 35,\n",
      "  \"sent_idx\": 0,\n",
      "  \"end_pos\": 44,\n",
      "  \"tag\": \"B-LOC\",\n",
      "  \"sentence\": \"* ALBI, (G\\u00e9og.) ville dans le haut Languedoc : elle est sur le Tarn. Long. 19. 49. lat. 43. 55. 44.\",\n",
      "  \"prediction\": \"Q206221\",\n",
      "  \"ed_score\": 1.0,\n",
      "  \"string_match_score\": {\n",
      "    \"languedoc\": [\n",
      "      1.0,\n",
      "      [\n",
      "        \"Q206221\"\n",
      "      ]\n",
      "    ]\n",
      "  },\n",
      "  \"prior_cand_score\": {},\n",
      "  \"cross_cand_score\": {\n",
      "    \"Q206221\": 1.0\n",
      "  },\n",
      "  \"latlon\": [\n",
      "    43.666667,\n",
      "    3.166667\n",
      "  ],\n",
      "  \"wkdt_class\": \"Q572995\"\n",
      "}\n"
     ]
    }
   ],
   "source": [
    "sentence = \"* ALBI, (Géog.) ville dans le haut Languedoc : elle est sur le Tarn. Long. 19. 49. lat. 43. 55. 44.\"\n",
    "resolved = geoparser.run_sentence(sentence, HEAD='ALBI', verbose=False)\n",
    "for r in resolved:\n",
    "    print(json.dumps(r, indent=2))"
   ]
  },
  {
   "cell_type": "code",
   "execution_count": 16,
   "metadata": {},
   "outputs": [],
   "source": [
    "sample3 = VILLESFR.copy(deep=True)\n",
    "verbose = False\n",
    "\n",
    "if 'resolved' not in sample3.columns:\n",
    "    sample3['resolved'] = None\n",
    "\n",
    "for i, row in sample3.iterrows():\n",
    "    resolved = geoparser.run_sentence(row['fullcontent'], HEAD=row['head'])\n",
    "\n",
    "    skyline = row['gold'] in resolved[0]['cross_cand_score'].keys()\n",
    "    best_pred = resolved[0]['prediction']\n",
    "\n",
    "    if best_pred[0] != 'Q':\n",
    "        acc10 = False\n",
    "    else:\n",
    "        wd_pred = wdo.WikidataObject(best_pred, coordinates=resolved[0]['latlon'])\n",
    "        acc10 = wd_pred._distance_to(row['gold']) <= 10\n",
    "\n",
    "    sample3.at[i, 'resolved'] = resolved[0]\n",
    "    sample3.at[i, 'skyline'] = skyline\n",
    "    sample3.at[i, 'bestPred'] = best_pred\n",
    "    sample3.at[i, 'acc10'] = acc10\n",
    "\n",
    "    if verbose:\n",
    "        print(f\"Head: {row['head']}\")\n",
    "        print(f\"Gold: {row['gold']}\")\n",
    "        print(f\"Prediction: {best_pred}\")\n",
    "        print(f\"Skyline: {skyline}\")\n",
    "        print(resolved[0]['cross_cand_score'])\n",
    "        print(f\"Accuracy 10: {acc10}\\n\")\n"
   ]
  },
  {
   "cell_type": "code",
   "execution_count": 17,
   "metadata": {},
   "outputs": [],
   "source": [
    "sample3.to_json('t_res_perfect+mostpop_170424.json', orient='records', lines=True)"
   ]
  },
  {
   "cell_type": "markdown",
   "metadata": {},
   "source": [
    "# Partial match - containement / levenshtein"
   ]
  },
  {
   "cell_type": "code",
   "execution_count": 13,
   "metadata": {},
   "outputs": [],
   "source": [
    "myranker = ranking.Ranker(\n",
    "    method=\"levenshtein\",\n",
    "    resources_path=\"../resources/\",\n",
    ")"
   ]
  },
  {
   "cell_type": "code",
   "execution_count": 19,
   "metadata": {},
   "outputs": [],
   "source": [
    "mylinker = linking.Linker(\n",
    "    method=\"mostpopular\",\n",
    "    resources_path=\"../resources/\",\n",
    ")"
   ]
  },
  {
   "cell_type": "code",
   "execution_count": 15,
   "metadata": {},
   "outputs": [],
   "source": [
    "# Instantiate the Linker:\n",
    "with sqlite3.connect( path + \"resources/rel_db/embeddings_database.db\") as conn:\n",
    "    cursor = conn.cursor()\n",
    "    mylinker = linking.Linker(\n",
    "        method=\"reldisamb\",\n",
    "        resources_path= path + \"resources/\",\n",
    "        rel_params={\n",
    "            \"model_path\": path + \"resources/models/disambiguation/\",\n",
    "            \"data_path\":  path + \"experiments/outputs/data/lwm/\",\n",
    "            \"training_split\": \"originalsplit\",\n",
    "            \"db_embeddings\": cursor,\n",
    "            \"with_publication\": False,\n",
    "            \"without_microtoponyms\": True,\n",
    "            \"do_test\": False,\n",
    "            \"default_publname\": \"\",\n",
    "            \"default_publwqid\": \"\",\n",
    "        },\n",
    "        overwrite_training=False,\n",
    "    )"
   ]
  },
  {
   "cell_type": "code",
   "execution_count": 16,
   "metadata": {},
   "outputs": [
    {
     "name": "stdout",
     "output_type": "stream",
     "text": [
      "*** Loading the ranker resources.\n",
      "INFO: Pandarallel will run on 10 workers.\n",
      "INFO: Pandarallel will use Memory file system to transfer data between the main process and workers.\n",
      "*** Load linking resources.\n",
      "  > Loading mentions to wikidata mapping.\n",
      "  > Loading gazetteer.\n",
      "*** Linking resources loaded!\n",
      "\n",
      "The entity disambiguation model does not exist or overwrite_training is set to True.\n",
      "Creating the dataset.\n"
     ]
    },
    {
     "ename": "KeyboardInterrupt",
     "evalue": "",
     "output_type": "error",
     "traceback": [
      "\u001b[0;31m---------------------------------------------------------------------------\u001b[0m",
      "\u001b[0;31mKeyboardInterrupt\u001b[0m                         Traceback (most recent call last)",
      "Cell \u001b[0;32mIn[16], line 1\u001b[0m\n\u001b[0;32m----> 1\u001b[0m geoparser \u001b[38;5;241m=\u001b[39m \u001b[43mgeode_pipe\u001b[49m\u001b[38;5;241;43m.\u001b[39;49m\u001b[43mPipeline\u001b[49m\u001b[43m(\u001b[49m\u001b[43mgeodeNERpath\u001b[49m\u001b[38;5;241;43m=\u001b[39;49m\u001b[43mNER_path\u001b[49m\u001b[43m,\u001b[49m\n\u001b[1;32m      2\u001b[0m \u001b[43m                              \u001b[49m\u001b[43mmyranker\u001b[49m\u001b[38;5;241;43m=\u001b[39;49m\u001b[43mmyranker\u001b[49m\u001b[43m,\u001b[49m\n\u001b[1;32m      3\u001b[0m \u001b[43m                              \u001b[49m\u001b[43mmylinker\u001b[49m\u001b[38;5;241;43m=\u001b[39;49m\u001b[43mmylinker\u001b[49m\u001b[43m)\u001b[49m\n",
      "File \u001b[0;32m~/Documents/GitHub/T-Res/t_res/geoparser/geode_pipe.py:162\u001b[0m, in \u001b[0;36mPipeline.__init__\u001b[0;34m(self, geodeNERpath, myner, myranker, mylinker, resources_path, experiments_path)\u001b[0m\n\u001b[1;32m    158\u001b[0m \u001b[38;5;28mself\u001b[39m\u001b[38;5;241m.\u001b[39mmylinker\u001b[38;5;241m.\u001b[39mlinking_resources \u001b[38;5;241m=\u001b[39m \u001b[38;5;28mself\u001b[39m\u001b[38;5;241m.\u001b[39mmylinker\u001b[38;5;241m.\u001b[39mload_resources()\n\u001b[1;32m    160\u001b[0m \u001b[38;5;66;03m# Train a linking model if needed (it requires myranker to generate\u001b[39;00m\n\u001b[1;32m    161\u001b[0m \u001b[38;5;66;03m# potential candidates to the training set):\u001b[39;00m\n\u001b[0;32m--> 162\u001b[0m \u001b[38;5;28mself\u001b[39m\u001b[38;5;241m.\u001b[39mmylinker\u001b[38;5;241m.\u001b[39mrel_params[\u001b[38;5;124m\"\u001b[39m\u001b[38;5;124med_model\u001b[39m\u001b[38;5;124m\"\u001b[39m] \u001b[38;5;241m=\u001b[39m \u001b[38;5;28;43mself\u001b[39;49m\u001b[38;5;241;43m.\u001b[39;49m\u001b[43mmylinker\u001b[49m\u001b[38;5;241;43m.\u001b[39;49m\u001b[43mtrain_load_model\u001b[49m\u001b[43m(\u001b[49m\n\u001b[1;32m    163\u001b[0m \u001b[43m    \u001b[49m\u001b[38;5;28;43mself\u001b[39;49m\u001b[38;5;241;43m.\u001b[39;49m\u001b[43mmyranker\u001b[49m\n\u001b[1;32m    164\u001b[0m \u001b[43m\u001b[49m\u001b[43m)\u001b[49m\n\u001b[1;32m    166\u001b[0m \u001b[38;5;66;03m# Check we've actually loaded the mentions2wikidata dictionary:\u001b[39;00m\n\u001b[1;32m    167\u001b[0m \u001b[38;5;28;01massert\u001b[39;00m \u001b[38;5;28mself\u001b[39m\u001b[38;5;241m.\u001b[39mmyranker\u001b[38;5;241m.\u001b[39mmentions_to_wikidata[\u001b[38;5;124m\"\u001b[39m\u001b[38;5;124mLondon\u001b[39m\u001b[38;5;124m\"\u001b[39m] \u001b[38;5;129;01mis\u001b[39;00m \u001b[38;5;129;01mnot\u001b[39;00m \u001b[38;5;28;01mNone\u001b[39;00m\n",
      "File \u001b[0;32m~/Documents/GitHub/T-Res/t_res/geoparser/linking.py:446\u001b[0m, in \u001b[0;36mLinker.train_load_model\u001b[0;34m(self, myranker, split)\u001b[0m\n\u001b[1;32m    438\u001b[0m \u001b[38;5;66;03m# Prepare the dataset into the format required by REL:\u001b[39;00m\n\u001b[1;32m    439\u001b[0m train_json \u001b[38;5;241m=\u001b[39m rel_utils\u001b[38;5;241m.\u001b[39mprepare_rel_trainset(\n\u001b[1;32m    440\u001b[0m     train_df,\n\u001b[1;32m    441\u001b[0m     \u001b[38;5;28mself\u001b[39m\u001b[38;5;241m.\u001b[39mrel_params,\n\u001b[0;32m   (...)\u001b[0m\n\u001b[1;32m    444\u001b[0m     \u001b[38;5;124m\"\u001b[39m\u001b[38;5;124mtrain\u001b[39m\u001b[38;5;124m\"\u001b[39m,\n\u001b[1;32m    445\u001b[0m )\n\u001b[0;32m--> 446\u001b[0m dev_json \u001b[38;5;241m=\u001b[39m \u001b[43mrel_utils\u001b[49m\u001b[38;5;241;43m.\u001b[39;49m\u001b[43mprepare_rel_trainset\u001b[49m\u001b[43m(\u001b[49m\n\u001b[1;32m    447\u001b[0m \u001b[43m    \u001b[49m\u001b[43mdev_df\u001b[49m\u001b[43m,\u001b[49m\n\u001b[1;32m    448\u001b[0m \u001b[43m    \u001b[49m\u001b[38;5;28;43mself\u001b[39;49m\u001b[38;5;241;43m.\u001b[39;49m\u001b[43mrel_params\u001b[49m\u001b[43m,\u001b[49m\n\u001b[1;32m    449\u001b[0m \u001b[43m    \u001b[49m\u001b[38;5;28;43mself\u001b[39;49m\u001b[38;5;241;43m.\u001b[39;49m\u001b[43mlinking_resources\u001b[49m\u001b[43m[\u001b[49m\u001b[38;5;124;43m\"\u001b[39;49m\u001b[38;5;124;43mmentions_to_wikidata\u001b[39;49m\u001b[38;5;124;43m\"\u001b[39;49m\u001b[43m]\u001b[49m\u001b[43m,\u001b[49m\n\u001b[1;32m    450\u001b[0m \u001b[43m    \u001b[49m\u001b[43mmyranker\u001b[49m\u001b[43m,\u001b[49m\n\u001b[1;32m    451\u001b[0m \u001b[43m    \u001b[49m\u001b[38;5;124;43m\"\u001b[39;49m\u001b[38;5;124;43mdev\u001b[39;49m\u001b[38;5;124;43m\"\u001b[39;49m\u001b[43m,\u001b[49m\n\u001b[1;32m    452\u001b[0m \u001b[43m\u001b[49m\u001b[43m)\u001b[49m\n\u001b[1;32m    454\u001b[0m \u001b[38;5;66;03m# Set ED configuration to train mode:\u001b[39;00m\n\u001b[1;32m    455\u001b[0m config_rel \u001b[38;5;241m=\u001b[39m {\n\u001b[1;32m    456\u001b[0m     \u001b[38;5;124m\"\u001b[39m\u001b[38;5;124mmode\u001b[39m\u001b[38;5;124m\"\u001b[39m: \u001b[38;5;124m\"\u001b[39m\u001b[38;5;124mtrain\u001b[39m\u001b[38;5;124m\"\u001b[39m,\n\u001b[1;32m    457\u001b[0m     \u001b[38;5;124m\"\u001b[39m\u001b[38;5;124mmodel_path\u001b[39m\u001b[38;5;124m\"\u001b[39m: os\u001b[38;5;241m.\u001b[39mpath\u001b[38;5;241m.\u001b[39mjoin(linker_name, \u001b[38;5;124m\"\u001b[39m\u001b[38;5;124mmodel\u001b[39m\u001b[38;5;124m\"\u001b[39m),\n\u001b[1;32m    458\u001b[0m }\n",
      "File \u001b[0;32m~/Documents/GitHub/T-Res/t_res/utils/rel_utils.py:333\u001b[0m, in \u001b[0;36mprepare_rel_trainset\u001b[0;34m(df, rel_params, mentions_to_wikidata, myranker, dsplit)\u001b[0m\n\u001b[1;32m    331\u001b[0m all_mentions \u001b[38;5;241m=\u001b[39m [{\u001b[38;5;124m\"\u001b[39m\u001b[38;5;124mmention\u001b[39m\u001b[38;5;124m\"\u001b[39m: mention} \u001b[38;5;28;01mfor\u001b[39;00m mention \u001b[38;5;129;01min\u001b[39;00m all_mentions]\n\u001b[1;32m    332\u001b[0m \u001b[38;5;66;03m# Use the ranker to find candidates:\u001b[39;00m\n\u001b[0;32m--> 333\u001b[0m wk_cands \u001b[38;5;241m=\u001b[39m \u001b[43mmyranker\u001b[49m\u001b[38;5;241;43m.\u001b[39;49m\u001b[43mfind_candidates\u001b[49m\u001b[43m(\u001b[49m\u001b[43mall_mentions\u001b[49m\u001b[43m)\u001b[49m\n\u001b[1;32m    334\u001b[0m \u001b[38;5;66;03m# Rank the candidates:\u001b[39;00m\n\u001b[1;32m    335\u001b[0m rel_json \u001b[38;5;241m=\u001b[39m rank_candidates(\n\u001b[1;32m    336\u001b[0m     rel_json,\n\u001b[1;32m    337\u001b[0m     wk_cands,\n\u001b[1;32m    338\u001b[0m     mentions_to_wikidata,\n\u001b[1;32m    339\u001b[0m )\n",
      "File \u001b[0;32m~/Documents/GitHub/T-Res/t_res/geoparser/ranking.py:707\u001b[0m, in \u001b[0;36mRanker.find_candidates\u001b[0;34m(self, mentions)\u001b[0m\n\u001b[1;32m    704\u001b[0m queries \u001b[38;5;241m=\u001b[39m \u001b[38;5;28mlist\u001b[39m(\u001b[38;5;28mset\u001b[39m([mention[\u001b[38;5;124m\"\u001b[39m\u001b[38;5;124mmention\u001b[39m\u001b[38;5;124m\"\u001b[39m] \u001b[38;5;28;01mfor\u001b[39;00m mention \u001b[38;5;129;01min\u001b[39;00m mentions]))\n\u001b[1;32m    706\u001b[0m \u001b[38;5;66;03m# Pass the mentions to :py:meth:`geoparser.ranking.Ranker.run`\u001b[39;00m\n\u001b[0;32m--> 707\u001b[0m cands, \u001b[38;5;28mself\u001b[39m\u001b[38;5;241m.\u001b[39malready_collected_cands \u001b[38;5;241m=\u001b[39m \u001b[38;5;28;43mself\u001b[39;49m\u001b[38;5;241;43m.\u001b[39;49m\u001b[43mrun\u001b[49m\u001b[43m(\u001b[49m\u001b[43mqueries\u001b[49m\u001b[43m)\u001b[49m\n\u001b[1;32m    709\u001b[0m \u001b[38;5;66;03m# Get Wikidata candidates\u001b[39;00m\n\u001b[1;32m    710\u001b[0m wk_cands \u001b[38;5;241m=\u001b[39m \u001b[38;5;28mdict\u001b[39m()\n",
      "File \u001b[0;32m~/Documents/GitHub/T-Res/t_res/geoparser/ranking.py:644\u001b[0m, in \u001b[0;36mRanker.run\u001b[0;34m(self, queries)\u001b[0m\n\u001b[1;32m    642\u001b[0m     \u001b[38;5;28;01mreturn\u001b[39;00m \u001b[38;5;28mself\u001b[39m\u001b[38;5;241m.\u001b[39mpartial_match(queries, damlev\u001b[38;5;241m=\u001b[39m\u001b[38;5;28;01mFalse\u001b[39;00m)\n\u001b[1;32m    643\u001b[0m \u001b[38;5;28;01mif\u001b[39;00m \u001b[38;5;28mself\u001b[39m\u001b[38;5;241m.\u001b[39mmethod \u001b[38;5;241m==\u001b[39m \u001b[38;5;124m\"\u001b[39m\u001b[38;5;124mlevenshtein\u001b[39m\u001b[38;5;124m\"\u001b[39m:\n\u001b[0;32m--> 644\u001b[0m     \u001b[38;5;28;01mreturn\u001b[39;00m \u001b[38;5;28;43mself\u001b[39;49m\u001b[38;5;241;43m.\u001b[39;49m\u001b[43mpartial_match\u001b[49m\u001b[43m(\u001b[49m\u001b[43mqueries\u001b[49m\u001b[43m,\u001b[49m\u001b[43m \u001b[49m\u001b[43mdamlev\u001b[49m\u001b[38;5;241;43m=\u001b[39;49m\u001b[38;5;28;43;01mTrue\u001b[39;49;00m\u001b[43m)\u001b[49m\n\u001b[1;32m    645\u001b[0m \u001b[38;5;28;01mif\u001b[39;00m \u001b[38;5;28mself\u001b[39m\u001b[38;5;241m.\u001b[39mmethod \u001b[38;5;241m==\u001b[39m \u001b[38;5;124m\"\u001b[39m\u001b[38;5;124mdeezymatch\u001b[39m\u001b[38;5;124m\"\u001b[39m:\n\u001b[1;32m    646\u001b[0m     \u001b[38;5;28;01mreturn\u001b[39;00m \u001b[38;5;28mself\u001b[39m\u001b[38;5;241m.\u001b[39mdeezy_on_the_fly(queries)\n",
      "File \u001b[0;32m~/Documents/GitHub/T-Res/t_res/geoparser/ranking.py:472\u001b[0m, in \u001b[0;36mRanker.partial_match\u001b[0;34m(self, queries, damlev)\u001b[0m\n\u001b[1;32m    466\u001b[0m mention_df \u001b[38;5;241m=\u001b[39m pd\u001b[38;5;241m.\u001b[39mDataFrame({\u001b[38;5;124m\"\u001b[39m\u001b[38;5;124mmentions\u001b[39m\u001b[38;5;124m\"\u001b[39m: \u001b[38;5;28mself\u001b[39m\u001b[38;5;241m.\u001b[39mmentions_to_wikidata\u001b[38;5;241m.\u001b[39mkeys()})\n\u001b[1;32m    468\u001b[0m \u001b[38;5;28;01mif\u001b[39;00m damlev:\n\u001b[1;32m    469\u001b[0m     \u001b[38;5;66;03m# mention_df[\"score\"] = mention_df.apply(\u001b[39;00m\n\u001b[1;32m    470\u001b[0m     \u001b[38;5;66;03m#     lambda row: self.damlev_dist(query, row), axis=1\u001b[39;00m\n\u001b[1;32m    471\u001b[0m     \u001b[38;5;66;03m# )\u001b[39;00m\n\u001b[0;32m--> 472\u001b[0m     mention_df[\u001b[38;5;124m\"\u001b[39m\u001b[38;5;124mscore\u001b[39m\u001b[38;5;124m\"\u001b[39m] \u001b[38;5;241m=\u001b[39m \u001b[43mmention_df\u001b[49m\u001b[38;5;241;43m.\u001b[39;49m\u001b[43mparallel_apply\u001b[49m\u001b[43m(\u001b[49m\n\u001b[1;32m    473\u001b[0m \u001b[43m        \u001b[49m\u001b[38;5;28;43;01mlambda\u001b[39;49;00m\u001b[43m \u001b[49m\u001b[43mrow\u001b[49m\u001b[43m:\u001b[49m\u001b[43m \u001b[49m\u001b[38;5;28;43mself\u001b[39;49m\u001b[38;5;241;43m.\u001b[39;49m\u001b[43mdamlev_dist\u001b[49m\u001b[43m(\u001b[49m\u001b[43mquery\u001b[49m\u001b[43m,\u001b[49m\u001b[43m \u001b[49m\u001b[43mrow\u001b[49m\u001b[43m)\u001b[49m\u001b[43m,\u001b[49m\u001b[43m \u001b[49m\u001b[43maxis\u001b[49m\u001b[38;5;241;43m=\u001b[39;49m\u001b[38;5;241;43m1\u001b[39;49m\n\u001b[1;32m    474\u001b[0m \u001b[43m    \u001b[49m\u001b[43m)\u001b[49m\n\u001b[1;32m    475\u001b[0m \u001b[38;5;28;01melse\u001b[39;00m:\n\u001b[1;32m    476\u001b[0m     \u001b[38;5;66;03m# mention_df[\"score\"] = mention_df.apply(\u001b[39;00m\n\u001b[1;32m    477\u001b[0m     \u001b[38;5;66;03m#     lambda row: self.check_if_contained(query, row), axis=1\u001b[39;00m\n\u001b[1;32m    478\u001b[0m     \u001b[38;5;66;03m# )\u001b[39;00m\n\u001b[1;32m    479\u001b[0m     mention_df[\u001b[38;5;124m\"\u001b[39m\u001b[38;5;124mscore\u001b[39m\u001b[38;5;124m\"\u001b[39m] \u001b[38;5;241m=\u001b[39m mention_df\u001b[38;5;241m.\u001b[39mparallel_apply(\n\u001b[1;32m    480\u001b[0m         \u001b[38;5;28;01mlambda\u001b[39;00m row: \u001b[38;5;28mself\u001b[39m\u001b[38;5;241m.\u001b[39mcheck_if_contained(query, row), axis\u001b[38;5;241m=\u001b[39m\u001b[38;5;241m1\u001b[39m\n\u001b[1;32m    481\u001b[0m     )\n",
      "File \u001b[0;32m~/.cache/pypoetry/virtualenvs/t-res-rAxVKS4n-py3.9/lib/python3.9/site-packages/pandarallel/core.py:265\u001b[0m, in \u001b[0;36mparallelize_with_memory_file_system.<locals>.closure\u001b[0;34m(data, user_defined_function, *user_defined_function_args, **user_defined_function_kwargs)\u001b[0m\n\u001b[1;32m    262\u001b[0m     \u001b[38;5;28;01mwith\u001b[39;00m Path(input_file\u001b[38;5;241m.\u001b[39mname)\u001b[38;5;241m.\u001b[39mopen(\u001b[38;5;124m\"\u001b[39m\u001b[38;5;124mwb\u001b[39m\u001b[38;5;124m\"\u001b[39m) \u001b[38;5;28;01mas\u001b[39;00m file_descriptor:\n\u001b[1;32m    263\u001b[0m         pickle\u001b[38;5;241m.\u001b[39mdump(chunk, file_descriptor)\n\u001b[0;32m--> 265\u001b[0m dilled_user_defined_function \u001b[38;5;241m=\u001b[39m \u001b[43mdill\u001b[49m\u001b[38;5;241;43m.\u001b[39;49m\u001b[43mdumps\u001b[49m\u001b[43m(\u001b[49m\u001b[43muser_defined_function\u001b[49m\u001b[43m)\u001b[49m\n\u001b[1;32m    266\u001b[0m manager: SyncManager \u001b[38;5;241m=\u001b[39m CONTEXT\u001b[38;5;241m.\u001b[39mManager()\n\u001b[1;32m    267\u001b[0m master_workers_queue \u001b[38;5;241m=\u001b[39m manager\u001b[38;5;241m.\u001b[39mQueue()\n",
      "File \u001b[0;32m~/.cache/pypoetry/virtualenvs/t-res-rAxVKS4n-py3.9/lib/python3.9/site-packages/dill/_dill.py:280\u001b[0m, in \u001b[0;36mdumps\u001b[0;34m(obj, protocol, byref, fmode, recurse, **kwds)\u001b[0m\n\u001b[1;32m    256\u001b[0m \u001b[38;5;250m\u001b[39m\u001b[38;5;124;03m\"\"\"\u001b[39;00m\n\u001b[1;32m    257\u001b[0m \u001b[38;5;124;03mPickle an object to a string.\u001b[39;00m\n\u001b[1;32m    258\u001b[0m \n\u001b[0;32m   (...)\u001b[0m\n\u001b[1;32m    277\u001b[0m \u001b[38;5;124;03mDefault values for keyword arguments can be set in :mod:`dill.settings`.\u001b[39;00m\n\u001b[1;32m    278\u001b[0m \u001b[38;5;124;03m\"\"\"\u001b[39;00m\n\u001b[1;32m    279\u001b[0m file \u001b[38;5;241m=\u001b[39m StringIO()\n\u001b[0;32m--> 280\u001b[0m \u001b[43mdump\u001b[49m\u001b[43m(\u001b[49m\u001b[43mobj\u001b[49m\u001b[43m,\u001b[49m\u001b[43m \u001b[49m\u001b[43mfile\u001b[49m\u001b[43m,\u001b[49m\u001b[43m \u001b[49m\u001b[43mprotocol\u001b[49m\u001b[43m,\u001b[49m\u001b[43m \u001b[49m\u001b[43mbyref\u001b[49m\u001b[43m,\u001b[49m\u001b[43m \u001b[49m\u001b[43mfmode\u001b[49m\u001b[43m,\u001b[49m\u001b[43m \u001b[49m\u001b[43mrecurse\u001b[49m\u001b[43m,\u001b[49m\u001b[43m \u001b[49m\u001b[38;5;241;43m*\u001b[39;49m\u001b[38;5;241;43m*\u001b[39;49m\u001b[43mkwds\u001b[49m\u001b[43m)\u001b[49m\u001b[38;5;66;03m#, strictio)\u001b[39;00m\n\u001b[1;32m    281\u001b[0m \u001b[38;5;28;01mreturn\u001b[39;00m file\u001b[38;5;241m.\u001b[39mgetvalue()\n",
      "File \u001b[0;32m~/.cache/pypoetry/virtualenvs/t-res-rAxVKS4n-py3.9/lib/python3.9/site-packages/dill/_dill.py:252\u001b[0m, in \u001b[0;36mdump\u001b[0;34m(obj, file, protocol, byref, fmode, recurse, **kwds)\u001b[0m\n\u001b[1;32m    250\u001b[0m _kwds \u001b[38;5;241m=\u001b[39m kwds\u001b[38;5;241m.\u001b[39mcopy()\n\u001b[1;32m    251\u001b[0m _kwds\u001b[38;5;241m.\u001b[39mupdate(\u001b[38;5;28mdict\u001b[39m(byref\u001b[38;5;241m=\u001b[39mbyref, fmode\u001b[38;5;241m=\u001b[39mfmode, recurse\u001b[38;5;241m=\u001b[39mrecurse))\n\u001b[0;32m--> 252\u001b[0m \u001b[43mPickler\u001b[49m\u001b[43m(\u001b[49m\u001b[43mfile\u001b[49m\u001b[43m,\u001b[49m\u001b[43m \u001b[49m\u001b[43mprotocol\u001b[49m\u001b[43m,\u001b[49m\u001b[43m \u001b[49m\u001b[38;5;241;43m*\u001b[39;49m\u001b[38;5;241;43m*\u001b[39;49m\u001b[43m_kwds\u001b[49m\u001b[43m)\u001b[49m\u001b[38;5;241;43m.\u001b[39;49m\u001b[43mdump\u001b[49m\u001b[43m(\u001b[49m\u001b[43mobj\u001b[49m\u001b[43m)\u001b[49m\n\u001b[1;32m    253\u001b[0m \u001b[38;5;28;01mreturn\u001b[39;00m\n",
      "File \u001b[0;32m~/.cache/pypoetry/virtualenvs/t-res-rAxVKS4n-py3.9/lib/python3.9/site-packages/dill/_dill.py:420\u001b[0m, in \u001b[0;36mPickler.dump\u001b[0;34m(self, obj)\u001b[0m\n\u001b[1;32m    418\u001b[0m \u001b[38;5;28;01mdef\u001b[39;00m \u001b[38;5;21mdump\u001b[39m(\u001b[38;5;28mself\u001b[39m, obj): \u001b[38;5;66;03m#NOTE: if settings change, need to update attributes\u001b[39;00m\n\u001b[1;32m    419\u001b[0m     logger\u001b[38;5;241m.\u001b[39mtrace_setup(\u001b[38;5;28mself\u001b[39m)\n\u001b[0;32m--> 420\u001b[0m     \u001b[43mStockPickler\u001b[49m\u001b[38;5;241;43m.\u001b[39;49m\u001b[43mdump\u001b[49m\u001b[43m(\u001b[49m\u001b[38;5;28;43mself\u001b[39;49m\u001b[43m,\u001b[49m\u001b[43m \u001b[49m\u001b[43mobj\u001b[49m\u001b[43m)\u001b[49m\n",
      "File \u001b[0;32m~/.pyenv/versions/3.9.7/lib/python3.9/pickle.py:487\u001b[0m, in \u001b[0;36m_Pickler.dump\u001b[0;34m(self, obj)\u001b[0m\n\u001b[1;32m    485\u001b[0m \u001b[38;5;28;01mif\u001b[39;00m \u001b[38;5;28mself\u001b[39m\u001b[38;5;241m.\u001b[39mproto \u001b[38;5;241m>\u001b[39m\u001b[38;5;241m=\u001b[39m \u001b[38;5;241m4\u001b[39m:\n\u001b[1;32m    486\u001b[0m     \u001b[38;5;28mself\u001b[39m\u001b[38;5;241m.\u001b[39mframer\u001b[38;5;241m.\u001b[39mstart_framing()\n\u001b[0;32m--> 487\u001b[0m \u001b[38;5;28;43mself\u001b[39;49m\u001b[38;5;241;43m.\u001b[39;49m\u001b[43msave\u001b[49m\u001b[43m(\u001b[49m\u001b[43mobj\u001b[49m\u001b[43m)\u001b[49m\n\u001b[1;32m    488\u001b[0m \u001b[38;5;28mself\u001b[39m\u001b[38;5;241m.\u001b[39mwrite(STOP)\n\u001b[1;32m    489\u001b[0m \u001b[38;5;28mself\u001b[39m\u001b[38;5;241m.\u001b[39mframer\u001b[38;5;241m.\u001b[39mend_framing()\n",
      "File \u001b[0;32m~/.cache/pypoetry/virtualenvs/t-res-rAxVKS4n-py3.9/lib/python3.9/site-packages/dill/_dill.py:414\u001b[0m, in \u001b[0;36mPickler.save\u001b[0;34m(self, obj, save_persistent_id)\u001b[0m\n\u001b[1;32m    412\u001b[0m     msg \u001b[38;5;241m=\u001b[39m \u001b[38;5;124m\"\u001b[39m\u001b[38;5;124mCan\u001b[39m\u001b[38;5;124m'\u001b[39m\u001b[38;5;124mt pickle \u001b[39m\u001b[38;5;132;01m%s\u001b[39;00m\u001b[38;5;124m: attribute lookup builtins.generator failed\u001b[39m\u001b[38;5;124m\"\u001b[39m \u001b[38;5;241m%\u001b[39m GeneratorType\n\u001b[1;32m    413\u001b[0m     \u001b[38;5;28;01mraise\u001b[39;00m PicklingError(msg)\n\u001b[0;32m--> 414\u001b[0m \u001b[43mStockPickler\u001b[49m\u001b[38;5;241;43m.\u001b[39;49m\u001b[43msave\u001b[49m\u001b[43m(\u001b[49m\u001b[38;5;28;43mself\u001b[39;49m\u001b[43m,\u001b[49m\u001b[43m \u001b[49m\u001b[43mobj\u001b[49m\u001b[43m,\u001b[49m\u001b[43m \u001b[49m\u001b[43msave_persistent_id\u001b[49m\u001b[43m)\u001b[49m\n",
      "File \u001b[0;32m~/.pyenv/versions/3.9.7/lib/python3.9/pickle.py:560\u001b[0m, in \u001b[0;36m_Pickler.save\u001b[0;34m(self, obj, save_persistent_id)\u001b[0m\n\u001b[1;32m    558\u001b[0m f \u001b[38;5;241m=\u001b[39m \u001b[38;5;28mself\u001b[39m\u001b[38;5;241m.\u001b[39mdispatch\u001b[38;5;241m.\u001b[39mget(t)\n\u001b[1;32m    559\u001b[0m \u001b[38;5;28;01mif\u001b[39;00m f \u001b[38;5;129;01mis\u001b[39;00m \u001b[38;5;129;01mnot\u001b[39;00m \u001b[38;5;28;01mNone\u001b[39;00m:\n\u001b[0;32m--> 560\u001b[0m     \u001b[43mf\u001b[49m\u001b[43m(\u001b[49m\u001b[38;5;28;43mself\u001b[39;49m\u001b[43m,\u001b[49m\u001b[43m \u001b[49m\u001b[43mobj\u001b[49m\u001b[43m)\u001b[49m  \u001b[38;5;66;03m# Call unbound method with explicit self\u001b[39;00m\n\u001b[1;32m    561\u001b[0m     \u001b[38;5;28;01mreturn\u001b[39;00m\n\u001b[1;32m    563\u001b[0m \u001b[38;5;66;03m# Check private dispatch table if any, or else\u001b[39;00m\n\u001b[1;32m    564\u001b[0m \u001b[38;5;66;03m# copyreg.dispatch_table\u001b[39;00m\n",
      "File \u001b[0;32m~/.cache/pypoetry/virtualenvs/t-res-rAxVKS4n-py3.9/lib/python3.9/site-packages/dill/_dill.py:1985\u001b[0m, in \u001b[0;36msave_function\u001b[0;34m(pickler, obj)\u001b[0m\n\u001b[1;32m   1982\u001b[0m \u001b[38;5;28;01mif\u001b[39;00m state_dict:\n\u001b[1;32m   1983\u001b[0m     state \u001b[38;5;241m=\u001b[39m state, state_dict\n\u001b[0;32m-> 1985\u001b[0m \u001b[43m_save_with_postproc\u001b[49m\u001b[43m(\u001b[49m\u001b[43mpickler\u001b[49m\u001b[43m,\u001b[49m\u001b[43m \u001b[49m\u001b[43m(\u001b[49m\u001b[43m_create_function\u001b[49m\u001b[43m,\u001b[49m\u001b[43m \u001b[49m\u001b[43m(\u001b[49m\n\u001b[1;32m   1986\u001b[0m \u001b[43m        \u001b[49m\u001b[43mobj\u001b[49m\u001b[38;5;241;43m.\u001b[39;49m\u001b[38;5;18;43m__code__\u001b[39;49m\u001b[43m,\u001b[49m\u001b[43m \u001b[49m\u001b[43mglobs\u001b[49m\u001b[43m,\u001b[49m\u001b[43m \u001b[49m\u001b[43mobj\u001b[49m\u001b[38;5;241;43m.\u001b[39;49m\u001b[38;5;18;43m__name__\u001b[39;49m\u001b[43m,\u001b[49m\u001b[43m \u001b[49m\u001b[43mobj\u001b[49m\u001b[38;5;241;43m.\u001b[39;49m\u001b[38;5;18;43m__defaults__\u001b[39;49m\u001b[43m,\u001b[49m\n\u001b[1;32m   1987\u001b[0m \u001b[43m        \u001b[49m\u001b[43mclosure\u001b[49m\n\u001b[1;32m   1988\u001b[0m \u001b[43m\u001b[49m\u001b[43m)\u001b[49m\u001b[43m,\u001b[49m\u001b[43m \u001b[49m\u001b[43mstate\u001b[49m\u001b[43m)\u001b[49m\u001b[43m,\u001b[49m\u001b[43m \u001b[49m\u001b[43mobj\u001b[49m\u001b[38;5;241;43m=\u001b[39;49m\u001b[43mobj\u001b[49m\u001b[43m,\u001b[49m\u001b[43m \u001b[49m\u001b[43mpostproc_list\u001b[49m\u001b[38;5;241;43m=\u001b[39;49m\u001b[43mpostproc_list\u001b[49m\u001b[43m)\u001b[49m\n\u001b[1;32m   1990\u001b[0m \u001b[38;5;66;03m# Lift closure cell update to earliest function (#458)\u001b[39;00m\n\u001b[1;32m   1991\u001b[0m \u001b[38;5;28;01mif\u001b[39;00m _postproc:\n",
      "File \u001b[0;32m~/.cache/pypoetry/virtualenvs/t-res-rAxVKS4n-py3.9/lib/python3.9/site-packages/dill/_dill.py:1117\u001b[0m, in \u001b[0;36m_save_with_postproc\u001b[0;34m(pickler, reduction, is_pickler_dill, obj, postproc_list)\u001b[0m\n\u001b[1;32m   1115\u001b[0m         \u001b[38;5;28;01mcontinue\u001b[39;00m\n\u001b[1;32m   1116\u001b[0m \u001b[38;5;28;01melse\u001b[39;00m:\n\u001b[0;32m-> 1117\u001b[0m     \u001b[43mpickler\u001b[49m\u001b[38;5;241;43m.\u001b[39;49m\u001b[43msave_reduce\u001b[49m\u001b[43m(\u001b[49m\u001b[38;5;241;43m*\u001b[39;49m\u001b[43mreduction\u001b[49m\u001b[43m)\u001b[49m\n\u001b[1;32m   1118\u001b[0m \u001b[38;5;66;03m# pop None created by calling preprocessing step off stack\u001b[39;00m\n\u001b[1;32m   1119\u001b[0m pickler\u001b[38;5;241m.\u001b[39mwrite(POP)\n",
      "File \u001b[0;32m~/.pyenv/versions/3.9.7/lib/python3.9/pickle.py:692\u001b[0m, in \u001b[0;36m_Pickler.save_reduce\u001b[0;34m(self, func, args, state, listitems, dictitems, state_setter, obj)\u001b[0m\n\u001b[1;32m    690\u001b[0m \u001b[38;5;28;01melse\u001b[39;00m:\n\u001b[1;32m    691\u001b[0m     save(func)\n\u001b[0;32m--> 692\u001b[0m     \u001b[43msave\u001b[49m\u001b[43m(\u001b[49m\u001b[43margs\u001b[49m\u001b[43m)\u001b[49m\n\u001b[1;32m    693\u001b[0m     write(REDUCE)\n\u001b[1;32m    695\u001b[0m \u001b[38;5;28;01mif\u001b[39;00m obj \u001b[38;5;129;01mis\u001b[39;00m \u001b[38;5;129;01mnot\u001b[39;00m \u001b[38;5;28;01mNone\u001b[39;00m:\n\u001b[1;32m    696\u001b[0m     \u001b[38;5;66;03m# If the object is already in the memo, this means it is\u001b[39;00m\n\u001b[1;32m    697\u001b[0m     \u001b[38;5;66;03m# recursive. In this case, throw away everything we put on the\u001b[39;00m\n\u001b[1;32m    698\u001b[0m     \u001b[38;5;66;03m# stack, and fetch the object back from the memo.\u001b[39;00m\n",
      "File \u001b[0;32m~/.cache/pypoetry/virtualenvs/t-res-rAxVKS4n-py3.9/lib/python3.9/site-packages/dill/_dill.py:414\u001b[0m, in \u001b[0;36mPickler.save\u001b[0;34m(self, obj, save_persistent_id)\u001b[0m\n\u001b[1;32m    412\u001b[0m     msg \u001b[38;5;241m=\u001b[39m \u001b[38;5;124m\"\u001b[39m\u001b[38;5;124mCan\u001b[39m\u001b[38;5;124m'\u001b[39m\u001b[38;5;124mt pickle \u001b[39m\u001b[38;5;132;01m%s\u001b[39;00m\u001b[38;5;124m: attribute lookup builtins.generator failed\u001b[39m\u001b[38;5;124m\"\u001b[39m \u001b[38;5;241m%\u001b[39m GeneratorType\n\u001b[1;32m    413\u001b[0m     \u001b[38;5;28;01mraise\u001b[39;00m PicklingError(msg)\n\u001b[0;32m--> 414\u001b[0m \u001b[43mStockPickler\u001b[49m\u001b[38;5;241;43m.\u001b[39;49m\u001b[43msave\u001b[49m\u001b[43m(\u001b[49m\u001b[38;5;28;43mself\u001b[39;49m\u001b[43m,\u001b[49m\u001b[43m \u001b[49m\u001b[43mobj\u001b[49m\u001b[43m,\u001b[49m\u001b[43m \u001b[49m\u001b[43msave_persistent_id\u001b[49m\u001b[43m)\u001b[49m\n",
      "File \u001b[0;32m~/.pyenv/versions/3.9.7/lib/python3.9/pickle.py:560\u001b[0m, in \u001b[0;36m_Pickler.save\u001b[0;34m(self, obj, save_persistent_id)\u001b[0m\n\u001b[1;32m    558\u001b[0m f \u001b[38;5;241m=\u001b[39m \u001b[38;5;28mself\u001b[39m\u001b[38;5;241m.\u001b[39mdispatch\u001b[38;5;241m.\u001b[39mget(t)\n\u001b[1;32m    559\u001b[0m \u001b[38;5;28;01mif\u001b[39;00m f \u001b[38;5;129;01mis\u001b[39;00m \u001b[38;5;129;01mnot\u001b[39;00m \u001b[38;5;28;01mNone\u001b[39;00m:\n\u001b[0;32m--> 560\u001b[0m     \u001b[43mf\u001b[49m\u001b[43m(\u001b[49m\u001b[38;5;28;43mself\u001b[39;49m\u001b[43m,\u001b[49m\u001b[43m \u001b[49m\u001b[43mobj\u001b[49m\u001b[43m)\u001b[49m  \u001b[38;5;66;03m# Call unbound method with explicit self\u001b[39;00m\n\u001b[1;32m    561\u001b[0m     \u001b[38;5;28;01mreturn\u001b[39;00m\n\u001b[1;32m    563\u001b[0m \u001b[38;5;66;03m# Check private dispatch table if any, or else\u001b[39;00m\n\u001b[1;32m    564\u001b[0m \u001b[38;5;66;03m# copyreg.dispatch_table\u001b[39;00m\n",
      "File \u001b[0;32m~/.pyenv/versions/3.9.7/lib/python3.9/pickle.py:886\u001b[0m, in \u001b[0;36m_Pickler.save_tuple\u001b[0;34m(self, obj)\u001b[0m\n\u001b[1;32m    884\u001b[0m \u001b[38;5;28;01mif\u001b[39;00m n \u001b[38;5;241m<\u001b[39m\u001b[38;5;241m=\u001b[39m \u001b[38;5;241m3\u001b[39m \u001b[38;5;129;01mand\u001b[39;00m \u001b[38;5;28mself\u001b[39m\u001b[38;5;241m.\u001b[39mproto \u001b[38;5;241m>\u001b[39m\u001b[38;5;241m=\u001b[39m \u001b[38;5;241m2\u001b[39m:\n\u001b[1;32m    885\u001b[0m     \u001b[38;5;28;01mfor\u001b[39;00m element \u001b[38;5;129;01min\u001b[39;00m obj:\n\u001b[0;32m--> 886\u001b[0m         \u001b[43msave\u001b[49m\u001b[43m(\u001b[49m\u001b[43melement\u001b[49m\u001b[43m)\u001b[49m\n\u001b[1;32m    887\u001b[0m     \u001b[38;5;66;03m# Subtle.  Same as in the big comment below.\u001b[39;00m\n\u001b[1;32m    888\u001b[0m     \u001b[38;5;28;01mif\u001b[39;00m \u001b[38;5;28mid\u001b[39m(obj) \u001b[38;5;129;01min\u001b[39;00m memo:\n",
      "File \u001b[0;32m~/.cache/pypoetry/virtualenvs/t-res-rAxVKS4n-py3.9/lib/python3.9/site-packages/dill/_dill.py:414\u001b[0m, in \u001b[0;36mPickler.save\u001b[0;34m(self, obj, save_persistent_id)\u001b[0m\n\u001b[1;32m    412\u001b[0m     msg \u001b[38;5;241m=\u001b[39m \u001b[38;5;124m\"\u001b[39m\u001b[38;5;124mCan\u001b[39m\u001b[38;5;124m'\u001b[39m\u001b[38;5;124mt pickle \u001b[39m\u001b[38;5;132;01m%s\u001b[39;00m\u001b[38;5;124m: attribute lookup builtins.generator failed\u001b[39m\u001b[38;5;124m\"\u001b[39m \u001b[38;5;241m%\u001b[39m GeneratorType\n\u001b[1;32m    413\u001b[0m     \u001b[38;5;28;01mraise\u001b[39;00m PicklingError(msg)\n\u001b[0;32m--> 414\u001b[0m \u001b[43mStockPickler\u001b[49m\u001b[38;5;241;43m.\u001b[39;49m\u001b[43msave\u001b[49m\u001b[43m(\u001b[49m\u001b[38;5;28;43mself\u001b[39;49m\u001b[43m,\u001b[49m\u001b[43m \u001b[49m\u001b[43mobj\u001b[49m\u001b[43m,\u001b[49m\u001b[43m \u001b[49m\u001b[43msave_persistent_id\u001b[49m\u001b[43m)\u001b[49m\n",
      "File \u001b[0;32m~/.pyenv/versions/3.9.7/lib/python3.9/pickle.py:603\u001b[0m, in \u001b[0;36m_Pickler.save\u001b[0;34m(self, obj, save_persistent_id)\u001b[0m\n\u001b[1;32m    599\u001b[0m     \u001b[38;5;28;01mraise\u001b[39;00m PicklingError(\u001b[38;5;124m\"\u001b[39m\u001b[38;5;124mTuple returned by \u001b[39m\u001b[38;5;132;01m%s\u001b[39;00m\u001b[38;5;124m must have \u001b[39m\u001b[38;5;124m\"\u001b[39m\n\u001b[1;32m    600\u001b[0m                         \u001b[38;5;124m\"\u001b[39m\u001b[38;5;124mtwo to six elements\u001b[39m\u001b[38;5;124m\"\u001b[39m \u001b[38;5;241m%\u001b[39m reduce)\n\u001b[1;32m    602\u001b[0m \u001b[38;5;66;03m# Save the reduce() output and finally memoize the object\u001b[39;00m\n\u001b[0;32m--> 603\u001b[0m \u001b[38;5;28;43mself\u001b[39;49m\u001b[38;5;241;43m.\u001b[39;49m\u001b[43msave_reduce\u001b[49m\u001b[43m(\u001b[49m\u001b[43mobj\u001b[49m\u001b[38;5;241;43m=\u001b[39;49m\u001b[43mobj\u001b[49m\u001b[43m,\u001b[49m\u001b[43m \u001b[49m\u001b[38;5;241;43m*\u001b[39;49m\u001b[43mrv\u001b[49m\u001b[43m)\u001b[49m\n",
      "File \u001b[0;32m~/.pyenv/versions/3.9.7/lib/python3.9/pickle.py:717\u001b[0m, in \u001b[0;36m_Pickler.save_reduce\u001b[0;34m(self, func, args, state, listitems, dictitems, state_setter, obj)\u001b[0m\n\u001b[1;32m    715\u001b[0m \u001b[38;5;28;01mif\u001b[39;00m state \u001b[38;5;129;01mis\u001b[39;00m \u001b[38;5;129;01mnot\u001b[39;00m \u001b[38;5;28;01mNone\u001b[39;00m:\n\u001b[1;32m    716\u001b[0m     \u001b[38;5;28;01mif\u001b[39;00m state_setter \u001b[38;5;129;01mis\u001b[39;00m \u001b[38;5;28;01mNone\u001b[39;00m:\n\u001b[0;32m--> 717\u001b[0m         \u001b[43msave\u001b[49m\u001b[43m(\u001b[49m\u001b[43mstate\u001b[49m\u001b[43m)\u001b[49m\n\u001b[1;32m    718\u001b[0m         write(BUILD)\n\u001b[1;32m    719\u001b[0m     \u001b[38;5;28;01melse\u001b[39;00m:\n\u001b[1;32m    720\u001b[0m         \u001b[38;5;66;03m# If a state_setter is specified, call it instead of load_build\u001b[39;00m\n\u001b[1;32m    721\u001b[0m         \u001b[38;5;66;03m# to update obj's with its previous state.\u001b[39;00m\n\u001b[1;32m    722\u001b[0m         \u001b[38;5;66;03m# First, push state_setter and its tuple of expected arguments\u001b[39;00m\n\u001b[1;32m    723\u001b[0m         \u001b[38;5;66;03m# (obj, state) onto the stack.\u001b[39;00m\n",
      "File \u001b[0;32m~/.cache/pypoetry/virtualenvs/t-res-rAxVKS4n-py3.9/lib/python3.9/site-packages/dill/_dill.py:414\u001b[0m, in \u001b[0;36mPickler.save\u001b[0;34m(self, obj, save_persistent_id)\u001b[0m\n\u001b[1;32m    412\u001b[0m     msg \u001b[38;5;241m=\u001b[39m \u001b[38;5;124m\"\u001b[39m\u001b[38;5;124mCan\u001b[39m\u001b[38;5;124m'\u001b[39m\u001b[38;5;124mt pickle \u001b[39m\u001b[38;5;132;01m%s\u001b[39;00m\u001b[38;5;124m: attribute lookup builtins.generator failed\u001b[39m\u001b[38;5;124m\"\u001b[39m \u001b[38;5;241m%\u001b[39m GeneratorType\n\u001b[1;32m    413\u001b[0m     \u001b[38;5;28;01mraise\u001b[39;00m PicklingError(msg)\n\u001b[0;32m--> 414\u001b[0m \u001b[43mStockPickler\u001b[49m\u001b[38;5;241;43m.\u001b[39;49m\u001b[43msave\u001b[49m\u001b[43m(\u001b[49m\u001b[38;5;28;43mself\u001b[39;49m\u001b[43m,\u001b[49m\u001b[43m \u001b[49m\u001b[43mobj\u001b[49m\u001b[43m,\u001b[49m\u001b[43m \u001b[49m\u001b[43msave_persistent_id\u001b[49m\u001b[43m)\u001b[49m\n",
      "File \u001b[0;32m~/.pyenv/versions/3.9.7/lib/python3.9/pickle.py:560\u001b[0m, in \u001b[0;36m_Pickler.save\u001b[0;34m(self, obj, save_persistent_id)\u001b[0m\n\u001b[1;32m    558\u001b[0m f \u001b[38;5;241m=\u001b[39m \u001b[38;5;28mself\u001b[39m\u001b[38;5;241m.\u001b[39mdispatch\u001b[38;5;241m.\u001b[39mget(t)\n\u001b[1;32m    559\u001b[0m \u001b[38;5;28;01mif\u001b[39;00m f \u001b[38;5;129;01mis\u001b[39;00m \u001b[38;5;129;01mnot\u001b[39;00m \u001b[38;5;28;01mNone\u001b[39;00m:\n\u001b[0;32m--> 560\u001b[0m     \u001b[43mf\u001b[49m\u001b[43m(\u001b[49m\u001b[38;5;28;43mself\u001b[39;49m\u001b[43m,\u001b[49m\u001b[43m \u001b[49m\u001b[43mobj\u001b[49m\u001b[43m)\u001b[49m  \u001b[38;5;66;03m# Call unbound method with explicit self\u001b[39;00m\n\u001b[1;32m    561\u001b[0m     \u001b[38;5;28;01mreturn\u001b[39;00m\n\u001b[1;32m    563\u001b[0m \u001b[38;5;66;03m# Check private dispatch table if any, or else\u001b[39;00m\n\u001b[1;32m    564\u001b[0m \u001b[38;5;66;03m# copyreg.dispatch_table\u001b[39;00m\n",
      "File \u001b[0;32m~/.cache/pypoetry/virtualenvs/t-res-rAxVKS4n-py3.9/lib/python3.9/site-packages/dill/_dill.py:1217\u001b[0m, in \u001b[0;36msave_module_dict\u001b[0;34m(pickler, obj)\u001b[0m\n\u001b[1;32m   1214\u001b[0m     \u001b[38;5;28;01mif\u001b[39;00m is_dill(pickler, child\u001b[38;5;241m=\u001b[39m\u001b[38;5;28;01mFalse\u001b[39;00m) \u001b[38;5;129;01mand\u001b[39;00m pickler\u001b[38;5;241m.\u001b[39m_session:\n\u001b[1;32m   1215\u001b[0m         \u001b[38;5;66;03m# we only care about session the first pass thru\u001b[39;00m\n\u001b[1;32m   1216\u001b[0m         pickler\u001b[38;5;241m.\u001b[39m_first_pass \u001b[38;5;241m=\u001b[39m \u001b[38;5;28;01mFalse\u001b[39;00m\n\u001b[0;32m-> 1217\u001b[0m     \u001b[43mStockPickler\u001b[49m\u001b[38;5;241;43m.\u001b[39;49m\u001b[43msave_dict\u001b[49m\u001b[43m(\u001b[49m\u001b[43mpickler\u001b[49m\u001b[43m,\u001b[49m\u001b[43m \u001b[49m\u001b[43mobj\u001b[49m\u001b[43m)\u001b[49m\n\u001b[1;32m   1218\u001b[0m     logger\u001b[38;5;241m.\u001b[39mtrace(pickler, \u001b[38;5;124m\"\u001b[39m\u001b[38;5;124m# D2\u001b[39m\u001b[38;5;124m\"\u001b[39m)\n\u001b[1;32m   1219\u001b[0m \u001b[38;5;28;01mreturn\u001b[39;00m\n",
      "File \u001b[0;32m~/.pyenv/versions/3.9.7/lib/python3.9/pickle.py:971\u001b[0m, in \u001b[0;36m_Pickler.save_dict\u001b[0;34m(self, obj)\u001b[0m\n\u001b[1;32m    968\u001b[0m     \u001b[38;5;28mself\u001b[39m\u001b[38;5;241m.\u001b[39mwrite(MARK \u001b[38;5;241m+\u001b[39m DICT)\n\u001b[1;32m    970\u001b[0m \u001b[38;5;28mself\u001b[39m\u001b[38;5;241m.\u001b[39mmemoize(obj)\n\u001b[0;32m--> 971\u001b[0m \u001b[38;5;28;43mself\u001b[39;49m\u001b[38;5;241;43m.\u001b[39;49m\u001b[43m_batch_setitems\u001b[49m\u001b[43m(\u001b[49m\u001b[43mobj\u001b[49m\u001b[38;5;241;43m.\u001b[39;49m\u001b[43mitems\u001b[49m\u001b[43m(\u001b[49m\u001b[43m)\u001b[49m\u001b[43m)\u001b[49m\n",
      "File \u001b[0;32m~/.pyenv/versions/3.9.7/lib/python3.9/pickle.py:997\u001b[0m, in \u001b[0;36m_Pickler._batch_setitems\u001b[0;34m(self, items)\u001b[0m\n\u001b[1;32m    995\u001b[0m     \u001b[38;5;28;01mfor\u001b[39;00m k, v \u001b[38;5;129;01min\u001b[39;00m tmp:\n\u001b[1;32m    996\u001b[0m         save(k)\n\u001b[0;32m--> 997\u001b[0m         \u001b[43msave\u001b[49m\u001b[43m(\u001b[49m\u001b[43mv\u001b[49m\u001b[43m)\u001b[49m\n\u001b[1;32m    998\u001b[0m     write(SETITEMS)\n\u001b[1;32m    999\u001b[0m \u001b[38;5;28;01melif\u001b[39;00m n:\n",
      "File \u001b[0;32m~/.cache/pypoetry/virtualenvs/t-res-rAxVKS4n-py3.9/lib/python3.9/site-packages/dill/_dill.py:414\u001b[0m, in \u001b[0;36mPickler.save\u001b[0;34m(self, obj, save_persistent_id)\u001b[0m\n\u001b[1;32m    412\u001b[0m     msg \u001b[38;5;241m=\u001b[39m \u001b[38;5;124m\"\u001b[39m\u001b[38;5;124mCan\u001b[39m\u001b[38;5;124m'\u001b[39m\u001b[38;5;124mt pickle \u001b[39m\u001b[38;5;132;01m%s\u001b[39;00m\u001b[38;5;124m: attribute lookup builtins.generator failed\u001b[39m\u001b[38;5;124m\"\u001b[39m \u001b[38;5;241m%\u001b[39m GeneratorType\n\u001b[1;32m    413\u001b[0m     \u001b[38;5;28;01mraise\u001b[39;00m PicklingError(msg)\n\u001b[0;32m--> 414\u001b[0m \u001b[43mStockPickler\u001b[49m\u001b[38;5;241;43m.\u001b[39;49m\u001b[43msave\u001b[49m\u001b[43m(\u001b[49m\u001b[38;5;28;43mself\u001b[39;49m\u001b[43m,\u001b[49m\u001b[43m \u001b[49m\u001b[43mobj\u001b[49m\u001b[43m,\u001b[49m\u001b[43m \u001b[49m\u001b[43msave_persistent_id\u001b[49m\u001b[43m)\u001b[49m\n",
      "File \u001b[0;32m~/.pyenv/versions/3.9.7/lib/python3.9/pickle.py:560\u001b[0m, in \u001b[0;36m_Pickler.save\u001b[0;34m(self, obj, save_persistent_id)\u001b[0m\n\u001b[1;32m    558\u001b[0m f \u001b[38;5;241m=\u001b[39m \u001b[38;5;28mself\u001b[39m\u001b[38;5;241m.\u001b[39mdispatch\u001b[38;5;241m.\u001b[39mget(t)\n\u001b[1;32m    559\u001b[0m \u001b[38;5;28;01mif\u001b[39;00m f \u001b[38;5;129;01mis\u001b[39;00m \u001b[38;5;129;01mnot\u001b[39;00m \u001b[38;5;28;01mNone\u001b[39;00m:\n\u001b[0;32m--> 560\u001b[0m     \u001b[43mf\u001b[49m\u001b[43m(\u001b[49m\u001b[38;5;28;43mself\u001b[39;49m\u001b[43m,\u001b[49m\u001b[43m \u001b[49m\u001b[43mobj\u001b[49m\u001b[43m)\u001b[49m  \u001b[38;5;66;03m# Call unbound method with explicit self\u001b[39;00m\n\u001b[1;32m    561\u001b[0m     \u001b[38;5;28;01mreturn\u001b[39;00m\n\u001b[1;32m    563\u001b[0m \u001b[38;5;66;03m# Check private dispatch table if any, or else\u001b[39;00m\n\u001b[1;32m    564\u001b[0m \u001b[38;5;66;03m# copyreg.dispatch_table\u001b[39;00m\n",
      "File \u001b[0;32m~/.cache/pypoetry/virtualenvs/t-res-rAxVKS4n-py3.9/lib/python3.9/site-packages/dill/_dill.py:1217\u001b[0m, in \u001b[0;36msave_module_dict\u001b[0;34m(pickler, obj)\u001b[0m\n\u001b[1;32m   1214\u001b[0m     \u001b[38;5;28;01mif\u001b[39;00m is_dill(pickler, child\u001b[38;5;241m=\u001b[39m\u001b[38;5;28;01mFalse\u001b[39;00m) \u001b[38;5;129;01mand\u001b[39;00m pickler\u001b[38;5;241m.\u001b[39m_session:\n\u001b[1;32m   1215\u001b[0m         \u001b[38;5;66;03m# we only care about session the first pass thru\u001b[39;00m\n\u001b[1;32m   1216\u001b[0m         pickler\u001b[38;5;241m.\u001b[39m_first_pass \u001b[38;5;241m=\u001b[39m \u001b[38;5;28;01mFalse\u001b[39;00m\n\u001b[0;32m-> 1217\u001b[0m     \u001b[43mStockPickler\u001b[49m\u001b[38;5;241;43m.\u001b[39;49m\u001b[43msave_dict\u001b[49m\u001b[43m(\u001b[49m\u001b[43mpickler\u001b[49m\u001b[43m,\u001b[49m\u001b[43m \u001b[49m\u001b[43mobj\u001b[49m\u001b[43m)\u001b[49m\n\u001b[1;32m   1218\u001b[0m     logger\u001b[38;5;241m.\u001b[39mtrace(pickler, \u001b[38;5;124m\"\u001b[39m\u001b[38;5;124m# D2\u001b[39m\u001b[38;5;124m\"\u001b[39m)\n\u001b[1;32m   1219\u001b[0m \u001b[38;5;28;01mreturn\u001b[39;00m\n",
      "File \u001b[0;32m~/.pyenv/versions/3.9.7/lib/python3.9/pickle.py:971\u001b[0m, in \u001b[0;36m_Pickler.save_dict\u001b[0;34m(self, obj)\u001b[0m\n\u001b[1;32m    968\u001b[0m     \u001b[38;5;28mself\u001b[39m\u001b[38;5;241m.\u001b[39mwrite(MARK \u001b[38;5;241m+\u001b[39m DICT)\n\u001b[1;32m    970\u001b[0m \u001b[38;5;28mself\u001b[39m\u001b[38;5;241m.\u001b[39mmemoize(obj)\n\u001b[0;32m--> 971\u001b[0m \u001b[38;5;28;43mself\u001b[39;49m\u001b[38;5;241;43m.\u001b[39;49m\u001b[43m_batch_setitems\u001b[49m\u001b[43m(\u001b[49m\u001b[43mobj\u001b[49m\u001b[38;5;241;43m.\u001b[39;49m\u001b[43mitems\u001b[49m\u001b[43m(\u001b[49m\u001b[43m)\u001b[49m\u001b[43m)\u001b[49m\n",
      "File \u001b[0;32m~/.pyenv/versions/3.9.7/lib/python3.9/pickle.py:997\u001b[0m, in \u001b[0;36m_Pickler._batch_setitems\u001b[0;34m(self, items)\u001b[0m\n\u001b[1;32m    995\u001b[0m     \u001b[38;5;28;01mfor\u001b[39;00m k, v \u001b[38;5;129;01min\u001b[39;00m tmp:\n\u001b[1;32m    996\u001b[0m         save(k)\n\u001b[0;32m--> 997\u001b[0m         \u001b[43msave\u001b[49m\u001b[43m(\u001b[49m\u001b[43mv\u001b[49m\u001b[43m)\u001b[49m\n\u001b[1;32m    998\u001b[0m     write(SETITEMS)\n\u001b[1;32m    999\u001b[0m \u001b[38;5;28;01melif\u001b[39;00m n:\n",
      "File \u001b[0;32m~/.cache/pypoetry/virtualenvs/t-res-rAxVKS4n-py3.9/lib/python3.9/site-packages/dill/_dill.py:414\u001b[0m, in \u001b[0;36mPickler.save\u001b[0;34m(self, obj, save_persistent_id)\u001b[0m\n\u001b[1;32m    412\u001b[0m     msg \u001b[38;5;241m=\u001b[39m \u001b[38;5;124m\"\u001b[39m\u001b[38;5;124mCan\u001b[39m\u001b[38;5;124m'\u001b[39m\u001b[38;5;124mt pickle \u001b[39m\u001b[38;5;132;01m%s\u001b[39;00m\u001b[38;5;124m: attribute lookup builtins.generator failed\u001b[39m\u001b[38;5;124m\"\u001b[39m \u001b[38;5;241m%\u001b[39m GeneratorType\n\u001b[1;32m    413\u001b[0m     \u001b[38;5;28;01mraise\u001b[39;00m PicklingError(msg)\n\u001b[0;32m--> 414\u001b[0m \u001b[43mStockPickler\u001b[49m\u001b[38;5;241;43m.\u001b[39;49m\u001b[43msave\u001b[49m\u001b[43m(\u001b[49m\u001b[38;5;28;43mself\u001b[39;49m\u001b[43m,\u001b[49m\u001b[43m \u001b[49m\u001b[43mobj\u001b[49m\u001b[43m,\u001b[49m\u001b[43m \u001b[49m\u001b[43msave_persistent_id\u001b[49m\u001b[43m)\u001b[49m\n",
      "File \u001b[0;32m~/.pyenv/versions/3.9.7/lib/python3.9/pickle.py:560\u001b[0m, in \u001b[0;36m_Pickler.save\u001b[0;34m(self, obj, save_persistent_id)\u001b[0m\n\u001b[1;32m    558\u001b[0m f \u001b[38;5;241m=\u001b[39m \u001b[38;5;28mself\u001b[39m\u001b[38;5;241m.\u001b[39mdispatch\u001b[38;5;241m.\u001b[39mget(t)\n\u001b[1;32m    559\u001b[0m \u001b[38;5;28;01mif\u001b[39;00m f \u001b[38;5;129;01mis\u001b[39;00m \u001b[38;5;129;01mnot\u001b[39;00m \u001b[38;5;28;01mNone\u001b[39;00m:\n\u001b[0;32m--> 560\u001b[0m     \u001b[43mf\u001b[49m\u001b[43m(\u001b[49m\u001b[38;5;28;43mself\u001b[39;49m\u001b[43m,\u001b[49m\u001b[43m \u001b[49m\u001b[43mobj\u001b[49m\u001b[43m)\u001b[49m  \u001b[38;5;66;03m# Call unbound method with explicit self\u001b[39;00m\n\u001b[1;32m    561\u001b[0m     \u001b[38;5;28;01mreturn\u001b[39;00m\n\u001b[1;32m    563\u001b[0m \u001b[38;5;66;03m# Check private dispatch table if any, or else\u001b[39;00m\n\u001b[1;32m    564\u001b[0m \u001b[38;5;66;03m# copyreg.dispatch_table\u001b[39;00m\n",
      "File \u001b[0;32m~/.cache/pypoetry/virtualenvs/t-res-rAxVKS4n-py3.9/lib/python3.9/site-packages/dill/_dill.py:1217\u001b[0m, in \u001b[0;36msave_module_dict\u001b[0;34m(pickler, obj)\u001b[0m\n\u001b[1;32m   1214\u001b[0m     \u001b[38;5;28;01mif\u001b[39;00m is_dill(pickler, child\u001b[38;5;241m=\u001b[39m\u001b[38;5;28;01mFalse\u001b[39;00m) \u001b[38;5;129;01mand\u001b[39;00m pickler\u001b[38;5;241m.\u001b[39m_session:\n\u001b[1;32m   1215\u001b[0m         \u001b[38;5;66;03m# we only care about session the first pass thru\u001b[39;00m\n\u001b[1;32m   1216\u001b[0m         pickler\u001b[38;5;241m.\u001b[39m_first_pass \u001b[38;5;241m=\u001b[39m \u001b[38;5;28;01mFalse\u001b[39;00m\n\u001b[0;32m-> 1217\u001b[0m     \u001b[43mStockPickler\u001b[49m\u001b[38;5;241;43m.\u001b[39;49m\u001b[43msave_dict\u001b[49m\u001b[43m(\u001b[49m\u001b[43mpickler\u001b[49m\u001b[43m,\u001b[49m\u001b[43m \u001b[49m\u001b[43mobj\u001b[49m\u001b[43m)\u001b[49m\n\u001b[1;32m   1218\u001b[0m     logger\u001b[38;5;241m.\u001b[39mtrace(pickler, \u001b[38;5;124m\"\u001b[39m\u001b[38;5;124m# D2\u001b[39m\u001b[38;5;124m\"\u001b[39m)\n\u001b[1;32m   1219\u001b[0m \u001b[38;5;28;01mreturn\u001b[39;00m\n",
      "File \u001b[0;32m~/.pyenv/versions/3.9.7/lib/python3.9/pickle.py:971\u001b[0m, in \u001b[0;36m_Pickler.save_dict\u001b[0;34m(self, obj)\u001b[0m\n\u001b[1;32m    968\u001b[0m     \u001b[38;5;28mself\u001b[39m\u001b[38;5;241m.\u001b[39mwrite(MARK \u001b[38;5;241m+\u001b[39m DICT)\n\u001b[1;32m    970\u001b[0m \u001b[38;5;28mself\u001b[39m\u001b[38;5;241m.\u001b[39mmemoize(obj)\n\u001b[0;32m--> 971\u001b[0m \u001b[38;5;28;43mself\u001b[39;49m\u001b[38;5;241;43m.\u001b[39;49m\u001b[43m_batch_setitems\u001b[49m\u001b[43m(\u001b[49m\u001b[43mobj\u001b[49m\u001b[38;5;241;43m.\u001b[39;49m\u001b[43mitems\u001b[49m\u001b[43m(\u001b[49m\u001b[43m)\u001b[49m\u001b[43m)\u001b[49m\n",
      "File \u001b[0;32m~/.pyenv/versions/3.9.7/lib/python3.9/pickle.py:996\u001b[0m, in \u001b[0;36m_Pickler._batch_setitems\u001b[0;34m(self, items)\u001b[0m\n\u001b[1;32m    994\u001b[0m write(MARK)\n\u001b[1;32m    995\u001b[0m \u001b[38;5;28;01mfor\u001b[39;00m k, v \u001b[38;5;129;01min\u001b[39;00m tmp:\n\u001b[0;32m--> 996\u001b[0m     \u001b[43msave\u001b[49m\u001b[43m(\u001b[49m\u001b[43mk\u001b[49m\u001b[43m)\u001b[49m\n\u001b[1;32m    997\u001b[0m     save(v)\n\u001b[1;32m    998\u001b[0m write(SETITEMS)\n",
      "File \u001b[0;32m~/.cache/pypoetry/virtualenvs/t-res-rAxVKS4n-py3.9/lib/python3.9/site-packages/dill/_dill.py:414\u001b[0m, in \u001b[0;36mPickler.save\u001b[0;34m(self, obj, save_persistent_id)\u001b[0m\n\u001b[1;32m    412\u001b[0m     msg \u001b[38;5;241m=\u001b[39m \u001b[38;5;124m\"\u001b[39m\u001b[38;5;124mCan\u001b[39m\u001b[38;5;124m'\u001b[39m\u001b[38;5;124mt pickle \u001b[39m\u001b[38;5;132;01m%s\u001b[39;00m\u001b[38;5;124m: attribute lookup builtins.generator failed\u001b[39m\u001b[38;5;124m\"\u001b[39m \u001b[38;5;241m%\u001b[39m GeneratorType\n\u001b[1;32m    413\u001b[0m     \u001b[38;5;28;01mraise\u001b[39;00m PicklingError(msg)\n\u001b[0;32m--> 414\u001b[0m \u001b[43mStockPickler\u001b[49m\u001b[38;5;241;43m.\u001b[39;49m\u001b[43msave\u001b[49m\u001b[43m(\u001b[49m\u001b[38;5;28;43mself\u001b[39;49m\u001b[43m,\u001b[49m\u001b[43m \u001b[49m\u001b[43mobj\u001b[49m\u001b[43m,\u001b[49m\u001b[43m \u001b[49m\u001b[43msave_persistent_id\u001b[49m\u001b[43m)\u001b[49m\n",
      "File \u001b[0;32m~/.pyenv/versions/3.9.7/lib/python3.9/pickle.py:560\u001b[0m, in \u001b[0;36m_Pickler.save\u001b[0;34m(self, obj, save_persistent_id)\u001b[0m\n\u001b[1;32m    558\u001b[0m f \u001b[38;5;241m=\u001b[39m \u001b[38;5;28mself\u001b[39m\u001b[38;5;241m.\u001b[39mdispatch\u001b[38;5;241m.\u001b[39mget(t)\n\u001b[1;32m    559\u001b[0m \u001b[38;5;28;01mif\u001b[39;00m f \u001b[38;5;129;01mis\u001b[39;00m \u001b[38;5;129;01mnot\u001b[39;00m \u001b[38;5;28;01mNone\u001b[39;00m:\n\u001b[0;32m--> 560\u001b[0m     \u001b[43mf\u001b[49m\u001b[43m(\u001b[49m\u001b[38;5;28;43mself\u001b[39;49m\u001b[43m,\u001b[49m\u001b[43m \u001b[49m\u001b[43mobj\u001b[49m\u001b[43m)\u001b[49m  \u001b[38;5;66;03m# Call unbound method with explicit self\u001b[39;00m\n\u001b[1;32m    561\u001b[0m     \u001b[38;5;28;01mreturn\u001b[39;00m\n\u001b[1;32m    563\u001b[0m \u001b[38;5;66;03m# Check private dispatch table if any, or else\u001b[39;00m\n\u001b[1;32m    564\u001b[0m \u001b[38;5;66;03m# copyreg.dispatch_table\u001b[39;00m\n",
      "File \u001b[0;32m~/.pyenv/versions/3.9.7/lib/python3.9/pickle.py:870\u001b[0m, in \u001b[0;36m_Pickler.save_str\u001b[0;34m(self, obj)\u001b[0m\n\u001b[1;32m    867\u001b[0m     obj \u001b[38;5;241m=\u001b[39m obj\u001b[38;5;241m.\u001b[39mreplace(\u001b[38;5;124m\"\u001b[39m\u001b[38;5;130;01m\\x1a\u001b[39;00m\u001b[38;5;124m\"\u001b[39m, \u001b[38;5;124m\"\u001b[39m\u001b[38;5;130;01m\\\\\u001b[39;00m\u001b[38;5;124mu001a\u001b[39m\u001b[38;5;124m\"\u001b[39m)  \u001b[38;5;66;03m# EOF on DOS\u001b[39;00m\n\u001b[1;32m    868\u001b[0m     \u001b[38;5;28mself\u001b[39m\u001b[38;5;241m.\u001b[39mwrite(UNICODE \u001b[38;5;241m+\u001b[39m obj\u001b[38;5;241m.\u001b[39mencode(\u001b[38;5;124m'\u001b[39m\u001b[38;5;124mraw-unicode-escape\u001b[39m\u001b[38;5;124m'\u001b[39m) \u001b[38;5;241m+\u001b[39m\n\u001b[1;32m    869\u001b[0m                \u001b[38;5;124mb\u001b[39m\u001b[38;5;124m'\u001b[39m\u001b[38;5;130;01m\\n\u001b[39;00m\u001b[38;5;124m'\u001b[39m)\n\u001b[0;32m--> 870\u001b[0m \u001b[38;5;28;43mself\u001b[39;49m\u001b[38;5;241;43m.\u001b[39;49m\u001b[43mmemoize\u001b[49m\u001b[43m(\u001b[49m\u001b[43mobj\u001b[49m\u001b[43m)\u001b[49m\n",
      "File \u001b[0;32m~/.pyenv/versions/3.9.7/lib/python3.9/pickle.py:510\u001b[0m, in \u001b[0;36m_Pickler.memoize\u001b[0;34m(self, obj)\u001b[0m\n\u001b[1;32m    508\u001b[0m \u001b[38;5;28;01massert\u001b[39;00m \u001b[38;5;28mid\u001b[39m(obj) \u001b[38;5;129;01mnot\u001b[39;00m \u001b[38;5;129;01min\u001b[39;00m \u001b[38;5;28mself\u001b[39m\u001b[38;5;241m.\u001b[39mmemo\n\u001b[1;32m    509\u001b[0m idx \u001b[38;5;241m=\u001b[39m \u001b[38;5;28mlen\u001b[39m(\u001b[38;5;28mself\u001b[39m\u001b[38;5;241m.\u001b[39mmemo)\n\u001b[0;32m--> 510\u001b[0m \u001b[38;5;28;43mself\u001b[39;49m\u001b[38;5;241;43m.\u001b[39;49m\u001b[43mwrite\u001b[49m\u001b[43m(\u001b[49m\u001b[38;5;28;43mself\u001b[39;49m\u001b[38;5;241;43m.\u001b[39;49m\u001b[43mput\u001b[49m\u001b[43m(\u001b[49m\u001b[43midx\u001b[49m\u001b[43m)\u001b[49m\u001b[43m)\u001b[49m\n\u001b[1;32m    511\u001b[0m \u001b[38;5;28mself\u001b[39m\u001b[38;5;241m.\u001b[39mmemo[\u001b[38;5;28mid\u001b[39m(obj)] \u001b[38;5;241m=\u001b[39m idx, obj\n",
      "File \u001b[0;32m~/.pyenv/versions/3.9.7/lib/python3.9/pickle.py:243\u001b[0m, in \u001b[0;36m_Framer.write\u001b[0;34m(self, data)\u001b[0m\n\u001b[1;32m    241\u001b[0m \u001b[38;5;28;01mdef\u001b[39;00m \u001b[38;5;21mwrite\u001b[39m(\u001b[38;5;28mself\u001b[39m, data):\n\u001b[1;32m    242\u001b[0m     \u001b[38;5;28;01mif\u001b[39;00m \u001b[38;5;28mself\u001b[39m\u001b[38;5;241m.\u001b[39mcurrent_frame:\n\u001b[0;32m--> 243\u001b[0m         \u001b[38;5;28;01mreturn\u001b[39;00m \u001b[38;5;28;43mself\u001b[39;49m\u001b[38;5;241;43m.\u001b[39;49m\u001b[43mcurrent_frame\u001b[49m\u001b[38;5;241;43m.\u001b[39;49m\u001b[43mwrite\u001b[49m\u001b[43m(\u001b[49m\u001b[43mdata\u001b[49m\u001b[43m)\u001b[49m\n\u001b[1;32m    244\u001b[0m     \u001b[38;5;28;01melse\u001b[39;00m:\n\u001b[1;32m    245\u001b[0m         \u001b[38;5;28;01mreturn\u001b[39;00m \u001b[38;5;28mself\u001b[39m\u001b[38;5;241m.\u001b[39mfile_write(data)\n",
      "\u001b[0;31mKeyboardInterrupt\u001b[0m: "
     ]
    }
   ],
   "source": [
    "geoparser = geode_pipe.Pipeline(geodeNERpath=NER_path,\n",
    "                              myranker=myranker,\n",
    "                              mylinker=mylinker)"
   ]
  },
  {
   "cell_type": "code",
   "execution_count": null,
   "metadata": {
    "collapsed": true,
    "jupyter": {
     "outputs_hidden": true
    }
   },
   "outputs": [
    {
     "name": "stdout",
     "output_type": "stream",
     "text": [
      "{\n",
      "  \"mention\": \"ALBI\",\n",
      "  \"ner_score\": 1,\n",
      "  \"pos\": 2,\n",
      "  \"sent_idx\": 0,\n",
      "  \"end_pos\": 5,\n",
      "  \"tag\": \"B-LOC\",\n",
      "  \"sentence\": \"* ALBI, (G\\u00e9og.) capitale de l'Albigeois, dans le haut Languedoc : elle est sur le Tarn. Long. 19. 49. lat. 43. 55. 44.\",\n",
      "  \"prediction\": \"Q132801\",\n",
      "  \"ed_score\": 0.921,\n",
      "  \"string_match_score\": {\n",
      "    \"Albi\": [\n",
      "      1.0,\n",
      "      [\n",
      "        \"Q94744\",\n",
      "        \"Q132801\",\n",
      "        \"Q951428\",\n",
      "        \"Q53749\",\n",
      "        \"Q284698\",\n",
      "        \"Q700379\"\n",
      "      ]\n",
      "    ]\n",
      "  },\n",
      "  \"prior_cand_score\": {},\n",
      "  \"cross_cand_score\": {\n",
      "    \"Q132801\": 0.921,\n",
      "    \"Q53749\": 0.036,\n",
      "    \"Q951428\": 0.028,\n",
      "    \"Q94744\": 0.005,\n",
      "    \"Q284698\": 0.005,\n",
      "    \"Q700379\": 0.005\n",
      "  },\n",
      "  \"latlon\": [\n",
      "    43.928056,\n",
      "    2.145833\n",
      "  ],\n",
      "  \"wkdt_class\": \"Q484170\"\n",
      "}\n",
      "{\n",
      "  \"mention\": \"Albigeois\",\n",
      "  \"ner_score\": 1,\n",
      "  \"pos\": 30,\n",
      "  \"sent_idx\": 0,\n",
      "  \"end_pos\": 39,\n",
      "  \"tag\": \"B-LOC\",\n",
      "  \"sentence\": \"* ALBI, (G\\u00e9og.) capitale de l'Albigeois, dans le haut Languedoc : elle est sur le Tarn. Long. 19. 49. lat. 43. 55. 44.\",\n",
      "  \"prediction\": \"Q132801\",\n",
      "  \"ed_score\": 1.0,\n",
      "  \"string_match_score\": {\n",
      "    \"Albigeois\": [\n",
      "      1.0,\n",
      "      [\n",
      "        \"Q132801\"\n",
      "      ]\n",
      "    ]\n",
      "  },\n",
      "  \"prior_cand_score\": {},\n",
      "  \"cross_cand_score\": {\n",
      "    \"Q132801\": 1.0\n",
      "  },\n",
      "  \"latlon\": [\n",
      "    43.928056,\n",
      "    2.145833\n",
      "  ],\n",
      "  \"wkdt_class\": \"Q484170\"\n",
      "}\n",
      "{\n",
      "  \"mention\": \"Tarn\",\n",
      "  \"ner_score\": 1,\n",
      "  \"pos\": 82,\n",
      "  \"sent_idx\": 0,\n",
      "  \"end_pos\": 86,\n",
      "  \"tag\": \"B-LOC\",\n",
      "  \"sentence\": \"* ALBI, (G\\u00e9og.) capitale de l'Albigeois, dans le haut Languedoc : elle est sur le Tarn. Long. 19. 49. lat. 43. 55. 44.\",\n",
      "  \"prediction\": \"Q12772\",\n",
      "  \"ed_score\": 0.856,\n",
      "  \"string_match_score\": {\n",
      "    \"Tarn\": [\n",
      "      1.0,\n",
      "      [\n",
      "        \"Q215653\",\n",
      "        \"Q12772\",\n",
      "        \"Q1538251\"\n",
      "      ]\n",
      "    ]\n",
      "  },\n",
      "  \"prior_cand_score\": {},\n",
      "  \"cross_cand_score\": {\n",
      "    \"Q12772\": 0.856,\n",
      "    \"Q215653\": 0.141,\n",
      "    \"Q1538251\": 0.003\n",
      "  },\n",
      "  \"latlon\": [\n",
      "    43.909722,\n",
      "    2.109167\n",
      "  ],\n",
      "  \"wkdt_class\": \"Q6465\"\n",
      "}\n",
      "{\n",
      "  \"mention\": \"Languedoc\",\n",
      "  \"ner_score\": 1,\n",
      "  \"pos\": 54,\n",
      "  \"sent_idx\": 0,\n",
      "  \"end_pos\": 63,\n",
      "  \"tag\": \"B-LOC\",\n",
      "  \"sentence\": \"* ALBI, (G\\u00e9og.) capitale de l'Albigeois, dans le haut Languedoc : elle est sur le Tarn. Long. 19. 49. lat. 43. 55. 44.\",\n",
      "  \"prediction\": \"Q206221\",\n",
      "  \"ed_score\": 1.0,\n",
      "  \"string_match_score\": {\n",
      "    \"languedoc\": [\n",
      "      1.0,\n",
      "      [\n",
      "        \"Q206221\"\n",
      "      ]\n",
      "    ]\n",
      "  },\n",
      "  \"prior_cand_score\": {},\n",
      "  \"cross_cand_score\": {\n",
      "    \"Q206221\": 1.0\n",
      "  },\n",
      "  \"latlon\": [\n",
      "    43.666667,\n",
      "    3.166667\n",
      "  ],\n",
      "  \"wkdt_class\": \"Q572995\"\n",
      "}\n",
      "0.3583407402038574\n"
     ]
    }
   ],
   "source": [
    "import time\n",
    "start = time.time()\n",
    "\n",
    "sentence = \"* ALBI, (Géog.) capitale de l'Albigeois, dans le haut Languedoc : elle est sur le Tarn. Long. 19. 49. lat. 43. 55. 44.\"\n",
    "resolved = geoparser.run_sentence(sentence, HEAD='ALBI', verbose=False)\n",
    "for r in resolved:\n",
    "    print(json.dumps(r, indent=2))\n",
    "\n",
    "print(time.time() - start)"
   ]
  },
  {
   "cell_type": "code",
   "execution_count": null,
   "metadata": {
    "collapsed": true,
    "jupyter": {
     "outputs_hidden": true
    }
   },
   "outputs": [
    {
     "name": "stdout",
     "output_type": "stream",
     "text": [
      "Head: ROQUEMADOUR\n",
      "Gold: Q382628\n",
      "Prediction: Q7271216\n",
      "Skyline: False\n",
      "{'Q7271216': 0.605, 'Q969251': 0.395}\n",
      "Accuracy 10: False\n",
      "\n",
      "Head: LISIEUX\n",
      "Gold: Q188743\n",
      "Prediction: Q188743\n",
      "Skyline: True\n",
      "{'Q188743': 0.9, 'Q927533': 0.037, 'Q1332597': 0.033, 'Q701531': 0.012, 'Q14874972': 0.012, 'Q810098': 0.004}\n",
      "Accuracy 10: True\n",
      "\n",
      "Head: NEUVILLER\n",
      "Gold: Q21355\n",
      "Prediction: Q195340\n",
      "Skyline: False\n",
      "{'Q195340': 1.0}\n",
      "Accuracy 10: False\n",
      "\n",
      "Head: CHAVANNES\n",
      "Gold: Q845009\n",
      "Prediction: Q740710\n",
      "Skyline: False\n",
      "{'Q740710': 0.5, 'Q455485': 0.5}\n",
      "Accuracy 10: False\n",
      "\n",
      "Head: MONTEREAU-FAUT-YONNE\n",
      "Gold: Q242191\n",
      "Prediction: Q242191\n",
      "Skyline: True\n",
      "{'Q242191': 0.603, 'Q1470564': 0.247, 'Q976655': 0.11, 'Q2117756': 0.041}\n",
      "Accuracy 10: True\n",
      "\n",
      "Head: COURMONTERAL\n",
      "Gold: Q196035\n",
      "Prediction: Q5740928\n",
      "Skyline: False\n",
      "{'Q5740928': 1.0}\n",
      "Accuracy 10: False\n",
      "\n",
      "Head: BOURGES\n",
      "Gold: Q132404\n",
      "Prediction: Q132404\n",
      "Skyline: True\n",
      "{'Q132404': 0.986, 'Q207985': 0.009, 'Q660934': 0.002, 'Q700723': 0.002, 'Q60791320': 0.001}\n",
      "Accuracy 10: True\n",
      "\n",
      "Head: Treves\n",
      "Gold: Q675749\n",
      "Prediction: Q3138\n",
      "Skyline: False\n",
      "{'Q3138': 0.946, 'Q244477': 0.054}\n",
      "Accuracy 10: False\n",
      "\n",
      "Head: SAVERDUN\n",
      "Gold: Q693973\n",
      "Prediction: Q693973\n",
      "Skyline: True\n",
      "{'Q693973': 0.97, 'Q3097700': 0.03}\n",
      "Accuracy 10: True\n",
      "\n",
      "Head: Chateau-Meillant\n",
      "Gold: Q818273\n",
      "Prediction: Q818273\n",
      "Skyline: True\n",
      "{'Q818273': 1.0}\n",
      "Accuracy 10: True\n",
      "\n"
     ]
    }
   ],
   "source": [
    "sample4 = subVILLESFR.copy(deep=True)\n",
    "verbose = False\n",
    "\n",
    "if 'resolved' not in sample4.columns:\n",
    "    sample4['resolved'] = None\n",
    "\n",
    "for i, row in sample4.iterrows():\n",
    "    resolved = geoparser.run_sentence(row['fullcontent'], HEAD=row['head'])\n",
    "\n",
    "    skyline = row['gold'] in resolved[0]['cross_cand_score'].keys()\n",
    "    best_pred = resolved[0]['prediction']\n",
    "\n",
    "    if best_pred[0] != 'Q':\n",
    "        acc10 = False\n",
    "    else:\n",
    "        wd_pred = wdo.WikidataObject(best_pred, coordinates=resolved[0]['latlon'])\n",
    "        acc10 = wd_pred._distance_to(row['gold']) <= 10\n",
    "\n",
    "    sample4.at[i, 'resolved'] = resolved[0]\n",
    "    sample4.at[i, 'skyline'] = skyline\n",
    "    sample4.at[i, 'bestPred'] = best_pred\n",
    "    sample4.at[i, 'acc10'] = acc10\n",
    "\n",
    "    if verbose:\n",
    "        print(f\"Head: {row['head']}\")\n",
    "        print(f\"Gold: {row['gold']}\")\n",
    "        print(f\"Prediction: {best_pred}\")\n",
    "        print(f\"Skyline: {skyline}\")\n",
    "        print(resolved[0]['cross_cand_score'])\n",
    "        print(f\"Accuracy 10: {acc10}\\n\")\n"
   ]
  },
  {
   "cell_type": "code",
   "execution_count": null,
   "metadata": {},
   "outputs": [],
   "source": [
    "sample4.to_json('t_res_damlev+REL_220424.json', orient='records', lines=True)"
   ]
  },
  {
   "cell_type": "code",
   "execution_count": null,
   "metadata": {},
   "outputs": [],
   "source": [
    "sample4.resolved.apply(lambda x: len(x['cross_cand_score'])).describe()"
   ]
  },
  {
   "cell_type": "code",
   "execution_count": null,
   "metadata": {},
   "outputs": [],
   "source": [
    "print('Skyline : \\n', sample4.skyline.value_counts(normalize=True), '\\n')\n",
    "print('Acc10 : \\n', sample4.acc10.value_counts(normalize=True), '\\n')"
   ]
  },
  {
   "cell_type": "markdown",
   "metadata": {},
   "source": [
    "# Comparaison"
   ]
  },
  {
   "cell_type": "code",
   "execution_count": 25,
   "metadata": {},
   "outputs": [],
   "source": [
    "df = pd.read_json('t_res_damlev+mostpop_170424.json', orient='records', lines=True)"
   ]
  },
  {
   "cell_type": "markdown",
   "metadata": {},
   "source": [
    "### perfect-"
   ]
  },
  {
   "cell_type": "code",
   "execution_count": 26,
   "metadata": {},
   "outputs": [
    {
     "data": {
      "text/plain": [
       "(790, 8)"
      ]
     },
     "execution_count": 26,
     "metadata": {},
     "output_type": "execute_result"
    }
   ],
   "source": [
    "df = df[df.index.isin(subVILLESFR.index)]\n",
    "df.shape"
   ]
  },
  {
   "cell_type": "code",
   "execution_count": 27,
   "metadata": {},
   "outputs": [
    {
     "data": {
      "text/plain": [
       "count    790.000000\n",
       "mean       2.744304\n",
       "std        2.096031\n",
       "min        1.000000\n",
       "25%        1.000000\n",
       "50%        2.000000\n",
       "75%        4.000000\n",
       "max        7.000000\n",
       "Name: resolved, dtype: float64"
      ]
     },
     "execution_count": 27,
     "metadata": {},
     "output_type": "execute_result"
    }
   ],
   "source": [
    "df.resolved.apply(lambda x: len(x['cross_cand_score'])).describe()"
   ]
  },
  {
   "cell_type": "code",
   "execution_count": 28,
   "metadata": {},
   "outputs": [
    {
     "name": "stdout",
     "output_type": "stream",
     "text": [
      "Skyline : \n",
      " True     0.720253\n",
      "False    0.279747\n",
      "Name: skyline, dtype: float64 \n",
      "\n",
      "Acc10 : \n",
      " True     0.662025\n",
      "False    0.337975\n",
      "Name: acc10, dtype: float64 \n",
      "\n"
     ]
    }
   ],
   "source": [
    "print('Skyline : \\n', df.skyline.value_counts(normalize=True), '\\n')\n",
    "print('Acc10 : \\n', df.acc10.value_counts(normalize=True), '\\n')"
   ]
  },
  {
   "cell_type": "markdown",
   "metadata": {},
   "source": [
    "### containment"
   ]
  },
  {
   "cell_type": "code",
   "execution_count": 11,
   "metadata": {},
   "outputs": [
    {
     "name": "stdout",
     "output_type": "stream",
     "text": [
      "(826, 8) (826, 8) (826, 8)\n"
     ]
    }
   ],
   "source": [
    "partial_mostpop = pd.read_json('t_res_partial+mostpop_140424.json', orient='records', lines=True)\n",
    "partial_mostpop = partial_mostpop[partial_mostpop.index.isin(subVILLESFR.index)]\n",
    "print(partial_mostpop.shape, perfect_mostpop.shape, partial_mostpop.shape)"
   ]
  },
  {
   "cell_type": "code",
   "execution_count": 12,
   "metadata": {},
   "outputs": [
    {
     "name": "stdout",
     "output_type": "stream",
     "text": [
      "(790, 8) (790, 8) (790, 8)\n"
     ]
    }
   ],
   "source": [
    "# keep only indexes from subVILLESFR\n",
    "deezy_rel = deezy_rel[deezy_rel.index.isin(subVILLESFR.index)]\n",
    "\n",
    "\n",
    "print(deezy_rel.shape, perfect_mostpop.shape, partial_mostpop.shape)"
   ]
  },
  {
   "cell_type": "code",
   "execution_count": 21,
   "metadata": {},
   "outputs": [
    {
     "data": {
      "text/plain": [
       "count    790.000000\n",
       "mean       3.051899\n",
       "std        2.183842\n",
       "min        1.000000\n",
       "25%        1.000000\n",
       "50%        2.000000\n",
       "75%        4.000000\n",
       "max        7.000000\n",
       "Name: resolved, dtype: float64"
      ]
     },
     "execution_count": 21,
     "metadata": {},
     "output_type": "execute_result"
    }
   ],
   "source": [
    "partial_mostpop.resolved.apply(lambda x: len(x['cross_cand_score'])).describe()"
   ]
  },
  {
   "cell_type": "code",
   "execution_count": 14,
   "metadata": {},
   "outputs": [
    {
     "name": "stdout",
     "output_type": "stream",
     "text": [
      "Skyline : \n",
      " True     0.621519\n",
      "False    0.378481\n",
      "Name: skyline, dtype: float64 \n",
      "\n",
      "Acc10 : \n",
      " True     0.556962\n",
      "False    0.443038\n",
      "Name: acc10, dtype: float64 \n",
      "\n"
     ]
    }
   ],
   "source": [
    "print('Skyline : \\n', partial_mostpop.skyline.value_counts(normalize=True), '\\n')\n",
    "print('Acc10 : \\n', partial_mostpop.acc10.value_counts(normalize=True), '\\n')"
   ]
  },
  {
   "cell_type": "markdown",
   "metadata": {},
   "source": [
    "### deezy"
   ]
  },
  {
   "cell_type": "code",
   "execution_count": null,
   "metadata": {},
   "outputs": [],
   "source": [
    "deezy_rel = pd.read_json('t_res_deezy+rel_140424.json', orient='records', lines=True)"
   ]
  },
  {
   "cell_type": "code",
   "execution_count": 20,
   "metadata": {},
   "outputs": [
    {
     "data": {
      "text/plain": [
       "count    790.000000\n",
       "mean       5.808861\n",
       "std        2.132534\n",
       "min        0.000000\n",
       "25%        6.000000\n",
       "50%        7.000000\n",
       "75%        7.000000\n",
       "max        7.000000\n",
       "Name: resolved, dtype: float64"
      ]
     },
     "execution_count": 20,
     "metadata": {},
     "output_type": "execute_result"
    }
   ],
   "source": [
    "deezy_rel.resolved.apply(lambda x: len(x['cross_cand_score'])).describe()"
   ]
  },
  {
   "cell_type": "code",
   "execution_count": 15,
   "metadata": {},
   "outputs": [
    {
     "name": "stdout",
     "output_type": "stream",
     "text": [
      "Skyline : \n",
      " True     0.64557\n",
      "False    0.35443\n",
      "Name: skyline, dtype: float64 \n",
      "\n",
      "Acc10 : \n",
      " False    0.54557\n",
      "True     0.45443\n",
      "Name: acc10, dtype: float64 \n",
      "\n"
     ]
    }
   ],
   "source": [
    "print('Skyline : \\n', deezy_rel.skyline.value_counts(normalize=True), '\\n')\n",
    "print('Acc10 : \\n', deezy_rel.acc10.value_counts(normalize=True), '\\n')"
   ]
  }
 ],
 "metadata": {
  "kernelspec": {
   "display_name": "tres-turing",
   "language": "python",
   "name": "tres-turing"
  },
  "language_info": {
   "codemirror_mode": {
    "name": "ipython",
    "version": 3
   },
   "file_extension": ".py",
   "mimetype": "text/x-python",
   "name": "python",
   "nbconvert_exporter": "python",
   "pygments_lexer": "ipython3",
   "version": "3.9.7"
  }
 },
 "nbformat": 4,
 "nbformat_minor": 4
}
