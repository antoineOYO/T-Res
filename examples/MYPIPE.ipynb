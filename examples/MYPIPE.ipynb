{
 "cells": [
  {
   "cell_type": "markdown",
   "metadata": {},
   "source": [
    "# Import VILLESFR"
   ]
  },
  {
   "cell_type": "code",
   "execution_count": 7,
   "metadata": {},
   "outputs": [],
   "source": [
    "import pandas as pd \n",
    "filepath = 'VILLESFR.json'\n",
    "VILLESFR = pd.read_json(filepath, orient='records', lines=True)"
   ]
  },
  {
   "cell_type": "markdown",
   "metadata": {},
   "source": [
    "# NER"
   ]
  },
  {
   "cell_type": "code",
   "execution_count": 12,
   "metadata": {},
   "outputs": [],
   "source": [
    "import spacy\n",
    "from spacy.tokens import DocBin, Doc\n",
    "modelpath = '../resources/fr_spacy_custom_spancat_edda'\n",
    "spacy_model = spacy.load(modelpath)\n",
    "Doc.set_extension(\"metadata\", default={}, force=True)"
   ]
  },
  {
   "cell_type": "code",
   "execution_count": 15,
   "metadata": {},
   "outputs": [],
   "source": [
    "from transformers import PreTrainedModel, PretrainedConfig, Pipeline\n",
    "\n",
    "class CustomModel(PreTrainedModel):\n",
    "    def __init__(self, config: PretrainedConfig):\n",
    "        super().__init__(config)\n",
    "\n",
    "    def forward(self, inputs, **kwargs):\n",
    "        spacydoc = spacy_model(inputs)\n",
    "        spacydict = dict(spacydoc._.metadata, **spacydoc.to_json())\n",
    "        return spacydict\n",
    "    \n",
    "    def ner_predict(self, inputs):\n",
    "        spacydoc = spacy_model(inputs)\n",
    "        spacydict = dict(spacydoc._.metadata, **spacydoc.to_json())\n",
    "        return spacydict\n",
    "    \n",
    "class MyPipeline(Pipeline):\n",
    "    def _sanitize_parameters(self, **kwargs):\n",
    "        preprocess_kwargs = {}\n",
    "        if \"maybe_arg\" in kwargs:\n",
    "            preprocess_kwargs[\"maybe_arg\"] = kwargs[\"maybe_arg\"]\n",
    "        return preprocess_kwargs, {}, {}\n",
    "\n",
    "    def preprocess(self, inputs, maybe_arg=2):\n",
    "        return inputs\n",
    "\n",
    "    def _forward(self, model_inputs):\n",
    "        model_outputs = self.model.forward(model_inputs)\n",
    "        return model_outputs\n",
    "\n",
    "    def postprocess(self, model_outputs):\n",
    "        \"\"\"\n",
    "        transforms my dict into a list of dict :\n",
    "        [{'entity': 'O',\n",
    "        'score': 0.9999761581420898,\n",
    "        'word': 'A',\n",
    "        'start': 0,\n",
    "        'end': 1},\n",
    "        ... ,\n",
    "        {'entity': 'B-LOC',\n",
    "        'score': 0.9996446371078491,\n",
    "        'word': 'Sheffield',\n",
    "        'start': 74,\n",
    "        'end': 83},\n",
    "        {'entity': 'O',\n",
    "        'score': 0.9999758005142212,\n",
    "        'word': '.',\n",
    "        'start': 83,\n",
    "        'end': 84}]\n",
    "        \"\"\"\n",
    "        output_list = []\n",
    "        for span in model_outputs['spans']['sc']:\n",
    "            token = model_outputs['text'][span['start']:span['end']]\n",
    "            \n",
    "            # remove leading lowercase characters, symbols and spaces\n",
    "            shift = 0\n",
    "            if span['label'] in ['NP-Spatial', 'Head']:\n",
    "                while token[0].islower() or not token[0].isalpha() or token[0] == ' ':\n",
    "                    token = token[1:]\n",
    "                    shift += 1\n",
    "                span_dict = {'entity': 'B-LOC',\n",
    "                            'score': 1,\n",
    "                            'word': token,\n",
    "                            'start': span['start'] + shift,\n",
    "                            'end': span['end']\n",
    "                            }\n",
    "                output_list.append(span_dict)\n",
    "        return output_list"
   ]
  },
  {
   "cell_type": "code",
   "execution_count": 19,
   "metadata": {},
   "outputs": [
    {
     "data": {
      "text/plain": [
       "[{'entity': 'B-LOC', 'score': 1, 'word': 'France', 'start': 25, 'end': 31},\n",
       " {'entity': 'B-LOC', 'score': 1, 'word': 'Albigeois', 'start': 47, 'end': 56},\n",
       " {'entity': 'B-LOC', 'score': 1, 'word': 'Tarn', 'start': 99, 'end': 103},\n",
       " {'entity': 'B-LOC', 'score': 1, 'word': 'Languedoc', 'start': 71, 'end': 80}]"
      ]
     },
     "execution_count": 19,
     "metadata": {},
     "output_type": "execute_result"
    }
   ],
   "source": [
    "my_ner_model = CustomModel(config = PretrainedConfig())  \n",
    "my_ner_pipeline = MyPipeline(model=my_ner_model,\n",
    "                             villesfr = True\n",
    "                             ) \n",
    "sentence = \"* ALBI, (Géog.) ville de France, capitale de l'Albigeois, dans le haut Languedoc : elle est sur le Tarn. Long. 19. 49. lat. 43. 55. 44.\"\n",
    "rmentions = my_ner_pipeline(sentence)\n",
    "rmentions"
   ]
  },
  {
   "cell_type": "markdown",
   "metadata": {},
   "source": [
    "# Ranker"
   ]
  },
  {
   "cell_type": "code",
   "execution_count": 12,
   "metadata": {},
   "outputs": [],
   "source": [
    "from pathlib import Path\n",
    "path = '/home/antoine/Documents/GitHub/T-Res/'\n",
    "from t_res.geoparser import ranking"
   ]
  },
  {
   "cell_type": "code",
   "execution_count": 20,
   "metadata": {},
   "outputs": [],
   "source": [
    "# --------------------------------------\n",
    "# Instantiate the ranker:\n",
    "myranker = ranking.Ranker(\n",
    "    method=\"deezymatch\",\n",
    "    resources_path= path + \"resources/\",\n",
    "    strvar_parameters={\"overwrite_dataset\": False,},\n",
    "    deezy_parameters={\n",
    "        # Paths and filenames of DeezyMatch models and data:\n",
    "        \"dm_path\": str(Path( path + \"resources/deezymatch/\").resolve()),\n",
    "        \"dm_cands\": \"wkdtalts\",\n",
    "        \"dm_model\": \"w2v_ocr\",\n",
    "        \"dm_output\": \"deezymatch_on_the_fly\",\n",
    "        # Ranking measures:\n",
    "        \"ranking_metric\": \"faiss\",\n",
    "        \"selection_threshold\": 50,\n",
    "        \"num_candidates\": 10,\n",
    "        \"verbose\": False,\n",
    "        # DeezyMatch training:\n",
    "        \"overwrite_training\": False,\n",
    "        \"do_test\": False,\n",
    "    },\n",
    ")"
   ]
  },
  {
   "cell_type": "code",
   "execution_count": 14,
   "metadata": {},
   "outputs": [
    {
     "name": "stdout",
     "output_type": "stream",
     "text": [
      "*** Loading the ranker resources.\n"
     ]
    }
   ],
   "source": [
    "# Load the resources:\n",
    "myranker.mentions_to_wikidata = myranker.load_resources()"
   ]
  },
  {
   "cell_type": "code",
   "execution_count": 21,
   "metadata": {},
   "outputs": [
    {
     "data": {
      "text/plain": [
       "{'ROQUEMADOUR': {'Roquedur': {'Score': 0.40767000000000003,\n",
       "   'Candidates': {'Q863558': 1.0}},\n",
       "  'Corredor': {'Score': 0.249824,\n",
       "   'Candidates': {'Q3694385': 1.0, 'Q6745839': 1.0}},\n",
       "  'Oradour': {'Score': 0.22409999999999997,\n",
       "   'Candidates': {'Q836897': 0.04477611940298507,\n",
       "    'Q190974': 0.05172413793103448,\n",
       "    'Q807034': 1.0}},\n",
       "  'Broomhead Reservoir': {'Score': 0.209354,\n",
       "   'Candidates': {'Q62595333': 0.6666666666666666}},\n",
       "  'Roman emperor': {'Score': 0.17211600000000005,\n",
       "   'Candidates': {'Q2277': 0.0004914349901713002,\n",
       "    'Q12544': 7.203054094936253e-05}},\n",
       "  'Békourou': {'Score': 0.16608000000000003, 'Candidates': {'Q55606267': 1.0}},\n",
       "  'Rosemoor': {'Score': 0.16562799999999997,\n",
       "   'Candidates': {'Q3442463': 0.009708737864077669,\n",
       "    'Q7368490': 0.2631578947368421}},\n",
       "  'Oredo': {'Score': 0.16227000000000003,\n",
       "   'Candidates': {'Q7101001': 0.8823529411764706}},\n",
       "  \"Centre de la mémoire d'Oradour\": {'Score': 0.14904200000000004,\n",
       "   'Candidates': {'Q442113': 1.0}},\n",
       "  'Pendour': {'Score': 0.14269199999999999,\n",
       "   'Candidates': {'Q7162499': 0.1111111111111111}}}}"
      ]
     },
     "execution_count": 21,
     "metadata": {},
     "output_type": "execute_result"
    }
   ],
   "source": [
    "myranker.deezy_on_the_fly(['ROQUEMADOUR'])[0]"
   ]
  },
  {
   "attachments": {},
   "cell_type": "markdown",
   "metadata": {},
   "source": [
    "# T-RES using DeezyMatch with REL disambiguation\n",
    "\n",
    "REL disambiguation **filtering out microtoponyms** and without adding place of publication."
   ]
  },
  {
   "cell_type": "code",
   "execution_count": 1,
   "metadata": {},
   "outputs": [
    {
     "name": "stdout",
     "output_type": "stream",
     "text": [
      "INFO: Pandarallel will run on 8 workers.\n",
      "INFO: Pandarallel will use Memory file system to transfer data between the main process and workers.\n"
     ]
    }
   ],
   "source": [
    "import os\n",
    "import sys\n",
    "import sqlite3\n",
    "from pathlib import Path\n",
    "import json\n",
    "from t_res.geoparser import geode_pipe,ranking,linking\n",
    "path = '/home/antoine/Documents/GitHub/T-Res/'\n",
    "NER_path = '../resources/fr_spacy_custom_spancat_edda'"
   ]
  },
  {
   "cell_type": "code",
   "execution_count": 2,
   "metadata": {},
   "outputs": [],
   "source": [
    "# --------------------------------------\n",
    "# Instantiate the ranker:\n",
    "myranker = ranking.Ranker(\n",
    "    method=\"deezymatch\",\n",
    "    resources_path= path + \"resources/\",\n",
    "    strvar_parameters={\"overwrite_dataset\": False,},\n",
    "    deezy_parameters={\n",
    "        # Paths and filenames of DeezyMatch models and data:\n",
    "        \"dm_path\": str(Path( path + \"resources/deezymatch/\").resolve()),\n",
    "        \"dm_cands\": \"wkdtalts\",\n",
    "        \"dm_model\": \"w2v_ocr\",\n",
    "        \"dm_output\": \"deezymatch_on_the_fly\",\n",
    "        # Ranking measures:\n",
    "        \"ranking_metric\": \"faiss\",\n",
    "        \"selection_threshold\": 50,\n",
    "        \"num_candidates\": 10,\n",
    "        \"verbose\": False,\n",
    "        # DeezyMatch training:\n",
    "        \"overwrite_training\": False,\n",
    "        \"do_test\": False,\n",
    "    },\n",
    ")\n",
    "with sqlite3.connect( path + \"resources/rel_db/embeddings_database.db\") as conn:\n",
    "    cursor = conn.cursor()\n",
    "    mylinker = linking.Linker(\n",
    "        method=\"reldisamb\",\n",
    "        resources_path= path + \"resources/\",\n",
    "        rel_params={\n",
    "            \"model_path\": path + \"resources/models/disambiguation/\",\n",
    "            \"data_path\":  path + \"experiments/outputs/data/lwm/\",\n",
    "            \"training_split\": \"originalsplit\",\n",
    "            \"db_embeddings\": cursor,\n",
    "            \"with_publication\": False,\n",
    "            \"without_microtoponyms\": True,\n",
    "            \"do_test\": False,\n",
    "            \"default_publname\": \"\",\n",
    "            \"default_publwqid\": \"\",\n",
    "        },\n",
    "        overwrite_training=False,\n",
    "    )"
   ]
  },
  {
   "cell_type": "code",
   "execution_count": 3,
   "metadata": {},
   "outputs": [
    {
     "name": "stdout",
     "output_type": "stream",
     "text": [
      "*** Loading the ranker resources.\n",
      "The DeezyMatch model is already trained!\n",
      "*** Load linking resources.\n",
      "  > Loading mentions to wikidata mapping.\n",
      "  > Loading gazetteer.\n",
      "*** Linking resources loaded!\n",
      "\n",
      "Model path: /home/antoine/Documents/GitHub/T-Res/resources/models/disambiguation/deezymatch+10+50_originalsplit+wmtops/model eval\n",
      "Loading model from given path: /home/antoine/Documents/GitHub/T-Res/resources/models/disambiguation/deezymatch+10+50_originalsplit+wmtops/model\n",
      "{'mode': 'eval', 'model_path': '/home/antoine/Documents/GitHub/T-Res/resources/models/disambiguation/deezymatch+10+50_originalsplit+wmtops/model', 'prerank_ctx_window': 50, 'keep_p_e_m': 4, 'keep_ctx_ent': 3, 'ctx_window': 100, 'tok_top_n': 25, 'mulrel_type': 'ment-norm', 'n_rels': 3, 'hid_dims': 100, 'emb_dims': 300, 'snd_local_ctx_window': 6, 'dropout_rate': 0.3, 'n_epochs': 1000, 'dev_f1_change_lr': 0.915, 'n_not_inc': 10, 'eval_after_n_epochs': 5, 'learning_rate': 0.0001, 'margin': 0.01, 'df': 0.5, 'n_loops': 10, 'n_cands_before_rank': 30, 'first_head_uniforn': False, 'use_pad_ent': True, 'use_local': True, 'use_local_only': False, 'oracle': False}\n"
     ]
    }
   ],
   "source": [
    "geoparser = geode_pipe.Pipeline(geodeNERpath=NER_path,\n",
    "                              myranker=myranker,\n",
    "                              mylinker=mylinker)"
   ]
  },
  {
   "cell_type": "code",
   "execution_count": 4,
   "metadata": {},
   "outputs": [
    {
     "name": "stderr",
     "output_type": "stream",
     "text": [
      "                                                                                                \r"
     ]
    },
    {
     "data": {
      "application/vnd.jupyter.widget-view+json": {
       "model_id": "577ccb24e2494ef59a1c79500e278715",
       "version_major": 2,
       "version_minor": 0
      },
      "text/plain": [
       "  0%|          | 0/1 [00:00<?, ?it/s]"
      ]
     },
     "metadata": {},
     "output_type": "display_data"
    },
    {
     "name": "stdout",
     "output_type": "stream",
     "text": [
      "{\n",
      "  \"mention\": \"Shefrield\",\n",
      "  \"ner_score\": 1,\n",
      "  \"pos\": 100,\n",
      "  \"sent_idx\": 0,\n",
      "  \"end_pos\": 109,\n",
      "  \"tag\": \"B-LOC\",\n",
      "  \"sentence\": \"A remarkable case of rattening has just occurred in the building trade next to the Market-street of Shefrield, but also in Lancaster.\",\n",
      "  \"prediction\": \"Q42448\",\n",
      "  \"ed_score\": 0.005,\n",
      "  \"cross_cand_score\": {\n",
      "    \"Q42448\": 0.664,\n",
      "    \"Q1862179\": 0.144,\n",
      "    \"Q5953687\": 0.071,\n",
      "    \"Q3461338\": 0.066,\n",
      "    \"Q7492568\": 0.028,\n",
      "    \"Q7492567\": 0.028,\n",
      "    \"Q665346\": 0.0\n",
      "  },\n",
      "  \"string_match_score\": {\n",
      "    \"Sherfield\": [\n",
      "      0.859,\n",
      "      [\n",
      "        \"Q2258424\"\n",
      "      ]\n",
      "    ],\n",
      "    \"Shenfield\": [\n",
      "      0.708,\n",
      "      [\n",
      "        \"Q3461338\",\n",
      "        \"Q665346\"\n",
      "      ]\n",
      "    ],\n",
      "    \"Sheffield\": [\n",
      "      0.659,\n",
      "      [\n",
      "        \"Q6707254\",\n",
      "        \"Q823917\",\n",
      "        \"Q5953687\",\n",
      "        \"Q7492778\",\n",
      "        \"Q1421317\",\n",
      "        \"Q7492594\",\n",
      "        \"Q897533\",\n",
      "        \"Q42448\",\n",
      "        \"Q7492565\",\n",
      "        \"Q1862179\",\n",
      "        \"Q4834926\",\n",
      "        \"Q17643392\",\n",
      "        \"Q7492570\",\n",
      "        \"Q1950928\",\n",
      "        \"Q2277715\",\n",
      "        \"Q79568\",\n",
      "        \"Q518864\",\n",
      "        \"Q7492591\",\n",
      "        \"Q2306176\",\n",
      "        \"Q7492775\",\n",
      "        \"Q741640\",\n",
      "        \"Q7492686\",\n",
      "        \"Q3577611\",\n",
      "        \"Q12956644\",\n",
      "        \"Q547824\",\n",
      "        \"Q7684835\",\n",
      "        \"Q3365926\",\n",
      "        \"Q7492719\",\n",
      "        \"Q7492566\",\n",
      "        \"Q7492567\",\n",
      "        \"Q4523493\",\n",
      "        \"Q3028626\",\n",
      "        \"Q7492607\",\n",
      "        \"Q7492568\",\n",
      "        \"Q1984238\",\n",
      "        \"Q1184547\",\n",
      "        \"Q925542\",\n",
      "        \"Q4664093\",\n",
      "        \"Q2892594\",\n",
      "        \"Q1916592\",\n",
      "        \"Q371969\",\n",
      "        \"Q1141915\",\n",
      "        \"Q6986914\",\n",
      "        \"Q7114883\",\n",
      "        \"Q1915446\",\n",
      "        \"Q5224096\",\n",
      "        \"Q7492766\",\n",
      "        \"Q15277074\",\n",
      "        \"Q4065168\",\n",
      "        \"Q1548891\",\n",
      "        \"Q7492772\",\n",
      "        \"Q977409\",\n",
      "        \"Q1752117\",\n",
      "        \"Q7492586\",\n",
      "        \"Q5035049\",\n",
      "        \"Q108940076\"\n",
      "      ]\n",
      "    ],\n",
      "    \"Shepherd Field\": [\n",
      "      0.649,\n",
      "      [\n",
      "        \"Q797442\"\n",
      "      ]\n",
      "    ],\n",
      "    \"Shelfield\": [\n",
      "      0.536,\n",
      "      [\n",
      "        \"Q7493600\",\n",
      "        \"Q96311007\"\n",
      "      ]\n",
      "    ],\n",
      "    \"Swisher Field\": [\n",
      "      0.458,\n",
      "      [\n",
      "        \"Q85852006\"\n",
      "      ]\n",
      "    ],\n",
      "    \"Shedfield\": [\n",
      "      0.415,\n",
      "      [\n",
      "        \"Q2419681\"\n",
      "      ]\n",
      "    ],\n",
      "    \"Scheuerfeld\": [\n",
      "      0.39,\n",
      "      [\n",
      "        \"Q653224\"\n",
      "      ]\n",
      "    ],\n",
      "    \"Scheinfeld\": [\n",
      "      0.382,\n",
      "      [\n",
      "        \"Q504872\"\n",
      "      ]\n",
      "    ],\n",
      "    \"Sheffield Inn\": [\n",
      "      0.372,\n",
      "      [\n",
      "        \"Q28124535\"\n",
      "      ]\n",
      "    ]\n",
      "  },\n",
      "  \"prior_cand_score\": {\n",
      "    \"Q42448\": 0.815,\n",
      "    \"Q665346\": 0.388,\n",
      "    \"Q7492568\": 0.374,\n",
      "    \"Q7492567\": 0.374,\n",
      "    \"Q3461338\": 0.357,\n",
      "    \"Q1862179\": 0.297,\n",
      "    \"Q5953687\": 0.205\n",
      "  },\n",
      "  \"latlon\": [\n",
      "    53.380833,\n",
      "    -1.470278\n",
      "  ],\n",
      "  \"wkdt_class\": \"Q515\"\n",
      "}\n",
      "\n",
      "{\n",
      "  \"mention\": \"Lancaster\",\n",
      "  \"ner_score\": 1,\n",
      "  \"pos\": 123,\n",
      "  \"sent_idx\": 0,\n",
      "  \"end_pos\": 132,\n",
      "  \"tag\": \"B-LOC\",\n",
      "  \"sentence\": \"A remarkable case of rattening has just occurred in the building trade next to the Market-street of Shefrield, but also in Lancaster.\",\n",
      "  \"prediction\": \"Q205905\",\n",
      "  \"ed_score\": 0.005,\n",
      "  \"cross_cand_score\": {\n",
      "    \"Q205905\": 0.636,\n",
      "    \"Q320514\": 0.238,\n",
      "    \"Q730847\": 0.041,\n",
      "    \"Q6483085\": 0.03,\n",
      "    \"Q6483088\": 0.027,\n",
      "    \"Q6483082\": 0.027,\n",
      "    \"Q168052\": 0.0\n",
      "  },\n",
      "  \"string_match_score\": {\n",
      "    \"Lancaster\": [\n",
      "      1.0,\n",
      "      [\n",
      "        \"Q23077\",\n",
      "        \"Q28260\",\n",
      "        \"Q320514\",\n",
      "        \"Q205905\",\n",
      "        \"Q494711\",\n",
      "        \"Q168052\",\n",
      "        \"Q6749340\",\n",
      "        \"Q3216911\",\n",
      "        \"Q763073\",\n",
      "        \"Q1013953\",\n",
      "        \"Q7594194\",\n",
      "        \"Q142369\",\n",
      "        \"Q2427213\",\n",
      "        \"Q986005\",\n",
      "        \"Q6483271\",\n",
      "        \"Q97404308\",\n",
      "        \"Q505941\",\n",
      "        \"Q3661917\",\n",
      "        \"Q2276252\",\n",
      "        \"Q495090\",\n",
      "        \"Q990612\",\n",
      "        \"Q484530\",\n",
      "        \"Q965683\",\n",
      "        \"Q1919987\",\n",
      "        \"Q2536779\",\n",
      "        \"Q14683036\",\n",
      "        \"Q6483264\",\n",
      "        \"Q6483273\",\n",
      "        \"Q38249820\",\n",
      "        \"Q976739\",\n",
      "        \"Q2969640\",\n",
      "        \"Q1285117\",\n",
      "        \"Q6483082\",\n",
      "        \"Q609191\",\n",
      "        \"Q6483088\",\n",
      "        \"Q597323\",\n",
      "        \"Q3166571\",\n",
      "        \"Q730847\",\n",
      "        \"Q6483076\",\n",
      "        \"Q6483074\",\n",
      "        \"Q6483181\",\n",
      "        \"Q6483188\",\n",
      "        \"Q7999228\",\n",
      "        \"Q18323\",\n",
      "        \"Q871028\",\n",
      "        \"Q6483094\",\n",
      "        \"Q5471452\",\n",
      "        \"Q6483093\",\n",
      "        \"Q85775777\",\n",
      "        \"Q6483178\",\n",
      "        \"Q6483070\",\n",
      "        \"Q17361855\",\n",
      "        \"Q6483085\",\n",
      "        \"Q6483107\",\n",
      "        \"Q881246\",\n",
      "        \"Q18160960\",\n",
      "        \"Q17531646\",\n",
      "        \"Q111944592\",\n",
      "        \"Q1886562\",\n",
      "        \"Q6483071\"\n",
      "      ]\n",
      "    ]\n",
      "  },\n",
      "  \"prior_cand_score\": {\n",
      "    \"Q205905\": 0.878,\n",
      "    \"Q320514\": 0.517,\n",
      "    \"Q730847\": 0.456,\n",
      "    \"Q6483085\": 0.453,\n",
      "    \"Q6483088\": 0.452,\n",
      "    \"Q6483082\": 0.452,\n",
      "    \"Q168052\": 0.344\n",
      "  },\n",
      "  \"latlon\": [\n",
      "    54.048889,\n",
      "    -2.801389\n",
      "  ],\n",
      "  \"wkdt_class\": \"Q515\"\n",
      "}\n",
      "\n",
      "{\n",
      "  \"mention\": \"Salop\",\n",
      "  \"ner_score\": 1,\n",
      "  \"pos\": 29,\n",
      "  \"sent_idx\": 2,\n",
      "  \"end_pos\": 34,\n",
      "  \"tag\": \"B-LOC\",\n",
      "  \"sentence\": \"Not in Ashton either, nor in Salop!\",\n",
      "  \"prediction\": \"Q23103\",\n",
      "  \"ed_score\": 0.005,\n",
      "  \"cross_cand_score\": {\n",
      "    \"Q23103\": 0.512,\n",
      "    \"Q201970\": 0.488\n",
      "  },\n",
      "  \"string_match_score\": {\n",
      "    \"Salop\": [\n",
      "      1.0,\n",
      "      [\n",
      "        \"Q201970\",\n",
      "        \"Q23103\"\n",
      "      ]\n",
      "    ]\n",
      "  },\n",
      "  \"prior_cand_score\": {\n",
      "    \"Q23103\": 0.677,\n",
      "    \"Q201970\": 0.253\n",
      "  },\n",
      "  \"latlon\": [\n",
      "    52.616667,\n",
      "    -2.716667\n",
      "  ],\n",
      "  \"wkdt_class\": \"Q180673\"\n",
      "}\n",
      "\n"
     ]
    }
   ],
   "source": [
    "resolved = geoparser.run_text(\"A remarkable case of rattening has just occurred in the building trade next to the Market-street of Shefrield, but also in Lancaster. Not in Nottingham though. Not in Ashton either, nor in Salop!\")\n",
    "    \n",
    "for r in resolved:\n",
    "    print(json.dumps(r, indent=2))\n",
    "    print()"
   ]
  },
  {
   "cell_type": "code",
   "execution_count": 5,
   "metadata": {},
   "outputs": [
    {
     "name": "stderr",
     "output_type": "stream",
     "text": [
      "                                                                                                \r"
     ]
    },
    {
     "data": {
      "application/vnd.jupyter.widget-view+json": {
       "model_id": "9ccf35e71ecf4e3bbc84acfbb29ba901",
       "version_major": 2,
       "version_minor": 0
      },
      "text/plain": [
       "  0%|          | 0/1 [00:00<?, ?it/s]"
      ]
     },
     "metadata": {},
     "output_type": "display_data"
    },
    {
     "name": "stdout",
     "output_type": "stream",
     "text": [
      "mentions : [{'entity': 'B-LOC', 'score': 1, 'mention': 'ALBI', 'start': 2, 'end': 5}, {'entity': 'B-LOC', 'score': 1, 'mention': 'France', 'start': 25, 'end': 31}, {'entity': 'B-LOC', 'score': 1, 'mention': 'Albigeois', 'start': 47, 'end': 56}, {'entity': 'B-LOC', 'score': 1, 'mention': 'Tarn', 'start': 99, 'end': 103}, {'entity': 'B-LOC', 'score': 1, 'mention': 'Languedoc', 'start': 71, 'end': 80}]\n",
      "rmentions : [{'mention': 'ALBI'}, {'mention': 'France'}, {'mention': 'Albigeois'}, {'mention': 'Tarn'}, {'mention': 'Languedoc'}]\n",
      "wk_cands : {'Tarn': {'Tarn': {'Score': 1.0, 'Candidates': {'Q215653': 0.8135593220338984, 'Q12772': 0.9555921052631579, 'Q1538251': 0.08695652173913043}}}, 'Albigeois': {'Albigeois': {'Score': 1.0, 'Candidates': {'Q132801': 0.050890585241730284}}}, 'ALBI': {'Albi': {'Score': 1.0, 'Candidates': {'Q94744': 0.07142857142857142, 'Q132801': 0.9211195928753181, 'Q951428': 0.3793103448275862, 'Q53749': 1.0, 'Q284698': 0.16666666666666666, 'Q700379': 0.4}}, 'Albaji': {'Score': 0.505494, 'Candidates': {'Q4708979': 1.0}}, 'Abali': {'Score': 0.436178, 'Candidates': {'Q4371496': 1.0}}, 'Abaali': {'Score': 0.38927799999999996, 'Candidates': {'Q4663333': 0.125}}, 'Albiolo': {'Score': 0.360398, 'Candidates': {'Q244031': 1.0}}, 'Jalabi': {'Score': 0.35078599999999993, 'Candidates': {'Q5782888': 1.0}}, 'Babaali': {'Score': 0.339594, 'Candidates': {'Q4837412': 1.0}}, 'Babali': {'Score': 0.30242800000000003, 'Candidates': {'Q18871': 0.0009832841691248771, 'Q4738503': 1.0}}, 'Alibi': {'Score': 0.29971800000000004, 'Candidates': {'Q4725660': 0.07692307692307693}}, 'Bojolali': {'Score': 0.26083799999999996, 'Candidates': {'Q10609': 0.011111111111111112}}}, 'Languedoc': {'Languedoc': {'Score': 1.0, 'Candidates': {'Q206221': 0.9739336492890996, 'Q17005': 0.009146341463414635, 'Q1886509': 1.0}}}, 'France': {'France': {'Score': 1.0, 'Candidates': {'Q71084': 0.10598896769109535, 'Q146246': 0.00429553264604811, 'Q71092': 0.12113564668769716, 'Q58296': 0.09373020899303357, 'Q70802': 0.3776297335203366, 'Q58326': 0.031683168316831684, 'Q69808': 0.011072103699702943, 'Q185682': 0.0009886307464162135, 'Q142': 0.8872503121098627, 'Q170604': 0.002657218777679362, 'Q2841718': 0.044444444444444446, 'Q271894': 0.0023923444976076554, 'Q218272': 0.0006872852233676976, 'Q90': 3.726198904497522e-05, 'Q206521': 0.0017543859649122807, 'Q745942': 0.0033783783783783786, 'Q200686': 0.061919504643962855, 'Q854': 4.0181620926588175e-05, 'Q787870': 0.04, 'Q221621': 0.19047619047619047, 'Q9642': 0.0009182736455463728, 'Q69829': 0.15137614678899083, 'Q907234': 0.0009910802775024777, 'Q8641370': 0.0012324377618930242, 'Q16470': 0.00040048057669203043, 'Q58202': 0.13412816691505217, 'Q210682': 0.0014204545454545455, 'Q7997': 0.00823045267489712, 'Q265319': 0.0036900369003690036, 'Q783684': 0.07441860465116279, 'Q139708': 0.0012330456226880395, 'Q207162': 0.025710419485791614, 'Q48756': 0.002583979328165375, 'Q335827': 0.0049504950495049506, 'Q13021889': 0.08333333333333333, 'Q69323': 0.11904761904761904, 'Q221639': 0.11764705882352941, 'Q98405': 0.0023752969121140144, 'Q129003': 0.015267175572519083, 'Q221646': 0.10526315789473684, 'Q1331514': 0.05917159763313609, 'Q38060': 0.0018656716417910447, 'Q1028848': 0.006711409395973154, 'Q1524643': 0.16666666666666666, 'Q327': 0.00023730422401518748, 'Q221611': 0.1, 'Q179390': 0.13636363636363635, 'Q221631': 0.25, 'Q701164': 0.058823529411764705, 'Q911972': 0.0006397952655150352, 'Q546607': 0.12962962962962962, 'Q15479': 0.021739130434782608, 'Q653784': 0.14285714285714285, 'Q2455958': 0.0851063829787234, 'Q16394': 0.0016, 'Q184319': 0.016, 'Q40898': 0.0006844626967830253, 'Q270517': 0.0021413276231263384, 'Q854122': 0.016129032258064516, 'Q212429': 0.005706134094151213, 'Q147796': 0.015151515151515152, 'Q2084927': 0.35000000000000003, 'Q2935621': 0.125, 'Q2009420': 0.2, 'Q208529': 0.0021551724137931034, 'Q171424': 0.003129890453834116, 'Q49644': 0.6666666666666666, 'Q5501842': 0.004878048780487805, 'Q788606': 0.025, 'Q154720': 0.0004488330341113106, 'Q132568': 0.00042753313381787086, 'Q1506615': 0.027777777777777776, 'Q7330388': 0.045454545454545456, 'Q172876': 0.003436426116838488, 'Q165271': 0.003115264797507788, 'Q22942003': 1.0, 'Q23781101': 0.5, 'Q235': 0.00029171528588098014, 'Q18156370': 1.0, 'Q215987': 0.0012360939431396785, 'Q203645': 0.0028328611898017, 'Q12193': 0.0003169572107765452, 'Q6454': 0.0005534034311012728, 'Q28154421': 0.3333333333333333, 'Q42807': 0.001034126163391934, 'Q28403426': 1.0, 'Q48314': 0.00042052144659377626, 'Q5707495': 0.6666666666666666, 'Q1414378': 0.06666666666666667}}}}\n",
      "{'mention': 'ALBI', 'ner_score': 1, 'pos': 2, 'sent_idx': 0, 'end_pos': 5, 'tag': 'B-LOC', 'sentence': \"* ALBI, (Géog.) ville de France, capitale de l'Albigeois, dans le haut Languedoc : elle est sur le Tarn. Long. 19. 49. lat. 43. 55. 44.\", 'prediction': 'Q132801', 'ed_score': 0.006, 'cross_cand_score': {'Q132801': 0.285, 'Q700379': 0.194, 'Q53749': 0.142, 'Q244031': 0.13, 'Q4371496': 0.128, 'Q4708979': 0.123, 'Q18871': 0.0}, 'string_match_score': {'Albi': (1.0, ['Q94744', 'Q132801', 'Q951428', 'Q53749', 'Q284698', 'Q700379']), 'Albaji': (0.505, ['Q4708979']), 'Abali': (0.436, ['Q4371496']), 'Abaali': (0.389, ['Q4663333']), 'Albiolo': (0.36, ['Q244031']), 'Jalabi': (0.351, ['Q5782888']), 'Babaali': (0.34, ['Q4837412']), 'Babali': (0.302, ['Q18871', 'Q4738503']), 'Alibi': (0.3, ['Q4725660']), 'Bojolali': (0.261, ['Q10609'])}, 'prior_cand_score': {'Q132801': 0.882, 'Q53749': 0.467, 'Q4708979': 0.344, 'Q4371496': 0.334, 'Q244031': 0.331, 'Q700379': 0.317, 'Q18871': 0.07}, 'latlon': [43.928056, 2.145833], 'wkdt_class': 'Q484170'}\n",
      "{'mention': 'France', 'ner_score': 1, 'pos': 25, 'sent_idx': 0, 'end_pos': 31, 'tag': 'B-LOC', 'sentence': \"* ALBI, (Géog.) ville de France, capitale de l'Albigeois, dans le haut Languedoc : elle est sur le Tarn. Long. 19. 49. lat. 43. 55. 44.\", 'prediction': 'Q142', 'ed_score': 0.005, 'cross_cand_score': {'Q142': 0.784, 'Q69829': 0.155, 'Q58202': 0.039, 'Q71084': 0.021, 'Q18156370': 0.0, 'Q22942003': 0.0, 'Q28403426': 0.0}, 'string_match_score': {'France': (1.0, ['Q71084', 'Q146246', 'Q71092', 'Q58296', 'Q70802', 'Q58326', 'Q69808', 'Q185682', 'Q142', 'Q170604', 'Q2841718', 'Q271894', 'Q218272', 'Q90', 'Q206521', 'Q745942', 'Q200686', 'Q854', 'Q787870', 'Q221621', 'Q9642', 'Q69829', 'Q907234', 'Q8641370', 'Q16470', 'Q58202', 'Q210682', 'Q7997', 'Q265319', 'Q783684', 'Q139708', 'Q207162', 'Q48756', 'Q335827', 'Q13021889', 'Q69323', 'Q221639', 'Q98405', 'Q129003', 'Q221646', 'Q1331514', 'Q38060', 'Q1028848', 'Q1524643', 'Q327', 'Q221611', 'Q179390', 'Q221631', 'Q701164', 'Q911972', 'Q546607', 'Q15479', 'Q653784', 'Q2455958', 'Q16394', 'Q184319', 'Q40898', 'Q270517', 'Q854122', 'Q212429', 'Q147796', 'Q2084927', 'Q2935621', 'Q2009420', 'Q208529', 'Q171424', 'Q49644', 'Q5501842', 'Q788606', 'Q154720', 'Q132568', 'Q1506615', 'Q7330388', 'Q172876', 'Q165271', 'Q22942003', 'Q23781101', 'Q235', 'Q18156370', 'Q215987', 'Q203645', 'Q12193', 'Q6454', 'Q28154421', 'Q42807', 'Q28403426', 'Q48314', 'Q5707495', 'Q1414378'])}, 'prior_cand_score': {'Q142': 0.875, 'Q28403426': 0.45, 'Q22942003': 0.45, 'Q18156370': 0.45, 'Q69829': 0.259, 'Q58202': 0.256, 'Q71084': 0.25}, 'latlon': [47.0, 2.0], 'wkdt_class': 'Q3624078'}\n",
      "{'mention': 'Albigeois', 'ner_score': 1, 'pos': 47, 'sent_idx': 0, 'end_pos': 56, 'tag': 'B-LOC', 'sentence': \"* ALBI, (Géog.) ville de France, capitale de l'Albigeois, dans le haut Languedoc : elle est sur le Tarn. Long. 19. 49. lat. 43. 55. 44.\", 'prediction': 'Q132801', 'ed_score': 0.005, 'cross_cand_score': {'Q132801': 1.0}, 'string_match_score': {'Albigeois': (1.0, ['Q132801'])}, 'prior_cand_score': {'Q132801': 0.686}, 'latlon': [43.928056, 2.145833], 'wkdt_class': 'Q484170'}\n",
      "{'mention': 'Tarn', 'ner_score': 1, 'pos': 99, 'sent_idx': 0, 'end_pos': 103, 'tag': 'B-LOC', 'sentence': \"* ALBI, (Géog.) ville de France, capitale de l'Albigeois, dans le haut Languedoc : elle est sur le Tarn. Long. 19. 49. lat. 43. 55. 44.\", 'prediction': 'Q12772', 'ed_score': 0.005, 'cross_cand_score': {'Q12772': 0.354, 'Q215653': 0.326, 'Q1538251': 0.32}, 'string_match_score': {'Tarn': (1.0, ['Q215653', 'Q12772', 'Q1538251'])}, 'prior_cand_score': {'Q12772': 0.89, 'Q215653': 0.482, 'Q1538251': 0.246}, 'latlon': [43.909722, 2.109167], 'wkdt_class': 'Q6465'}\n",
      "{'mention': 'Languedoc', 'ner_score': 1, 'pos': 71, 'sent_idx': 0, 'end_pos': 80, 'tag': 'B-LOC', 'sentence': \"* ALBI, (Géog.) ville de France, capitale de l'Albigeois, dans le haut Languedoc : elle est sur le Tarn. Long. 19. 49. lat. 43. 55. 44.\", 'prediction': 'Q206221', 'ed_score': 0.005, 'cross_cand_score': {'Q206221': 0.354, 'Q17005': 0.329, 'Q1886509': 0.318}, 'string_match_score': {'Languedoc': (1.0, ['Q206221', 'Q17005', 'Q1886509'])}, 'prior_cand_score': {'Q206221': 0.894, 'Q1886509': 0.452, 'Q17005': 0.229}, 'latlon': [43.666667, 3.166667], 'wkdt_class': 'Q572995'}\n"
     ]
    }
   ],
   "source": [
    "sentence = \"* ALBI, (Géog.) ville de France, capitale de l'Albigeois, dans le haut Languedoc : elle est sur le Tarn. Long. 19. 49. lat. 43. 55. 44.\"\n",
    "sentence.find('ALBI')\n",
    "resolved = geoparser.run_sentence(sentence, HEAD='ALBI', verbose=True)\n",
    "for r in resolved:\n",
    "    print(r)"
   ]
  },
  {
   "cell_type": "markdown",
   "metadata": {},
   "source": [
    "# Performance"
   ]
  },
  {
   "cell_type": "code",
   "execution_count": 6,
   "metadata": {},
   "outputs": [],
   "source": [
    "import WikidataObject"
   ]
  },
  {
   "cell_type": "code",
   "execution_count": 8,
   "metadata": {},
   "outputs": [
    {
     "name": "stderr",
     "output_type": "stream",
     "text": [
      "                                                                                                \r"
     ]
    },
    {
     "data": {
      "application/vnd.jupyter.widget-view+json": {
       "model_id": "680e486d8dac40c7baeb04e91352cb76",
       "version_major": 2,
       "version_minor": 0
      },
      "text/plain": [
       "  0%|          | 0/1 [00:00<?, ?it/s]"
      ]
     },
     "metadata": {},
     "output_type": "display_data"
    },
    {
     "name": "stdout",
     "output_type": "stream",
     "text": [
      "Head: Afrique\n",
      "Gold: Q818608\n",
      "Prediction: Q613323\n",
      "Skyline: False\n",
      "{'Q613323': 0.275, 'Q13727': 0.23, 'Q1747689': 0.173, 'Q12341860': 0.122, 'Q2851613': 0.119, 'Q1636204': 0.082, 'Q943336': 0.0}\n",
      "Accuracy 10: False\n",
      "\n"
     ]
    },
    {
     "name": "stderr",
     "output_type": "stream",
     "text": [
      "                                                                                                \r"
     ]
    },
    {
     "data": {
      "application/vnd.jupyter.widget-view+json": {
       "model_id": "0b3a5ed9da6243e8855ea23c09335286",
       "version_major": 2,
       "version_minor": 0
      },
      "text/plain": [
       "  0%|          | 0/1 [00:00<?, ?it/s]"
      ]
     },
     "metadata": {},
     "output_type": "display_data"
    },
    {
     "name": "stdout",
     "output_type": "stream",
     "text": [
      "Head: AGDE\n",
      "Gold: Q191396\n",
      "Prediction: Q191396\n",
      "Skyline: True\n",
      "{'Q191396': 0.273, 'Q4681437': 0.158, 'Q1016861': 0.155, 'Q2028453': 0.142, 'Q120824273': 0.142, 'Q150996': 0.13, 'Q227': 0.0}\n",
      "Accuracy 10: True\n",
      "\n"
     ]
    },
    {
     "name": "stderr",
     "output_type": "stream",
     "text": [
      "                                                                                                \r"
     ]
    },
    {
     "data": {
      "application/vnd.jupyter.widget-view+json": {
       "model_id": "fed5b25481974e82a2120878860d3c0f",
       "version_major": 2,
       "version_minor": 0
      },
      "text/plain": [
       "  0%|          | 0/1 [00:00<?, ?it/s]"
      ]
     },
     "metadata": {},
     "output_type": "display_data"
    },
    {
     "name": "stdout",
     "output_type": "stream",
     "text": [
      "Head: AGEN\n",
      "Gold: Q6625\n",
      "Prediction: Q6625\n",
      "Skyline: True\n",
      "{'Q6625': 0.355, 'Q538054': 0.135, 'Q542966': 0.13, 'Q506043': 0.128, 'Q1768728': 0.127, 'Q255042': 0.126, 'Q34575': 0.0}\n",
      "Accuracy 10: True\n",
      "\n"
     ]
    },
    {
     "name": "stderr",
     "output_type": "stream",
     "text": [
      "                                                                                                \r"
     ]
    },
    {
     "data": {
      "application/vnd.jupyter.widget-view+json": {
       "model_id": "5ac1abd551da43d2a5d4a37fa8a1d2e8",
       "version_major": 2,
       "version_minor": 0
      },
      "text/plain": [
       "  0%|          | 0/1 [00:00<?, ?it/s]"
      ]
     },
     "metadata": {},
     "output_type": "display_data"
    },
    {
     "name": "stdout",
     "output_type": "stream",
     "text": [
      "Head: AGRERE\n",
      "Gold: Q137514\n",
      "Prediction: Q210396\n",
      "Skyline: False\n",
      "{'Q210396': 0.368, 'Q60544458': 0.352, 'Q757600': 0.165, 'Q393161': 0.055, 'Q362183': 0.032, 'Q393032': 0.027, 'Q1412681': 0.0}\n",
      "Accuracy 10: False\n",
      "\n",
      "Head: Aigle\n",
      "Gold: Q500588\n",
      "Prediction: Q43195\n",
      "Skyline: False\n",
      "{'Q43195': 0.347, 'Q647923': 0.334, 'Q1011820': 0.319}\n",
      "Accuracy 10: False\n",
      "\n"
     ]
    },
    {
     "name": "stderr",
     "output_type": "stream",
     "text": [
      "                                                                                                \r"
     ]
    },
    {
     "data": {
      "application/vnd.jupyter.widget-view+json": {
       "model_id": "a4054595a0ca48f9b60ae50a1e7a2893",
       "version_major": 2,
       "version_minor": 0
      },
      "text/plain": [
       "  0%|          | 0/1 [00:00<?, ?it/s]"
      ]
     },
     "metadata": {},
     "output_type": "display_data"
    },
    {
     "name": "stdout",
     "output_type": "stream",
     "text": [
      "Head: AIGNAI-LE-DUC\n",
      "Gold: Q198315\n",
      "Prediction: Q198315\n",
      "Skyline: True\n",
      "{'Q198315': 0.554, 'Q7510448': 0.446}\n",
      "Accuracy 10: True\n",
      "\n"
     ]
    },
    {
     "name": "stderr",
     "output_type": "stream",
     "text": [
      "                                                                                                \r"
     ]
    },
    {
     "data": {
      "application/vnd.jupyter.widget-view+json": {
       "model_id": "4294e0eee4d349b9bc2a34e636820995",
       "version_major": 2,
       "version_minor": 0
      },
      "text/plain": [
       "  0%|          | 0/1 [00:00<?, ?it/s]"
      ]
     },
     "metadata": {},
     "output_type": "display_data"
    },
    {
     "name": "stdout",
     "output_type": "stream",
     "text": [
      "Head: AIGNAN (Saint)\n",
      "Gold: Q832394\n",
      "Prediction: Q191082\n",
      "Skyline: False\n",
      "{'Q191082': 0.423, 'Q170415': 0.343, 'Q4830054': 0.091, 'Q4749678': 0.056, 'Q249827': 0.05, 'Q13583544': 0.037, 'Q3298337': 0.0}\n",
      "Accuracy 10: False\n",
      "\n"
     ]
    },
    {
     "name": "stderr",
     "output_type": "stream",
     "text": [
      "                                                                                                \r"
     ]
    },
    {
     "data": {
      "application/vnd.jupyter.widget-view+json": {
       "model_id": "6562111228f944b1b8ee0d3958363828",
       "version_major": 2,
       "version_minor": 0
      },
      "text/plain": [
       "  0%|          | 0/1 [00:00<?, ?it/s]"
      ]
     },
     "metadata": {},
     "output_type": "display_data"
    },
    {
     "name": "stdout",
     "output_type": "stream",
     "text": [
      "Head: AIGREMONT-LE-DUC\n",
      "Gold: Q1102347\n",
      "Prediction: NIL\n",
      "Skyline: False\n",
      "{}\n",
      "Accuracy 10: False\n",
      "\n"
     ]
    },
    {
     "name": "stderr",
     "output_type": "stream",
     "text": [
      "                                                                                                \r"
     ]
    },
    {
     "data": {
      "application/vnd.jupyter.widget-view+json": {
       "model_id": "c98437f2e1ee42279933f05215fce848",
       "version_major": 2,
       "version_minor": 0
      },
      "text/plain": [
       "  0%|          | 0/1 [00:00<?, ?it/s]"
      ]
     },
     "metadata": {},
     "output_type": "display_data"
    },
    {
     "name": "stdout",
     "output_type": "stream",
     "text": [
      "Head: AIGUES-MORTES\n",
      "Gold: Q193809\n",
      "Prediction: Q193809\n",
      "Skyline: True\n",
      "{'Q193809': 0.26, 'Q669792': 0.196, 'Q618657': 0.146, 'Q927458': 0.142, 'Q784416': 0.134, 'Q7112': 0.121, 'Q1778321': 0.0}\n",
      "Accuracy 10: True\n",
      "\n"
     ]
    },
    {
     "name": "stderr",
     "output_type": "stream",
     "text": [
      "                                                                                                \r"
     ]
    },
    {
     "data": {
      "application/vnd.jupyter.widget-view+json": {
       "model_id": "ff70dea6665448b48f7a9a106d747c25",
       "version_major": 2,
       "version_minor": 0
      },
      "text/plain": [
       "  0%|          | 0/1 [00:00<?, ?it/s]"
      ]
     },
     "metadata": {},
     "output_type": "display_data"
    },
    {
     "name": "stdout",
     "output_type": "stream",
     "text": [
      "Head: AIGLE-PERSE\n",
      "Gold: Q333447\n",
      "Prediction: Q43195\n",
      "Skyline: False\n",
      "{'Q43195': 0.325, 'Q60544458': 0.231, 'Q476475': 0.191, 'Q851276': 0.187, 'Q647923': 0.042, 'Q838582': 0.024, 'Q739893': 0.0}\n",
      "Accuracy 10: False\n",
      "\n",
      "Head: Aiguillon\n",
      "Gold: Q404783\n",
      "Prediction: Q404783\n",
      "Skyline: True\n",
      "{'Q404783': 0.181, 'Q404757': 0.168, 'Q60524534': 0.167, 'Q1102696': 0.163, 'Q1068820': 0.162, 'Q2325241': 0.16}\n",
      "Accuracy 10: True\n",
      "\n"
     ]
    },
    {
     "name": "stderr",
     "output_type": "stream",
     "text": [
      "                                                                                                \r"
     ]
    },
    {
     "data": {
      "application/vnd.jupyter.widget-view+json": {
       "model_id": "e9710b0f083c42e1aa15558cde4b2aae",
       "version_major": 2,
       "version_minor": 0
      },
      "text/plain": [
       "  0%|          | 0/1 [00:00<?, ?it/s]"
      ]
     },
     "metadata": {},
     "output_type": "display_data"
    },
    {
     "name": "stdout",
     "output_type": "stream",
     "text": [
      "Head: AIGURANDE\n",
      "Gold: Q211643\n",
      "Prediction: Q211643\n",
      "Skyline: True\n",
      "{'Q211643': 0.255, 'Q15155': 0.223, 'Q703206': 0.215, 'Q568703': 0.147, 'Q429589': 0.121, 'Q4648884': 0.04, 'Q2455320': 0.0}\n",
      "Accuracy 10: True\n",
      "\n",
      "Head: Aire\n",
      "Gold: Q408608\n",
      "Prediction: Q259903\n",
      "Skyline: True\n",
      "{'Q259903': 0.386, 'Q408636': 0.345, 'Q403349': 0.101, 'Q408614': 0.088, 'Q408608': 0.068, 'Q323727': 0.012, 'Q2876414': 0.0}\n",
      "Accuracy 10: False\n",
      "\n"
     ]
    },
    {
     "name": "stderr",
     "output_type": "stream",
     "text": [
      "                                                                                                \r"
     ]
    },
    {
     "data": {
      "application/vnd.jupyter.widget-view+json": {
       "model_id": "f4e6a8908abf41b594d47e13bf85131e",
       "version_major": 2,
       "version_minor": 0
      },
      "text/plain": [
       "  0%|          | 0/1 [00:00<?, ?it/s]"
      ]
     },
     "metadata": {},
     "output_type": "display_data"
    },
    {
     "name": "stdout",
     "output_type": "stream",
     "text": [
      "Head: AISAY-LE-DUC\n",
      "Gold: Q296286\n",
      "Prediction: Q198315\n",
      "Skyline: False\n",
      "{'Q198315': 1.0}\n",
      "Accuracy 10: False\n",
      "\n"
     ]
    },
    {
     "name": "stderr",
     "output_type": "stream",
     "text": [
      "                                                                                                \r"
     ]
    },
    {
     "data": {
      "application/vnd.jupyter.widget-view+json": {
       "model_id": "3fd02237520a4acfa4f984d43d6621f4",
       "version_major": 2,
       "version_minor": 0
      },
      "text/plain": [
       "  0%|          | 0/1 [00:00<?, ?it/s]"
      ]
     },
     "metadata": {},
     "output_type": "display_data"
    },
    {
     "name": "stdout",
     "output_type": "stream",
     "text": [
      "Head: AISNAY-LE-CHASTEAU\n",
      "Gold: Q841802\n",
      "Prediction: Q840966\n",
      "Skyline: True\n",
      "{'Q840966': 0.345, 'Q841802': 0.336, 'Q722798': 0.318}\n",
      "Accuracy 10: False\n",
      "\n"
     ]
    },
    {
     "name": "stderr",
     "output_type": "stream",
     "text": [
      "                                                                                                \r"
     ]
    },
    {
     "data": {
      "application/vnd.jupyter.widget-view+json": {
       "model_id": "fb3fe328c3074b08bb0b714bbaf6a847",
       "version_major": 2,
       "version_minor": 0
      },
      "text/plain": [
       "  0%|          | 0/1 [00:00<?, ?it/s]"
      ]
     },
     "metadata": {},
     "output_type": "display_data"
    },
    {
     "name": "stdout",
     "output_type": "stream",
     "text": [
      "Head: AIX\n",
      "Gold: Q47465\n",
      "Prediction: Q47465\n",
      "Skyline: True\n",
      "{'Q47465': 0.274, 'Q2302586': 0.196, 'Q649694': 0.154, 'Q1017': 0.144, 'Q1085565': 0.118, 'Q1423391': 0.114, 'Q12094': 0.0}\n",
      "Accuracy 10: True\n",
      "\n"
     ]
    },
    {
     "name": "stderr",
     "output_type": "stream",
     "text": [
      "                                                                                                \r"
     ]
    },
    {
     "data": {
      "application/vnd.jupyter.widget-view+json": {
       "model_id": "9c291161bb7e40a0b7471d76170e4719",
       "version_major": 2,
       "version_minor": 0
      },
      "text/plain": [
       "  0%|          | 0/1 [00:00<?, ?it/s]"
      ]
     },
     "metadata": {},
     "output_type": "display_data"
    },
    {
     "name": "stdout",
     "output_type": "stream",
     "text": [
      "Head: Aix\n",
      "Gold: Q411485\n",
      "Prediction: Q47465\n",
      "Skyline: False\n",
      "{'Q47465': 0.614, 'Q181955': 0.224, 'Q2302586': 0.1, 'Q649694': 0.053, 'Q3329161': 0.006, 'Q587478': 0.003, 'Q1017': 0.0}\n",
      "Accuracy 10: False\n",
      "\n",
      "Head: Alais\n",
      "Gold: Q193183\n",
      "Prediction: Q193183\n",
      "Skyline: True\n",
      "{'Q193183': 0.355, 'Q38913699': 0.324, 'Q866819': 0.321}\n",
      "Accuracy 10: True\n",
      "\n"
     ]
    },
    {
     "name": "stderr",
     "output_type": "stream",
     "text": [
      "                                                                                                \r"
     ]
    },
    {
     "data": {
      "application/vnd.jupyter.widget-view+json": {
       "model_id": "e54cd3677b1843e1a85d7ec1412f6baa",
       "version_major": 2,
       "version_minor": 0
      },
      "text/plain": [
       "  0%|          | 0/1 [00:00<?, ?it/s]"
      ]
     },
     "metadata": {},
     "output_type": "display_data"
    },
    {
     "name": "stdout",
     "output_type": "stream",
     "text": [
      "Head: ALBAN (S.)\n",
      "Gold: Q454186\n",
      "Prediction: Q659561\n",
      "Skyline: False\n",
      "{'Q659561': 0.244, 'Q165200': 0.234, 'Q267127': 0.215, 'Q778224': 0.156, 'Q294510': 0.084, 'Q3471731': 0.067, 'Q1002003': 0.0}\n",
      "Accuracy 10: False\n",
      "\n",
      "Head: ALBI\n",
      "Gold: Q132801\n",
      "Prediction: Q132801\n",
      "Skyline: True\n",
      "{'Q132801': 0.284, 'Q700379': 0.154, 'Q53749': 0.153, 'Q244031': 0.14, 'Q4371496': 0.138, 'Q4708979': 0.132, 'Q18871': 0.0}\n",
      "Accuracy 10: True\n",
      "\n"
     ]
    },
    {
     "name": "stderr",
     "output_type": "stream",
     "text": [
      "                                                                                                \r"
     ]
    },
    {
     "data": {
      "application/vnd.jupyter.widget-view+json": {
       "model_id": "8000defcc3754b8bb9d3da7a61f9304e",
       "version_major": 2,
       "version_minor": 0
      },
      "text/plain": [
       "  0%|          | 0/1 [00:00<?, ?it/s]"
      ]
     },
     "metadata": {},
     "output_type": "display_data"
    },
    {
     "name": "stdout",
     "output_type": "stream",
     "text": [
      "Head: ALBRET ou LABRIT\n",
      "Gold: Q496720\n",
      "Prediction: NIL\n",
      "Skyline: False\n",
      "{}\n",
      "Accuracy 10: False\n",
      "\n"
     ]
    },
    {
     "name": "stderr",
     "output_type": "stream",
     "text": [
      "                                                                                                \r"
     ]
    },
    {
     "data": {
      "application/vnd.jupyter.widget-view+json": {
       "model_id": "ba2325f345e14bf3baecf4f2759f51b4",
       "version_major": 2,
       "version_minor": 0
      },
      "text/plain": [
       "  0%|          | 0/1 [00:00<?, ?it/s]"
      ]
     },
     "metadata": {},
     "output_type": "display_data"
    },
    {
     "name": "stdout",
     "output_type": "stream",
     "text": [
      "Head: ALENCON\n",
      "Gold: Q181269\n",
      "Prediction: Q181269\n",
      "Skyline: True\n",
      "{'Q181269': 0.325, 'Q4731477': 0.041, 'Q3709307': 0.028, 'Q65433': 0.027, 'Q3885855': 0.017, 'Q3330234': 0.0}\n",
      "Accuracy 10: True\n",
      "\n"
     ]
    },
    {
     "name": "stderr",
     "output_type": "stream",
     "text": [
      "                                                                                                \r"
     ]
    },
    {
     "data": {
      "application/vnd.jupyter.widget-view+json": {
       "model_id": "76ec2661f0c14058b143ee960be7df52",
       "version_major": 2,
       "version_minor": 0
      },
      "text/plain": [
       "  0%|          | 0/1 [00:00<?, ?it/s]"
      ]
     },
     "metadata": {},
     "output_type": "display_data"
    },
    {
     "name": "stdout",
     "output_type": "stream",
     "text": [
      "Head: ALLASSAC\n",
      "Gold: Q1016282\n",
      "Prediction: Q1016282\n",
      "Skyline: True\n",
      "{'Q1016282': 0.283, 'Q915217': 0.228, 'Q2571621': 0.137, 'Q633653': 0.136, 'Q1012817': 0.13, 'Q40780': 0.086, 'Q1727138': 0.0}\n",
      "Accuracy 10: True\n",
      "\n"
     ]
    },
    {
     "name": "stderr",
     "output_type": "stream",
     "text": [
      "                                                                                                \r"
     ]
    },
    {
     "data": {
      "application/vnd.jupyter.widget-view+json": {
       "model_id": "01eeff0d26b34bfbae3baddc83e9021e",
       "version_major": 2,
       "version_minor": 0
      },
      "text/plain": [
       "  0%|          | 0/1 [00:00<?, ?it/s]"
      ]
     },
     "metadata": {},
     "output_type": "display_data"
    },
    {
     "name": "stdout",
     "output_type": "stream",
     "text": [
      "Head: ANCENIS\n",
      "Gold: Q213515\n",
      "Prediction: Q213515\n",
      "Skyline: True\n",
      "{'Q213515': 0.341, 'Q11768': 0.249, 'Q6536845': 0.206, 'Q1625868': 0.196, 'Q926295': 0.006, 'Q329618': 0.003, 'Q328478': 0.0}\n",
      "Accuracy 10: True\n",
      "\n"
     ]
    },
    {
     "name": "stderr",
     "output_type": "stream",
     "text": [
      "                                                                                                \r"
     ]
    },
    {
     "data": {
      "application/vnd.jupyter.widget-view+json": {
       "model_id": "77c7893e86fd499daf893d1c1faa287e",
       "version_major": 2,
       "version_minor": 0
      },
      "text/plain": [
       "  0%|          | 0/1 [00:00<?, ?it/s]"
      ]
     },
     "metadata": {},
     "output_type": "display_data"
    },
    {
     "name": "stdout",
     "output_type": "stream",
     "text": [
      "Head: Ancre, ou Encre\n",
      "Gold: Q30940\n",
      "Prediction: Q152008\n",
      "Skyline: False\n",
      "{'Q152008': 0.241, 'Q489438': 0.223, 'Q4872828': 0.195, 'Q477768': 0.175, 'Q16896179': 0.103, 'Q105200722': 0.063, 'Q2980652': 0.0}\n",
      "Accuracy 10: False\n",
      "\n"
     ]
    },
    {
     "name": "stderr",
     "output_type": "stream",
     "text": [
      "                                                                                                \r"
     ]
    },
    {
     "data": {
      "application/vnd.jupyter.widget-view+json": {
       "model_id": "d26dc7fcc11548f7bb6d424eee47d598",
       "version_major": 2,
       "version_minor": 0
      },
      "text/plain": [
       "  0%|          | 0/1 [00:00<?, ?it/s]"
      ]
     },
     "metadata": {},
     "output_type": "display_data"
    },
    {
     "name": "stdout",
     "output_type": "stream",
     "text": [
      "Head: ANCY-LE-FRANC\n",
      "Gold: Q1140847\n",
      "Prediction: Q1140847\n",
      "Skyline: True\n",
      "{'Q1140847': 0.214, 'Q127990': 0.199, 'Q244708': 0.173, 'Q33779': 0.142, 'Q7338938': 0.137, 'Q199881': 0.135, 'Q4765136': 0.0}\n",
      "Accuracy 10: True\n",
      "\n"
     ]
    },
    {
     "name": "stderr",
     "output_type": "stream",
     "text": [
      "                                                                                                \r"
     ]
    },
    {
     "data": {
      "application/vnd.jupyter.widget-view+json": {
       "model_id": "51695b01bc714a5386ae8dbeb308b47c",
       "version_major": 2,
       "version_minor": 0
      },
      "text/plain": [
       "  0%|          | 0/1 [00:00<?, ?it/s]"
      ]
     },
     "metadata": {},
     "output_type": "display_data"
    },
    {
     "name": "stdout",
     "output_type": "stream",
     "text": [
      "Head: ANDELY\n",
      "Gold: Q209770\n",
      "Prediction: Q5456\n",
      "Skyline: False\n",
      "{'Q5456': 0.508, 'Q701477': 0.239, 'Q4767766': 0.112, 'Q490151': 0.091, 'Q2253787': 0.027, 'Q5254972': 0.023, 'Q1573839': 0.0}\n",
      "Accuracy 10: False\n",
      "\n"
     ]
    },
    {
     "name": "stderr",
     "output_type": "stream",
     "text": [
      "                                                                                                \r"
     ]
    },
    {
     "data": {
      "application/vnd.jupyter.widget-view+json": {
       "model_id": "bc77e596d9c84fc1a31ab2e2fbb2aad4",
       "version_major": 2,
       "version_minor": 0
      },
      "text/plain": [
       "  0%|          | 0/1 [00:00<?, ?it/s]"
      ]
     },
     "metadata": {},
     "output_type": "display_data"
    },
    {
     "name": "stdout",
     "output_type": "stream",
     "text": [
      "Head: ANDONVILLE\n",
      "Gold: Q1105321\n",
      "Prediction: Q1105321\n",
      "Skyline: True\n",
      "{'Q1105321': 0.261, 'Q1863': 0.214, 'Q30713': 0.139, 'Q2684825': 0.13, 'Q273036': 0.13, 'Q956404': 0.126, 'Q143027': 0.0}\n",
      "Accuracy 10: True\n",
      "\n"
     ]
    },
    {
     "name": "stderr",
     "output_type": "stream",
     "text": [
      "                                                                                                \r"
     ]
    },
    {
     "data": {
      "application/vnd.jupyter.widget-view+json": {
       "model_id": "cbd7716cebb14b24a43122991a306a0f",
       "version_major": 2,
       "version_minor": 0
      },
      "text/plain": [
       "  0%|          | 0/1 [00:00<?, ?it/s]"
      ]
     },
     "metadata": {},
     "output_type": "display_data"
    },
    {
     "name": "stdout",
     "output_type": "stream",
     "text": [
      "Head: ANDUZE\n",
      "Gold: Q240921\n",
      "Prediction: Q240921\n",
      "Skyline: True\n",
      "{'Q333466': 0.344, 'Q240921': 0.205, 'Q378357': 0.045, 'Q1636204': 0.034, 'Q610126': 0.004, 'Q1615533': 0.0}\n",
      "Accuracy 10: True\n",
      "\n"
     ]
    },
    {
     "name": "stderr",
     "output_type": "stream",
     "text": [
      "                                                                                                \r"
     ]
    },
    {
     "data": {
      "application/vnd.jupyter.widget-view+json": {
       "model_id": "8bb6ae486a764f6f81feed8a64cfe2d9",
       "version_major": 2,
       "version_minor": 0
      },
      "text/plain": [
       "  0%|          | 0/1 [00:00<?, ?it/s]"
      ]
     },
     "metadata": {},
     "output_type": "display_data"
    },
    {
     "name": "stdout",
     "output_type": "stream",
     "text": [
      "Head: ANGERS\n",
      "Gold: Q38380\n",
      "Prediction: Q38380\n",
      "Skyline: True\n",
      "{'Q38380': 0.211, 'Q7132480': 0.13, 'Q1535135': 0.129, 'Q1147429': 0.114, 'Q4763139': 0.093, 'Q26857': 0.0}\n",
      "Accuracy 10: True\n",
      "\n"
     ]
    },
    {
     "name": "stderr",
     "output_type": "stream",
     "text": [
      "                                                                                                \r"
     ]
    },
    {
     "data": {
      "application/vnd.jupyter.widget-view+json": {
       "model_id": "66f69e1614814cd099b4586b2e0afbf5",
       "version_major": 2,
       "version_minor": 0
      },
      "text/plain": [
       "  0%|          | 0/1 [00:00<?, ?it/s]"
      ]
     },
     "metadata": {},
     "output_type": "display_data"
    },
    {
     "name": "stdout",
     "output_type": "stream",
     "text": [
      "Head: ANGLURE\n",
      "Gold: Q1060088\n",
      "Prediction: Q21\n",
      "Skyline: True\n",
      "{'Q21': 0.24, 'Q1060088': 0.239, 'Q540710': 0.176, 'Q1065755': 0.176, 'Q1889659': 0.167, 'Q1141373': 0.002, 'Q179876': 0.0}\n",
      "Accuracy 10: False\n",
      "\n"
     ]
    },
    {
     "name": "stderr",
     "output_type": "stream",
     "text": [
      "                                                                                                \r"
     ]
    },
    {
     "data": {
      "application/vnd.jupyter.widget-view+json": {
       "model_id": "be7c79eef80641eabebcc0d7e914fe62",
       "version_major": 2,
       "version_minor": 0
      },
      "text/plain": [
       "  0%|          | 0/1 [00:00<?, ?it/s]"
      ]
     },
     "metadata": {},
     "output_type": "display_data"
    },
    {
     "name": "stdout",
     "output_type": "stream",
     "text": [
      "Head: ANGOULEME\n",
      "Gold: Q134346\n",
      "Prediction: Q134346\n",
      "Skyline: True\n",
      "{'Q134346': 0.648, 'Q542638': 0.248, 'Q939826': 0.082, 'Q3095646': 0.011, 'Q4699703': 0.008, 'Q775933': 0.002, 'Q538536': 0.0}\n",
      "Accuracy 10: True\n",
      "\n"
     ]
    },
    {
     "name": "stderr",
     "output_type": "stream",
     "text": [
      "                                                                                                \r"
     ]
    },
    {
     "data": {
      "application/vnd.jupyter.widget-view+json": {
       "model_id": "02b407b125b4446993d0d258da235013",
       "version_major": 2,
       "version_minor": 0
      },
      "text/plain": [
       "  0%|          | 0/1 [00:00<?, ?it/s]"
      ]
     },
     "metadata": {},
     "output_type": "display_data"
    },
    {
     "name": "stdout",
     "output_type": "stream",
     "text": [
      "Head: ANIANE, ou SAINT-BENOIST D'ANIANE\n",
      "Gold: Q379780\n",
      "Prediction: Q379780\n",
      "Skyline: True\n",
      "{'Q379780': 0.482, 'Q28964': 0.234, 'Q972657': 0.174, 'Q5456': 0.041, 'Q554963': 0.034, 'Q17510683': 0.034, 'Q6037428': 0.0}\n",
      "Accuracy 10: True\n",
      "\n"
     ]
    },
    {
     "name": "stderr",
     "output_type": "stream",
     "text": [
      "                                                                                                \r"
     ]
    },
    {
     "data": {
      "application/vnd.jupyter.widget-view+json": {
       "model_id": "6999c48de7614b019d2bae958f9ea9cf",
       "version_major": 2,
       "version_minor": 0
      },
      "text/plain": [
       "  0%|          | 0/1 [00:00<?, ?it/s]"
      ]
     },
     "metadata": {},
     "output_type": "display_data"
    },
    {
     "name": "stdout",
     "output_type": "stream",
     "text": [
      "Head: ANNONAY\n",
      "Gold: Q238366\n",
      "Prediction: Q238366\n",
      "Skyline: True\n",
      "{'Q238366': 0.603, 'Q658928': 0.233, 'Q852805': 0.096, 'Q1917942': 0.032, 'Q4750575': 0.025, 'Q645224': 0.012, 'Q4770707': 0.0}\n",
      "Accuracy 10: True\n",
      "\n"
     ]
    },
    {
     "name": "stderr",
     "output_type": "stream",
     "text": [
      "                                                                                                \r"
     ]
    },
    {
     "data": {
      "application/vnd.jupyter.widget-view+json": {
       "model_id": "8e046c933c0b451aab82e3167019c1a2",
       "version_major": 2,
       "version_minor": 0
      },
      "text/plain": [
       "  0%|          | 0/1 [00:00<?, ?it/s]"
      ]
     },
     "metadata": {},
     "output_type": "display_data"
    },
    {
     "name": "stdout",
     "output_type": "stream",
     "text": [
      "Head: ANNOT\n",
      "Gold: Q157724\n",
      "Prediction: Q157724\n",
      "Skyline: True\n",
      "{'Q157724': 0.331, 'Q2916727': 0.194, 'Q583826': 0.155, 'Q1724183': 0.133, 'Q2845667': 0.129, 'Q811250': 0.058, 'Q271063': 0.0}\n",
      "Accuracy 10: True\n",
      "\n"
     ]
    },
    {
     "name": "stderr",
     "output_type": "stream",
     "text": [
      "                                                                                                \r"
     ]
    },
    {
     "data": {
      "application/vnd.jupyter.widget-view+json": {
       "model_id": "9e5fd47d00e04d61aee8754678564d71",
       "version_major": 2,
       "version_minor": 0
      },
      "text/plain": [
       "  0%|          | 0/1 [00:00<?, ?it/s]"
      ]
     },
     "metadata": {},
     "output_type": "display_data"
    },
    {
     "name": "stdout",
     "output_type": "stream",
     "text": [
      "Head: ANTIBES\n",
      "Gold: Q126898\n",
      "Prediction: Q126898\n",
      "Skyline: True\n",
      "{'Q126898': 0.323, 'Q3607229': 0.179, 'Q999469': 0.176, 'Q31071': 0.174, 'Q800390': 0.145, 'Q490807': 0.002, 'Q123304': 0.0}\n",
      "Accuracy 10: True\n",
      "\n"
     ]
    },
    {
     "name": "stderr",
     "output_type": "stream",
     "text": [
      "                                                                                                \r"
     ]
    },
    {
     "data": {
      "application/vnd.jupyter.widget-view+json": {
       "model_id": "e3e1b6002cc3495792ccbe396a62e1f2",
       "version_major": 2,
       "version_minor": 0
      },
      "text/plain": [
       "  0%|          | 0/1 [00:00<?, ?it/s]"
      ]
     },
     "metadata": {},
     "output_type": "display_data"
    },
    {
     "name": "stdout",
     "output_type": "stream",
     "text": [
      "Head: ANTRAIN\n",
      "Gold: Q648164\n",
      "Prediction: Q648164\n",
      "Skyline: True\n",
      "{'Q648164': 0.345, 'Q131964': 0.207, 'Q200441': 0.137, 'Q1327528': 0.114, 'Q8207617': 0.113, 'Q3511604': 0.084, 'Q28513': 0.0}\n",
      "Accuracy 10: True\n",
      "\n"
     ]
    },
    {
     "name": "stderr",
     "output_type": "stream",
     "text": [
      "                                                                                                \r"
     ]
    },
    {
     "data": {
      "application/vnd.jupyter.widget-view+json": {
       "model_id": "1dd7b9ad1c894d78bd457dbc05e045d9",
       "version_major": 2,
       "version_minor": 0
      },
      "text/plain": [
       "  0%|          | 0/1 [00:00<?, ?it/s]"
      ]
     },
     "metadata": {},
     "output_type": "display_data"
    },
    {
     "name": "stdout",
     "output_type": "stream",
     "text": [
      "Head: ANTRAIN ou ENTRAINS\n",
      "Gold: Q1113070\n",
      "Prediction: Q5955\n",
      "Skyline: False\n",
      "{'Q5955': 0.305, 'Q33645010': 0.272, 'Q8073': 0.261, 'Q171334': 0.103, 'Q243276': 0.045, 'Q16335075': 0.014, 'Q434371': 0.0}\n",
      "Accuracy 10: False\n",
      "\n"
     ]
    },
    {
     "name": "stderr",
     "output_type": "stream",
     "text": [
      "                                                                                                \r"
     ]
    },
    {
     "data": {
      "application/vnd.jupyter.widget-view+json": {
       "model_id": "5d1da87e6f5449539eee6a9b1473d435",
       "version_major": 2,
       "version_minor": 0
      },
      "text/plain": [
       "  0%|          | 0/1 [00:00<?, ?it/s]"
      ]
     },
     "metadata": {},
     "output_type": "display_data"
    },
    {
     "name": "stdout",
     "output_type": "stream",
     "text": [
      "Head: APREMONT\n",
      "Gold: Q572125\n",
      "Prediction: Q572125\n",
      "Skyline: True\n",
      "{'Q572125': 0.209, 'Q766337': 0.177, 'Q990986': 0.17, 'Q736624': 0.154, 'Q621826': 0.147, 'Q2042095': 0.143, 'Q6476598': 0.0}\n",
      "Accuracy 10: True\n",
      "\n"
     ]
    },
    {
     "name": "stderr",
     "output_type": "stream",
     "text": [
      "                                                                                                \r"
     ]
    },
    {
     "data": {
      "application/vnd.jupyter.widget-view+json": {
       "model_id": "bde725ea0a3546359397578126624c7b",
       "version_major": 2,
       "version_minor": 0
      },
      "text/plain": [
       "  0%|          | 0/1 [00:00<?, ?it/s]"
      ]
     },
     "metadata": {},
     "output_type": "display_data"
    },
    {
     "name": "stdout",
     "output_type": "stream",
     "text": [
      "Head: ARAMONT\n",
      "Gold: Q269851\n",
      "Prediction: Q1459779\n",
      "Skyline: False\n",
      "{'Q1459779': 0.292, 'Q679056': 0.222, 'Q752253': 0.199, 'Q2210910': 0.165, 'Q216894': 0.064, 'Q4795382': 0.059, 'Q1587150': 0.0}\n",
      "Accuracy 10: False\n",
      "\n"
     ]
    },
    {
     "name": "stderr",
     "output_type": "stream",
     "text": [
      "                                                                                                \r"
     ]
    },
    {
     "data": {
      "application/vnd.jupyter.widget-view+json": {
       "model_id": "7cfe15de324e4c3fa6d24385f803b1a1",
       "version_major": 2,
       "version_minor": 0
      },
      "text/plain": [
       "  0%|          | 0/1 [00:00<?, ?it/s]"
      ]
     },
     "metadata": {},
     "output_type": "display_data"
    },
    {
     "name": "stdout",
     "output_type": "stream",
     "text": [
      "Head: ARBOIS\n",
      "Gold: Q330888\n",
      "Prediction: Q330888\n",
      "Skyline: True\n",
      "{'Q330888': 0.381, 'Q972624': 0.23, 'Q243575': 0.212, 'Q372545': 0.075, 'Q3248039': 0.051, 'Q653312': 0.051, 'Q31945': 0.0}\n",
      "Accuracy 10: True\n",
      "\n"
     ]
    },
    {
     "name": "stderr",
     "output_type": "stream",
     "text": [
      "                                                                                                \r"
     ]
    },
    {
     "data": {
      "application/vnd.jupyter.widget-view+json": {
       "model_id": "70cd7b33a0444043b8a055ecb5c4a525",
       "version_major": 2,
       "version_minor": 0
      },
      "text/plain": [
       "  0%|          | 0/1 [00:00<?, ?it/s]"
      ]
     },
     "metadata": {},
     "output_type": "display_data"
    },
    {
     "name": "stdout",
     "output_type": "stream",
     "text": [
      "Head: ARCIS-SUR-AUBE\n",
      "Gold: Q269401\n",
      "Prediction: Q269401\n",
      "Skyline: True\n",
      "{'Q269401': 0.25, 'Q776552': 0.225, 'Q7421104': 0.185, 'Q29449639': 0.18, 'Q895259': 0.12, 'Q2385849': 0.04, 'Q209093': 0.0}\n",
      "Accuracy 10: True\n",
      "\n"
     ]
    },
    {
     "name": "stderr",
     "output_type": "stream",
     "text": [
      "                                                                                                \r"
     ]
    },
    {
     "data": {
      "application/vnd.jupyter.widget-view+json": {
       "model_id": "6f0b6d0541674e9cb80f42cd78e03a4b",
       "version_major": 2,
       "version_minor": 0
      },
      "text/plain": [
       "  0%|          | 0/1 [00:00<?, ?it/s]"
      ]
     },
     "metadata": {},
     "output_type": "display_data"
    },
    {
     "name": "stdout",
     "output_type": "stream",
     "text": [
      "Head: Ardes\n",
      "Gold: Q48292\n",
      "Prediction: Q872053\n",
      "Skyline: False\n",
      "{'Q872053': 1.0}\n",
      "Accuracy 10: False\n",
      "\n"
     ]
    },
    {
     "name": "stderr",
     "output_type": "stream",
     "text": [
      "                                                                                                \r"
     ]
    },
    {
     "data": {
      "application/vnd.jupyter.widget-view+json": {
       "model_id": "7e0af03d02954617b7a36638d0ec44ee",
       "version_major": 2,
       "version_minor": 0
      },
      "text/plain": [
       "  0%|          | 0/1 [00:00<?, ?it/s]"
      ]
     },
     "metadata": {},
     "output_type": "display_data"
    },
    {
     "name": "stdout",
     "output_type": "stream",
     "text": [
      "Head: ARDRES\n",
      "Gold: Q262456\n",
      "Prediction: Q851278\n",
      "Skyline: True\n",
      "{'Q851278': 0.232, 'Q262456': 0.218, 'Q1059971': 0.169, 'Q624917': 0.149, 'Q860324': 0.119, 'Q698998': 0.112, 'Q695365': 0.0}\n",
      "Accuracy 10: False\n",
      "\n"
     ]
    },
    {
     "name": "stderr",
     "output_type": "stream",
     "text": [
      "                                                                                                \r"
     ]
    },
    {
     "data": {
      "application/vnd.jupyter.widget-view+json": {
       "model_id": "74249d1fa8e948c894e5283011a2c304",
       "version_major": 2,
       "version_minor": 0
      },
      "text/plain": [
       "  0%|          | 0/1 [00:00<?, ?it/s]"
      ]
     },
     "metadata": {},
     "output_type": "display_data"
    },
    {
     "name": "stdout",
     "output_type": "stream",
     "text": [
      "Head: ARGENCES\n",
      "Gold: Q838585\n",
      "Prediction: Q179567\n",
      "Skyline: True\n",
      "{'Q838585': 0.242, 'Q965508': 0.236, 'Q525121': 0.111, 'Q68831': 0.096, 'Q644839': 0.066, 'Q179567': 0.0}\n",
      "Accuracy 10: False\n",
      "\n"
     ]
    },
    {
     "name": "stderr",
     "output_type": "stream",
     "text": [
      "                                                                                                \r"
     ]
    },
    {
     "data": {
      "application/vnd.jupyter.widget-view+json": {
       "model_id": "22f797c3e38740d59a2ad516c4e3a0ce",
       "version_major": 2,
       "version_minor": 0
      },
      "text/plain": [
       "  0%|          | 0/1 [00:00<?, ?it/s]"
      ]
     },
     "metadata": {},
     "output_type": "display_data"
    },
    {
     "name": "stdout",
     "output_type": "stream",
     "text": [
      "Head: ARGENTAC\n",
      "Gold: Q320248\n",
      "Prediction: Q274008\n",
      "Skyline: False\n",
      "{'Q274008': 0.532, 'Q1141326': 0.468}\n",
      "Accuracy 10: False\n",
      "\n"
     ]
    },
    {
     "name": "stderr",
     "output_type": "stream",
     "text": [
      "                                                                                                \r"
     ]
    },
    {
     "data": {
      "application/vnd.jupyter.widget-view+json": {
       "model_id": "84a520a6407b4ba9b736f068fcb56bc7",
       "version_major": 2,
       "version_minor": 0
      },
      "text/plain": [
       "  0%|          | 0/1 [00:00<?, ?it/s]"
      ]
     },
     "metadata": {},
     "output_type": "display_data"
    },
    {
     "name": "stdout",
     "output_type": "stream",
     "text": [
      "Head: ARGENTAN\n",
      "Gold: Q207622\n",
      "Prediction: Q207622\n",
      "Skyline: True\n",
      "{'Q207622': 0.473, 'Q700472': 0.334, 'Q3095666': 0.134, 'Q735143': 0.056, 'Q95090': 0.002, 'Q320248': 0.0, 'Q525121': 0.0}\n",
      "Accuracy 10: True\n",
      "\n"
     ]
    },
    {
     "name": "stderr",
     "output_type": "stream",
     "text": [
      "                                                                                                \r"
     ]
    },
    {
     "data": {
      "application/vnd.jupyter.widget-view+json": {
       "model_id": "42d32153076147c29e557ea4af67e0ce",
       "version_major": 2,
       "version_minor": 0
      },
      "text/plain": [
       "  0%|          | 0/1 [00:00<?, ?it/s]"
      ]
     },
     "metadata": {},
     "output_type": "display_data"
    },
    {
     "name": "stdout",
     "output_type": "stream",
     "text": [
      "Head: ARGENTON\n",
      "Gold: Q275438\n",
      "Prediction: Q207622\n",
      "Skyline: False\n",
      "{'Q207622': 0.323, 'Q735143': 0.209, 'Q646469': 0.167, 'Q4789513': 0.163, 'Q11539': 0.122, 'Q214731': 0.017, 'Q1057898': 0.0}\n",
      "Accuracy 10: False\n",
      "\n"
     ]
    },
    {
     "name": "stderr",
     "output_type": "stream",
     "text": [
      "                                                                                                \r"
     ]
    },
    {
     "data": {
      "application/vnd.jupyter.widget-view+json": {
       "model_id": "68b0d447dadc454dab1b8c6f87b33f99",
       "version_major": 2,
       "version_minor": 0
      },
      "text/plain": [
       "  0%|          | 0/1 [00:00<?, ?it/s]"
      ]
     },
     "metadata": {},
     "output_type": "display_data"
    },
    {
     "name": "stdout",
     "output_type": "stream",
     "text": [
      "Head: ARLES\n",
      "Gold: Q48292\n",
      "Prediction: Q48292\n",
      "Skyline: True\n",
      "{'Q48292': 0.667, 'Q937969': 0.13, 'Q3271735': 0.093, 'Q2569199': 0.045, 'Q647122': 0.036, 'Q693287': 0.029, 'Q1085440': 0.0}\n",
      "Accuracy 10: True\n",
      "\n",
      "Head: Arles\n",
      "Gold: Q7897\n",
      "Prediction: Q48292\n",
      "Skyline: False\n",
      "{'Q48292': 0.941, 'Q937969': 0.023, 'Q3271735': 0.011, 'Q181189': 0.009, 'Q700484': 0.009, 'Q16912418': 0.008, 'Q1897505': 0.0}\n",
      "Accuracy 10: False\n",
      "\n"
     ]
    },
    {
     "name": "stderr",
     "output_type": "stream",
     "text": [
      "                                                                                                \r"
     ]
    },
    {
     "data": {
      "application/vnd.jupyter.widget-view+json": {
       "model_id": "05a874ff0d8341fb97ee577e35c78727",
       "version_major": 2,
       "version_minor": 0
      },
      "text/plain": [
       "  0%|          | 0/1 [00:00<?, ?it/s]"
      ]
     },
     "metadata": {},
     "output_type": "display_data"
    },
    {
     "name": "stdout",
     "output_type": "stream",
     "text": [
      "Head: ARNAY-LE-DUC\n",
      "Gold: Q16031\n",
      "Prediction: Q16031\n",
      "Skyline: True\n",
      "{'Q16031': 0.172, 'Q198315': 0.169, 'Q334127': 0.168, 'Q614846': 0.165, 'Q583161': 0.156}\n",
      "Accuracy 10: True\n",
      "\n"
     ]
    },
    {
     "name": "stderr",
     "output_type": "stream",
     "text": [
      "                                                                                                \r"
     ]
    },
    {
     "data": {
      "application/vnd.jupyter.widget-view+json": {
       "model_id": "0759913ac1ed46c2b94a533e40c3a86b",
       "version_major": 2,
       "version_minor": 0
      },
      "text/plain": [
       "  0%|          | 0/1 [00:00<?, ?it/s]"
      ]
     },
     "metadata": {},
     "output_type": "display_data"
    },
    {
     "name": "stdout",
     "output_type": "stream",
     "text": [
      "Head: ARQUES\n",
      "Gold: Q851278\n",
      "Prediction: Q851278\n",
      "Skyline: True\n",
      "{'Q851278': 0.228, 'Q1059971': 0.224, 'Q262456': 0.205, 'Q698998': 0.146, 'Q624917': 0.146, 'Q62624': 0.051, 'Q695365': 0.0}\n",
      "Accuracy 10: True\n",
      "\n"
     ]
    },
    {
     "name": "stderr",
     "output_type": "stream",
     "text": [
      "                                                                                                \r"
     ]
    },
    {
     "data": {
      "application/vnd.jupyter.widget-view+json": {
       "model_id": "ca1ff9fbea1846a49baa5151ecc6c78a",
       "version_major": 2,
       "version_minor": 0
      },
      "text/plain": [
       "  0%|          | 0/1 [00:00<?, ?it/s]"
      ]
     },
     "metadata": {},
     "output_type": "display_data"
    },
    {
     "name": "stdout",
     "output_type": "stream",
     "text": [
      "Head: AUBAGNE\n",
      "Gold: Q184047\n",
      "Prediction: Q184047\n",
      "Skyline: True\n",
      "{'Q184047': 0.603, 'Q713088': 0.185, 'Q210690': 0.087, 'Q4693672': 0.08, 'Q108296072': 0.034, 'Q43232': 0.011, 'Q47466141': 0.0}\n",
      "Accuracy 10: True\n",
      "\n"
     ]
    },
    {
     "name": "stderr",
     "output_type": "stream",
     "text": [
      "                                                                                                \r"
     ]
    },
    {
     "data": {
      "application/vnd.jupyter.widget-view+json": {
       "model_id": "b9b32aef839d49bb998afb9cda91e113",
       "version_major": 2,
       "version_minor": 0
      },
      "text/plain": [
       "  0%|          | 0/1 [00:00<?, ?it/s]"
      ]
     },
     "metadata": {},
     "output_type": "display_data"
    },
    {
     "name": "stdout",
     "output_type": "stream",
     "text": [
      "Head: AUBENAS\n",
      "Gold: Q211121\n",
      "Prediction: Q211121\n",
      "Skyline: True\n",
      "{'Q211121': 0.302, 'Q4667262': 0.154, 'Q274692': 0.144, 'Q1153432': 0.14, 'Q540729': 0.133, 'Q867083': 0.127, 'Q2782345': 0.0}\n",
      "Accuracy 10: True\n",
      "\n"
     ]
    },
    {
     "name": "stderr",
     "output_type": "stream",
     "text": [
      "                                                                                                \r"
     ]
    },
    {
     "data": {
      "application/vnd.jupyter.widget-view+json": {
       "model_id": "f87dd707b0f546b28a78b643ac13abc6",
       "version_major": 2,
       "version_minor": 0
      },
      "text/plain": [
       "  0%|          | 0/1 [00:00<?, ?it/s]"
      ]
     },
     "metadata": {},
     "output_type": "display_data"
    },
    {
     "name": "stdout",
     "output_type": "stream",
     "text": [
      "Head: AUBENTON\n",
      "Gold: Q274692\n",
      "Prediction: Q565885\n",
      "Skyline: True\n",
      "{'Q565885': 0.314, 'Q274692': 0.313, 'Q1008745': 0.189, 'Q102547': 0.135, 'Q2318824': 0.026, 'Q271413': 0.024, 'Q564155': 0.0}\n",
      "Accuracy 10: False\n",
      "\n"
     ]
    },
    {
     "name": "stderr",
     "output_type": "stream",
     "text": [
      "                                                                                                \r"
     ]
    },
    {
     "data": {
      "application/vnd.jupyter.widget-view+json": {
       "model_id": "e27ebc1e99c1477f9b901b1cb3fa0b17",
       "version_major": 2,
       "version_minor": 0
      },
      "text/plain": [
       "  0%|          | 0/1 [00:00<?, ?it/s]"
      ]
     },
     "metadata": {},
     "output_type": "display_data"
    },
    {
     "name": "stdout",
     "output_type": "stream",
     "text": [
      "Head: AUBETERRE\n",
      "Gold: Q635709\n",
      "Prediction: Q635709\n",
      "Skyline: True\n",
      "{'Q635709': 0.26, 'Q627252': 0.213, 'Q317354': 0.17, 'Q1009942': 0.168, 'Q1517280': 0.106, 'Q4870367': 0.083, 'Q4055021': 0.0}\n",
      "Accuracy 10: True\n",
      "\n"
     ]
    },
    {
     "name": "stderr",
     "output_type": "stream",
     "text": [
      "                                                                                                \r"
     ]
    },
    {
     "data": {
      "application/vnd.jupyter.widget-view+json": {
       "model_id": "44b34d3a36544df5b6f5d28a7564908e",
       "version_major": 2,
       "version_minor": 0
      },
      "text/plain": [
       "  0%|          | 0/1 [00:00<?, ?it/s]"
      ]
     },
     "metadata": {},
     "output_type": "display_data"
    },
    {
     "name": "stdout",
     "output_type": "stream",
     "text": [
      "Head: AUBIGNY\n",
      "Gold: Q838623\n",
      "Prediction: Q342546\n",
      "Skyline: True\n",
      "{'Q342546': 0.32, 'Q426231': 0.188, 'Q45720': 0.174, 'Q838623': 0.115, 'Q5355057': 0.112, 'Q843114': 0.091, 'Q325894': 0.0}\n",
      "Accuracy 10: False\n",
      "\n"
     ]
    },
    {
     "name": "stderr",
     "output_type": "stream",
     "text": [
      "                                                                                                \r"
     ]
    },
    {
     "data": {
      "application/vnd.jupyter.widget-view+json": {
       "model_id": "a713f3b00d5343258d43e472ce3be8ad",
       "version_major": 2,
       "version_minor": 0
      },
      "text/plain": [
       "  0%|          | 0/1 [00:00<?, ?it/s]"
      ]
     },
     "metadata": {},
     "output_type": "display_data"
    },
    {
     "name": "stdout",
     "output_type": "stream",
     "text": [
      "Head: AUBUSSON\n",
      "Gold: Q217161\n",
      "Prediction: Q217161\n",
      "Skyline: True\n",
      "{'Q217161': 0.531, 'Q733754': 0.22, 'Q1046693': 0.091, 'Q700507': 0.086, 'Q383625': 0.037, 'Q174434': 0.036, 'Q684056': 0.0}\n",
      "Accuracy 10: True\n",
      "\n"
     ]
    },
    {
     "name": "stderr",
     "output_type": "stream",
     "text": [
      "                                                                                                \r"
     ]
    },
    {
     "data": {
      "application/vnd.jupyter.widget-view+json": {
       "model_id": "116869235303421ca7149d8691840367",
       "version_major": 2,
       "version_minor": 0
      },
      "text/plain": [
       "  0%|          | 0/1 [00:00<?, ?it/s]"
      ]
     },
     "metadata": {},
     "output_type": "display_data"
    },
    {
     "name": "stdout",
     "output_type": "stream",
     "text": [
      "Head: AUCH\n",
      "Gold: Q181725\n",
      "Prediction: Q181725\n",
      "Skyline: True\n",
      "{'Q181725': 0.594, 'Q700509': 0.283, 'Q4782459': 0.118, 'Q758408': 0.002, 'Q758407': 0.002, 'Q758413': 0.002, 'Q758410': 0.0}\n",
      "Accuracy 10: True\n",
      "\n"
     ]
    },
    {
     "name": "stderr",
     "output_type": "stream",
     "text": [
      "                                                                                                \r"
     ]
    },
    {
     "data": {
      "application/vnd.jupyter.widget-view+json": {
       "model_id": "80efa2a2fa6d436dbea0dac2060adee0",
       "version_major": 2,
       "version_minor": 0
      },
      "text/plain": [
       "  0%|          | 0/1 [00:00<?, ?it/s]"
      ]
     },
     "metadata": {},
     "output_type": "display_data"
    },
    {
     "name": "stdout",
     "output_type": "stream",
     "text": [
      "Head: AVENAI\n",
      "Gold: Q656436\n",
      "Prediction: Q6397\n",
      "Skyline: False\n",
      "{'Q6397': 0.45, 'Q12649906': 0.182, 'Q529282': 0.17, 'Q10955621': 0.086, 'Q769224': 0.068, 'Q2614984': 0.045, 'Q411571': 0.0}\n",
      "Accuracy 10: False\n",
      "\n"
     ]
    },
    {
     "name": "stderr",
     "output_type": "stream",
     "text": [
      "                                                                                                \r"
     ]
    },
    {
     "data": {
      "application/vnd.jupyter.widget-view+json": {
       "model_id": "01379faa0c594b688ac1064cd4c34d8b",
       "version_major": 2,
       "version_minor": 0
      },
      "text/plain": [
       "  0%|          | 0/1 [00:00<?, ?it/s]"
      ]
     },
     "metadata": {},
     "output_type": "display_data"
    },
    {
     "name": "stdout",
     "output_type": "stream",
     "text": [
      "Head: AVIGNONET ou VIGNONET\n",
      "Gold: Q671046\n",
      "Prediction: Q174845\n",
      "Skyline: True\n",
      "{'Q174845': 0.259, 'Q1004101': 0.185, 'Q42994': 0.179, 'Q1069612': 0.173, 'Q3095707': 0.107, 'Q671046': 0.097, 'Q3971304': 0.0}\n",
      "Accuracy 10: False\n",
      "\n"
     ]
    },
    {
     "name": "stderr",
     "output_type": "stream",
     "text": [
      "                                                                                                \r"
     ]
    },
    {
     "data": {
      "application/vnd.jupyter.widget-view+json": {
       "model_id": "1a75c4b154cd4989a6ea0ebf8c28276a",
       "version_major": 2,
       "version_minor": 0
      },
      "text/plain": [
       "  0%|          | 0/1 [00:00<?, ?it/s]"
      ]
     },
     "metadata": {},
     "output_type": "display_data"
    },
    {
     "name": "stdout",
     "output_type": "stream",
     "text": [
      "Head: AULPS\n",
      "Gold: Q688183\n",
      "Prediction: Q688183\n",
      "Skyline: True\n",
      "{'Q688183': 0.27, 'Q4821780': 0.254, 'Q655747': 0.169, 'Q771971': 0.156, 'Q3692722': 0.115, 'Q622992': 0.036, 'Q81632': 0.0}\n",
      "Accuracy 10: True\n",
      "\n"
     ]
    },
    {
     "name": "stderr",
     "output_type": "stream",
     "text": [
      "                                                                                                \r"
     ]
    },
    {
     "data": {
      "application/vnd.jupyter.widget-view+json": {
       "model_id": "648a3eeb243b447f8123481059f79d72",
       "version_major": 2,
       "version_minor": 0
      },
      "text/plain": [
       "  0%|          | 0/1 [00:00<?, ?it/s]"
      ]
     },
     "metadata": {},
     "output_type": "display_data"
    },
    {
     "name": "stdout",
     "output_type": "stream",
     "text": [
      "Head: AUMALE ou ALBEMARLE\n",
      "Gold: Q632269\n",
      "Prediction: Q488653\n",
      "Skyline: False\n",
      "{'Q488653': 0.367, 'Q1441345': 0.296, 'Q83178': 0.245, 'Q921689': 0.055, 'Q17384': 0.02, 'Q562271': 0.017, 'Q3416224': 0.0}\n",
      "Accuracy 10: False\n",
      "\n"
     ]
    },
    {
     "name": "stderr",
     "output_type": "stream",
     "text": [
      "                                                                                                \r"
     ]
    },
    {
     "data": {
      "application/vnd.jupyter.widget-view+json": {
       "model_id": "27ceb966df6b4017953364c824770053",
       "version_major": 2,
       "version_minor": 0
      },
      "text/plain": [
       "  0%|          | 0/1 [00:00<?, ?it/s]"
      ]
     },
     "metadata": {},
     "output_type": "display_data"
    },
    {
     "name": "stdout",
     "output_type": "stream",
     "text": [
      "Head: AUNEAU\n",
      "Gold: Q637489\n",
      "Prediction: Q191687\n",
      "Skyline: True\n",
      "{'Q191687': 0.49, 'Q29445': 0.268, 'Q637489': 0.126, 'Q127990': 0.075, 'Q502222': 0.04, 'Q1470899': 0.001, 'Q1346656': 0.0}\n",
      "Accuracy 10: False\n",
      "\n"
     ]
    },
    {
     "name": "stderr",
     "output_type": "stream",
     "text": [
      "                                                                                                \r"
     ]
    },
    {
     "data": {
      "application/vnd.jupyter.widget-view+json": {
       "model_id": "baa59619f797400c918df500fd640909",
       "version_major": 2,
       "version_minor": 0
      },
      "text/plain": [
       "  0%|          | 0/1 [00:00<?, ?it/s]"
      ]
     },
     "metadata": {},
     "output_type": "display_data"
    },
    {
     "name": "stdout",
     "output_type": "stream",
     "text": [
      "Head: AVRANCHES\n",
      "Gold: Q204430\n",
      "Prediction: Q204430\n",
      "Skyline: True\n",
      "{'Q700557': 0.218, 'Q632418': 0.111, 'Q2006847': 0.1, 'Q1879347': 0.098, 'Q700311': 0.073, 'Q204430': 0.0}\n",
      "Accuracy 10: True\n",
      "\n"
     ]
    },
    {
     "name": "stderr",
     "output_type": "stream",
     "text": [
      "                                                                                                \r"
     ]
    },
    {
     "data": {
      "application/vnd.jupyter.widget-view+json": {
       "model_id": "6b7d1bde4dd34830babd2f6176320eda",
       "version_major": 2,
       "version_minor": 0
      },
      "text/plain": [
       "  0%|          | 0/1 [00:00<?, ?it/s]"
      ]
     },
     "metadata": {},
     "output_type": "display_data"
    },
    {
     "name": "stdout",
     "output_type": "stream",
     "text": [
      "Head: AURILLAC\n",
      "Gold: Q174234\n",
      "Prediction: Q174234\n",
      "Skyline: True\n",
      "{'Q174234': 0.45, 'Q700521': 0.392, 'Q6773956': 0.053, 'Q187567': 0.05, 'Q3303432': 0.047, 'Q865833': 0.008, 'Q639936': 0.0}\n",
      "Accuracy 10: True\n",
      "\n"
     ]
    },
    {
     "name": "stderr",
     "output_type": "stream",
     "text": [
      "                                                                                                \r"
     ]
    },
    {
     "data": {
      "application/vnd.jupyter.widget-view+json": {
       "model_id": "74ed9958f14e432b9acc83b962980ecf",
       "version_major": 2,
       "version_minor": 0
      },
      "text/plain": [
       "  0%|          | 0/1 [00:00<?, ?it/s]"
      ]
     },
     "metadata": {},
     "output_type": "display_data"
    },
    {
     "name": "stdout",
     "output_type": "stream",
     "text": [
      "Head: AUTRY\n",
      "Gold: Q789383\n",
      "Prediction: Q62958\n",
      "Skyline: False\n",
      "{'Q62958': 0.257, 'Q990892': 0.205, 'Q67073': 0.148, 'Q791816': 0.141, 'Q975170': 0.129, 'Q1418095': 0.12, 'Q4648908': 0.0}\n",
      "Accuracy 10: False\n",
      "\n"
     ]
    },
    {
     "name": "stderr",
     "output_type": "stream",
     "text": [
      "                                                                                                \r"
     ]
    },
    {
     "data": {
      "application/vnd.jupyter.widget-view+json": {
       "model_id": "20ba3d8df28b48e69af99f18d2c427c5",
       "version_major": 2,
       "version_minor": 0
      },
      "text/plain": [
       "  0%|          | 0/1 [00:00<?, ?it/s]"
      ]
     },
     "metadata": {},
     "output_type": "display_data"
    },
    {
     "name": "stdout",
     "output_type": "stream",
     "text": [
      "Head: AUTUN\n",
      "Gold: Q190827\n",
      "Prediction: Q190827\n",
      "Skyline: True\n",
      "{'Q190827': 0.351, 'Q662088': 0.223, 'Q21559855': 0.116, 'Q771128': 0.115, 'Q1327528': 0.111, 'Q1619442': 0.085, 'Q173338': 0.0}\n",
      "Accuracy 10: True\n",
      "\n"
     ]
    },
    {
     "name": "stderr",
     "output_type": "stream",
     "text": [
      "                                                                                                \r"
     ]
    },
    {
     "data": {
      "application/vnd.jupyter.widget-view+json": {
       "model_id": "ae828d4976724553a2e648ce49fd46ec",
       "version_major": 2,
       "version_minor": 0
      },
      "text/plain": [
       "  0%|          | 0/1 [00:00<?, ?it/s]"
      ]
     },
     "metadata": {},
     "output_type": "display_data"
    },
    {
     "name": "stdout",
     "output_type": "stream",
     "text": [
      "Head: AUVILLARD\n",
      "Gold: Q789561\n",
      "Prediction: Q789561\n",
      "Skyline: True\n",
      "{'Q789561': 0.367, 'Q4822499': 0.202, 'Q696499': 0.171, 'Q678479': 0.1, 'Q2098676': 0.087, 'Q973960': 0.074, 'Q4649010': 0.0}\n",
      "Accuracy 10: True\n",
      "\n"
     ]
    },
    {
     "name": "stderr",
     "output_type": "stream",
     "text": [
      "                                                                                                \r"
     ]
    },
    {
     "data": {
      "application/vnd.jupyter.widget-view+json": {
       "model_id": "94cce3c3429846eab0359ec2a108d8cd",
       "version_major": 2,
       "version_minor": 0
      },
      "text/plain": [
       "  0%|          | 0/1 [00:00<?, ?it/s]"
      ]
     },
     "metadata": {},
     "output_type": "display_data"
    },
    {
     "name": "stdout",
     "output_type": "stream",
     "text": [
      "Head: AUXERRE\n",
      "Gold: Q167600\n",
      "Prediction: Q167600\n",
      "Skyline: True\n",
      "{'Q167600': 0.328, 'Q1675': 0.197, 'Q499429': 0.142, 'Q3430654': 0.115, 'Q1026866': 0.112, 'Q2669605': 0.106, 'Q757600': 0.0}\n",
      "Accuracy 10: True\n",
      "\n"
     ]
    },
    {
     "name": "stderr",
     "output_type": "stream",
     "text": [
      "                                                                                                \r"
     ]
    },
    {
     "data": {
      "application/vnd.jupyter.widget-view+json": {
       "model_id": "ecf7d35a96e8468a974d1ff3d4f9f357",
       "version_major": 2,
       "version_minor": 0
      },
      "text/plain": [
       "  0%|          | 0/1 [00:00<?, ?it/s]"
      ]
     },
     "metadata": {},
     "output_type": "display_data"
    },
    {
     "name": "stdout",
     "output_type": "stream",
     "text": [
      "Head: AY\n",
      "Gold: Q658928\n",
      "Prediction: Q238366\n",
      "Skyline: True\n",
      "{'Q238366': 0.407, 'Q3350175': 0.229, 'Q300980': 0.099, 'Q852805': 0.094, 'Q658928': 0.087, 'Q455969': 0.083, 'Q1971511': 0.0}\n",
      "Accuracy 10: False\n",
      "\n"
     ]
    },
    {
     "name": "stderr",
     "output_type": "stream",
     "text": [
      "                                                                                                \r"
     ]
    },
    {
     "data": {
      "application/vnd.jupyter.widget-view+json": {
       "model_id": "9dd5dd15461947c4aefc408219cd42f4",
       "version_major": 2,
       "version_minor": 0
      },
      "text/plain": [
       "  0%|          | 0/1 [00:00<?, ?it/s]"
      ]
     },
     "metadata": {},
     "output_type": "display_data"
    },
    {
     "name": "stdout",
     "output_type": "stream",
     "text": [
      "Head: AYEN\n",
      "Gold: Q504868\n",
      "Prediction: Q504868\n",
      "Skyline: True\n",
      "{'Q504868': 0.408, 'Q1771217': 0.164, 'Q2181': 0.148, 'Q1975352': 0.134, 'Q310786': 0.115, 'Q5456': 0.03, 'Q2439040': 0.0}\n",
      "Accuracy 10: True\n",
      "\n"
     ]
    },
    {
     "name": "stderr",
     "output_type": "stream",
     "text": [
      "                                                                                                \r"
     ]
    },
    {
     "data": {
      "application/vnd.jupyter.widget-view+json": {
       "model_id": "f7c7fe984abb43108885c4bbe6fc255c",
       "version_major": 2,
       "version_minor": 0
      },
      "text/plain": [
       "  0%|          | 0/1 [00:00<?, ?it/s]"
      ]
     },
     "metadata": {},
     "output_type": "display_data"
    },
    {
     "name": "stdout",
     "output_type": "stream",
     "text": [
      "Head: AYMARGUES\n",
      "Gold: Q243915\n",
      "Prediction: Q243915\n",
      "Skyline: True\n",
      "{'Q243915': 0.305, 'Q197339': 0.236, 'Q12732': 0.171, 'Q990524': 0.149, 'Q1385804': 0.079, 'Q1769704': 0.06, 'Q2084862': 0.0}\n",
      "Accuracy 10: True\n",
      "\n"
     ]
    },
    {
     "name": "stderr",
     "output_type": "stream",
     "text": [
      "                                                                                                \r"
     ]
    },
    {
     "data": {
      "application/vnd.jupyter.widget-view+json": {
       "model_id": "40f5118082e94b90a74ade27178d9485",
       "version_major": 2,
       "version_minor": 0
      },
      "text/plain": [
       "  0%|          | 0/1 [00:00<?, ?it/s]"
      ]
     },
     "metadata": {},
     "output_type": "display_data"
    },
    {
     "name": "stdout",
     "output_type": "stream",
     "text": [
      "Head: AZAY\n",
      "Gold: Q1069903\n",
      "Prediction: Q220451\n",
      "Skyline: False\n",
      "{'Q220451': 0.252, 'Q5454155': 0.236, 'Q1080380': 0.136, 'Q1658888': 0.127, 'Q5242759': 0.126, 'Q1871083': 0.123, 'Q238931': 0.0}\n",
      "Accuracy 10: False\n",
      "\n"
     ]
    },
    {
     "name": "stderr",
     "output_type": "stream",
     "text": [
      "                                                                                                \r"
     ]
    },
    {
     "data": {
      "application/vnd.jupyter.widget-view+json": {
       "model_id": "6310d23b61b047fb91727e739f06ab54",
       "version_major": 2,
       "version_minor": 0
      },
      "text/plain": [
       "  0%|          | 0/1 [00:00<?, ?it/s]"
      ]
     },
     "metadata": {},
     "output_type": "display_data"
    },
    {
     "name": "stdout",
     "output_type": "stream",
     "text": [
      "Head: AZAY-LE-RIDEAU\n",
      "Gold: Q243032\n",
      "Prediction: Q243032\n",
      "Skyline: True\n",
      "{'Q243032': 0.215, 'Q64229': 0.187, 'Q113389': 0.166, 'Q444938': 0.14, 'Q1029552': 0.023, 'Q67935': 0.0}\n",
      "Accuracy 10: True\n",
      "\n"
     ]
    },
    {
     "name": "stderr",
     "output_type": "stream",
     "text": [
      "                                                                                                \r"
     ]
    },
    {
     "data": {
      "application/vnd.jupyter.widget-view+json": {
       "model_id": "b992cdefd0884492b1431b26f5dd15a7",
       "version_major": 2,
       "version_minor": 0
      },
      "text/plain": [
       "  0%|          | 0/1 [00:00<?, ?it/s]"
      ]
     },
     "metadata": {},
     "output_type": "display_data"
    },
    {
     "name": "stdout",
     "output_type": "stream",
     "text": [
      "Head: AZILHAN ou AZILLE\n",
      "Gold: Q199673\n",
      "Prediction: NIL\n",
      "Skyline: False\n",
      "{}\n",
      "Accuracy 10: False\n",
      "\n"
     ]
    },
    {
     "name": "stderr",
     "output_type": "stream",
     "text": [
      "                                                                                                \r"
     ]
    },
    {
     "data": {
      "application/vnd.jupyter.widget-view+json": {
       "model_id": "4ddecce85228473faa68426539d7825c",
       "version_major": 2,
       "version_minor": 0
      },
      "text/plain": [
       "  0%|          | 0/1 [00:00<?, ?it/s]"
      ]
     },
     "metadata": {},
     "output_type": "display_data"
    },
    {
     "name": "stdout",
     "output_type": "stream",
     "text": [
      "Head: BACCARAT\n",
      "Gold: Q319282\n",
      "Prediction: Q319282\n",
      "Skyline: True\n",
      "{'Q319282': 0.237, 'Q45313': 0.211, 'Q182844': 0.176, 'Q534483': 0.162, 'Q923435': 0.107, 'Q2544533': 0.106, 'Q4858061': 0.0}\n",
      "Accuracy 10: True\n",
      "\n"
     ]
    },
    {
     "name": "stderr",
     "output_type": "stream",
     "text": [
      "                                                                                                \r"
     ]
    },
    {
     "data": {
      "application/vnd.jupyter.widget-view+json": {
       "model_id": "d51d1715ca504aa683260dc499fda1fe",
       "version_major": 2,
       "version_minor": 0
      },
      "text/plain": [
       "  0%|          | 0/1 [00:00<?, ?it/s]"
      ]
     },
     "metadata": {},
     "output_type": "display_data"
    },
    {
     "name": "stdout",
     "output_type": "stream",
     "text": [
      "Head: BAGNERES\n",
      "Gold: Q208264\n",
      "Prediction: Q238393\n",
      "Skyline: True\n",
      "{'Q238393': 0.31, 'Q208264': 0.28, 'Q4580450': 0.174, 'Q68906': 0.162, 'Q1101886': 0.053, 'Q1979105': 0.021, 'Q4937669': 0.0}\n",
      "Accuracy 10: False\n",
      "\n"
     ]
    },
    {
     "name": "stderr",
     "output_type": "stream",
     "text": [
      "                                                                                                \r"
     ]
    },
    {
     "data": {
      "application/vnd.jupyter.widget-view+json": {
       "model_id": "e8f465e7319f4d6bb49241cc47900974",
       "version_major": 2,
       "version_minor": 0
      },
      "text/plain": [
       "  0%|          | 0/1 [00:00<?, ?it/s]"
      ]
     },
     "metadata": {},
     "output_type": "display_data"
    },
    {
     "name": "stdout",
     "output_type": "stream",
     "text": [
      "Head: BAGNOLS\n",
      "Gold: Q274183\n",
      "Prediction: Q685239\n",
      "Skyline: True\n",
      "{'Q685239': 0.229, 'Q2160542': 0.177, 'Q274183': 0.14, 'Q2006960': 0.135, 'Q688258': 0.124, 'Q18351': 0.0}\n",
      "Accuracy 10: False\n",
      "\n"
     ]
    },
    {
     "name": "stderr",
     "output_type": "stream",
     "text": [
      "                                                                                                \r"
     ]
    },
    {
     "data": {
      "application/vnd.jupyter.widget-view+json": {
       "model_id": "5ae9bccc888d49858d55ea85681ec306",
       "version_major": 2,
       "version_minor": 0
      },
      "text/plain": [
       "  0%|          | 0/1 [00:00<?, ?it/s]"
      ]
     },
     "metadata": {},
     "output_type": "display_data"
    },
    {
     "name": "stdout",
     "output_type": "stream",
     "text": [
      "Head: BAIGNEUX\n",
      "Gold: Q221861\n",
      "Prediction: Q161884\n",
      "Skyline: False\n",
      "{'Q161884': 0.248, 'Q2482942': 0.175, 'Q864623': 0.161, 'Q840612': 0.149, 'Q1217899': 0.142, 'Q715870': 0.125, 'Q1044403': 0.0}\n",
      "Accuracy 10: False\n",
      "\n"
     ]
    },
    {
     "name": "stderr",
     "output_type": "stream",
     "text": [
      "                                                                                                \r"
     ]
    },
    {
     "data": {
      "application/vnd.jupyter.widget-view+json": {
       "model_id": "f6a2add09f144e23aaaa080280356929",
       "version_major": 2,
       "version_minor": 0
      },
      "text/plain": [
       "  0%|          | 0/1 [00:00<?, ?it/s]"
      ]
     },
     "metadata": {},
     "output_type": "display_data"
    },
    {
     "name": "stdout",
     "output_type": "stream",
     "text": [
      "Head: BALLON\n",
      "Gold: Q749143\n",
      "Prediction: Q326687\n",
      "Skyline: True\n",
      "{'Q326687': 0.298, 'Q6383': 0.209, 'Q2738690': 0.182, 'Q936602': 0.157, 'Q749143': 0.144, 'Q5684': 0.01, 'Q7054188': 0.0}\n",
      "Accuracy 10: False\n",
      "\n"
     ]
    },
    {
     "name": "stderr",
     "output_type": "stream",
     "text": [
      "                                                                                                \r"
     ]
    },
    {
     "data": {
      "application/vnd.jupyter.widget-view+json": {
       "model_id": "14772b3e0ee14228973fb8b65ff7132d",
       "version_major": 2,
       "version_minor": 0
      },
      "text/plain": [
       "  0%|          | 0/1 [00:00<?, ?it/s]"
      ]
     },
     "metadata": {},
     "output_type": "display_data"
    },
    {
     "name": "stdout",
     "output_type": "stream",
     "text": [
      "Head: BAPAUME\n",
      "Gold: Q317235\n",
      "Prediction: Q317235\n",
      "Skyline: True\n",
      "{'Q317235': 0.324, 'Q152008': 0.215, 'Q997407': 0.123, 'Q48807630': 0.116, 'Q74802': 0.112, 'Q641125': 0.112, 'Q137555': 0.0}\n",
      "Accuracy 10: True\n",
      "\n"
     ]
    },
    {
     "name": "stderr",
     "output_type": "stream",
     "text": [
      "                                                                                                \r"
     ]
    },
    {
     "data": {
      "application/vnd.jupyter.widget-view+json": {
       "model_id": "8f2c3804aef1400db70f3905780e4b41",
       "version_major": 2,
       "version_minor": 0
      },
      "text/plain": [
       "  0%|          | 0/1 [00:00<?, ?it/s]"
      ]
     },
     "metadata": {},
     "output_type": "display_data"
    },
    {
     "name": "stdout",
     "output_type": "stream",
     "text": [
      "Head: Bar-sur-Aube\n",
      "Gold: Q209093\n",
      "Prediction: Q209093\n",
      "Skyline: True\n",
      "{'Q209093': 0.264, 'Q23640818': 0.25, 'Q790119': 0.247, 'Q700574': 0.239}\n",
      "Accuracy 10: True\n",
      "\n",
      "Head: Bar-sur-Seine\n",
      "Gold: Q328309\n",
      "Prediction: Q328309\n",
      "Skyline: True\n",
      "{'Q328309': 1.0}\n",
      "Accuracy 10: True\n",
      "\n"
     ]
    },
    {
     "name": "stderr",
     "output_type": "stream",
     "text": [
      "                                                                                                \r"
     ]
    },
    {
     "data": {
      "application/vnd.jupyter.widget-view+json": {
       "model_id": "2ccdc1201e184a849e76e0ffd0fe7f14",
       "version_major": 2,
       "version_minor": 0
      },
      "text/plain": [
       "  0%|          | 0/1 [00:00<?, ?it/s]"
      ]
     },
     "metadata": {},
     "output_type": "display_data"
    },
    {
     "name": "stdout",
     "output_type": "stream",
     "text": [
      "Head: BARBEYRA\n",
      "Gold: Q1016626\n",
      "Prediction: Q2776835\n",
      "Skyline: False\n",
      "{'Q2776835': 0.203, 'Q4841063': 0.203, 'Q4854832': 0.2, 'Q191718': 0.174, 'Q106673125': 0.144, 'Q4842534': 0.076, 'Q15195945': 0.0}\n",
      "Accuracy 10: False\n",
      "\n"
     ]
    },
    {
     "name": "stderr",
     "output_type": "stream",
     "text": [
      "                                                                                                \r"
     ]
    },
    {
     "data": {
      "application/vnd.jupyter.widget-view+json": {
       "model_id": "f5eda55f857948fb9bcc35f74445cf9a",
       "version_major": 2,
       "version_minor": 0
      },
      "text/plain": [
       "  0%|          | 0/1 [00:00<?, ?it/s]"
      ]
     },
     "metadata": {},
     "output_type": "display_data"
    },
    {
     "name": "stdout",
     "output_type": "stream",
     "text": [
      "Head: BARBEZIEUX\n",
      "Gold: Q376476\n",
      "Prediction: Q183910\n",
      "Skyline: True\n",
      "{'Q183910': 0.26, 'Q376476': 0.259, 'Q733515': 0.249, 'Q274412': 0.233}\n",
      "Accuracy 10: False\n",
      "\n"
     ]
    },
    {
     "name": "stderr",
     "output_type": "stream",
     "text": [
      "                                                                                                \r"
     ]
    },
    {
     "data": {
      "application/vnd.jupyter.widget-view+json": {
       "model_id": "fe9edb28a5054bf598f3edc3a3ba1991",
       "version_major": 2,
       "version_minor": 0
      },
      "text/plain": [
       "  0%|          | 0/1 [00:00<?, ?it/s]"
      ]
     },
     "metadata": {},
     "output_type": "display_data"
    },
    {
     "name": "stdout",
     "output_type": "stream",
     "text": [
      "Head: BARBONNE\n",
      "Gold: Q686294\n",
      "Prediction: Q1282065\n",
      "Skyline: False\n",
      "{'Q1282065': 0.197, 'Q742635': 0.182, 'Q546': 0.16, 'Q271344': 0.159, 'Q669240': 0.154, 'Q34421': 0.148, 'Q643430': 0.0}\n",
      "Accuracy 10: False\n",
      "\n",
      "Head: Barcelone\n",
      "Gold: Q473917\n",
      "Prediction: Q1492\n",
      "Skyline: False\n",
      "{'Q1492': 0.518, 'Q58214028': 0.482}\n",
      "Accuracy 10: False\n",
      "\n"
     ]
    },
    {
     "name": "stderr",
     "output_type": "stream",
     "text": [
      "                                                                                                \r"
     ]
    },
    {
     "data": {
      "application/vnd.jupyter.widget-view+json": {
       "model_id": "5931c21e8e3b4484b44594d49504a323",
       "version_major": 2,
       "version_minor": 0
      },
      "text/plain": [
       "  0%|          | 0/1 [00:00<?, ?it/s]"
      ]
     },
     "metadata": {},
     "output_type": "display_data"
    },
    {
     "name": "stdout",
     "output_type": "stream",
     "text": [
      "Head: BARCELONETTE\n",
      "Gold: Q207577\n",
      "Prediction: Q207577\n",
      "Skyline: True\n",
      "{'Q207577': 0.24, 'Q4957758': 0.143, 'Q2884452': 0.142, 'Q51187': 0.135, 'Q56973': 0.008, 'Q8488': 0.0}\n",
      "Accuracy 10: True\n",
      "\n"
     ]
    },
    {
     "name": "stderr",
     "output_type": "stream",
     "text": [
      "                                                                                                \r"
     ]
    },
    {
     "data": {
      "application/vnd.jupyter.widget-view+json": {
       "model_id": "50a98a96d3a84c10b979b8f5d18346c7",
       "version_major": 2,
       "version_minor": 0
      },
      "text/plain": [
       "  0%|          | 0/1 [00:00<?, ?it/s]"
      ]
     },
     "metadata": {},
     "output_type": "display_data"
    },
    {
     "name": "stdout",
     "output_type": "stream",
     "text": [
      "Head: BARENTON\n",
      "Gold: Q1001315\n",
      "Prediction: Q1001315\n",
      "Skyline: True\n",
      "{'Q1001315': 0.382, 'Q807828': 0.266, 'Q599957': 0.108, 'Q807830': 0.096, 'Q1508146': 0.09, 'Q554121': 0.058, 'Q178248': 0.0}\n",
      "Accuracy 10: True\n",
      "\n"
     ]
    },
    {
     "name": "stderr",
     "output_type": "stream",
     "text": [
      "                                                                                                \r"
     ]
    },
    {
     "data": {
      "application/vnd.jupyter.widget-view+json": {
       "model_id": "e7771b11a96d4dc98b1dd8a9e1609724",
       "version_major": 2,
       "version_minor": 0
      },
      "text/plain": [
       "  0%|          | 0/1 [00:00<?, ?it/s]"
      ]
     },
     "metadata": {},
     "output_type": "display_data"
    },
    {
     "name": "stdout",
     "output_type": "stream",
     "text": [
      "Head: BARFLEUR\n",
      "Gold: Q211684\n",
      "Prediction: Q211684\n",
      "Skyline: True\n",
      "{'Q211684': 0.412, 'Q2671640': 0.164, 'Q4860483': 0.153, 'Q4857333': 0.144, 'Q4861128': 0.115, 'Q804133': 0.011, 'Q2265686': 0.0}\n",
      "Accuracy 10: True\n",
      "\n"
     ]
    },
    {
     "name": "stderr",
     "output_type": "stream",
     "text": [
      "                                                                                                \r"
     ]
    },
    {
     "data": {
      "application/vnd.jupyter.widget-view+json": {
       "model_id": "ea8dc4872e89458caae891d186ede34a",
       "version_major": 2,
       "version_minor": 0
      },
      "text/plain": [
       "  0%|          | 0/1 [00:00<?, ?it/s]"
      ]
     },
     "metadata": {},
     "output_type": "display_data"
    },
    {
     "name": "stdout",
     "output_type": "stream",
     "text": [
      "Head: BARGEMONT\n",
      "Gold: Q808155\n",
      "Prediction: Q837503\n",
      "Skyline: True\n",
      "{'Q837503': 0.205, 'Q70000': 0.184, 'Q808155': 0.18, 'Q1376037': 0.145, 'Q288153': 0.143, 'Q1102347': 0.143, 'Q7099593': 0.0}\n",
      "Accuracy 10: False\n",
      "\n"
     ]
    },
    {
     "name": "stderr",
     "output_type": "stream",
     "text": [
      "                                                                                                \r"
     ]
    },
    {
     "data": {
      "application/vnd.jupyter.widget-view+json": {
       "model_id": "e25100c5800e40768bfa7c53d845e882",
       "version_major": 2,
       "version_minor": 0
      },
      "text/plain": [
       "  0%|          | 0/1 [00:00<?, ?it/s]"
      ]
     },
     "metadata": {},
     "output_type": "display_data"
    },
    {
     "name": "stdout",
     "output_type": "stream",
     "text": [
      "Head: BARJAC\n",
      "Gold: Q274188\n",
      "Prediction: Q274188\n",
      "Skyline: True\n",
      "{'Q274188': 0.239, 'Q381311': 0.191, 'Q806534': 0.187, 'Q854682': 0.184, 'Q55721': 0.134, 'Q67519': 0.065, 'Q707110': 0.0}\n",
      "Accuracy 10: True\n",
      "\n"
     ]
    },
    {
     "name": "stderr",
     "output_type": "stream",
     "text": [
      "                                                                                                \r"
     ]
    },
    {
     "data": {
      "application/vnd.jupyter.widget-view+json": {
       "model_id": "ba26f4a13df6458d805360f47e6e0a9e",
       "version_major": 2,
       "version_minor": 0
      },
      "text/plain": [
       "  0%|          | 0/1 [00:00<?, ?it/s]"
      ]
     },
     "metadata": {},
     "output_type": "display_data"
    },
    {
     "name": "stdout",
     "output_type": "stream",
     "text": [
      "Head: BARJOLS\n",
      "Gold: Q658840\n",
      "Prediction: Q658840\n",
      "Skyline: True\n",
      "{'Q658840': 0.349, 'Q326203': 0.222, 'Q919413': 0.2, 'Q15204148': 0.19, 'Q4860609': 0.03, 'Q2624345': 0.01, 'Q4861518': 0.0}\n",
      "Accuracy 10: True\n",
      "\n"
     ]
    },
    {
     "name": "stderr",
     "output_type": "stream",
     "text": [
      "                                                                                                \r"
     ]
    },
    {
     "data": {
      "application/vnd.jupyter.widget-view+json": {
       "model_id": "e9a934fac9b64dee9b27a3de139dd2dd",
       "version_major": 2,
       "version_minor": 0
      },
      "text/plain": [
       "  0%|          | 0/1 [00:00<?, ?it/s]"
      ]
     },
     "metadata": {},
     "output_type": "display_data"
    },
    {
     "name": "stdout",
     "output_type": "stream",
     "text": [
      "Head: BARRAUX\n",
      "Gold: Q385282\n",
      "Prediction: Q385282\n",
      "Skyline: True\n",
      "{'Q385282': 0.253, 'Q383409': 0.167, 'Q1606184': 0.148, 'Q863937': 0.147, 'Q1088537': 0.144, 'Q604065': 0.141, 'Q14395': 0.0}\n",
      "Accuracy 10: True\n",
      "\n",
      "Head: Barre\n",
      "Gold: Q383658\n",
      "Prediction: Q26071\n",
      "Skyline: False\n",
      "{'Q26071': 0.365, 'Q3635167': 0.244, 'Q808838': 0.2, 'Q604591': 0.135, 'Q14438080': 0.052, 'Q263447': 0.004, 'Q4863275': 0.0}\n",
      "Accuracy 10: False\n",
      "\n"
     ]
    },
    {
     "name": "stderr",
     "output_type": "stream",
     "text": [
      "                                                                                                \r"
     ]
    },
    {
     "data": {
      "application/vnd.jupyter.widget-view+json": {
       "model_id": "50b7eb45b55946b7b1286da207e4914d",
       "version_major": 2,
       "version_minor": 0
      },
      "text/plain": [
       "  0%|          | 0/1 [00:00<?, ?it/s]"
      ]
     },
     "metadata": {},
     "output_type": "display_data"
    },
    {
     "name": "stdout",
     "output_type": "stream",
     "text": [
      "Head: BARREME\n",
      "Gold: Q840218\n",
      "Prediction: Q840218\n",
      "Skyline: True\n",
      "{'Q840218': 0.401, 'Q26071': 0.351, 'Q3635167': 0.182, 'Q816666': 0.032, 'Q604591': 0.029, 'Q808838': 0.005, 'Q4860256': 0.0}\n",
      "Accuracy 10: True\n",
      "\n"
     ]
    },
    {
     "name": "stderr",
     "output_type": "stream",
     "text": [
      "                                                                                                \r"
     ]
    },
    {
     "data": {
      "application/vnd.jupyter.widget-view+json": {
       "model_id": "626c41a31f2c44799d3b2230e00f9b0b",
       "version_major": 2,
       "version_minor": 0
      },
      "text/plain": [
       "  0%|          | 0/1 [00:00<?, ?it/s]"
      ]
     },
     "metadata": {},
     "output_type": "display_data"
    },
    {
     "name": "stdout",
     "output_type": "stream",
     "text": [
      "Head: BASIEGES\n",
      "Gold: Q736117\n",
      "Prediction: Q151985\n",
      "Skyline: False\n",
      "{'Q151985': 0.246, 'Q1218075': 0.17, 'Q811362': 0.164, 'Q192363': 0.158, 'Q43239': 0.156, 'Q6732506': 0.106, 'Q852564': 0.0}\n",
      "Accuracy 10: False\n",
      "\n"
     ]
    },
    {
     "name": "stderr",
     "output_type": "stream",
     "text": [
      "                                                                                                \r"
     ]
    },
    {
     "data": {
      "application/vnd.jupyter.widget-view+json": {
       "model_id": "97607fb9b8f443549e25676b6f3333e3",
       "version_major": 2,
       "version_minor": 0
      },
      "text/plain": [
       "  0%|          | 0/1 [00:00<?, ?it/s]"
      ]
     },
     "metadata": {},
     "output_type": "display_data"
    },
    {
     "name": "stdout",
     "output_type": "stream",
     "text": [
      "Head: BASSEMPOIN\n",
      "Gold: Q537606\n",
      "Prediction: Q1949022\n",
      "Skyline: False\n",
      "{'Q1949022': 0.187, 'Q870103': 0.185, 'Q3230299': 0.175, 'Q12862449': 0.167, 'Q836': 0.145, 'Q580876': 0.14}\n",
      "Accuracy 10: False\n",
      "\n"
     ]
    },
    {
     "name": "stderr",
     "output_type": "stream",
     "text": [
      "                                                                                                \r"
     ]
    },
    {
     "data": {
      "application/vnd.jupyter.widget-view+json": {
       "model_id": "20d74bcceb70426c83a5591f5f9db856",
       "version_major": 2,
       "version_minor": 0
      },
      "text/plain": [
       "  0%|          | 0/1 [00:00<?, ?it/s]"
      ]
     },
     "metadata": {},
     "output_type": "display_data"
    },
    {
     "name": "stdout",
     "output_type": "stream",
     "text": [
      "Head: BAVEY\n",
      "Gold: Q477176\n",
      "Prediction: Q4827991\n",
      "Skyline: False\n",
      "{'Q4827991': 0.214, 'Q790157': 0.177, 'Q2449718': 0.17, 'Q895361': 0.169, 'Q2346815': 0.141, 'Q895350': 0.13, 'Q1428057': 0.0}\n",
      "Accuracy 10: False\n",
      "\n"
     ]
    },
    {
     "name": "stderr",
     "output_type": "stream",
     "text": [
      "                                                                                                \r"
     ]
    },
    {
     "data": {
      "application/vnd.jupyter.widget-view+json": {
       "model_id": "75fa886b5375449bb2eefbc7e35f4879",
       "version_major": 2,
       "version_minor": 0
      },
      "text/plain": [
       "  0%|          | 0/1 [00:00<?, ?it/s]"
      ]
     },
     "metadata": {},
     "output_type": "display_data"
    },
    {
     "name": "stdout",
     "output_type": "stream",
     "text": [
      "Head: BAUGÉ\n",
      "Gold: Q30039410\n",
      "Prediction: Q26768\n",
      "Skyline: False\n",
      "{'Q26768': 0.368, 'Q839129': 0.239, 'Q2879161': 0.143, 'Q7099146': 0.071, 'Q11962915': 0.014, 'Q1785755': 0.0}\n",
      "Accuracy 10: True\n",
      "\n",
      "Head: Baugé\n",
      "Gold: Q202455\n",
      "Prediction: Q26768\n",
      "Skyline: False\n",
      "{'Q26768': 0.517, 'Q1785755': 0.483}\n",
      "Accuracy 10: False\n",
      "\n"
     ]
    },
    {
     "name": "stderr",
     "output_type": "stream",
     "text": [
      "                                                                                                \r"
     ]
    },
    {
     "data": {
      "application/vnd.jupyter.widget-view+json": {
       "model_id": "bff9dccebf5041d0bf9fda6991da6b45",
       "version_major": 2,
       "version_minor": 0
      },
      "text/plain": [
       "  0%|          | 0/1 [00:00<?, ?it/s]"
      ]
     },
     "metadata": {},
     "output_type": "display_data"
    },
    {
     "name": "stdout",
     "output_type": "stream",
     "text": [
      "Head: BAUGENCI\n",
      "Gold: Q429910\n",
      "Prediction: Q3832\n",
      "Skyline: False\n",
      "{'Q3832': 0.27, 'Q1755453': 0.181, 'Q4868614': 0.145, 'Q4855164': 0.144, 'Q5809531': 0.132, 'Q799948': 0.128, 'Q3633920': 0.0}\n",
      "Accuracy 10: False\n",
      "\n"
     ]
    },
    {
     "name": "stderr",
     "output_type": "stream",
     "text": [
      "                                                                                                \r"
     ]
    },
    {
     "data": {
      "application/vnd.jupyter.widget-view+json": {
       "model_id": "a6afe8c4184748e2bca5cad14c4cd7e6",
       "version_major": 2,
       "version_minor": 0
      },
      "text/plain": [
       "  0%|          | 0/1 [00:00<?, ?it/s]"
      ]
     },
     "metadata": {},
     "output_type": "display_data"
    },
    {
     "name": "stdout",
     "output_type": "stream",
     "text": [
      "Head: Baume les nones\n",
      "Gold: Q733784\n",
      "Prediction: Q640906\n",
      "Skyline: False\n",
      "{'Q640906': 0.22, 'Q980375': 0.204, 'Q895331': 0.198, 'Q2883706': 0.195, 'Q34670300': 0.184}\n",
      "Accuracy 10: False\n",
      "\n"
     ]
    },
    {
     "name": "stderr",
     "output_type": "stream",
     "text": [
      "                                                                                                \r"
     ]
    },
    {
     "data": {
      "application/vnd.jupyter.widget-view+json": {
       "model_id": "ea3dcf626c4f45d5b6a9a868c0e5a0d3",
       "version_major": 2,
       "version_minor": 0
      },
      "text/plain": [
       "  0%|          | 0/1 [00:00<?, ?it/s]"
      ]
     },
     "metadata": {},
     "output_type": "display_data"
    },
    {
     "name": "stdout",
     "output_type": "stream",
     "text": [
      "Head: BAYEUX\n",
      "Gold: Q183910\n",
      "Prediction: Q183910\n",
      "Skyline: True\n",
      "{'Q183910': 0.263, 'Q700609': 0.226, 'Q2065978': 0.144, 'Q187483': 0.136, 'Q2189086': 0.118, 'Q2892283': 0.112, 'Q239255': 0.0}\n",
      "Accuracy 10: True\n",
      "\n"
     ]
    },
    {
     "name": "stderr",
     "output_type": "stream",
     "text": [
      "                                                                                                \r"
     ]
    },
    {
     "data": {
      "application/vnd.jupyter.widget-view+json": {
       "model_id": "1755531d856a4996b645cfcba86e0cdc",
       "version_major": 2,
       "version_minor": 0
      },
      "text/plain": [
       "  0%|          | 0/1 [00:00<?, ?it/s]"
      ]
     },
     "metadata": {},
     "output_type": "display_data"
    },
    {
     "name": "stdout",
     "output_type": "stream",
     "text": [
      "Head: BAZAS\n",
      "Gold: Q208427\n",
      "Prediction: Q208427\n",
      "Skyline: True\n",
      "{'Q208427': 0.369, 'Q112220768': 0.148, 'Q867059': 0.14, 'Q918782': 0.127, 'Q2722701': 0.122, 'Q382548': 0.092, 'Q739411': 0.0}\n",
      "Accuracy 10: True\n",
      "\n",
      "Head: Beaufort\n",
      "Gold: Q816290\n",
      "Prediction: Q813374\n",
      "Skyline: False\n",
      "{'Q813374': 0.319, 'Q813376': 0.27, 'Q813370': 0.144, 'Q813371': 0.1, 'Q1155512': 0.086, 'Q131274': 0.081, 'Q495682': 0.0}\n",
      "Accuracy 10: False\n",
      "\n"
     ]
    },
    {
     "name": "stderr",
     "output_type": "stream",
     "text": [
      "                                                                                                \r"
     ]
    },
    {
     "data": {
      "application/vnd.jupyter.widget-view+json": {
       "model_id": "25e3fd3cf7964fc68487c6072af9c8a8",
       "version_major": 2,
       "version_minor": 0
      },
      "text/plain": [
       "  0%|          | 0/1 [00:00<?, ?it/s]"
      ]
     },
     "metadata": {},
     "output_type": "display_data"
    },
    {
     "name": "stdout",
     "output_type": "stream",
     "text": [
      "Head: BEAUJEU\n",
      "Gold: Q740693\n",
      "Prediction: Q114731\n",
      "Skyline: True\n",
      "{'Q114731': 0.242, 'Q2893126': 0.171, 'Q2363817': 0.16, 'Q473288': 0.151, 'Q186954': 0.142, 'Q740693': 0.133, 'Q2893127': 0.0}\n",
      "Accuracy 10: False\n",
      "\n"
     ]
    },
    {
     "name": "stderr",
     "output_type": "stream",
     "text": [
      "                                                                                                \r"
     ]
    },
    {
     "data": {
      "application/vnd.jupyter.widget-view+json": {
       "model_id": "434576aab8764122ae11992ff33e8b9a",
       "version_major": 2,
       "version_minor": 0
      },
      "text/plain": [
       "  0%|          | 0/1 [00:00<?, ?it/s]"
      ]
     },
     "metadata": {},
     "output_type": "display_data"
    },
    {
     "name": "stdout",
     "output_type": "stream",
     "text": [
      "Head: BEAUMARCHES\n",
      "Gold: Q1041910\n",
      "Prediction: Q1486\n",
      "Skyline: True\n",
      "{'Q1486': 0.278, 'Q44754': 0.178, 'Q384788': 0.15, 'Q55099489': 0.136, 'Q1041910': 0.131, 'Q1066421': 0.127, 'Q173116': 0.0}\n",
      "Accuracy 10: False\n",
      "\n"
     ]
    },
    {
     "name": "stderr",
     "output_type": "stream",
     "text": [
      "                                                                                                \r"
     ]
    },
    {
     "data": {
      "application/vnd.jupyter.widget-view+json": {
       "model_id": "69fb47922a95408494ffb34541171a10",
       "version_major": 2,
       "version_minor": 0
      },
      "text/plain": [
       "  0%|          | 0/1 [00:00<?, ?it/s]"
      ]
     },
     "metadata": {},
     "output_type": "display_data"
    },
    {
     "name": "stdout",
     "output_type": "stream",
     "text": [
      "Head: BEAUNE\n",
      "Gold: Q16121\n",
      "Prediction: Q16121\n",
      "Skyline: True\n",
      "{'Q16121': 0.28, 'Q14812': 0.229, 'Q325604': 0.127, 'Q1016093': 0.125, 'Q271344': 0.121, 'Q1104075': 0.118, 'Q546': 0.0}\n",
      "Accuracy 10: True\n",
      "\n"
     ]
    },
    {
     "name": "stderr",
     "output_type": "stream",
     "text": [
      "                                                                                                \r"
     ]
    },
    {
     "data": {
      "application/vnd.jupyter.widget-view+json": {
       "model_id": "7dde700ffeb5464ba6180987b2817151",
       "version_major": 2,
       "version_minor": 0
      },
      "text/plain": [
       "  0%|          | 0/1 [00:00<?, ?it/s]"
      ]
     },
     "metadata": {},
     "output_type": "display_data"
    },
    {
     "name": "stdout",
     "output_type": "stream",
     "text": [
      "Head: BEAUVAIS\n",
      "Gold: Q174257\n",
      "Prediction: Q174257\n",
      "Skyline: True\n",
      "{'Q174257': 0.278, 'Q534383': 0.179, 'Q7179060': 0.137, 'Q616': 0.136, 'Q606295': 0.136, 'Q2204667': 0.133, 'Q213763': 0.0}\n",
      "Accuracy 10: True\n",
      "\n"
     ]
    },
    {
     "name": "stderr",
     "output_type": "stream",
     "text": [
      "                                                                                                \r"
     ]
    },
    {
     "data": {
      "application/vnd.jupyter.widget-view+json": {
       "model_id": "2476216145df448fa46cdab6a8d4ad95",
       "version_major": 2,
       "version_minor": 0
      },
      "text/plain": [
       "  0%|          | 0/1 [00:00<?, ?it/s]"
      ]
     },
     "metadata": {},
     "output_type": "display_data"
    },
    {
     "name": "stdout",
     "output_type": "stream",
     "text": [
      "Head: BEAUVOIR-SUR-MER\n",
      "Gold: Q1023635\n",
      "Prediction: Q211622\n",
      "Skyline: True\n",
      "{'Q211622': 0.358, 'Q1023635': 0.279, 'Q27929020': 0.128, 'Q755632': 0.128, 'Q813008': 0.074, 'Q7867635': 0.033, 'Q4876539': 0.0}\n",
      "Accuracy 10: False\n",
      "\n"
     ]
    },
    {
     "name": "stderr",
     "output_type": "stream",
     "text": [
      "                                                                                                \r"
     ]
    },
    {
     "data": {
      "application/vnd.jupyter.widget-view+json": {
       "model_id": "f52a3309be544626afd407c4e9ee3e19",
       "version_major": 2,
       "version_minor": 0
      },
      "text/plain": [
       "  0%|          | 0/1 [00:00<?, ?it/s]"
      ]
     },
     "metadata": {},
     "output_type": "display_data"
    },
    {
     "name": "stdout",
     "output_type": "stream",
     "text": [
      "Head: BEDARIEUX ou BEC D'ARIEUX\n",
      "Gold: Q274412\n",
      "Prediction: Q274412\n",
      "Skyline: True\n",
      "{'Q274412': 0.252, 'Q378865': 0.244, 'Q771753': 0.243}\n",
      "Accuracy 10: True\n",
      "\n"
     ]
    },
    {
     "name": "stderr",
     "output_type": "stream",
     "text": [
      "                                                                                                \r"
     ]
    },
    {
     "data": {
      "application/vnd.jupyter.widget-view+json": {
       "model_id": "a017fd0beca147c9bf5eaba889630ae4",
       "version_major": 2,
       "version_minor": 0
      },
      "text/plain": [
       "  0%|          | 0/1 [00:00<?, ?it/s]"
      ]
     },
     "metadata": {},
     "output_type": "display_data"
    },
    {
     "name": "stdout",
     "output_type": "stream",
     "text": [
      "Head: BEFORT\n",
      "Gold: Q171545\n",
      "Prediction: Q171545\n",
      "Skyline: True\n",
      "{'Q171545': 0.277, 'Q12782': 0.223, 'Q83215': 0.126, 'Q849583': 0.126, 'Q2518076': 0.124, 'Q793829': 0.124, 'Q5977875': 0.0}\n",
      "Accuracy 10: True\n",
      "\n"
     ]
    },
    {
     "name": "stderr",
     "output_type": "stream",
     "text": [
      "                                                                                                \r"
     ]
    },
    {
     "data": {
      "application/vnd.jupyter.widget-view+json": {
       "model_id": "771b0b1b18ff4ba98bfe18e416ddf938",
       "version_major": 2,
       "version_minor": 0
      },
      "text/plain": [
       "  0%|          | 0/1 [00:00<?, ?it/s]"
      ]
     },
     "metadata": {},
     "output_type": "display_data"
    },
    {
     "name": "stdout",
     "output_type": "stream",
     "text": [
      "Head: BEIRE\n",
      "Gold: Q55646\n",
      "Prediction: Q699129\n",
      "Skyline: False\n",
      "{'Q699129': 0.217, 'Q814864': 0.217, 'Q52262': 0.209, 'Q275863': 0.166, 'Q288912': 0.121, 'Q4986494': 0.07, 'Q311326': 0.0}\n",
      "Accuracy 10: False\n",
      "\n"
     ]
    },
    {
     "name": "stderr",
     "output_type": "stream",
     "text": [
      "                                                                                                \r"
     ]
    },
    {
     "data": {
      "application/vnd.jupyter.widget-view+json": {
       "model_id": "9c006e49db624fbda82bf771875993ec",
       "version_major": 2,
       "version_minor": 0
      },
      "text/plain": [
       "  0%|          | 0/1 [00:00<?, ?it/s]"
      ]
     },
     "metadata": {},
     "output_type": "display_data"
    },
    {
     "name": "stdout",
     "output_type": "stream",
     "text": [
      "Head: BELESME\n",
      "Gold: Q816092\n",
      "Prediction: Q816092\n",
      "Skyline: True\n",
      "{'Q816092': 0.231, 'Q1186843': 0.189, 'Q586392': 0.186, 'Q12829733': 0.167, 'Q224583': 0.138, 'Q1151537': 0.09, 'Q477142': 0.0}\n",
      "Accuracy 10: True\n",
      "\n"
     ]
    },
    {
     "name": "stderr",
     "output_type": "stream",
     "text": [
      "                                                                                                \r"
     ]
    },
    {
     "data": {
      "application/vnd.jupyter.widget-view+json": {
       "model_id": "936b531d38574772997b744b7a9ed736",
       "version_major": 2,
       "version_minor": 0
      },
      "text/plain": [
       "  0%|          | 0/1 [00:00<?, ?it/s]"
      ]
     },
     "metadata": {},
     "output_type": "display_data"
    },
    {
     "name": "stdout",
     "output_type": "stream",
     "text": [
      "Head: BELLAC\n",
      "Gold: Q1089007\n",
      "Prediction: Q214597\n",
      "Skyline: False\n",
      "{'Q1017147': 0.19, 'Q214597': 0.184, 'Q2009042': 0.116, 'Q275315': 0.085, 'Q4850745': 0.062, 'Q17989771': 0.0}\n",
      "Accuracy 10: True\n",
      "\n"
     ]
    },
    {
     "name": "stderr",
     "output_type": "stream",
     "text": [
      "                                                                                                \r"
     ]
    },
    {
     "data": {
      "application/vnd.jupyter.widget-view+json": {
       "model_id": "a6f449c92b574f3897df776c8b06a955",
       "version_major": 2,
       "version_minor": 0
      },
      "text/plain": [
       "  0%|          | 0/1 [00:00<?, ?it/s]"
      ]
     },
     "metadata": {},
     "output_type": "display_data"
    },
    {
     "name": "stdout",
     "output_type": "stream",
     "text": [
      "Head: Bellegarde\n",
      "Gold: Q3028584\n",
      "Prediction: Q269844\n",
      "Skyline: True\n",
      "{'Q269844': 0.461, 'Q533990': 0.282, 'Q191475': 0.146, 'Q996910': 0.061, 'Q3028584': 0.033, 'Q1214079': 0.017, 'Q63652': 0.0}\n",
      "Accuracy 10: False\n",
      "\n"
     ]
    },
    {
     "name": "stderr",
     "output_type": "stream",
     "text": [
      "                                                                                                \r"
     ]
    },
    {
     "data": {
      "application/vnd.jupyter.widget-view+json": {
       "model_id": "bfa3a15feada4dc99e11623d932fa67e",
       "version_major": 2,
       "version_minor": 0
      },
      "text/plain": [
       "  0%|          | 0/1 [00:00<?, ?it/s]"
      ]
     },
     "metadata": {},
     "output_type": "display_data"
    },
    {
     "name": "stdout",
     "output_type": "stream",
     "text": [
      "Head: BELLEVILLE\n",
      "Gold: Q58183261\n",
      "Prediction: Q815949\n",
      "Skyline: False\n",
      "{'Q815949': 0.483, 'Q34227': 0.232, 'Q816070': 0.203, 'Q525775': 0.064, 'Q1060182': 0.018, 'Q1092608': 0.001, 'Q79892': 0.0}\n",
      "Accuracy 10: False\n",
      "\n"
     ]
    },
    {
     "name": "stderr",
     "output_type": "stream",
     "text": [
      "                                                                                                \r"
     ]
    },
    {
     "data": {
      "application/vnd.jupyter.widget-view+json": {
       "model_id": "8233252e247b45c198624d0c8a38fa91",
       "version_major": 2,
       "version_minor": 0
      },
      "text/plain": [
       "  0%|          | 0/1 [00:00<?, ?it/s]"
      ]
     },
     "metadata": {},
     "output_type": "display_data"
    },
    {
     "name": "stdout",
     "output_type": "stream",
     "text": [
      "Head: BELLEY ou BELLAY\n",
      "Gold: Q188496\n",
      "Prediction: Q67384\n",
      "Skyline: False\n",
      "{'Q67384': 0.181, 'Q2490155': 0.178, 'Q3876100': 0.17, 'Q104569': 0.166, 'Q2968534': 0.155, 'Q1821710': 0.151}\n",
      "Accuracy 10: False\n",
      "\n"
     ]
    },
    {
     "name": "stderr",
     "output_type": "stream",
     "text": [
      "                                                                                                \r"
     ]
    },
    {
     "data": {
      "application/vnd.jupyter.widget-view+json": {
       "model_id": "66c21fa328ff4293a5189d209446dfb8",
       "version_major": 2,
       "version_minor": 0
      },
      "text/plain": [
       "  0%|          | 0/1 [00:00<?, ?it/s]"
      ]
     },
     "metadata": {},
     "output_type": "display_data"
    },
    {
     "name": "stdout",
     "output_type": "stream",
     "text": [
      "Head: BELLOC\n",
      "Gold: Q369126\n",
      "Prediction: Q160143\n",
      "Skyline: False\n",
      "{'Q160143': 0.282, 'Q214597': 0.257, 'Q1017147': 0.171, 'Q680286': 0.155, 'Q4882091': 0.075, 'Q156565': 0.06, 'Q854612': 0.0}\n",
      "Accuracy 10: False\n",
      "\n"
     ]
    },
    {
     "name": "stderr",
     "output_type": "stream",
     "text": [
      "                                                                                                \r"
     ]
    },
    {
     "data": {
      "application/vnd.jupyter.widget-view+json": {
       "model_id": "4b6b447c8ff242f0b6b24c299cb8bdd7",
       "version_major": 2,
       "version_minor": 0
      },
      "text/plain": [
       "  0%|          | 0/1 [00:00<?, ?it/s]"
      ]
     },
     "metadata": {},
     "output_type": "display_data"
    },
    {
     "name": "stdout",
     "output_type": "stream",
     "text": [
      "Head: BELMONT\n",
      "Gold: Q1332972\n",
      "Prediction: Q816096\n",
      "Skyline: False\n",
      "{'Q816096': 0.525, 'Q369859': 0.358, 'Q1755026': 0.049, 'Q14206190': 0.034, 'Q4884287': 0.025, 'Q816099': 0.008, 'Q607942': 0.0}\n",
      "Accuracy 10: False\n",
      "\n",
      "Head: Benevent\n",
      "Gold: Q1020778\n",
      "Prediction: Q13437\n",
      "Skyline: False\n",
      "{'Q13437': 1.0}\n",
      "Accuracy 10: False\n",
      "\n"
     ]
    },
    {
     "name": "stderr",
     "output_type": "stream",
     "text": [
      "                                                                                                \r"
     ]
    },
    {
     "data": {
      "application/vnd.jupyter.widget-view+json": {
       "model_id": "9ac4de3d63af4134aeb0259457cabcdc",
       "version_major": 2,
       "version_minor": 0
      },
      "text/plain": [
       "  0%|          | 0/1 [00:00<?, ?it/s]"
      ]
     },
     "metadata": {},
     "output_type": "display_data"
    },
    {
     "name": "stdout",
     "output_type": "stream",
     "text": [
      "Head: BENFELD\n",
      "Gold: Q22776\n",
      "Prediction: Q22776\n",
      "Skyline: True\n",
      "{'Q22776': 0.372, 'Q817089': 0.151, 'Q569845': 0.15, 'Q575926': 0.14, 'Q815428': 0.104, 'Q2549733': 0.083, 'Q565769': 0.0}\n",
      "Accuracy 10: True\n",
      "\n"
     ]
    },
    {
     "name": "stderr",
     "output_type": "stream",
     "text": [
      "                                                                                                \r"
     ]
    },
    {
     "data": {
      "application/vnd.jupyter.widget-view+json": {
       "model_id": "dade36ce4aad4e229c8159d8ab8304af",
       "version_major": 2,
       "version_minor": 0
      },
      "text/plain": [
       "  0%|          | 0/1 [00:00<?, ?it/s]"
      ]
     },
     "metadata": {},
     "output_type": "display_data"
    },
    {
     "name": "stdout",
     "output_type": "stream",
     "text": [
      "Head: BERAY\n",
      "Gold: Q700664\n",
      "Prediction: Q682618\n",
      "Skyline: True\n",
      "{'Q682618': 0.286, 'Q18105': 0.238, 'Q4894660': 0.233, 'Q700664': 0.179, 'Q1732919': 0.034, 'Q151635': 0.028, 'Q232313': 0.0}\n",
      "Accuracy 10: False\n",
      "\n"
     ]
    },
    {
     "name": "stderr",
     "output_type": "stream",
     "text": [
      "                                                                                                \r"
     ]
    },
    {
     "data": {
      "application/vnd.jupyter.widget-view+json": {
       "model_id": "8513de4d7f1d44e09c23b5fe9c187a54",
       "version_major": 2,
       "version_minor": 0
      },
      "text/plain": [
       "  0%|          | 0/1 [00:00<?, ?it/s]"
      ]
     },
     "metadata": {},
     "output_type": "display_data"
    },
    {
     "name": "stdout",
     "output_type": "stream",
     "text": [
      "Head: BERCKHEIM\n",
      "Gold: Q318168\n",
      "Prediction: Q3989\n",
      "Skyline: True\n",
      "{'Q3989': 0.241, 'Q516056': 0.229, 'Q318168': 0.167, 'Q586965': 0.137, 'Q478139': 0.127, 'Q514957': 0.098, 'Q806576': 0.0}\n",
      "Accuracy 10: False\n",
      "\n"
     ]
    },
    {
     "name": "stderr",
     "output_type": "stream",
     "text": [
      "                                                                                                \r"
     ]
    },
    {
     "data": {
      "application/vnd.jupyter.widget-view+json": {
       "model_id": "f668b2facceb4ee3a147b60de3bf3494",
       "version_major": 2,
       "version_minor": 0
      },
      "text/plain": [
       "  0%|          | 0/1 [00:00<?, ?it/s]"
      ]
     },
     "metadata": {},
     "output_type": "display_data"
    },
    {
     "name": "stdout",
     "output_type": "stream",
     "text": [
      "Head: BERGERAC\n",
      "Gold: Q187911\n",
      "Prediction: Q187911\n",
      "Skyline: True\n",
      "{'Q187911': 0.481, 'Q700649': 0.301, 'Q2734386': 0.074, 'Q159095': 0.072, 'Q2635920': 0.067, 'Q746689': 0.005, 'Q4870471': 0.0}\n",
      "Accuracy 10: True\n",
      "\n"
     ]
    },
    {
     "name": "stderr",
     "output_type": "stream",
     "text": [
      "                                                                                                \r"
     ]
    },
    {
     "data": {
      "application/vnd.jupyter.widget-view+json": {
       "model_id": "38805b7c84514086b68a9d1b73089826",
       "version_major": 2,
       "version_minor": 0
      },
      "text/plain": [
       "  0%|          | 0/1 [00:00<?, ?it/s]"
      ]
     },
     "metadata": {},
     "output_type": "display_data"
    },
    {
     "name": "stdout",
     "output_type": "stream",
     "text": [
      "Head: BERLAS\n",
      "Gold: Q1464949\n",
      "Prediction: Q166\n",
      "Skyline: False\n",
      "{'Q166': 0.397, 'Q822196': 0.168, 'Q2896858': 0.135, 'Q693483': 0.131, 'Q4860406': 0.121, 'Q814828': 0.048, 'Q661013': 0.0}\n",
      "Accuracy 10: False\n",
      "\n"
     ]
    },
    {
     "name": "stderr",
     "output_type": "stream",
     "text": [
      "                                                                                                \r"
     ]
    },
    {
     "data": {
      "application/vnd.jupyter.widget-view+json": {
       "model_id": "dddad4000e82481bb1ea692ee4ca4277",
       "version_major": 2,
       "version_minor": 0
      },
      "text/plain": [
       "  0%|          | 0/1 [00:00<?, ?it/s]"
      ]
     },
     "metadata": {},
     "output_type": "display_data"
    },
    {
     "name": "stdout",
     "output_type": "stream",
     "text": [
      "Head: BERRE\n",
      "Gold: Q317809\n",
      "Prediction: Q288912\n",
      "Skyline: False\n",
      "{'Q288912': 0.237, 'Q275863': 0.201, 'Q2928324': 0.185, 'Q46989': 0.175, 'Q836196': 0.17, 'Q4584466': 0.03, 'Q22080753': 0.0}\n",
      "Accuracy 10: True\n",
      "\n"
     ]
    },
    {
     "name": "stderr",
     "output_type": "stream",
     "text": [
      "                                                                                                \r"
     ]
    },
    {
     "data": {
      "application/vnd.jupyter.widget-view+json": {
       "model_id": "7fbd4c4e06d04c33b0f001c8b6e89d85",
       "version_major": 2,
       "version_minor": 0
      },
      "text/plain": [
       "  0%|          | 0/1 [00:00<?, ?it/s]"
      ]
     },
     "metadata": {},
     "output_type": "display_data"
    },
    {
     "name": "stdout",
     "output_type": "stream",
     "text": [
      "Head: BERSUIRE\n",
      "Gold: Q210760\n",
      "Prediction: Q4979608\n",
      "Skyline: False\n",
      "{'Q4979608': 0.199, 'Q288912': 0.181, 'Q851237': 0.174, 'Q847872': 0.17, 'Q836196': 0.164, 'Q4584466': 0.113, 'Q22080753': 0.0}\n",
      "Accuracy 10: False\n",
      "\n"
     ]
    },
    {
     "name": "stderr",
     "output_type": "stream",
     "text": [
      "                                                                                                \r"
     ]
    },
    {
     "data": {
      "application/vnd.jupyter.widget-view+json": {
       "model_id": "f5a6e17b95c742c0b8b48c57f3283ba6",
       "version_major": 2,
       "version_minor": 0
      },
      "text/plain": [
       "  0%|          | 0/1 [00:00<?, ?it/s]"
      ]
     },
     "metadata": {},
     "output_type": "display_data"
    },
    {
     "name": "stdout",
     "output_type": "stream",
     "text": [
      "Head: BESANÇON\n",
      "Gold: Q37776\n",
      "Prediction: Q37776\n",
      "Skyline: True\n",
      "{'Q700660': 0.26, 'Q4875896': 0.069, 'Q210939': 0.065, 'Q118904981': 0.057, 'Q4875901': 0.054, 'Q37776': 0.0}\n",
      "Accuracy 10: True\n",
      "\n"
     ]
    },
    {
     "name": "stderr",
     "output_type": "stream",
     "text": [
      "                                                                                                \r"
     ]
    },
    {
     "data": {
      "application/vnd.jupyter.widget-view+json": {
       "model_id": "6dbe49197bcb4c309785ae2e7c5ef169",
       "version_major": 2,
       "version_minor": 0
      },
      "text/plain": [
       "  0%|          | 0/1 [00:00<?, ?it/s]"
      ]
     },
     "metadata": {},
     "output_type": "display_data"
    },
    {
     "name": "stdout",
     "output_type": "stream",
     "text": [
      "Head: BESSAN\n",
      "Gold: Q270170\n",
      "Prediction: Q270170\n",
      "Skyline: True\n",
      "{'Q270170': 0.334, 'Q105035': 0.265, 'Q735306': 0.264, 'Q843195': 0.062, 'Q2725436': 0.041, 'Q2630607': 0.034, 'Q193733': 0.0}\n",
      "Accuracy 10: True\n",
      "\n"
     ]
    },
    {
     "name": "stderr",
     "output_type": "stream",
     "text": [
      "                                                                                                \r"
     ]
    },
    {
     "data": {
      "application/vnd.jupyter.widget-view+json": {
       "model_id": "9a929b4763ae4490a4004fc363b73b58",
       "version_major": 2,
       "version_minor": 0
      },
      "text/plain": [
       "  0%|          | 0/1 [00:00<?, ?it/s]"
      ]
     },
     "metadata": {},
     "output_type": "display_data"
    },
    {
     "name": "stdout",
     "output_type": "stream",
     "text": [
      "Head: BESSE\n",
      "Gold: Q326043\n",
      "Prediction: Q1151537\n",
      "Skyline: False\n",
      "{'Q1151537': 0.242, 'Q571949': 0.212, 'Q477142': 0.144, 'Q2741584': 0.142, 'Q3560166': 0.131, 'Q1259121': 0.129, 'Q138474': 0.0}\n",
      "Accuracy 10: False\n",
      "\n"
     ]
    },
    {
     "name": "stderr",
     "output_type": "stream",
     "text": [
      "                                                                                                \r"
     ]
    },
    {
     "data": {
      "application/vnd.jupyter.widget-view+json": {
       "model_id": "5b502043624640eebc3a0bbe2628c045",
       "version_major": 2,
       "version_minor": 0
      },
      "text/plain": [
       "  0%|          | 0/1 [00:00<?, ?it/s]"
      ]
     },
     "metadata": {},
     "output_type": "display_data"
    },
    {
     "name": "stdout",
     "output_type": "stream",
     "text": [
      "Head: BESSIERES\n",
      "Gold: Q1362230\n",
      "Prediction: Q1362230\n",
      "Skyline: True\n",
      "{'Q1362230': 0.191, 'Q1084394': 0.188, 'Q690996': 0.188, 'Q1649634': 0.186, 'Q174019': 0.164, 'Q1026207': 0.083, 'Q173866': 0.0}\n",
      "Accuracy 10: True\n",
      "\n"
     ]
    },
    {
     "name": "stderr",
     "output_type": "stream",
     "text": [
      "                                                                                                \r"
     ]
    },
    {
     "data": {
      "application/vnd.jupyter.widget-view+json": {
       "model_id": "cc38fb29be2c434f817670ce2fd2e1d8",
       "version_major": 2,
       "version_minor": 0
      },
      "text/plain": [
       "  0%|          | 0/1 [00:00<?, ?it/s]"
      ]
     },
     "metadata": {},
     "output_type": "display_data"
    },
    {
     "name": "stdout",
     "output_type": "stream",
     "text": [
      "Head: BETHUNE\n",
      "Gold: Q207145\n",
      "Prediction: Q207145\n",
      "Skyline: True\n",
      "{'Q207145': 0.234, 'Q1019503': 0.128, 'Q2059796': 0.127, 'Q1999109': 0.12, 'Q2275162': 0.111, 'Q102350': 0.0}\n",
      "Accuracy 10: True\n",
      "\n"
     ]
    },
    {
     "name": "stderr",
     "output_type": "stream",
     "text": [
      "                                                                                                \r"
     ]
    },
    {
     "data": {
      "application/vnd.jupyter.widget-view+json": {
       "model_id": "acd02d9126a24b8881204b92e830fe2c",
       "version_major": 2,
       "version_minor": 0
      },
      "text/plain": [
       "  0%|          | 0/1 [00:00<?, ?it/s]"
      ]
     },
     "metadata": {},
     "output_type": "display_data"
    },
    {
     "name": "stdout",
     "output_type": "stream",
     "text": [
      "Head: BEZIERS\n",
      "Gold: Q174019\n",
      "Prediction: Q174019\n",
      "Skyline: True\n",
      "{'Q174019': 0.3, 'Q630159': 0.22, 'Q877409': 0.153, 'Q1996192': 0.153, 'Q954104': 0.148, 'Q200231': 0.026, 'Q220827': 0.0}\n",
      "Accuracy 10: True\n",
      "\n"
     ]
    },
    {
     "name": "stderr",
     "output_type": "stream",
     "text": [
      "                                                                                                \r"
     ]
    },
    {
     "data": {
      "application/vnd.jupyter.widget-view+json": {
       "model_id": "3726173691904e3ab91bd5a875ca8ba9",
       "version_major": 2,
       "version_minor": 0
      },
      "text/plain": [
       "  0%|          | 0/1 [00:00<?, ?it/s]"
      ]
     },
     "metadata": {},
     "output_type": "display_data"
    },
    {
     "name": "stdout",
     "output_type": "stream",
     "text": [
      "Head: BIDACHE\n",
      "Gold: Q197008\n",
      "Prediction: Q186320\n",
      "Skyline: True\n",
      "{'Q186320': 0.294, 'Q197008': 0.245, 'Q691646': 0.127, 'Q2487614': 0.116, 'Q4840705': 0.111, 'Q5826077': 0.107, 'Q6877935': 0.0}\n",
      "Accuracy 10: False\n",
      "\n"
     ]
    },
    {
     "name": "stderr",
     "output_type": "stream",
     "text": [
      "                                                                                                \r"
     ]
    },
    {
     "data": {
      "application/vnd.jupyter.widget-view+json": {
       "model_id": "9c3337b43a0e4d9c9e878dde2bf7f776",
       "version_major": 2,
       "version_minor": 0
      },
      "text/plain": [
       "  0%|          | 0/1 [00:00<?, ?it/s]"
      ]
     },
     "metadata": {},
     "output_type": "display_data"
    },
    {
     "name": "stdout",
     "output_type": "stream",
     "text": [
      "Head: BILHON ou BILLON\n",
      "Gold: Q246257\n",
      "Prediction: Q217216\n",
      "Skyline: False\n",
      "{'Q217216': 0.235, 'Q888820': 0.18, 'Q4913554': 0.171, 'Q5684': 0.168, 'Q4887873': 0.16, 'Q3362643': 0.085, 'Q32989': 0.0}\n",
      "Accuracy 10: False\n",
      "\n"
     ]
    },
    {
     "name": "stderr",
     "output_type": "stream",
     "text": [
      "                                                                                                \r"
     ]
    },
    {
     "data": {
      "application/vnd.jupyter.widget-view+json": {
       "model_id": "cf0e72cdd3494705bdf77ade8e05e476",
       "version_major": 2,
       "version_minor": 0
      },
      "text/plain": [
       "  0%|          | 0/1 [00:00<?, ?it/s]"
      ]
     },
     "metadata": {},
     "output_type": "display_data"
    },
    {
     "name": "stdout",
     "output_type": "stream",
     "text": [
      "Head: BILLY\n",
      "Gold: Q848646\n",
      "Prediction: Q848646\n",
      "Skyline: True\n",
      "{'Q848646': 0.441, 'Q1949939': 0.315, 'Q232073': 0.096, 'Q3478051': 0.088, 'Q1069923': 0.037, 'Q862984': 0.023, 'Q772803': 0.0}\n",
      "Accuracy 10: True\n",
      "\n"
     ]
    },
    {
     "name": "stderr",
     "output_type": "stream",
     "text": [
      "                                                                                                \r"
     ]
    },
    {
     "data": {
      "application/vnd.jupyter.widget-view+json": {
       "model_id": "444864d922724e08ac0a168c55f04754",
       "version_major": 2,
       "version_minor": 0
      },
      "text/plain": [
       "  0%|          | 0/1 [00:00<?, ?it/s]"
      ]
     },
     "metadata": {},
     "output_type": "display_data"
    },
    {
     "name": "stdout",
     "output_type": "stream",
     "text": [
      "Head: BLANZAC\n",
      "Gold: Q680449\n",
      "Prediction: Q431583\n",
      "Skyline: False\n",
      "{'Q431583': 0.364, 'Q370456': 0.148, 'Q969730': 0.133, 'Q107011': 0.13, 'Q1149193': 0.12, 'Q715865': 0.105, 'Q26914': 0.0}\n",
      "Accuracy 10: False\n",
      "\n"
     ]
    },
    {
     "name": "stderr",
     "output_type": "stream",
     "text": [
      "                                                                                                \r"
     ]
    },
    {
     "data": {
      "application/vnd.jupyter.widget-view+json": {
       "model_id": "80af59743c024af4b0aa1c48546fdd15",
       "version_major": 2,
       "version_minor": 0
      },
      "text/plain": [
       "  0%|          | 0/1 [00:00<?, ?it/s]"
      ]
     },
     "metadata": {},
     "output_type": "display_data"
    },
    {
     "name": "stdout",
     "output_type": "stream",
     "text": [
      "Head: BLAYE ou BLAIE\n",
      "Gold: Q202562\n",
      "Prediction: Q1251125\n",
      "Skyline: False\n",
      "{'Q1251125': 0.198, 'Q805483': 0.188, 'Q1115946': 0.184, 'Q998521': 0.161, 'Q3242156': 0.153, 'Q997314': 0.115, 'Q2927973': 0.0}\n",
      "Accuracy 10: False\n",
      "\n"
     ]
    },
    {
     "name": "stderr",
     "output_type": "stream",
     "text": [
      "                                                                                                \r"
     ]
    },
    {
     "data": {
      "application/vnd.jupyter.widget-view+json": {
       "model_id": "cca49b620cea4a198f314a251e2ce35b",
       "version_major": 2,
       "version_minor": 0
      },
      "text/plain": [
       "  0%|          | 0/1 [00:00<?, ?it/s]"
      ]
     },
     "metadata": {},
     "output_type": "display_data"
    },
    {
     "name": "stdout",
     "output_type": "stream",
     "text": [
      "Head: BLESNEAU\n",
      "Gold: Q228682\n",
      "Prediction: Q228682\n",
      "Skyline: True\n",
      "{'Q578176': 0.205, 'Q1085877': 0.133, 'Q726523': 0.133, 'Q228682': 0.114, 'Q881062': 0.002, 'Q3404671': 0.0}\n",
      "Accuracy 10: True\n",
      "\n"
     ]
    },
    {
     "name": "stderr",
     "output_type": "stream",
     "text": [
      "                                                                                                \r"
     ]
    },
    {
     "data": {
      "application/vnd.jupyter.widget-view+json": {
       "model_id": "bf39051902124ed1a4d64e6fa41dad1f",
       "version_major": 2,
       "version_minor": 0
      },
      "text/plain": [
       "  0%|          | 0/1 [00:00<?, ?it/s]"
      ]
     },
     "metadata": {},
     "output_type": "display_data"
    },
    {
     "name": "stdout",
     "output_type": "stream",
     "text": [
      "Head: BLOIS\n",
      "Gold: Q160927\n",
      "Prediction: Q160927\n",
      "Skyline: True\n",
      "{'Q160927': 0.44, 'Q683059': 0.134, 'Q11680243': 0.131, 'Q1033537': 0.125, 'Q2273271': 0.106, 'Q707110': 0.064, 'Q70232': 0.0}\n"
     ]
    }
   ],
   "source": [
    "sample = VILLESFR\n",
    "verbose = True\n",
    "\n",
    "for i, row in sample.iterrows():\n",
    "    resolved = geoparser.run_sentence(row['fullcontent'],\n",
    "                                      HEAD = row['head'])\n",
    "    \n",
    "    sample['resolved'] = resolved[0]\n",
    "    \n",
    "    skyline = row['gold'] in resolved[0]['cross_cand_score'].keys()\n",
    "    sample['skyline'] = skyline\n",
    "    \n",
    "    bestPred = resolved[0]['prediction']\n",
    "    sample['bestPred'] = bestPred\n",
    "    if verbose:\n",
    "        print(f\"Head: {row['head']}\")\n",
    "        print(f\"Gold: {row['gold']}\")\n",
    "        print(f\"Prediction: {bestPred}\")\n",
    "        print(f\"Skyline: {skyline}\")\n",
    "        print(resolved[0]['cross_cand_score'])\n",
    "\n",
    "    if bestPred[0] != 'Q':\n",
    "        acc10 = False\n",
    "        sample['acc10'] = acc10\n",
    "\n",
    "    else :\n",
    "        wd_pred = WikidataObject.WikidataObject(bestPred, coordinates=resolved[0]['latlon'])\n",
    "        acc10 = wd_pred._distance_to(row['gold']) <= 10\n",
    "        sample['acc10'] = acc10\n",
    "\n",
    "    if verbose:\n",
    "        print(f\"Accuracy 10: {acc10}\")\n",
    "        print()\n",
    "\n",
    "    "
   ]
  }
 ],
 "metadata": {
  "kernelspec": {
   "display_name": "tres-turing",
   "language": "python",
   "name": "tres-turing"
  },
  "language_info": {
   "codemirror_mode": {
    "name": "ipython",
    "version": 3
   },
   "file_extension": ".py",
   "mimetype": "text/x-python",
   "name": "python",
   "nbconvert_exporter": "python",
   "pygments_lexer": "ipython3",
   "version": "3.9.7"
  },
  "orig_nbformat": 4
 },
 "nbformat": 4,
 "nbformat_minor": 2
}
